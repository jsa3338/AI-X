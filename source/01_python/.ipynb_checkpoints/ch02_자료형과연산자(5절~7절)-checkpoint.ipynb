{
 "cells": [
  {
   "cell_type": "code",
   "execution_count": 1,
   "id": "940bea65",
   "metadata": {},
   "outputs": [
    {
     "data": {
      "text/html": [
       "\n",
       "<style>\n",
       "div.container{width:86% !important;}\n",
       "div.cell.code_cell.rendered{width:100%;}\n",
       "div.CodeMirror {font-family:Consolas; font-size:12pt;}\n",
       "div.output {font-size:12pt; font-weight:bold;}\n",
       "div.input {font-family:Consolas; font-size:12pt;}\n",
       "div.prompt {min-width:70px;}\n",
       "div#toc-wrapper{padding-top:120px;}\n",
       "div.text_cell_render ul li{font-size:12pt;padding:5px;}\n",
       "table.dataframe{font-size:12px;}\n",
       "</style>\n"
      ],
      "text/plain": [
       "<IPython.core.display.HTML object>"
      ]
     },
     "metadata": {},
     "output_type": "display_data"
    }
   ],
   "source": [
    "from IPython.display import display, HTML\n",
    "display(HTML(\"\"\"\n",
    "<style>\n",
    "div.container{width:86% !important;}\n",
    "div.cell.code_cell.rendered{width:100%;}\n",
    "div.CodeMirror {font-family:Consolas; font-size:12pt;}\n",
    "div.output {font-size:12pt; font-weight:bold;}\n",
    "div.input {font-family:Consolas; font-size:12pt;}\n",
    "div.prompt {min-width:70px;}\n",
    "div#toc-wrapper{padding-top:120px;}\n",
    "div.text_cell_render ul li{font-size:12pt;padding:5px;}\n",
    "table.dataframe{font-size:12px;}\n",
    "</style>\n",
    "\"\"\"))"
   ]
  },
  {
   "cell_type": "markdown",
   "id": "0e001ba4",
   "metadata": {},
   "source": [
    "<font size=\"5\" color=\"red\">ch02_자료형과 연산자</font>\n",
    "\n",
    "# 5절. 연산자\n",
    "## 5.1 산술연산자 : +, -, *, /, //(몫), %(나머지), **(제곱)"
   ]
  },
  {
   "cell_type": "code",
   "execution_count": 4,
   "id": "34ffeffd",
   "metadata": {},
   "outputs": [
    {
     "name": "stdout",
     "output_type": "stream",
     "text": [
      "10의 5승 = 100000\n",
      "4/2(결과 실수) : 2.0\n",
      "4//2(몫) : 2\n",
      "4%2(나머지) : 0\n"
     ]
    }
   ],
   "source": [
    "print('10의 5승 =', 10**5)\n",
    "print('4/2(결과 실수) :', 4/2)\n",
    "print('4//2(몫) :', 4//2)\n",
    "print('4%2(나머지) :', 4%2)"
   ]
  },
  {
   "cell_type": "code",
   "execution_count": 8,
   "id": "c6e85466",
   "metadata": {},
   "outputs": [
    {
     "name": "stdout",
     "output_type": "stream",
     "text": [
      "정수를 입력하세요 : 9129486918274\n",
      "입력한 정수는 짝수입니다\n"
     ]
    }
   ],
   "source": [
    "# 퀴즈 1.. 정수를 입력받아 짝수인지 홀수인지\n",
    "a = int(input(\"정수를 입력하세요 : \"))\n",
    "\n",
    "if a%2 == 0:\n",
    "    print(\"입력한 정수는 짝수입니다\")\n",
    "else :\n",
    "    print(\"입력한 정수는 홀수입니다\")\n",
    "\n"
   ]
  },
  {
   "cell_type": "code",
   "execution_count": 11,
   "id": "be06e809",
   "metadata": {},
   "outputs": [
    {
     "name": "stdout",
     "output_type": "stream",
     "text": [
      "정수를 입력하세요 :12\n",
      "입력하신 수는 12, 2로 나눈 나머지는 0. 그래서 짝수를 입력하셨군요\n"
     ]
    }
   ],
   "source": [
    "# 퀴즈 1.. 정수를 입력받아 짝수인지 홀수인지 (선생님 답안)\n",
    "num = int(input('정수를 입력하세요 :'))\n",
    "result = num%2\n",
    "\n",
    "if result:  # \n",
    "    print(\"입력하신 수는 {}, 2로 나눈 나머지는 {}. 그래서 홀수를 입력하셨군요\".format(num, result))\n",
    "else:\n",
    "    print(\"입력하신 수는 {}, 2로 나눈 나머지는 {}. 그래서 짝수를 입력하셨군요\".format(num, result))"
   ]
  },
  {
   "cell_type": "code",
   "execution_count": 14,
   "id": "eb1af716",
   "metadata": {},
   "outputs": [
    {
     "name": "stdout",
     "output_type": "stream",
     "text": [
      "정수를 입력하세요 : 10\n",
      "입력하신 정수는 5의 배수가 맞습니다\n"
     ]
    }
   ],
   "source": [
    "# 퀴즈 2. 정수를 입력받아 5의 배수인지 여부를 출력\n",
    "\n",
    "f = int(input(\"정수를 입력하세요 : \"))\n",
    "result = f%5\n",
    "\n",
    "if result:\n",
    "    temp = \"5의 배수가 아닙니다\"\n",
    "else :\n",
    "    temp = \"5의 배수가 맞습니다\"\n",
    "    \n",
    "print(f\"입력하신 정수는 {temp}\")"
   ]
  },
  {
   "cell_type": "code",
   "execution_count": 43,
   "id": "c8832097",
   "metadata": {},
   "outputs": [
    {
     "name": "stdout",
     "output_type": "stream",
     "text": [
      "국어 점수를 입력하세요 : 99\n",
      "영어 점수를 입력하세요 : 89\n",
      "수학 점수를 입력하세요 : 89\n"
     ]
    }
   ],
   "source": [
    "# 퀴즈 3. 국영수 접수를 입력 받아 총점, 평균을 입력하라\n",
    "\n",
    "lan = int(input(\"국어 점수를 입력하세요 : \"))\n",
    "eng = int(input(\"영어 점수를 입력하세요 : \"))\n",
    "mat = int(input(\"수학 점수를 입력하세요 : \"))\n",
    "\n",
    "sum_ = lan + eng + mat\n",
    "avg_ = sum_/3"
   ]
  },
  {
   "cell_type": "code",
   "execution_count": 44,
   "id": "54795c5b",
   "metadata": {},
   "outputs": [
    {
     "name": "stdout",
     "output_type": "stream",
     "text": [
      "국어: 99 \t 영어: 89 \t 수학: 89 \n",
      "총점:277 \t 평균: 92.3\n"
     ]
    }
   ],
   "source": [
    "print(\"국어:{:3d} \\t 영어:{:3d} \\t 수학:{:3d} \\n\\\n",
    "총점:{:3d} \\t 평균:{:5.1f}\".format(lan, eng, mat, sum_,avg_))"
   ]
  },
  {
   "cell_type": "markdown",
   "id": "d9854610",
   "metadata": {},
   "source": [
    "## 5.2 할당연산자 : =, +=, -+, *=, /=, //=, %/"
   ]
  },
  {
   "cell_type": "code",
   "execution_count": 52,
   "id": "d0349546",
   "metadata": {},
   "outputs": [
    {
     "name": "stdout",
     "output_type": "stream",
     "text": [
      "5더하기 : 15\n"
     ]
    }
   ],
   "source": [
    "a = 10\n",
    "a += 5  # a = a +5\n",
    "print('5더하기 :', a)"
   ]
  },
  {
   "cell_type": "code",
   "execution_count": 53,
   "id": "3f406c2a",
   "metadata": {},
   "outputs": [
    {
     "name": "stdout",
     "output_type": "stream",
     "text": [
      "5빼기 : 10\n"
     ]
    }
   ],
   "source": [
    "a -= 5 # a = a - 5\n",
    "print('5빼기 :', a)"
   ]
  },
  {
   "cell_type": "markdown",
   "id": "760fcd2a",
   "metadata": {},
   "source": [
    "## 5.3 논리 연산자 :    &, and        |, or,       not"
   ]
  },
  {
   "cell_type": "code",
   "execution_count": 58,
   "id": "8a0f88c8",
   "metadata": {},
   "outputs": [
    {
     "name": "stdout",
     "output_type": "stream",
     "text": [
      "True\n",
      "0\n"
     ]
    }
   ],
   "source": [
    "# & 논리연산자, 비트연산자\n",
    "print( (10>3) & (10>5))  # 논리연산 True & True\n",
    "print(12 & 1)   # 양쪽이 숫자라면 '비트연산'으로 된다\n",
    "# 비트연산 12 : 0000 1100\n",
    "#          1 : 0000 0001\n",
    "#     12 & 1 : 0000 0000   / 각 자리마다 대조하여 &논리연산"
   ]
  },
  {
   "cell_type": "code",
   "execution_count": 69,
   "id": "20b84551",
   "metadata": {},
   "outputs": [
    {
     "name": "stdout",
     "output_type": "stream",
     "text": [
      "True\n",
      "False\n",
      "3\n",
      "False\n",
      "0\n",
      "0\n",
      "{}\n"
     ]
    }
   ],
   "source": [
    "# and 논리연산자 : 거짓(False)로 판별되는 첫번째 항의 결과 반환, 비트연산을 하지 않음\n",
    "#                 모든 항이 참이면 마지막 항을 반환\n",
    "print(True and True and True)\n",
    "print(False and True and True)\n",
    "print(True and 1 and 3)\n",
    "print(False and 1 and 3)\n",
    "print(True and 1 and 0)\n",
    "print(True and 0 and 'abc')\n",
    "print(True and {} and 1)"
   ]
  },
  {
   "cell_type": "code",
   "execution_count": 74,
   "id": "f0f0a36f",
   "metadata": {},
   "outputs": [
    {
     "name": "stdout",
     "output_type": "stream",
     "text": [
      "논리연산(연산자 앞뒤에 논리형일 때) : True\n",
      "비트연산(연산자 앞이나 뒤에 숫자일 때) : 3\n"
     ]
    }
   ],
   "source": [
    "# | : 논리연산, 비트연산\n",
    "result = False | True\n",
    "print('논리연산(연산자 앞뒤에 논리형일 때) :', result)\n",
    "result = False | 3  # False == 0  == 0000 0000\n",
    "                    #          3  == 0000 0011\n",
    "print('비트연산(연산자 앞이나 뒤에 숫자일 때) :', result)"
   ]
  },
  {
   "cell_type": "code",
   "execution_count": 76,
   "id": "67530a95",
   "metadata": {},
   "outputs": [
    {
     "name": "stdout",
     "output_type": "stream",
     "text": [
      "True\n",
      "a\n",
      "hong\n"
     ]
    }
   ],
   "source": [
    "# or : 논리연산, 참으로 판별되는 첫번째 항을 반환\n",
    "#      모든 항이 거짓이면, 마지막 항을 반환\n",
    "print(False or True or True)\n",
    "print(False or False or 'a')\n",
    "print('hong' or ' ' or False)"
   ]
  },
  {
   "cell_type": "code",
   "execution_count": 77,
   "id": "33722c3b",
   "metadata": {},
   "outputs": [
    {
     "name": "stdout",
     "output_type": "stream",
     "text": [
      "False\n"
     ]
    }
   ],
   "source": [
    "# not\n",
    "print(not(True))"
   ]
  },
  {
   "cell_type": "markdown",
   "id": "3faccb3d",
   "metadata": {},
   "source": [
    "## 5.4 비교 연산자 : >, >=, <, <=, ==, !=(다르다)"
   ]
  },
  {
   "cell_type": "code",
   "execution_count": 83,
   "id": "915d9350",
   "metadata": {},
   "outputs": [
    {
     "name": "stdout",
     "output_type": "stream",
     "text": [
      "True\n",
      "True\n",
      "False\n"
     ]
    }
   ],
   "source": [
    "# 비교연산자는 이항, 상항, 사항 ... 다항연산자\n",
    "x= 5\n",
    "print(4< x < 10) #파이썬에서만 가능\n",
    "print((4<x) & (x<10))  #일반적인 다른 언어"
   ]
  },
  {
   "cell_type": "code",
   "execution_count": 86,
   "id": "bf391872",
   "metadata": {},
   "outputs": [
    {
     "name": "stdout",
     "output_type": "stream",
     "text": [
      "True\n",
      "False\n"
     ]
    }
   ],
   "source": [
    "# 비교연산자(<)의 우선순위가 논리연산자(&)의 우선순위보다 낮다\n",
    "print((10>5) & (10>7))\n",
    "print(10>5 & 10>7)\n",
    "#   10 : 0000 1010\n",
    "#    5 : 0000 0101\n",
    "# 10&5 : 0000 0000"
   ]
  },
  {
   "cell_type": "code",
   "execution_count": 91,
   "id": "4d42a3f8",
   "metadata": {},
   "outputs": [
    {
     "name": "stdout",
     "output_type": "stream",
     "text": [
      "False\n",
      "False\n"
     ]
    }
   ],
   "source": [
    "address = '서울'\n",
    "age = 29\n",
    "# print( address == '서울' & age >=30 )  에러 발생 - 논리연산자(&)의 우선순위가 더 높아\n",
    "print( (address == '서울') & (age >=30) )\n",
    "print( (address != '서울') & (age >=30) )"
   ]
  },
  {
   "cell_type": "code",
   "execution_count": 94,
   "id": "ff1f5149",
   "metadata": {},
   "outputs": [
    {
     "name": "stdout",
     "output_type": "stream",
     "text": [
      "True\n",
      "True\n",
      "False\n"
     ]
    }
   ],
   "source": [
    "# 문자 비교 : ASCII 코드 순으로 비교 가능  : 특수문자 < 숫자 < 대문자 < 소문자\n",
    "print('scott' < 'tiger')   # 첫번째 글자부터 비교, 첫글자 같으면 두번째...\n",
    "print('9' > '10') \n",
    "print('김길동무' > '홍길동')"
   ]
  },
  {
   "cell_type": "markdown",
   "id": "44bd25f7",
   "metadata": {},
   "source": [
    "## 5.5 비트연산자 : &, |, ^(XOR, 익스클로시브 오어), ~"
   ]
  },
  {
   "cell_type": "code",
   "execution_count": null,
   "id": "84c0a0ff",
   "metadata": {},
   "outputs": [],
   "source": [
    "x  y   x&y  x^y\n",
    "0  0    0    0\n",
    "0  1    0    1\n",
    "1  0    0    1\n",
    "1  1    1    0"
   ]
  },
  {
   "cell_type": "code",
   "execution_count": 97,
   "id": "d8bbb0f6",
   "metadata": {},
   "outputs": [
    {
     "name": "stdout",
     "output_type": "stream",
     "text": [
      "a = 15 : 1111\n",
      "b =  2 : 0010\n",
      "a^b = 13 : 1101\n"
     ]
    }
   ],
   "source": [
    "a = 15  # 1111\n",
    "b = 2   # 0010\n",
    "print(\"a = {0:2} : {0:04b}\".format(a))\n",
    "print(\"b = {0:2} : {0:04b}\".format(b))\n",
    "print(\"a^b = {0:2} : {0:04b}\".format(a^b))"
   ]
  },
  {
   "cell_type": "markdown",
   "id": "4480555b",
   "metadata": {},
   "source": [
    "- 연산자\n",
    "    - 산술연산 : + - / // % **\n",
    "    - 할당연산 : = += -= *= /= //= %=\n",
    "    - 비교연산 : == >= > <= < !=\n",
    "    - 논리연산 : & | and or not\n",
    "    - 비트연산 : & | ^\n",
    "    - &와 |는 비교연산자보다 우선순위가 높다"
   ]
  },
  {
   "cell_type": "code",
   "execution_count": 105,
   "id": "4d8d9a49",
   "metadata": {},
   "outputs": [
    {
     "name": "stdout",
     "output_type": "stream",
     "text": [
      "점수를 입력하세요: 88\n",
      "입력:88 -> 출력:B\n"
     ]
    }
   ],
   "source": [
    "score = int(input(\"점수를 입력하세요: \"))\n",
    "if score >= 90 :\n",
    "    grade = \"A\"\n",
    "elif score >= 80:\n",
    "    grade = \"B\"\n",
    "elif score >= 70:\n",
    "    grade = \"C\"\n",
    "elif score >= 60:\n",
    "    grade = \"D\"\n",
    "else:\n",
    "    grade = \"F\"\n",
    "print('입력:{} -> 출력:{}'.format(score,grade))"
   ]
  },
  {
   "cell_type": "markdown",
   "id": "e8777962",
   "metadata": {},
   "source": [
    "# 6절. 문자열 다루기\n",
    "- 문자열 슬라이싱 : 변수[from:stop:step]\n",
    "- len(문자열변수) : 문자개수 반환\n",
    "\n",
    "- upper() : 대문자로 \n",
    "- lower() : 소문자로\n",
    "- title() : 각 어절의 첫글자만 대문자로\n",
    "- capitalize() : 첫문자만 대문자로 (영어만?)\n",
    "- count('찾을문자열') : '찾을문자열'이 몇개 들어있는지 개수 반환 \n",
    "- find('찾을문자열') :  '찾을문자열'의 인덱스를 반환, 왼쪽부터\n",
    "- rfind('찾을문자열') :  '찾을문자열'의 인덱스를 반환, 오른쪽부터\n",
    "    **찾을 문자열이 없으면 -1을 반환**\n",
    "   cf) index('찾을문자열') : '찾을문자열'의 인덱스를 반환. 없으면 오류가 뜸. 그래서 잘 안쓴다.\n",
    "- startswith('특정문자열') : 특정문자열로 시작하는지 여부 (True/false)\n",
    "- endswith('특정문자열') : 특정문자열로 끝나는지 여부 (True/false)\n",
    "- **strip() : 좌우 공백 제거**\n",
    "- rstrip() : 우 공백 제거\n",
    "- lstrip() : 좌 공백 제거\n",
    "- isdigit() : 문자열이 숫자문자열인지 여부(True/False) \"100\" \n",
    "- islower() : 소문자 문자열인지 여부\n",
    "- isupper() : 대문자 문자열인지 여부\n",
    "- replace(oldstr, newstr) : oldstr을 newstr로 변경"
   ]
  },
  {
   "cell_type": "code",
   "execution_count": 133,
   "id": "e6b23b49",
   "metadata": {},
   "outputs": [
    {
     "name": "stdout",
     "output_type": "stream",
     "text": [
      "1. 글자수 : 39\n",
      "2. 대문자로 : PYTHON IS EASY. PYTHON IS SMART. PYTHON\n",
      "3. 소문자로 : python is easy. python is smart. python\n",
      "4. title : Python Is Easy. Python Is Smart. Python\n",
      "5. capitalize : Python is easy. python is smart. python\n",
      "6. python 몇번나오는지 : 2\n",
      "7-1. python 대소문자 몇번나오는지 : 3\n",
      "7-2. python 대소문자 몇번나오는지 : 3\n",
      "7-3. python 대소문자 몇번나오는지 : 3\n",
      "8-1. python이 나오는 첫 index 위치 : 0\n",
      "8-2. python이 나오는 마지막 index 위치 : 33\n",
      "8-2. java 나오는 마지막 index 위치 : -1\n"
     ]
    }
   ],
   "source": [
    "temp = \"python is easy. pYThon is smart. python\"\n",
    "print('1. 글자수 :', len(temp))\n",
    "print('2. 대문자로 :', temp.upper())\n",
    "print('3. 소문자로 :', temp.lower())\n",
    "print('4. title :', temp.title())\n",
    "print('5. capitalize :', temp.capitalize())\n",
    "print('6. python 몇번나오는지 :', temp.count('python'))\n",
    "print('7-1. python 대소문자 몇번나오는지 :', temp.lower().count('python'))\n",
    "print('7-2. python 대소문자 몇번나오는지 :', temp.upper().count('PYTHON'))\n",
    "print('7-3. python 대소문자 몇번나오는지 :', temp.title().count('Python'))\n",
    "print('8-1. python이 나오는 첫 index 위치 :', temp.find('python'))\n",
    "print('8-2. python이 나오는 마지막 index 위치 :', temp.rfind('python'))\n",
    "print('8-2. java 나오는 마지막 index 위치 :', temp.rfind('java'))"
   ]
  },
  {
   "cell_type": "code",
   "execution_count": 108,
   "id": "0ba0886e",
   "metadata": {},
   "outputs": [
    {
     "data": {
      "text/plain": [
       "'PYTHON IS EASY. PYTHON IS SMART. PHYHON.'"
      ]
     },
     "execution_count": 108,
     "metadata": {},
     "output_type": "execute_result"
    }
   ],
   "source": [
    "temp.upper()"
   ]
  },
  {
   "cell_type": "code",
   "execution_count": 162,
   "id": "7ca91b43",
   "metadata": {},
   "outputs": [
    {
     "name": "stdout",
     "output_type": "stream",
     "text": [
      "이메일 주소를 넣어주세요   PHYHON\n"
     ]
    }
   ],
   "source": [
    "email = input(\"이메일 주소를 넣어주세요   \")"
   ]
  },
  {
   "cell_type": "code",
   "execution_count": 163,
   "id": "7348184d",
   "metadata": {},
   "outputs": [
    {
     "name": "stdout",
     "output_type": "stream",
     "text": [
      "잘못된 이메일입니다.\n"
     ]
    }
   ],
   "source": [
    "if (email.find('@') == -1) or (not email.endswith('.com')) :\n",
    "    result = \"잘못된\"\n",
    "else:\n",
    "    result = \"올바른\"\n",
    "print(f\"{result} 이메일입니다.\")"
   ]
  },
  {
   "cell_type": "code",
   "execution_count": 160,
   "id": "feb9ecfe",
   "metadata": {},
   "outputs": [
    {
     "name": "stdout",
     "output_type": "stream",
     "text": [
      "11. 좌우공백제거 : [python is easy.]\n",
      "11-1. 좌공백제거 : [python is easy.       ]\n",
      "11-2. 우공백제거 : [       python is easy.]\n",
      "12. 숫자문자열인지 : False\n",
      "13-1. 소문자열인지 : True\n",
      "13-2. 대문자열인지 : False\n",
      "14. ,(콤마) 제거 : 1000000\n"
     ]
    }
   ],
   "source": [
    "temp = '       python is easy.       '\n",
    "notdigit = '1,000,000'\n",
    "num_str = '1000'\n",
    "print('11. 좌우공백제거 : [{}]'.format(temp.strip()))\n",
    "print('11-1. 좌공백제거 : [{}]'.format(temp.lstrip()))\n",
    "print('11-2. 우공백제거 : [{}]'.format(temp.rstrip()))\n",
    "print('12. 숫자문자열인지 :', notdigit.isdigit())\n",
    "print('13-1. 소문자열인지 :', temp.islower())\n",
    "print('13-2. 대문자열인지 :', temp.isupper())\n",
    "print('14. ,(콤마) 제거 :', notdigit.replace(',',''))"
   ]
  },
  {
   "cell_type": "code",
   "execution_count": 174,
   "id": "9275d730",
   "metadata": {},
   "outputs": [
    {
     "name": "stdout",
     "output_type": "stream",
     "text": [
      "Space 단위로 temp를 분리 : ['홍길동', '김길동', '신길동', '유길동']\n"
     ]
    }
   ],
   "source": [
    "# 문자열 나누기\n",
    "temp = ' 홍길동   김길동  신길동   유길동'\n",
    "print('Space 단위로 temp를 분리 :', temp.split())   # 기본이 space 단위로 분리, 리스트로 반환"
   ]
  },
  {
   "cell_type": "code",
   "execution_count": 176,
   "id": "405675da",
   "metadata": {},
   "outputs": [
    {
     "name": "stdout",
     "output_type": "stream",
     "text": [
      "['2025', '04', '10']\n",
      "년 : 2025\n",
      "월 : 04\n",
      "일 : 10\n"
     ]
    }
   ],
   "source": [
    "date = '2025-04-10'\n",
    "date_list = date.split('-')\n",
    "print(date_list)\n",
    "print('년 :', date_list[0])\n",
    "print('월 :', date_list[1])\n",
    "print('일 :', date_list[2])"
   ]
  },
  {
   "cell_type": "code",
   "execution_count": 181,
   "id": "a2db1f7c",
   "metadata": {},
   "outputs": [
    {
     "name": "stdout",
     "output_type": "stream",
     "text": [
      "Python - HTML/CSS - JavaScript - DBMS\n",
      "['Python', 'HTML/CSS', 'JavaScript', 'DBMS']\n",
      "join된 데이터 : Python/HTML/CSS/JavaScript/DBMS\n"
     ]
    }
   ],
   "source": [
    "# '-'을 '/'로 바꾸기\n",
    "temp = 'Python - HTML/CSS - JavaScript - DBMS'\n",
    "print(temp)\n",
    "split_temp = temp.split(' - ')\n",
    "print(split_temp)\n",
    "joined_temp = '/'.join(split_temp)  # join할 대상이 리스트가 아니라면 에러\n",
    "print('join된 데이터 :', joined_temp)"
   ]
  },
  {
   "cell_type": "code",
   "execution_count": 184,
   "id": "5d1c2423",
   "metadata": {},
   "outputs": [],
   "source": [
    "str_ = 'ABC'\n",
    "# str_ = ['A','B','C'] 문자는 입력시에 이런 것 처럼 등록된다. 엄밀히 리스트는 아님\n",
    "# 문자열이 다룰 수 있는 함수들과 변수들 목록\n",
    "# dir(str)  / dir(int)"
   ]
  },
  {
   "cell_type": "markdown",
   "id": "545ae958",
   "metadata": {},
   "source": [
    "# 7절. 날짜, 시간, 날짜시간 다루기"
   ]
  },
  {
   "cell_type": "code",
   "execution_count": 235,
   "id": "7c7f79c6",
   "metadata": {},
   "outputs": [],
   "source": [
    "from datetime import datetime\n",
    "tomorrow = datetime.date"
   ]
  },
  {
   "cell_type": "code",
   "execution_count": null,
   "id": "d38faad8",
   "metadata": {},
   "outputs": [],
   "source": []
  },
  {
   "cell_type": "code",
   "execution_count": null,
   "id": "747ced1c",
   "metadata": {},
   "outputs": [],
   "source": []
  },
  {
   "cell_type": "code",
   "execution_count": null,
   "id": "ecd005af",
   "metadata": {},
   "outputs": [],
   "source": []
  },
  {
   "cell_type": "markdown",
   "id": "ef93c392",
   "metadata": {},
   "source": [
    "# 8절. 연습문제"
   ]
  },
  {
   "cell_type": "code",
   "execution_count": 189,
   "id": "36484e02",
   "metadata": {},
   "outputs": [
    {
     "name": "stdout",
     "output_type": "stream",
     "text": [
      "홍길동님의 나이는 23입니다\n"
     ]
    }
   ],
   "source": [
    "# 1.이름과 나이 변수를 다음 형식으로 출력하도록 format() 함수를 이용해 형식화하세요\n",
    "# [출력형식 : 홍길동님의 나이는 23 살입니다]\n",
    "name = \"홍길동\"\n",
    "age = '23'\n",
    "\n",
    "print(\"{}님의 나이는 {}입니다\".format(name, age))"
   ]
  },
  {
   "cell_type": "code",
   "execution_count": 198,
   "id": "17dcf1bf",
   "metadata": {},
   "outputs": [
    {
     "name": "stdout",
     "output_type": "stream",
     "text": [
      "첫번째 정수를 입력하세요10\n",
      "두번째 정수를 입력하세요2\n",
      "덧셈 : 12\t뺄셈 : 8\t곱셈 : 20\n",
      "나눗셈 : 5.0\t몫 : 5\t나머지 : 0\n"
     ]
    }
   ],
   "source": [
    "# 2.두 정수를 입력받아 두 수의 덧셈 , 뺄셈 , 곱셈 , 나눗셈 , 몫 , 나머지를 출력하세요\n",
    "int_1 = int(input(\"첫번째 정수를 입력하세요\"))\n",
    "int_2 = int(input(\"두번째 정수를 입력하세요\"))\n",
    "print(f'덧셈 : {int_1+int_2}\\t뺄셈 : {int_1-int_2}\\t곱셈 : {int_1*int_2}')\n",
    "print(f'나눗셈 : {int_1/int_2}\\t몫 : {int_1//int_2}\\t나머지 : {int_1%int_2}')"
   ]
  },
  {
   "cell_type": "code",
   "execution_count": 209,
   "id": "4002a88b",
   "metadata": {},
   "outputs": [
    {
     "name": "stdout",
     "output_type": "stream",
     "text": [
      "World Hello\n",
      "World Hello\n"
     ]
    }
   ],
   "source": [
    "# 3. 자열의 분리하기와 합치기 기능을 이용하여 ‘Hello World'가 할당된 변수를 이용하여 ‘World Hello'로 출력하세요\n",
    "str_ = 'Hello World'\n",
    "split_str = str_.split(' ')\n",
    "joined_str1 = split_str[1]+' '+split_str[0]\n",
    "joined_str2 = ' '.join(split_str[::-1])\n",
    "print(joined_str1)\n",
    "print(joined_str2)"
   ]
  },
  {
   "cell_type": "code",
   "execution_count": 212,
   "id": "7418f34f",
   "metadata": {},
   "outputs": [
    {
     "name": "stdout",
     "output_type": "stream",
     "text": [
      "bcdefa\n"
     ]
    }
   ],
   "source": [
    "# 4. x = ' abcdef ＇를 이용하여 bcdefa 로 출력하세요 문자 슬라이싱이용\n",
    "x = 'abcdef'\n",
    "x1 = x[1:6]\n",
    "x2 = x[0]\n",
    "print(x1+x2)"
   ]
  },
  {
   "cell_type": "code",
   "execution_count": 215,
   "id": "805efa88",
   "metadata": {},
   "outputs": [
    {
     "name": "stdout",
     "output_type": "stream",
     "text": [
      "fedcba\n"
     ]
    }
   ],
   "source": [
    "# 5. x = ‘ abcdef 를 이용하여 fedcba 로 출력하세요\n",
    "x = 'abcdef'\n",
    "print(x[::-1])"
   ]
  },
  {
   "cell_type": "code",
   "execution_count": 223,
   "id": "001d3ea0",
   "metadata": {},
   "outputs": [
    {
     "name": "stdout",
     "output_type": "stream",
     "text": [
      "오늘의 온도(섭씨) : 5\n",
      "오늘의 온도(화씨) : 41 \n"
     ]
    }
   ],
   "source": [
    "''' 6. 오늘의 온도를 섭씨온도로 입력받아 화씨 온도로 변환하는 프로그램을 작성하세요 . 화\n",
    "씨 온도는 소수점이 있을 경우만 두번째 자리까지 출력되고 , 소수점이하 값이 없는 경\n",
    "우 소수점을 출력하지 않도록 합니다 다음은 섭씨와 화씨의 변환 공식입니다 . C 는 섭씨 ,\n",
    "F 는 화씨\n",
    "C = (F-32) / 1.8\n",
    "F = (C*1.8) + 32\n",
    "'''\n",
    "\n",
    "c = int(input(\"오늘의 온도(섭씨) : \"))\n",
    "f = (c*1.8)+32\n",
    "\n",
    "if f.is_integer():\n",
    "    \n",
    "    print(\"오늘의 온도(화씨) : {:<3d}\".format(int(f)))\n",
    "else :\n",
    "    print(\"오늘의 온도(화씨) : {:<5.2f}\".format(f))\n",
    "\n"
   ]
  },
  {
   "cell_type": "code",
   "execution_count": 224,
   "id": "e77cbf38",
   "metadata": {},
   "outputs": [],
   "source": [
    "#\n",
    "'''7. 다음 중 변수 선언으로 잘못된 것을 모두 고르시오\n",
    "①for\n",
    "②10th\n",
    "③Student.name\n",
    "④_1234\n",
    "'''\n",
    "\n",
    "정답 1,2,3,4"
   ]
  },
  {
   "cell_type": "code",
   "execution_count": null,
   "id": "0d9b5525",
   "metadata": {},
   "outputs": [],
   "source": [
    "# 8.다음의 코드의 실행결과는\n",
    "SeounSeoul\n",
    "Seou, n, Seoul"
   ]
  },
  {
   "cell_type": "code",
   "execution_count": null,
   "id": "05bbe987",
   "metadata": {},
   "outputs": [],
   "source": [
    "# 9.다음 중 파이썬 3.x 버전에서 연산식과 그 결과의 출력이 잘못된 것은\n",
    "2번"
   ]
  },
  {
   "cell_type": "code",
   "execution_count": 1,
   "id": "09ed165b",
   "metadata": {},
   "outputs": [],
   "source": [
    "# 10. 아래 프로그램의 결과는\n",
    "# 에러 발생 - int 와 str 의 연산 불가\n"
   ]
  },
  {
   "cell_type": "code",
   "execution_count": 231,
   "id": "9f20fad5",
   "metadata": {},
   "outputs": [
    {
     "name": "stdout",
     "output_type": "stream",
     "text": [
      "나라\n"
     ]
    }
   ],
   "source": [
    "# 11. split() 함수를 이용하여 str_ 의 값 중 나라 를 출력하는 프로그램을 완성하시오\n",
    "str_ = \"우리 나라 대한 민국\"\n",
    "splited = str_.split()\n",
    "print(splited[1])"
   ]
  },
  {
   "cell_type": "code",
   "execution_count": null,
   "id": "0fead7a1",
   "metadata": {},
   "outputs": [],
   "source": []
  }
 ],
 "metadata": {
  "kernelspec": {
   "display_name": "Python 3 (ipykernel)",
   "language": "python",
   "name": "python3"
  },
  "language_info": {
   "codemirror_mode": {
    "name": "ipython",
    "version": 3
   },
   "file_extension": ".py",
   "mimetype": "text/x-python",
   "name": "python",
   "nbconvert_exporter": "python",
   "pygments_lexer": "ipython3",
   "version": "3.10.9"
  },
  "toc": {
   "base_numbering": 1,
   "nav_menu": {},
   "number_sections": false,
   "sideBar": true,
   "skip_h1_title": false,
   "title_cell": "Table of Contents",
   "title_sidebar": "Contents",
   "toc_cell": false,
   "toc_position": {
    "height": "calc(100% - 180px)",
    "left": "10px",
    "top": "150px",
    "width": "231.594px"
   },
   "toc_section_display": true,
   "toc_window_display": true
  }
 },
 "nbformat": 4,
 "nbformat_minor": 5
}
