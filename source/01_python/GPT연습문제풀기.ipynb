{
 "cells": [
  {
   "cell_type": "code",
   "execution_count": 1,
   "id": "00738dfa",
   "metadata": {},
   "outputs": [
    {
     "data": {
      "text/html": [
       "\n",
       "<style>\n",
       "div.container{width:86% !important;}\n",
       "div.cell.code_cell.rendered{width:100%;}\n",
       "div.CodeMirror {font-family:Consolas; font-size:12pt;}\n",
       "div.output {font-size:12pt; font-weight:bold;}\n",
       "div.input {font-family:Consolas; font-size:12pt;}\n",
       "div.prompt {min-width:70px;}\n",
       "div#toc-wrapper{padding-top:120px;}\n",
       "div.text_cell_render ul li{font-size:12pt;padding:5px;}\n",
       "table.dataframe{font-size:12px;}\n",
       "</style>\n"
      ],
      "text/plain": [
       "<IPython.core.display.HTML object>"
      ]
     },
     "metadata": {},
     "output_type": "display_data"
    }
   ],
   "source": [
    "from IPython.display import display, HTML\n",
    "display(HTML(\"\"\"\n",
    "<style>\n",
    "div.container{width:86% !important;}\n",
    "div.cell.code_cell.rendered{width:100%;}\n",
    "div.CodeMirror {font-family:Consolas; font-size:12pt;}\n",
    "div.output {font-size:12pt; font-weight:bold;}\n",
    "div.input {font-family:Consolas; font-size:12pt;}\n",
    "div.prompt {min-width:70px;}\n",
    "div#toc-wrapper{padding-top:120px;}\n",
    "div.text_cell_render ul li{font-size:12pt;padding:5px;}\n",
    "table.dataframe{font-size:12px;}\n",
    "</style>\n",
    "\"\"\"))"
   ]
  },
  {
   "cell_type": "code",
   "execution_count": 7,
   "id": "88712cc0",
   "metadata": {},
   "outputs": [
    {
     "name": "stdout",
     "output_type": "stream",
     "text": [
      "숫자를 입력하세요 : 50\n",
      "숫자를 입력하세요 : 50\n",
      "숫자를 입력하세요 : 20\n",
      "숫자를 입력하세요 : 10\n",
      "[50, 50, 20, 10]\n",
      "평균은 32.5입니다.\n"
     ]
    }
   ],
   "source": [
    "# 1. 리스트 평균 구하기\n",
    "# 사용자로부터 숫자를 입력받아 리스트에 저장하고, 그 평균을 구하는 프로그램을 작성하세요.\n",
    "\n",
    "\n",
    "int_1 = int(input('숫자를 입력하세요 : '))\n",
    "int_2 = int(input('숫자를 입력하세요 : '))\n",
    "int_3 = int(input('숫자를 입력하세요 : '))\n",
    "int_4 = int(input('숫자를 입력하세요 : '))\n",
    "list = [int_1, int_2, int_3, int_4]\n",
    "\n",
    "\n",
    "print(list)\n",
    "avg_list = sum(list)/len(list)\n",
    "print(f'평균은 {avg_list}입니다.')\n"
   ]
  },
  {
   "cell_type": "code",
   "execution_count": 14,
   "id": "db5f9cbb",
   "metadata": {},
   "outputs": [
    {
     "name": "stdout",
     "output_type": "stream",
     "text": [
      "1번째 숫자를 입력하세요 : 10\n",
      "2번째 숫자를 입력하세요 : 20\n",
      "3번째 숫자를 입력하세요 : 30\n",
      "4번째 숫자를 입력하세요 : 40\n",
      "입력한 수 :  [10, 20, 30, 40]\n",
      "평균은 25.0입니다\n"
     ]
    }
   ],
   "source": [
    "list = []\n",
    "for i in range(4):\n",
    "    a = int(input(f'{i+1}번째 숫자를 입력하세요 : '))\n",
    "    list.append(a)\n",
    "sum_ = sum(list)\n",
    "avg_ = sum_/len(list)\n",
    "print('입력한 수 : ', list)\n",
    "print(f'평균은 {avg_}입니다')"
   ]
  },
  {
   "cell_type": "code",
   "execution_count": 16,
   "id": "1414563c",
   "metadata": {},
   "outputs": [
    {
     "name": "stdout",
     "output_type": "stream",
     "text": [
      "입력한 수 :  [10, 20, 30, 40]\n"
     ]
    },
    {
     "ename": "TypeError",
     "evalue": "'module' object is not callable",
     "output_type": "error",
     "traceback": [
      "\u001b[1;31m---------------------------------------------------------------------------\u001b[0m",
      "\u001b[1;31mTypeError\u001b[0m                                 Traceback (most recent call last)",
      "Cell \u001b[1;32mIn[16], line 3\u001b[0m\n\u001b[0;32m      1\u001b[0m \u001b[38;5;28mprint\u001b[39m(\u001b[38;5;124m'\u001b[39m\u001b[38;5;124m입력한 수 : \u001b[39m\u001b[38;5;124m'\u001b[39m, \u001b[38;5;28mlist\u001b[39m)\n\u001b[0;32m      2\u001b[0m \u001b[38;5;28;01mimport\u001b[39;00m \u001b[38;5;21;01msafe_index\u001b[39;00m\n\u001b[1;32m----> 3\u001b[0m \u001b[43msafe_index\u001b[49m\u001b[43m(\u001b[49m\u001b[38;5;28;43mlist\u001b[39;49m\u001b[43m,\u001b[49m\u001b[43m \u001b[49m\u001b[38;5;241;43m10\u001b[39;49m\u001b[43m)\u001b[49m\n",
      "\u001b[1;31mTypeError\u001b[0m: 'module' object is not callable"
     ]
    }
   ],
   "source": [
    "print('입력한 수 : ', list)\n",
    "import safe_index\n",
    "safe_index(list, 10)"
   ]
  },
  {
   "cell_type": "code",
   "execution_count": 17,
   "id": "eb97b66f",
   "metadata": {},
   "outputs": [
    {
     "data": {
      "text/plain": [
       "'banana'"
      ]
     },
     "execution_count": 17,
     "metadata": {},
     "output_type": "execute_result"
    }
   ],
   "source": [
    "fruits = ('apple', 'banana', 'cherry')\n",
    "\n",
    "fruits[1]"
   ]
  },
  {
   "cell_type": "code",
   "execution_count": 29,
   "id": "e6009215",
   "metadata": {},
   "outputs": [
    {
     "data": {
      "text/plain": [
       "240"
      ]
     },
     "execution_count": 29,
     "metadata": {},
     "output_type": "execute_result"
    }
   ],
   "source": [
    "score = {'철수': 80, '영희': 90, '민수': 70}\n",
    "\n",
    "sum(score.values())/len(score)\n",
    "\n",
    "\n",
    "\n",
    "#[(sum(i)/len(score)) for i in score.values()]"
   ]
  },
  {
   "cell_type": "code",
   "execution_count": 36,
   "id": "ef82a3a7",
   "metadata": {},
   "outputs": [
    {
     "name": "stdout",
     "output_type": "stream",
     "text": [
      "입력할 숫자 개수를 입력하세요 : 4\n",
      "1번째 숫자를 입력하세요 : 2\n",
      "2번째 숫자를 입력하세요 : 100\n",
      "3번째 숫자를 입력하세요 : 99\n",
      "4번째 숫자를 입력하세요 : 50\n",
      "최대값 : 100 최소값 : 2\n"
     ]
    }
   ],
   "source": [
    "#  4. 최댓값/최솟값 구하기 (리스트 사용)\n",
    "# 사용자로부터 숫자 여러 개를 입력받아 리스트로 저장하고, 그 중 최댓값과 최솟값을 출력하세요.\n",
    "\n",
    "count = int(input(\"입력할 숫자 개수를 입력하세요 : \"))\n",
    "lst = [int(input(f\"{i+1}번째 숫자를 입력하세요 : \")) for i in range(count)]\n",
    "\n",
    "print('최대값 :', max(lst), '최소값 :', min(lst))\n",
    "\n",
    "\n"
   ]
  },
  {
   "cell_type": "code",
   "execution_count": 38,
   "id": "345bfd3d",
   "metadata": {},
   "outputs": [
    {
     "data": {
      "text/plain": [
       "{'apple', 'banana', 'orange'}"
      ]
     },
     "execution_count": 38,
     "metadata": {},
     "output_type": "execute_result"
    }
   ],
   "source": [
    "# 5. 중복 제거 (세트 사용)\n",
    "# 문장에서 중복된 단어를 제거하고, 유일한 단어만 출력하세요.\n",
    "sentence = \"apple banana apple orange banana\"\n",
    "splited = sentence.split()\n",
    "set(splited)"
   ]
  },
  {
   "cell_type": "code",
   "execution_count": 61,
   "id": "ee31adb4",
   "metadata": {},
   "outputs": [],
   "source": [
    "# 6. 딕셔너리 정렬하기\n",
    "# 다음 딕셔너리를 점수 기준으로 내림차순 정렬하여 출력하세요.\n",
    "scores = {'철수': 85, '영희': 92, '민수': 78}\n"
   ]
  },
  {
   "cell_type": "code",
   "execution_count": 63,
   "id": "b5c48a8f",
   "metadata": {},
   "outputs": [
    {
     "data": {
      "text/plain": [
       "[('영희', 92), ('철수', 85), ('민수', 78)]"
      ]
     },
     "execution_count": 63,
     "metadata": {},
     "output_type": "execute_result"
    }
   ],
   "source": [
    "sorted(scores.items(), key=lambda x:x[1], reverse=True)\n",
    "\n"
   ]
  },
  {
   "cell_type": "code",
   "execution_count": 64,
   "id": "5673f480",
   "metadata": {},
   "outputs": [],
   "source": [
    "students = {'철수': 85, '영희': 92, '민수': 78}"
   ]
  },
  {
   "cell_type": "code",
   "execution_count": 66,
   "id": "6f5b11c7",
   "metadata": {},
   "outputs": [
    {
     "name": "stdout",
     "output_type": "stream",
     "text": [
      "철수 : 85 -> B\n",
      "영희 : 92 -> A\n",
      "민수 : 78 -> C\n"
     ]
    }
   ],
   "source": [
    "for name, score in students.items():\n",
    "    if score >= 90:\n",
    "        grade = \"A\"\n",
    "    elif score >= 80:\n",
    "        grade = \"B\"\n",
    "    elif score >= 70:\n",
    "        grade = \"C\"\n",
    "    else:\n",
    "        grade = \"F\"\n",
    "    print(f'{name} : {score} -> {grade}')\n",
    "    "
   ]
  },
  {
   "cell_type": "code",
   "execution_count": 81,
   "id": "7303fa59",
   "metadata": {},
   "outputs": [
    {
     "name": "stdout",
     "output_type": "stream",
     "text": [
      "{'apple': 3, 'banana': 2, 'orange': 1}\n"
     ]
    }
   ],
   "source": [
    "sentence = \"apple banana apple orange banana apple\"\n",
    "\n",
    "split = sentence.split()\n",
    "set_s = set(split)\n",
    "my_dic= {}\n",
    "\n",
    "for word in set(split):\n",
    "    my_dic[word] = split.count(word)\n",
    "\n",
    "print(my_dic)\n",
    "\n",
    "#    print('{} : {}'.format(word, split.count(word), ends='\\t'))"
   ]
  },
  {
   "cell_type": "code",
   "execution_count": 85,
   "id": "35d56eb3",
   "metadata": {},
   "outputs": [
    {
     "name": "stdout",
     "output_type": "stream",
     "text": [
      "{'apple': 3, 'banana': 2, 'orange': 1}\n"
     ]
    }
   ],
   "source": [
    "from collections import Counter\n",
    "print(dict(Counter(split)))\n"
   ]
  },
  {
   "cell_type": "code",
   "execution_count": 87,
   "id": "60a9e7d7",
   "metadata": {},
   "outputs": [
    {
     "name": "stdout",
     "output_type": "stream",
     "text": [
      "두 사람이 모두 좋아하는 과일 :  {'banana', 'apple'}\n",
      "한 명이라도 좋아하는 과일 :  {'kiwi', 'banana', 'apple', 'orange'}\n",
      "철수만 좋아하는 과일 :  {'orange'}\n"
     ]
    }
   ],
   "source": [
    "chulsoo = {'apple', 'banana', 'orange'}\n",
    "younghee = {'banana', 'kiwi', 'apple'}\n",
    "print(\"두 사람이 모두 좋아하는 과일 : \", chulsoo& younghee)\n",
    "print(\"한 명이라도 좋아하는 과일 : \", chulsoo|younghee)\n",
    "print(\"철수만 좋아하는 과일 : \", chulsoo-younghee)"
   ]
  },
  {
   "cell_type": "code",
   "execution_count": 8,
   "id": "4ba7ef09",
   "metadata": {},
   "outputs": [
    {
     "name": "stdout",
     "output_type": "stream",
     "text": [
      "이름을 입력하세요 : 진성\n",
      "전화번호를 입력하세요 : 010-2222-3333\n",
      "이름을 입력하세요 : 성진\n",
      "전화번호를 입력하세요 : 010-3333-2222\n",
      "이름을 입력하세요 : q\n",
      "\n",
      "연락처 목록:\n",
      "성진 : 010-3333-2222\n",
      "진성 : 010-2222-3333\n"
     ]
    }
   ],
   "source": [
    "lst=[]\n",
    "i=0\n",
    "\n",
    "while i < 100:\n",
    "    i += 1\n",
    "    key = input(\"이름을 입력하세요 : \")\n",
    "    if key != 'q':\n",
    "        value = input(\"전화번호를 입력하세요 : \")\n",
    "        lst.append([key, value])\n",
    "    else:\n",
    "        break\n",
    "\n",
    "print('\\n연락처 목록:')\n",
    "for i, (key, value) in enumerate(sorted(lst)):\n",
    "    print(f'{key} : {value}')"
   ]
  },
  {
   "cell_type": "code",
   "execution_count": 12,
   "id": "21791197",
   "metadata": {},
   "outputs": [
    {
     "name": "stdout",
     "output_type": "stream",
     "text": [
      "이름을 입력하세요 : 진성\n",
      "전화번호를 입력하세요 : 010-9999-9999\n",
      "이름을 입력하세요 : 성진\n",
      "전화번호를 입력하세요 : 010-222-3333\n",
      "이름을 입력하세요 : q\n",
      "\n",
      "연락처 목록:\n",
      "성진 : 010-222-3333\n",
      "진성 : 010-9999-9999\n"
     ]
    }
   ],
   "source": [
    "contacts = {}\n",
    "\n",
    "while True:\n",
    "    key = input('이름을 입력하세요 : ')\n",
    "    if key =='q':\n",
    "        break\n",
    "    value = input('전화번호를 입력하세요 : ')\n",
    "    contacts[key] = value\n",
    "\n",
    "print('\\n연락처 목록:')\n",
    "for key in sorted(contacts):\n",
    "    print(f'{key} : {contacts[key]}')\n",
    "        \n",
    "\n"
   ]
  },
  {
   "cell_type": "code",
   "execution_count": 11,
   "id": "7f899cfe",
   "metadata": {},
   "outputs": [
    {
     "data": {
      "text/plain": [
       "{'진성': '010-9999-9999', '성진': '010-222-3333'}"
      ]
     },
     "execution_count": 11,
     "metadata": {},
     "output_type": "execute_result"
    }
   ],
   "source": [
    "contacts"
   ]
  },
  {
   "cell_type": "code",
   "execution_count": null,
   "id": "6b5a16d8",
   "metadata": {},
   "outputs": [],
   "source": [
    "1. 구구단 출력기\n",
    "사용자에게 숫자(2~9)를 입력받아서 해당 단의 구구단을 출력하시오.\n",
    "\n",
    "예) 입력: 3\n",
    "출력:\n",
    "3 x 1 = 3\n",
    "3 x 2 = 6\n",
    "...\n",
    "3 x 9 = 27"
   ]
  },
  {
   "cell_type": "code",
   "execution_count": 17,
   "id": "9dcc970e",
   "metadata": {},
   "outputs": [
    {
     "name": "stdout",
     "output_type": "stream",
     "text": [
      "입력: 3\n",
      "출력: \n",
      "3 x 1 = 3\n",
      "3 x 2 = 6\n",
      "3 x 3 = 9\n",
      "3 x 4 = 12\n",
      "3 x 5 = 15\n",
      "3 x 6 = 18\n",
      "3 x 7 = 21\n",
      "3 x 8 = 24\n",
      "3 x 9 = 27\n"
     ]
    }
   ],
   "source": [
    "gugu = int(input(\"입력: \"))\n",
    "print('출력: ')\n",
    "for i in range(1,10):\n",
    "    print('{} x {} = {}'.format(gugu, i, gugu*i))"
   ]
  },
  {
   "cell_type": "code",
   "execution_count": null,
   "id": "cadd418f",
   "metadata": {},
   "outputs": [],
   "source": [
    "2. 1부터 N까지 홀수/짝수의 합 구하기\n",
    "사용자에게 정수 N을 입력받고, 1부터 N까지의 홀수 합과 짝수 합을 각각 출력하시오.\n",
    "\n",
    "예) 입력: 10\n",
    "출력:\n",
    "홀수 합: 25\n",
    "짝수 합: 30"
   ]
  },
  {
   "cell_type": "code",
   "execution_count": 18,
   "id": "366f729c",
   "metadata": {},
   "outputs": [
    {
     "name": "stdout",
     "output_type": "stream",
     "text": [
      "입력: 10\n",
      "출력: \n",
      "홀수 합 25\n",
      "짝수 합 30\n"
     ]
    }
   ],
   "source": [
    "n = int(input(\"입력: \"))\n",
    "hol = 0\n",
    "jak = 0\n",
    "print('출력: ')\n",
    "\n",
    "# for i in range(1, n+1):\n",
    "#     if i%2:\n",
    "#         hol+=i\n",
    "#     else:\n",
    "#         jak+=i\n",
    "\n",
    "hol_sum = sum\n",
    "\n",
    "\n",
    "print('홀수 합', hol)\n",
    "print('짝수 합', jak)"
   ]
  },
  {
   "cell_type": "code",
   "execution_count": null,
   "id": "428aace5",
   "metadata": {},
   "outputs": [
    {
     "name": "stdout",
     "output_type": "stream",
     "text": [
      "1P차례 : 1~100 사이의 숫자를 맞춰보세요50\n",
      "UP\n"
     ]
    }
   ],
   "source": [
    "# 숫자 맞추기(1~100) 1대 1 대전 게임 프로그래밍! 먼저 맞추는 사람이 승리\n",
    "# 범위 내 숫자를 쓰지 않으면 다른 사람 턴으로 이동\n",
    "import random\n",
    "\n",
    "min_ = 1\n",
    "max_ = 100\n",
    "turn = 1\n",
    "num = random.randint(1,100)\n",
    "\n",
    "if turn%2:\n",
    "    player = 1\n",
    "else:\n",
    "    player = 2\n",
    "\n",
    "while True:\n",
    "    try:\n",
    "        guess = int(input(f'{player}P차례 : {min_}~{max_} 사이의 숫자를 맞춰보세요'))\n",
    "    except ValueError:\n",
    "        print(\"숫자를 입력해야합니다. 다음 턴으로 넘어갑니다\")\n",
    "        continue\n",
    "        \n",
    "    if guess>max_ or guess<min_:\n",
    "        print('땡! 범위 초과! 다음 사람 차례로 갑니다')\n",
    "        turn +=1\n",
    "        continue\n",
    "        \n",
    "    if num == guess:\n",
    "        print(f'{player}P의 승리입니다! 축하축하')\n",
    "        break\n",
    "    elif num > guess:\n",
    "        print('UP')\n",
    "        turn +=1\n",
    "    else:\n",
    "        print('DOWN')\n",
    "        turn +=1\n"
   ]
  },
  {
   "cell_type": "code",
   "execution_count": null,
   "id": "b5ceba42",
   "metadata": {},
   "outputs": [],
   "source": []
  },
  {
   "cell_type": "code",
   "execution_count": null,
   "id": "4139e91e",
   "metadata": {},
   "outputs": [],
   "source": []
  },
  {
   "cell_type": "code",
   "execution_count": null,
   "id": "e0d25a8a",
   "metadata": {},
   "outputs": [],
   "source": []
  }
 ],
 "metadata": {
  "kernelspec": {
   "display_name": "Python 3 (ipykernel)",
   "language": "python",
   "name": "python3"
  },
  "language_info": {
   "codemirror_mode": {
    "name": "ipython",
    "version": 3
   },
   "file_extension": ".py",
   "mimetype": "text/x-python",
   "name": "python",
   "nbconvert_exporter": "python",
   "pygments_lexer": "ipython3",
   "version": "3.10.9"
  },
  "toc": {
   "base_numbering": 1,
   "nav_menu": {},
   "number_sections": false,
   "sideBar": true,
   "skip_h1_title": false,
   "title_cell": "Table of Contents",
   "title_sidebar": "Contents",
   "toc_cell": false,
   "toc_position": {},
   "toc_section_display": true,
   "toc_window_display": false
  }
 },
 "nbformat": 4,
 "nbformat_minor": 5
}
