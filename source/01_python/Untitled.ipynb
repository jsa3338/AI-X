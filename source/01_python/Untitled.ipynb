{
 "cells": [
  {
   "cell_type": "code",
   "execution_count": 57,
   "id": "e7a6f093",
   "metadata": {},
   "outputs": [
    {
     "data": {
      "text/plain": [
       "'r'"
      ]
     },
     "execution_count": 57,
     "metadata": {},
     "output_type": "execute_result"
    }
   ],
   "source": [
    "my_string = 'Program29b8UYP'\n",
    "overwrite_string = 'merS123'\n",
    "\n",
    "my_string[4]"
   ]
  },
  {
   "cell_type": "code",
   "execution_count": 6,
   "id": "568f8634",
   "metadata": {},
   "outputs": [
    {
     "data": {
      "text/plain": [
       "'HelloWorl'"
      ]
     },
     "execution_count": 6,
     "metadata": {},
     "output_type": "execute_result"
    }
   ],
   "source": [
    "answer = str(a)[:s] + str(b)\n",
    "answer"
   ]
  },
  {
   "cell_type": "code",
   "execution_count": 10,
   "id": "42da401f",
   "metadata": {},
   "outputs": [],
   "source": [
    "answer = str(a)[:s] +str(b) + str(a)[len(b)-len(a)-s:]"
   ]
  },
  {
   "cell_type": "code",
   "execution_count": 11,
   "id": "a31c087f",
   "metadata": {},
   "outputs": [
    {
     "data": {
      "text/plain": [
       "'HelloWorlWor1d'"
      ]
     },
     "execution_count": 11,
     "metadata": {},
     "output_type": "execute_result"
    }
   ],
   "source": [
    "answer"
   ]
  },
  {
   "cell_type": "code",
   "execution_count": 60,
   "id": "dd69cf92",
   "metadata": {},
   "outputs": [
    {
     "data": {
      "text/plain": [
       "'ProgrammerS123'"
      ]
     },
     "execution_count": 60,
     "metadata": {},
     "output_type": "execute_result"
    }
   ],
   "source": [
    "s=7\n",
    "# if len(my_string)-s <= len(overwrite_string):\n",
    "#     answer = str(my_string)[:s] + str(overwrite_string)\n",
    "# else:\n",
    "answer = str(my_string)[:s] +str(overwrite_string) + str(my_string)[len(overwrite_string)+s:]\n",
    "answer"
   ]
  },
  {
   "cell_type": "code",
   "execution_count": 61,
   "id": "a0ad7728",
   "metadata": {},
   "outputs": [
    {
     "data": {
      "text/plain": [
       "(14, 7, 14)"
      ]
     },
     "execution_count": 61,
     "metadata": {},
     "output_type": "execute_result"
    }
   ],
   "source": [
    "len(my_string), len(overwrite_string), len(answer)"
   ]
  },
  {
   "cell_type": "code",
   "execution_count": null,
   "id": "3f385ed0",
   "metadata": {},
   "outputs": [],
   "source": []
  }
 ],
 "metadata": {
  "kernelspec": {
   "display_name": "Python 3 (ipykernel)",
   "language": "python",
   "name": "python3"
  },
  "language_info": {
   "codemirror_mode": {
    "name": "ipython",
    "version": 3
   },
   "file_extension": ".py",
   "mimetype": "text/x-python",
   "name": "python",
   "nbconvert_exporter": "python",
   "pygments_lexer": "ipython3",
   "version": "3.10.9"
  },
  "toc": {
   "base_numbering": 1,
   "nav_menu": {},
   "number_sections": false,
   "sideBar": true,
   "skip_h1_title": false,
   "title_cell": "Table of Contents",
   "title_sidebar": "Contents",
   "toc_cell": false,
   "toc_position": {},
   "toc_section_display": true,
   "toc_window_display": false
  }
 },
 "nbformat": 4,
 "nbformat_minor": 5
}
