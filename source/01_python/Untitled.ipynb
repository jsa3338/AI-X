{
 "cells": [
  {
   "cell_type": "code",
   "execution_count": 1,
   "id": "b6a1e5a3",
   "metadata": {},
   "outputs": [
    {
     "name": "stdout",
     "output_type": "stream",
     "text": [
      "🎮 원의 넓이 맞히기 게임 시작!\n",
      "\n",
      "🌀 반지름 r = 1\n",
      "넓이는 얼마일까요? (소수점 2자리까지): 3.14\n",
      "✅ 정답! 거의 완벽해요!\n",
      "다시 할래요? (y/n): y\n",
      "\n",
      "🌀 반지름 r = 15\n",
      "넓이는 얼마일까요? (소수점 2자리까지): 4.71\n",
      "❌ 아쉽! 정답은 706.86였어요. (차이: 702.15)\n",
      "다시 할래요? (y/n): n\n",
      "👋 게임 끝! 수고했어~\n"
     ]
    }
   ],
   "source": [
    "import numpy as np\n",
    "\n",
    "def start_circle_area_game():\n",
    "    print(\"🎮 원의 넓이 맞히기 게임 시작!\")\n",
    "    while True:\n",
    "        r = np.random.randint(1, 21)  # 1부터 20까지 랜덤 반지름\n",
    "        correct_area = round(np.pi * (r ** 2), 2)\n",
    "\n",
    "        print(f\"\\n🌀 반지름 r = {r}\")\n",
    "        guess = input(\"넓이는 얼마일까요? (소수점 2자리까지): \")\n",
    "\n",
    "        try:\n",
    "            guess = float(guess)\n",
    "            diff = abs(guess - correct_area)\n",
    "            if diff < 0.5:\n",
    "                print(\"✅ 정답! 거의 완벽해요!\")\n",
    "            else:\n",
    "                print(f\"❌ 아쉽! 정답은 {correct_area}였어요. (차이: {diff:.2f})\")\n",
    "        except:\n",
    "            print(\"⚠️ 숫자로 입력해줘!\")\n",
    "\n",
    "        again = input(\"다시 할래요? (y/n): \")\n",
    "        if again.lower() != \"y\":\n",
    "            print(\"👋 게임 끝! 수고했어~\")\n",
    "            break\n",
    "\n",
    "# 실행\n",
    "start_circle_area_game()"
   ]
  },
  {
   "cell_type": "code",
   "execution_count": null,
   "id": "aa0250de",
   "metadata": {},
   "outputs": [],
   "source": []
  }
 ],
 "metadata": {
  "kernelspec": {
   "display_name": "Python 3 (ipykernel)",
   "language": "python",
   "name": "python3"
  },
  "language_info": {
   "codemirror_mode": {
    "name": "ipython",
    "version": 3
   },
   "file_extension": ".py",
   "mimetype": "text/x-python",
   "name": "python",
   "nbconvert_exporter": "python",
   "pygments_lexer": "ipython3",
   "version": "3.10.9"
  },
  "toc": {
   "base_numbering": 1,
   "nav_menu": {},
   "number_sections": false,
   "sideBar": true,
   "skip_h1_title": false,
   "title_cell": "Table of Contents",
   "title_sidebar": "Contents",
   "toc_cell": false,
   "toc_position": {},
   "toc_section_display": true,
   "toc_window_display": false
  }
 },
 "nbformat": 4,
 "nbformat_minor": 5
}
