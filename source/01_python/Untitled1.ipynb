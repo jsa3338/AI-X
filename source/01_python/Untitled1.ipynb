{
 "cells": [
  {
   "cell_type": "code",
   "execution_count": null,
   "id": "b6c23937",
   "metadata": {},
   "outputs": [],
   "source": [
    "import tkinter as tk\n",
    "import random\n",
    "\n",
    "# 플레이어 정보\n",
    "player = {\n",
    "    \"이름\": \"용사\",\n",
    "    \"체력\": 100,\n",
    "    \"공격력\": 20,\n",
    "    \"회복약\": 3,\n",
    "    \"레벨\": 1,\n",
    "    \"경험치\": 0\n",
    "}\n",
    "\n",
    "# 몬스터 생성 함수\n",
    "def spawn_monster():\n",
    "    return {\n",
    "        \"이름\": random.choice([\"고블린\", \"슬라임\", \"해골 전사\"]),\n",
    "        \"체력\": random.randint(30, 60),\n",
    "        \"공격력\": random.randint(5, 15)\n",
    "    }\n",
    "\n",
    "# 몬스터 초기화\n",
    "monster = spawn_monster()\n",
    "\n",
    "# 공격 버튼 동작\n",
    "def attack():\n",
    "    global monster\n",
    "    damage = random.randint(10, player[\"공격력\"])\n",
    "    monster[\"체력\"] -= damage\n",
    "    log(f\"{monster['이름']}에게 {damage}의 피해를 입힘!\")\n",
    "\n",
    "    if monster[\"체력\"] > 0:\n",
    "        monster_attack()\n",
    "    else:\n",
    "        log(f\"{monster['이름']}을(를) 처치했습니다!\")\n",
    "        exp = random.randint(10, 25)\n",
    "        player[\"경험치\"] += exp\n",
    "        log(f\"경험치 {exp} 획득!\")\n",
    "        if player[\"경험치\"] >= 50:\n",
    "            player[\"레벨\"] += 1\n",
    "            player[\"공격력\"] += 5\n",
    "            player[\"체력\"] = 100\n",
    "            player[\"경험치\"] = 0\n",
    "            log(f\"레벨업! 현재 레벨: {player['레벨']}\")\n",
    "        monster = spawn_monster()\n",
    "        log(f\"{monster['이름']}이(가) 나타났습니다!\")\n",
    "    update_status()\n",
    "\n",
    "# 회복 버튼 동작\n",
    "def heal():\n",
    "    if player[\"회복약\"] > 0:\n",
    "        player[\"체력\"] += 30\n",
    "        player[\"회복약\"] -= 1\n",
    "        log(\"체력을 30 회복했습니다!\")\n",
    "    else:\n",
    "        log(\"회복약이 없습니다!\")\n",
    "    monster_attack()\n",
    "    update_status()\n",
    "\n",
    "# 도망 버튼 동작\n",
    "def run():\n",
    "    global monster\n",
    "    log(\"도망쳤습니다!\")\n",
    "    monster = spawn_monster()\n",
    "    log(f\"{monster['이름']}이(가) 나타났습니다!\")\n",
    "    update_status()\n",
    "\n",
    "# 몬스터 반격\n",
    "def monster_attack():\n",
    "    damage = random.randint(5, monster[\"공격력\"])\n",
    "    player[\"체력\"] -= damage\n",
    "    log(f\"{monster['이름']}의 공격! {damage} 피해를 입었습니다.\")\n",
    "    if player[\"체력\"] <= 0:\n",
    "        log(\"게임 오버! 당신은 쓰러졌습니다.\")\n",
    "        disable_buttons()\n",
    "\n",
    "# 로그 출력\n",
    "def log(message):\n",
    "    text_log.insert(tk.END, message + \"\\n\")\n",
    "    text_log.see(tk.END)\n",
    "\n",
    "# 상태 업데이트\n",
    "def update_status():\n",
    "    lbl_status.config(text=f\"👤 {player['이름']} | 체력: {player['체력']} | 레벨: {player['레벨']} | 회복약: {player['회복약']}\\n\"\n",
    "                           f\"👾 {monster['이름']} | 체력: {monster['체력']}\")\n",
    "    \n",
    "# 버튼 비활성화\n",
    "def disable_buttons():\n",
    "    btn_attack.config(state=tk.DISABLED)\n",
    "    btn_heal.config(state=tk.DISABLED)\n",
    "    btn_run.config(state=tk.DISABLED)\n",
    "\n",
    "# GUI 만들기\n",
    "window = tk.Tk()\n",
    "window.title(\"파이썬 RPG 게임\")\n",
    "window.geometry(\"400x500\")\n",
    "\n",
    "lbl_status = tk.Label(window, text=\"\", justify=\"left\")\n",
    "lbl_status.pack(pady=10)\n",
    "\n",
    "btn_attack = tk.Button(window, text=\"⚔️ 공격\", command=attack, width=20)\n",
    "btn_attack.pack(pady=5)\n",
    "\n",
    "btn_heal = tk.Button(window, text=\"🧪 회복\", command=heal, width=20)\n",
    "btn_heal.pack(pady=5)\n",
    "\n",
    "btn_run = tk.Button(window, text=\"🏃 도망\", command=run, width=20)\n",
    "btn_run.pack(pady=5)\n",
    "\n",
    "text_log = tk.Text(window, height=20)\n",
    "text_log.pack(pady=10)\n",
    "\n",
    "log(f\"{monster['이름']}이(가) 나타났습니다!\")\n",
    "update_status()\n",
    "\n",
    "window.mainloop()\n"
   ]
  },
  {
   "cell_type": "code",
   "execution_count": 7,
   "id": "88712cc0",
   "metadata": {},
   "outputs": [
    {
     "name": "stdout",
     "output_type": "stream",
     "text": [
      "숫자를 입력하세요 : 50\n",
      "숫자를 입력하세요 : 50\n",
      "숫자를 입력하세요 : 20\n",
      "숫자를 입력하세요 : 10\n",
      "[50, 50, 20, 10]\n",
      "평균은 32.5입니다.\n"
     ]
    }
   ],
   "source": [
    "# 1. 리스트 평균 구하기\n",
    "# 사용자로부터 숫자를 입력받아 리스트에 저장하고, 그 평균을 구하는 프로그램을 작성하세요.\n",
    "\n",
    "\n",
    "int_1 = int(input('숫자를 입력하세요 : '))\n",
    "int_2 = int(input('숫자를 입력하세요 : '))\n",
    "int_3 = int(input('숫자를 입력하세요 : '))\n",
    "int_4 = int(input('숫자를 입력하세요 : '))\n",
    "list = [int_1, int_2, int_3, int_4]\n",
    "\n",
    "\n",
    "print(list)\n",
    "avg_list = sum(list)/len(list)\n",
    "print(f'평균은 {avg_list}입니다.')\n"
   ]
  },
  {
   "cell_type": "code",
   "execution_count": 14,
   "id": "db5f9cbb",
   "metadata": {},
   "outputs": [
    {
     "name": "stdout",
     "output_type": "stream",
     "text": [
      "1번째 숫자를 입력하세요 : 10\n",
      "2번째 숫자를 입력하세요 : 20\n",
      "3번째 숫자를 입력하세요 : 30\n",
      "4번째 숫자를 입력하세요 : 40\n",
      "입력한 수 :  [10, 20, 30, 40]\n",
      "평균은 25.0입니다\n"
     ]
    }
   ],
   "source": [
    "list = []\n",
    "for i in range(4):\n",
    "    a = int(input(f'{i+1}번째 숫자를 입력하세요 : '))\n",
    "    list.append(a)\n",
    "sum_ = sum(list)\n",
    "avg_ = sum_/len(list)\n",
    "print('입력한 수 : ', list)\n",
    "print(f'평균은 {avg_}입니다')"
   ]
  },
  {
   "cell_type": "code",
   "execution_count": 16,
   "id": "1414563c",
   "metadata": {},
   "outputs": [
    {
     "name": "stdout",
     "output_type": "stream",
     "text": [
      "입력한 수 :  [10, 20, 30, 40]\n"
     ]
    },
    {
     "ename": "TypeError",
     "evalue": "'module' object is not callable",
     "output_type": "error",
     "traceback": [
      "\u001b[1;31m---------------------------------------------------------------------------\u001b[0m",
      "\u001b[1;31mTypeError\u001b[0m                                 Traceback (most recent call last)",
      "Cell \u001b[1;32mIn[16], line 3\u001b[0m\n\u001b[0;32m      1\u001b[0m \u001b[38;5;28mprint\u001b[39m(\u001b[38;5;124m'\u001b[39m\u001b[38;5;124m입력한 수 : \u001b[39m\u001b[38;5;124m'\u001b[39m, \u001b[38;5;28mlist\u001b[39m)\n\u001b[0;32m      2\u001b[0m \u001b[38;5;28;01mimport\u001b[39;00m \u001b[38;5;21;01msafe_index\u001b[39;00m\n\u001b[1;32m----> 3\u001b[0m \u001b[43msafe_index\u001b[49m\u001b[43m(\u001b[49m\u001b[38;5;28;43mlist\u001b[39;49m\u001b[43m,\u001b[49m\u001b[43m \u001b[49m\u001b[38;5;241;43m10\u001b[39;49m\u001b[43m)\u001b[49m\n",
      "\u001b[1;31mTypeError\u001b[0m: 'module' object is not callable"
     ]
    }
   ],
   "source": [
    "print('입력한 수 : ', list)\n",
    "import safe_index\n",
    "safe_index(list, 10)"
   ]
  },
  {
   "cell_type": "code",
   "execution_count": 17,
   "id": "eb97b66f",
   "metadata": {},
   "outputs": [
    {
     "data": {
      "text/plain": [
       "'banana'"
      ]
     },
     "execution_count": 17,
     "metadata": {},
     "output_type": "execute_result"
    }
   ],
   "source": [
    "fruits = ('apple', 'banana', 'cherry')\n",
    "\n",
    "fruits[1]"
   ]
  },
  {
   "cell_type": "code",
   "execution_count": 29,
   "id": "e6009215",
   "metadata": {},
   "outputs": [
    {
     "data": {
      "text/plain": [
       "240"
      ]
     },
     "execution_count": 29,
     "metadata": {},
     "output_type": "execute_result"
    }
   ],
   "source": [
    "score = {'철수': 80, '영희': 90, '민수': 70}\n",
    "\n",
    "sum(score.values())/len(score)\n",
    "\n",
    "\n",
    "\n",
    "#[(sum(i)/len(score)) for i in score.values()]"
   ]
  },
  {
   "cell_type": "code",
   "execution_count": 36,
   "id": "ef82a3a7",
   "metadata": {},
   "outputs": [
    {
     "name": "stdout",
     "output_type": "stream",
     "text": [
      "입력할 숫자 개수를 입력하세요 : 4\n",
      "1번째 숫자를 입력하세요 : 2\n",
      "2번째 숫자를 입력하세요 : 100\n",
      "3번째 숫자를 입력하세요 : 99\n",
      "4번째 숫자를 입력하세요 : 50\n",
      "최대값 : 100 최소값 : 2\n"
     ]
    }
   ],
   "source": [
    "#  4. 최댓값/최솟값 구하기 (리스트 사용)\n",
    "# 사용자로부터 숫자 여러 개를 입력받아 리스트로 저장하고, 그 중 최댓값과 최솟값을 출력하세요.\n",
    "\n",
    "count = int(input(\"입력할 숫자 개수를 입력하세요 : \"))\n",
    "lst = [int(input(f\"{i+1}번째 숫자를 입력하세요 : \")) for i in range(count)]\n",
    "\n",
    "print('최대값 :', max(lst), '최소값 :', min(lst))\n",
    "\n",
    "\n"
   ]
  },
  {
   "cell_type": "code",
   "execution_count": 38,
   "id": "345bfd3d",
   "metadata": {},
   "outputs": [
    {
     "data": {
      "text/plain": [
       "{'apple', 'banana', 'orange'}"
      ]
     },
     "execution_count": 38,
     "metadata": {},
     "output_type": "execute_result"
    }
   ],
   "source": [
    "# 5. 중복 제거 (세트 사용)\n",
    "# 문장에서 중복된 단어를 제거하고, 유일한 단어만 출력하세요.\n",
    "sentence = \"apple banana apple orange banana\"\n",
    "splited = sentence.split()\n",
    "set(splited)"
   ]
  },
  {
   "cell_type": "code",
   "execution_count": 61,
   "id": "ee31adb4",
   "metadata": {},
   "outputs": [],
   "source": [
    "# 6. 딕셔너리 정렬하기\n",
    "# 다음 딕셔너리를 점수 기준으로 내림차순 정렬하여 출력하세요.\n",
    "scores = {'철수': 85, '영희': 92, '민수': 78}\n"
   ]
  },
  {
   "cell_type": "code",
   "execution_count": 63,
   "id": "b5c48a8f",
   "metadata": {},
   "outputs": [
    {
     "data": {
      "text/plain": [
       "[('영희', 92), ('철수', 85), ('민수', 78)]"
      ]
     },
     "execution_count": 63,
     "metadata": {},
     "output_type": "execute_result"
    }
   ],
   "source": [
    "sorted(scores.items(), key=lambda x:x[1], reverse=True)\n",
    "\n"
   ]
  },
  {
   "cell_type": "code",
   "execution_count": 64,
   "id": "5673f480",
   "metadata": {},
   "outputs": [],
   "source": [
    "students = {'철수': 85, '영희': 92, '민수': 78}"
   ]
  },
  {
   "cell_type": "code",
   "execution_count": 66,
   "id": "6f5b11c7",
   "metadata": {},
   "outputs": [
    {
     "name": "stdout",
     "output_type": "stream",
     "text": [
      "철수 : 85 -> B\n",
      "영희 : 92 -> A\n",
      "민수 : 78 -> C\n"
     ]
    }
   ],
   "source": [
    "for name, score in students.items():\n",
    "    if score >= 90:\n",
    "        grade = \"A\"\n",
    "    elif score >= 80:\n",
    "        grade = \"B\"\n",
    "    elif score >= 70:\n",
    "        grade = \"C\"\n",
    "    else:\n",
    "        grade = \"F\"\n",
    "    print(f'{name} : {score} -> {grade}')\n",
    "    "
   ]
  },
  {
   "cell_type": "code",
   "execution_count": 81,
   "id": "7303fa59",
   "metadata": {},
   "outputs": [
    {
     "name": "stdout",
     "output_type": "stream",
     "text": [
      "{'apple': 3, 'banana': 2, 'orange': 1}\n"
     ]
    }
   ],
   "source": [
    "sentence = \"apple banana apple orange banana apple\"\n",
    "\n",
    "split = sentence.split()\n",
    "set_s = set(split)\n",
    "my_dic= {}\n",
    "\n",
    "for word in set(split):\n",
    "    my_dic[word] = split.count(word)\n",
    "\n",
    "print(my_dic)\n",
    "\n",
    "#    print('{} : {}'.format(word, split.count(word), ends='\\t'))"
   ]
  },
  {
   "cell_type": "code",
   "execution_count": 85,
   "id": "35d56eb3",
   "metadata": {},
   "outputs": [
    {
     "name": "stdout",
     "output_type": "stream",
     "text": [
      "{'apple': 3, 'banana': 2, 'orange': 1}\n"
     ]
    }
   ],
   "source": [
    "from collections import Counter\n",
    "print(dict(Counter(split)))\n"
   ]
  },
  {
   "cell_type": "code",
   "execution_count": 87,
   "id": "60a9e7d7",
   "metadata": {},
   "outputs": [
    {
     "name": "stdout",
     "output_type": "stream",
     "text": [
      "두 사람이 모두 좋아하는 과일 :  {'banana', 'apple'}\n",
      "한 명이라도 좋아하는 과일 :  {'kiwi', 'banana', 'apple', 'orange'}\n",
      "철수만 좋아하는 과일 :  {'orange'}\n"
     ]
    }
   ],
   "source": [
    "chulsoo = {'apple', 'banana', 'orange'}\n",
    "younghee = {'banana', 'kiwi', 'apple'}\n",
    "print(\"두 사람이 모두 좋아하는 과일 : \", chulsoo& younghee)\n",
    "print(\"한 명이라도 좋아하는 과일 : \", chulsoo|younghee)\n",
    "print(\"철수만 좋아하는 과일 : \", chulsoo-younghee)"
   ]
  },
  {
   "cell_type": "code",
   "execution_count": null,
   "id": "4ba7ef09",
   "metadata": {},
   "outputs": [],
   "source": []
  }
 ],
 "metadata": {
  "kernelspec": {
   "display_name": "Python 3 (ipykernel)",
   "language": "python",
   "name": "python3"
  },
  "language_info": {
   "codemirror_mode": {
    "name": "ipython",
    "version": 3
   },
   "file_extension": ".py",
   "mimetype": "text/x-python",
   "name": "python",
   "nbconvert_exporter": "python",
   "pygments_lexer": "ipython3",
   "version": "3.10.9"
  },
  "toc": {
   "base_numbering": 1,
   "nav_menu": {},
   "number_sections": false,
   "sideBar": true,
   "skip_h1_title": false,
   "title_cell": "Table of Contents",
   "title_sidebar": "Contents",
   "toc_cell": false,
   "toc_position": {},
   "toc_section_display": true,
   "toc_window_display": false
  }
 },
 "nbformat": 4,
 "nbformat_minor": 5
}
