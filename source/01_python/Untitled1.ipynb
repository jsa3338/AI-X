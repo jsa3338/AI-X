{
 "cells": [
  {
   "cell_type": "code",
   "execution_count": 8,
   "id": "16cfe3b4",
   "metadata": {},
   "outputs": [
    {
     "data": {
      "text/plain": [
       "('42', '351')"
      ]
     },
     "execution_count": 8,
     "metadata": {},
     "output_type": "execute_result"
    }
   ],
   "source": [
    "num_list = [3, 4, 5, 2, 1]\n",
    "\n",
    "a = \"\".join([str(x) for x in num_list if int(x)%2==0])\n",
    "b = \"\".join([str(x) for x in num_list if int(x)%2==1])\n",
    "a,b"
   ]
  },
  {
   "cell_type": "code",
   "execution_count": 7,
   "id": "608c8349",
   "metadata": {},
   "outputs": [
    {
     "data": {
      "text/plain": [
       "['3', '4', '5', '2', '1']"
      ]
     },
     "execution_count": 7,
     "metadata": {},
     "output_type": "execute_result"
    }
   ],
   "source": [
    "[str(x) for x in num_list]"
   ]
  },
  {
   "cell_type": "code",
   "execution_count": 9,
   "id": "9fbded22",
   "metadata": {},
   "outputs": [
    {
     "data": {
      "text/plain": [
       "(3, 4, 5, 2)"
      ]
     },
     "execution_count": 9,
     "metadata": {},
     "output_type": "execute_result"
    }
   ],
   "source": [
    "x,y,w,z = [3, 4, 5, 2]\n",
    "x,y,w,z"
   ]
  },
  {
   "cell_type": "code",
   "execution_count": 13,
   "id": "290b8276",
   "metadata": {},
   "outputs": [
    {
     "data": {
      "text/plain": [
       "{'w': 1, 's': -1, 'd': 10, 'a': -10}"
      ]
     },
     "execution_count": 13,
     "metadata": {},
     "output_type": "execute_result"
    }
   ],
   "source": [
    "dict(zip(['w','s','d','a'], [1,-1,10,-10]))"
   ]
  },
  {
   "cell_type": "code",
   "execution_count": null,
   "id": "e86c16a4",
   "metadata": {},
   "outputs": [],
   "source": []
  }
 ],
 "metadata": {
  "kernelspec": {
   "display_name": "Python 3 (ipykernel)",
   "language": "python",
   "name": "python3"
  },
  "language_info": {
   "codemirror_mode": {
    "name": "ipython",
    "version": 3
   },
   "file_extension": ".py",
   "mimetype": "text/x-python",
   "name": "python",
   "nbconvert_exporter": "python",
   "pygments_lexer": "ipython3",
   "version": "3.10.9"
  },
  "toc": {
   "base_numbering": 1,
   "nav_menu": {},
   "number_sections": false,
   "sideBar": true,
   "skip_h1_title": false,
   "title_cell": "Table of Contents",
   "title_sidebar": "Contents",
   "toc_cell": false,
   "toc_position": {},
   "toc_section_display": true,
   "toc_window_display": false
  }
 },
 "nbformat": 4,
 "nbformat_minor": 5
}
