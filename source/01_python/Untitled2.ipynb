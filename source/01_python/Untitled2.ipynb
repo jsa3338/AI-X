{
 "cells": [
  {
   "cell_type": "code",
   "execution_count": 10,
   "id": "9c79d054",
   "metadata": {},
   "outputs": [
    {
     "ename": "ValueError",
     "evalue": "min() arg is an empty sequence",
     "output_type": "error",
     "traceback": [
      "\u001b[1;31m---------------------------------------------------------------------------\u001b[0m",
      "\u001b[1;31mValueError\u001b[0m                                Traceback (most recent call last)",
      "Cell \u001b[1;32mIn[10], line 1\u001b[0m\n\u001b[1;32m----> 1\u001b[0m \u001b[38;5;28;43mmin\u001b[39;49m\u001b[43m(\u001b[49m\u001b[43mx\u001b[49m\u001b[43m)\u001b[49m\n",
      "\u001b[1;31mValueError\u001b[0m: min() arg is an empty sequence"
     ]
    }
   ],
   "source": [
    "min(x)"
   ]
  },
  {
   "cell_type": "code",
   "execution_count": 9,
   "id": "b5b1b2b0",
   "metadata": {},
   "outputs": [],
   "source": [
    "numLog=[0, 1, 0, 10, 0, 1, 0, 10, 0, -1, -2, -1]\n",
    "numLog[i-len(numLog)]\n",
    "x=[]"
   ]
  },
  {
   "cell_type": "code",
   "execution_count": 6,
   "id": "26611c26",
   "metadata": {},
   "outputs": [
    {
     "data": {
      "text/plain": [
       "'wsdawsdassw'"
      ]
     },
     "execution_count": 6,
     "metadata": {},
     "output_type": "execute_result"
    }
   ],
   "source": [
    "\n",
    "answer = ''\n",
    "for i, num in enumerate(numLog):\n",
    "    if i== len(numLog)-1:\n",
    "        break\n",
    "    else:\n",
    "        temp = numLog[i]-numLog[i+1]\n",
    "        if temp== - 1:\n",
    "            answer += 'w'\n",
    "        elif temp== 1:\n",
    "            answer += 's'\n",
    "        elif temp== -10:\n",
    "            answer += 'd'\n",
    "        elif temp== 10:\n",
    "            answer += 'a'\n",
    "answer"
   ]
  },
  {
   "cell_type": "code",
   "execution_count": null,
   "id": "4c2d16cf",
   "metadata": {},
   "outputs": [],
   "source": []
  }
 ],
 "metadata": {
  "kernelspec": {
   "display_name": "Python 3 (ipykernel)",
   "language": "python",
   "name": "python3"
  },
  "language_info": {
   "codemirror_mode": {
    "name": "ipython",
    "version": 3
   },
   "file_extension": ".py",
   "mimetype": "text/x-python",
   "name": "python",
   "nbconvert_exporter": "python",
   "pygments_lexer": "ipython3",
   "version": "3.10.9"
  },
  "toc": {
   "base_numbering": 1,
   "nav_menu": {},
   "number_sections": false,
   "sideBar": true,
   "skip_h1_title": false,
   "title_cell": "Table of Contents",
   "title_sidebar": "Contents",
   "toc_cell": false,
   "toc_position": {},
   "toc_section_display": true,
   "toc_window_display": false
  }
 },
 "nbformat": 4,
 "nbformat_minor": 5
}
