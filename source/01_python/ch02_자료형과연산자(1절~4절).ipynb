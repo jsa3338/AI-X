{
 "cells": [
  {
   "cell_type": "code",
   "execution_count": 1,
   "id": "757e26e6",
   "metadata": {},
   "outputs": [
    {
     "data": {
      "text/html": [
       "\n",
       "<style>\n",
       "div.container{width:86% !important;}\n",
       "div.cell.code_cell.rendered{width:100%;}\n",
       "div.CodeMirror {font-family:Consolas; font-size:12pt;}\n",
       "div.output {font-size:12pt; font-weight:bold;}\n",
       "div.input {font-family:Consolas; font-size:12pt;}\n",
       "div.prompt {min-width:70px;}\n",
       "div#toc-wrapper{padding-top:120px;}\n",
       "div.text_cell_render ul li{font-size:12pt;padding:5px;}\n",
       "table.dataframe{font-size:12px;}\n",
       "</style>\n"
      ],
      "text/plain": [
       "<IPython.core.display.HTML object>"
      ]
     },
     "metadata": {},
     "output_type": "display_data"
    }
   ],
   "source": [
    "from IPython.display import display, HTML\n",
    "display(HTML(\"\"\"\n",
    "<style>\n",
    "div.container{width:86% !important;}\n",
    "div.cell.code_cell.rendered{width:100%;}\n",
    "div.CodeMirror {font-family:Consolas; font-size:12pt;}\n",
    "div.output {font-size:12pt; font-weight:bold;}\n",
    "div.input {font-family:Consolas; font-size:12pt;}\n",
    "div.prompt {min-width:70px;}\n",
    "div#toc-wrapper{padding-top:120px;}\n",
    "div.text_cell_render ul li{font-size:12pt;padding:5px;}\n",
    "table.dataframe{font-size:12px;}\n",
    "</style>\n",
    "\"\"\"))"
   ]
  },
  {
   "cell_type": "markdown",
   "id": "7b5786ec",
   "metadata": {},
   "source": [
    "<font size=\"5\" color=\"red\">ch02_자료형과 연산자</font>\n",
    "\n",
    "# 1절. 변수\n",
    "- 파이썬은 변수 선언이 필요 없음, 바로 할당 가능, 할당과 동시에 타입이 지정.\n",
    "\n",
    "## 1.1 변수할당\n",
    "- 할당연산자(=)를 이용해서 값을 할당하면 타입이 세팅\n",
    "- 파이썬에서의 모든 변수는 객체로 저장"
   ]
  },
  {
   "cell_type": "code",
   "execution_count": 2,
   "id": "448d5004",
   "metadata": {},
   "outputs": [
    {
     "name": "stdout",
     "output_type": "stream",
     "text": [
      "계산된 넓이는 78.5\n",
      "계산된 넓이는 78.5\n"
     ]
    }
   ],
   "source": [
    "r = 5\n",
    "area = r * r * 3.14\n",
    "print(\"계산된 넓이는 \" + str(area))\n",
    "print(\"계산된 넓이는\", area)"
   ]
  },
  {
   "cell_type": "code",
   "execution_count": 6,
   "id": "ba4b9172",
   "metadata": {},
   "outputs": [
    {
     "name": "stdout",
     "output_type": "stream",
     "text": [
      "pi = 3.141592653589793\n",
      "area =  78.53981633974483\n"
     ]
    }
   ],
   "source": [
    "import numpy as np #numpy라는 라이브러리를 불러온다, 별명은 np로 정한다\n",
    "area = np.pi * r*r\n",
    "print(\"pi =\", np.pi)\n",
    "print('area = ', area)"
   ]
  },
  {
   "cell_type": "code",
   "execution_count": 7,
   "id": "3f6327aa",
   "metadata": {},
   "outputs": [
    {
     "data": {
      "text/plain": [
       "False"
      ]
     },
     "execution_count": 7,
     "metadata": {},
     "output_type": "execute_result"
    }
   ],
   "source": [
    "area.is_integer() # area가 integer인지 여부를 반환"
   ]
  },
  {
   "cell_type": "code",
   "execution_count": 11,
   "id": "abcfa60d",
   "metadata": {},
   "outputs": [
    {
     "name": "stdout",
     "output_type": "stream",
     "text": [
      "area의 주소 : 2627144338736\n",
      "area의 타입 : <class 'float'>\n"
     ]
    }
   ],
   "source": [
    "print('area의 주소 :', id(area)) #id(area) : area 변수의 주소값\n",
    "print('area의 타입 :', type(area))"
   ]
  },
  {
   "cell_type": "code",
   "execution_count": 12,
   "id": "35db6629",
   "metadata": {},
   "outputs": [
    {
     "name": "stdout",
     "output_type": "stream",
     "text": [
      "area의 주소 : 2627111640688\n",
      "area의 타입 : <class 'float'>\n"
     ]
    }
   ],
   "source": [
    "area = 5.5  # 값을 변환하여 재할당가능\n",
    "print('area의 주소 :', id(area)) #id(area) : area 변수의 주소값\n",
    "print('area의 타입 :', type(area))"
   ]
  },
  {
   "cell_type": "code",
   "execution_count": 19,
   "id": "af7f77c3",
   "metadata": {},
   "outputs": [
    {
     "name": "stdout",
     "output_type": "stream",
     "text": [
      "area의 주소 : 2627028714000\n",
      "area의 타입 : <class 'int'>\n"
     ]
    }
   ],
   "source": [
    "area = 10  # 재할당을 하면, 새로운 변수를 만든 후 이전 변수는 버린다. 모든 변수는 객체.\n",
    "print('area의 주소 :', id(area)) #id(area) : area 변수의 주소값\n",
    "print('area의 타입 :', type(area))"
   ]
  },
  {
   "cell_type": "code",
   "execution_count": 20,
   "id": "117ea68f",
   "metadata": {},
   "outputs": [
    {
     "name": "stdout",
     "output_type": "stream",
     "text": [
      "area의 주소 : 2627152686672\n",
      "area의 타입 : <class 'str'>\n"
     ]
    }
   ],
   "source": [
    "area = \"파이썬\"\n",
    "print('area의 주소 :', id(area)) #id(area) : area 변수의 주소값\n",
    "print('area의 타입 :', type(area))"
   ]
  },
  {
   "cell_type": "markdown",
   "id": "ec69b481",
   "metadata": {},
   "source": [
    "## 1.2 변수이름 규칙\n",
    "- 문자로 시작(숫자시작 불가)\n",
    "- 문자, 숫자, _로 변수명 작성\n",
    "- 함수명은 변수이름으로 가능하나 피한다. 써야한다면 int_ 식으로 _를 이용\n",
    "- 파이썬 예약어(for, ..)는 변수이름 사용 불가\n",
    "- 한글변수는 꼭 필요시에만 이용"
   ]
  },
  {
   "cell_type": "code",
   "execution_count": 22,
   "id": "8b3a0f4b",
   "metadata": {},
   "outputs": [
    {
     "name": "stdout",
     "output_type": "stream",
     "text": [
      "박진성\n"
     ]
    },
    {
     "data": {
      "text/plain": [
       "'박진성'"
      ]
     },
     "execution_count": 22,
     "metadata": {},
     "output_type": "execute_result"
    }
   ],
   "source": [
    "이름 = \"박진성\" # 비추\n",
    "print(이름)\n",
    "이름"
   ]
  },
  {
   "cell_type": "code",
   "execution_count": 23,
   "id": "d5405968",
   "metadata": {},
   "outputs": [
    {
     "ename": "SyntaxError",
     "evalue": "invalid syntax (3039934606.py, line 1)",
     "output_type": "error",
     "traceback": [
      "\u001b[1;36m  Cell \u001b[1;32mIn[23], line 1\u001b[1;36m\u001b[0m\n\u001b[1;33m    for = 5\u001b[0m\n\u001b[1;37m        ^\u001b[0m\n\u001b[1;31mSyntaxError\u001b[0m\u001b[1;31m:\u001b[0m invalid syntax\n"
     ]
    }
   ],
   "source": [
    "for = 5"
   ]
  },
  {
   "cell_type": "code",
   "execution_count": 24,
   "id": "94e4baa7",
   "metadata": {},
   "outputs": [],
   "source": [
    "# member.name = \"박진성\"\n",
    "member_name = \"홍길동\"\n",
    "memberName = \"홍길동\""
   ]
  },
  {
   "cell_type": "code",
   "execution_count": 26,
   "id": "bd4bf71d",
   "metadata": {},
   "outputs": [
    {
     "name": "stdout",
     "output_type": "stream",
     "text": [
      "10\n"
     ]
    }
   ],
   "source": [
    "Print = 10  # 대문자로 시작한 변수는 강력 비추. 맞춤법 틀리는 것과 같음\n",
    "print(Print)"
   ]
  },
  {
   "cell_type": "code",
   "execution_count": 29,
   "id": "cd21a859",
   "metadata": {},
   "outputs": [
    {
     "data": {
      "text/plain": [
       "complex"
      ]
     },
     "execution_count": 29,
     "metadata": {},
     "output_type": "execute_result"
    }
   ],
   "source": [
    "# 파이썬에서의 숫자 : 정수, 실수, 복소수\n",
    "i = 3+3j #복소수\n",
    "type(i)"
   ]
  },
  {
   "cell_type": "code",
   "execution_count": 30,
   "id": "337a3c5e",
   "metadata": {},
   "outputs": [
    {
     "data": {
      "text/plain": [
       "True"
      ]
     },
     "execution_count": 30,
     "metadata": {},
     "output_type": "execute_result"
    }
   ],
   "source": [
    "isinstance(i, complex) # i 변수(객체)가 complex(복소수)인지 여부"
   ]
  },
  {
   "cell_type": "markdown",
   "id": "b05d22f8",
   "metadata": {},
   "source": [
    "## 1.3 도움말"
   ]
  },
  {
   "cell_type": "code",
   "execution_count": 31,
   "id": "34b36e35",
   "metadata": {},
   "outputs": [
    {
     "name": "stdout",
     "output_type": "stream",
     "text": [
      "Help on built-in function print in module builtins:\n",
      "\n",
      "print(...)\n",
      "    print(value, ..., sep=' ', end='\\n', file=sys.stdout, flush=False)\n",
      "    \n",
      "    Prints the values to a stream, or to sys.stdout by default.\n",
      "    Optional keyword arguments:\n",
      "    file:  a file-like object (stream); defaults to the current sys.stdout.\n",
      "    sep:   string inserted between values, default a space.\n",
      "    end:   string appended after the last value, default a newline.\n",
      "    flush: whether to forcibly flush the stream.\n",
      "\n"
     ]
    }
   ],
   "source": [
    "help(print)"
   ]
  },
  {
   "cell_type": "code",
   "execution_count": 33,
   "id": "2203be11",
   "metadata": {
    "collapsed": true
   },
   "outputs": [
    {
     "name": "stdout",
     "output_type": "stream",
     "text": [
      "\n",
      "Welcome to Python 3.10's help utility!\n",
      "\n",
      "If this is your first time using Python, you should definitely check out\n",
      "the tutorial on the internet at https://docs.python.org/3.10/tutorial/.\n",
      "\n",
      "Enter the name of any module, keyword, or topic to get help on writing\n",
      "Python programs and using Python modules.  To quit this help utility and\n",
      "return to the interpreter, just type \"quit\".\n",
      "\n",
      "To get a list of available modules, keywords, symbols, or topics, type\n",
      "\"modules\", \"keywords\", \"symbols\", or \"topics\".  Each module also comes\n",
      "with a one-line summary of what it does; to list the modules whose name\n",
      "or summary contain a given string such as \"spam\", type \"modules spam\".\n",
      "\n",
      "help> q\n",
      "\n",
      "You are now leaving help and returning to the Python interpreter.\n",
      "If you want to ask for help on a particular object directly from the\n",
      "interpreter, you can type \"help(object)\".  Executing \"help('string')\"\n",
      "has the same effect as typing a particular string at the help> prompt.\n"
     ]
    }
   ],
   "source": [
    "help() # help를 빠져나오려면 q입력 / ESC+o : 결과 접기/펴기"
   ]
  },
  {
   "cell_type": "code",
   "execution_count": 35,
   "id": "cabb19cd",
   "metadata": {},
   "outputs": [],
   "source": [
    "# 도움말 기능 : shift + tab + (확장)tab"
   ]
  },
  {
   "cell_type": "code",
   "execution_count": 39,
   "id": "c658cc8d",
   "metadata": {},
   "outputs": [],
   "source": [
    "def add(x, y) : \n",
    "    '''\n",
    "    매개변수 2개를 받아 두자리 숫자로 만듦\n",
    "    x는 10의자리, y는 1의 자리\n",
    "    '''\n",
    "    return x*10 + y"
   ]
  },
  {
   "cell_type": "code",
   "execution_count": 37,
   "id": "e0c16f01",
   "metadata": {},
   "outputs": [
    {
     "data": {
      "text/plain": [
       "21"
      ]
     },
     "execution_count": 37,
     "metadata": {},
     "output_type": "execute_result"
    }
   ],
   "source": [
    "add(2,1)"
   ]
  },
  {
   "cell_type": "code",
   "execution_count": 42,
   "id": "a17bd1b3",
   "metadata": {},
   "outputs": [
    {
     "data": {
      "text/plain": [
       "23"
      ]
     },
     "execution_count": 42,
     "metadata": {},
     "output_type": "execute_result"
    }
   ],
   "source": [
    "a = add\n",
    "a(2, 3)"
   ]
  },
  {
   "cell_type": "markdown",
   "id": "d2d88af5",
   "metadata": {},
   "source": [
    "## 1.4 다중변수 할당"
   ]
  },
  {
   "cell_type": "code",
   "execution_count": 51,
   "id": "14611ecc",
   "metadata": {},
   "outputs": [
    {
     "name": "stdout",
     "output_type": "stream",
     "text": [
      "10 20\n"
     ]
    }
   ],
   "source": [
    "a,b = 10, 20\n",
    "print(a, b)"
   ]
  },
  {
   "cell_type": "code",
   "execution_count": 52,
   "id": "53c9ee01",
   "metadata": {},
   "outputs": [
    {
     "name": "stdout",
     "output_type": "stream",
     "text": [
      "20 30\n"
     ]
    }
   ],
   "source": [
    "a, b = b, a+b  # 다중 변수 할당시, 순차적 할당이 아니고 동시 할당\n",
    "print(a, b)"
   ]
  },
  {
   "cell_type": "markdown",
   "id": "95eb87ea",
   "metadata": {},
   "source": [
    "# 2절. 화면 입출력(i/o)"
   ]
  },
  {
   "cell_type": "code",
   "execution_count": 56,
   "id": "df1939e9",
   "metadata": {},
   "outputs": [
    {
     "name": "stdout",
     "output_type": "stream",
     "text": [
      "첫번째 숫자는?  5\n"
     ]
    },
    {
     "data": {
      "text/plain": [
       "'5'"
      ]
     },
     "execution_count": 56,
     "metadata": {},
     "output_type": "execute_result"
    }
   ],
   "source": [
    "# input() : 사용자로부터 값을 입력받기 위한 함수. 문자열로 입력\n",
    "first = input(\"첫번째 숫자는?  \")\n",
    "first"
   ]
  },
  {
   "cell_type": "code",
   "execution_count": 57,
   "id": "f9bb5138",
   "metadata": {},
   "outputs": [
    {
     "name": "stdout",
     "output_type": "stream",
     "text": [
      "두번째 숫자는?  9\n"
     ]
    },
    {
     "data": {
      "text/plain": [
       "'9'"
      ]
     },
     "execution_count": 57,
     "metadata": {},
     "output_type": "execute_result"
    }
   ],
   "source": [
    "second = input(\"두번째 숫자는?  \")\n",
    "second"
   ]
  },
  {
   "cell_type": "code",
   "execution_count": 62,
   "id": "83731965",
   "metadata": {},
   "outputs": [
    {
     "name": "stdout",
     "output_type": "stream",
     "text": [
      "합: 14\n"
     ]
    }
   ],
   "source": [
    "sum = int(first) + int(second)\n",
    "print(\"합:\", sum)"
   ]
  },
  {
   "cell_type": "code",
   "execution_count": 67,
   "id": "2905cc95",
   "metadata": {},
   "outputs": [
    {
     "name": "stdout",
     "output_type": "stream",
     "text": [
      "첫번째 숫자는?  10\n",
      "두번째 숫자는?  20\n",
      "합 30\n"
     ]
    }
   ],
   "source": [
    "first = int(input(\"첫번째 숫자는?  \"))\n",
    "second = int(input(\"두번째 숫자는?  \"))\n",
    "sum = first + second\n",
    "print('합', sum)"
   ]
  },
  {
   "cell_type": "code",
   "execution_count": 68,
   "id": "fe97da8a",
   "metadata": {},
   "outputs": [
    {
     "name": "stdout",
     "output_type": "stream",
     "text": [
      "합 = 30\n"
     ]
    }
   ],
   "source": [
    "print('합', sum, sep=' = ')"
   ]
  },
  {
   "cell_type": "code",
   "execution_count": 70,
   "id": "f3bb4868",
   "metadata": {},
   "outputs": [
    {
     "name": "stdout",
     "output_type": "stream",
     "text": [
      "hello world\n"
     ]
    }
   ],
   "source": [
    "import sys\n",
    "print('hello', 'world', file=sys.stdout)"
   ]
  },
  {
   "cell_type": "markdown",
   "id": "5babeca6",
   "metadata": {},
   "source": [
    "# 3절. 기본자료형\n",
    "- 자료형에 따라 값의 크기와 저장방식이 달라짐\n",
    "    - 숫자 : int, float, complex\n",
    "    - 문자 : str\n",
    "    - 논리 : bool (True, False)\n",
    "\n",
    "## 3.1 숫자형"
   ]
  },
  {
   "cell_type": "code",
   "execution_count": 71,
   "id": "b9a36f4c",
   "metadata": {},
   "outputs": [
    {
     "data": {
      "text/plain": [
       "9223372036854775807"
      ]
     },
     "execution_count": 71,
     "metadata": {},
     "output_type": "execute_result"
    }
   ],
   "source": [
    "import sys\n",
    "sys.maxsize # 정수의 최대값 (2**63 -1)"
   ]
  },
  {
   "cell_type": "code",
   "execution_count": 74,
   "id": "d0e8e631",
   "metadata": {},
   "outputs": [
    {
     "name": "stdout",
     "output_type": "stream",
     "text": [
      "9223372037854775806\n",
      "<class 'int'>\n"
     ]
    }
   ],
   "source": [
    "i = sys.maxsize +999999999 # 정수 최대값을 초과할 수 있다. 즉, 숫자 한계가 없다\n",
    "print(i)\n",
    "print(type(i))"
   ]
  },
  {
   "cell_type": "code",
   "execution_count": 77,
   "id": "7301c028",
   "metadata": {},
   "outputs": [
    {
     "name": "stdout",
     "output_type": "stream",
     "text": [
      "1.5 2.0\n"
     ]
    }
   ],
   "source": [
    "f1 = 3/2 # 정수/정수는 무조건 실수\n",
    "f2 = 4/2 \n",
    "print(f1, f2)"
   ]
  },
  {
   "cell_type": "code",
   "execution_count": 79,
   "id": "bbd4cc92",
   "metadata": {},
   "outputs": [
    {
     "name": "stdout",
     "output_type": "stream",
     "text": [
      "2\n",
      "2\n"
     ]
    }
   ],
   "source": [
    "# 자바처럼 정수/정수 결과를 정수로\n",
    "f3 = 4//2 #몫 연산자\n",
    "print(f3)\n",
    "f4= int(4/2) # int 씌워줌\n",
    "print(f4)"
   ]
  },
  {
   "cell_type": "code",
   "execution_count": 81,
   "id": "6fa83e2e",
   "metadata": {},
   "outputs": [
    {
     "name": "stdout",
     "output_type": "stream",
     "text": [
      "(-1+0j)\n"
     ]
    }
   ],
   "source": [
    "c= 1j # 수학에서의 0+1i\n",
    "print(c**2) # ** 승연산자)"
   ]
  },
  {
   "cell_type": "code",
   "execution_count": 85,
   "id": "aae32554",
   "metadata": {},
   "outputs": [
    {
     "name": "stdout",
     "output_type": "stream",
     "text": [
      "지수형 표현할 당시 실수형으로 저장 : 1120000000000.0\n",
      "지수형 표현할 당시 실수형으로 저장 : 1.12e-12\n",
      "<class 'float'>\n"
     ]
    }
   ],
   "source": [
    "f= 1.12e12 # 1.12 * 10의 12승 1120000000000 \n",
    "print('지수형 표현할 당시 실수형으로 저장 :', f)\n",
    "f = 1.12e-12  # 0.00000000000112\n",
    "print('지수형 표현할 당시 실수형으로 저장 :', f)\n",
    "print(type(f))"
   ]
  },
  {
   "cell_type": "markdown",
   "id": "9b559353",
   "metadata": {},
   "source": [
    "## 3.2 문자형\n",
    "- 쌍따옴표(\"-\"), 홑따옴표('-') 무엇을 쓰던 상관없다"
   ]
  },
  {
   "cell_type": "code",
   "execution_count": 95,
   "id": "68feaa96",
   "metadata": {},
   "outputs": [
    {
     "name": "stdout",
     "output_type": "stream",
     "text": [
      "홍길동\"짱\"\n",
      "홍길동\"짱\"\n",
      "서울시 관악구 '신림동'\n",
      "서울시 관악구 '신림동'\n"
     ]
    }
   ],
   "source": [
    "name1 = '홍길동\"짱\"' #홍길동\"짱\"\n",
    "print(name1)\n",
    "name2 = \"홍길동\\\"짱\\\"\" #같은 쌍따옴표를 쓸경우 역슬래시 사용 가능\n",
    "print(name2)\n",
    "address1 = '서울시 관악구 \\'신림동\\''  # 서울시 관악구 '신길동'\n",
    "address2 = \"서울시 관악구 '신림동'\"\n",
    "print(address1)\n",
    "print(address2)"
   ]
  },
  {
   "cell_type": "code",
   "execution_count": 99,
   "id": "24d113d3",
   "metadata": {},
   "outputs": [
    {
     "name": "stdout",
     "output_type": "stream",
     "text": [
      "여러줄짜리 내용\n",
      "줄바꿈 문자를 쓰지 않고\n",
      "따옴표 3개로 처리한다\n",
      "이처럼 쓰는 경우가 많아요\n",
      "\n"
     ]
    }
   ],
   "source": [
    "# 문자형 변수에 여러줄\n",
    "text = '''여러줄짜리 내용\n",
    "줄바꿈 문자를 쓰지 않고\n",
    "따옴표 3개로 처리한다\n",
    "이처럼 쓰는 경우가 많아요\n",
    "'''\n",
    "\n",
    "print(text)"
   ]
  },
  {
   "cell_type": "markdown",
   "id": "bf451b4e",
   "metadata": {},
   "source": [
    "### ※ 문자열 연산"
   ]
  },
  {
   "cell_type": "code",
   "execution_count": 102,
   "id": "deac0360",
   "metadata": {},
   "outputs": [
    {
     "name": "stdout",
     "output_type": "stream",
     "text": [
      "홍길동동해 번쩍 서해 번쩍\n"
     ]
    }
   ],
   "source": [
    "'''\n",
    "    여러 줄 주석 용도\n",
    "    2024.04.08 문자열 연산소스 by 진성\n",
    "'''\n",
    "name1 = \"홍길동\"\n",
    "name2 = \"동해 번쩍 서해 번쩍\"\n",
    "print(name1 + name2)"
   ]
  },
  {
   "cell_type": "code",
   "execution_count": 103,
   "id": "9ed4200f",
   "metadata": {},
   "outputs": [
    {
     "name": "stdout",
     "output_type": "stream",
     "text": [
      "홍길동홍길동홍길동\n"
     ]
    }
   ],
   "source": [
    "print(name1 * 3)"
   ]
  },
  {
   "cell_type": "markdown",
   "id": "2302825c",
   "metadata": {},
   "source": [
    "### ※ raw 데이터\n",
    "- 용도 : 정규표현식 이용, 디렉토리 경로 표현시 이용\n",
    " (정규표현식 : 일정한 패턴을 보이는 숫자, 문자열)"
   ]
  },
  {
   "cell_type": "code",
   "execution_count": 106,
   "id": "55355800",
   "metadata": {},
   "outputs": [
    {
     "name": "stdout",
     "output_type": "stream",
     "text": [
      "Hello\\nWorld\n",
      "Hello\\nWorld\n"
     ]
    }
   ],
   "source": [
    "print(r'Hello\\nWorld')\n",
    "print('Hello\\\\nWorld')"
   ]
  },
  {
   "cell_type": "markdown",
   "id": "c0daa5cf",
   "metadata": {},
   "source": [
    "정규표현식\n",
    "```(마크업 셀에서 백틱은 블록을 만들 때 사용)\n",
    "1. 참조 : 위키백과\n",
    "2. 간략한 문법 : \n",
    "    \\d (숫자와 매치, [0-9]와 동일)\n",
    "    \\D (숫자가 아닌것)\n",
    "    \\w (영문자나 숫자, [a-zA-Z0-9])\n",
    "    \\W (영문자나 숫자가 아닌 문자)\n",
    "    . (문자 한글자)\n",
    "    \\. (.을 의미)\n",
    "    \\- (빼기 - 를 의미) # 역슬래시가 없으면 ~부터라는 범위의 뜻\n",
    "    {2, 3} (2~3번 반복, 앞 수가 작아야함)\n",
    "    {4}    (4번 반복)\n",
    "    {2, }  (2번 이상 반복)\n",
    "    +      (1번 이상 반복 = {1, })\n",
    "    *      (0번 이상 반복 = {0, })\n",
    "    ?      (0번이나 1번 반복)\n",
    " 3. 정규표현식 연습장 (https://regexr.com/)\n",
    " ```\n",
    " 전화번호 정규표현식\n",
    " \\d{2,3}\\-\\d{3,4}\\-\\d{4}\n",
    " "
   ]
  },
  {
   "cell_type": "code",
   "execution_count": null,
   "id": "0c3ffd60",
   "metadata": {},
   "outputs": [],
   "source": []
  },
  {
   "cell_type": "code",
   "execution_count": null,
   "id": "bce32983",
   "metadata": {},
   "outputs": [],
   "source": []
  },
  {
   "cell_type": "code",
   "execution_count": null,
   "id": "39da42ac",
   "metadata": {},
   "outputs": [],
   "source": []
  },
  {
   "cell_type": "code",
   "execution_count": null,
   "id": "bddf74b8",
   "metadata": {},
   "outputs": [],
   "source": []
  }
 ],
 "metadata": {
  "kernelspec": {
   "display_name": "Python 3 (ipykernel)",
   "language": "python",
   "name": "python3"
  },
  "language_info": {
   "codemirror_mode": {
    "name": "ipython",
    "version": 3
   },
   "file_extension": ".py",
   "mimetype": "text/x-python",
   "name": "python",
   "nbconvert_exporter": "python",
   "pygments_lexer": "ipython3",
   "version": "3.10.9"
  },
  "toc": {
   "base_numbering": 1,
   "nav_menu": {},
   "number_sections": false,
   "sideBar": true,
   "skip_h1_title": false,
   "title_cell": "Table of Contents",
   "title_sidebar": "Contents",
   "toc_cell": false,
   "toc_position": {
    "height": "calc(100% - 180px)",
    "left": "10px",
    "top": "150px",
    "width": "233.6px"
   },
   "toc_section_display": true,
   "toc_window_display": true
  }
 },
 "nbformat": 4,
 "nbformat_minor": 5
}
