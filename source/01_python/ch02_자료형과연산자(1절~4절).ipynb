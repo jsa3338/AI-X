{
 "cells": [
  {
   "cell_type": "code",
   "execution_count": 1,
   "id": "757e26e6",
   "metadata": {},
   "outputs": [
    {
     "data": {
      "text/html": [
       "\n",
       "<style>\n",
       "div.container{width:86% !important;}\n",
       "div.cell.code_cell.rendered{width:100%;}\n",
       "div.CodeMirror {font-family:Consolas; font-size:12pt;}\n",
       "div.output {font-size:12pt; font-weight:bold;}\n",
       "div.input {font-family:Consolas; font-size:12pt;}\n",
       "div.prompt {min-width:70px;}\n",
       "div#toc-wrapper{padding-top:120px;}\n",
       "div.text_cell_render ul li{font-size:12pt;padding:5px;}\n",
       "table.dataframe{font-size:12px;}\n",
       "</style>\n"
      ],
      "text/plain": [
       "<IPython.core.display.HTML object>"
      ]
     },
     "metadata": {},
     "output_type": "display_data"
    }
   ],
   "source": [
    "from IPython.display import display, HTML\n",
    "display(HTML(\"\"\"\n",
    "<style>\n",
    "div.container{width:86% !important;}\n",
    "div.cell.code_cell.rendered{width:100%;}\n",
    "div.CodeMirror {font-family:Consolas; font-size:12pt;}\n",
    "div.output {font-size:12pt; font-weight:bold;}\n",
    "div.input {font-family:Consolas; font-size:12pt;}\n",
    "div.prompt {min-width:70px;}\n",
    "div#toc-wrapper{padding-top:120px;}\n",
    "div.text_cell_render ul li{font-size:12pt;padding:5px;}\n",
    "table.dataframe{font-size:12px;}\n",
    "</style>\n",
    "\"\"\"))"
   ]
  },
  {
   "cell_type": "markdown",
   "id": "7b5786ec",
   "metadata": {},
   "source": [
    "<font size=\"5\" color=\"red\">ch02_자료형과 연산자</font>\n",
    "\n",
    "# 1절. 변수\n",
    "- 파이썬은 변수 선언이 필요 없음, 바로 할당 가능, 할당과 동시에 타입이 지정.\n",
    "\n",
    "## 1.1 변수할당\n",
    "- 할당연산자(=)를 이용해서 값을 할당하면 타입이 세팅\n",
    "- 파이썬에서의 모든 변수는 객체로 저장"
   ]
  },
  {
   "cell_type": "code",
   "execution_count": 2,
   "id": "448d5004",
   "metadata": {},
   "outputs": [
    {
     "name": "stdout",
     "output_type": "stream",
     "text": [
      "계산된 넓이는 78.5\n",
      "계산된 넓이는 78.5\n"
     ]
    }
   ],
   "source": [
    "r = 5\n",
    "area = r * r * 3.14\n",
    "print(\"계산된 넓이는 \" + str(area))\n",
    "print(\"계산된 넓이는\", area)"
   ]
  },
  {
   "cell_type": "code",
   "execution_count": 3,
   "id": "ba4b9172",
   "metadata": {},
   "outputs": [
    {
     "name": "stdout",
     "output_type": "stream",
     "text": [
      "pi = 3.141592653589793\n",
      "area =  78.53981633974483\n"
     ]
    }
   ],
   "source": [
    "import numpy as np #numpy라는 라이브러리를 불러온다, 별명은 np로 정한다\n",
    "area = np.pi * r*r\n",
    "print(\"pi =\", np.pi)\n",
    "print('area = ', area)"
   ]
  },
  {
   "cell_type": "code",
   "execution_count": 4,
   "id": "3f6327aa",
   "metadata": {},
   "outputs": [
    {
     "data": {
      "text/plain": [
       "False"
      ]
     },
     "execution_count": 4,
     "metadata": {},
     "output_type": "execute_result"
    }
   ],
   "source": [
    "area.is_integer() # area가 integer인지 여부를 반환"
   ]
  },
  {
   "cell_type": "code",
   "execution_count": 5,
   "id": "abcfa60d",
   "metadata": {},
   "outputs": [
    {
     "name": "stdout",
     "output_type": "stream",
     "text": [
      "area의 주소 : 2511435777616\n",
      "area의 타입 : <class 'float'>\n"
     ]
    }
   ],
   "source": [
    "print('area의 주소 :', id(area)) #id(area) : area 변수의 주소값\n",
    "print('area의 타입 :', type(area))"
   ]
  },
  {
   "cell_type": "code",
   "execution_count": 6,
   "id": "35db6629",
   "metadata": {},
   "outputs": [
    {
     "name": "stdout",
     "output_type": "stream",
     "text": [
      "area의 주소 : 2511435776912\n",
      "area의 타입 : <class 'float'>\n"
     ]
    }
   ],
   "source": [
    "area = 5.5  # 값을 변환하여 재할당가능\n",
    "print('area의 주소 :', id(area)) #id(area) : area 변수의 주소값\n",
    "print('area의 타입 :', type(area))"
   ]
  },
  {
   "cell_type": "code",
   "execution_count": 7,
   "id": "af7f77c3",
   "metadata": {},
   "outputs": [
    {
     "name": "stdout",
     "output_type": "stream",
     "text": [
      "area의 주소 : 2511356559888\n",
      "area의 타입 : <class 'int'>\n"
     ]
    }
   ],
   "source": [
    "area = 10  # 재할당을 하면, 새로운 변수를 만든 후 이전 변수는 버린다. 모든 변수는 객체.\n",
    "print('area의 주소 :', id(area)) #id(area) : area 변수의 주소값\n",
    "print('area의 타입 :', type(area))"
   ]
  },
  {
   "cell_type": "code",
   "execution_count": 8,
   "id": "117ea68f",
   "metadata": {},
   "outputs": [
    {
     "name": "stdout",
     "output_type": "stream",
     "text": [
      "area의 주소 : 2511432078448\n",
      "area의 타입 : <class 'str'>\n"
     ]
    }
   ],
   "source": [
    "area = \"파이썬\"\n",
    "print('area의 주소 :', id(area)) #id(area) : area 변수의 주소값\n",
    "print('area의 타입 :', type(area))"
   ]
  },
  {
   "cell_type": "markdown",
   "id": "ec69b481",
   "metadata": {},
   "source": [
    "## 1.2 변수이름 규칙\n",
    "- 문자로 시작(숫자시작 불가)\n",
    "- 문자, 숫자, _로 변수명 작성\n",
    "- 함수명은 변수이름으로 가능하나 피한다. 써야한다면 int_ 식으로 _를 이용\n",
    "- 파이썬 예약어(for, ..)는 변수이름 사용 불가\n",
    "- 한글변수는 꼭 필요시에만 이용"
   ]
  },
  {
   "cell_type": "code",
   "execution_count": 9,
   "id": "8b3a0f4b",
   "metadata": {},
   "outputs": [
    {
     "name": "stdout",
     "output_type": "stream",
     "text": [
      "박진성\n"
     ]
    },
    {
     "data": {
      "text/plain": [
       "'박진성'"
      ]
     },
     "execution_count": 9,
     "metadata": {},
     "output_type": "execute_result"
    }
   ],
   "source": [
    "이름 = \"박진성\" # 비추\n",
    "print(이름)\n",
    "이름"
   ]
  },
  {
   "cell_type": "code",
   "execution_count": 10,
   "id": "d5405968",
   "metadata": {},
   "outputs": [
    {
     "ename": "SyntaxError",
     "evalue": "invalid syntax (3039934606.py, line 1)",
     "output_type": "error",
     "traceback": [
      "\u001b[1;36m  Cell \u001b[1;32mIn[10], line 1\u001b[1;36m\u001b[0m\n\u001b[1;33m    for = 5\u001b[0m\n\u001b[1;37m        ^\u001b[0m\n\u001b[1;31mSyntaxError\u001b[0m\u001b[1;31m:\u001b[0m invalid syntax\n"
     ]
    }
   ],
   "source": [
    "for = 5"
   ]
  },
  {
   "cell_type": "code",
   "execution_count": null,
   "id": "94e4baa7",
   "metadata": {},
   "outputs": [],
   "source": [
    "# member.name = \"박진성\"\n",
    "member_name = \"홍길동\"\n",
    "memberName = \"홍길동\""
   ]
  },
  {
   "cell_type": "code",
   "execution_count": null,
   "id": "bd4bf71d",
   "metadata": {},
   "outputs": [],
   "source": [
    "Print = 10  # 대문자로 시작한 변수는 강력 비추. 맞춤법 틀리는 것과 같음\n",
    "print(Print)"
   ]
  },
  {
   "cell_type": "code",
   "execution_count": null,
   "id": "cd21a859",
   "metadata": {},
   "outputs": [],
   "source": [
    "# 파이썬에서의 숫자 : 정수, 실수, 복소수\n",
    "i = 3+3j #복소수\n",
    "type(i)"
   ]
  },
  {
   "cell_type": "code",
   "execution_count": null,
   "id": "337a3c5e",
   "metadata": {},
   "outputs": [],
   "source": [
    "isinstance(i, complex) # i 변수(객체)가 complex(복소수)인지 여부"
   ]
  },
  {
   "cell_type": "markdown",
   "id": "b05d22f8",
   "metadata": {},
   "source": [
    "## 1.3 도움말"
   ]
  },
  {
   "cell_type": "code",
   "execution_count": null,
   "id": "34b36e35",
   "metadata": {},
   "outputs": [],
   "source": [
    "help(print)"
   ]
  },
  {
   "cell_type": "code",
   "execution_count": null,
   "id": "2203be11",
   "metadata": {},
   "outputs": [],
   "source": [
    "help() # help를 빠져나오려면 q입력 / ESC+o : 결과 접기/펴기"
   ]
  },
  {
   "cell_type": "code",
   "execution_count": null,
   "id": "cabb19cd",
   "metadata": {},
   "outputs": [],
   "source": [
    "# 도움말 기능 : shift + tab + (확장)tab"
   ]
  },
  {
   "cell_type": "code",
   "execution_count": null,
   "id": "c658cc8d",
   "metadata": {},
   "outputs": [],
   "source": [
    "def add(x, y) : \n",
    "    '''\n",
    "    매개변수 2개를 받아 두자리 숫자로 만듦\n",
    "    x는 10의자리, y는 1의 자리\n",
    "    '''\n",
    "    return x*10 + y"
   ]
  },
  {
   "cell_type": "code",
   "execution_count": null,
   "id": "e0c16f01",
   "metadata": {},
   "outputs": [],
   "source": [
    "add(2,1)"
   ]
  },
  {
   "cell_type": "code",
   "execution_count": null,
   "id": "a17bd1b3",
   "metadata": {},
   "outputs": [],
   "source": [
    "a = add\n",
    "a(2, 3)"
   ]
  },
  {
   "cell_type": "markdown",
   "id": "d2d88af5",
   "metadata": {},
   "source": [
    "## 1.4 다중변수 할당"
   ]
  },
  {
   "cell_type": "code",
   "execution_count": null,
   "id": "14611ecc",
   "metadata": {},
   "outputs": [],
   "source": [
    "a,b = 10, 20\n",
    "print(a, b)"
   ]
  },
  {
   "cell_type": "code",
   "execution_count": null,
   "id": "53c9ee01",
   "metadata": {},
   "outputs": [],
   "source": [
    "a, b = b, a+b  # 다중 변수 할당시, 순차적 할당이 아니고 동시 할당\n",
    "print(a, b)"
   ]
  },
  {
   "cell_type": "markdown",
   "id": "95eb87ea",
   "metadata": {},
   "source": [
    "# 2절. 화면 입출력(i/o)"
   ]
  },
  {
   "cell_type": "code",
   "execution_count": null,
   "id": "df1939e9",
   "metadata": {},
   "outputs": [],
   "source": [
    "# input() : 사용자로부터 값을 입력받기 위한 함수. 문자열로 입력\n",
    "first = input(\"첫번째 숫자는?  \")\n",
    "first"
   ]
  },
  {
   "cell_type": "code",
   "execution_count": null,
   "id": "f9bb5138",
   "metadata": {},
   "outputs": [],
   "source": [
    "second = input(\"두번째 숫자는?  \")\n",
    "second"
   ]
  },
  {
   "cell_type": "code",
   "execution_count": null,
   "id": "83731965",
   "metadata": {},
   "outputs": [],
   "source": [
    "sum = int(first) + int(second)\n",
    "print(\"합:\", sum)"
   ]
  },
  {
   "cell_type": "code",
   "execution_count": null,
   "id": "2905cc95",
   "metadata": {},
   "outputs": [],
   "source": [
    "first = int(input(\"첫번째 숫자는?  \"))\n",
    "second = int(input(\"두번째 숫자는?  \"))\n",
    "sum = first + second\n",
    "print('합', sum)"
   ]
  },
  {
   "cell_type": "code",
   "execution_count": null,
   "id": "fe97da8a",
   "metadata": {},
   "outputs": [],
   "source": [
    "print('합', sum, sep=' = ')"
   ]
  },
  {
   "cell_type": "code",
   "execution_count": null,
   "id": "f3bb4868",
   "metadata": {},
   "outputs": [],
   "source": [
    "import sys\n",
    "print('hello', 'world', file=sys.stdout)"
   ]
  },
  {
   "cell_type": "markdown",
   "id": "5babeca6",
   "metadata": {},
   "source": [
    "# 3절. 기본자료형\n",
    "- 자료형에 따라 값의 크기와 저장방식이 달라짐\n",
    "    - 숫자 : int, float, complex\n",
    "    - 문자 : str\n",
    "    - 논리 : bool (True, False)\n",
    "\n",
    "## 3.1 숫자형"
   ]
  },
  {
   "cell_type": "code",
   "execution_count": 2,
   "id": "b9a36f4c",
   "metadata": {},
   "outputs": [
    {
     "data": {
      "text/plain": [
       "9223372036854775807"
      ]
     },
     "execution_count": 2,
     "metadata": {},
     "output_type": "execute_result"
    }
   ],
   "source": [
    "import sys\n",
    "sys.maxsize # 정수의 최대값 (2**63 -1)"
   ]
  },
  {
   "cell_type": "code",
   "execution_count": 3,
   "id": "d0e8e631",
   "metadata": {},
   "outputs": [
    {
     "name": "stdout",
     "output_type": "stream",
     "text": [
      "9223372037854775806\n",
      "<class 'int'>\n"
     ]
    }
   ],
   "source": [
    "i = sys.maxsize +999999999 # 정수 최대값을 초과할 수 있다. 즉, 숫자 한계가 없다\n",
    "print(i)\n",
    "print(type(i))"
   ]
  },
  {
   "cell_type": "code",
   "execution_count": 4,
   "id": "7301c028",
   "metadata": {},
   "outputs": [
    {
     "name": "stdout",
     "output_type": "stream",
     "text": [
      "1.5 2.0\n"
     ]
    }
   ],
   "source": [
    "f1 = 3/2 # 정수/정수는 무조건 실수\n",
    "f2 = 4/2 \n",
    "print(f1, f2)"
   ]
  },
  {
   "cell_type": "code",
   "execution_count": null,
   "id": "bbd4cc92",
   "metadata": {},
   "outputs": [],
   "source": [
    "# 자바처럼 정수/정수 결과를 정수로\n",
    "f3 = 4//2 #몫 연산자\n",
    "print(f3)\n",
    "f4= int(4/2) # int 씌워줌\n",
    "print(f4)"
   ]
  },
  {
   "cell_type": "code",
   "execution_count": null,
   "id": "6fa83e2e",
   "metadata": {},
   "outputs": [],
   "source": [
    "c= 1j # 수학에서의 0+1i\n",
    "print(c**2) # ** 승연산자)"
   ]
  },
  {
   "cell_type": "code",
   "execution_count": null,
   "id": "aae32554",
   "metadata": {},
   "outputs": [],
   "source": [
    "f= 1.12e12 # 1.12 * 10의 12승 1120000000000 \n",
    "print('지수형 표현할 당시 실수형으로 저장 :', f)\n",
    "f = 1.12e-12  # 0.00000000000112\n",
    "print('지수형 표현할 당시 실수형으로 저장 :', f)\n",
    "print(type(f))"
   ]
  },
  {
   "cell_type": "markdown",
   "id": "9b559353",
   "metadata": {},
   "source": [
    "## 3.2 문자형\n",
    "- 쌍따옴표(\"-\"), 홑따옴표('-') 무엇을 쓰던 상관없다"
   ]
  },
  {
   "cell_type": "code",
   "execution_count": null,
   "id": "68feaa96",
   "metadata": {},
   "outputs": [],
   "source": [
    "name1 = '홍길동\"짱\"' #홍길동\"짱\"\n",
    "print(name1)\n",
    "name2 = \"홍길동\\\"짱\\\"\" #같은 쌍따옴표를 쓸경우 역슬래시 사용 가능\n",
    "print(name2)\n",
    "address1 = '서울시 관악구 \\'신림동\\''  # 서울시 관악구 '신길동'\n",
    "address2 = \"서울시 관악구 '신림동'\"\n",
    "print(address1)\n",
    "print(address2)"
   ]
  },
  {
   "cell_type": "code",
   "execution_count": 11,
   "id": "24d113d3",
   "metadata": {},
   "outputs": [
    {
     "name": "stdout",
     "output_type": "stream",
     "text": [
      "여러줄짜리 내용\n",
      "줄바꿈 문자를 쓰지 않고\n",
      "따옴표 3개로 처리한다\n",
      "이처럼 쓰는 경우가 많아요 \n"
     ]
    }
   ],
   "source": [
    "# 문자형 변수에 여러줄\n",
    "text = '''\\\n",
    "여러줄짜리 내용\n",
    "줄바꿈 문자를 쓰지 않고\n",
    "따옴표 3개로 처리한다\n",
    "이처럼 쓰는 경우가 많아요 \\\n",
    "'''\n",
    "\n",
    "print(text)"
   ]
  },
  {
   "cell_type": "markdown",
   "id": "bf451b4e",
   "metadata": {},
   "source": [
    "### ※ 문자열 연산"
   ]
  },
  {
   "cell_type": "code",
   "execution_count": 70,
   "id": "deac0360",
   "metadata": {},
   "outputs": [
    {
     "name": "stdout",
     "output_type": "stream",
     "text": [
      "홍길동동해 번쩍 서해 번쩍\n"
     ]
    }
   ],
   "source": [
    "'''\n",
    "    여러 줄 주석 용도\n",
    "    2024.04.08 문자열 연산소스 by 진성\n",
    "'''\n",
    "name1 = \"홍길동\"\n",
    "name2 = \"동해 번쩍 서해 번쩍\"\n",
    "print(name1 + name2)"
   ]
  },
  {
   "cell_type": "code",
   "execution_count": null,
   "id": "9ed4200f",
   "metadata": {},
   "outputs": [],
   "source": [
    "print(name1 * 3)"
   ]
  },
  {
   "cell_type": "markdown",
   "id": "2302825c",
   "metadata": {},
   "source": [
    "### ※ raw 데이터\n",
    "- 용도 : 정규표현식 이용, 디렉토리 경로 표현시 이용\n",
    " (정규표현식 : 일정한 패턴을 보이는 숫자, 문자열)"
   ]
  },
  {
   "cell_type": "code",
   "execution_count": 11,
   "id": "55355800",
   "metadata": {},
   "outputs": [
    {
     "name": "stdout",
     "output_type": "stream",
     "text": [
      "Hello\\nWorld\n",
      "Hello\\nWorld\n"
     ]
    }
   ],
   "source": [
    "print(r'Hello\\nWorld')\n",
    "print('Hello\\\\nWorld')"
   ]
  },
  {
   "cell_type": "markdown",
   "id": "c0daa5cf",
   "metadata": {},
   "source": [
    "정규표현식\n",
    "```(마크업 셀에서 백틱은 블록을 만들 때 사용)\n",
    "1. 참조 : 위키백과\n",
    "2. 간략한 문법 : \n",
    "    \\d (숫자와 매치, [0-9]와 동일)\n",
    "    \\D (숫자가 아닌것)\n",
    "    \\w (영문자나 숫자, [a-zA-Z0-9])\n",
    "    \\W (영문자나 숫자가 아닌 문자)\n",
    "    . (문자 한글자)\n",
    "    \\. (.을 의미)\n",
    "    \\- (빼기 - 를 의미) # 역슬래시가 없으면 ~부터라는 범위의 뜻\n",
    "    {2, 3} (2~3번 반복, 앞 수가 작아야함)\n",
    "    {4}    (4번 반복)\n",
    "    {2, }  (2번 이상 반복)\n",
    "    +      (1번 이상 반복 = {1, })\n",
    "    *      (0번 이상 반복 = {0, })\n",
    "    ?      (0번이나 1번 반복)\n",
    " 3. 정규표현식 연습장 (https://regexr.com/)\n",
    "\n",
    " ex1) 전화번호 :  010-6787-3338   023334444   02 421 5555   0277778888   01067873338   02)714-5656   010.2222.4444\n",
    "     010-6787-3338 or 02-333-4444 패턴 -> [0-9]{2,3}-[0-9]{3,4}-[0-9]{4}  /  [0-9] =\\d\n",
    "     모두를 포함하는 패턴 -> \\d{2,3}[\\-)\\. ]?\\d{3,4}[\\-\\. ]?\\d{4}\n",
    " \n",
    " \n",
    " ex2) 이메일 : abc12@naver.com  asde3333@0to7.co.kr acb@한국.com  박진성12@abc.co.kr\n",
    " \\w+\\@\\w+\\.\\w+\\.?\\w+\n",
    "  \\w+\\@\\w+\\.[a-z]+\\.?[a-z]+\n",
    "  [\\w가-힣]+[\\.\\-\\_]*[\\w가-힣]+\\@[\\w가-힣]+\\.[a-zA-Z]+(\\.[a-zA-Z]+)?\n",
    "  [\\w가-힣]+[\\.\\-\\_]*[\\w가-힣]+\\@[\\w가-힣]+(\\.[a-zA-Z]+){1,2}\n",
    " \n",
    " 4. 소스 구현\n",
    "  \n",
    " '''"
   ]
  },
  {
   "cell_type": "code",
   "execution_count": 17,
   "id": "d4f00b26",
   "metadata": {},
   "outputs": [
    {
     "name": "stdout",
     "output_type": "stream",
     "text": [
      "홍길동인데 전화번호가 041-888-8989, 010 8000 8989 동해번쩍 서해번쩍 이메일은 abc@yahoo.com ㅋㅋ ㅠㅜ 오늘 날씨는 엄청 좋아요\n"
     ]
    }
   ],
   "source": [
    "import re\n",
    "data = \"홍길동인데 전화번호가 041-888-8989, 010 8000 8989 \\\n",
    "동해번쩍 서해번쩍 이메일은 abc@yahoo.com ㅋㅋ ㅠㅜ \\\n",
    "오늘 날씨는 엄청 좋아요\"\n",
    "    \n",
    "print(data)"
   ]
  },
  {
   "cell_type": "code",
   "execution_count": 20,
   "id": "0c3ffd60",
   "metadata": {},
   "outputs": [],
   "source": [
    "tel_pattern1 = r\"\\d{2,3}[\\-)\\. ]?\\d{3,4}[\\-\\. ]?\\d{4}\"\n",
    "tel_pattern2 = r\"[0-9]{2,3}[\\-)\\. ]?[0-9]{3,4}[\\-\\. ]?[0-9]{4}\""
   ]
  },
  {
   "cell_type": "code",
   "execution_count": 25,
   "id": "880220de",
   "metadata": {},
   "outputs": [
    {
     "name": "stdout",
     "output_type": "stream",
     "text": [
      "['041-888-8989', '010 8000 8989']\n",
      "['041-888-8989', '010 8000 8989']\n"
     ]
    }
   ],
   "source": [
    "# findall은 해당 패턴을 다 찾아옴. 없으면 [ ] 반환\n",
    "tels1 = re.findall(tel_pattern1, data)  \n",
    "print(tels1)\n",
    "tels2 = re.findall(tel_pattern2, data)  \n",
    "print(tels2)"
   ]
  },
  {
   "cell_type": "code",
   "execution_count": 39,
   "id": "e3170e27",
   "metadata": {},
   "outputs": [
    {
     "name": "stdout",
     "output_type": "stream",
     "text": [
      "<re.Match object; span=(12, 24), match='041-888-8989'>\n",
      "041-888-8989\n"
     ]
    }
   ],
   "source": [
    "# search() : 정규표현식 패턴과 일치하는 처음 단어만 찾음\n",
    "pattern = \"(\\d{2,3})[\\-)\\. ]?(\\d{3,4})[\\-\\. ]?(\\d{4})\"\n",
    "firstTel = re.search(pattern, data)\n",
    "print(firstTel)\n",
    "print(data[12:24])   # 문자 슬라이싱\n"
   ]
  },
  {
   "cell_type": "code",
   "execution_count": 45,
   "id": "7e37dd60",
   "metadata": {},
   "outputs": [
    {
     "name": "stdout",
     "output_type": "stream",
     "text": [
      "전화번호 전체 : 041-888-8989\n",
      "국번 : 041\n",
      "중간번호 : 888\n",
      "끝번호 : 8989\n"
     ]
    }
   ],
   "source": [
    "print('전화번호 전체 :', firstTel.group(0))\n",
    "print('국번 :', firstTel.group(1))\n",
    "print('중간번호 :', firstTel.group(2))\n",
    "print('끝번호 :', firstTel.group(3))"
   ]
  },
  {
   "cell_type": "code",
   "execution_count": 53,
   "id": "bce32983",
   "metadata": {},
   "outputs": [
    {
     "name": "stdout",
     "output_type": "stream",
     "text": [
      "홍길동인데 전화번호가 0418888989 010 8000 8989 동해번쩍 서해번쩍 이메일은    오늘 날씨는 엄청 좋아요\n",
      "홍길동인데 전화번호가 0418888989 010 8000 8989 동해번쩍 서해번쩍 이메일은    오늘 날씨는 엄청 좋아요\n"
     ]
    }
   ],
   "source": [
    "print(re.sub(r'[^가-힣0-9\\s]', '', data))  # 특수문자, 자음, 모음 없애기\n",
    "print(re.sub('[^가-힣0-9\\s]', '', data))"
   ]
  },
  {
   "cell_type": "code",
   "execution_count": 66,
   "id": "39da42ac",
   "metadata": {},
   "outputs": [
    {
     "name": "stdout",
     "output_type": "stream",
     "text": [
      "C:\u0007i_x\\source\u0001_python\text.txt\n",
      "C:\\ai_x\\source\\01_python\\text1.txt\n",
      "C:\\ai_x\\source\\01_python\\text2.txt\n",
      "C:/ai_x/source/01_python/text3.txt\n"
     ]
    }
   ],
   "source": [
    "# 파일 경로에는 반드시 r, \\\\, / 사용\n",
    "file_path_0 = 'C:\\ai_x\\source\\01_python\\text.txt'\n",
    "file_path_1 = r'C:\\ai_x\\source\\01_python\\text1.txt'\n",
    "file_path_2 = 'C:\\\\ai_x\\\\source\\\\01_python\\\\text2.txt'\n",
    "file_path_3 = 'C:/ai_x/source/01_python/text3.txt'\n",
    "print(file_path_0)\n",
    "print(file_path_1)\n",
    "print(file_path_2)\n",
    "print(file_path_3)"
   ]
  },
  {
   "cell_type": "code",
   "execution_count": 72,
   "id": "bddf74b8",
   "metadata": {},
   "outputs": [
    {
     "name": "stdout",
     "output_type": "stream",
     "text": [
      "Hellow ~ world\n"
     ]
    }
   ],
   "source": [
    "'''\n",
    "open(파일경로, 파일모드)\n",
    "'r'\t읽기(Read)\t기본값. 파일이 있어야 함. 없으면 에러\n",
    "'w'\t쓰기(Write)\t파일이 없으면 새로 만듦. 있으면 내용 덮어씀 ⚠️\n",
    "'a'\t추가(Append)\t파일 끝에 이어쓰기. 기존 내용은 유지됨\n",
    "'x'\t배타적 생성(eXclusive)\t파일이 없을 때만 생성. 있으면 에러\n",
    "'b'\t바이너리(Binary) 모드\t텍스트가 아닌 이미지, 영상, 파일 등에 사용\n",
    "'t'\t텍스트(Text) 모드\t기본값. 문자열로 읽고 씀\n",
    "'+'\t읽기/쓰기(Read/Write)\t읽고 쓰기 모두 가능하게 열기\n",
    "'''\n",
    "\n",
    "file_stream = open(file_path_2, 'w')\n",
    "print(\"Hellow\", \"world\", sep=\" ~ \") # 콘솔 출력\n",
    "print(\"Hellow\", \"world\", sep=\" ~ \", file=file_stream) # 파일 출력\n",
    "file_stream.close()  # close를 하지 않으면 파일 저장 안됨"
   ]
  },
  {
   "cell_type": "markdown",
   "id": "2fc0a824",
   "metadata": {},
   "source": [
    "※ 문자열 슬라이싱"
   ]
  },
  {
   "cell_type": "code",
   "execution_count": 91,
   "id": "4a742ad0",
   "metadata": {},
   "outputs": [
    {
     "name": "stdout",
     "output_type": "stream",
     "text": [
      "0123456789\n",
      "0 9\n"
     ]
    }
   ],
   "source": [
    "str_ = '0123456789'\n",
    "print(str_)\n",
    "print(str_[0], str_[-1]) # 문자 인덱싱"
   ]
  },
  {
   "cell_type": "code",
   "execution_count": 90,
   "id": "d221ed89",
   "metadata": {},
   "outputs": [
    {
     "ename": "IndexError",
     "evalue": "string index out of range",
     "output_type": "error",
     "traceback": [
      "\u001b[1;31m---------------------------------------------------------------------------\u001b[0m",
      "\u001b[1;31mIndexError\u001b[0m                                Traceback (most recent call last)",
      "Cell \u001b[1;32mIn[90], line 1\u001b[0m\n\u001b[1;32m----> 1\u001b[0m \u001b[38;5;28mprint\u001b[39m(\u001b[43mstr_\u001b[49m\u001b[43m[\u001b[49m\u001b[38;5;241;43m10\u001b[39;49m\u001b[43m]\u001b[49m)\n",
      "\u001b[1;31mIndexError\u001b[0m: string index out of range"
     ]
    }
   ],
   "source": [
    "print(str_[10]) # 없는 인덱싱은 오류 발생"
   ]
  },
  {
   "cell_type": "code",
   "execution_count": 99,
   "id": "3f65314b",
   "metadata": {},
   "outputs": [
    {
     "name": "stdout",
     "output_type": "stream",
     "text": [
      "333\n",
      "3338\n",
      "-3338\n",
      "0068\n"
     ]
    }
   ],
   "source": [
    "'''\n",
    "문자변수[from:stop] : from 부터 stop 앞까지 추출 - 슬라이싱\n",
    "문자변수[from:stop:step] : from 부터 stop 앞까지 step 씩 전진하면서 추출\n",
    "    step 생략시 1\n",
    "    from 생략시 처음부터\n",
    "    stop 생략시 끝까지\n",
    "'''\n",
    "\n",
    "phone_num_1 = '010-6787-3338'\n",
    "phone_num_2 = '02-777-3338'\n",
    "print(phone_num_1[-4:-1]) # -4번째부터 -1번째 앞까지\n",
    "print(phone_num_1[-4:])   # -4번째부터 끝까지\n",
    "print(phone_num_1[-5:120])   # 슬라이싱시 인덱스 범위를 벗어나면 끝까지를 의미\n",
    "print(phone_num_1[0:8:2]) # 스탭을 사용하여 짝수번째 숫자를 추출"
   ]
  },
  {
   "cell_type": "code",
   "execution_count": 117,
   "id": "376edeb7",
   "metadata": {},
   "outputs": [
    {
     "name": "stdout",
     "output_type": "stream",
     "text": [
      "0123456\n",
      "56789\n",
      "987654321\n",
      "9876543210\n",
      "9876543210\n",
      "9876543210\n"
     ]
    }
   ],
   "source": [
    "str_ = '0123456789'\n",
    "# 첫문자~6번째 인덱스까지 추출\n",
    "print(str_[0:7])\n",
    "\n",
    "# 5번째 인덱스부터 끝까지 추출\n",
    "print(str_[5:])\n",
    "\n",
    "# str_를 거꾸로 출력\n",
    "print(str_[9:0:-1])\n",
    "print(str_[9::-1])\n",
    "print(str_[::-1])\n",
    "print(str_[-1::-1])"
   ]
  },
  {
   "cell_type": "markdown",
   "id": "94a5ea85",
   "metadata": {},
   "source": [
    "## 3.3 논리형(True/False)"
   ]
  },
  {
   "cell_type": "code",
   "execution_count": 130,
   "id": "85143eb9",
   "metadata": {},
   "outputs": [
    {
     "name": "stdout",
     "output_type": "stream",
     "text": [
      "True\n",
      "<class 'bool'>\n",
      "True\n"
     ]
    }
   ],
   "source": [
    "a = True\n",
    "b = True\n",
    "print(a)        # a : 매개변수=인자=arument\n",
    "print(type(a))  # a변수의 타입\n",
    "print(isinstance(a, bool))  # isinstance(변수, 타입) : 변수가 해당 타입인지 여부"
   ]
  },
  {
   "cell_type": "code",
   "execution_count": 123,
   "id": "4d6ca276",
   "metadata": {},
   "outputs": [
    {
     "data": {
      "text/plain": [
       "(1, 0)"
      ]
     },
     "execution_count": 123,
     "metadata": {},
     "output_type": "execute_result"
    }
   ],
   "source": [
    "int(True), int(False)"
   ]
  },
  {
   "cell_type": "code",
   "execution_count": 131,
   "id": "0b4e9a52",
   "metadata": {},
   "outputs": [
    {
     "name": "stdout",
     "output_type": "stream",
     "text": [
      "140708726065360\n",
      "140708726065360\n"
     ]
    }
   ],
   "source": [
    "# False로 간주되는 것들 : 0, \"\"(빈스트링), None, [](빈리스트), ()(빈소괄호), {}(빈딕셔너리)\n",
    "# True로 간주되는 것들 : False가 아닌 모든 것, \" \"(공백)\n",
    "\n",
    "print(id(a))\n",
    "print(id(b))"
   ]
  },
  {
   "cell_type": "code",
   "execution_count": 129,
   "id": "dc3fb817",
   "metadata": {},
   "outputs": [
    {
     "name": "stdout",
     "output_type": "stream",
     "text": [
      "False다\n"
     ]
    }
   ],
   "source": [
    "if []:\n",
    "    print('True다')\n",
    "else :\n",
    "    print('False다')"
   ]
  },
  {
   "cell_type": "markdown",
   "id": "cec0feeb",
   "metadata": {},
   "source": [
    "## 3.4 자료형 확인 및 형변환 함수\n",
    "\n",
    "- type(변수)\n",
    "- isinstance(변수, 타입)\n",
    "- int() : 정수형으로 변환   ex) int(\"10\").. \n",
    "- float() : 실수형으로 변화   ex) float(\"10.5\") ...\n",
    "- str() : 문자형으로 변환\n",
    "- bool() : 논리형으로 변환"
   ]
  },
  {
   "cell_type": "code",
   "execution_count": 137,
   "id": "10c097d5",
   "metadata": {},
   "outputs": [
    {
     "data": {
      "text/plain": [
       "(10, 12, 1)"
      ]
     },
     "execution_count": 137,
     "metadata": {},
     "output_type": "execute_result"
    }
   ],
   "source": [
    "int(\"10\"), int(12.9), int(True)"
   ]
  },
  {
   "cell_type": "code",
   "execution_count": 157,
   "id": "6eb48455",
   "metadata": {},
   "outputs": [],
   "source": [
    "# int 에러나는 것들\n",
    "# int(\"12.9\")\n",
    "# int(\" \")\n",
    "# int(\"\")\n",
    "#int(\"1,000\")\n",
    "#int(1,000)"
   ]
  },
  {
   "cell_type": "code",
   "execution_count": 154,
   "id": "955bc6fe",
   "metadata": {},
   "outputs": [
    {
     "data": {
      "text/plain": [
       "(10.0, 12.3, 1.0, 0.0, 1000.0, 12.5)"
      ]
     },
     "execution_count": 154,
     "metadata": {},
     "output_type": "execute_result"
    }
   ],
   "source": [
    "float(10), float(\"12.3\"), float(True), float(False), float(\"1000\"), float(\"  12.5 \")"
   ]
  },
  {
   "cell_type": "code",
   "execution_count": 156,
   "id": "561f7969",
   "metadata": {},
   "outputs": [],
   "source": [
    "# float 에러나는 것들\n",
    "# float(\"1,000\")\n",
    "# float(\"\")\n",
    "# float(\" \")\n",
    "# float(\"  12.  5 \")"
   ]
  },
  {
   "cell_type": "code",
   "execution_count": 162,
   "id": "22d39ab9",
   "metadata": {},
   "outputs": [
    {
     "data": {
      "text/plain": [
       "('10', '10.5', 'True', '', ' ', '1230000000000.0')"
      ]
     },
     "execution_count": 162,
     "metadata": {},
     "output_type": "execute_result"
    }
   ],
   "source": [
    "str(10), str(10.5), str(True), str(), str(' '), str(1.23e12)"
   ]
  },
  {
   "cell_type": "code",
   "execution_count": 163,
   "id": "b216ab40",
   "metadata": {},
   "outputs": [
    {
     "data": {
      "text/plain": [
       "(False, False, False, False, False, False)"
      ]
     },
     "execution_count": 163,
     "metadata": {},
     "output_type": "execute_result"
    }
   ],
   "source": [
    "bool(\"\"), bool(0), bool(0.0), bool([]), bool({}), bool(None)"
   ]
  },
  {
   "cell_type": "code",
   "execution_count": 164,
   "id": "85fca72a",
   "metadata": {},
   "outputs": [
    {
     "data": {
      "text/plain": [
       "True"
      ]
     },
     "execution_count": 164,
     "metadata": {},
     "output_type": "execute_result"
    }
   ],
   "source": [
    "bool(' ')"
   ]
  },
  {
   "cell_type": "markdown",
   "id": "9fb1d880",
   "metadata": {},
   "source": [
    "파이썬 기본 자료형(정리)\n",
    "1. 숫자 - int, float, complex\n",
    "2. 문자 - str, 문자슬라이싱, raw데이터(정규표현식, 파일경로)\n",
    "3. 논리 - False로 판별되는 경우"
   ]
  },
  {
   "cell_type": "markdown",
   "id": "997437d6",
   "metadata": {},
   "source": [
    "# 4절. 포맷팅\n",
    "- 포맷팅이란 출력할 문자, 숫자, 날짜 데이터에 형식을 지정하는 것"
   ]
  },
  {
   "cell_type": "markdown",
   "id": "35cd5c7c",
   "metadata": {},
   "source": [
    "## 4.1 문자열에 출력형"
   ]
  },
  {
   "cell_type": "code",
   "execution_count": 165,
   "id": "4e337362",
   "metadata": {},
   "outputs": [
    {
     "name": "stdout",
     "output_type": "stream",
     "text": [
      "홍길동 님의 나이는  30 살입니다\n"
     ]
    }
   ],
   "source": [
    "name = '홍길동'\n",
    "age = 30\n",
    "print(name, '님의 나이는 ', age, '살입니다')"
   ]
  },
  {
   "cell_type": "code",
   "execution_count": 176,
   "id": "fdfc3915",
   "metadata": {},
   "outputs": [
    {
     "name": "stdout",
     "output_type": "stream",
     "text": [
      "홍길동님의 나이는  30살입니다\n",
      "홍길동님의 나이는 30살입니다\n",
      "홍길동님의 나이는  30살입니다\n"
     ]
    }
   ],
   "source": [
    "print('%s님의 나이는 %3d살입니다'%(name, age))  ## %s : 문자, %d : 정수, %f : 실수\n",
    "print(f\"{name}님의 나이는 {age}살입니다\")\n",
    "print(\"{}님의 나이는 {:3d}살입니다\".format(name, age))"
   ]
  },
  {
   "cell_type": "markdown",
   "id": "75e01e4d",
   "metadata": {},
   "source": [
    "##  4.2 format() 문법"
   ]
  },
  {
   "cell_type": "code",
   "execution_count": 183,
   "id": "842ae55d",
   "metadata": {},
   "outputs": [],
   "source": [
    "# '{[인덱스]:[공백대체문자][정렬방식][자릿수][타입]}'. format(변수1, 변수2) \n",
    "    # 인덱스 : format 함수 안의 매개변수의 순서, 생략 가능, 생략시 {} 순서대로 입력\n",
    "    # 정수 자릿수 : 출력될 자리수 d, 변수보다 작은 자릿수가 지정되면 자릿수 무시\n",
    "    # 실수 자릿수 : 출력될 자릿수.소수점이하 자릿수f   ex) 123.45f => 5.1\n",
    "    # 문자 자릿수 : 전체확보될 자릿수[.변수중출력할자릿수]s    ex) 10.2s  -> 확보는 10자리 하는데, 2개만 출력해\n",
    "    # 정렬방식 : <(왼쪽정렬), >(오른쪽정렬), ^(가운데정렬) - 자리수를 지정해야만 가능\n",
    "    # 타입 : d(10진수 정수), b(2진수), x(16진수), f(실수), s(문자)\n",
    "    # 공백대체문자 : 정렬방식 반드시 기입해야 작성가능"
   ]
  },
  {
   "cell_type": "code",
   "execution_count": 189,
   "id": "6c65bcb9",
   "metadata": {},
   "outputs": [
    {
     "name": "stdout",
     "output_type": "stream",
     "text": [
      "이름은? 홍길동\n",
      "나이는? 40\n"
     ]
    }
   ],
   "source": [
    "name = input('이름은? ')\n",
    "age = int(input('나이는? ')) # 에러발생시 예외 설정하기\n"
   ]
  },
  {
   "cell_type": "code",
   "execution_count": 191,
   "id": "9157dd94",
   "metadata": {},
   "outputs": [
    {
     "name": "stdout",
     "output_type": "stream",
     "text": [
      "40살 홍길동님 반갑습니다\n",
      "*40*살 ___홍길동____님 반갑습니다\n"
     ]
    }
   ],
   "source": [
    "print(\"{}살 {}님 반갑습니다\".format(age, name))\n",
    "print(\"{1:*^4d}살 {0:_^10}님 반갑습니다\".format(name, age))"
   ]
  },
  {
   "cell_type": "code",
   "execution_count": 2,
   "id": "7c7ef5a2",
   "metadata": {},
   "outputs": [
    {
     "name": "stdout",
     "output_type": "stream",
     "text": [
      "[12345], [     12345], [12345]\n",
      "[Hello], [Hello     ], [Hello]\n"
     ]
    }
   ],
   "source": [
    "# 숫자의 경우 : 오른쪽 정렬(기본값)\n",
    "# 문자의 경우 : 왼쪽 정렬(기본값)\n",
    "# 변수보다 작은 자리수를 지정하면 자릿수가 무시되고 다 출력(정수 지라수)\n",
    "i= 12345\n",
    "s= \"Hello\"\n",
    "# 오류 - print(\"[{}], [{:10}], [{:3}]\").format(i)\n",
    "print(\"[{0}], [{0:10}], [{0:3}]\".format(i))\n",
    "print(\"[{0}], [{0:10}], [{0:3}]\".format(s))"
   ]
  },
  {
   "cell_type": "code",
   "execution_count": 15,
   "id": "3705d9f0",
   "metadata": {},
   "outputs": [
    {
     "name": "stdout",
     "output_type": "stream",
     "text": [
      "f = [$2.76]\n",
      "s = [He___]\n"
     ]
    }
   ],
   "source": [
    "# 문자 : 전체자리수.표현될자리수\n",
    "# 실수 : 전체자리수.소수점이하 표현될 자리수\n",
    "f = 2.758\n",
    "s = 'Hello'\n",
    "print(\"f = [{:$>5.2f}]\".format(f))\n",
    "print('s = [{:_<5.2s}]'.format(s))"
   ]
  },
  {
   "cell_type": "code",
   "execution_count": 228,
   "id": "1965c6fe",
   "metadata": {},
   "outputs": [
    {
     "name": "stdout",
     "output_type": "stream",
     "text": [
      "[      +123], [      -123], [+000000800]\n",
      "[+      123], [-      123], [+000000800]\n"
     ]
    }
   ],
   "source": [
    "# + : 부호를 출력\n",
    "# = : 부호를 맨앞으로 이동 (양수는 기본 비노출 유지)\n",
    "# =+ : 부호를 맨앞으로 출력\n",
    "\n",
    "a, b, c = 123, -123, 800\n",
    "print('[{:+10}], [{:+10}], [{:+010}]'.format(a, b, c))    \n",
    "print('[{:=+10}], [{:=+10}], [{:=+010}]'.format(a, b, c))"
   ]
  },
  {
   "cell_type": "code",
   "execution_count": 233,
   "id": "f9e1fc11",
   "metadata": {},
   "outputs": [
    {
     "name": "stdout",
     "output_type": "stream",
     "text": [
      "[     +2.79]\n"
     ]
    }
   ],
   "source": [
    "#\n",
    "f = 2.785\n",
    "print(\"[{:+10.2f}]\".format(f))"
   ]
  },
  {
   "cell_type": "code",
   "execution_count": 17,
   "id": "f936af7d",
   "metadata": {},
   "outputs": [
    {
     "name": "stdout",
     "output_type": "stream",
     "text": [
      "[    +2.758]\n",
      "[    +2.758]\n"
     ]
    }
   ],
   "source": [
    "sign = '+'\n",
    "width = 10\n",
    "precision = 3\n",
    "print(\"[{:{}{}.{}f}]\".format(f, \n",
    "                           sign, \n",
    "                           width, \n",
    "                           precision))\n",
    "print(\"[{:{sign}{width}.{precision}f}]\".format(f, \n",
    "                           sign=sign, \n",
    "                           width=width, \n",
    "                           precision=precision))"
   ]
  },
  {
   "cell_type": "code",
   "execution_count": 241,
   "id": "666df6f7",
   "metadata": {},
   "outputs": [
    {
     "name": "stdout",
     "output_type": "stream",
     "text": [
      "10진수 a = [   15]\n",
      " 2진수 a = [ 1111]\n",
      "16진수 a = [    f]\n"
     ]
    }
   ],
   "source": [
    "a= 15\n",
    "print(\"10진수 a = [{:5d}]\".format(a))\n",
    "print(\" 2진수 a = [{:5b}]\".format(a))\n",
    "print(\"16진수 a = [{:5x}]\".format(a))"
   ]
  },
  {
   "cell_type": "markdown",
   "id": "65934372",
   "metadata": {},
   "source": [
    "## 4.3 날짜 출력"
   ]
  },
  {
   "cell_type": "code",
   "execution_count": 248,
   "id": "582d7291",
   "metadata": {},
   "outputs": [
    {
     "name": "stdout",
     "output_type": "stream",
     "text": [
      "2025-04-09 17:45:56.735676\n",
      "2025-04-09\n"
     ]
    }
   ],
   "source": [
    "from datetime import datetime, date\n",
    "now = datetime.now()\n",
    "today = date.today()\n",
    "print(now)\n",
    "print(today)"
   ]
  },
  {
   "cell_type": "code",
   "execution_count": 254,
   "id": "d28ab3cb",
   "metadata": {},
   "outputs": [
    {
     "name": "stdout",
     "output_type": "stream",
     "text": [
      "2025-04-09 17:45:56.735676\n",
      "25년 04월 09일 PM 05시 45분 56초\n",
      "2025년 04월 09일 17시 45분 56초\n"
     ]
    }
   ],
   "source": [
    "print('{}'.format(now))\n",
    "print('{:%y년 %m월 %d일 %p %I시 %M분 %S초}'.format(now))\n",
    "print('{:%Y년 %m월 %d일 %H시 %M분 %S초}'.format(now))"
   ]
  },
  {
   "cell_type": "code",
   "execution_count": 257,
   "id": "84caea46",
   "metadata": {},
   "outputs": [
    {
     "name": "stdout",
     "output_type": "stream",
     "text": [
      "2025년 04월 09일 17시 45분 56초\n",
      "2025-04-09 17:45:56\n"
     ]
    }
   ],
   "source": [
    "print(now.strftime(\"%Y년 %m월 %d일 %H시 %M분 %S초\"))\n",
    "print(now.strftime(\"%Y-%m-%d %H:%M:%S\"))"
   ]
  },
  {
   "cell_type": "code",
   "execution_count": null,
   "id": "2c6d032c",
   "metadata": {},
   "outputs": [],
   "source": []
  }
 ],
 "metadata": {
  "kernelspec": {
   "display_name": "Python 3 (ipykernel)",
   "language": "python",
   "name": "python3"
  },
  "language_info": {
   "codemirror_mode": {
    "name": "ipython",
    "version": 3
   },
   "file_extension": ".py",
   "mimetype": "text/x-python",
   "name": "python",
   "nbconvert_exporter": "python",
   "pygments_lexer": "ipython3",
   "version": "3.10.9"
  },
  "toc": {
   "base_numbering": 1,
   "nav_menu": {},
   "number_sections": false,
   "sideBar": true,
   "skip_h1_title": false,
   "title_cell": "Table of Contents",
   "title_sidebar": "Contents",
   "toc_cell": false,
   "toc_position": {
    "height": "calc(100% - 180px)",
    "left": "10px",
    "top": "150px",
    "width": "233.594px"
   },
   "toc_section_display": true,
   "toc_window_display": true
  }
 },
 "nbformat": 4,
 "nbformat_minor": 5
}
