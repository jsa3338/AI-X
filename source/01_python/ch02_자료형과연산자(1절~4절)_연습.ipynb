{
 "cells": [
  {
   "cell_type": "code",
   "execution_count": 1,
   "id": "dc9610bd",
   "metadata": {},
   "outputs": [
    {
     "data": {
      "text/html": [
       "\n",
       "<style>\n",
       "div.container{width:86% !important;}\n",
       "div.cell.code_cell.rendered{width:100%;}\n",
       "div.CodeMirror {font-family:Consolas; font-size:12pt;}\n",
       "div.output {font-size:12pt; font-weight:bold;}\n",
       "div.input {font-family:Consolas; font-size:12pt;}\n",
       "div.prompt {min-width:70px;}\n",
       "div#toc-wrapper{padding-top:120px;}\n",
       "div.text_cell_render ul li{font-size:12pt;padding:5px;}\n",
       "table.dataframe{font-size:12px;}\n",
       "</style>\n"
      ],
      "text/plain": [
       "<IPython.core.display.HTML object>"
      ]
     },
     "metadata": {},
     "output_type": "display_data"
    }
   ],
   "source": [
    "from IPython.display import display, HTML\n",
    "display(HTML(\"\"\"\n",
    "<style>\n",
    "div.container{width:86% !important;}\n",
    "div.cell.code_cell.rendered{width:100%;}\n",
    "div.CodeMirror {font-family:Consolas; font-size:12pt;}\n",
    "div.output {font-size:12pt; font-weight:bold;}\n",
    "div.input {font-family:Consolas; font-size:12pt;}\n",
    "div.prompt {min-width:70px;}\n",
    "div#toc-wrapper{padding-top:120px;}\n",
    "div.text_cell_render ul li{font-size:12pt;padding:5px;}\n",
    "table.dataframe{font-size:12px;}\n",
    "</style>\n",
    "\"\"\"))"
   ]
  },
  {
   "cell_type": "markdown",
   "id": "cf5065a3",
   "metadata": {},
   "source": [
    "## 정규 표현식\n",
    "```\n",
    "1. 설명 : 특정 패턴을 찾고, 검사하고, 바꾸고, 추출하는데 쓰이는 도구, \n",
    "    이메일/전화번호/주민번호 등 형식이 정해진 데이터 검증에 많이 사용\n",
    "2. 간단한 문법\n",
    "    /d    숫자 [0-9]\n",
    "    /D    숫자가 아닌 것\n",
    "    /w    영문자와 숫자 [a-zA-Z0-9]\n",
    "    /W    영문자나 숫자가 아닌 문자\n",
    "    .     임의의 1글자\n",
    "    \\.    .마침표\n",
    "    \\-    - 대쉬\n",
    "    {2,3} 2~3번 반복\n",
    "    {4}   4번 반복\n",
    "    {2, } 2번 이상 반복\n",
    "    +     1번 이상 반복\n",
    "    *     0번 이상 반복\n",
    "    ?     0~1번 반복\n",
    "3. 정규 표현식 연습장 https://regexr.com/\n",
    "```"
   ]
  },
  {
   "cell_type": "code",
   "execution_count": 2,
   "id": "6df58d21",
   "metadata": {},
   "outputs": [
    {
     "name": "stdout",
     "output_type": "stream",
     "text": [
      "홍길동인데 전화번호가 041-888-8989, 010 8000 8989 동해번쩍 서해번쩍 이메일은 abc@yahoo.com ㅋㅋ ㅠㅜ 오늘 날씨는 엄청 좋아요\n"
     ]
    }
   ],
   "source": [
    "import re\n",
    "data = \"홍길동인데 전화번호가 041-888-8989, 010 8000 8989 \\\n",
    "동해번쩍 서해번쩍 이메일은 abc@yahoo.com ㅋㅋ ㅠㅜ \\\n",
    "오늘 날씨는 엄청 좋아요\" \n",
    "\n",
    "print(data)"
   ]
  },
  {
   "cell_type": "code",
   "execution_count": 11,
   "id": "edfb3148",
   "metadata": {},
   "outputs": [
    {
     "data": {
      "text/plain": [
       "['041-888-8989', '010 8000 8989']"
      ]
     },
     "execution_count": 11,
     "metadata": {},
     "output_type": "execute_result"
    }
   ],
   "source": [
    "tel_pattern = r\"\\d{2,3}[-). ]?\\d{3,4}[-. ]?\\d{4}\"\n",
    "tel = re.findall(tel_pattern, data)\n",
    "tel"
   ]
  },
  {
   "cell_type": "code",
   "execution_count": 19,
   "id": "4513b09a",
   "metadata": {},
   "outputs": [
    {
     "name": "stdout",
     "output_type": "stream",
     "text": [
      "<re.Match object; span=(12, 24), match='041-888-8989'>\n",
      "041-888-8989\n"
     ]
    }
   ],
   "source": [
    "tel_pattern = \"(\\d{2,3})[-). ]?(\\d{3,4})[-. ]?(\\d{4})\"\n",
    "first_tel = re.search(tel_pattern, data)\n",
    "print(first_tel)\n",
    "print(data[12:24])"
   ]
  },
  {
   "cell_type": "code",
   "execution_count": 22,
   "id": "ddf2d70b",
   "metadata": {},
   "outputs": [
    {
     "name": "stdout",
     "output_type": "stream",
     "text": [
      "전화번호 : 041-888-8989\n",
      "국번 : 041\n",
      "중간번호 : 888\n",
      "끝번호 : 8989\n"
     ]
    }
   ],
   "source": [
    "print('전화번호 :', first_tel.group(0))\n",
    "print('국번 :', first_tel.group(1))\n",
    "print('중간번호 :', first_tel.group(2))\n",
    "print('끝번호 :', first_tel.group(3))"
   ]
  },
  {
   "cell_type": "code",
   "execution_count": 25,
   "id": "57027c29",
   "metadata": {},
   "outputs": [
    {
     "name": "stdout",
     "output_type": "stream",
     "text": [
      "홍길동인데 전화번호가 0418888989 010 8000 8989 동해번쩍 서해번쩍 이메일은    오늘 날씨는 엄청 좋아요\n"
     ]
    }
   ],
   "source": [
    "print(re.sub(r'[^가-힣0-9\\s]','', data))"
   ]
  },
  {
   "cell_type": "code",
   "execution_count": 29,
   "id": "f4a21b42",
   "metadata": {},
   "outputs": [
    {
     "name": "stdout",
     "output_type": "stream",
     "text": [
      "D:\\AI-X\\source\\01_python\\test01.txt\n"
     ]
    }
   ],
   "source": [
    "file_path = r'D:\\AI-X\\source\\01_python\\test01.txt'\n",
    "print(file_path)"
   ]
  },
  {
   "cell_type": "code",
   "execution_count": 31,
   "id": "a7101416",
   "metadata": {},
   "outputs": [
    {
     "name": "stdout",
     "output_type": "stream",
     "text": [
      "Hello ~ world\n"
     ]
    }
   ],
   "source": [
    "file_stream = open(file_path,'w')\n",
    "print('Hello', 'world', sep=' ~ ')\n",
    "print('Hello', 'world', sep=' ~ ', file=file_stream)\n",
    "file_stream.close()"
   ]
  },
  {
   "cell_type": "code",
   "execution_count": 11,
   "id": "85fe642c",
   "metadata": {},
   "outputs": [
    {
     "name": "stdout",
     "output_type": "stream",
     "text": [
      "[    +2.785]\n",
      "[    +2.785]\n"
     ]
    }
   ],
   "source": [
    "f = 2.785\n",
    "sign = '+'\n",
    "width = 10\n",
    "precision = 3\n",
    "print(\"[{:{}{}.{}f}]\".format(f,\n",
    "                         sign,\n",
    "                         width,\n",
    "                         precision))\n",
    "print(\"[{:{sign}{width}.{precision}f}]\".format(f,\n",
    "                                              sign=sign,\n",
    "                                              width=width,\n",
    "                                              precision=precision))"
   ]
  },
  {
   "cell_type": "code",
   "execution_count": 13,
   "id": "15d29a33",
   "metadata": {},
   "outputs": [
    {
     "name": "stdout",
     "output_type": "stream",
     "text": [
      "10진수 a= [        15]\n",
      "2진수 a= [      1111]\n",
      "16진수 a= [         f]\n",
      "실수 a= [ 15.000000]\n"
     ]
    }
   ],
   "source": [
    "a=15\n",
    "print(\"10진수 a= [{:10d}]\".format(a) )\n",
    "print(\"2진수 a= [{:10b}]\".format(a) )\n",
    "print(\"16진수 a= [{:10x}]\".format(a) )\n",
    "print(\"실수 a= [{:10f}]\".format(a) )"
   ]
  },
  {
   "cell_type": "code",
   "execution_count": 14,
   "id": "42ee107c",
   "metadata": {},
   "outputs": [
    {
     "name": "stdout",
     "output_type": "stream",
     "text": [
      "2025-04-10 09:48:30.833187\n",
      "2025-04-10\n"
     ]
    }
   ],
   "source": [
    "from datetime import datetime, date\n",
    "now = datetime.now()\n",
    "today = date.today()\n",
    "print(now)\n",
    "print(today)"
   ]
  },
  {
   "cell_type": "code",
   "execution_count": 23,
   "id": "ae288430",
   "metadata": {},
   "outputs": [
    {
     "name": "stdout",
     "output_type": "stream",
     "text": [
      "지금 시간은 2025-04-10 09:48:30.833187\n",
      "지금 시간은 2025년 04월 10일 09시 48분 30초\n",
      "지금 시간은 04/10/25\n",
      "2025년 04월 10일 09시 48분 30초\n"
     ]
    }
   ],
   "source": [
    "print(\"지금 시간은 {}\".format(now))\n",
    "print(\"지금 시간은 {:%Y년 %m월 %d일 %H시 %M분 %S초}\".format(now))\n",
    "print(\"지금 시간은 {:%D}\".format(now))\n",
    "print(now.strftime(\"%Y년 %m월 %d일 %H시 %M분 %S초\"))"
   ]
  },
  {
   "cell_type": "code",
   "execution_count": null,
   "id": "5780ec73",
   "metadata": {},
   "outputs": [],
   "source": []
  }
 ],
 "metadata": {
  "kernelspec": {
   "display_name": "Python 3 (ipykernel)",
   "language": "python",
   "name": "python3"
  },
  "language_info": {
   "codemirror_mode": {
    "name": "ipython",
    "version": 3
   },
   "file_extension": ".py",
   "mimetype": "text/x-python",
   "name": "python",
   "nbconvert_exporter": "python",
   "pygments_lexer": "ipython3",
   "version": "3.10.9"
  },
  "toc": {
   "base_numbering": 1,
   "nav_menu": {},
   "number_sections": false,
   "sideBar": true,
   "skip_h1_title": false,
   "title_cell": "Table of Contents",
   "title_sidebar": "Contents",
   "toc_cell": false,
   "toc_position": {},
   "toc_section_display": true,
   "toc_window_display": false
  }
 },
 "nbformat": 4,
 "nbformat_minor": 5
}
