{
 "cells": [
  {
   "cell_type": "code",
   "execution_count": 1,
   "id": "679c6cbb",
   "metadata": {},
   "outputs": [
    {
     "data": {
      "text/html": [
       "\n",
       "<style>\n",
       "div.container{width:86% !important;}\n",
       "div.cell.code_cell.rendered{width:100%;}\n",
       "div.CodeMirror {font-family:Consolas; font-size:12pt;}\n",
       "div.output {font-size:12pt; font-weight:bold;}\n",
       "div.input {font-family:Consolas; font-size:12pt;}\n",
       "div.prompt {min-width:70px;}\n",
       "div#toc-wrapper{padding-top:120px;}\n",
       "div.text_cell_render ul li{font-size:12pt;padding:5px;}\n",
       "table.dataframe{font-size:12px;}\n",
       "</style>\n"
      ],
      "text/plain": [
       "<IPython.core.display.HTML object>"
      ]
     },
     "metadata": {},
     "output_type": "display_data"
    }
   ],
   "source": [
    "from IPython.display import display, HTML\n",
    "display(HTML(\"\"\"\n",
    "<style>\n",
    "div.container{width:86% !important;}\n",
    "div.cell.code_cell.rendered{width:100%;}\n",
    "div.CodeMirror {font-family:Consolas; font-size:12pt;}\n",
    "div.output {font-size:12pt; font-weight:bold;}\n",
    "div.input {font-family:Consolas; font-size:12pt;}\n",
    "div.prompt {min-width:70px;}\n",
    "div#toc-wrapper{padding-top:120px;}\n",
    "div.text_cell_render ul li{font-size:12pt;padding:5px;}\n",
    "table.dataframe{font-size:12px;}\n",
    "</style>\n",
    "\"\"\"))"
   ]
  },
  {
   "cell_type": "code",
   "execution_count": 3,
   "id": "02b86ec9",
   "metadata": {},
   "outputs": [
    {
     "name": "stdout",
     "output_type": "stream",
     "text": [
      "10의 5승 = 100000\n",
      "4/2(결과실수) =  2.0\n"
     ]
    }
   ],
   "source": [
    "print('10의 5승 =', 10**5)\n",
    "print('4/2(결과실수) = ', 4/2)"
   ]
  },
  {
   "cell_type": "code",
   "execution_count": 7,
   "id": "934d153a",
   "metadata": {},
   "outputs": [
    {
     "name": "stdout",
     "output_type": "stream",
     "text": [
      "정수를 입력하세요 : 1\n",
      "입력하신 정수 1는 홀수입니다.\n"
     ]
    }
   ],
   "source": [
    "# 퀴즈 1.. 정수를 입력받아 짝수인지 홀수인지\n",
    "a = int(input('정수를 입력하세요 : '))\n",
    "\n",
    "if a%2 ==0:\n",
    "    print('입력하신 정수 {}는 짝수입니다.'.format(a))\n",
    "else:\n",
    "    print('입력하신 정수 {}는 홀수입니다.'.format(a))\n"
   ]
  },
  {
   "cell_type": "code",
   "execution_count": 9,
   "id": "104be72f",
   "metadata": {},
   "outputs": [
    {
     "name": "stdout",
     "output_type": "stream",
     "text": [
      "정수를 입력하세요 : 5\n",
      "입력하신 정수 5는 홀수입니다.\n"
     ]
    }
   ],
   "source": [
    "a = int(input('정수를 입력하세요 : '))\n",
    "result = a%2\n",
    "\n",
    "if result:\n",
    "    print('입력하신 정수 {}는 홀수입니다.'.format(a))\n",
    "else:\n",
    "    print('입력하신 정수 {}는 짝수입니다.'.format(a))"
   ]
  },
  {
   "cell_type": "code",
   "execution_count": 33,
   "id": "b076fec2",
   "metadata": {},
   "outputs": [
    {
     "name": "stdout",
     "output_type": "stream",
     "text": [
      "1. 글자수 : 39\n",
      "2. 대문자로 : PYTHON IS EASY. PYTHON IS SMART. PYTHON\n",
      "3. 소문자로 : python is easy. python is smart. python\n",
      "4. title : Python Is Easy. Python Is Smart. Python\n",
      "5. capitalize : Python is easy. python is smart. python\n",
      "6. pytion 몇번나오는지 : 2\n",
      "7. python 대소문자 몇번나오는지 : 3\n",
      "7. python 대소문자 몇번나오는지 : 3\n",
      "7. python 대소문자 몇번나오는지 : 3\n",
      "8. python이 나오는 첫번째 인덱스 위치 : 0\n",
      "8. python이 나오는 마지막 인덱스 위치 : 33\n",
      "8. java 나오는 첫번째 인덱스 위치 : -1\n",
      "9. python으로 시작하는지 여부 : True\n",
      "10. python으로 끝나는지 여부 : True\n",
      "10. 대소문자 구분없이 python으로 끝나는지 여부 : True\n"
     ]
    }
   ],
   "source": [
    "temp = 'python is easy. pYThon is smart. python'\n",
    "print('1. 글자수 :', len(temp))\n",
    "print('2. 대문자로 :', temp.upper())\n",
    "print('3. 소문자로 :', temp.lower())\n",
    "print('4. title :', temp.title())\n",
    "print('5. capitalize :', temp.capitalize())\n",
    "print('6. pytion 몇번나오는지 :', temp.count('python'))\n",
    "print('7. python 대소문자 몇번나오는지 :', temp.lower().count('python'))\n",
    "print('7. python 대소문자 몇번나오는지 :', temp.upper().count('PYTHON'))\n",
    "print('7. python 대소문자 몇번나오는지 :', temp.title().count('Python'))\n",
    "print('8. python이 나오는 첫번째 인덱스 위치 :', temp.find('python'))\n",
    "print('8. python이 나오는 마지막 인덱스 위치 :', temp.rfind('python'))\n",
    "print('8. java 나오는 첫번째 인덱스 위치 :', temp.find('java'))\n",
    "print('9. python으로 시작하는지 여부 :', temp.startswith('python'))\n",
    "print('10. python으로 끝나는지 여부 :', temp.endswith('python'))\n",
    "print('10. 대소문자 구분없이 python으로 끝나는지 여부 :', temp.lower().endswith('python'))"
   ]
  },
  {
   "cell_type": "code",
   "execution_count": 42,
   "id": "9d7268eb",
   "metadata": {},
   "outputs": [
    {
     "name": "stdout",
     "output_type": "stream",
     "text": [
      "11. 좌우 공백제거 : [Python is easy]\n",
      "11. 좌 공백제거 : [Python is easy          ]\n",
      "11. 우 공백제거 : [           Python is easy]\n",
      "12. 숫자문자열인지 : False\n",
      "13-1. 소문자열인지 : False\n",
      "13-2. 대문자열인지 : False\n",
      "14. ,콤마 제거 : 1000000\n"
     ]
    }
   ],
   "source": [
    "temp = '           Python is easy          '\n",
    "notdigit = '1,000,000'\n",
    "num_str = '1000'\n",
    "\n",
    "print('11. 좌우 공백제거 : [{}]'.format(temp.strip()))\n",
    "print('11. 좌 공백제거 : [{}]'.format(temp.lstrip()))\n",
    "print('11. 우 공백제거 : [{}]'.format(temp.rstrip()))\n",
    "print('12. 숫자문자열인지 :', notdigit.isdigit())\n",
    "print('13-1. 소문자열인지 :', temp.islower())\n",
    "print('13-2. 대문자열인지 :', temp.isupper())\n",
    "print('14. ,콤마 제거 :', notdigit.replace(',', ''))"
   ]
  },
  {
   "cell_type": "code",
   "execution_count": 44,
   "id": "fc05ce4b",
   "metadata": {},
   "outputs": [
    {
     "name": "stdout",
     "output_type": "stream",
     "text": [
      "space 단위로 분리하기 ['홍길동', '김길동', '신길동', '유길동']\n",
      "연도 : 2025\n",
      "월 : 05\n",
      "일 : 10\n"
     ]
    }
   ],
   "source": [
    "# 문자열 나누기\n",
    "temp = '홍길동   김길동   신길동   유길동'\n",
    "print('space 단위로 분리하기', temp.split())\n",
    "date = '2025-05-10'\n",
    "date_list = date.split('-')\n",
    "print('연도 :', date_list[0])\n",
    "print('월 :', date_list[1])\n",
    "print('일 :', date_list[2])"
   ]
  },
  {
   "cell_type": "code",
   "execution_count": 50,
   "id": "2d28d4a1",
   "metadata": {},
   "outputs": [
    {
     "name": "stdout",
     "output_type": "stream",
     "text": [
      "Python - HTML/CSS - JavaScript - DBMS\n",
      "['Python', 'HTML/CSS', 'JavaScript', 'DBMS']\n",
      "Python/HTML/CSS/JavaScript/DBMS\n"
     ]
    }
   ],
   "source": [
    "# '-'을 '/'로 바꾸기\n",
    "temp = 'Python - HTML/CSS - JavaScript - DBMS'\n",
    "print(temp)\n",
    "splited_temp = temp.split(' - ')\n",
    "print(splited_temp)\n",
    "joined_temp = '/'.join(splited_temp)\n",
    "print(joined_temp)"
   ]
  },
  {
   "cell_type": "code",
   "execution_count": 60,
   "id": "a70fcb80",
   "metadata": {},
   "outputs": [
    {
     "name": "stdout",
     "output_type": "stream",
     "text": [
      "2025-05-13 08:51:00\n",
      "Tue May 13 08:51:00 2025\n",
      "2025년 05월 13일(Tue) 08시 51분 00초\n",
      "2025년 05월 13일(화) 08시 51분 00초\n"
     ]
    }
   ],
   "source": [
    "from datetime import datetime\n",
    "thatday = datetime(2025, 5, 13, 8, 51)\n",
    "print(thatday)\n",
    "print(thatday.ctime())\n",
    "print('{:%Y년 %m월 %d일(%a) %H시 %M분 %S초}'.format(thatday))\n",
    "\n",
    "import locale\n",
    "locale.setlocale(locale.LC_TIME, 'ko_KR')\n",
    "print(thatday.strftime('%Y년 %m월 %d일(%a) %H시 %M분 %S초'))"
   ]
  },
  {
   "cell_type": "code",
   "execution_count": 67,
   "id": "363340e6",
   "metadata": {},
   "outputs": [
    {
     "name": "stdout",
     "output_type": "stream",
     "text": [
      "29\n"
     ]
    }
   ],
   "source": [
    "now = datetime.now()\n",
    "\n",
    "diff = thatday - now\n",
    "\n",
    "print(diff.days)"
   ]
  },
  {
   "cell_type": "code",
   "execution_count": 74,
   "id": "5760bb49",
   "metadata": {},
   "outputs": [
    {
     "name": "stdout",
     "output_type": "stream",
     "text": [
      "홍길동님의 나이는 23 살입니다\n",
      "홍길동님의 나이는 23 살입니다\n",
      "홍길동님의 나이는 23 살입니다\n"
     ]
    }
   ],
   "source": [
    "# 1.이름과 나이 변수를 다음 형식으로 출력하도록 format() 함수를 이용해 형식화하세요\n",
    "# [출력형식 : 홍길동님의 나이는 23 살입니다]\n",
    "\n",
    "name = '홍길동'\n",
    "age = 23\n",
    "\n",
    "print('{}님의 나이는 {:<3}살입니다'.format(name, age))\n",
    "print(f'{name}님의 나이는 {age} 살입니다')\n",
    "print('{0}님의 나이는 {1:<3}살입니다'.format(name, age))"
   ]
  },
  {
   "cell_type": "code",
   "execution_count": 83,
   "id": "5fec5daa",
   "metadata": {},
   "outputs": [
    {
     "name": "stdout",
     "output_type": "stream",
     "text": [
      "첫번째 정수를 입력하세요  10\n",
      "두번째 정수를 입력하세요  2\n",
      "덧셈 :  12 \t 뺄셈 :  8 \t 곱셈 :  20 \t 나눗셈 :  5.0 \n",
      " 몫 :  5 \n",
      " 나머지 :  0\n"
     ]
    }
   ],
   "source": [
    "# 2.두 정수를 입력받아 두 수의 덧셈 , 뺄셈 , 곱셈 , 나눗셈 , 몫 , 나머지를 출력하세요\n",
    "\n",
    "int_1 = int(input('첫번째 정수를 입력하세요  '))\n",
    "int_2 = int(input('두번째 정수를 입력하세요  '))\n",
    "\n",
    "\n",
    "print('덧셈 : ', int_1+int_2,'\\t',\n",
    "      '뺄셈 : ', int_1-int_2,'\\t',\n",
    "    '곱셈 : ', int_1*int_2,'\\t',\n",
    "    '나눗셈 : ', int_1/int_2,'\\n',\n",
    "    '몫 : ', int_1//int_2,'\\n',\n",
    "    '나머지 : ', int_1%int_2)\n",
    "\n"
   ]
  },
  {
   "cell_type": "code",
   "execution_count": 85,
   "id": "219ffd0b",
   "metadata": {},
   "outputs": [
    {
     "name": "stdout",
     "output_type": "stream",
     "text": [
      "World Hello\n"
     ]
    }
   ],
   "source": [
    "# 3. 문자열의 분리하기와 합치기 기능을 이용하여 ‘Hello World'가 할당된 변수를 이용하여 ‘World Hello'로 출력하세요\n",
    "temp = 'Hello World'\n",
    "splited_temp = temp.split()\n",
    "# splited_temp.reverse()\n",
    "joined_temp = ' '.join(splited_temp[::-1])\n",
    "print(joined_temp)\n"
   ]
  },
  {
   "cell_type": "code",
   "execution_count": 87,
   "id": "3a742b69",
   "metadata": {},
   "outputs": [
    {
     "data": {
      "text/plain": [
       "'bcdefa'"
      ]
     },
     "execution_count": 87,
     "metadata": {},
     "output_type": "execute_result"
    }
   ],
   "source": [
    "# 4. x = ' abcdef ＇를 이용하여 bcdefa 로 출력하세요 문자 슬라이싱이용\n",
    "x = 'abcdef'\n",
    "x1 = x[1:] + x[0]\n",
    "x1"
   ]
  },
  {
   "cell_type": "code",
   "execution_count": 88,
   "id": "36ba23ca",
   "metadata": {},
   "outputs": [
    {
     "data": {
      "text/plain": [
       "'fedcba'"
      ]
     },
     "execution_count": 88,
     "metadata": {},
     "output_type": "execute_result"
    }
   ],
   "source": [
    "# 5. x = ‘ abcdef 를 이용하여 fedcba 로 출력하세요\n",
    "x = 'abcdef'\n",
    "x1 = x[::-1]\n",
    "x1"
   ]
  },
  {
   "cell_type": "code",
   "execution_count": 91,
   "id": "63fcbfc0",
   "metadata": {},
   "outputs": [
    {
     "name": "stdout",
     "output_type": "stream",
     "text": [
      "섭씨 온도를 입력하세요 : 18\n",
      "섭씨 온도는 18도, 화씨 온도는 64.40도입니다.\n"
     ]
    }
   ],
   "source": [
    "''' 6. 오늘의 온도를 섭씨온도로 입력받아 화씨 온도로 변환하는 프로그램을 작성하세요 . 화\n",
    "씨 온도는 소수점이 있을 경우만 두번째 자리까지 출력되고 , 소수점이하 값이 없는 경\n",
    "우 소수점을 출력하지 않도록 합니다 다음은 섭씨와 화씨의 변환 공식입니다 . C 는 섭씨 ,\n",
    "F 는 화씨\n",
    "C = (F-32) / 1.8\n",
    "F = (C*1.8) + 32\n",
    "'''\n",
    "\n",
    "\n",
    "\n",
    "C = int(input('섭씨 온도를 입력하세요 : '))\n",
    "F = (C*1.8) + 32\n",
    "\n",
    "if F%1:\n",
    "    print('섭씨 온도는 {}도, 화씨 온도는 {:3.2f}도입니다.'.format(C,F))\n",
    "else:\n",
    "    print('섭씨 온도는 {}도, 화씨 온도는 {:3.0f}도입니다.'.format(C,F))\n"
   ]
  },
  {
   "cell_type": "code",
   "execution_count": null,
   "id": "7258151b",
   "metadata": {},
   "outputs": [],
   "source": [
    "'''7. 다음 중 변수 선언으로 잘못된 것을 모두 고르시오\n",
    "①for\n",
    "②10th\n",
    "③Student.name\n",
    "④_1234\n",
    "'''"
   ]
  },
  {
   "cell_type": "code",
   "execution_count": 96,
   "id": "eba34888",
   "metadata": {},
   "outputs": [
    {
     "name": "stdout",
     "output_type": "stream",
     "text": [
      "mango\n",
      "apple\n",
      "orange\n",
      "grape\n",
      "0번째 과일은 mango입니다\n",
      "1번째 과일은 apple입니다\n",
      "2번째 과일은 orange입니다\n",
      "0번째 과일은 mango입니다\n",
      "1번째 과일은 apple입니다\n",
      "2번째 과일은 orange입니다\n",
      "3번째 과일은 grape입니다\n",
      "mango입니다\n",
      "apple입니다\n",
      "orange입니다\n",
      "grape입니다\n"
     ]
    }
   ],
   "source": [
    "fruits = ['mango', 'apple', 'orange', 'grape']\n",
    "\n",
    "for i in fruits:\n",
    "    print(i)\n",
    "\n",
    "for i in range(3):\n",
    "    print('{}번째 과일은 {}입니다'.format(i, fruits[i]))\n",
    "\n",
    "for i in range(len(fruits)):\n",
    "    print('{}번째 과일은 {}입니다'.format(i, fruits[i]))\n",
    "\n",
    "for i in fruits:\n",
    "    print(f'{i}입니다')"
   ]
  },
  {
   "cell_type": "code",
   "execution_count": 97,
   "id": "2c6872ec",
   "metadata": {},
   "outputs": [
    {
     "name": "stdout",
     "output_type": "stream",
     "text": [
      "0번째 과일은 mango입니다\n",
      "1번째 과일은 apple입니다\n",
      "2번째 과일은 orange입니다\n",
      "3번째 과일은 grape입니다\n"
     ]
    }
   ],
   "source": [
    "for idx, value in enumerate(fruits):\n",
    "    print('{}번째 과일은 {}입니다'.format(idx, value))"
   ]
  },
  {
   "cell_type": "code",
   "execution_count": 100,
   "id": "4cd67694",
   "metadata": {},
   "outputs": [],
   "source": [
    "score_2d = [[90,84,79,93], \n",
    "            [95,75,89,88], \n",
    "            [92,89,99,87]]  "
   ]
  },
  {
   "cell_type": "code",
   "execution_count": 104,
   "id": "ed3c85bd",
   "metadata": {},
   "outputs": [
    {
     "name": "stdout",
     "output_type": "stream",
     "text": [
      "0행 0열 :  90\t0행 1열 :  84\t0행 2열 :  79\t0행 3열 :  93\t\n",
      "1행 0열 :  95\t1행 1열 :  75\t1행 2열 :  89\t1행 3열 :  88\t\n",
      "2행 0열 :  92\t2행 1열 :  89\t2행 2열 :  99\t2행 3열 :  87\t\n"
     ]
    }
   ],
   "source": [
    "for i, row in enumerate(score_2d):\n",
    "    for j, value in enumerate(row):\n",
    "        print('{}행 {}열 : {:3d}'.format(i, j, value), end='\\t')\n",
    "    print(end='\\n')"
   ]
  },
  {
   "cell_type": "code",
   "execution_count": 105,
   "id": "fa28a44e",
   "metadata": {},
   "outputs": [
    {
     "name": "stdout",
     "output_type": "stream",
     "text": [
      "90\t84\t79\t93\t\n",
      "95\t75\t89\t88\t\n",
      "92\t89\t99\t87\t\n"
     ]
    }
   ],
   "source": [
    "for row in score_2d:\n",
    "    for value in row:\n",
    "        print(value, end='\\t')\n",
    "    print(end='\\n')"
   ]
  },
  {
   "cell_type": "code",
   "execution_count": 112,
   "id": "55480792",
   "metadata": {},
   "outputs": [
    {
     "name": "stdout",
     "output_type": "stream",
     "text": [
      "오름차순 정렬 : [-20, 1, 7, 83, 123, 500]\n",
      "내림차순 정렬 : [500, 123, 83, 7, 1, -20]\n",
      "sorted함수 사용시 리스트 내용이 바뀌지 않음 [500, 123, 7, 1, -20, 83]\n",
      "합 :  694\n"
     ]
    }
   ],
   "source": [
    "numbers = [500, 123,7,1, -20, 83]\n",
    "\n",
    "print('오름차순 정렬 : {}'.format(sorted(numbers)))\n",
    "print('내림차순 정렬 : {}'.format(sorted(numbers, reverse=True)))\n",
    "print('sorted함수 사용시 리스트 내용이 바뀌지 않음', numbers)\n",
    "print('합 : ', sum(numbers))"
   ]
  },
  {
   "cell_type": "code",
   "execution_count": 116,
   "id": "639de390",
   "metadata": {},
   "outputs": [
    {
     "data": {
      "text/plain": [
       "[1, 2, 3, 1, 2, 3, 1, 2, 3, 1, 2, 3]"
      ]
     },
     "execution_count": 116,
     "metadata": {},
     "output_type": "execute_result"
    }
   ],
   "source": [
    "numbers = [1,2,3]\n",
    "numbers = numbers+numbers\n",
    "numbers\n",
    "\n",
    "numbers = numbers*2\n",
    "numbers"
   ]
  },
  {
   "cell_type": "code",
   "execution_count": 121,
   "id": "997c6708",
   "metadata": {},
   "outputs": [
    {
     "name": "stdout",
     "output_type": "stream",
     "text": [
      "[1, 2, 3, 5, 6, 7]\n",
      "[1, 2, 3, 100, 5, 6, 7]\n"
     ]
    }
   ],
   "source": [
    "num_1 = [1,2,3]\n",
    "num_2 = [5,6,7]\n",
    "num_1.extend(num_2)\n",
    "print(num_1)\n",
    "num_1.insert(3, 100)\n",
    "print(num_1)"
   ]
  },
  {
   "cell_type": "code",
   "execution_count": 122,
   "id": "373946cf",
   "metadata": {},
   "outputs": [
    {
     "data": {
      "text/plain": [
       "[1, 2, 3, 100, 5, 6, 7, [10, 11, 12]]"
      ]
     },
     "execution_count": 122,
     "metadata": {},
     "output_type": "execute_result"
    }
   ],
   "source": [
    "num_3 = [10, 11, 12]\n",
    "num_1.append(num_3)\n",
    "num_1"
   ]
  },
  {
   "cell_type": "code",
   "execution_count": 133,
   "id": "e9188f97",
   "metadata": {},
   "outputs": [
    {
     "name": "stdout",
     "output_type": "stream",
     "text": [
      "2\n",
      "5\n",
      "9가 없습니다\n",
      "1\n"
     ]
    }
   ],
   "source": [
    "nums = [1,2,3,[1,2,3], 1,2,3]\n",
    "\n",
    "print(nums.count(2))\n",
    "print(nums.index(2,3))\n",
    "\n",
    "if nums.count(9):\n",
    "    print(nums.index(9))\n",
    "else:\n",
    "    print('9가 없습니다')\n",
    "    \n",
    "\n",
    "if 2 in nums:\n",
    "    print(nums.index(2))\n",
    "else:\n",
    "    print('9가 없습니다')"
   ]
  },
  {
   "cell_type": "code",
   "execution_count": 141,
   "id": "48c4677c",
   "metadata": {},
   "outputs": [
    {
     "name": "stdout",
     "output_type": "stream",
     "text": [
      "[1, 3, 5, 9, 10, 12, 13, 20]\n",
      "[10, 12, 20]\n"
     ]
    }
   ],
   "source": [
    "numbers = [1, 3, 5, 9, 10, 12, 13, 20]\n",
    "result = []\n",
    "\n",
    "for data in numbers:\n",
    "    result.append(data)\n",
    "print(result)\n",
    "\n",
    "result = [data for data in numbers if not data%2]\n",
    "print(result)"
   ]
  },
  {
   "cell_type": "code",
   "execution_count": 142,
   "id": "09ebd3e1",
   "metadata": {},
   "outputs": [
    {
     "data": {
      "text/plain": [
       "[10, 12, 13, 20]"
      ]
     },
     "execution_count": 142,
     "metadata": {},
     "output_type": "execute_result"
    }
   ],
   "source": [
    "# ex1.numbers 에서 10이상만 추출 \n",
    "numbers = [1, 3, 5, 9, 10, 12, 13, 20]\n",
    "\n",
    "result= [i for i in numbers if i>=10]\n",
    "result\n"
   ]
  },
  {
   "cell_type": "code",
   "execution_count": 145,
   "id": "718404f0",
   "metadata": {},
   "outputs": [
    {
     "data": {
      "text/plain": [
       "['orange', 'apple', 'mango']"
      ]
     },
     "execution_count": 145,
     "metadata": {},
     "output_type": "execute_result"
    }
   ],
   "source": [
    "# ex2. fruits에서 5글자 넘는 과일만 추출\n",
    "fruits = ['orange', 'apple', 'mango', 'kiwi']\n",
    "\n",
    "result= [i for i in fruits if len(i)>=5]\n",
    "result"
   ]
  },
  {
   "cell_type": "code",
   "execution_count": 147,
   "id": "d5e881ac",
   "metadata": {},
   "outputs": [
    {
     "data": {
      "text/plain": [
       "[9, 16, 25]"
      ]
     },
     "execution_count": 147,
     "metadata": {},
     "output_type": "execute_result"
    }
   ],
   "source": [
    "# ex3. 3이상의 요소들의 제곱을 추출\n",
    "L = [1,2,3,4,5]\n",
    "\n",
    "result = [i**2 for i in L if i>=3]\n",
    "result"
   ]
  },
  {
   "cell_type": "code",
   "execution_count": 155,
   "id": "06f4f931",
   "metadata": {},
   "outputs": [
    {
     "name": "stdout",
     "output_type": "stream",
     "text": [
      "['n', 'h', 't', 'y', 'p', 'v', 'l']\n"
     ]
    }
   ],
   "source": [
    "#주어진 문자열에서 **모음(a, e, i, o, u)**을 제거하고,\n",
    "#남은 문자들을 뒤집어서 리스트로 만들어라.\n",
    "\n",
    "text = \"I love Python\"\n",
    "del_t = ['a', 'e', 'i', 'o', 'u', ' ']\n",
    "\n",
    "result = [t for t in text.lower() if t not in del_t]\n",
    "\n",
    "result.reverse()\n",
    "print(result)\n"
   ]
  },
  {
   "cell_type": "code",
   "execution_count": 157,
   "id": "6bea3546",
   "metadata": {},
   "outputs": [
    {
     "data": {
      "text/plain": [
       "[0, 1, 222, 3, 4, 5, 6, 7, 8, 9]"
      ]
     },
     "execution_count": 157,
     "metadata": {},
     "output_type": "execute_result"
    }
   ],
   "source": [
    "num = [0,1,2,3,4,5,6,7,8,9]\n",
    "num[2] = 222\n",
    "num"
   ]
  },
  {
   "cell_type": "code",
   "execution_count": 185,
   "id": "36ffebab",
   "metadata": {},
   "outputs": [
    {
     "data": {
      "text/plain": [
       "[99, 1, 99, 3, 99, 5, 99, 7, 99, 9]"
      ]
     },
     "execution_count": 185,
     "metadata": {},
     "output_type": "execute_result"
    }
   ],
   "source": [
    "num = [0,1,2,3,4,5,6,7,8,9]\n",
    "num[::2] = [99,99,99,99,99]\n",
    "num"
   ]
  },
  {
   "cell_type": "code",
   "execution_count": 180,
   "id": "956e45ec",
   "metadata": {},
   "outputs": [
    {
     "name": "stdout",
     "output_type": "stream",
     "text": [
      "9\n",
      "[99, 1, 99, 3, 99, 5, 99, 7, 99]\n",
      "99\n",
      "[1, 99, 3, 99, 5, 99, 7, 99]\n",
      "[1, 3, 99, 5, 99, 7, 99]\n",
      "[3, 99, 5, 99, 7, 99]\n"
     ]
    }
   ],
   "source": [
    "del_num_1 = num.pop()\n",
    "print(del_num_1)\n",
    "print(num)\n",
    "\n",
    "del_num_2 = num.pop(0)\n",
    "print(del_num_2)\n",
    "print(num)\n",
    "\n",
    "num.remove(99)\n",
    "print(num)\n",
    "\n",
    "del num[0]\n",
    "print(num)"
   ]
  },
  {
   "cell_type": "code",
   "execution_count": 184,
   "id": "18fbb6bf",
   "metadata": {},
   "outputs": [
    {
     "name": "stdout",
     "output_type": "stream",
     "text": [
      "[1, 3, 5, 7, 9]\n"
     ]
    }
   ],
   "source": [
    "for i in num:\n",
    "    if i == 99:\n",
    "        num.remove(99)\n",
    "print(num)\n"
   ]
  },
  {
   "cell_type": "code",
   "execution_count": 188,
   "id": "abe22822",
   "metadata": {},
   "outputs": [
    {
     "name": "stdout",
     "output_type": "stream",
     "text": [
      "[1, 3, 5, 7, 9]\n"
     ]
    }
   ],
   "source": [
    "num1 = [s for s in num if s !=99]\n",
    "print(num1)"
   ]
  },
  {
   "cell_type": "code",
   "execution_count": 190,
   "id": "1cdbd8b6",
   "metadata": {},
   "outputs": [
    {
     "name": "stdout",
     "output_type": "stream",
     "text": [
      "해당 데이터가 없습니다\n"
     ]
    }
   ],
   "source": [
    "if 9 in num:\n",
    "    num.remove(9)\n",
    "    print(num)\n",
    "else:\n",
    "    print('해당 데이터가 없습니다')"
   ]
  },
  {
   "cell_type": "code",
   "execution_count": null,
   "id": "7a13f576",
   "metadata": {},
   "outputs": [],
   "source": []
  }
 ],
 "metadata": {
  "kernelspec": {
   "display_name": "Python 3 (ipykernel)",
   "language": "python",
   "name": "python3"
  },
  "language_info": {
   "codemirror_mode": {
    "name": "ipython",
    "version": 3
   },
   "file_extension": ".py",
   "mimetype": "text/x-python",
   "name": "python",
   "nbconvert_exporter": "python",
   "pygments_lexer": "ipython3",
   "version": "3.10.9"
  },
  "toc": {
   "base_numbering": 1,
   "nav_menu": {},
   "number_sections": false,
   "sideBar": true,
   "skip_h1_title": false,
   "title_cell": "Table of Contents",
   "title_sidebar": "Contents",
   "toc_cell": false,
   "toc_position": {
    "height": "calc(100% - 180px)",
    "left": "10px",
    "top": "150px",
    "width": "234px"
   },
   "toc_section_display": true,
   "toc_window_display": false
  }
 },
 "nbformat": 4,
 "nbformat_minor": 5
}
