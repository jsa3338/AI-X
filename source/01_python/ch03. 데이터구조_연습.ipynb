{
 "cells": [
  {
   "cell_type": "code",
   "execution_count": 1,
   "id": "e7501f06",
   "metadata": {},
   "outputs": [
    {
     "data": {
      "text/html": [
       "\n",
       "<style>\n",
       "div.container{width:86% !important;}\n",
       "div.cell.code_cell.rendered{width:100%;}\n",
       "div.CodeMirror {font-family:Consolas; font-size:12pt;}\n",
       "div.output {font-size:12pt; font-weight:bold;}\n",
       "div.input {font-family:Consolas; font-size:12pt;}\n",
       "div.prompt {min-width:70px;}\n",
       "div#toc-wrapper{padding-top:120px;}\n",
       "div.text_cell_render ul li{font-size:12pt;padding:5px;}\n",
       "table.dataframe{font-size:12px;}\n",
       "</style>\n"
      ],
      "text/plain": [
       "<IPython.core.display.HTML object>"
      ]
     },
     "metadata": {},
     "output_type": "display_data"
    }
   ],
   "source": [
    "from IPython.display import display, HTML\n",
    "display(HTML(\"\"\"\n",
    "<style>\n",
    "div.container{width:86% !important;}\n",
    "div.cell.code_cell.rendered{width:100%;}\n",
    "div.CodeMirror {font-family:Consolas; font-size:12pt;}\n",
    "div.output {font-size:12pt; font-weight:bold;}\n",
    "div.input {font-family:Consolas; font-size:12pt;}\n",
    "div.prompt {min-width:70px;}\n",
    "div#toc-wrapper{padding-top:120px;}\n",
    "div.text_cell_render ul li{font-size:12pt;padding:5px;}\n",
    "table.dataframe{font-size:12px;}\n",
    "</style>\n",
    "\"\"\"))"
   ]
  },
  {
   "cell_type": "markdown",
   "id": "97bfe80a",
   "metadata": {},
   "source": [
    "# 1. 리스트\n",
    "## 1.1 리스트 만들기\n",
    "- []를 이용해서 만들며, 여러개의 값(여러 타입)을 하나의 변수에 저장 관리할 수 있음\n",
    "- list(리스트로 변환 가능한 자료) 함수 이용도 가능\n",
    "- 인덱스 : 각 요소의 위치. 0부터 시작. 맨 마지막 인덱스는 -1\n",
    "- 슬라이싱([from:to:step]) : 부분 데이터 셋 추출\n",
    "- 인덱스와 슬라이싱을 통해 읽기/쓰기 지원"
   ]
  },
  {
   "cell_type": "code",
   "execution_count": 2,
   "id": "712fa33b",
   "metadata": {},
   "outputs": [
    {
     "data": {
      "text/plain": [
       "list"
      ]
     },
     "execution_count": 2,
     "metadata": {},
     "output_type": "execute_result"
    }
   ],
   "source": [
    "fruits = ['banana', 'apple', 'orange', 'grape']\n",
    "type(fruits)"
   ]
  },
  {
   "cell_type": "code",
   "execution_count": 3,
   "id": "62abc834",
   "metadata": {},
   "outputs": [
    {
     "name": "stdout",
     "output_type": "stream",
     "text": [
      "['banana', 'apple', 'orange', 'grape']\n",
      "banana\n"
     ]
    }
   ],
   "source": [
    "print(fruits)\n",
    "print(fruits[0])"
   ]
  },
  {
   "cell_type": "code",
   "execution_count": 4,
   "id": "d6a911b1",
   "metadata": {},
   "outputs": [
    {
     "data": {
      "text/plain": [
       "['mango', 'apple', 'orange', 'grape']"
      ]
     },
     "execution_count": 4,
     "metadata": {},
     "output_type": "execute_result"
    }
   ],
   "source": [
    "fruits[0] = 'mango'\n",
    "fruits"
   ]
  },
  {
   "cell_type": "code",
   "execution_count": 5,
   "id": "b6c2cad9",
   "metadata": {},
   "outputs": [
    {
     "name": "stdout",
     "output_type": "stream",
     "text": [
      "mango apple orange grape\n"
     ]
    }
   ],
   "source": [
    "a, b, c, d = fruits\n",
    "print(a,b,c,d)"
   ]
  },
  {
   "cell_type": "code",
   "execution_count": 6,
   "id": "37b839a3",
   "metadata": {},
   "outputs": [
    {
     "data": {
      "text/plain": [
       "range(0, 10)"
      ]
     },
     "execution_count": 6,
     "metadata": {},
     "output_type": "execute_result"
    }
   ],
   "source": [
    "range(10)"
   ]
  },
  {
   "cell_type": "code",
   "execution_count": 7,
   "id": "2ad76e84",
   "metadata": {},
   "outputs": [
    {
     "data": {
      "text/plain": [
       "[0, 1, 2, 3, 4, 5, 6, 7, 8, 9]"
      ]
     },
     "execution_count": 7,
     "metadata": {},
     "output_type": "execute_result"
    }
   ],
   "source": [
    "list(range(10))"
   ]
  },
  {
   "cell_type": "code",
   "execution_count": 8,
   "id": "4fc4278a",
   "metadata": {},
   "outputs": [
    {
     "name": "stdout",
     "output_type": "stream",
     "text": [
      "0 1 2 3 4 5 6 7 8 9 "
     ]
    }
   ],
   "source": [
    "for i in range(10):\n",
    "    print(i, end=' ')"
   ]
  },
  {
   "cell_type": "code",
   "execution_count": 12,
   "id": "2fc8398b",
   "metadata": {},
   "outputs": [
    {
     "name": "stdout",
     "output_type": "stream",
     "text": [
      "1번째 과일은 mango입니다.\n",
      "2번째 과일은 apple입니다.\n",
      "3번째 과일은 orange입니다.\n",
      "4번째 과일은 grape입니다.\n",
      "--------------------------------------------------\n",
      "1번째 과일은 mango입니다.\n",
      "2번째 과일은 apple입니다.\n",
      "3번째 과일은 orange입니다.\n",
      "4번째 과일은 grape입니다.\n"
     ]
    }
   ],
   "source": [
    "fruits = ['mango', 'apple', 'orange', 'grape']\n",
    "\n",
    "for i in range(len(fruits)):\n",
    "    print(f'{i+1}번째 과일은 {fruits[i]}입니다.')\n",
    "\n",
    "print('-'*50)\n",
    "\n",
    "for idx, value in enumerate(fruits):\n",
    "    print(f'{idx+1}번째 과일은 {value}입니다.')"
   ]
  },
  {
   "cell_type": "code",
   "execution_count": 13,
   "id": "dcb99ab2",
   "metadata": {},
   "outputs": [
    {
     "name": "stdout",
     "output_type": "stream",
     "text": [
      "0행 0열의 수 : 90\t0행 1열의 수 : 84\t0행 2열의 수 : 79\t0행 3열의 수 : 93\t\n",
      "1행 0열의 수 : 95\t1행 1열의 수 : 75\t1행 2열의 수 : 89\t1행 3열의 수 : 88\t\n",
      "2행 0열의 수 : 92\t2행 1열의 수 : 89\t2행 2열의 수 : 99\t2행 3열의 수 : 87\t\n"
     ]
    }
   ],
   "source": [
    "score_2d = [[90,84,79,93], \n",
    "            [95,75,89,88], \n",
    "            [92,89,99,87]]  \n",
    "\n",
    "for i, row in enumerate(score_2d):\n",
    "    for j, value in enumerate(row):\n",
    "        print(f'{i}행 {j}열의 수 : {value}', end='\\t')\n",
    "    print()"
   ]
  },
  {
   "cell_type": "code",
   "execution_count": 14,
   "id": "4915f328",
   "metadata": {},
   "outputs": [],
   "source": [
    "numbers = [1, 12, 3, 5, 4]\n",
    "numbers_2d = [[100, 0],\n",
    "             [9, 100, 1, 2, 3],\n",
    "             [50, 64]]"
   ]
  },
  {
   "cell_type": "code",
   "execution_count": 15,
   "id": "90e8d71a",
   "metadata": {},
   "outputs": [
    {
     "data": {
      "text/plain": [
       "(1, 12, [9, 100, 1, 2, 3], [100, 0])"
      ]
     },
     "execution_count": 15,
     "metadata": {},
     "output_type": "execute_result"
    }
   ],
   "source": [
    "min(numbers), max(numbers), min(numbers_2d), max(numbers_2d)"
   ]
  },
  {
   "cell_type": "code",
   "execution_count": 18,
   "id": "c0459648",
   "metadata": {},
   "outputs": [
    {
     "data": {
      "text/plain": [
       "([12, 5, 4, 3, 1], [[9, 100, 1, 2, 3], [50, 64], [100, 0]])"
      ]
     },
     "execution_count": 18,
     "metadata": {},
     "output_type": "execute_result"
    }
   ],
   "source": [
    "sorted(numbers, reverse=True), sorted(numbers_2d)"
   ]
  },
  {
   "cell_type": "code",
   "execution_count": 19,
   "id": "ce9fb3f5",
   "metadata": {},
   "outputs": [
    {
     "data": {
      "text/plain": [
       "[[100, 0], [9, 100, 1, 2, 3], [50, 64], 1, 12, 3, 5, 4]"
      ]
     },
     "execution_count": 19,
     "metadata": {},
     "output_type": "execute_result"
    }
   ],
   "source": [
    "numbers_2d +numbers"
   ]
  },
  {
   "cell_type": "code",
   "execution_count": 21,
   "id": "b7e4d616",
   "metadata": {},
   "outputs": [
    {
     "data": {
      "text/plain": [
       "[[100, 0], [9, 100, 1, 2, 3], [50, 64], [1, 12, 3, 5, 4], [1, 12, 3, 5, 4]]"
      ]
     },
     "execution_count": 21,
     "metadata": {},
     "output_type": "execute_result"
    }
   ],
   "source": [
    "numbers_2d.append(numbers)\n",
    "numbers_2d"
   ]
  },
  {
   "cell_type": "code",
   "execution_count": 23,
   "id": "3fa04c15",
   "metadata": {},
   "outputs": [
    {
     "name": "stdout",
     "output_type": "stream",
     "text": [
      "[1, 12, 3, 5, 4, [100, 0], [9, 100, 1, 2, 3], [50, 64], [...], [...], [100, 0], [9, 100, 1, 2, 3], [50, 64], [...], [...]]\n"
     ]
    }
   ],
   "source": [
    "numbers.extend(numbers_2d)\n",
    "print(numbers)"
   ]
  },
  {
   "cell_type": "code",
   "execution_count": 24,
   "id": "4179d3d9",
   "metadata": {},
   "outputs": [],
   "source": [
    "del numbers[5:]"
   ]
  },
  {
   "cell_type": "code",
   "execution_count": 26,
   "id": "e0882715",
   "metadata": {},
   "outputs": [],
   "source": [
    "numbers.remove(12)"
   ]
  },
  {
   "cell_type": "code",
   "execution_count": 27,
   "id": "28e01152",
   "metadata": {},
   "outputs": [
    {
     "data": {
      "text/plain": [
       "[1, 3, 5, 4]"
      ]
     },
     "execution_count": 27,
     "metadata": {},
     "output_type": "execute_result"
    }
   ],
   "source": [
    "numbers"
   ]
  },
  {
   "cell_type": "code",
   "execution_count": 34,
   "id": "6dcba7db",
   "metadata": {},
   "outputs": [
    {
     "data": {
      "text/plain": [
       "[[100, 0], [9, 100, 1, 2, 3], [50, 64], [1, 3, 5, 4], [1, 3, 5, 4]]"
      ]
     },
     "execution_count": 34,
     "metadata": {},
     "output_type": "execute_result"
    }
   ],
   "source": [
    "numbers_2d"
   ]
  },
  {
   "cell_type": "code",
   "execution_count": 59,
   "id": "3342d7fe",
   "metadata": {},
   "outputs": [],
   "source": [
    "def search_index(n, lst_2d):\n",
    "    print(f'검색결과 :', end=' ')\n",
    "    found = False\n",
    "    for i, row in enumerate(lst_2d):\n",
    "        for j, value in enumerate(row):\n",
    "            if value == n:\n",
    "                print(f'[{i}행 {j}열]',end=' ')\n",
    "                found = True\n",
    "    if not found:\n",
    "        print(f'{n}은 찾을 수 없습니다.')\n",
    "            "
   ]
  },
  {
   "cell_type": "code",
   "execution_count": 60,
   "id": "a42ba3f1",
   "metadata": {},
   "outputs": [
    {
     "name": "stdout",
     "output_type": "stream",
     "text": [
      "검색결과 : 11은 찾을 수 없습니다.\n"
     ]
    }
   ],
   "source": [
    "search_index(11, numbers_2d)"
   ]
  },
  {
   "cell_type": "code",
   "execution_count": 61,
   "id": "ed559fde",
   "metadata": {},
   "outputs": [],
   "source": [
    "nums = [1,2,3,[1,2,3,], 1,2,3]"
   ]
  },
  {
   "cell_type": "code",
   "execution_count": 63,
   "id": "9cc1194a",
   "metadata": {},
   "outputs": [
    {
     "data": {
      "text/plain": [
       "6"
      ]
     },
     "execution_count": 63,
     "metadata": {},
     "output_type": "execute_result"
    }
   ],
   "source": [
    "nums.index(3,3)"
   ]
  },
  {
   "cell_type": "code",
   "execution_count": 65,
   "id": "d228c8d9",
   "metadata": {},
   "outputs": [
    {
     "data": {
      "text/plain": [
       "[0, 2, 4, 6, 8]"
      ]
     },
     "execution_count": 65,
     "metadata": {},
     "output_type": "execute_result"
    }
   ],
   "source": [
    "#문제: 0부터 9까지의 정수 중 짝수만 담긴 리스트를 리스트 컴프리헨션으로 만들어보세요.\n",
    "\n",
    "even = [i for i in range(10) if not i%2]\n",
    "even"
   ]
  },
  {
   "cell_type": "code",
   "execution_count": 68,
   "id": "e0bbc455",
   "metadata": {},
   "outputs": [
    {
     "data": {
      "text/plain": [
       "['APPLE', 'BANANA', 'PINEAPPLE']"
      ]
     },
     "execution_count": 68,
     "metadata": {},
     "output_type": "execute_result"
    }
   ],
   "source": [
    "#문제: 주어진 문자열 리스트에서 글자 수가 5 이상인 문자열만 대문자로 바꿔 리스트에 담아보세요.\n",
    "words = ['apple', 'dog', 'banana', 'cat', 'pineapple']\n",
    "\n",
    "result = [text.upper() for i,text in enumerate(words) if len(words[i])>=5]\n",
    "result"
   ]
  },
  {
   "cell_type": "code",
   "execution_count": 70,
   "id": "9616e3bc",
   "metadata": {},
   "outputs": [
    {
     "data": {
      "text/plain": [
       "['APPLE', 'BANANA', 'PINEAPPLE']"
      ]
     },
     "execution_count": 70,
     "metadata": {},
     "output_type": "execute_result"
    }
   ],
   "source": [
    "result = [text.upper() for text in words if len(text)>=5]\n",
    "result"
   ]
  },
  {
   "cell_type": "code",
   "execution_count": 73,
   "id": "4efb764d",
   "metadata": {},
   "outputs": [
    {
     "data": {
      "text/plain": [
       "[[4], [16, 36], [64]]"
      ]
     },
     "execution_count": 73,
     "metadata": {},
     "output_type": "execute_result"
    }
   ],
   "source": [
    "#문제 : 아래와 같은 2차원 리스트가 있습니다. 각 행에서 짝수만 골라 제곱한 결과를 담은 2차원 리스트를 리스트 컴프리헨션으로 만들어보세요.\n",
    "matrix = [\n",
    "    [1, 2, 3],\n",
    "    [4, 5, 6],\n",
    "    [7, 8, 9]\n",
    "]\n",
    "\n",
    "result = [[i**2 for i in row if not i%2] for row in matrix ]\n",
    "result"
   ]
  },
  {
   "cell_type": "code",
   "execution_count": 74,
   "id": "91c4e9f7",
   "metadata": {},
   "outputs": [
    {
     "data": {
      "text/plain": [
       "{'elephant': 8, 'giraffe': 7}"
      ]
     },
     "execution_count": 74,
     "metadata": {},
     "output_type": "execute_result"
    }
   ],
   "source": [
    "#문제 : 길이가 5 이상인 단어만, 단어를 키로 하고 글자 수를 값으로 하는 딕셔너리를 만들어봐!\n",
    "words = ['ant', 'elephant', 'dog', 'giraffe', 'bat']\n",
    "len_ = {t : len(t) for t in words if len(t)>=5}\n",
    "len_"
   ]
  },
  {
   "cell_type": "code",
   "execution_count": 83,
   "id": "004bb9da",
   "metadata": {},
   "outputs": [
    {
     "data": {
      "text/plain": [
       "{'Alice': 'pass', 'Bob': 'pass', 'Charlie': 'fail', 'David': 'fail'}"
      ]
     },
     "execution_count": 83,
     "metadata": {},
     "output_type": "execute_result"
    }
   ],
   "source": [
    "# 이걸 딕셔너리로 바꾸되, **점수가 80점 이상인 사람만 'pass' / 나머지는 'fail'**로 결과를 만들어봐!\n",
    "scores = [('Alice', 88), ('Bob', 95), ('Charlie', 70), ('David', 60)]\n",
    "result = {name : 'pass' if score>=80  else 'fail' for name, score in scores  }\n",
    "result"
   ]
  },
  {
   "cell_type": "code",
   "execution_count": 85,
   "id": "fdb0d2bf",
   "metadata": {},
   "outputs": [
    {
     "data": {
      "text/plain": [
       "['Jin', 'Minho']"
      ]
     },
     "execution_count": 85,
     "metadata": {},
     "output_type": "execute_result"
    }
   ],
   "source": [
    "# 이 리스트에서 성인(나이 19세 이상)인 사람의 이름만 리스트로 뽑아봐\n",
    "people = [('Jin', 22), ('Yuna', 17), ('Minho', 19), ('Sora', 15)]\n",
    "adult = [name for name, age in people if age>=19 ]\n",
    "adult"
   ]
  },
  {
   "cell_type": "code",
   "execution_count": 86,
   "id": "89fd5ef8",
   "metadata": {},
   "outputs": [],
   "source": [
    "numbers = [1,2,3,4,5,6,7,8,9,10]"
   ]
  },
  {
   "cell_type": "code",
   "execution_count": 88,
   "id": "96e7ce4a",
   "metadata": {},
   "outputs": [
    {
     "data": {
      "text/plain": [
       "[1, 2, 3, 4, 5, 6, 7, 8, 9, 10, 100]"
      ]
     },
     "execution_count": 88,
     "metadata": {},
     "output_type": "execute_result"
    }
   ],
   "source": [
    "# 1. 숫자 100 을 맨 뒤에 추가하세요\n",
    "numbers.append(100)\n",
    "numbers"
   ]
  },
  {
   "cell_type": "code",
   "execution_count": 89,
   "id": "47839481",
   "metadata": {},
   "outputs": [
    {
     "data": {
      "text/plain": [
       "[1, 2, 3, 4, 5, 6, 7, 8, 9, 10, 100, 200, 300, 400, 500]"
      ]
     },
     "execution_count": 89,
     "metadata": {},
     "output_type": "execute_result"
    }
   ],
   "source": [
    "# 2. 다음 리스트를 numbers 리스트 맨 뒤에 추가하세요\n",
    "data = [200, 300, 400, 500]\n",
    "numbers.extend(data)\n",
    "numbers"
   ]
  },
  {
   "cell_type": "code",
   "execution_count": 90,
   "id": "93bad2cc",
   "metadata": {},
   "outputs": [
    {
     "data": {
      "text/plain": [
       "[1, 2, 3, 4, 5]"
      ]
     },
     "execution_count": 90,
     "metadata": {},
     "output_type": "execute_result"
    }
   ],
   "source": [
    "# 3. 처음 다섯 개 숫자만 출력하세요\n",
    "numbers[:5]"
   ]
  },
  {
   "cell_type": "code",
   "execution_count": 91,
   "id": "9a232106",
   "metadata": {},
   "outputs": [
    {
     "data": {
      "text/plain": [
       "[1, 3, 5, 7, 9, 100, 300, 500]"
      ]
     },
     "execution_count": 91,
     "metadata": {},
     "output_type": "execute_result"
    }
   ],
   "source": [
    "# 4. 리스트에서 짝수 번째 데이터만 출력하세요\n",
    "numbers[::2]"
   ]
  },
  {
   "cell_type": "code",
   "execution_count": 92,
   "id": "432dc4bf",
   "metadata": {},
   "outputs": [
    {
     "data": {
      "text/plain": [
       "[0, 2, 0, 4, 0, 6, 0, 8, 0, 10, 0, 200, 0, 400, 0]"
      ]
     },
     "execution_count": 92,
     "metadata": {},
     "output_type": "execute_result"
    }
   ],
   "source": [
    "# 5. 짝수번째 데이터를 모두 0 으로 바꾸세요 (리스트 컴프리헨스로)\n",
    "numbers[::2] = [0]*len(numbers[::2])\n",
    "numbers"
   ]
  },
  {
   "cell_type": "code",
   "execution_count": 93,
   "id": "7fd78d0c",
   "metadata": {},
   "outputs": [
    {
     "data": {
      "text/plain": [
       "[0, 400, 0, 200, 0, 10, 0, 8, 0, 6, 0, 4, 0, 2, 0]"
      ]
     },
     "execution_count": 93,
     "metadata": {},
     "output_type": "execute_result"
    }
   ],
   "source": [
    "# 6. 데이터를 역순으로 나열하세요 내림차순 정렬이 아닙니다\n",
    "numbers.reverse()\n",
    "numbers"
   ]
  },
  {
   "cell_type": "code",
   "execution_count": 105,
   "id": "a650a4ef",
   "metadata": {},
   "outputs": [],
   "source": [
    "member_info = {\"name\":'홍길동', 'age':20, 'address' :'서울시 마포구','score':90}"
   ]
  },
  {
   "cell_type": "code",
   "execution_count": 106,
   "id": "228a954d",
   "metadata": {},
   "outputs": [
    {
     "data": {
      "text/plain": [
       "'서울시 마포구'"
      ]
     },
     "execution_count": 106,
     "metadata": {},
     "output_type": "execute_result"
    }
   ],
   "source": [
    "# 7.address 값을 출력하세요\n",
    "# member_info['address']\n",
    "member_info.get('address')"
   ]
  },
  {
   "cell_type": "code",
   "execution_count": 108,
   "id": "ce31736e",
   "metadata": {},
   "outputs": [
    {
     "name": "stdout",
     "output_type": "stream",
     "text": [
      "90\n"
     ]
    },
    {
     "data": {
      "text/plain": [
       "{'name': '홍길동', 'age': 20, 'address': '서울시 마포구'}"
      ]
     },
     "execution_count": 108,
     "metadata": {},
     "output_type": "execute_result"
    }
   ],
   "source": [
    "# 8. score 를 출력하고 member_info 딕셔너리에서 삭제하세요\n",
    "print(member_info.get('score'))\n",
    "del member_info['score']\n",
    "#member_info.pop('score')\n",
    "member_info"
   ]
  },
  {
   "cell_type": "code",
   "execution_count": 103,
   "id": "480b884b",
   "metadata": {},
   "outputs": [
    {
     "data": {
      "text/plain": [
       "{'name': '홍길동', 'age': 20, 'address': '서울시 서대문구'}"
      ]
     },
     "execution_count": 103,
     "metadata": {},
     "output_type": "execute_result"
    }
   ],
   "source": [
    "member_info"
   ]
  },
  {
   "cell_type": "code",
   "execution_count": 98,
   "id": "4b4670cc",
   "metadata": {},
   "outputs": [
    {
     "data": {
      "text/plain": [
       "{'name': '홍길동', 'age': 20, 'address': '서울시 서대문구'}"
      ]
     },
     "execution_count": 98,
     "metadata": {},
     "output_type": "execute_result"
    }
   ],
   "source": [
    "# 9. address 를 서울시 서대문구 로 변경하세요\n",
    "member_info['address'] = '서울시 서대문구'\n",
    "member_info"
   ]
  },
  {
   "cell_type": "code",
   "execution_count": null,
   "id": "59ff3e1c",
   "metadata": {},
   "outputs": [],
   "source": [
    "# 10. member_info 딕셔너리 데이터의 값을 리스트로 출력하세요"
   ]
  },
  {
   "cell_type": "code",
   "execution_count": 102,
   "id": "6514fb9e",
   "metadata": {},
   "outputs": [
    {
     "data": {
      "text/plain": [
       "['홍길동', 20, '서울시 서대문구']"
      ]
     },
     "execution_count": 102,
     "metadata": {},
     "output_type": "execute_result"
    }
   ],
   "source": [
    "lst = list(member_info.values())\n",
    "lst"
   ]
  },
  {
   "cell_type": "code",
   "execution_count": null,
   "id": "ef2980a6",
   "metadata": {},
   "outputs": [],
   "source": []
  }
 ],
 "metadata": {
  "kernelspec": {
   "display_name": "Python 3 (ipykernel)",
   "language": "python",
   "name": "python3"
  },
  "language_info": {
   "codemirror_mode": {
    "name": "ipython",
    "version": 3
   },
   "file_extension": ".py",
   "mimetype": "text/x-python",
   "name": "python",
   "nbconvert_exporter": "python",
   "pygments_lexer": "ipython3",
   "version": "3.10.9"
  },
  "toc": {
   "base_numbering": 1,
   "nav_menu": {},
   "number_sections": false,
   "sideBar": true,
   "skip_h1_title": false,
   "title_cell": "Table of Contents",
   "title_sidebar": "Contents",
   "toc_cell": false,
   "toc_position": {
    "height": "calc(100% - 180px)",
    "left": "10px",
    "top": "150px",
    "width": "341px"
   },
   "toc_section_display": true,
   "toc_window_display": true
  }
 },
 "nbformat": 4,
 "nbformat_minor": 5
}
