{
 "cells": [
  {
   "cell_type": "code",
   "execution_count": 1,
   "id": "9b6aee23",
   "metadata": {},
   "outputs": [
    {
     "data": {
      "text/html": [
       "\n",
       "<style>\n",
       "div.container{width:86% !important;}\n",
       "div.cell.code_cell.rendered{width:100%;}\n",
       "div.CodeMirror {font-family:Consolas; font-size:12pt;}\n",
       "div.output {font-size:12pt; font-weight:bold;}\n",
       "div.input {font-family:Consolas; font-size:12pt;}\n",
       "div.prompt {min-width:70px;}\n",
       "div#toc-wrapper{padding-top:120px;}\n",
       "div.text_cell_render ul li{font-size:12pt;padding:5px;}\n",
       "table.dataframe{font-size:12px;}\n",
       "</style>\n"
      ],
      "text/plain": [
       "<IPython.core.display.HTML object>"
      ]
     },
     "metadata": {},
     "output_type": "display_data"
    }
   ],
   "source": [
    "from IPython.display import display, HTML\n",
    "display(HTML(\"\"\"\n",
    "<style>\n",
    "div.container{width:86% !important;}\n",
    "div.cell.code_cell.rendered{width:100%;}\n",
    "div.CodeMirror {font-family:Consolas; font-size:12pt;}\n",
    "div.output {font-size:12pt; font-weight:bold;}\n",
    "div.input {font-family:Consolas; font-size:12pt;}\n",
    "div.prompt {min-width:70px;}\n",
    "div#toc-wrapper{padding-top:120px;}\n",
    "div.text_cell_render ul li{font-size:12pt;padding:5px;}\n",
    "table.dataframe{font-size:12px;}\n",
    "</style>\n",
    "\"\"\"))"
   ]
  },
  {
   "cell_type": "markdown",
   "id": "e49e0983",
   "metadata": {},
   "source": [
    "<font size=\"5\" color=\"red\">ch03. 데이터구조</font>\n",
    "- 리스트[], 튜플(), 딕셔너리{}, 셋\n",
    "\n",
    "# 1절. 리스트\n",
    "\n",
    "## 1.1 리스트 만들기\n",
    "- []를 이용해서 만들며, 여러개 값(여러 타입)을 하나의 변수에 저장/관리할 수 있음\n",
    "- list(리스트로 변환 가능한 자료)함수 이용도 가능\n",
    "- 인덱스 : 각 요소의 위치. 0부터 시작. 맨 마지막 인덱스는 -1\n",
    "- 슬라이싱( [from:stop:step] ) : 부분 데이터셋 추출\n",
    "- 인덱스와 슬라이싱을 이용해서 읽기/쓰기 지원"
   ]
  },
  {
   "cell_type": "code",
   "execution_count": 3,
   "id": "97578f91",
   "metadata": {},
   "outputs": [
    {
     "data": {
      "text/plain": [
       "list"
      ]
     },
     "execution_count": 3,
     "metadata": {},
     "output_type": "execute_result"
    }
   ],
   "source": [
    "fruits = ['banana', 'apple', 'orange', 'grape']\n",
    "type(fruits)"
   ]
  },
  {
   "cell_type": "code",
   "execution_count": 4,
   "id": "b4d9acbc",
   "metadata": {},
   "outputs": [
    {
     "name": "stdout",
     "output_type": "stream",
     "text": [
      "['banana', 'apple', 'orange', 'grape']\n",
      "banana\n"
     ]
    }
   ],
   "source": [
    "print(fruits)\n",
    "print(fruits[0])"
   ]
  },
  {
   "cell_type": "code",
   "execution_count": 6,
   "id": "2e73a021",
   "metadata": {},
   "outputs": [
    {
     "name": "stdout",
     "output_type": "stream",
     "text": [
      "['mango', 'apple', 'orange', 'grape']\n"
     ]
    }
   ],
   "source": [
    "fruits[0] = 'mango'\n",
    "print(fruits)"
   ]
  },
  {
   "cell_type": "code",
   "execution_count": 9,
   "id": "b2fbb3bf",
   "metadata": {},
   "outputs": [
    {
     "name": "stdout",
     "output_type": "stream",
     "text": [
      "mango apple orange grape\n"
     ]
    }
   ],
   "source": [
    "x, y, z, o = fruits\n",
    "print(x, y, z, o)"
   ]
  },
  {
   "cell_type": "code",
   "execution_count": 12,
   "id": "fbc0d0c7",
   "metadata": {},
   "outputs": [
    {
     "name": "stdout",
     "output_type": "stream",
     "text": [
      "x=mango\n",
      "y=apple\n",
      "z=orange\n",
      "fruits=['mango', 'apple', 'orange']\n"
     ]
    }
   ],
   "source": [
    "fruits = ['mango', 'apple', 'orange']\n",
    "x, y, z = fruits\n",
    "print(f'x={x}')\n",
    "print(f'y={y}')\n",
    "print('z={}'.format(z))\n",
    "print(f'fruits={fruits}')"
   ]
  },
  {
   "cell_type": "code",
   "execution_count": 16,
   "id": "b62c728d",
   "metadata": {},
   "outputs": [
    {
     "data": {
      "text/plain": [
       "range(0, 10)"
      ]
     },
     "execution_count": 16,
     "metadata": {},
     "output_type": "execute_result"
    }
   ],
   "source": [
    "# range(from, to, by)  * from 부터 to 앞까지 by씩 증가하면서 지정된 범위의 정수\n",
    "    # from 생략시 : 0 , by 생략시 : 1\n",
    "range(10)"
   ]
  },
  {
   "cell_type": "code",
   "execution_count": 19,
   "id": "d7224187",
   "metadata": {},
   "outputs": [
    {
     "name": "stdout",
     "output_type": "stream",
     "text": [
      "[0, 1, 2, 3, 4, 5, 6, 7, 8, 9]\n",
      "[0, 1, 2, 3, 4, 5, 6, 7, 8, 9]\n",
      "[101, 102, 103, 104, 105, 106, 107, 108, 109, 110]\n"
     ]
    }
   ],
   "source": [
    "print(list(range(0,10)))\n",
    "print(list(range(10)))\n",
    "print(list(range(101,111)))"
   ]
  },
  {
   "cell_type": "code",
   "execution_count": 20,
   "id": "cbc532bb",
   "metadata": {},
   "outputs": [
    {
     "data": {
      "text/plain": [
       "[10, 8, 6, 4, 2, 0]"
      ]
     },
     "execution_count": 20,
     "metadata": {},
     "output_type": "execute_result"
    }
   ],
   "source": [
    "list(range(10, -1, -2))"
   ]
  },
  {
   "cell_type": "code",
   "execution_count": 26,
   "id": "9143ca9d",
   "metadata": {},
   "outputs": [
    {
     "name": "stdout",
     "output_type": "stream",
     "text": [
      "0\n",
      "1\n",
      "2\n"
     ]
    }
   ],
   "source": [
    "# 반복문(3회)\n",
    "#for i in [0,1,2,3,4,5,6,7,8,9]:\n",
    "for i in range(3):\n",
    "    print(i)"
   ]
  },
  {
   "cell_type": "code",
   "execution_count": 37,
   "id": "b464a3f7",
   "metadata": {},
   "outputs": [
    {
     "name": "stdout",
     "output_type": "stream",
     "text": [
      "mango\n",
      "apple\n",
      "orange\n",
      "grape\n",
      "--------------------------------------------------\n",
      "0번째 과일은 mango입니다.\n",
      "1번째 과일은 apple입니다.\n",
      "2번째 과일은 orange입니다.\n",
      "--------------------------------------------------\n",
      "0번째 과일은 mango입니다.\n",
      "1번째 과일은 apple입니다.\n",
      "2번째 과일은 orange입니다.\n",
      "3번째 과일은 grape입니다.\n",
      "--------------------------------------------------\n",
      "mango입니다.\n",
      "apple입니다.\n",
      "orange입니다.\n",
      "grape입니다.\n"
     ]
    }
   ],
   "source": [
    "fruits = ['mango', 'apple', 'orange', 'grape']\n",
    "for i in fruits:\n",
    "    print(i)\n",
    "\n",
    "print('-'*50)    \n",
    "    \n",
    "for i in range(3):\n",
    "    print(\"{}번째 과일은 {}입니다.\".format(i, fruits[i]))\n",
    "\n",
    "print('-'*50) \n",
    "\n",
    "for i in range(len(fruits)):  # len(리스트) : 리스트 데이터 수\n",
    "    print(\"{}번째 과일은 {}입니다.\".format(i, fruits[i]))\n",
    "\n",
    "print('-'*50) \n",
    "    \n",
    "for i in fruits:\n",
    "    print(f\"{i}입니다.\") \n"
   ]
  },
  {
   "cell_type": "code",
   "execution_count": 38,
   "id": "9e187a57",
   "metadata": {},
   "outputs": [
    {
     "name": "stdout",
     "output_type": "stream",
     "text": [
      "1\n",
      "mango\n"
     ]
    }
   ],
   "source": [
    "i, v = [1, 'mango']\n",
    "print(i)\n",
    "print(v)"
   ]
  },
  {
   "cell_type": "code",
   "execution_count": 48,
   "id": "46bcde9d",
   "metadata": {},
   "outputs": [
    {
     "name": "stdout",
     "output_type": "stream",
     "text": [
      "0번째 과일은 mango입니다.\n",
      "1번째 과일은 apple입니다.\n",
      "2번째 과일은 orange입니다.\n",
      "3번째 과일은 grape입니다.\n",
      "[(0, 'mango'), (1, 'apple'), (2, 'orange'), (3, 'grape')]\n"
     ]
    }
   ],
   "source": [
    "# enumerate(나열가능한 자료) : (index, 값)들의 셋들로 만들어줌\n",
    "# for idx, value in [[0, 'mango'], [1, 'apple'], [2, 'orange'], [3, 'grape']]: - enumerate(fruits) 함수로 간단히 사용 가능\n",
    "for idx, value in enumerate(fruits):\n",
    "    print(\"{}번째 과일은 {}입니다.\".format(idx, value))\n",
    "    \n",
    "print(list(enumerate(fruits)))"
   ]
  },
  {
   "cell_type": "code",
   "execution_count": 65,
   "id": "08dc4eff",
   "metadata": {},
   "outputs": [
    {
     "name": "stdout",
     "output_type": "stream",
     "text": [
      "[0, True, '2', 3, [4, 5, 6]]\n",
      "True\n",
      "5\n"
     ]
    }
   ],
   "source": [
    "# 리스트는 여러 타임의 데이터를 담을 수 있음 - 숫자, 논리값, 텍스트, 리스트\n",
    "numbers = [0, True, '2', 3, [4,5,6]]\n",
    "print(numbers)\n",
    "print(numbers[1])\n",
    "print(numbers[4][1])  #리스트 안의 리스트는 이렇게 엑세스 한다"
   ]
  },
  {
   "cell_type": "code",
   "execution_count": 83,
   "id": "b26ab2a0",
   "metadata": {},
   "outputs": [
    {
     "data": {
      "text/plain": [
       "(3, 4)"
      ]
     },
     "execution_count": 83,
     "metadata": {},
     "output_type": "execute_result"
    }
   ],
   "source": [
    "# 2차원 리스트\n",
    "score_2d = [[90,84,79,93], \n",
    "            [95,75,89,88], \n",
    "            [92,89,99,87]]  \n",
    "len(score_2d), len(score_2d[0])"
   ]
  },
  {
   "cell_type": "code",
   "execution_count": 89,
   "id": "8ddf5cd7",
   "metadata": {},
   "outputs": [
    {
     "name": "stdout",
     "output_type": "stream",
     "text": [
      "0행 0열 :  90\t0행 1열 :  84\t0행 2열 :  79\t0행 3열 :  93\t1행 0열 :  95\t1행 1열 :  75\t1행 2열 :  89\t1행 3열 :  88\t2행 0열 :  92\t2행 1열 :  89\t2행 2열 :  99\t2행 3열 :  87\t"
     ]
    }
   ],
   "source": [
    "for i, row in enumerate(score_2d):\n",
    "    for j, value in enumerate(row):\n",
    "        print(\"{}행 {}열 : {:3d}\".format(i, j, value), end='\\t') "
   ]
  },
  {
   "cell_type": "code",
   "execution_count": 90,
   "id": "ae008060",
   "metadata": {},
   "outputs": [
    {
     "name": "stdout",
     "output_type": "stream",
     "text": [
      "0행 0열 :  90\t0행 1열 :  84\t0행 2열 :  79\t0행 3열 :  93\t\n",
      "1행 0열 :  95\t1행 1열 :  75\t1행 2열 :  89\t1행 3열 :  88\t\n",
      "2행 0열 :  92\t2행 1열 :  89\t2행 2열 :  99\t2행 3열 :  87\t\n"
     ]
    }
   ],
   "source": [
    "for i, row in enumerate(score_2d):\n",
    "    for j, value in enumerate(row):\n",
    "        print(\"{}행 {}열 : {:3d}\".format(i, j, value), end='\\t') \n",
    "    print(end=\"\\n\")  # value는 생략해도 가능, 줄바꿈 실행    \n",
    "    "
   ]
  },
  {
   "cell_type": "code",
   "execution_count": 105,
   "id": "53555e05",
   "metadata": {},
   "outputs": [
    {
     "name": "stdout",
     "output_type": "stream",
     "text": [
      "90\t84\t79\t93\t\n",
      "95\t75\t89\t88\t\n",
      "92\t89\t99\t87\t\n"
     ]
    }
   ],
   "source": [
    "for row in score_2d:\n",
    "    for value in row:\n",
    "#        print(\"{:3d}\".format(value), end='\\t') \n",
    "        print(value, end='\\t')\n",
    "    print() "
   ]
  },
  {
   "cell_type": "markdown",
   "id": "d983234d",
   "metadata": {},
   "source": [
    "## 1.2 기본 정보 조회"
   ]
  },
  {
   "cell_type": "code",
   "execution_count": 109,
   "id": "24487d5d",
   "metadata": {},
   "outputs": [],
   "source": [
    "numbers = [1, 12, 3, 5, 4]\n",
    "numbers_2d = [[100, 0],\n",
    "             [9, 100, 1, 2, 3],\n",
    "             [50, 64]]"
   ]
  },
  {
   "cell_type": "code",
   "execution_count": 110,
   "id": "2ccaf1cd",
   "metadata": {},
   "outputs": [
    {
     "name": "stdout",
     "output_type": "stream",
     "text": [
      "5 3\n"
     ]
    }
   ],
   "source": [
    "# 요소의 수\n",
    "print(len(numbers), len(numbers_2d))"
   ]
  },
  {
   "cell_type": "code",
   "execution_count": 111,
   "id": "cf57e81f",
   "metadata": {},
   "outputs": [
    {
     "data": {
      "text/plain": [
       "(1, 12)"
      ]
     },
     "execution_count": 111,
     "metadata": {},
     "output_type": "execute_result"
    }
   ],
   "source": [
    "min(numbers), max(numbers)"
   ]
  },
  {
   "cell_type": "code",
   "execution_count": 113,
   "id": "fb026fac",
   "metadata": {},
   "outputs": [
    {
     "data": {
      "text/plain": [
       "([9, 100, 1, 2, 3], [100, 0])"
      ]
     },
     "execution_count": 113,
     "metadata": {},
     "output_type": "execute_result"
    }
   ],
   "source": [
    "min(numbers_2d), max(numbers_2d)\n",
    "# 2차원 list의 min() : 0번 인덱스 요소가 가장 작은 값\n",
    "#             max() : 0번 인덱스 요소가 가장 큰 값"
   ]
  },
  {
   "cell_type": "code",
   "execution_count": 115,
   "id": "0fa0a836",
   "metadata": {},
   "outputs": [
    {
     "data": {
      "text/plain": [
       "('Apple', 'orange')"
      ]
     },
     "execution_count": 115,
     "metadata": {},
     "output_type": "execute_result"
    }
   ],
   "source": [
    "# 문자 list인 경우 ascii 코드값으로 min(), max() 적용\n",
    "fruits = ['mango', 'apple', 'orange', 'Apple']\n",
    "min(fruits), max(fruits)"
   ]
  },
  {
   "cell_type": "code",
   "execution_count": 126,
   "id": "a659788a",
   "metadata": {},
   "outputs": [
    {
     "name": "stdout",
     "output_type": "stream",
     "text": [
      "오름차순 [1, 3, 4, 5, 12]\n",
      "내림차순 [12, 5, 4, 3, 1]\n",
      "sorted함수 사용시 리스트 내용이 바뀌지 않음 [1, 12, 3, 5, 4]\n",
      "합 : 25\n"
     ]
    }
   ],
   "source": [
    "numbers = [1, 12, 3, 5, 4]\n",
    "# 정렬(오름차순, 내림차순)\n",
    "print('오름차순', sorted(numbers))\n",
    "print('내림차순', sorted(numbers, reverse=True))\n",
    "print('sorted함수 사용시 리스트 내용이 바뀌지 않음', numbers) \n",
    "print('합 :', sum(numbers)) "
   ]
  },
  {
   "cell_type": "markdown",
   "id": "4d4508ed",
   "metadata": {},
   "source": [
    " ## 1.3 요소 추가\n",
    "- \\+ : 두 리스트 연결\n",
    "- \\* : 리스트를 곱한 수만큼 반복\n",
    "- append() : 리스트 맨 뒤에 요소 추가\n",
    "- extend() : 리스트 맨 뒤에 리스트를 요소별로 추가\n",
    "- insert(idx, 값) : 지정된 index 위치로 삽입, 기존 데이터는 shift"
   ]
  },
  {
   "cell_type": "code",
   "execution_count": 131,
   "id": "f5d5d9a7",
   "metadata": {},
   "outputs": [
    {
     "data": {
      "text/plain": [
       "[1, 2, 3, 1, 2, 3]"
      ]
     },
     "execution_count": 131,
     "metadata": {},
     "output_type": "execute_result"
    }
   ],
   "source": [
    "numbers = [1 ,2, 3]\n",
    "numbers = numbers + numbers\n",
    "numbers"
   ]
  },
  {
   "cell_type": "code",
   "execution_count": 132,
   "id": "54467ed9",
   "metadata": {},
   "outputs": [
    {
     "data": {
      "text/plain": [
       "[1, 2, 3, 1, 2, 3, 1, 2, 3, 1, 2, 3, 1, 2, 3, 1, 2, 3]"
      ]
     },
     "execution_count": 132,
     "metadata": {},
     "output_type": "execute_result"
    }
   ],
   "source": [
    "numbers = numbers * 3\n",
    "numbers"
   ]
  },
  {
   "cell_type": "code",
   "execution_count": 145,
   "id": "c5899bc9",
   "metadata": {},
   "outputs": [
    {
     "name": "stdout",
     "output_type": "stream",
     "text": [
      "[1, 2, 3, 5, 6, 7]\n",
      "[1, 2, 3, 100, 5, 6, 7]\n"
     ]
    }
   ],
   "source": [
    "numbers1 = [1,2,3]\n",
    "numbers2 = [5,6,7]\n",
    "numbers1.extend(numbers2)\n",
    "print(numbers1)\n",
    "numbers1.insert(3,100)\n",
    "print(numbers1)"
   ]
  },
  {
   "cell_type": "code",
   "execution_count": 146,
   "id": "854c51e7",
   "metadata": {},
   "outputs": [
    {
     "data": {
      "text/plain": [
       "[[90, 84, 79, 93], [95, 75, 89, 88], [92, 89, 99, 87], [1, 2, 3, 100, 5, 6, 7]]"
      ]
     },
     "execution_count": 146,
     "metadata": {},
     "output_type": "execute_result"
    }
   ],
   "source": [
    "numbers3 = [1,2,3]\n",
    "score_2d.append(numbers1)\n",
    "score_2d"
   ]
  },
  {
   "cell_type": "code",
   "execution_count": 153,
   "id": "4ab1b9ae",
   "metadata": {},
   "outputs": [
    {
     "name": "stdout",
     "output_type": "stream",
     "text": [
      "[[90, 84, 79, 93], [95, 75, 89, 88], [92, 89, 99, 87], [1, 2, 3, 100, 5, 6, 7], 5, 6, 7, 5, 6, 7, 5, 6, 7, 5, 6, 7, 5, 6, 7, 5, 6, 7, 5, 6, 7]\n",
      "[1, 2, 3, 4, 5, 6]\n"
     ]
    }
   ],
   "source": [
    "score_2d.extend(numbers2)\n",
    "print(score_2d)\n",
    "num = [1,2,3]\n",
    "num.extend([4,5,6])\n",
    "print(num)"
   ]
  },
  {
   "cell_type": "markdown",
   "id": "1766a592",
   "metadata": {},
   "source": [
    "## 1.4 인덱싱과 요소 갯수\n",
    "- 변수.[index] : 인덱스를 이용한 접근\n",
    "- index(찾을데이터) : 찾을데이터가 있는 요소의 인덱스를 반환\n",
    "                     찾을데이터가 없는 경우 오류 발생\n",
    "- count(찾을데이터) : 리스트에서 찾을데이터의 개수를 반환"
   ]
  },
  {
   "cell_type": "code",
   "execution_count": 167,
   "id": "44263ac9",
   "metadata": {},
   "outputs": [
    {
     "name": "stdout",
     "output_type": "stream",
     "text": [
      "2 0\n",
      "1\n",
      "5\n"
     ]
    },
    {
     "ename": "ValueError",
     "evalue": "9 is not in list",
     "output_type": "error",
     "traceback": [
      "\u001b[1;31m---------------------------------------------------------------------------\u001b[0m",
      "\u001b[1;31mValueError\u001b[0m                                Traceback (most recent call last)",
      "Cell \u001b[1;32mIn[167], line 5\u001b[0m\n\u001b[0;32m      3\u001b[0m \u001b[38;5;28mprint\u001b[39m(nums\u001b[38;5;241m.\u001b[39mindex(\u001b[38;5;241m2\u001b[39m))   \u001b[38;5;66;03m# 0번째 index부터 2가 처음 나오는 index를 반환\u001b[39;00m\n\u001b[0;32m      4\u001b[0m \u001b[38;5;28mprint\u001b[39m(nums\u001b[38;5;241m.\u001b[39mindex(\u001b[38;5;241m2\u001b[39m, \u001b[38;5;241m3\u001b[39m))   \u001b[38;5;66;03m# 3번째 index부터 2가 처음 나오는 index를 반환\u001b[39;00m\n\u001b[1;32m----> 5\u001b[0m \u001b[38;5;28mprint\u001b[39m(\u001b[43mnums\u001b[49m\u001b[38;5;241;43m.\u001b[39;49m\u001b[43mindex\u001b[49m\u001b[43m(\u001b[49m\u001b[38;5;241;43m9\u001b[39;49m\u001b[43m)\u001b[49m)\n",
      "\u001b[1;31mValueError\u001b[0m: 9 is not in list"
     ]
    }
   ],
   "source": [
    "nums = [1,2,3,[1,2,3,], 1,2,3]\n",
    "print(nums.count(2), nums.count(9))\n",
    "print(nums.index(2))   # 0번째 index부터 2가 처음 나오는 index를 반환\n",
    "print(nums.index(2, 3))   # 3번째 index부터 2가 처음 나오는 index를 반환"
   ]
  },
  {
   "cell_type": "code",
   "execution_count": 168,
   "id": "03fec048",
   "metadata": {},
   "outputs": [
    {
     "name": "stdout",
     "output_type": "stream",
     "text": [
      "9가 없어요\n"
     ]
    }
   ],
   "source": [
    "# print(nums.index(9))  - 오류발생\n",
    "\n",
    "if nums.count(9):\n",
    "    print(nums.index(9))\n",
    "else:\n",
    "    print('9가 없어요')"
   ]
  },
  {
   "cell_type": "code",
   "execution_count": 170,
   "id": "c8208262",
   "metadata": {},
   "outputs": [
    {
     "data": {
      "text/plain": [
       "False"
      ]
     },
     "execution_count": 170,
     "metadata": {},
     "output_type": "execute_result"
    }
   ],
   "source": [
    "9 in nums # nums 리스트 안에 9가 존재하는지 여부를 리턴해준다"
   ]
  },
  {
   "cell_type": "code",
   "execution_count": 171,
   "id": "e1361cc7",
   "metadata": {},
   "outputs": [
    {
     "name": "stdout",
     "output_type": "stream",
     "text": [
      "9가 없어요\n"
     ]
    }
   ],
   "source": [
    "if 9 in nums:\n",
    "    print(nums.index(9))\n",
    "else:\n",
    "    print('9가 없어요')\n",
    "\n",
    "# index 함수는 에러가 뜰 가능성이 있으므로, 'in'과 같이 쓴다"
   ]
  },
  {
   "cell_type": "code",
   "execution_count": 177,
   "id": "43384c83",
   "metadata": {},
   "outputs": [
    {
     "data": {
      "text/plain": [
       "1"
      ]
     },
     "execution_count": 177,
     "metadata": {},
     "output_type": "execute_result"
    }
   ],
   "source": [
    "def safe_index(lst, data):\n",
    "    if data in lst: # lst 안에 data가 있는지 여부\n",
    "        return lst.index(data)\n",
    "    else:\n",
    "        return -1        \n",
    "\n",
    "safe_index(nums, 2)"
   ]
  },
  {
   "cell_type": "markdown",
   "id": "8ec2fd07",
   "metadata": {},
   "source": [
    "## 1.5 슬라이싱(원하는 요소 추출)\n",
    "- 원하는 인덱스, 데이터를 가져올 수 있음\n",
    "\n",
    "1. 리스트 슬라이싱 : 리스트에서 원하는 index의 데이터를 추출(인덱스의 범위 벗어나도 에러안남)\n",
    "    - .[from:stop:step] from부터 stop 앞!까지 step씩 증가하는 index의 값을 추출\n",
    "    - from 생략시 처음. stop 생략시 끝까지. step 생략시 1. 모두 생략가능\n",
    "    - 음수 인덱스 가능\n",
    "\n",
    "\n",
    "2. <font color=\"red\">**리스트 컴프리헨션**</font> : 리스트에서 원하는 데이터를 추출\n"
   ]
  },
  {
   "cell_type": "code",
   "execution_count": 182,
   "id": "2ebec678",
   "metadata": {},
   "outputs": [
    {
     "name": "stdout",
     "output_type": "stream",
     "text": [
      "[1, 5, 10, 13]\n",
      "[20, 13, 12, 10, 9, 5, 3, 1]\n"
     ]
    }
   ],
   "source": [
    "numbers = [1, 3, 5, 9, 10, 12, 13, 20]\n",
    "len(numbers)\n",
    "\n",
    "# 짝수번째 인덱스 값 출력\n",
    "print(numbers[::2])\n",
    "\n",
    "# 거꾸로 출력\n",
    "print(numbers[::-1])"
   ]
  },
  {
   "cell_type": "code",
   "execution_count": 196,
   "id": "3dab07aa",
   "metadata": {},
   "outputs": [
    {
     "name": "stdout",
     "output_type": "stream",
     "text": [
      "[10, 12, 20]\n"
     ]
    }
   ],
   "source": [
    "numbers = [1, 3, 5, 9, 10, 12, 13, 20]\n",
    "result = []\n",
    "# 리스트에서 모든 데이터를 변수에 담아 출력하시오\n",
    "for data in numbers:\n",
    "    result.append(data)\n",
    "print(result)\n",
    "\n",
    "\n",
    "# 리스트컴프리헨션을 통해 짝수만 가져와라\n",
    "for i in numbers:\n",
    "    if i%2 ==0:\n",
    "#   if not i%2:\n",
    "        result.append(i)\n",
    "print(result) "
   ]
  },
  {
   "cell_type": "markdown",
   "id": "2d7a1fad",
   "metadata": {},
   "source": [
    "**리스트 컴프리헨션**"
   ]
  },
  {
   "cell_type": "code",
   "execution_count": 198,
   "id": "e2a688ba",
   "metadata": {},
   "outputs": [
    {
     "data": {
      "text/plain": [
       "[1, 3, 5, 9, 10, 12, 13, 20]"
      ]
     },
     "execution_count": 198,
     "metadata": {},
     "output_type": "execute_result"
    }
   ],
   "source": [
    "# 리스트 컴프리헨션으로 리스트에서 모든 데이터를 변수에 담아 추출\n",
    "[data for data in numbers]"
   ]
  },
  {
   "cell_type": "code",
   "execution_count": 202,
   "id": "bfe2d99e",
   "metadata": {},
   "outputs": [
    {
     "name": "stdout",
     "output_type": "stream",
     "text": [
      "[10, 12, 20]\n"
     ]
    }
   ],
   "source": [
    "# 리스트 컴프리헨션으로 리스트에서 짝수 데이터를 변수에 담아 추출 - if문 추가 가능\n",
    "numbers = [1, 3, 5, 9, 10, 12, 13, 20]\n",
    "result = [data for data in numbers if data%2==0]\n",
    "print(result)"
   ]
  },
  {
   "cell_type": "code",
   "execution_count": 204,
   "id": "bfcd9b77",
   "metadata": {},
   "outputs": [
    {
     "data": {
      "text/plain": [
       "[10, 12, 13, 20]"
      ]
     },
     "execution_count": 204,
     "metadata": {},
     "output_type": "execute_result"
    }
   ],
   "source": [
    "# ex1.numbers 에서 10이상만 추출 \n",
    "numbers = [1, 3, 5, 9, 10, 12, 13, 20]\n",
    "result1=[i for i in numbers if i>=10]\n",
    "result1"
   ]
  },
  {
   "cell_type": "code",
   "execution_count": 205,
   "id": "fa6b8832",
   "metadata": {},
   "outputs": [
    {
     "data": {
      "text/plain": [
       "['orange', 'apple', 'mango']"
      ]
     },
     "execution_count": 205,
     "metadata": {},
     "output_type": "execute_result"
    }
   ],
   "source": [
    "# ex2. fruits에서 5글자 넘는 과일만 추출\n",
    "fruits = ['orange', 'apple', 'mango', 'kiwi']\n",
    "result2 = [f for f in fruits if len(f)>=5]\n",
    "result2"
   ]
  },
  {
   "cell_type": "code",
   "execution_count": 207,
   "id": "3a9f5a9a",
   "metadata": {},
   "outputs": [
    {
     "data": {
      "text/plain": [
       "[9, 16, 25]"
      ]
     },
     "execution_count": 207,
     "metadata": {},
     "output_type": "execute_result"
    }
   ],
   "source": [
    "# ex3. 3이상의 요소들의 제곱을 추출\n",
    "L = [1,2,3,4,5]\n",
    "result3 = [n**2 for n in L if n>=3]\n",
    "result3"
   ]
  },
  {
   "cell_type": "code",
   "execution_count": 252,
   "id": "35fc1731",
   "metadata": {},
   "outputs": [
    {
     "name": "stdout",
     "output_type": "stream",
     "text": [
      "['n', 'h', 't', 'y', 'p', 'v', 'l']\n"
     ]
    }
   ],
   "source": [
    "#주어진 문자열에서 **모음(a, e, i, o, u)**을 제거하고,\n",
    "#남은 문자들을 뒤집어서 리스트로 만들어라.\n",
    "\n",
    "text = \"I love Python\"\n",
    "low_text = text.lower()\n",
    "del_char = ['a', 'e', 'i', 'o', 'u',' ']\n",
    "slc_char = [s for s in low_text if s not in del_char] \n",
    "slc_char.reverse()\n",
    "print(slc_char)\n"
   ]
  },
  {
   "cell_type": "code",
   "execution_count": 213,
   "id": "3334c9f8",
   "metadata": {},
   "outputs": [
    {
     "data": {
      "text/plain": [
       "['i', ' ', 'l', 'o', 'v', 'e', ' ', 'p', 'y', 't', 'h', 'o', 'n']"
      ]
     },
     "execution_count": 213,
     "metadata": {},
     "output_type": "execute_result"
    }
   ],
   "source": [
    "text = \"I love Python\"\n",
    "low_text = text.lower()\n",
    "slc_char = [s for s in low_text]\n",
    "slc_char\n"
   ]
  },
  {
   "cell_type": "markdown",
   "id": "5ad35865",
   "metadata": {},
   "source": [
    "## 1.6 요소 수정하기"
   ]
  },
  {
   "cell_type": "code",
   "execution_count": 220,
   "id": "9d5b30da",
   "metadata": {},
   "outputs": [
    {
     "data": {
      "text/plain": [
       "[0, 1, 222, 3, 4, 5, 6, 7, 8, 9]"
      ]
     },
     "execution_count": 220,
     "metadata": {},
     "output_type": "execute_result"
    }
   ],
   "source": [
    "num = [0,1,2,3,4,5,6,7,8,9]\n",
    "# 인덱스를 이용해서 요소 수정\n",
    "num[2] = 222\n",
    "num"
   ]
  },
  {
   "cell_type": "code",
   "execution_count": 233,
   "id": "f30f93b6",
   "metadata": {},
   "outputs": [
    {
     "data": {
      "text/plain": [
       "[99, 1, 99, 3, 99, 5, 99, 7, 99, 9]"
      ]
     },
     "execution_count": 233,
     "metadata": {},
     "output_type": "execute_result"
    }
   ],
   "source": [
    "# 슬라이싱을 이용해서 요소 수정 (step 부분이 미포함 : 부분리스트가 통째로 수정)\n",
    "num1 = [0,1,2,3,4,5,6,7,8,9]\n",
    "num1[::2] = [99,99,99,99,99]\n",
    "num1 "
   ]
  },
  {
   "cell_type": "markdown",
   "id": "5513f5f7",
   "metadata": {},
   "source": [
    "## 1.7 요소 삭제\n",
    "- pop() : 가장 마지막 인덱스 요소가 반환되고 삭제\n",
    "- pop(inx) : idx번째 요소가 반환되고 삭제\n",
    "- remove(지울데이터) : 리스트안의 데이터가 삭제\n",
    "- del 번수.[idx] : idx 번째 요소가 삭제"
   ]
  },
  {
   "cell_type": "code",
   "execution_count": 243,
   "id": "5f370932",
   "metadata": {},
   "outputs": [
    {
     "name": "stdout",
     "output_type": "stream",
     "text": [
      "삭제된 데이터 : 5, 리스트 : [1, 2, 3, 4]\n",
      "삭제된 데이터 : 5, 리스트 : [2, 3, 4]\n",
      "numbers : [2, 3]\n"
     ]
    }
   ],
   "source": [
    "numbers = [1,2,3,4,5]\n",
    "delete_data = numbers.pop()\n",
    "print('삭제된 데이터 : {}, 리스트 : {}'.format(delete_data, numbers))\n",
    "\n",
    "delete_data2 = numbers.pop(0)\n",
    "print('삭제된 데이터 : {}, 리스트 : {}'.format(delete_data, numbers))\n",
    "\n",
    "del numbers[2]\n",
    "print('numbers :', numbers)"
   ]
  },
  {
   "cell_type": "code",
   "execution_count": 246,
   "id": "0e84993a",
   "metadata": {},
   "outputs": [
    {
     "name": "stdout",
     "output_type": "stream",
     "text": [
      "[1, 2, 4, 5]\n"
     ]
    }
   ],
   "source": [
    "numbers = [1,2,3,4,5]\n",
    "del_num = numbers.remove(3)\n",
    "print(numbers)"
   ]
  },
  {
   "cell_type": "code",
   "execution_count": 253,
   "id": "ae620a05",
   "metadata": {},
   "outputs": [
    {
     "name": "stdout",
     "output_type": "stream",
     "text": [
      "해당 데이터가 없습니다\n"
     ]
    }
   ],
   "source": [
    "if 9 in numbers:\n",
    "    numbers.remove(9)\n",
    "else:\n",
    "    print('해당 데이터가 없습니다')"
   ]
  },
  {
   "cell_type": "code",
   "execution_count": 254,
   "id": "3515b7f7",
   "metadata": {},
   "outputs": [],
   "source": [
    "def safe_remove(lst, remove_data):\n",
    "    if remove_data in lst:\n",
    "        lst.remove(remove_data)\n",
    "        print(remove_data, '삭제완료')\n",
    "    else:\n",
    "        print(f'{remove_data}는 없는 아이템입니다')"
   ]
  },
  {
   "cell_type": "code",
   "execution_count": 258,
   "id": "a23e9fcf",
   "metadata": {},
   "outputs": [
    {
     "name": "stdout",
     "output_type": "stream",
     "text": [
      "9는 없는 아이템입니다\n",
      "5는 없는 아이템입니다\n"
     ]
    },
    {
     "data": {
      "text/plain": [
       "[1, 2, 4]"
      ]
     },
     "execution_count": 258,
     "metadata": {},
     "output_type": "execute_result"
    }
   ],
   "source": [
    "safe_remove(numbers, 9)\n",
    "safe_remove(numbers, 5)\n",
    "numbers"
   ]
  },
  {
   "cell_type": "code",
   "execution_count": null,
   "id": "9b7e8c87",
   "metadata": {},
   "outputs": [],
   "source": []
  },
  {
   "cell_type": "code",
   "execution_count": null,
   "id": "525af263",
   "metadata": {},
   "outputs": [],
   "source": []
  }
 ],
 "metadata": {
  "kernelspec": {
   "display_name": "Python 3 (ipykernel)",
   "language": "python",
   "name": "python3"
  },
  "language_info": {
   "codemirror_mode": {
    "name": "ipython",
    "version": 3
   },
   "file_extension": ".py",
   "mimetype": "text/x-python",
   "name": "python",
   "nbconvert_exporter": "python",
   "pygments_lexer": "ipython3",
   "version": "3.10.9"
  },
  "toc": {
   "base_numbering": 1,
   "nav_menu": {},
   "number_sections": false,
   "sideBar": true,
   "skip_h1_title": false,
   "title_cell": "Table of Contents",
   "title_sidebar": "Contents",
   "toc_cell": false,
   "toc_position": {
    "height": "calc(100% - 180px)",
    "left": "10px",
    "top": "150px",
    "width": "208.6px"
   },
   "toc_section_display": true,
   "toc_window_display": true
  }
 },
 "nbformat": 4,
 "nbformat_minor": 5
}
