{
 "cells": [
  {
   "cell_type": "code",
   "execution_count": 1,
   "id": "9b6aee23",
   "metadata": {},
   "outputs": [
    {
     "data": {
      "text/html": [
       "\n",
       "<style>\n",
       "div.container{width:86% !important;}\n",
       "div.cell.code_cell.rendered{width:100%;}\n",
       "div.CodeMirror {font-family:Consolas; font-size:12pt;}\n",
       "div.output {font-size:12pt; font-weight:bold;}\n",
       "div.input {font-family:Consolas; font-size:12pt;}\n",
       "div.prompt {min-width:70px;}\n",
       "div#toc-wrapper{padding-top:120px;}\n",
       "div.text_cell_render ul li{font-size:12pt;padding:5px;}\n",
       "table.dataframe{font-size:12px;}\n",
       "</style>\n"
      ],
      "text/plain": [
       "<IPython.core.display.HTML object>"
      ]
     },
     "metadata": {},
     "output_type": "display_data"
    }
   ],
   "source": [
    "from IPython.display import display, HTML\n",
    "display(HTML(\"\"\"\n",
    "<style>\n",
    "div.container{width:86% !important;}\n",
    "div.cell.code_cell.rendered{width:100%;}\n",
    "div.CodeMirror {font-family:Consolas; font-size:12pt;}\n",
    "div.output {font-size:12pt; font-weight:bold;}\n",
    "div.input {font-family:Consolas; font-size:12pt;}\n",
    "div.prompt {min-width:70px;}\n",
    "div#toc-wrapper{padding-top:120px;}\n",
    "div.text_cell_render ul li{font-size:12pt;padding:5px;}\n",
    "table.dataframe{font-size:12px;}\n",
    "</style>\n",
    "\"\"\"))"
   ]
  },
  {
   "cell_type": "markdown",
   "id": "e49e0983",
   "metadata": {},
   "source": [
    "<font size=\"5\" color=\"red\">ch03. 데이터구조</font>\n",
    "- 리스트[], 튜플(), 딕셔너리{}, 셋\n",
    "\n",
    "# 1절. 리스트\n",
    "\n",
    "## 1.1 리스트 만들기\n",
    "- []를 이용해서 만들며, 여러개 값(여러 타입)을 하나의 변수에 저장/관리할 수 있음\n",
    "- list(리스트로 변환 가능한 자료)함수 이용도 가능\n",
    "- 인덱스 : 각 요소의 위치. 0부터 시작. 맨 마지막 인덱스는 -1\n",
    "- 슬라이싱( [from:stop:step] ) : 부분 데이터셋 추출\n",
    "- 인덱스와 슬라이싱을 이용해서 읽기/쓰기 지원"
   ]
  },
  {
   "cell_type": "code",
   "execution_count": null,
   "id": "97578f91",
   "metadata": {},
   "outputs": [],
   "source": [
    "fruits = ['banana', 'apple', 'orange', 'grape']\n",
    "type(fruits)"
   ]
  },
  {
   "cell_type": "code",
   "execution_count": null,
   "id": "b4d9acbc",
   "metadata": {},
   "outputs": [],
   "source": [
    "print(fruits)\n",
    "print(fruits[0])"
   ]
  },
  {
   "cell_type": "code",
   "execution_count": null,
   "id": "2e73a021",
   "metadata": {},
   "outputs": [],
   "source": [
    "fruits[0] = 'mango'\n",
    "print(fruits)"
   ]
  },
  {
   "cell_type": "code",
   "execution_count": null,
   "id": "b2fbb3bf",
   "metadata": {},
   "outputs": [],
   "source": [
    "x, y, z, o = fruits\n",
    "print(x, y, z, o)"
   ]
  },
  {
   "cell_type": "code",
   "execution_count": null,
   "id": "fbc0d0c7",
   "metadata": {},
   "outputs": [],
   "source": [
    "fruits = ['mango', 'apple', 'orange']\n",
    "x, y, z = fruits\n",
    "print(f'x={x}')\n",
    "print(f'y={y}')\n",
    "print('z={}'.format(z))\n",
    "print(f'fruits={fruits}')"
   ]
  },
  {
   "cell_type": "code",
   "execution_count": null,
   "id": "b62c728d",
   "metadata": {},
   "outputs": [],
   "source": [
    "# range(from, to, by)  * from 부터 to 앞까지 by씩 증가하면서 지정된 범위의 정수\n",
    "    # from 생략시 : 0 , by 생략시 : 1\n",
    "range(10)"
   ]
  },
  {
   "cell_type": "code",
   "execution_count": null,
   "id": "d7224187",
   "metadata": {},
   "outputs": [],
   "source": [
    "print(list(range(0,10)))\n",
    "print(list(range(10)))\n",
    "print(list(range(101,111)))"
   ]
  },
  {
   "cell_type": "code",
   "execution_count": null,
   "id": "cbc532bb",
   "metadata": {},
   "outputs": [],
   "source": [
    "list(range(10, -1, -2))"
   ]
  },
  {
   "cell_type": "code",
   "execution_count": null,
   "id": "9143ca9d",
   "metadata": {},
   "outputs": [],
   "source": [
    "# 반복문(3회)\n",
    "#for i in [0,1,2,3,4,5,6,7,8,9]:\n",
    "for i in range(3):\n",
    "    print(i)"
   ]
  },
  {
   "cell_type": "code",
   "execution_count": null,
   "id": "b464a3f7",
   "metadata": {},
   "outputs": [],
   "source": [
    "fruits = ['mango', 'apple', 'orange', 'grape']\n",
    "for i in fruits:\n",
    "    print(i)\n",
    "\n",
    "print('-'*50)    \n",
    "    \n",
    "for i in range(3):\n",
    "    print(\"{}번째 과일은 {}입니다.\".format(i, fruits[i]))\n",
    "\n",
    "print('-'*50) \n",
    "\n",
    "for i in range(len(fruits)):  # len(리스트) : 리스트 데이터 수\n",
    "    print(\"{}번째 과일은 {}입니다.\".format(i, fruits[i]))\n",
    "\n",
    "print('-'*50) \n",
    "    \n",
    "for i in fruits:\n",
    "    print(f\"{i}입니다.\") \n"
   ]
  },
  {
   "cell_type": "code",
   "execution_count": null,
   "id": "9e187a57",
   "metadata": {},
   "outputs": [],
   "source": [
    "i, v = [1, 'mango']\n",
    "print(i)\n",
    "print(v)"
   ]
  },
  {
   "cell_type": "code",
   "execution_count": null,
   "id": "46bcde9d",
   "metadata": {},
   "outputs": [],
   "source": [
    "# enumerate(나열가능한 자료) : (index, 값)들의 셋들로 만들어줌\n",
    "# for idx, value in [[0, 'mango'], [1, 'apple'], [2, 'orange'], [3, 'grape']]: - enumerate(fruits) 함수로 간단히 사용 가능\n",
    "for idx, value in enumerate(fruits):\n",
    "    print(\"{}번째 과일은 {}입니다.\".format(idx, value))\n",
    "    \n",
    "print(list(enumerate(fruits)))"
   ]
  },
  {
   "cell_type": "code",
   "execution_count": null,
   "id": "08dc4eff",
   "metadata": {},
   "outputs": [],
   "source": [
    "# 리스트는 여러 타임의 데이터를 담을 수 있음 - 숫자, 논리값, 텍스트, 리스트\n",
    "numbers = [0, True, '2', 3, [4,5,6]]\n",
    "print(numbers)\n",
    "print(numbers[1])\n",
    "print(numbers[4][1])  #리스트 안의 리스트는 이렇게 엑세스 한다"
   ]
  },
  {
   "cell_type": "code",
   "execution_count": null,
   "id": "b26ab2a0",
   "metadata": {},
   "outputs": [],
   "source": [
    "# 2차원 리스트\n",
    "score_2d = [[90,84,79,93], \n",
    "            [95,75,89,88], \n",
    "            [92,89,99,87]]  \n",
    "len(score_2d), len(score_2d[0])"
   ]
  },
  {
   "cell_type": "code",
   "execution_count": null,
   "id": "8ddf5cd7",
   "metadata": {},
   "outputs": [],
   "source": [
    "for i, row in enumerate(score_2d):\n",
    "    for j, value in enumerate(row):\n",
    "        print(\"{}행 {}열 : {:3d}\".format(i, j, value), end='\\t') "
   ]
  },
  {
   "cell_type": "code",
   "execution_count": null,
   "id": "ae008060",
   "metadata": {},
   "outputs": [],
   "source": [
    "for i, row in enumerate(score_2d):\n",
    "    for j, value in enumerate(row):\n",
    "        print(\"{}행 {}열 : {:3d}\".format(i, j, value), end='\\t') \n",
    "    print(end=\"\\n\")  # value는 생략해도 가능, 줄바꿈 실행    \n",
    "    "
   ]
  },
  {
   "cell_type": "code",
   "execution_count": null,
   "id": "53555e05",
   "metadata": {},
   "outputs": [],
   "source": [
    "for row in score_2d:\n",
    "    for value in row:\n",
    "#        print(\"{:3d}\".format(value), end='\\t') \n",
    "        print(value, end='\\t')\n",
    "    print() "
   ]
  },
  {
   "cell_type": "markdown",
   "id": "d983234d",
   "metadata": {},
   "source": [
    "## 1.2 기본 정보 조회"
   ]
  },
  {
   "cell_type": "code",
   "execution_count": null,
   "id": "24487d5d",
   "metadata": {},
   "outputs": [],
   "source": [
    "numbers = [1, 12, 3, 5, 4]\n",
    "numbers_2d = [[100, 0],\n",
    "             [9, 100, 1, 2, 3],\n",
    "             [50, 64]]"
   ]
  },
  {
   "cell_type": "code",
   "execution_count": null,
   "id": "2ccaf1cd",
   "metadata": {},
   "outputs": [],
   "source": [
    "# 요소의 수\n",
    "print(len(numbers), len(numbers_2d))"
   ]
  },
  {
   "cell_type": "code",
   "execution_count": null,
   "id": "cf57e81f",
   "metadata": {},
   "outputs": [],
   "source": [
    "min(numbers), max(numbers)"
   ]
  },
  {
   "cell_type": "code",
   "execution_count": null,
   "id": "fb026fac",
   "metadata": {},
   "outputs": [],
   "source": [
    "min(numbers_2d), max(numbers_2d)\n",
    "# 2차원 list의 min() : 0번 인덱스 요소가 가장 작은 값\n",
    "#             max() : 0번 인덱스 요소가 가장 큰 값"
   ]
  },
  {
   "cell_type": "code",
   "execution_count": null,
   "id": "0fa0a836",
   "metadata": {},
   "outputs": [],
   "source": [
    "# 문자 list인 경우 ascii 코드값으로 min(), max() 적용\n",
    "fruits = ['mango', 'apple', 'orange', 'Apple']\n",
    "min(fruits), max(fruits)"
   ]
  },
  {
   "cell_type": "code",
   "execution_count": null,
   "id": "a659788a",
   "metadata": {},
   "outputs": [],
   "source": [
    "numbers = [1, 12, 3, 5, 4]\n",
    "# 정렬(오름차순, 내림차순)\n",
    "print('오름차순', sorted(numbers))\n",
    "print('내림차순', sorted(numbers, reverse=True))\n",
    "print('sorted함수 사용시 리스트 내용이 바뀌지 않음', numbers) \n",
    "print('합 :', sum(numbers)) "
   ]
  },
  {
   "cell_type": "markdown",
   "id": "4d4508ed",
   "metadata": {},
   "source": [
    " ## 1.3 요소 추가\n",
    "- \\+ : 두 리스트 연결\n",
    "- \\* : 리스트를 곱한 수만큼 반복\n",
    "- append() : 리스트 맨 뒤에 요소 추가\n",
    "- extend() : 리스트 맨 뒤에 리스트를 요소별로 추가\n",
    "- insert(idx, 값) : 지정된 index 위치로 삽입, 기존 데이터는 shift"
   ]
  },
  {
   "cell_type": "code",
   "execution_count": null,
   "id": "f5d5d9a7",
   "metadata": {},
   "outputs": [],
   "source": [
    "numbers = [1 ,2, 3]\n",
    "numbers = numbers + numbers\n",
    "numbers"
   ]
  },
  {
   "cell_type": "code",
   "execution_count": null,
   "id": "54467ed9",
   "metadata": {},
   "outputs": [],
   "source": [
    "numbers = numbers * 3\n",
    "numbers"
   ]
  },
  {
   "cell_type": "code",
   "execution_count": null,
   "id": "c5899bc9",
   "metadata": {},
   "outputs": [],
   "source": [
    "numbers1 = [1,2,3]\n",
    "numbers2 = [5,6,7]\n",
    "numbers1.extend(numbers2)\n",
    "print(numbers1)\n",
    "numbers1.insert(3,100)\n",
    "print(numbers1)"
   ]
  },
  {
   "cell_type": "code",
   "execution_count": null,
   "id": "854c51e7",
   "metadata": {},
   "outputs": [],
   "source": [
    "numbers3 = [1,2,3]\n",
    "score_2d.append(numbers1)\n",
    "score_2d"
   ]
  },
  {
   "cell_type": "code",
   "execution_count": null,
   "id": "4ab1b9ae",
   "metadata": {},
   "outputs": [],
   "source": [
    "score_2d.extend(numbers2)\n",
    "print(score_2d)\n",
    "num = [1,2,3]\n",
    "num.extend([4,5,6])\n",
    "print(num)"
   ]
  },
  {
   "cell_type": "markdown",
   "id": "1766a592",
   "metadata": {},
   "source": [
    "## 1.4 인덱싱과 요소 갯수\n",
    "- 변수.[index] : 인덱스를 이용한 접근\n",
    "- index(찾을데이터) : 찾을데이터가 있는 요소의 인덱스를 반환\n",
    "                     찾을데이터가 없는 경우 오류 발생\n",
    "- count(찾을데이터) : 리스트에서 찾을데이터의 개수를 반환"
   ]
  },
  {
   "cell_type": "code",
   "execution_count": null,
   "id": "44263ac9",
   "metadata": {},
   "outputs": [],
   "source": [
    "nums = [1,2,3,[1,2,3,], 1,2,3]\n",
    "print(nums.count(2), nums.count(9))\n",
    "print(nums.index(2))   # 0번째 index부터 2가 처음 나오는 index를 반환\n",
    "print(nums.index(2, 3))   # 3번째 index부터 2가 처음 나오는 index를 반환"
   ]
  },
  {
   "cell_type": "code",
   "execution_count": null,
   "id": "03fec048",
   "metadata": {},
   "outputs": [],
   "source": [
    "# print(nums.index(9))  - 오류발생\n",
    "\n",
    "if nums.count(9):\n",
    "    print(nums.index(9))\n",
    "else:\n",
    "    print('9가 없어요')"
   ]
  },
  {
   "cell_type": "code",
   "execution_count": null,
   "id": "c8208262",
   "metadata": {},
   "outputs": [],
   "source": [
    "9 in nums # nums 리스트 안에 9가 존재하는지 여부를 리턴해준다"
   ]
  },
  {
   "cell_type": "code",
   "execution_count": null,
   "id": "e1361cc7",
   "metadata": {},
   "outputs": [],
   "source": [
    "if 9 in nums:\n",
    "    print(nums.index(9))\n",
    "else:\n",
    "    print('9가 없어요')\n",
    "\n",
    "# index 함수는 에러가 뜰 가능성이 있으므로, 'in'과 같이 쓴다"
   ]
  },
  {
   "cell_type": "code",
   "execution_count": null,
   "id": "43384c83",
   "metadata": {},
   "outputs": [],
   "source": [
    "# def safe_index(lst, data):\n",
    "#     if data in lst: # lst 안에 data가 있는지 여부\n",
    "#         return lst.index(data)\n",
    "#     else:\n",
    "#         return -1        \n",
    "\n",
    "# safe_index(nums, 2)"
   ]
  },
  {
   "cell_type": "markdown",
   "id": "8ec2fd07",
   "metadata": {},
   "source": [
    "## 1.5 슬라이싱(원하는 요소 추출)\n",
    "- 원하는 인덱스, 데이터를 가져올 수 있음\n",
    "\n",
    "1. 리스트 슬라이싱 : 리스트에서 원하는 index의 데이터를 추출(인덱스의 범위 벗어나도 에러안남)\n",
    "    - .[from:stop:step] from부터 stop 앞!까지 step씩 증가하는 index의 값을 추출\n",
    "    - from 생략시 처음. stop 생략시 끝까지. step 생략시 1. 모두 생략가능\n",
    "    - 음수 인덱스 가능\n",
    "\n",
    "\n",
    "2. <font color=\"red\">**리스트 컴프리헨션**</font> : 리스트에서 원하는 데이터를 추출\n"
   ]
  },
  {
   "cell_type": "code",
   "execution_count": null,
   "id": "2ebec678",
   "metadata": {},
   "outputs": [],
   "source": [
    "numbers = [1, 3, 5, 9, 10, 12, 13, 20]\n",
    "len(numbers)\n",
    "\n",
    "# 짝수번째 인덱스 값 출력\n",
    "print(numbers[::2])\n",
    "\n",
    "# 거꾸로 출력\n",
    "print(numbers[::-1])"
   ]
  },
  {
   "cell_type": "code",
   "execution_count": null,
   "id": "3dab07aa",
   "metadata": {},
   "outputs": [],
   "source": [
    "numbers = [1, 3, 5, 9, 10, 12, 13, 20]\n",
    "result = []\n",
    "# 리스트에서 모든 데이터를 변수에 담아 출력하시오\n",
    "for data in numbers:\n",
    "    result.append(data)\n",
    "print(result)\n",
    "\n",
    "\n",
    "# 리스트컴프리헨션을 통해 짝수만 가져와라\n",
    "for i in numbers:\n",
    "    if i%2 ==0:\n",
    "#   if not i%2:\n",
    "        result.append(i)\n",
    "print(result) "
   ]
  },
  {
   "cell_type": "markdown",
   "id": "2d7a1fad",
   "metadata": {},
   "source": [
    "**리스트 컴프리헨션**"
   ]
  },
  {
   "cell_type": "code",
   "execution_count": null,
   "id": "e2a688ba",
   "metadata": {},
   "outputs": [],
   "source": [
    "# 리스트 컴프리헨션으로 리스트에서 모든 데이터를 변수에 담아 추출\n",
    "[data for data in numbers]"
   ]
  },
  {
   "cell_type": "code",
   "execution_count": null,
   "id": "bfe2d99e",
   "metadata": {},
   "outputs": [],
   "source": [
    "# 리스트 컴프리헨션으로 리스트에서 짝수 데이터를 변수에 담아 추출 - if문 추가 가능\n",
    "numbers = [1, 3, 5, 9, 10, 12, 13, 20]\n",
    "result = [data for data in numbers if data%2==0]\n",
    "print(result)"
   ]
  },
  {
   "cell_type": "code",
   "execution_count": null,
   "id": "bfcd9b77",
   "metadata": {},
   "outputs": [],
   "source": [
    "# ex1.numbers 에서 10이상만 추출 \n",
    "numbers = [1, 3, 5, 9, 10, 12, 13, 20]\n",
    "result1=[i for i in numbers if i>=10]\n",
    "result1"
   ]
  },
  {
   "cell_type": "code",
   "execution_count": null,
   "id": "fa6b8832",
   "metadata": {},
   "outputs": [],
   "source": [
    "# ex2. fruits에서 5글자 넘는 과일만 추출\n",
    "fruits = ['orange', 'apple', 'mango', 'kiwi']\n",
    "result2 = [f for f in fruits if len(f)>=5]\n",
    "result2"
   ]
  },
  {
   "cell_type": "code",
   "execution_count": null,
   "id": "3a9f5a9a",
   "metadata": {},
   "outputs": [],
   "source": [
    "# ex3. 3이상의 요소들의 제곱을 추출\n",
    "L = [1,2,3,4,5]\n",
    "result3 = [n**2 for n in L if n>=3]\n",
    "result3"
   ]
  },
  {
   "cell_type": "code",
   "execution_count": null,
   "id": "35fc1731",
   "metadata": {},
   "outputs": [],
   "source": [
    "#주어진 문자열에서 **모음(a, e, i, o, u)**을 제거하고,\n",
    "#남은 문자들을 뒤집어서 리스트로 만들어라.\n",
    "\n",
    "text = \"I love Python\"\n",
    "low_text = text.lower()\n",
    "del_char = ['a', 'e', 'i', 'o', 'u',' ']\n",
    "slc_char = [s for s in low_text if s not in del_char] \n",
    "slc_char.reverse()\n",
    "print(slc_char)\n"
   ]
  },
  {
   "cell_type": "code",
   "execution_count": null,
   "id": "3334c9f8",
   "metadata": {},
   "outputs": [],
   "source": [
    "text = \"I love Python\"\n",
    "low_text = text.lower()\n",
    "slc_char = [s for s in low_text]\n",
    "slc_char\n"
   ]
  },
  {
   "cell_type": "markdown",
   "id": "5ad35865",
   "metadata": {},
   "source": [
    "## 1.6 요소 수정하기"
   ]
  },
  {
   "cell_type": "code",
   "execution_count": null,
   "id": "9d5b30da",
   "metadata": {},
   "outputs": [],
   "source": [
    "num = [0,1,2,3,4,5,6,7,8,9]\n",
    "# 인덱스를 이용해서 요소 수정\n",
    "num[2] = 222\n",
    "num"
   ]
  },
  {
   "cell_type": "code",
   "execution_count": null,
   "id": "f30f93b6",
   "metadata": {},
   "outputs": [],
   "source": [
    "# 슬라이싱을 이용해서 요소 수정 (step 부분이 미포함 : 부분리스트가 통째로 수정)\n",
    "num1 = [0,1,2,3,4,5,6,7,8,9]\n",
    "num1[::2] = [99,99,99,99,99]\n",
    "num1 "
   ]
  },
  {
   "cell_type": "markdown",
   "id": "5513f5f7",
   "metadata": {},
   "source": [
    "## 1.7 요소 삭제\n",
    "- pop() : 가장 마지막 인덱스 요소가 반환되고 삭제\n",
    "- pop(inx) : idx번째 요소가 반환되고 삭제\n",
    "- remove(지울데이터) : 리스트안의 데이터가 삭제\n",
    "- del 번수.[idx] : idx 번째 요소가 삭제"
   ]
  },
  {
   "cell_type": "code",
   "execution_count": null,
   "id": "5f370932",
   "metadata": {},
   "outputs": [],
   "source": [
    "numbers = [1,2,3,4,5]\n",
    "delete_data = numbers.pop()\n",
    "print('삭제된 데이터 : {}, 리스트 : {}'.format(delete_data, numbers))\n",
    "\n",
    "delete_data2 = numbers.pop(0)\n",
    "print('삭제된 데이터 : {}, 리스트 : {}'.format(delete_data, numbers))\n",
    "\n",
    "del numbers[2]\n",
    "print('numbers :', numbers)"
   ]
  },
  {
   "cell_type": "code",
   "execution_count": null,
   "id": "0e84993a",
   "metadata": {},
   "outputs": [],
   "source": [
    "numbers = [1,2,3,4,5]\n",
    "del_num = numbers.remove(3)\n",
    "print(numbers)"
   ]
  },
  {
   "cell_type": "code",
   "execution_count": null,
   "id": "ae620a05",
   "metadata": {},
   "outputs": [],
   "source": [
    "if 9 in numbers:\n",
    "    numbers.remove(9)\n",
    "else:\n",
    "    print('해당 데이터가 없습니다')"
   ]
  },
  {
   "cell_type": "code",
   "execution_count": null,
   "id": "3515b7f7",
   "metadata": {},
   "outputs": [],
   "source": [
    "def safe_remove(lst, remove_data):\n",
    "    if remove_data in lst:\n",
    "        lst.remove(remove_data)\n",
    "        print(remove_data, '삭제완료')\n",
    "    else:\n",
    "        print(f'{remove_data}는 없는 아이템입니다')"
   ]
  },
  {
   "cell_type": "code",
   "execution_count": null,
   "id": "a23e9fcf",
   "metadata": {},
   "outputs": [],
   "source": [
    "safe_remove(numbers, 9)\n",
    "safe_remove(numbers, 5)\n",
    "numbers"
   ]
  },
  {
   "cell_type": "markdown",
   "id": "67ff853c",
   "metadata": {},
   "source": [
    "## 1.8 정렬하기"
   ]
  },
  {
   "cell_type": "code",
   "execution_count": null,
   "id": "bb57efe7",
   "metadata": {},
   "outputs": [],
   "source": [
    "numbers = [1, 9, 5, 0,8]\n",
    "print('numbers는 변경하지 않고 정렬 :', sorted(numbers))\n",
    "print('numbers :', numbers)\n",
    "\n",
    "numbers.reverse() # numbers가 역순으로 바뀜\n",
    "numbers"
   ]
  },
  {
   "cell_type": "code",
   "execution_count": null,
   "id": "363ca80c",
   "metadata": {},
   "outputs": [],
   "source": [
    "numbers.sort(reverse=True)  # numbers가 정렬한 결과로 바뀜(기본정렬 : 오름차순) / 내림차순 : reverse=True\n",
    "print('numbers :', numbers)"
   ]
  },
  {
   "cell_type": "code",
   "execution_count": null,
   "id": "bd4ee07a",
   "metadata": {},
   "outputs": [],
   "source": [
    "numbers.reverse() # numbers가 역순으로 바뀜 / 내림차순과는 달라\n",
    "# numbers = numbers[::-1] 이것과 같다\n",
    "numbers"
   ]
  },
  {
   "cell_type": "markdown",
   "id": "929fe251",
   "metadata": {},
   "source": [
    "## 1.9 복제하기"
   ]
  },
  {
   "cell_type": "code",
   "execution_count": null,
   "id": "fb946916",
   "metadata": {},
   "outputs": [],
   "source": [
    "# 스칼라 데이터의 복제\n",
    "i = 10      # 원본\n",
    "copy_i = i  # 복제본\n",
    "print(f'원본={i}, 복사본= {copy_i} / 원본주소 = {id(i)}, 복사본주소 = {id(copy_i)}')\n",
    "copy_i = 99\n",
    "print(f'원본={i}, 복사본= {copy_i} / 원본주소 = {id(i)}, 복사본주소 = {id(copy_i)}')"
   ]
  },
  {
   "cell_type": "code",
   "execution_count": null,
   "id": "f638cd5f",
   "metadata": {},
   "outputs": [],
   "source": [
    "# 리스트(배열, 데이터프레임, 딕셔너리)의 복제\n",
    "numbers = [5,6,1]\n",
    "new_numbers = numbers\n",
    "print(f'원본={numbers}, 복사본= {new_numbers} / 원본주소 = {id(numbers)}, 복사본주소 = {id(new_numbers)}')\n",
    "\n",
    "new_numbers[0] = 9\n",
    "\n",
    "print(f'원본={numbers}, 복사본= {new_numbers} / 원본주소 = {id(numbers)}, 복사본주소 = {id(new_numbers)}')"
   ]
  },
  {
   "cell_type": "code",
   "execution_count": null,
   "id": "521e4054",
   "metadata": {},
   "outputs": [],
   "source": [
    "# 얕은 복사(할당) \n",
    "numbers = [5, 8, 1]    #원본\n",
    "new_numbers = numbers  #얕은 복사(할당)\n",
    "\n",
    "print(f'원본={numbers}, 복사본= {new_numbers} / 원본주소 = {id(numbers)}, 복사본주소 = {id(new_numbers)}')\n",
    "\n",
    "new_numbers[0] = -99\n",
    "new_numbers.sort()\n",
    "\n",
    "print(f'원본={numbers}, 복사본= {new_numbers} / 원본주소 = {id(numbers)}, 복사본주소 = {id(new_numbers)}')"
   ]
  },
  {
   "cell_type": "code",
   "execution_count": null,
   "id": "e1aa47bd",
   "metadata": {},
   "outputs": [],
   "source": [
    "# 깊은 복사(복제)\n",
    "numbers = [5, 8, 1] \n",
    "new_numbers = numbers.copy()\n",
    "print(f'원본={numbers}, 복사본= {new_numbers} \\n원본주소 = {id(numbers)}, 복사본주소 = {id(new_numbers)}')\n",
    "print('-'*50)\n",
    "new_numbers[0] = -99\n",
    "new_numbers.sort()\n",
    "\n",
    "print(f'원본={numbers}, 복사본= {new_numbers} \\n원본주소 = {id(numbers)}, 복사본주소 = {id(new_numbers)}')\n",
    "\n",
    "new_numbers.append(99)\n",
    "print(f'원본={numbers}, 복사본= {new_numbers} \\n원본주소 = {id(numbers)}, 복사본주소 = {id(new_numbers)}')"
   ]
  },
  {
   "cell_type": "code",
   "execution_count": null,
   "id": "e0cf4be2",
   "metadata": {},
   "outputs": [],
   "source": [
    "numbers.clear() #리스트의 요소를 모두 삭제\n",
    "numbers"
   ]
  },
  {
   "cell_type": "markdown",
   "id": "15994409",
   "metadata": {},
   "source": [
    "# 2절. 튜플\n",
    "- 리스트와 유사하지만, 읽기 전용. 수정이 필요없는 데이터에서 사용.\n",
    "- 수정 불가하므로 튜플에 데이터 수정, 추가, 삭제 불가 (제공되는 함수도 적음)\n",
    "- 소괄호(), tuple() 함수 이용해서 생성\n",
    "\n",
    "## 2.1 튜플만들기"
   ]
  },
  {
   "cell_type": "code",
   "execution_count": null,
   "id": "5b450775",
   "metadata": {},
   "outputs": [],
   "source": [
    "# city = ('서울', '부산', '인천', '목포')\n",
    "city = '서울', '부산', '인천', '목포'\n",
    "# 파이썬은 여러개의 값이 전달될 때, 소괄호 없이도 튜플타입으로 전달\n",
    "\n",
    "print(type(city))\n",
    "print(city)"
   ]
  },
  {
   "cell_type": "code",
   "execution_count": null,
   "id": "142e0f48",
   "metadata": {},
   "outputs": [],
   "source": [
    "city = ('서울', '부산', '인천', '목포')"
   ]
  },
  {
   "cell_type": "code",
   "execution_count": null,
   "id": "f327bac1",
   "metadata": {},
   "outputs": [],
   "source": [
    "' - '.join(city)"
   ]
  },
  {
   "cell_type": "code",
   "execution_count": null,
   "id": "18db9a37",
   "metadata": {},
   "outputs": [],
   "source": [
    "l = ['서울']    # 요소가 하나 있는 리스트\n",
    "print(type(l), l)\n",
    "t = ('서울', )    # 요소가 하나 있는 튜플 -> str로 자동 변경됨 / 요소 뒤에 콤마, 찍어주면 튜플로 생성 가능\n",
    "print(type(t), t)"
   ]
  },
  {
   "cell_type": "code",
   "execution_count": null,
   "id": "41e9d060",
   "metadata": {},
   "outputs": [],
   "source": [
    "numbers = 3, 2, 1\n",
    "min(numbers), max(numbers), sum(numbers), sorted(numbers)"
   ]
  },
  {
   "cell_type": "code",
   "execution_count": null,
   "id": "5bce2e08",
   "metadata": {},
   "outputs": [],
   "source": [
    "numbers = (0, 1, 2, (1,2), 0, 1,2)\n",
    "numbers.count(2), numbers.count(9)"
   ]
  },
  {
   "cell_type": "code",
   "execution_count": null,
   "id": "f4428c3b",
   "metadata": {},
   "outputs": [],
   "source": [
    "# def safe_index(lst, item):\n",
    "#     \"\"\"\n",
    "#     lst 안에 item 요소가 있으면 item 요소의 index를 반환하고, 없으면 -1 반환\n",
    "#     lst : 나열가능한 데이터\n",
    "#     item : 찾을 데이터\n",
    "#     \"\"\"\n",
    "\n",
    "# #     if item in lst:\n",
    "# #         return lst.index(item)\n",
    "# #     else:\n",
    "# #         return -1\n",
    "\n",
    "#     return lst.index(item) if item in lst else -1"
   ]
  },
  {
   "cell_type": "code",
   "execution_count": 2,
   "id": "05ab3426",
   "metadata": {},
   "outputs": [
    {
     "ename": "NameError",
     "evalue": "name 'safe_index' is not defined",
     "output_type": "error",
     "traceback": [
      "\u001b[1;31m---------------------------------------------------------------------------\u001b[0m",
      "\u001b[1;31mNameError\u001b[0m                                 Traceback (most recent call last)",
      "Cell \u001b[1;32mIn[2], line 1\u001b[0m\n\u001b[1;32m----> 1\u001b[0m \u001b[43msafe_index\u001b[49m(numbers, \u001b[38;5;241m9\u001b[39m)\n",
      "\u001b[1;31mNameError\u001b[0m: name 'safe_index' is not defined"
     ]
    }
   ],
   "source": [
    "safe_index(numbers, 9)"
   ]
  },
  {
   "cell_type": "code",
   "execution_count": 3,
   "id": "32ed79c3",
   "metadata": {},
   "outputs": [
    {
     "data": {
      "text/plain": [
       "(2, -1)"
      ]
     },
     "execution_count": 3,
     "metadata": {},
     "output_type": "execute_result"
    }
   ],
   "source": [
    "numbers = (0, 1, 2, (1,2), 0, 1,2)\n",
    "\n",
    "from safe_index import safe_index\n",
    "safe_index(numbers, 2), safe_index(numbers, 9)"
   ]
  },
  {
   "cell_type": "code",
   "execution_count": 4,
   "id": "09f4e88e",
   "metadata": {},
   "outputs": [
    {
     "data": {
      "text/plain": [
       "(0, 1, 2, (1, 2), 0, 1, 2, 0, 1, 2, (1, 2), 0, 1, 2, 0, 1, 2, (1, 2), 0, 1, 2)"
      ]
     },
     "execution_count": 4,
     "metadata": {},
     "output_type": "execute_result"
    }
   ],
   "source": [
    "numbers * 3 # 반복"
   ]
  },
  {
   "cell_type": "code",
   "execution_count": 14,
   "id": "f4c9ad52",
   "metadata": {},
   "outputs": [
    {
     "name": "stdout",
     "output_type": "stream",
     "text": [
      "[4, 16, 36]\n",
      "(4, 16, 36)\n",
      "[4, 16, 36]\n"
     ]
    }
   ],
   "source": [
    "# ex. 짝수 요소들을 추출하여 제곱한 데이터를 출력\n",
    "numbers = (1,2,3,4,5,6)\n",
    "\n",
    "print([num**2 for num in numbers if not num%2])\n",
    "print(tuple(num**2 for num in numbers if not num%2))\n",
    "print(list(num**2 for num in numbers if not num%2))"
   ]
  },
  {
   "cell_type": "markdown",
   "id": "746dc9c7",
   "metadata": {},
   "source": [
    "# 3절. 딕셔너리\n",
    "- 중괄호{}를 이용해서, 키(key)-값(value) 쌍으로 구성된 자료구조\n",
    "- 키는 중복 불가(유일한 값). 키에 list는 사용불가.\n",
    "- 값은 중복 가능\n",
    "- 인덱스를 이용한 참조 지원 안함"
   ]
  },
  {
   "cell_type": "code",
   "execution_count": 16,
   "id": "076727b6",
   "metadata": {},
   "outputs": [
    {
     "name": "stdout",
     "output_type": "stream",
     "text": [
      "<class 'dict'>\n",
      "{'name': '홍길동', 1: 22, (1, 2): [1, 2]}\n",
      "데이터개수 : 3\n"
     ]
    }
   ],
   "source": [
    "dic = {'name':'홍길동', 1:22, (1,2) : [1,2]}\n",
    "\n",
    "print(type(dic))\n",
    "print(dic)\n",
    "print('데이터개수 :', len(dic))"
   ]
  },
  {
   "cell_type": "code",
   "execution_count": 18,
   "id": "525af263",
   "metadata": {},
   "outputs": [
    {
     "data": {
      "text/plain": [
       "{'fruit': 'apple', 'number': 12, 'sport': 'golf'}"
      ]
     },
     "execution_count": 18,
     "metadata": {},
     "output_type": "execute_result"
    }
   ],
   "source": [
    "my_favorite = {'fruit':'apple', 'number' : 12,'sport':'golf'}\n",
    "my_favorite"
   ]
  },
  {
   "cell_type": "code",
   "execution_count": 25,
   "id": "43be054f",
   "metadata": {},
   "outputs": [
    {
     "name": "stdout",
     "output_type": "stream",
     "text": [
      "dict_keys(['fruit', 'number', 'sport'])\n",
      "dict_values(['apple', 12, 'golf'])\n",
      "12\n",
      "dict_items([('fruit', 'apple'), ('number', 12), ('sport', 'golf')])\n",
      "12\n"
     ]
    }
   ],
   "source": [
    "print(my_favorite.keys())\n",
    "print(my_favorite.values())\n",
    "print(my_favorite['number'])\n",
    "print(my_favorite.items())\n",
    "print(my_favorite.get('number')) # \n"
   ]
  },
  {
   "cell_type": "code",
   "execution_count": 26,
   "id": "23b5e6f1",
   "metadata": {},
   "outputs": [
    {
     "ename": "KeyError",
     "evalue": "'people'",
     "output_type": "error",
     "traceback": [
      "\u001b[1;31m---------------------------------------------------------------------------\u001b[0m",
      "\u001b[1;31mKeyError\u001b[0m                                  Traceback (most recent call last)",
      "Cell \u001b[1;32mIn[26], line 1\u001b[0m\n\u001b[1;32m----> 1\u001b[0m \u001b[38;5;28mprint\u001b[39m(\u001b[43mmy_favorite\u001b[49m\u001b[43m[\u001b[49m\u001b[38;5;124;43m'\u001b[39;49m\u001b[38;5;124;43mpeople\u001b[39;49m\u001b[38;5;124;43m'\u001b[39;49m\u001b[43m]\u001b[49m)\n",
      "\u001b[1;31mKeyError\u001b[0m: 'people'"
     ]
    }
   ],
   "source": [
    "print(my_favorite['people']) # 없는 키 값을 인덱스 방식으로 참조시 에러 발생"
   ]
  },
  {
   "cell_type": "code",
   "execution_count": 29,
   "id": "7ce63b1d",
   "metadata": {},
   "outputs": [
    {
     "name": "stdout",
     "output_type": "stream",
     "text": [
      "None\n",
      "-\n"
     ]
    }
   ],
   "source": [
    "print(my_favorite.get('people'))  # 없는 키 값을 get함수로 참조시 None\n",
    "print(my_favorite.get('people', '-'))  # 없는 키 값을 get함수로 참조시, 두번째 매개변수가 있으면 그걸로 리턴 '-'"
   ]
  },
  {
   "cell_type": "code",
   "execution_count": 38,
   "id": "d3b5fb01",
   "metadata": {},
   "outputs": [
    {
     "name": "stdout",
     "output_type": "stream",
     "text": [
      "fruit 수정 후 : {'fruit': 'mango', 'number': 12, 'sport': 'golf'}\n",
      "데이터 추가 후 : {'fruit': 'mango', 'number': 12, 'sport': 'golf', 'people': '홍길동'}\n",
      "fruit 제거 후 : {'number': 12, 'sport': 'golf', 'people': '홍길동'}\n",
      "remove_data : 12\n",
      "number 제거 후 : {'sport': 'golf', 'people': '홍길동'}\n"
     ]
    }
   ],
   "source": [
    "# 딕셔너리 수정\n",
    "my_favorite = {'fruit':'apple', 'number':12,'sport':'golf'}\n",
    "my_favorite['fruit'] = 'mango'    #데이터 수정. 키값이 없으면 없으면 추가된다\n",
    "print('fruit 수정 후 :', my_favorite)\n",
    "my_favorite['people'] = '홍길동'  #데이터 추가\n",
    "print('데이터 추가 후 :', my_favorite)\n",
    "del my_favorite['fruit']\n",
    "print('fruit 제거 후 :', my_favorite)\n",
    "remove_data = my_favorite.pop('number') # number 키의 값을 반환하고 제거\n",
    "print('remove_data :', remove_data)\n",
    "print('number 제거 후 :', my_favorite)"
   ]
  },
  {
   "cell_type": "code",
   "execution_count": 41,
   "id": "a85dfd3d",
   "metadata": {},
   "outputs": [],
   "source": [
    "# for 문을 이용한 튜플(리스트) 출력\n",
    "my_tup = ('홍길동', 30, '010-9999-9999')"
   ]
  },
  {
   "cell_type": "code",
   "execution_count": 46,
   "id": "3f900a17",
   "metadata": {},
   "outputs": [
    {
     "name": "stdout",
     "output_type": "stream",
     "text": [
      "홍길동\t30\t010-9999-9999\t\n",
      "0번째 홍길동\t1번째 30\t2번째 010-9999-9999\t\n",
      "0번째 홍길동\t1번째 30\t2번째 010-9999-9999\t\n"
     ]
    }
   ],
   "source": [
    "for data in my_tup:\n",
    "    print(data, end='\\t')\n",
    "print()\n",
    "\n",
    "for idx in range(len(my_tup)):\n",
    "    print(f'{idx}번째 {my_tup[idx]}', end='\\t')\n",
    "print()\n",
    "\n",
    "for idx, value in enumerate(my_tup):\n",
    "    print(f'{idx}번째 {value}', end='\\t')\n",
    "print()"
   ]
  },
  {
   "cell_type": "code",
   "execution_count": 47,
   "id": "1c110dd9",
   "metadata": {},
   "outputs": [],
   "source": [
    "my_dic = {'name':'홍길동', 'age':30, 'tel':'010-9999-9999'}"
   ]
  },
  {
   "cell_type": "code",
   "execution_count": 48,
   "id": "d94b8aa8",
   "metadata": {},
   "outputs": [
    {
     "name": "stdout",
     "output_type": "stream",
     "text": [
      "name\tage\ttel\t"
     ]
    }
   ],
   "source": [
    "# 엄청 비추\n",
    "for data in my_dic:\n",
    "    print(data, end='\\t')"
   ]
  },
  {
   "cell_type": "code",
   "execution_count": 49,
   "id": "b5cc7d5b",
   "metadata": {},
   "outputs": [
    {
     "name": "stdout",
     "output_type": "stream",
     "text": [
      "홍길동\t30\t010-9999-9999\t"
     ]
    }
   ],
   "source": [
    "for data in my_dic:\n",
    "    print(my_dic.get(data), end='\\t')"
   ]
  },
  {
   "cell_type": "code",
   "execution_count": 70,
   "id": "79585160",
   "metadata": {},
   "outputs": [
    {
     "name": "stdout",
     "output_type": "stream",
     "text": [
      "홍길동\t30\t010-9999-9999\t"
     ]
    }
   ],
   "source": [
    "for key in my_dic:\n",
    "    print(my_dic[key], end='\\t')"
   ]
  },
  {
   "cell_type": "code",
   "execution_count": 51,
   "id": "eddd2589",
   "metadata": {},
   "outputs": [
    {
     "name": "stdout",
     "output_type": "stream",
     "text": [
      "홍길동\t30\t010-9999-9999\t"
     ]
    }
   ],
   "source": [
    "for data in my_dic.values():  # 값만 추출\n",
    "    print(data, end='\\t')"
   ]
  },
  {
   "cell_type": "code",
   "execution_count": 53,
   "id": "e402d028",
   "metadata": {},
   "outputs": [
    {
     "name": "stdout",
     "output_type": "stream",
     "text": [
      "('name', '홍길동')\t('age', 30)\t('tel', '010-9999-9999')\t"
     ]
    }
   ],
   "source": [
    "for data in my_dic.items():  # 키-값을 추출\n",
    "    print(data, end='\\t')"
   ]
  },
  {
   "cell_type": "code",
   "execution_count": 55,
   "id": "902b99a4",
   "metadata": {},
   "outputs": [
    {
     "name": "stdout",
     "output_type": "stream",
     "text": [
      "name\tage\ttel\t"
     ]
    }
   ],
   "source": [
    "for data in my_dic.keys():  # 키만 추출\n",
    "    print(data, end='\\t')"
   ]
  },
  {
   "cell_type": "code",
   "execution_count": 56,
   "id": "2769cb8e",
   "metadata": {},
   "outputs": [
    {
     "name": "stdout",
     "output_type": "stream",
     "text": [
      "name:홍길동\n",
      "age:30\n",
      "tel:010-9999-9999\n"
     ]
    }
   ],
   "source": [
    "for key, value in my_dic.items():\n",
    "    print(f'{key}:{value}', end='\\n')"
   ]
  },
  {
   "cell_type": "code",
   "execution_count": 57,
   "id": "80fc01d1",
   "metadata": {},
   "outputs": [
    {
     "data": {
      "text/plain": [
       "[(0, ('name', '홍길동')), (1, ('age', 30)), (2, ('tel', '010-9999-9999'))]"
      ]
     },
     "execution_count": 57,
     "metadata": {},
     "output_type": "execute_result"
    }
   ],
   "source": [
    "list(enumerate(my_dic.items()))"
   ]
  },
  {
   "cell_type": "code",
   "execution_count": 61,
   "id": "adf8bf29",
   "metadata": {},
   "outputs": [
    {
     "name": "stdout",
     "output_type": "stream",
     "text": [
      "1.name : 홍길동\n",
      "2.age  : 30\n",
      "3.tel  : 010-9999-9999\n"
     ]
    }
   ],
   "source": [
    "for idx, (key, value) in enumerate(my_dic.items()):\n",
    "    print(\"{}.{:4} : {}\".format(idx+1, key, value))"
   ]
  },
  {
   "cell_type": "code",
   "execution_count": 66,
   "id": "ff0db6c0",
   "metadata": {},
   "outputs": [
    {
     "data": {
      "text/plain": [
       "False"
      ]
     },
     "execution_count": 66,
     "metadata": {},
     "output_type": "execute_result"
    }
   ],
   "source": [
    "'홍길동' in my_dic"
   ]
  },
  {
   "cell_type": "code",
   "execution_count": 67,
   "id": "e69965ac",
   "metadata": {},
   "outputs": [
    {
     "name": "stdout",
     "output_type": "stream",
     "text": [
      "{'fruit': 'apple', 'number': 12, 'people': '홍길동'}\n",
      "{'fruit': 'apple', 'number': 12, 'people': '홍길동'}\n"
     ]
    }
   ],
   "source": [
    "# 앝은 복사\n",
    "my_favorite = {'fruit':'apple', 'number':12} # 원본\n",
    "new_favorite = my_favorite\n",
    "new_favorite['people'] = '홍길동'\n",
    "print(new_favorite) \n",
    "print(my_favorite)"
   ]
  },
  {
   "cell_type": "code",
   "execution_count": 69,
   "id": "9d5edbcc",
   "metadata": {},
   "outputs": [
    {
     "name": "stdout",
     "output_type": "stream",
     "text": [
      "{'fruit': 'apple', 'number': 12, 'people': '홍길동'}\n",
      "{'fruit': 'apple', 'number': 12}\n"
     ]
    }
   ],
   "source": [
    "# 깊은 복사\n",
    "my_favorite = {'fruit':'apple', 'number':12} # 원본\n",
    "new_favorite = my_favorite.copy()            # 복제본(깊은복사)\n",
    "new_favorite['people'] = '홍길동'\n",
    "print(new_favorite) \n",
    "print(my_favorite)"
   ]
  },
  {
   "cell_type": "markdown",
   "id": "9801f09f",
   "metadata": {},
   "source": [
    "# 4절. 셋\n",
    "- 순서가 정해지지 않고, 중복을 허용하지 않음(순서없음==인덱스없음)\n",
    "- 중괄호 {}나 set()함수를 이용하여 정의\n",
    "- 추가 : add(), update()\n",
    "- 집합연산자 : &, |, -\n",
    "- 삭제 : remove()"
   ]
  },
  {
   "cell_type": "code",
   "execution_count": 74,
   "id": "7789ff3a",
   "metadata": {},
   "outputs": [
    {
     "data": {
      "text/plain": [
       "{'apple', 'banana', 'mango', 'orange'}"
      ]
     },
     "execution_count": 74,
     "metadata": {},
     "output_type": "execute_result"
    }
   ],
   "source": [
    "fruits = {'banana', 'orange', 'banana', 'banana', 'mango', 'apple'}\n",
    "fruits"
   ]
  },
  {
   "cell_type": "code",
   "execution_count": 75,
   "id": "a838efb4",
   "metadata": {},
   "outputs": [
    {
     "data": {
      "text/plain": [
       "{1, 20, 21, 22}"
      ]
     },
     "execution_count": 75,
     "metadata": {},
     "output_type": "execute_result"
    }
   ],
   "source": [
    "s1 = set([1,20,1,21,1,22])\n",
    "s1"
   ]
  },
  {
   "cell_type": "code",
   "execution_count": 76,
   "id": "238987f3",
   "metadata": {},
   "outputs": [
    {
     "data": {
      "text/plain": [
       "{'fruit', 'number'}"
      ]
     },
     "execution_count": 76,
     "metadata": {},
     "output_type": "execute_result"
    }
   ],
   "source": [
    "#set 함수를 이용해 딕셔너리를 set으로 만들면 키 값만 적용\n",
    "my_favorite = {'fruit':'apple', 'number':12}\n",
    "set(my_favorite)"
   ]
  },
  {
   "cell_type": "markdown",
   "id": "de7dc517",
   "metadata": {},
   "source": [
    "## 추가하기\n",
    "- add() : 기본자료형, 튜플데이터 하나의 요소로 추가할 경우\n",
    "- update() : 리스트, 튜플, 딕셔너리, 셋 요소 하나하나씩 추가할 경우. 단 dict 사용시 key만 추가. 스칼라데이터 추가시 에러발생"
   ]
  },
  {
   "cell_type": "code",
   "execution_count": 79,
   "id": "ff060936",
   "metadata": {},
   "outputs": [
    {
     "data": {
      "text/plain": [
       "{1, 2, 3, 4}"
      ]
     },
     "execution_count": 79,
     "metadata": {},
     "output_type": "execute_result"
    }
   ],
   "source": [
    "s2 = {1,1,2,3}\n",
    "s2.add(4)\n",
    "# s2.add([5,6,7])  # 에러 발생\n",
    "\n",
    "s2"
   ]
  },
  {
   "cell_type": "code",
   "execution_count": 80,
   "id": "173bcada",
   "metadata": {},
   "outputs": [
    {
     "data": {
      "text/plain": [
       "{1, 2, 3, 4, 5, 6, 7}"
      ]
     },
     "execution_count": 80,
     "metadata": {},
     "output_type": "execute_result"
    }
   ],
   "source": [
    "s2.update([5,6,7])\n",
    "s2"
   ]
  },
  {
   "cell_type": "code",
   "execution_count": 84,
   "id": "71355c65",
   "metadata": {},
   "outputs": [
    {
     "data": {
      "text/plain": [
       "{False, 1, 2, 3}"
      ]
     },
     "execution_count": 84,
     "metadata": {},
     "output_type": "execute_result"
    }
   ],
   "source": [
    "# 논리값은 논리값 혹은 숫자로 인식  False = 0, True = 1\n",
    "s = {1,2,3}\n",
    "s.add(False)\n",
    "s.add(True)\n",
    "s.add(0)\n",
    "s"
   ]
  },
  {
   "cell_type": "code",
   "execution_count": 85,
   "id": "3ef6931b",
   "metadata": {},
   "outputs": [
    {
     "data": {
      "text/plain": [
       "{False, 2, 3}"
      ]
     },
     "execution_count": 85,
     "metadata": {},
     "output_type": "execute_result"
    }
   ],
   "source": [
    "s.remove(True)\n",
    "s"
   ]
  },
  {
   "cell_type": "markdown",
   "id": "b2bd78d0",
   "metadata": {},
   "source": [
    "## 연산 : &(교집합), |(합집합), -(차집합)\n",
    "- &, | : 집합연산자, 논리연산자, 비트연산자  (연산 우선순위가 다르므로 괄호를 잘쳐야한다)"
   ]
  },
  {
   "cell_type": "code",
   "execution_count": 88,
   "id": "d4fd3d43",
   "metadata": {},
   "outputs": [
    {
     "name": "stdout",
     "output_type": "stream",
     "text": [
      "s1 | s2 = {1, 2, 3, 4, 5, 6, 7}\n",
      "s1 & s2 = {3, 4, 5}\n",
      "s1 - s2 = {1, 2}\n"
     ]
    }
   ],
   "source": [
    "s1 = {1,2,3,4,5}\n",
    "s2 = {3,4,5,6,7}\n",
    "print('s1 | s2 =', s1|s2)\n",
    "print('s1 & s2 =', s1&s2)\n",
    "print('s1 - s2 =', s1-s2)"
   ]
  },
  {
   "cell_type": "markdown",
   "id": "bfd8ed54",
   "metadata": {},
   "source": [
    "# 5절. enumaerate\n",
    "- 반복자 또는 순서객체로 반복문을 처리할 때 사용함수\n",
    "- 리스트, 튜플, 셋, 딕셔너리를 for문에 사용시"
   ]
  },
  {
   "cell_type": "code",
   "execution_count": 91,
   "id": "8c8fe85f",
   "metadata": {},
   "outputs": [
    {
     "name": "stdout",
     "output_type": "stream",
     "text": [
      "길동\t명자\t길자\t\n",
      "0. 길동\n",
      "1. 명자\n",
      "2. 길자\n"
     ]
    }
   ],
   "source": [
    "names = {'길자', '길동', '명자'}\n",
    "for name in names:\n",
    "    print(name, end='\\t')\n",
    "print()\n",
    "\n",
    "for idx, name in enumerate(names):\n",
    "    print(f'{idx}. {name}')"
   ]
  },
  {
   "cell_type": "code",
   "execution_count": 95,
   "id": "c320a1a4",
   "metadata": {},
   "outputs": [
    {
     "name": "stdout",
     "output_type": "stream",
     "text": [
      "순자\n",
      "길동\n",
      "길자\n"
     ]
    }
   ],
   "source": [
    "names = ['순자', '길동', '길자']\n",
    "tels = ['010-9999-9999', '010.3333.3333', '010-3232-2323']\n",
    "address = ['서울', '인천', '판교']\n",
    "\n",
    "for name in names:\n",
    "    print(name)"
   ]
  },
  {
   "cell_type": "code",
   "execution_count": 97,
   "id": "da19ad42",
   "metadata": {},
   "outputs": [
    {
     "name": "stdout",
     "output_type": "stream",
     "text": [
      "1.순자의 연락처는 010-9999-9999이며, 서울에 살아요\n",
      "2.길동의 연락처는 010.3333.3333이며, 인천에 살아요\n",
      "3.길자의 연락처는 010-3232-2323이며, 판교에 살아요\n"
     ]
    }
   ],
   "source": [
    "#for name, tel, address in names, tels, address:\n",
    "#    print(f'{name}:{tel},{address})\n",
    "\n",
    "for idx in range(len(names)):\n",
    "    print(\"{}.{}의 연락처는 {}이며, {}에 살아요\".format(idx+1, \n",
    "                                             names[idx], \n",
    "                                             tels[idx], \n",
    "                                             address[idx]))\n",
    "        "
   ]
  },
  {
   "cell_type": "code",
   "execution_count": 101,
   "id": "77875251",
   "metadata": {},
   "outputs": [
    {
     "name": "stdout",
     "output_type": "stream",
     "text": [
      "순자의 연락처는 010-9999-9999이며, 서울에 살아요\n",
      "길동의 연락처는 010.3333.3333이며, 인천에 살아요\n",
      "길자의 연락처는 010-3232-2323이며, 판교에 살아요\n"
     ]
    }
   ],
   "source": [
    "for name, tel, adds in zip(names, tels, address):\n",
    "    print(f\"{name}의 연락처는 {tel}이며, {adds}에 살아요\")"
   ]
  },
  {
   "cell_type": "code",
   "execution_count": 100,
   "id": "988e48e2",
   "metadata": {},
   "outputs": [
    {
     "data": {
      "text/plain": [
       "[('순자', '010-9999-9999', '서울'),\n",
       " ('길동', '010.3333.3333', '인천'),\n",
       " ('길자', '010-3232-2323', '판교')]"
      ]
     },
     "execution_count": 100,
     "metadata": {},
     "output_type": "execute_result"
    }
   ],
   "source": [
    "list(zip(names, tels, address))"
   ]
  },
  {
   "cell_type": "code",
   "execution_count": 103,
   "id": "da7f0bf2",
   "metadata": {},
   "outputs": [
    {
     "name": "stdout",
     "output_type": "stream",
     "text": [
      "1.순자의 연락처는 010-9999-9999이며, 서울에 살아요\n",
      "2.길동의 연락처는 010.3333.3333이며, 인천에 살아요\n",
      "3.길자의 연락처는 010-3232-2323이며, 판교에 살아요\n"
     ]
    }
   ],
   "source": [
    "for idx, (name, tel, adds) in enumerate(zip(names, tels, address)):\n",
    "    print(f\"{idx+1}.{name}의 연락처는 {tel}이며, {adds}에 살아요\")"
   ]
  },
  {
   "cell_type": "markdown",
   "id": "172fadfd",
   "metadata": {},
   "source": [
    "### 변수가 담을 수 있는 기본 자료형들 \n",
    "```\n",
    "![자료형들](https://pynative.com/wp-content/uploads/2021/02/python-data-types.jpg)\n",
    "```\n",
    "<img src=\"https://pynative.com/wp-content/uploads/2021/02/python-data-types.jpg\"\n",
    "     width = \"400\"\n",
    "     style = \"float:left\"\n",
    "     >"
   ]
  },
  {
   "cell_type": "markdown",
   "id": "d5a22bdf",
   "metadata": {},
   "source": [
    "# 6절. 연습문제"
   ]
  },
  {
   "cell_type": "code",
   "execution_count": 120,
   "id": "be560cba",
   "metadata": {},
   "outputs": [],
   "source": [
    "numbers = [1,2,3,4,5,6,7,8,9,10]"
   ]
  },
  {
   "cell_type": "code",
   "execution_count": 122,
   "id": "021a270b",
   "metadata": {},
   "outputs": [
    {
     "data": {
      "text/plain": [
       "[1, 2, 3, 4, 5, 6, 7, 8, 9, 10, 100]"
      ]
     },
     "execution_count": 122,
     "metadata": {},
     "output_type": "execute_result"
    }
   ],
   "source": [
    "# 1. 숫자 100 을 맨 뒤에 추가하세요\n",
    "numbers.append(100)\n",
    "numbers"
   ]
  },
  {
   "cell_type": "code",
   "execution_count": 123,
   "id": "276a194f",
   "metadata": {},
   "outputs": [
    {
     "data": {
      "text/plain": [
       "[1, 2, 3, 4, 5, 6, 7, 8, 9, 10, 100, 200, 300, 400, 500]"
      ]
     },
     "execution_count": 123,
     "metadata": {},
     "output_type": "execute_result"
    }
   ],
   "source": [
    "# 2. 다음 리스트를 numbers 리스트 맨 뒤에 추가하세요\n",
    "data = [200, 300, 400, 500]\n",
    "numbers.extend(data)\n",
    "numbers"
   ]
  },
  {
   "cell_type": "code",
   "execution_count": 124,
   "id": "1919c1bd",
   "metadata": {},
   "outputs": [
    {
     "name": "stdout",
     "output_type": "stream",
     "text": [
      "[1, 2, 3, 4, 5]\n"
     ]
    }
   ],
   "source": [
    "# 3. 처음 다섯 개 숫자만 출력하세요\n",
    "print(numbers[:5])"
   ]
  },
  {
   "cell_type": "code",
   "execution_count": 125,
   "id": "55283576",
   "metadata": {},
   "outputs": [
    {
     "name": "stdout",
     "output_type": "stream",
     "text": [
      "[2, 4, 6, 8, 10, 200, 400]\n"
     ]
    }
   ],
   "source": [
    "# 4. 리스트에서 짝수 번째 데이터만 출력하세요\n",
    "\n",
    "print(numbers[::2])"
   ]
  },
  {
   "cell_type": "code",
   "execution_count": 157,
   "id": "a1035934",
   "metadata": {},
   "outputs": [
    {
     "name": "stdout",
     "output_type": "stream",
     "text": [
      "[0, 1, 0, 3, 0, 5, 0, 7, 0, 9]\n"
     ]
    }
   ],
   "source": [
    "# 5. 짝수번째 데이터를 모두 0 으로 바꾸세요\n",
    "# numbers[::2] = [0,0,0,0,0,0,0]\n",
    "numbers[::2] = [0]*len(numbers[::2])\n",
    "print(numbers)"
   ]
  },
  {
   "cell_type": "code",
   "execution_count": 164,
   "id": "18170b4f",
   "metadata": {},
   "outputs": [
    {
     "data": {
      "text/plain": [
       "[0, 2, 0, 4, 0, 6, 0, 8, 0, 10]"
      ]
     },
     "execution_count": 164,
     "metadata": {},
     "output_type": "execute_result"
    }
   ],
   "source": [
    "# 5-1. 출력만 바꾼다면?\n",
    "numbers = [1,2,3,4,5,6,7,8,9,10]\n",
    "[num if idx%2!=0 else 0 for idx, num in enumerate(numbers)]"
   ]
  },
  {
   "cell_type": "code",
   "execution_count": 129,
   "id": "e6700d6a",
   "metadata": {},
   "outputs": [
    {
     "data": {
      "text/plain": [
       "[500, 0, 300, 0, 100, 0, 9, 0, 7, 0, 5, 0, 3, 0, 1]"
      ]
     },
     "execution_count": 129,
     "metadata": {},
     "output_type": "execute_result"
    }
   ],
   "source": [
    "# 6. 데이터를 역순으로 나열하세요 내림차순 정렬이 아닙니다\n",
    "numbers.reverse()\n",
    "numbers"
   ]
  },
  {
   "cell_type": "code",
   "execution_count": 139,
   "id": "82a24b26",
   "metadata": {},
   "outputs": [],
   "source": [
    "member_info = {\"name\":'홍길동', 'age':20, 'address' :'서울시 마포구','score':90}"
   ]
  },
  {
   "cell_type": "code",
   "execution_count": 140,
   "id": "521a5133",
   "metadata": {},
   "outputs": [
    {
     "data": {
      "text/plain": [
       "'서울시 마포구'"
      ]
     },
     "execution_count": 140,
     "metadata": {},
     "output_type": "execute_result"
    }
   ],
   "source": [
    "# 7.address 값을 출력하세요\n",
    "member_info.get('address')"
   ]
  },
  {
   "cell_type": "code",
   "execution_count": 141,
   "id": "465e7d90",
   "metadata": {},
   "outputs": [
    {
     "name": "stdout",
     "output_type": "stream",
     "text": [
      "90\n",
      "{'name': '홍길동', 'age': 20, 'address': '서울시 마포구'}\n"
     ]
    }
   ],
   "source": [
    "# 8. score 를 출력하고 member_info 딕셔너리에서 삭제하세요\n",
    "print(member_info.get('score'))\n",
    "del member_info['score']\n",
    "print(member_info)"
   ]
  },
  {
   "cell_type": "code",
   "execution_count": 142,
   "id": "5c0b0f57",
   "metadata": {},
   "outputs": [
    {
     "name": "stdout",
     "output_type": "stream",
     "text": [
      "{'name': '홍길동', 'age': 20, 'address': '서울시 서대문구'}\n"
     ]
    }
   ],
   "source": [
    "# 9. address 를 서울시 서대문구 로 변경하세요\n",
    "member_info['address'] = '서울시 서대문구'\n",
    "print(member_info)"
   ]
  },
  {
   "cell_type": "code",
   "execution_count": 143,
   "id": "81385ba8",
   "metadata": {},
   "outputs": [
    {
     "name": "stdout",
     "output_type": "stream",
     "text": [
      "['홍길동', 20, '서울시 서대문구']\n"
     ]
    }
   ],
   "source": [
    "# 10. member_info 딕셔너리 데이터의 값을 리스트로 출력하세요\n",
    "print(list(member_info.values()))"
   ]
  },
  {
   "cell_type": "markdown",
   "id": "b8b14a75",
   "metadata": {},
   "source": [
    "### 서술형"
   ]
  },
  {
   "cell_type": "code",
   "execution_count": null,
   "id": "12bedb62",
   "metadata": {},
   "outputs": [],
   "source": [
    "# 1번. 'orange', 'banana'"
   ]
  },
  {
   "cell_type": "code",
   "execution_count": 146,
   "id": "7128a60f",
   "metadata": {},
   "outputs": [
    {
     "name": "stdout",
     "output_type": "stream",
     "text": [
      "[10, 9, 8, 7, 6, 5, 4, 3, 2, 1]\n"
     ]
    }
   ],
   "source": [
    "# 2번. 3번\n",
    "print(list(range(10,0, -1)))"
   ]
  },
  {
   "cell_type": "code",
   "execution_count": 148,
   "id": "5b84bd15",
   "metadata": {},
   "outputs": [
    {
     "data": {
      "text/plain": [
       "1"
      ]
     },
     "execution_count": 148,
     "metadata": {},
     "output_type": "execute_result"
    }
   ],
   "source": [
    "# 3번. 1\n",
    "numbers_2d = [ [1,2,3,4,5], [10,20,30,40],[1,3,5],[2,] ]\n",
    "len(numbers_2d[3])"
   ]
  },
  {
   "cell_type": "code",
   "execution_count": null,
   "id": "6e6355d1",
   "metadata": {},
   "outputs": [],
   "source": [
    "# 4번 . extend"
   ]
  },
  {
   "cell_type": "code",
   "execution_count": 149,
   "id": "8a0cf238",
   "metadata": {},
   "outputs": [
    {
     "name": "stdout",
     "output_type": "stream",
     "text": [
      "[0, 1, 0, 3, 0, 5, 0, 7, 0, 9]\n"
     ]
    }
   ],
   "source": [
    "# 5번. [0,1,0,3,0,5,0,7,0,9]\n",
    "numbers = list(range(10))\n",
    "numbers[::2]= [0]*len (numbers[::2])\n",
    "print(numbers)\n"
   ]
  },
  {
   "cell_type": "code",
   "execution_count": null,
   "id": "d35ab123",
   "metadata": {},
   "outputs": [],
   "source": [
    "# 6번. [5,1,6,3,7,5,8,7,9,9]"
   ]
  },
  {
   "cell_type": "code",
   "execution_count": null,
   "id": "b05a93fa",
   "metadata": {},
   "outputs": [],
   "source": [
    "# 7번. [0,1,1,3,2,5,3,7,4,9]"
   ]
  },
  {
   "cell_type": "code",
   "execution_count": 152,
   "id": "cae0cd0e",
   "metadata": {},
   "outputs": [
    {
     "data": {
      "text/plain": [
       "10"
      ]
     },
     "execution_count": 152,
     "metadata": {},
     "output_type": "execute_result"
    }
   ],
   "source": [
    "# 8번. 1번\n",
    "my_dic = {'a':10, 'b':20, 'c':30}\n",
    "my_dic[0]"
   ]
  },
  {
   "cell_type": "code",
   "execution_count": 153,
   "id": "f3c3a3f8",
   "metadata": {},
   "outputs": [
    {
     "data": {
      "text/plain": [
       "'\\napple\\nbanana\\norange\\n'"
      ]
     },
     "execution_count": 153,
     "metadata": {},
     "output_type": "execute_result"
    }
   ],
   "source": [
    "# 9번. \n",
    "'''\n",
    "apple\n",
    "banana\n",
    "orange\n",
    "'''"
   ]
  },
  {
   "cell_type": "code",
   "execution_count": null,
   "id": "9b6d35c2",
   "metadata": {},
   "outputs": [],
   "source": [
    "# 10번. 3"
   ]
  },
  {
   "cell_type": "code",
   "execution_count": null,
   "id": "b63b9114",
   "metadata": {},
   "outputs": [],
   "source": [
    "# 11번. def"
   ]
  }
 ],
 "metadata": {
  "kernelspec": {
   "display_name": "Python 3 (ipykernel)",
   "language": "python",
   "name": "python3"
  },
  "language_info": {
   "codemirror_mode": {
    "name": "ipython",
    "version": 3
   },
   "file_extension": ".py",
   "mimetype": "text/x-python",
   "name": "python",
   "nbconvert_exporter": "python",
   "pygments_lexer": "ipython3",
   "version": "3.10.9"
  },
  "toc": {
   "base_numbering": 1,
   "nav_menu": {},
   "number_sections": false,
   "sideBar": true,
   "skip_h1_title": false,
   "title_cell": "Table of Contents",
   "title_sidebar": "Contents",
   "toc_cell": false,
   "toc_position": {
    "height": "calc(100% - 180px)",
    "left": "10px",
    "top": "150px",
    "width": "208.6px"
   },
   "toc_section_display": true,
   "toc_window_display": true
  }
 },
 "nbformat": 4,
 "nbformat_minor": 5
}
