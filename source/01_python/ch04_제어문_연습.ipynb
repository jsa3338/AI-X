{
 "cells": [
  {
   "cell_type": "code",
   "execution_count": 46,
   "id": "5bcb788a",
   "metadata": {},
   "outputs": [
    {
     "data": {
      "text/html": [
       "\n",
       "<style>\n",
       "div.container{width:86% !important;}\n",
       "div.cell.code_cell.rendered{width:100%;}\n",
       "div.CodeMirror {font-family:Consolas; font-size:12pt;}\n",
       "div.output {font-size:12pt; font-weight:bold;}\n",
       "div.input {font-family:Consolas; font-size:12pt;}\n",
       "div.prompt {min-width:70px;}\n",
       "div#toc-wrapper{padding-top:120px;}\n",
       "div.text_cell_render ul li{font-size:12pt;padding:5px;}\n",
       "table.dataframe{font-size:12px;}\n",
       "</style>\n"
      ],
      "text/plain": [
       "<IPython.core.display.HTML object>"
      ]
     },
     "metadata": {},
     "output_type": "display_data"
    }
   ],
   "source": [
    "from IPython.display import display, HTML\n",
    "display(HTML(\"\"\"\n",
    "<style>\n",
    "div.container{width:86% !important;}\n",
    "div.cell.code_cell.rendered{width:100%;}\n",
    "div.CodeMirror {font-family:Consolas; font-size:12pt;}\n",
    "div.output {font-size:12pt; font-weight:bold;}\n",
    "div.input {font-family:Consolas; font-size:12pt;}\n",
    "div.prompt {min-width:70px;}\n",
    "div#toc-wrapper{padding-top:120px;}\n",
    "div.text_cell_render ul li{font-size:12pt;padding:5px;}\n",
    "table.dataframe{font-size:12px;}\n",
    "</style>\n",
    "\"\"\"))"
   ]
  },
  {
   "cell_type": "code",
   "execution_count": 2,
   "id": "2a59429d",
   "metadata": {},
   "outputs": [
    {
     "name": "stdout",
     "output_type": "stream",
     "text": [
      "첫번째 정수를 입력하세요50\n",
      "두번째 정수를 입력하세요20\n",
      "20 50\n"
     ]
    }
   ],
   "source": [
    "# ex1. 사용자에게 두 정수를 입력받아, 작은 수 부터 큰수까지 홀수의 합을 누적해서 출력\n",
    "\n",
    "int_1 = int(input('첫번째 정수를 입력하세요'))\n",
    "int_2 = int(input('두번째 정수를 입력하세요'))\n",
    "temp = 0\n",
    "\n",
    "if int_1 > int_2:\n",
    "    temp = int_2\n",
    "    int_2 = int_1\n",
    "    int_1 = temp\n",
    "print(int_1, int_2)"
   ]
  },
  {
   "cell_type": "code",
   "execution_count": 51,
   "id": "a36b9c7d",
   "metadata": {},
   "outputs": [
    {
     "name": "stdout",
     "output_type": "stream",
     "text": [
      "양의 정수를 입력하세요 : 5\n",
      "입력하신 숫자 5는 홀수입니다.\n"
     ]
    }
   ],
   "source": [
    "# 1. 양의 정수를 입력받아 홀수인지 짝수인지 판별하는 프로그램. 양의 정수가 아니면 숫자를 다시 입력\n",
    "\n",
    "i = 0\n",
    "\n",
    "while i <= 0:\n",
    "    i = int(input(\"양의 정수를 입력하세요 : \"))\n",
    "\n",
    "odd_even = '홀수' if i%2 else '짝수'\n",
    "\n",
    "print(f'입력하신 숫자 {i}는 {odd_even}입니다.')"
   ]
  },
  {
   "cell_type": "code",
   "execution_count": 18,
   "id": "56e6dbe2",
   "metadata": {},
   "outputs": [
    {
     "name": "stdout",
     "output_type": "stream",
     "text": [
      "(1)\n",
      "*****\n",
      "*****\n",
      "*****\n",
      "*****\n",
      "*****\n",
      "(2)\n",
      "*\n",
      "**\n",
      "***\n",
      "****\n",
      "*****\n"
     ]
    }
   ],
   "source": [
    "# 2. 중첩 for 문을 이용하여 별표시\n",
    "\n",
    "print('(1)')\n",
    "for r in range(5):\n",
    "    for j in range(5):\n",
    "        print('*', end='')\n",
    "    print()\n",
    "\n",
    "print('(2)')\n",
    "for r in range(5):\n",
    "    print('*'*(r+1), end='')\n",
    "    print()\n",
    "    "
   ]
  },
  {
   "cell_type": "code",
   "execution_count": 53,
   "id": "6f3c5d9f",
   "metadata": {},
   "outputs": [
    {
     "name": "stdout",
     "output_type": "stream",
     "text": [
      "165\n"
     ]
    }
   ],
   "source": [
    "# 3. 1 부터 30 까지 (30 포함) 자연수 중에서 3 의 배수의 총 합을 출력하는 프로그램입니다\n",
    "\n",
    "sum_=0\n",
    "\n",
    "for i in range(1,31):\n",
    "    if i%3==0:\n",
    "        sum_ +=i\n",
    "print(sum_)\n"
   ]
  },
  {
   "cell_type": "code",
   "execution_count": 21,
   "id": "240aa83e",
   "metadata": {},
   "outputs": [
    {
     "name": "stdout",
     "output_type": "stream",
     "text": [
      "1 3 5 7 9 "
     ]
    }
   ],
   "source": [
    "#4. 다음 코드의 실행결과가 “1 3 5 7 9\"가 되도록 빈칸을 완성하시오\n",
    "num=0\n",
    "\n",
    "while num<=10:\n",
    "    if num%2:\n",
    "        print(num, end=\" \")\n",
    "    num+=1\n",
    "\n",
    "        "
   ]
  },
  {
   "cell_type": "code",
   "execution_count": 23,
   "id": "c72e98e1",
   "metadata": {},
   "outputs": [
    {
     "name": "stdout",
     "output_type": "stream",
     "text": [
      "1 2 3 \n",
      "4 5 6 7 \n",
      "7 8 9 \n"
     ]
    }
   ],
   "source": [
    "# 5. 다음 2 차원 리스트의 모든 값을 출력하는 코드입니다\n",
    "list2d = [[1,2,3], [4,5,6,7],[7,8,9]]\n",
    "for row in list2d:\n",
    "    for data in row:\n",
    "        print(data, end=' ')\n",
    "    print()"
   ]
  },
  {
   "cell_type": "code",
   "execution_count": null,
   "id": "ae51d36b",
   "metadata": {},
   "outputs": [],
   "source": [
    "#6. 다음 빈칸에 들어갈 함수 이름은\n",
    "# enumerate(colors.values()):"
   ]
  },
  {
   "cell_type": "code",
   "execution_count": null,
   "id": "d448c32b",
   "metadata": {},
   "outputs": [],
   "source": [
    "# 7. 다음 코드의 실행결과는 ? \n",
    "# 0 1  \n",
    "# 1 0\n",
    "\n",
    "for i in range(0, 2):\n",
    "    for j in range(0,2):\n",
    "        if i==j:\n",
    "            break\n",
    "        print(i, j)\n"
   ]
  },
  {
   "cell_type": "code",
   "execution_count": 24,
   "id": "6d5915e0",
   "metadata": {},
   "outputs": [
    {
     "name": "stdout",
     "output_type": "stream",
     "text": [
      "0 0\n",
      "1 0\n",
      "1 1\n"
     ]
    }
   ],
   "source": [
    "# 8. 다음 코드의 실행 결과로 출력될 수 없는 것은? \n",
    "# 0 1\n",
    "for r in range(2):\n",
    "    for j in range(2):\n",
    "        print(r,j)\n",
    "        if r==j:\n",
    "            break"
   ]
  },
  {
   "cell_type": "code",
   "execution_count": null,
   "id": "6c95cedb",
   "metadata": {},
   "outputs": [],
   "source": [
    "# 9. 다음 코드의 실행결과는? \n",
    "# 3 5 7 9"
   ]
  },
  {
   "cell_type": "code",
   "execution_count": 35,
   "id": "50a95bab",
   "metadata": {},
   "outputs": [
    {
     "name": "stdout",
     "output_type": "stream",
     "text": [
      "컴퓨터가 발생한 임의의 수 : 49\n",
      "1~100 사이의 수를 맞춰 보세요 :1\n",
      "UP\n",
      "1~100 사이의 수를 맞춰 보세요 :6\n",
      "UP\n",
      "1~100 사이의 수를 맞춰 보세요 :111\n",
      "수의 범위를 벗어났습니다. 수의 범위는 1~100이고 111를 입력\n",
      "1~100 사이의 수를 맞춰 보세요 :49\n",
      "축하축하 맞추셨습니다\n"
     ]
    }
   ],
   "source": [
    "# 10.(1단계) 1부터 100 사이의 정수를 맞추는 프로그램을 구현하시오\n",
    "import random\n",
    "\n",
    "Q = random.randint(1,101)\n",
    "\n",
    "\n",
    "print('컴퓨터가 발생한 임의의 수 :', Q)\n",
    "\n",
    "while True:\n",
    "    A = int(input('1~100 사이의 수를 맞춰 보세요 :'))\n",
    "    if 1 > A or  A > 100:\n",
    "        print(f'수의 범위를 벗어났습니다. 수의 범위는 1~100이고 {A}를 입력')\n",
    "    elif Q>A:\n",
    "        print('UP')\n",
    "    elif Q<A:\n",
    "        print('Down')\n",
    "    else:\n",
    "        print('축하축하 맞추셨습니다')\n",
    "        break\n",
    "\n"
   ]
  },
  {
   "cell_type": "code",
   "execution_count": 40,
   "id": "d027c47d",
   "metadata": {},
   "outputs": [
    {
     "name": "stdout",
     "output_type": "stream",
     "text": [
      "컴퓨터가 발생한 임의의 수 : 8\n",
      "1~100 사이의 수를 맞춰 보세요 :10\n",
      "Down\n",
      "1~9 사이의 수를 맞춰 보세요 :8\n",
      "축하축하 맞추셨습니다\n"
     ]
    }
   ],
   "source": [
    "# 10.(2단계) 1부터 100 사이의 정수를 맞추는 프로그램을 구현하시오\n",
    "\n",
    "Q = random.randint(1,101)\n",
    "\n",
    "print('컴퓨터가 발생한 임의의 수 :', Q)\n",
    "min_=1\n",
    "max_=100\n",
    "\n",
    "while True:\n",
    "    A = int(input(f'{min_}~{max_} 사이의 수를 맞춰 보세요 :'))\n",
    "    if min_ > A or  A > max_:\n",
    "        print(f'수의 범위를 벗어났습니다. 수의 범위는 {min_}~{max_}이고 {A}을/를 입력')\n",
    "    elif Q>A:\n",
    "        print('UP')\n",
    "        min_ = A+1\n",
    "    elif Q<A:\n",
    "        print('Down')\n",
    "        max_ = A-1\n",
    "    else:\n",
    "        print('축하축하 맞추셨습니다')\n",
    "        break\n"
   ]
  },
  {
   "cell_type": "code",
   "execution_count": 45,
   "id": "95e9cc55",
   "metadata": {},
   "outputs": [
    {
     "name": "stdout",
     "output_type": "stream",
     "text": [
      "컴퓨터가 발생한 임의의 수 : 14\n",
      "1~100 사이의 수를 맞춰 보세요(남은 기회는 5번) :101\n",
      "수의 범위를 벗어났습니다. 수의 범위는 1~100이고 101을/를 입력\n",
      "1~100 사이의 수를 맞춰 보세요(남은 기회는 4번) :30\n",
      "Down\n",
      "1~29 사이의 수를 맞춰 보세요(남은 기회는 3번) :10\n",
      "UP\n",
      "11~29 사이의 수를 맞춰 보세요(남은 기회는 2번) :20\n",
      "Down\n",
      "11~19 사이의 수를 맞춰 보세요(남은 기회는 1번) :15\n",
      "Down\n",
      "기회를 모두 사용하셨습니다. 실패하셨습니다\n"
     ]
    }
   ],
   "source": [
    "# 10.(3단계) 1부터 100 사이의 정수를 맞추는 프로그램을 구현하시오\n",
    "\n",
    "Q = random.randint(1,101)\n",
    "\n",
    "print('컴퓨터가 발생한 임의의 수 :', Q)\n",
    "min_=1\n",
    "max_=100\n",
    "\n",
    "for i in range(5):\n",
    "    A = int(input(f'{min_}~{max_} 사이의 수를 맞춰 보세요(남은 기회는 {5-i}번) :'))\n",
    "    if min_ > A or  A > max_:\n",
    "        print(f'수의 범위를 벗어났습니다. 수의 범위는 {min_}~{max_}이고 {A}을/를 입력')\n",
    "    elif Q>A:\n",
    "        print('UP')\n",
    "        min_ = A+1\n",
    "    elif Q<A:\n",
    "        print('Down')\n",
    "        max_ = A-1\n",
    "    else:\n",
    "        print(f'축하축하 {i+1}번만에 맞추셨습니다')\n",
    "        break\n",
    "else:\n",
    "    print('기회를 모두 사용하셨습니다. 실패하셨습니다')"
   ]
  },
  {
   "cell_type": "code",
   "execution_count": null,
   "id": "804f54df",
   "metadata": {},
   "outputs": [],
   "source": []
  }
 ],
 "metadata": {
  "kernelspec": {
   "display_name": "Python 3 (ipykernel)",
   "language": "python",
   "name": "python3"
  },
  "language_info": {
   "codemirror_mode": {
    "name": "ipython",
    "version": 3
   },
   "file_extension": ".py",
   "mimetype": "text/x-python",
   "name": "python",
   "nbconvert_exporter": "python",
   "pygments_lexer": "ipython3",
   "version": "3.10.9"
  },
  "toc": {
   "base_numbering": 1,
   "nav_menu": {},
   "number_sections": false,
   "sideBar": true,
   "skip_h1_title": false,
   "title_cell": "Table of Contents",
   "title_sidebar": "Contents",
   "toc_cell": false,
   "toc_position": {
    "height": "calc(100% - 180px)",
    "left": "10px",
    "top": "150px",
    "width": "269.6px"
   },
   "toc_section_display": true,
   "toc_window_display": true
  }
 },
 "nbformat": 4,
 "nbformat_minor": 5
}
