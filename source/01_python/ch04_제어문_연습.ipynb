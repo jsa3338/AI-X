{
 "cells": [
  {
   "cell_type": "code",
   "execution_count": 1,
   "id": "5bcb788a",
   "metadata": {},
   "outputs": [
    {
     "data": {
      "text/html": [
       "\n",
       "<style>\n",
       "div.container{width:86% !important;}\n",
       "div.cell.code_cell.rendered{width:100%;}\n",
       "div.CodeMirror {font-family:Consolas; font-size:12pt;}\n",
       "div.output {font-size:12pt; font-weight:bold;}\n",
       "div.input {font-family:Consolas; font-size:12pt;}\n",
       "div.prompt {min-width:70px;}\n",
       "div#toc-wrapper{padding-top:120px;}\n",
       "div.text_cell_render ul li{font-size:12pt;padding:5px;}\n",
       "table.dataframe{font-size:12px;}\n",
       "</style>\n"
      ],
      "text/plain": [
       "<IPython.core.display.HTML object>"
      ]
     },
     "metadata": {},
     "output_type": "display_data"
    }
   ],
   "source": [
    "from IPython.display import display, HTML\n",
    "display(HTML(\"\"\"\n",
    "<style>\n",
    "div.container{width:86% !important;}\n",
    "div.cell.code_cell.rendered{width:100%;}\n",
    "div.CodeMirror {font-family:Consolas; font-size:12pt;}\n",
    "div.output {font-size:12pt; font-weight:bold;}\n",
    "div.input {font-family:Consolas; font-size:12pt;}\n",
    "div.prompt {min-width:70px;}\n",
    "div#toc-wrapper{padding-top:120px;}\n",
    "div.text_cell_render ul li{font-size:12pt;padding:5px;}\n",
    "table.dataframe{font-size:12px;}\n",
    "</style>\n",
    "\"\"\"))"
   ]
  },
  {
   "cell_type": "code",
   "execution_count": 2,
   "id": "2a59429d",
   "metadata": {},
   "outputs": [
    {
     "name": "stdout",
     "output_type": "stream",
     "text": [
      "첫번째 정수를 입력하세요50\n",
      "두번째 정수를 입력하세요20\n",
      "20 50\n"
     ]
    }
   ],
   "source": [
    "# ex1. 사용자에게 두 정수를 입력받아, 작은 수 부터 큰수까지 홀수의 합을 누적해서 출력\n",
    "\n",
    "int_1 = int(input('첫번째 정수를 입력하세요'))\n",
    "int_2 = int(input('두번째 정수를 입력하세요'))\n",
    "temp = 0\n",
    "\n",
    "if int_1 > int_2:\n",
    "    temp = int_2\n",
    "    int_2 = int_1\n",
    "    int_1 = temp\n",
    "print(int_1, int_2)"
   ]
  },
  {
   "cell_type": "code",
   "execution_count": null,
   "id": "a36b9c7d",
   "metadata": {},
   "outputs": [],
   "source": [
    "# 1. 양의 정수를 입력받아 홀수인지 짝수인지 판별하는 프로그램. 양의 정수가 아니면 숫자를 다시 입력"
   ]
  },
  {
   "cell_type": "code",
   "execution_count": null,
   "id": "56e6dbe2",
   "metadata": {},
   "outputs": [],
   "source": [
    "# 2. 중첩 for 문을 이용하여 별표시"
   ]
  },
  {
   "cell_type": "code",
   "execution_count": null,
   "id": "e71be879",
   "metadata": {},
   "outputs": [],
   "source": [
    "# 2-1. 중첩 for 문을 이용하여 별표시"
   ]
  },
  {
   "cell_type": "code",
   "execution_count": null,
   "id": "6f3c5d9f",
   "metadata": {},
   "outputs": [],
   "source": [
    "# 3. 1 부터 30 까지 (30 포함) 자연수 중에서 3 의 배수의 총 합을 출력하는 프로그램입니다"
   ]
  },
  {
   "cell_type": "code",
   "execution_count": null,
   "id": "240aa83e",
   "metadata": {},
   "outputs": [],
   "source": [
    "#4. 다음 코드의 실행결과가 “1 3 5 7 9\"가 되도록 빈칸을 완성하시오"
   ]
  },
  {
   "cell_type": "code",
   "execution_count": null,
   "id": "c72e98e1",
   "metadata": {},
   "outputs": [],
   "source": [
    "# 5. 다음 2 차원 리스트의 모든 값을 출력하는 코드입니다"
   ]
  },
  {
   "cell_type": "code",
   "execution_count": null,
   "id": "ae51d36b",
   "metadata": {},
   "outputs": [],
   "source": [
    "#6. 다음 빈칸에 들어갈 함수 이름은"
   ]
  },
  {
   "cell_type": "code",
   "execution_count": null,
   "id": "d448c32b",
   "metadata": {},
   "outputs": [],
   "source": [
    "# 7. 다음 코드의 실행결과는 ? "
   ]
  },
  {
   "cell_type": "code",
   "execution_count": null,
   "id": "6d5915e0",
   "metadata": {},
   "outputs": [],
   "source": [
    "# 8. 다음 코드의 실행 결과로 출력될 수 없는 것은? "
   ]
  },
  {
   "cell_type": "code",
   "execution_count": null,
   "id": "6c95cedb",
   "metadata": {},
   "outputs": [],
   "source": [
    "# 9. 다음 코드의 실행결과는? "
   ]
  },
  {
   "cell_type": "code",
   "execution_count": null,
   "id": "50a95bab",
   "metadata": {},
   "outputs": [],
   "source": [
    "# 10.(1단계) 1부터 100 사이의 정수를 맞추는 프로그램을 구현하시오"
   ]
  },
  {
   "cell_type": "code",
   "execution_count": null,
   "id": "d027c47d",
   "metadata": {},
   "outputs": [],
   "source": [
    "# 10.(2단계) 1부터 100 사이의 정수를 맞추는 프로그램을 구현하시오"
   ]
  },
  {
   "cell_type": "code",
   "execution_count": null,
   "id": "95e9cc55",
   "metadata": {},
   "outputs": [],
   "source": [
    "# 10.(3단계) 1부터 100 사이의 정수를 맞추는 프로그램을 구현하시오"
   ]
  }
 ],
 "metadata": {
  "kernelspec": {
   "display_name": "Python 3 (ipykernel)",
   "language": "python",
   "name": "python3"
  },
  "language_info": {
   "codemirror_mode": {
    "name": "ipython",
    "version": 3
   },
   "file_extension": ".py",
   "mimetype": "text/x-python",
   "name": "python",
   "nbconvert_exporter": "python",
   "pygments_lexer": "ipython3",
   "version": "3.10.9"
  },
  "toc": {
   "base_numbering": 1,
   "nav_menu": {},
   "number_sections": false,
   "sideBar": true,
   "skip_h1_title": false,
   "title_cell": "Table of Contents",
   "title_sidebar": "Contents",
   "toc_cell": false,
   "toc_position": {
    "height": "calc(100% - 180px)",
    "left": "10px",
    "top": "150px",
    "width": "269.6px"
   },
   "toc_section_display": true,
   "toc_window_display": true
  }
 },
 "nbformat": 4,
 "nbformat_minor": 5
}
