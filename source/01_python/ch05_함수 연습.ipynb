{
 "cells": [
  {
   "cell_type": "code",
   "execution_count": 10,
   "id": "0cb78d44",
   "metadata": {},
   "outputs": [
    {
     "data": {
      "text/plain": [
       "[1, 4, 9, 16, 25]"
      ]
     },
     "execution_count": 10,
     "metadata": {},
     "output_type": "execute_result"
    }
   ],
   "source": [
    "# 난이도 하 : 문제: 주어진 정수 리스트에서 모든 수를 제곱한 결과를 구하세요. 람다식을 사용해서 map을 활용하세요.\n",
    "numbers = [1, 2, 3, 4, 5]\n",
    "\n",
    "list(map(lambda n : n**2, numbers))\n"
   ]
  },
  {
   "cell_type": "code",
   "execution_count": 11,
   "id": "06fabb40",
   "metadata": {},
   "outputs": [],
   "source": [
    "# 난이도 중 (조건 필터링)\n",
    "#문제: 주어진 문자열 리스트에서 길이가 5 이하인 문자열만 골라내세요. filter와 람다식을 활용하세요\n",
    "words = [\"apple\", \"banana\", \"pear\", \"kiwi\", \"plum\", \"grape\"]"
   ]
  },
  {
   "cell_type": "code",
   "execution_count": 13,
   "id": "6bded0fc",
   "metadata": {},
   "outputs": [
    {
     "data": {
      "text/plain": [
       "['apple', 'pear', 'kiwi', 'plum', 'grape']"
      ]
     },
     "execution_count": 13,
     "metadata": {},
     "output_type": "execute_result"
    }
   ],
   "source": [
    "result = list(filter(lambda text : len(text)<=5, words))\n",
    "result"
   ]
  },
  {
   "cell_type": "code",
   "execution_count": 14,
   "id": "51dffb8c",
   "metadata": {},
   "outputs": [],
   "source": [
    "# 난이도 상 (정렬 기준 정의)\n",
    "# 문제: (이름, 점수) 형태의 튜플 리스트가 있습니다. 점수를 기준으로 내림차순 정렬하세요. sorted 함수에서 key로 람다식을 사용하세요\n",
    "students = [(\"Alice\", 82), (\"Bob\", 91), (\"Charlie\", 78), (\"David\", 88)]"
   ]
  },
  {
   "cell_type": "code",
   "execution_count": 18,
   "id": "ee13edcd",
   "metadata": {},
   "outputs": [
    {
     "ename": "TypeError",
     "evalue": "sorted expected 1 argument, got 4",
     "output_type": "error",
     "traceback": [
      "\u001b[1;31m---------------------------------------------------------------------------\u001b[0m",
      "\u001b[1;31mTypeError\u001b[0m                                 Traceback (most recent call last)",
      "Cell \u001b[1;32mIn[18], line 1\u001b[0m\n\u001b[1;32m----> 1\u001b[0m \u001b[38;5;28;43msorted\u001b[39;49m\u001b[43m(\u001b[49m\u001b[38;5;241;43m*\u001b[39;49m\u001b[43mstudents\u001b[49m\u001b[43m)\u001b[49m\n",
      "\u001b[1;31mTypeError\u001b[0m: sorted expected 1 argument, got 4"
     ]
    }
   ],
   "source": [
    "sorted(students, key= , reversed=True)"
   ]
  },
  {
   "cell_type": "code",
   "execution_count": 21,
   "id": "9d356685",
   "metadata": {},
   "outputs": [],
   "source": [
    "# 문제 1 – 딕셔너리 리스트 정렬 (람다 + sorted)\n",
    "# 점수가 높은 순으로 정렬해서 이름만 뽑은 리스트를 만들어봐.\n",
    "students = [\n",
    "    {'name': '영희', 'score': 85},\n",
    "    {'name': '철수', 'score': 92},\n",
    "    {'name': '민수', 'score': 78},\n",
    "    {'name': '지수', 'score': 90}\n",
    "]"
   ]
  },
  {
   "cell_type": "code",
   "execution_count": 26,
   "id": "2966ff6d",
   "metadata": {},
   "outputs": [
    {
     "data": {
      "text/plain": [
       "[{'name': '철수', 'score': 92},\n",
       " {'name': '지수', 'score': 90},\n",
       " {'name': '영희', 'score': 85},\n",
       " {'name': '민수', 'score': 78}]"
      ]
     },
     "execution_count": 26,
     "metadata": {},
     "output_type": "execute_result"
    }
   ],
   "source": [
    "sorted(students, key= lambda x : x['score'], reverse=True)"
   ]
  },
  {
   "cell_type": "code",
   "execution_count": 28,
   "id": "a93cb082",
   "metadata": {},
   "outputs": [
    {
     "data": {
      "text/plain": [
       "['철수', '지수', '영희', '민수']"
      ]
     },
     "execution_count": 28,
     "metadata": {},
     "output_type": "execute_result"
    }
   ],
   "source": [
    "list(map(lambda name : name['name'],  sorted(students, key= lambda x : x['score'], reverse=True) ))"
   ]
  },
  {
   "cell_type": "code",
   "execution_count": 32,
   "id": "dfda9e38",
   "metadata": {},
   "outputs": [],
   "source": [
    "# 문제 2 – 람다식으로 조건 걸어서 숫자 변환하기\n",
    "# 주어진 정수 리스트에서 짝수면 문자열 'even', 홀수면 'odd'로 바꾸는 리스트를 만들어봐.\n",
    "numbers = [1, 2, 3, 4, 5, 6]"
   ]
  },
  {
   "cell_type": "code",
   "execution_count": 34,
   "id": "d6598d73",
   "metadata": {},
   "outputs": [],
   "source": [
    "result = list(map(lambda n : 'odd' if n%2==1 else 'even', numbers))"
   ]
  },
  {
   "cell_type": "code",
   "execution_count": 35,
   "id": "fbca2b90",
   "metadata": {},
   "outputs": [
    {
     "data": {
      "text/plain": [
       "['odd', 'even', 'odd', 'even', 'odd', 'even']"
      ]
     },
     "execution_count": 35,
     "metadata": {},
     "output_type": "execute_result"
    }
   ],
   "source": [
    "result"
   ]
  },
  {
   "cell_type": "code",
   "execution_count": 38,
   "id": "d9694276",
   "metadata": {},
   "outputs": [
    {
     "data": {
      "text/plain": [
       "['lion', 'tiger', 'bear']"
      ]
     },
     "execution_count": 38,
     "metadata": {},
     "output_type": "execute_result"
    }
   ],
   "source": [
    "words = [\"dog\", \"lion\", \"cat\", \"tiger\", \"bear\"]\n",
    "list(filter(lambda t : len(t)>=4, words))"
   ]
  },
  {
   "cell_type": "code",
   "execution_count": 41,
   "id": "4a3145a5",
   "metadata": {},
   "outputs": [
    {
     "data": {
      "text/plain": [
       "['small', 'big', 'small', 'big', 'small']"
      ]
     },
     "execution_count": 41,
     "metadata": {},
     "output_type": "execute_result"
    }
   ],
   "source": [
    "numbers = [3, 12, 7, 15, 2]\n",
    "list(map(lambda n : 'small' if n<10 else 'big', numbers))"
   ]
  },
  {
   "cell_type": "code",
   "execution_count": 42,
   "id": "1fffaf97",
   "metadata": {},
   "outputs": [
    {
     "data": {
      "text/plain": [
       "[('kiwi', 5), ('apple', 3), ('banana', 2)]"
      ]
     },
     "execution_count": 42,
     "metadata": {},
     "output_type": "execute_result"
    }
   ],
   "source": [
    "items = [(\"apple\", 3), (\"banana\", 2), (\"kiwi\", 5)]\n",
    "items.sort(key=lambda item : len(item[0]))\n",
    "items"
   ]
  },
  {
   "cell_type": "code",
   "execution_count": null,
   "id": "c40fec81",
   "metadata": {},
   "outputs": [],
   "source": []
  }
 ],
 "metadata": {
  "kernelspec": {
   "display_name": "Python 3 (ipykernel)",
   "language": "python",
   "name": "python3"
  },
  "language_info": {
   "codemirror_mode": {
    "name": "ipython",
    "version": 3
   },
   "file_extension": ".py",
   "mimetype": "text/x-python",
   "name": "python",
   "nbconvert_exporter": "python",
   "pygments_lexer": "ipython3",
   "version": "3.10.9"
  },
  "toc": {
   "base_numbering": 1,
   "nav_menu": {},
   "number_sections": false,
   "sideBar": true,
   "skip_h1_title": false,
   "title_cell": "Table of Contents",
   "title_sidebar": "Contents",
   "toc_cell": false,
   "toc_position": {},
   "toc_section_display": true,
   "toc_window_display": false
  }
 },
 "nbformat": 4,
 "nbformat_minor": 5
}
