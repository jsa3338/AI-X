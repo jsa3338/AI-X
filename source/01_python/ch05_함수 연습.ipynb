{
 "cells": [
  {
   "cell_type": "code",
   "execution_count": 1,
   "id": "eb9b1086",
   "metadata": {},
   "outputs": [
    {
     "data": {
      "text/html": [
       "\n",
       "<style>\n",
       "div.container{width:86% !important;}\n",
       "div.cell.code_cell.rendered{width:100%;}\n",
       "div.CodeMirror {font-family:Consolas; font-size:12pt;}\n",
       "div.output {font-size:12pt; font-weight:bold;}\n",
       "div.input {font-family:Consolas; font-size:12pt;}\n",
       "div.prompt {min-width:70px;}\n",
       "div#toc-wrapper{padding-top:120px;}\n",
       "div.text_cell_render ul li{font-size:12pt;padding:5px;}\n",
       "table.dataframe{font-size:12px;}\n",
       "</style>\n"
      ],
      "text/plain": [
       "<IPython.core.display.HTML object>"
      ]
     },
     "metadata": {},
     "output_type": "display_data"
    }
   ],
   "source": [
    "from IPython.display import display, HTML\n",
    "display(HTML(\"\"\"\n",
    "<style>\n",
    "div.container{width:86% !important;}\n",
    "div.cell.code_cell.rendered{width:100%;}\n",
    "div.CodeMirror {font-family:Consolas; font-size:12pt;}\n",
    "div.output {font-size:12pt; font-weight:bold;}\n",
    "div.input {font-family:Consolas; font-size:12pt;}\n",
    "div.prompt {min-width:70px;}\n",
    "div#toc-wrapper{padding-top:120px;}\n",
    "div.text_cell_render ul li{font-size:12pt;padding:5px;}\n",
    "table.dataframe{font-size:12px;}\n",
    "</style>\n",
    "\"\"\"))"
   ]
  },
  {
   "cell_type": "code",
   "execution_count": 10,
   "id": "0cb78d44",
   "metadata": {},
   "outputs": [
    {
     "data": {
      "text/plain": [
       "[1, 4, 9, 16, 25]"
      ]
     },
     "execution_count": 10,
     "metadata": {},
     "output_type": "execute_result"
    }
   ],
   "source": [
    "# 난이도 하 : 문제: 주어진 정수 리스트에서 모든 수를 제곱한 결과를 구하세요. 람다식을 사용해서 map을 활용하세요.\n",
    "numbers = [1, 2, 3, 4, 5]\n",
    "\n",
    "list(map(lambda n : n**2, numbers))\n"
   ]
  },
  {
   "cell_type": "code",
   "execution_count": 11,
   "id": "06fabb40",
   "metadata": {},
   "outputs": [],
   "source": [
    "# 난이도 중 (조건 필터링)\n",
    "#문제: 주어진 문자열 리스트에서 길이가 5 이하인 문자열만 골라내세요. filter와 람다식을 활용하세요\n",
    "words = [\"apple\", \"banana\", \"pear\", \"kiwi\", \"plum\", \"grape\"]"
   ]
  },
  {
   "cell_type": "code",
   "execution_count": 13,
   "id": "6bded0fc",
   "metadata": {},
   "outputs": [
    {
     "data": {
      "text/plain": [
       "['apple', 'pear', 'kiwi', 'plum', 'grape']"
      ]
     },
     "execution_count": 13,
     "metadata": {},
     "output_type": "execute_result"
    }
   ],
   "source": [
    "result = list(filter(lambda text : len(text)<=5, words))\n",
    "result"
   ]
  },
  {
   "cell_type": "code",
   "execution_count": 14,
   "id": "51dffb8c",
   "metadata": {},
   "outputs": [],
   "source": [
    "# 난이도 상 (정렬 기준 정의)\n",
    "# 문제: (이름, 점수) 형태의 튜플 리스트가 있습니다. 점수를 기준으로 내림차순 정렬하세요. sorted 함수에서 key로 람다식을 사용하세요\n",
    "students = [(\"Alice\", 82), (\"Bob\", 91), (\"Charlie\", 78), (\"David\", 88)]"
   ]
  },
  {
   "cell_type": "code",
   "execution_count": 18,
   "id": "ee13edcd",
   "metadata": {},
   "outputs": [
    {
     "ename": "TypeError",
     "evalue": "sorted expected 1 argument, got 4",
     "output_type": "error",
     "traceback": [
      "\u001b[1;31m---------------------------------------------------------------------------\u001b[0m",
      "\u001b[1;31mTypeError\u001b[0m                                 Traceback (most recent call last)",
      "Cell \u001b[1;32mIn[18], line 1\u001b[0m\n\u001b[1;32m----> 1\u001b[0m \u001b[38;5;28;43msorted\u001b[39;49m\u001b[43m(\u001b[49m\u001b[38;5;241;43m*\u001b[39;49m\u001b[43mstudents\u001b[49m\u001b[43m)\u001b[49m\n",
      "\u001b[1;31mTypeError\u001b[0m: sorted expected 1 argument, got 4"
     ]
    }
   ],
   "source": [
    "sorted(students, key= , reversed=True)"
   ]
  },
  {
   "cell_type": "code",
   "execution_count": 21,
   "id": "9d356685",
   "metadata": {},
   "outputs": [],
   "source": [
    "# 문제 1 – 딕셔너리 리스트 정렬 (람다 + sorted)\n",
    "# 점수가 높은 순으로 정렬해서 이름만 뽑은 리스트를 만들어봐.\n",
    "students = [\n",
    "    {'name': '영희', 'score': 85},\n",
    "    {'name': '철수', 'score': 92},\n",
    "    {'name': '민수', 'score': 78},\n",
    "    {'name': '지수', 'score': 90}\n",
    "]"
   ]
  },
  {
   "cell_type": "code",
   "execution_count": 26,
   "id": "2966ff6d",
   "metadata": {},
   "outputs": [
    {
     "data": {
      "text/plain": [
       "[{'name': '철수', 'score': 92},\n",
       " {'name': '지수', 'score': 90},\n",
       " {'name': '영희', 'score': 85},\n",
       " {'name': '민수', 'score': 78}]"
      ]
     },
     "execution_count": 26,
     "metadata": {},
     "output_type": "execute_result"
    }
   ],
   "source": [
    "sorted(students, key= lambda x : x['score'], reverse=True)"
   ]
  },
  {
   "cell_type": "code",
   "execution_count": 28,
   "id": "a93cb082",
   "metadata": {},
   "outputs": [
    {
     "data": {
      "text/plain": [
       "['철수', '지수', '영희', '민수']"
      ]
     },
     "execution_count": 28,
     "metadata": {},
     "output_type": "execute_result"
    }
   ],
   "source": [
    "list(map(lambda name : name['name'],  sorted(students, key= lambda x : x['score'], reverse=True) ))"
   ]
  },
  {
   "cell_type": "code",
   "execution_count": 32,
   "id": "dfda9e38",
   "metadata": {},
   "outputs": [],
   "source": [
    "# 문제 2 – 람다식으로 조건 걸어서 숫자 변환하기\n",
    "# 주어진 정수 리스트에서 짝수면 문자열 'even', 홀수면 'odd'로 바꾸는 리스트를 만들어봐.\n",
    "numbers = [1, 2, 3, 4, 5, 6]"
   ]
  },
  {
   "cell_type": "code",
   "execution_count": 34,
   "id": "d6598d73",
   "metadata": {},
   "outputs": [],
   "source": [
    "result = list(map(lambda n : 'odd' if n%2==1 else 'even', numbers))"
   ]
  },
  {
   "cell_type": "code",
   "execution_count": 35,
   "id": "fbca2b90",
   "metadata": {},
   "outputs": [
    {
     "data": {
      "text/plain": [
       "['odd', 'even', 'odd', 'even', 'odd', 'even']"
      ]
     },
     "execution_count": 35,
     "metadata": {},
     "output_type": "execute_result"
    }
   ],
   "source": [
    "result"
   ]
  },
  {
   "cell_type": "code",
   "execution_count": 38,
   "id": "d9694276",
   "metadata": {},
   "outputs": [
    {
     "data": {
      "text/plain": [
       "['lion', 'tiger', 'bear']"
      ]
     },
     "execution_count": 38,
     "metadata": {},
     "output_type": "execute_result"
    }
   ],
   "source": [
    "words = [\"dog\", \"lion\", \"cat\", \"tiger\", \"bear\"]\n",
    "list(filter(lambda t : len(t)>=4, words))"
   ]
  },
  {
   "cell_type": "code",
   "execution_count": 41,
   "id": "4a3145a5",
   "metadata": {},
   "outputs": [
    {
     "data": {
      "text/plain": [
       "['small', 'big', 'small', 'big', 'small']"
      ]
     },
     "execution_count": 41,
     "metadata": {},
     "output_type": "execute_result"
    }
   ],
   "source": [
    "numbers = [3, 12, 7, 15, 2]\n",
    "list(map(lambda n : 'small' if n<10 else 'big', numbers))"
   ]
  },
  {
   "cell_type": "code",
   "execution_count": 42,
   "id": "1fffaf97",
   "metadata": {},
   "outputs": [
    {
     "data": {
      "text/plain": [
       "[('kiwi', 5), ('apple', 3), ('banana', 2)]"
      ]
     },
     "execution_count": 42,
     "metadata": {},
     "output_type": "execute_result"
    }
   ],
   "source": [
    "items = [(\"apple\", 3), (\"banana\", 2), (\"kiwi\", 5)]\n",
    "items.sort(key=lambda item : len(item[0]))\n",
    "items"
   ]
  },
  {
   "cell_type": "code",
   "execution_count": 9,
   "id": "c40fec81",
   "metadata": {},
   "outputs": [
    {
     "name": "stdout",
     "output_type": "stream",
     "text": [
      "일반함수 결과값 : 홀수\n",
      "람다식 결과값 : 홀수\n"
     ]
    }
   ],
   "source": [
    "# ex1. 매개변수로 들어온 값이 '짝수'인지 '홀수'인지 리턴\n",
    "# 일반 함수로 선언\n",
    "\n",
    "def ex1_1(n):\n",
    "    if n%2:\n",
    "        result = '홀수'\n",
    "    else:\n",
    "        result = '짝수'\n",
    "    return result\n",
    "\n",
    "print('일반함수 결과값 :', ex1_1(9))\n",
    "\n",
    "ex1_2 = lambda n : '홀수' if n%2 else '짝수'\n",
    "print('람다식 결과값 :', ex1_2(9))\n"
   ]
  },
  {
   "cell_type": "code",
   "execution_count": 13,
   "id": "bb2e5176",
   "metadata": {},
   "outputs": [
    {
     "data": {
      "text/plain": [
       "7"
      ]
     },
     "execution_count": 13,
     "metadata": {},
     "output_type": "execute_result"
    }
   ],
   "source": [
    "# ex2. 2개의 매개변수의 차이를 리턴 (큰수에서 작은수 빼기)\n",
    "\n",
    "ex2 = lambda a, b : a-b if a>b else b-a\n",
    "ex2(9,2)"
   ]
  },
  {
   "cell_type": "code",
   "execution_count": 16,
   "id": "881f83b1",
   "metadata": {},
   "outputs": [
    {
     "data": {
      "text/plain": [
       "'negative'"
      ]
     },
     "execution_count": 16,
     "metadata": {},
     "output_type": "execute_result"
    }
   ],
   "source": [
    "# ex3. 매개변수로 잔액을 받아 양수면 잔액을 리턴, 음수면 'negative' 리턴\n",
    "\n",
    "ex3 = lambda x : x if x>=0 else 'negative'\n",
    "ex3(-100)"
   ]
  },
  {
   "cell_type": "code",
   "execution_count": 24,
   "id": "5d09f97c",
   "metadata": {},
   "outputs": [
    {
     "data": {
      "text/plain": [
       "'B팀'"
      ]
     },
     "execution_count": 24,
     "metadata": {},
     "output_type": "execute_result"
    }
   ],
   "source": [
    "# ex4. 점수를 입력받아 80점 이상은 'A팀', 60점 이상은 'B팀' 60점 미만은 재시험, 그외는 유효하지 않음\n",
    "\n",
    "ex4 = lambda score : '유효하지 않음' if 101<score or 0>score else \\\n",
    "                    'A팀' if score>=80 else 'B팀' if score >=60 else '재시험'\n",
    "ex4(79)"
   ]
  },
  {
   "cell_type": "code",
   "execution_count": 25,
   "id": "9c70417f",
   "metadata": {},
   "outputs": [],
   "source": [
    "# ex5. safe_index 를 람다식으로\n",
    "def safe_index_1(lst, data):\n",
    "     if data in lst: # lst 안에 data가 있는지 여부\n",
    "        return lst.index(data)\n",
    "     else:\n",
    "        return -1 \n",
    "\n",
    "safe_index_2 = lambda lst, data : lst.index(data) if data in lst else -1"
   ]
  },
  {
   "cell_type": "code",
   "execution_count": 27,
   "id": "cb61f14f",
   "metadata": {},
   "outputs": [
    {
     "name": "stdout",
     "output_type": "stream",
     "text": [
      "0\n",
      "1\n"
     ]
    }
   ],
   "source": [
    "lst = [1,2,3,4,5]\n",
    "print(safe_index_1(lst, 1))\n",
    "print(safe_index_2(lst, 2))"
   ]
  },
  {
   "cell_type": "code",
   "execution_count": 32,
   "id": "b7f057e1",
   "metadata": {},
   "outputs": [
    {
     "data": {
      "text/plain": [
       "['5000', '800', '1000', '6000']"
      ]
     },
     "execution_count": 32,
     "metadata": {},
     "output_type": "execute_result"
    }
   ],
   "source": [
    "# 예제 1. 아래 리스트를  price = ['5000', '800', '1000', '6000'] 로 바꾸시오\n",
    "price = ['5,000', '800', '1000', '6,000']\n",
    "\n",
    "price_2 = list(map(lambda p : p.replace(',', ''), price))\n",
    "price_2"
   ]
  },
  {
   "cell_type": "code",
   "execution_count": 45,
   "id": "52aaf17d",
   "metadata": {},
   "outputs": [
    {
     "data": {
      "text/plain": [
       "[{'name': '홍길동', 'year': 2000, 'month': 1, 'day': 1},\n",
       " {'name': '신길동', 'year': 1998, 'month': 12, 'day': 31}]"
      ]
     },
     "execution_count": 45,
     "metadata": {},
     "output_type": "execute_result"
    }
   ],
   "source": [
    "# 예제 2. member1을 member2로 바꿔라\n",
    "'''\n",
    "member1 = [{'name':'홍길동', 'birth':'2000-01-01'},\n",
    "          {'name':'신길동', 'birth':'1998-12-31'}]를\n",
    "member2 = [{'name':'홍길동', 'year':2000, 'month':1, 'day':1},\n",
    "          {'name':'신길동', 'year':1998, 'month':12, 'day':31}]\n",
    "'''\n",
    "member1 = [{'name':'홍길동', 'birth':'2000-01-01'},\n",
    "          {'name':'신길동', 'birth':'1998-12-31'}]\n",
    "\n",
    "# year = member1[0]['birth'].split('-')[0]\n",
    "# month = member1[0]['birth'].split('-')[1]\n",
    "# day = member1[0]['birth'].split('-')[2]\n",
    "\n",
    "\n",
    "member2= list(map(lambda member : {'name': member.get('name'),\n",
    "                                        'year':int(member['birth'].split('-')[0]),\n",
    "                                        'month':int(member['birth'].split('-')[1]),\n",
    "                                        'day':int(member['birth'].split('-')[2])}\n",
    "                      , member1))\n",
    "member2"
   ]
  },
  {
   "cell_type": "code",
   "execution_count": 54,
   "id": "b4c5545b",
   "metadata": {},
   "outputs": [
    {
     "data": {
      "text/plain": [
       "[{'name': '홍길동', 'birth': '2000-01-01'},\n",
       " {'name': '신길동', 'birth': '1998-12-31'}]"
      ]
     },
     "execution_count": 54,
     "metadata": {},
     "output_type": "execute_result"
    }
   ],
   "source": [
    "member3 = list(map(lambda member : {'name':member.get('name'),\n",
    "                                   'birth' : '{}-{:02}-{:02}'.format(member.get('year'),\n",
    "                                                                    member.get('month'),\n",
    "                                                                    member.get('day'))\n",
    "                                   }\n",
    "                   , member2)\n",
    "              )\n",
    "member3"
   ]
  },
  {
   "cell_type": "code",
   "execution_count": 58,
   "id": "30610454",
   "metadata": {},
   "outputs": [
    {
     "data": {
      "text/plain": [
       "[{'name': '홍길동', 'birth': '2000-01-01'},\n",
       " {'name': '신길동', 'birth': '1998-12-31'}]"
      ]
     },
     "execution_count": 58,
     "metadata": {},
     "output_type": "execute_result"
    }
   ],
   "source": [
    "member3 = list(map(lambda member : {'name': '{name}'.format(**member),\n",
    "                                   'birth' : '{year}-{month:02}-{day:02}'.format(**member)\n",
    "                                   }\n",
    "                   , member2)\n",
    "              )\n",
    "member3"
   ]
  },
  {
   "cell_type": "code",
   "execution_count": 72,
   "id": "2a4ad9ba",
   "metadata": {},
   "outputs": [
    {
     "name": "stdout",
     "output_type": "stream",
     "text": [
      "None\n"
     ]
    }
   ],
   "source": [
    "# 예제 1. \n",
    "students = [\n",
    "    {'name':'홍길동', 'score':90},\n",
    "    {'name':'김길동', 'score':80},\n",
    "    {'name':'신길동', 'score':99},\n",
    "    {'score':100}\n",
    "    \n",
    "]\n",
    "print(students[3].get('name'))"
   ]
  },
  {
   "cell_type": "code",
   "execution_count": 73,
   "id": "e481f999",
   "metadata": {},
   "outputs": [
    {
     "name": "stdout",
     "output_type": "stream",
     "text": [
      "[{'name': '김길동', 'score': 80}, {'name': '신길동', 'score': 99}, {'name': '홍길동', 'score': 90}, {'score': 100}]\n"
     ]
    }
   ],
   "source": [
    "# 이름순으로 정렬\n",
    "\n",
    "students.sort(key=lambda student : student.get('name', '힣'))\n",
    "print(students)"
   ]
  },
  {
   "cell_type": "code",
   "execution_count": 99,
   "id": "5366369a",
   "metadata": {},
   "outputs": [
    {
     "ename": "AttributeError",
     "evalue": "'int' object has no attribute 'replace'",
     "output_type": "error",
     "traceback": [
      "\u001b[1;31m---------------------------------------------------------------------------\u001b[0m",
      "\u001b[1;31mAttributeError\u001b[0m                            Traceback (most recent call last)",
      "Cell \u001b[1;32mIn[99], line 13\u001b[0m\n\u001b[0;32m     11\u001b[0m p \u001b[38;5;241m=\u001b[39m \u001b[38;5;124m'\u001b[39m\u001b[38;5;124m25,200\u001b[39m\u001b[38;5;124m'\u001b[39m\n\u001b[0;32m     12\u001b[0m p\u001b[38;5;241m.\u001b[39mreplace(\u001b[38;5;124m'\u001b[39m\u001b[38;5;124m,\u001b[39m\u001b[38;5;124m'\u001b[39m,\u001b[38;5;124m'\u001b[39m\u001b[38;5;124m'\u001b[39m)\n\u001b[1;32m---> 13\u001b[0m \u001b[43mbooks\u001b[49m\u001b[43m[\u001b[49m\u001b[38;5;241;43m4\u001b[39;49m\u001b[43m]\u001b[49m\u001b[38;5;241;43m.\u001b[39;49m\u001b[43mget\u001b[49m\u001b[43m(\u001b[49m\u001b[38;5;124;43m'\u001b[39;49m\u001b[38;5;124;43mprice\u001b[39;49m\u001b[38;5;124;43m'\u001b[39;49m\u001b[43m)\u001b[49m\u001b[38;5;241;43m.\u001b[39;49m\u001b[43mreplace\u001b[49m(\u001b[38;5;124m'\u001b[39m\u001b[38;5;124m,\u001b[39m\u001b[38;5;124m'\u001b[39m,\u001b[38;5;124m'\u001b[39m\u001b[38;5;124m'\u001b[39m)\u001b[38;5;241m.\u001b[39misdigit()\n",
      "\u001b[1;31mAttributeError\u001b[0m: 'int' object has no attribute 'replace'"
     ]
    }
   ],
   "source": [
    "# 예제 2. 책 제목순 정렬(ㄱㄴㄷ), 저자순 정렬(ㄱㄴㄷ), 가격순 오름차순 정렬\n",
    "books = [\n",
    "    {'no':1, 'title':'강남 아파트 인사이트', 'writer': '오스롤로이드', 'price':'25,200'},\n",
    "    {'no':2, 'title':'결국 국민이 합니다', 'writer': '이재명', 'price':'19,800'},\n",
    "    {'no':3, 'title':'단 한 번의 삶', 'writer': '김영하', 'price':'15,120'},\n",
    "    {'no':4, 'title':'가격이 잘못', 'writer': '홍길동', 'price':'-'},\n",
    "    {'no':5, 'title':'가격이 숫자', 'writer': '임꺽정', 'price':900},\n",
    "    {'no':6, 'title':'가격이 없음', 'writer': '전우치'},\n",
    "]\n",
    "\n",
    "p = '25,200'\n",
    "p.replace(',','')\n",
    "books[4].get('price').replace(',','').isdigit()"
   ]
  },
  {
   "cell_type": "code",
   "execution_count": 94,
   "id": "2ba2f877",
   "metadata": {},
   "outputs": [],
   "source": [
    "# '1,400'-> 1400  / 800 ->800 / '-' ->0\n",
    "\n",
    "def modify_price(p):\n",
    "    if isinstance(p, str) and p.replace(',','').isdigit():\n",
    "        return int(p.replace(',',''))\n",
    "    else:\n",
    "        return 0\n"
   ]
  },
  {
   "cell_type": "code",
   "execution_count": null,
   "id": "0fbcde3e",
   "metadata": {},
   "outputs": [],
   "source": [
    "# {'no': 3, 'title': '단 한 번의 삶', 'writer': '김영하', 'price': '15,120'}"
   ]
  },
  {
   "cell_type": "code",
   "execution_count": 102,
   "id": "f5e1d0e2",
   "metadata": {},
   "outputs": [],
   "source": [
    "books.sort(key= lambda book : int(book.get('price').replace(',','')) if isinstance(book.get('price'), str) and \\\n",
    "                               book.get('price').replace(',','').isdigit() else \\\n",
    "                               book.get('price') if isinstance(book.get('price'), int) else \\\n",
    "                               0)"
   ]
  },
  {
   "cell_type": "code",
   "execution_count": 103,
   "id": "db5d5f0f",
   "metadata": {},
   "outputs": [
    {
     "data": {
      "text/plain": [
       "[{'no': 4, 'title': '가격이 잘못', 'writer': '홍길동', 'price': '-'},\n",
       " {'no': 6, 'title': '가격이 없음', 'writer': '전우치'},\n",
       " {'no': 5, 'title': '가격이 숫자', 'writer': '임꺽정', 'price': 900},\n",
       " {'no': 3, 'title': '단 한 번의 삶', 'writer': '김영하', 'price': '15,120'},\n",
       " {'no': 2, 'title': '결국 국민이 합니다', 'writer': '이재명', 'price': '19,800'},\n",
       " {'no': 1, 'title': '강남 아파트 인사이트', 'writer': '오스롤로이드', 'price': '25,200'}]"
      ]
     },
     "execution_count": 103,
     "metadata": {},
     "output_type": "execute_result"
    }
   ],
   "source": [
    "books"
   ]
  },
  {
   "cell_type": "code",
   "execution_count": 124,
   "id": "ff71b884",
   "metadata": {},
   "outputs": [
    {
     "data": {
      "text/plain": [
       "[10, 1]"
      ]
     },
     "execution_count": 124,
     "metadata": {},
     "output_type": "execute_result"
    }
   ],
   "source": [
    "# 1번. 함수의인자로 리스트를 받은 후 리스트 내에 있는 모든 정수값에 대한 최대값과 최소값을 리턴하는 함수를 작성하세요\n",
    "\n",
    "def get_max_min(data_list):\n",
    "    get_max_min = [max(data_list), min(data_list)]\n",
    "    return get_max_min\n",
    "\n",
    "lst = [1,5,7,10]\n",
    "(lambda data : [max(data), min(data)])(lst)"
   ]
  },
  {
   "cell_type": "code",
   "execution_count": 129,
   "id": "3ca5eb07",
   "metadata": {},
   "outputs": [
    {
     "name": "stdout",
     "output_type": "stream",
     "text": [
      "당신의 BMI는 24.8, 판별 결과 표준입니다\n"
     ]
    }
   ],
   "source": [
    "#2번. 체질량 지수(Body Mass Index, BMI)는 체중과 키를 이용해 비만도를 나타내는 지수로 아래의 수식에 의해 계산됩니다. \n",
    "#함수의 인자로 체중(kg)과 신장(m)를입력받은 후 BMI값에 따라 ‘마른 체형‘, ‘표준‘, ‘비만‘, ‘고도비만‘ 중 하나의 상태를 출력하는 함수를 구현해 보세요\n",
    "\n",
    "def getBMI(kg, m):\n",
    "    BMI=kg/(m**2)\n",
    "    if BMI < 18.5:\n",
    "        result = '마른 체형'\n",
    "    elif 18.5<= BMI <25:\n",
    "        result = '표준'\n",
    "    elif 25<= BMI <30:\n",
    "        result = '비만'\n",
    "    else:\n",
    "        result = '고도비만'\n",
    "    print(f'당신의 BMI는 {BMI:.1f}, 판별 결과 {result}입니다')\n",
    "\n",
    "getBMI(76, 1.75)\n"
   ]
  },
  {
   "cell_type": "code",
   "execution_count": 135,
   "id": "8b4bda2c",
   "metadata": {},
   "outputs": [
    {
     "name": "stdout",
     "output_type": "stream",
     "text": [
      "표준\n"
     ]
    }
   ],
   "source": [
    "getBMI = lambda kg, m : '마른 체형' if (kg/(m**2)) < 18.5 else\\\n",
    "                        '표준' if 18.5<= (kg/(m**2)) <25 else\\\n",
    "                        '비만' if 25<= (kg/(m**2)) <30 else\\\n",
    "                        '고도비만'\n",
    "print(getBMI(76,1.75))"
   ]
  },
  {
   "cell_type": "code",
   "execution_count": 136,
   "id": "93e58717",
   "metadata": {},
   "outputs": [
    {
     "data": {
      "text/plain": [
       "(3.0, 8.60555127546399)"
      ]
     },
     "execution_count": 136,
     "metadata": {},
     "output_type": "execute_result"
    }
   ],
   "source": [
    "# 3번. 직각삼각형의 밑변과 높이를 입력받은 후 삼각형의 면적과 둘레를 계산하는 함수를 작성\n",
    "\n",
    "import math\n",
    "def get_triangle(width, height):\n",
    "    area = width*height/2\n",
    "    circum = width+height+(math.sqrt(width**2+height**2))\n",
    "    return area, circum\n",
    "\n",
    "get_triangle(2,3)"
   ]
  },
  {
   "cell_type": "code",
   "execution_count": 138,
   "id": "52fbe0e5",
   "metadata": {},
   "outputs": [
    {
     "name": "stdout",
     "output_type": "stream",
     "text": [
      "6\n"
     ]
    },
    {
     "data": {
      "text/plain": [
       "6"
      ]
     },
     "execution_count": 138,
     "metadata": {},
     "output_type": "execute_result"
    }
   ],
   "source": [
    "# 4번. 함수의 인자로 시작과 끝 숫자가 주어질 때 시작부터 끝까지의 모든 정수값의 합을 리턴하는 함수를 작성하세요(시작값과 끝값 포함)\n",
    "\n",
    "def sum_range(x,y):\n",
    "    return sum(range(x,y+1))\n",
    "\n",
    "print(sum_range(1,3))\n",
    "\n",
    "(lambda x, y : sum(range(x,y+1)))(1,3)"
   ]
  },
  {
   "cell_type": "code",
   "execution_count": 154,
   "id": "1192059c",
   "metadata": {},
   "outputs": [
    {
     "name": "stdout",
     "output_type": "stream",
     "text": [
      "['Seo', 'Dae', 'Kwa', 'Jej']\n",
      "['Seo', 'Dae', 'Kwa', 'Jej']\n"
     ]
    }
   ],
   "source": [
    "# 5번. 함수의인자로 문자열을 포함하는 리스트가 입력될 때 각 문자열의 첫 세글자로만 구성된 리스트를 리턴하는 함수와 람다식을 작성하세요\n",
    "\n",
    "L = ['Seoul', 'Daegu', 'Kwangju', 'Jeju']\n",
    "def blind(list):\n",
    "    blind = []\n",
    "    for word in L:\n",
    "        blind.append(word[:3])\n",
    "    return blind\n",
    "print(blind(L))\n",
    "\n",
    "blind_word = list(map(lambda word : word[:3], L))\n",
    "print(blind_word)\n"
   ]
  },
  {
   "cell_type": "code",
   "execution_count": 155,
   "id": "ca201cbb",
   "metadata": {},
   "outputs": [
    {
     "data": {
      "text/plain": [
       "9"
      ]
     },
     "execution_count": 155,
     "metadata": {},
     "output_type": "execute_result"
    }
   ],
   "source": [
    "# 6번. 다음 코드를 람다 함수 형태로 수정할 때 알맞은 코드를 작성하시오\n",
    "(lambda x, y : x**y)(3,2)"
   ]
  },
  {
   "cell_type": "code",
   "execution_count": 159,
   "id": "a520dba6",
   "metadata": {},
   "outputs": [
    {
     "name": "stdout",
     "output_type": "stream",
     "text": [
      "람다식 : [1, 4, 9, 16, 25]\n",
      "리스트 컴프리헨션 : [1, 4, 9, 16, 25]\n"
     ]
    }
   ],
   "source": [
    "# 7번. ex = [1,2,3,4,5]를 [1,4,9,16,25]의 결과를 얻을 수 있도록 람다함수와 map()함수를 사용하여 구현과 리스트 컴프리헨션으로 구현하시오\n",
    "\n",
    "ex = [1,2,3,4,5]\n",
    "# 람다식\n",
    "print('람다식 :', list(map(lambda i : i**2, ex)))\n",
    "\n",
    "print('리스트 컴프리헨션 :', [n**2 for n in ex])"
   ]
  },
  {
   "cell_type": "code",
   "execution_count": null,
   "id": "e3ce4a9b",
   "metadata": {},
   "outputs": [],
   "source": [
    "# 8번. 다음코드를 각각 실행하면 서로 다른 결과가 나온다. 이런 결과가 나오는 이유를 서술하시오\n",
    "# *a 와 같이 매개변수에 *를 앞에 붙이므로써 언패킹되어 하나씩 프린트된 것"
   ]
  },
  {
   "cell_type": "code",
   "execution_count": null,
   "id": "18b8a248",
   "metadata": {},
   "outputs": [],
   "source": [
    "# 9번. 예제 코드 실행 결과는?\n",
    "# result = 2024-9-6"
   ]
  },
  {
   "cell_type": "code",
   "execution_count": 179,
   "id": "8376c332",
   "metadata": {},
   "outputs": [
    {
     "name": "stdout",
     "output_type": "stream",
     "text": [
      "{3}\n"
     ]
    },
    {
     "data": {
      "text/plain": [
       "True"
      ]
     },
     "execution_count": 179,
     "metadata": {},
     "output_type": "execute_result"
    }
   ],
   "source": [
    "# 10번. n개의 벡터(리스트나 튜플, 셋등)의 크기들이 같은지 여부를 reutrn하는\n",
    "# vector_size_check(*vector _var) 를 한 줄의 코드(리스트 컴프리헨션 이용)로 작성하시오.\n",
    "ex = [[1,2,3], {1,2,3}, (1,2,3), [5,6,7]]\n",
    "\n",
    "def vector_size_check(vector_var):\n",
    "    result = []\n",
    "    for vector in vector_var:\n",
    "        result.append(len(vector))\n",
    "    if len(set(result))==1:\n",
    "        print(set(result))\n",
    "        return True\n",
    "    else:\n",
    "        print(set(result))\n",
    "        return False\n",
    "\n",
    "vector_size_check(ex)    "
   ]
  },
  {
   "cell_type": "code",
   "execution_count": 182,
   "id": "8c67b564",
   "metadata": {},
   "outputs": [
    {
     "data": {
      "text/plain": [
       "True"
      ]
     },
     "execution_count": 182,
     "metadata": {},
     "output_type": "execute_result"
    }
   ],
   "source": [
    "# 10번. n개의 벡터(리스트나 튜플, 셋등)의 크기들이 같은지 여부를 reutrn하는\n",
    "# vector_size_check(*vector _var) 를 한 줄의 코드(리스트 컴프리헨션 이용)로 작성하시오.\n",
    "\n",
    "vector_size_check = True if len(set(len(check) for check in ex))==1 else False\n",
    "\n",
    "vector_size_check"
   ]
  },
  {
   "cell_type": "code",
   "execution_count": 185,
   "id": "49d0165c",
   "metadata": {},
   "outputs": [
    {
     "name": "stdout",
     "output_type": "stream",
     "text": [
      "[5, 10, 15, 20]\n",
      "\n",
      "[5, 10, 15, 20]\n"
     ]
    },
    {
     "data": {
      "text/plain": [
       "[5, 10, 15, 20]"
      ]
     },
     "execution_count": 185,
     "metadata": {},
     "output_type": "execute_result"
    }
   ],
   "source": [
    "# 11번. 다음과 같은 결과를 얻기 위해 하나의 스칼라값을 리스트나 튜플, 셋등 벡터에 곱하는 코드를 작성하시오.(단 입력되는 벡터의 크기는 일정하지 않음)\n",
    "\n",
    "def scalar_vector_product(x, lst):\n",
    "    result = []\n",
    "    for i in lst:\n",
    "        result.append(x*i)\n",
    "    return result\n",
    "\n",
    "\n",
    "print(scalar_vector_product(5, [1,2,3,4]))\n",
    "print()\n",
    "x=5\n",
    "print([x*i for i in [1,2,3,4]])\n",
    "list(map(lambda i : x*i, [1,2,3,4]))"
   ]
  },
  {
   "cell_type": "code",
   "execution_count": 186,
   "id": "555cf02a",
   "metadata": {},
   "outputs": [
    {
     "data": {
      "text/plain": [
       "[5, 10, 15, 20]"
      ]
     },
     "execution_count": 186,
     "metadata": {},
     "output_type": "execute_result"
    }
   ],
   "source": [
    "def scalar_vector_product_2(x, lst):\n",
    "    return [x*i for i in lst]\n",
    "scalar_vector_product_2(5, [1,2,3,4])"
   ]
  },
  {
   "cell_type": "code",
   "execution_count": 188,
   "id": "d4dfeb6e",
   "metadata": {},
   "outputs": [
    {
     "name": "stdout",
     "output_type": "stream",
     "text": [
      "100\n"
     ]
    }
   ],
   "source": [
    "# 서술형 3. 실행결과\n",
    "var = 100\n",
    "def func(var): # 매개변수로 들어온 변수는 지역변수\n",
    "    var = 200  # 그러므로 var는 전역변수가 아니고 지역변수\n",
    "func(var)\n",
    "print(var)"
   ]
  },
  {
   "cell_type": "code",
   "execution_count": 189,
   "id": "06c68679",
   "metadata": {},
   "outputs": [
    {
     "data": {
      "text/plain": [
       "5"
      ]
     },
     "execution_count": 189,
     "metadata": {},
     "output_type": "execute_result"
    }
   ],
   "source": [
    "def my_func(func, *args):\n",
    "    return func(*args)\n",
    "import numpy as np\n",
    "my_func(np.add, 2, 3)"
   ]
  },
  {
   "cell_type": "code",
   "execution_count": null,
   "id": "1fa80f40",
   "metadata": {},
   "outputs": [],
   "source": []
  }
 ],
 "metadata": {
  "kernelspec": {
   "display_name": "Python 3 (ipykernel)",
   "language": "python",
   "name": "python3"
  },
  "language_info": {
   "codemirror_mode": {
    "name": "ipython",
    "version": 3
   },
   "file_extension": ".py",
   "mimetype": "text/x-python",
   "name": "python",
   "nbconvert_exporter": "python",
   "pygments_lexer": "ipython3",
   "version": "3.10.9"
  },
  "toc": {
   "base_numbering": 1,
   "nav_menu": {},
   "number_sections": false,
   "sideBar": true,
   "skip_h1_title": false,
   "title_cell": "Table of Contents",
   "title_sidebar": "Contents",
   "toc_cell": false,
   "toc_position": {},
   "toc_section_display": true,
   "toc_window_display": false
  }
 },
 "nbformat": 4,
 "nbformat_minor": 5
}
