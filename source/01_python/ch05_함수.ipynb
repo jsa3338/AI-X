{
 "cells": [
  {
   "cell_type": "code",
   "execution_count": 1,
   "id": "a7d557b0",
   "metadata": {},
   "outputs": [
    {
     "data": {
      "text/html": [
       "\n",
       "<style>\n",
       "div.container{width:86% !important;}\n",
       "div.cell.code_cell.rendered{width:100%;}\n",
       "div.CodeMirror {font-family:Consolas; font-size:12pt;}\n",
       "div.output {font-size:12pt; font-weight:bold;}\n",
       "div.input {font-family:Consolas; font-size:12pt;}\n",
       "div.prompt {min-width:70px;}\n",
       "div#toc-wrapper{padding-top:120px;}\n",
       "div.text_cell_render ul li{font-size:12pt;padding:5px;}\n",
       "table.dataframe{font-size:12px;}\n",
       "</style>\n"
      ],
      "text/plain": [
       "<IPython.core.display.HTML object>"
      ]
     },
     "metadata": {},
     "output_type": "display_data"
    }
   ],
   "source": [
    "from IPython.display import display, HTML\n",
    "display(HTML(\"\"\"\n",
    "<style>\n",
    "div.container{width:86% !important;}\n",
    "div.cell.code_cell.rendered{width:100%;}\n",
    "div.CodeMirror {font-family:Consolas; font-size:12pt;}\n",
    "div.output {font-size:12pt; font-weight:bold;}\n",
    "div.input {font-family:Consolas; font-size:12pt;}\n",
    "div.prompt {min-width:70px;}\n",
    "div#toc-wrapper{padding-top:120px;}\n",
    "div.text_cell_render ul li{font-size:12pt;padding:5px;}\n",
    "table.dataframe{font-size:12px;}\n",
    "</style>\n",
    "\"\"\"))"
   ]
  },
  {
   "cell_type": "markdown",
   "id": "5818c69f",
   "metadata": {},
   "source": [
    "<b><font size=\"5\" color=\"red\">ch05. 함수 </font></b>\n",
    "- 사용할 코드를 묶어놓고 그것에 이름을 붙인것\n",
    "- 오버로딩(함수 이름이 같고, 매개변수의 타입이나 갯수로 다른함수를 허용하는 것) 불가\n",
    "- 함수 정의(문자, 숫자, _로 이름 정의, 변수명 규칙과 동일)\n",
    "```\n",
    "def 함수명([매개변수1, 매개변수2, 매개변수n]):   # [매개변수] 생략 가능\n",
    "    명령어1\n",
    "    명령어2\n",
    "    명령어n\n",
    "```\n",
    "\n",
    "# 1절. 함수의 정의 및 사용\n",
    "## 1.1 함수 정의"
   ]
  },
  {
   "cell_type": "code",
   "execution_count": 2,
   "id": "5975ac66",
   "metadata": {},
   "outputs": [],
   "source": [
    "# 함수 정의\n",
    "def my_msg(x, msg): # msg를 x번 출력하는 함수\n",
    "    for i in range(x):\n",
    "        print(msg)"
   ]
  },
  {
   "cell_type": "code",
   "execution_count": 3,
   "id": "3fd132cb",
   "metadata": {},
   "outputs": [
    {
     "name": "stdout",
     "output_type": "stream",
     "text": [
      "*\n",
      "*\n",
      "*\n"
     ]
    }
   ],
   "source": [
    "# 함수 사용 = 함수 호출\n",
    "my_msg(3, '*')"
   ]
  },
  {
   "cell_type": "code",
   "execution_count": 4,
   "id": "90537a5b",
   "metadata": {},
   "outputs": [
    {
     "data": {
      "text/plain": [
       "(function, function)"
      ]
     },
     "execution_count": 4,
     "metadata": {},
     "output_type": "execute_result"
    }
   ],
   "source": [
    "my_message = my_msg \n",
    "type(my_msg), type(my_message)"
   ]
  },
  {
   "cell_type": "code",
   "execution_count": 4,
   "id": "99d1c6bd",
   "metadata": {},
   "outputs": [
    {
     "name": "stdout",
     "output_type": "stream",
     "text": [
      "my_msg\n",
      "my_msg\n"
     ]
    }
   ],
   "source": [
    "print('my_msg')   # 파이썬 내장함수(import 하지 않고 사용할 수 있는 함수)\n",
    "print = 5         # 기존에 있는 함수명과 동일한 이름에 변수 할당이 가능하지만\n",
    "# print('my_msg') # 그 후엔 함수가 사용 불능 상태\n",
    "del print         # del 명령어로 print 변수를 삭제했더니\n",
    "print('my_msg')   # print 함수 사용 가능해짐, but 내장 함수니까 가능한거지 임의로 선언한 함수는 날아가서 사용 불가"
   ]
  },
  {
   "cell_type": "code",
   "execution_count": 13,
   "id": "2457bd1d",
   "metadata": {},
   "outputs": [
    {
     "name": "stdout",
     "output_type": "stream",
     "text": [
      "Hello\n",
      "Hello\n"
     ]
    }
   ],
   "source": [
    "my_message(2, 'Hello')"
   ]
  },
  {
   "cell_type": "code",
   "execution_count": 6,
   "id": "78c15fd4",
   "metadata": {},
   "outputs": [],
   "source": [
    "my_message = 5"
   ]
  },
  {
   "cell_type": "code",
   "execution_count": 8,
   "id": "0d4cfef0",
   "metadata": {},
   "outputs": [],
   "source": [
    "del my_message    # 임의로 선언한 함수는 날아가서 사용 불가"
   ]
  },
  {
   "cell_type": "code",
   "execution_count": 10,
   "id": "0d235ae4",
   "metadata": {},
   "outputs": [
    {
     "ename": "NameError",
     "evalue": "name 'my_message' is not defined",
     "output_type": "error",
     "traceback": [
      "\u001b[1;31m---------------------------------------------------------------------------\u001b[0m",
      "\u001b[1;31mNameError\u001b[0m                                 Traceback (most recent call last)",
      "Cell \u001b[1;32mIn[10], line 1\u001b[0m\n\u001b[1;32m----> 1\u001b[0m \u001b[43mmy_message\u001b[49m(\u001b[38;5;241m2\u001b[39m, \u001b[38;5;124m'\u001b[39m\u001b[38;5;124mHello\u001b[39m\u001b[38;5;124m'\u001b[39m)\n",
      "\u001b[1;31mNameError\u001b[0m: name 'my_message' is not defined"
     ]
    }
   ],
   "source": [
    "my_message(2, 'Hello') # 임의로 선언한 함수는 날아가서 사용 불가"
   ]
  },
  {
   "cell_type": "code",
   "execution_count": 8,
   "id": "b10093d7",
   "metadata": {},
   "outputs": [],
   "source": [
    "# 함수 정의 : 4월 16일(수)\n",
    "def my_hello():\n",
    "    print('Hello, Python')\n",
    "    print('Hello, World')\n",
    "def my_hello(cnt):\n",
    "    for i in range(cnt):\n",
    "        print('Hello, Python')\n",
    "        print('Hello, World')"
   ]
  },
  {
   "cell_type": "code",
   "execution_count": 10,
   "id": "a8a664e4",
   "metadata": {},
   "outputs": [
    {
     "name": "stdout",
     "output_type": "stream",
     "text": [
      "Hello, Python\n",
      "Hello, World\n",
      "Hello, Python\n",
      "Hello, World\n"
     ]
    }
   ],
   "source": [
    "# 함수사용 = 함수호출\n",
    "my_hello(2)"
   ]
  },
  {
   "cell_type": "code",
   "execution_count": 11,
   "id": "e269743d",
   "metadata": {},
   "outputs": [
    {
     "data": {
      "text/plain": [
       "<function __main__.my_hello(cnt)>"
      ]
     },
     "execution_count": 11,
     "metadata": {},
     "output_type": "execute_result"
    }
   ],
   "source": [
    "my_hello"
   ]
  },
  {
   "cell_type": "code",
   "execution_count": 12,
   "id": "732ebc01",
   "metadata": {},
   "outputs": [
    {
     "data": {
      "text/plain": [
       "'__main__'"
      ]
     },
     "execution_count": 12,
     "metadata": {},
     "output_type": "execute_result"
    }
   ],
   "source": [
    "__name__ = '__main__'"
   ]
  },
  {
   "cell_type": "code",
   "execution_count": 13,
   "id": "5031c492",
   "metadata": {},
   "outputs": [
    {
     "name": "stdout",
     "output_type": "stream",
     "text": [
      "Hello, Python\n",
      "Hello, World\n",
      "Hello, Python\n",
      "Hello, World\n"
     ]
    }
   ],
   "source": [
    "if __name__ == '__main__':\n",
    "    my_hello(2)"
   ]
  },
  {
   "cell_type": "code",
   "execution_count": 2,
   "id": "51c48458",
   "metadata": {},
   "outputs": [],
   "source": [
    "import ch05      # ch05 모듈을 load"
   ]
  },
  {
   "cell_type": "code",
   "execution_count": 3,
   "id": "5bae6f12",
   "metadata": {},
   "outputs": [
    {
     "name": "stdout",
     "output_type": "stream",
     "text": [
      "Hello, Python\n",
      "Hello, World\n",
      "Hello, Python\n",
      "Hello, World\n"
     ]
    }
   ],
   "source": [
    "ch05.my_hello(2)"
   ]
  },
  {
   "cell_type": "code",
   "execution_count": 5,
   "id": "b9c30572",
   "metadata": {},
   "outputs": [],
   "source": [
    "from ch05 import my_hello   # ch05 모듈 안의 my_hello load"
   ]
  },
  {
   "cell_type": "code",
   "execution_count": 6,
   "id": "3359f89b",
   "metadata": {},
   "outputs": [
    {
     "name": "stdout",
     "output_type": "stream",
     "text": [
      "Hello, Python\n",
      "Hello, World\n",
      "Hello, Python\n",
      "Hello, World\n"
     ]
    }
   ],
   "source": [
    "my_hello(2)"
   ]
  },
  {
   "cell_type": "markdown",
   "id": "4a0d842f",
   "metadata": {},
   "source": [
    "## 1.2 docstring\n",
    "- 함수의 설명서\n",
    "- 함수 맨 첫라인에 작성 \n",
    "- 한줄 작성시 ' 혹은 \"로 시작. 여러줄 작성시 ''' 혹은 \"\"\" 로 시작"
   ]
  },
  {
   "cell_type": "code",
   "execution_count": 8,
   "id": "d598fbc8",
   "metadata": {},
   "outputs": [],
   "source": [
    "def my_fuction():\n",
    "    '''\n",
    "    함수의 첫라인에 독스트링을 포함할 수 있습니다.\n",
    "    독스트링은 함수의 설명서를 달아주는 역할\n",
    "    주석보다 많은 기능(shift+tab으로 독스트링을 볼 수 있음)\n",
    "    '''\n",
    "    pass"
   ]
  },
  {
   "cell_type": "code",
   "execution_count": null,
   "id": "b82bd82a",
   "metadata": {},
   "outputs": [],
   "source": [
    "my_fuction()"
   ]
  },
  {
   "cell_type": "code",
   "execution_count": 11,
   "id": "5cf330ce",
   "metadata": {},
   "outputs": [
    {
     "name": "stdout",
     "output_type": "stream",
     "text": [
      "<function my_fuction at 0x000002848B7AB9A0> \n",
      " \n",
      "    함수의 첫라인에 독스트링을 포함할 수 있습니다.\n",
      "    독스트링은 함수의 설명서를 달아주는 역할\n",
      "    주석보다 많은 기능(shift+tab으로 독스트링을 볼 수 있음)\n",
      "    \n"
     ]
    }
   ],
   "source": [
    "print(my_fuction, \"\\n\", my_fuction.__doc__)"
   ]
  },
  {
   "cell_type": "code",
   "execution_count": 12,
   "id": "790ba0ff",
   "metadata": {},
   "outputs": [],
   "source": [
    "def finonacci(n):\n",
    "    f1, f2=0,1\n",
    "    \n",
    "    while f1 < n:\n",
    "        print(f1, end=\" \")\n",
    "        f1, f2 = f2, f1+f2\n",
    "    print() # 개행"
   ]
  },
  {
   "cell_type": "code",
   "execution_count": 13,
   "id": "151bafb4",
   "metadata": {},
   "outputs": [
    {
     "name": "stdout",
     "output_type": "stream",
     "text": [
      "0 1 1 2 3 5 8 "
     ]
    }
   ],
   "source": [
    "finonacci(10)"
   ]
  },
  {
   "cell_type": "code",
   "execution_count": 14,
   "id": "21500c19",
   "metadata": {},
   "outputs": [],
   "source": [
    "if True:\n",
    "    x = 10"
   ]
  },
  {
   "cell_type": "code",
   "execution_count": 17,
   "id": "a0f005ce",
   "metadata": {},
   "outputs": [
    {
     "ename": "NameError",
     "evalue": "name 'f1' is not defined",
     "output_type": "error",
     "traceback": [
      "\u001b[1;31m---------------------------------------------------------------------------\u001b[0m",
      "\u001b[1;31mNameError\u001b[0m                                 Traceback (most recent call last)",
      "Cell \u001b[1;32mIn[17], line 1\u001b[0m\n\u001b[1;32m----> 1\u001b[0m \u001b[43mf1\u001b[49m, f2\n",
      "\u001b[1;31mNameError\u001b[0m: name 'f1' is not defined"
     ]
    }
   ],
   "source": [
    "f1, f2     # 함수에서 사용한 변수는 다른 블록에선 사용이 불가하다."
   ]
  },
  {
   "cell_type": "markdown",
   "id": "c8441805",
   "metadata": {},
   "source": [
    "## 1.3 지역변수(local var)와 전역변수(global var)\n",
    "- "
   ]
  },
  {
   "cell_type": "code",
   "execution_count": 22,
   "id": "4f49611b",
   "metadata": {},
   "outputs": [
    {
     "name": "stdout",
     "output_type": "stream",
     "text": [
      "함수안 : 100\n",
      "함수밖 : 100\n"
     ]
    }
   ],
   "source": [
    "global_var = 100  # 전역변수\n",
    "def func1():\n",
    "    print('함수안 :', global_var)\n",
    "func1()\n",
    "print('함수밖 :', global_var)"
   ]
  },
  {
   "cell_type": "code",
   "execution_count": 25,
   "id": "04a8e6e6",
   "metadata": {},
   "outputs": [
    {
     "name": "stdout",
     "output_type": "stream",
     "text": [
      "함수안 : 200\n"
     ]
    },
    {
     "ename": "NameError",
     "evalue": "name 'local_var' is not defined",
     "output_type": "error",
     "traceback": [
      "\u001b[1;31m---------------------------------------------------------------------------\u001b[0m",
      "\u001b[1;31mNameError\u001b[0m                                 Traceback (most recent call last)",
      "Cell \u001b[1;32mIn[25], line 5\u001b[0m\n\u001b[0;32m      3\u001b[0m     \u001b[38;5;28mprint\u001b[39m(\u001b[38;5;124m'\u001b[39m\u001b[38;5;124m함수안 :\u001b[39m\u001b[38;5;124m'\u001b[39m, local_var)\n\u001b[0;32m      4\u001b[0m func2()\n\u001b[1;32m----> 5\u001b[0m \u001b[38;5;28mprint\u001b[39m(\u001b[38;5;124m'\u001b[39m\u001b[38;5;124m함수밖 :\u001b[39m\u001b[38;5;124m'\u001b[39m, \u001b[43mlocal_var\u001b[49m)\n",
      "\u001b[1;31mNameError\u001b[0m: name 'local_var' is not defined"
     ]
    }
   ],
   "source": [
    "def func2():\n",
    "    local_var = 200   #지역변수\n",
    "    print('함수안 :', local_var)\n",
    "func2()\n",
    "print('함수밖 :', local_var)  # 에러발생. 지역변수는 함수 밖에서는 사용안됨"
   ]
  },
  {
   "cell_type": "code",
   "execution_count": 28,
   "id": "d7789cfb",
   "metadata": {},
   "outputs": [
    {
     "name": "stdout",
     "output_type": "stream",
     "text": [
      "함수 안(지역변수 g_var) : 200\n",
      "함수 밖(전역변수 g_var) : 100\n"
     ]
    }
   ],
   "source": [
    "g_var = 100 # 전역변수\n",
    "def func3():          # 로컬 심볼 테이블을 열고\n",
    "    g_var = 200       # 로컬 심볼 테이블에서 g_var의 변수에 200을 새로 할당(선언)\n",
    "    print('함수 안(지역변수 g_var) :', g_var)\n",
    "func3()               # 다 실행하고 나면 로컬 심볼 테이블은 없어진다\n",
    "print('함수 밖(전역변수 g_var) :', g_var)   #따라서 이전에 할당(선언)한 g_var = 100이 유지가 되는 것"
   ]
  },
  {
   "cell_type": "code",
   "execution_count": 2,
   "id": "2a39931e",
   "metadata": {},
   "outputs": [
    {
     "ename": "UnboundLocalError",
     "evalue": "local variable 'g_var' referenced before assignment",
     "output_type": "error",
     "traceback": [
      "\u001b[1;31m---------------------------------------------------------------------------\u001b[0m",
      "\u001b[1;31mUnboundLocalError\u001b[0m                         Traceback (most recent call last)",
      "Cell \u001b[1;32mIn[2], line 7\u001b[0m\n\u001b[0;32m      5\u001b[0m     g_var \u001b[38;5;241m=\u001b[39m \u001b[38;5;241m200\u001b[39m  \u001b[38;5;66;03m#지역변수        \u001b[39;00m\n\u001b[0;32m      6\u001b[0m \u001b[38;5;66;03m# 작성 순서 관계없이 변수 선언부터 컴파일을 하고 그 다음 위에서 부터 해석이 됨\u001b[39;00m\n\u001b[1;32m----> 7\u001b[0m \u001b[43mfunc4\u001b[49m\u001b[43m(\u001b[49m\u001b[43m)\u001b[49m\n",
      "Cell \u001b[1;32mIn[2], line 4\u001b[0m, in \u001b[0;36mfunc4\u001b[1;34m()\u001b[0m\n\u001b[0;32m      3\u001b[0m \u001b[38;5;28;01mdef\u001b[39;00m \u001b[38;5;21mfunc4\u001b[39m():\n\u001b[1;32m----> 4\u001b[0m     \u001b[38;5;28mprint\u001b[39m(\u001b[38;5;124m'\u001b[39m\u001b[38;5;124m함수 안 g_var :\u001b[39m\u001b[38;5;124m'\u001b[39m, \u001b[43mg_var\u001b[49m)\n\u001b[0;32m      5\u001b[0m     g_var \u001b[38;5;241m=\u001b[39m \u001b[38;5;241m200\u001b[39m\n",
      "\u001b[1;31mUnboundLocalError\u001b[0m: local variable 'g_var' referenced before assignment"
     ]
    }
   ],
   "source": [
    "# 렉시컬 특성 \n",
    "g_var = 100 # 전역변수\n",
    "def func4():\n",
    "    print('함수 안 g_var :', g_var)\n",
    "    g_var = 200  #지역변수        \n",
    "# 작성 순서 관계없이 변수 선언부터 컴파일을 하고 그 다음 위에서 부터 해석이 됨\n",
    "func4()"
   ]
  },
  {
   "cell_type": "code",
   "execution_count": 34,
   "id": "bca1f842",
   "metadata": {},
   "outputs": [
    {
     "name": "stdout",
     "output_type": "stream",
     "text": [
      "함수 안 g_var : 100\n",
      "함수 밖 g_var : 100\n"
     ]
    }
   ],
   "source": [
    "# 렉시컬 특성 \n",
    "g_var = 100 # 전역변수\n",
    "def func4():\n",
    "    global g_var  # func4 함수내의 g_var는 전역변수를 쓴다\n",
    "    print('함수 안 g_var :', g_var)\n",
    "    g_var = 200  #전역변수        \n",
    "func4()\n",
    "\n",
    "print('함수 밖 g_var :', g_var)\n",
    "# 변수 조회 우선순위 : 로컬 심볼 테이블 > 전역 심볼 테이블> 내장 된 이름 테이블"
   ]
  },
  {
   "cell_type": "markdown",
   "id": "05c1f9e1",
   "metadata": {},
   "source": [
    "## 1.4 값에 의한 호출\n",
    "- 함수의 매개변수(인수)로 전달되는 변수가 스칼라 변수(문자, 숫자, 논리형)일 때"
   ]
  },
  {
   "cell_type": "code",
   "execution_count": 3,
   "id": "e092f9d3",
   "metadata": {},
   "outputs": [
    {
     "data": {
      "text/plain": [
       "2302047512688"
      ]
     },
     "execution_count": 3,
     "metadata": {},
     "output_type": "execute_result"
    }
   ],
   "source": [
    "foo = 'a'   # 전역변수\n",
    "id(foo)"
   ]
  },
  {
   "cell_type": "code",
   "execution_count": 4,
   "id": "4e367d62",
   "metadata": {},
   "outputs": [
    {
     "name": "stdout",
     "output_type": "stream",
     "text": [
      "Before : a id(f): 2302047512688\n",
      "After : aaa id(f): 2300006058416\n"
     ]
    }
   ],
   "source": [
    "def func1(f):   # 매개변수f는 지역변수\n",
    "    print('Before :', f, 'id(f):', id(f))\n",
    "    f = f*3\n",
    "    print('After :', f, 'id(f):', id(f))\n",
    "func1(foo)"
   ]
  },
  {
   "cell_type": "code",
   "execution_count": 38,
   "id": "15572162",
   "metadata": {},
   "outputs": [
    {
     "name": "stdout",
     "output_type": "stream",
     "text": [
      "a\n"
     ]
    }
   ],
   "source": [
    "print(foo)"
   ]
  },
  {
   "cell_type": "markdown",
   "id": "011695fb",
   "metadata": {},
   "source": [
    "## 1.5 참조에 의한 호출\n",
    "- 함수의 매개변수(인수)로 전달되는 변수가 리스트, 튜플, 셋, 딕셔너리, 객체일 경우"
   ]
  },
  {
   "cell_type": "code",
   "execution_count": 55,
   "id": "bbfd5ee3",
   "metadata": {},
   "outputs": [
    {
     "data": {
      "text/plain": [
       "2768332529792"
      ]
     },
     "execution_count": 55,
     "metadata": {},
     "output_type": "execute_result"
    }
   ],
   "source": [
    "soo = [1,2,3]\n",
    "id(soo)"
   ]
  },
  {
   "cell_type": "code",
   "execution_count": 56,
   "id": "c23af07c",
   "metadata": {},
   "outputs": [
    {
     "name": "stdout",
     "output_type": "stream",
     "text": [
      "Before: [1, 2, 3] id(f): 2768332529792\n",
      "After: [1, 2, 3, 4] id(f): 2768332529792\n"
     ]
    }
   ],
   "source": [
    "def func2(f):\n",
    "    print('Before:', f, 'id(f):', id(f))\n",
    "    f.append(4)            # 재할당을 한것이 아니라 append 한 것이므로 f의 주소는 동일하다\n",
    "    print('After:', f, 'id(f):', id(f))\n",
    "func2(soo)"
   ]
  },
  {
   "cell_type": "code",
   "execution_count": 57,
   "id": "92542bc8",
   "metadata": {},
   "outputs": [
    {
     "data": {
      "text/plain": [
       "2768332529792"
      ]
     },
     "execution_count": 57,
     "metadata": {},
     "output_type": "execute_result"
    }
   ],
   "source": [
    "id(soo)"
   ]
  },
  {
   "cell_type": "markdown",
   "id": "2947010d",
   "metadata": {},
   "source": [
    "# 2절. 함수의 실행결과를 반환하는 return"
   ]
  },
  {
   "cell_type": "code",
   "execution_count": 66,
   "id": "c73db3de",
   "metadata": {},
   "outputs": [],
   "source": [
    "# return 뒤에 값을 가지고 호출한 함수로 간다\n",
    "def add(a):\n",
    "    pass   \n",
    "    "
   ]
  },
  {
   "cell_type": "code",
   "execution_count": 68,
   "id": "50b885db",
   "metadata": {},
   "outputs": [
    {
     "name": "stdout",
     "output_type": "stream",
     "text": [
      "None\n"
     ]
    }
   ],
   "source": [
    "print(add(10))"
   ]
  },
  {
   "cell_type": "code",
   "execution_count": 92,
   "id": "b9999a63",
   "metadata": {},
   "outputs": [],
   "source": [
    "# 피보나치 배열을 리턴하는 함수 만들기\n",
    "def fibonaccii_print(n):\n",
    "    '''\n",
    "    매개변수로 들어온 n값 미만의 피보나치 수열을 출력\n",
    "    ex. n=10 이면 0 1 1 2 3 4 8 을 출력\n",
    "    '''\n",
    "    f1, f2=0,1    \n",
    "    while f1 < n:\n",
    "        print(f1, end=\" \")\n",
    "        f1, f2 = f2, f1+f2\n",
    "    print()\n",
    "    \n",
    "def fibonacci_return(n):\n",
    "    '''\n",
    "    매개변수로 들어온 n값 미만의 피보나치 수열을 리스트로 return\n",
    "    ex. n=10 이면 [0 1 1 2 3 4 8] 를 만들어서 return\n",
    "    '''\n",
    "    F = []\n",
    "    f1, f2=0,1\n",
    "    while f1 < n:\n",
    "        F.append(f1)\n",
    "        f1, f2 = f2, f1+f2\n",
    "    return F             # return은 하나 값만 리턴할 수 있다."
   ]
  },
  {
   "cell_type": "code",
   "execution_count": 90,
   "id": "9efcacb6",
   "metadata": {},
   "outputs": [
    {
     "name": "stdout",
     "output_type": "stream",
     "text": [
      "0 1 1 2 3 5 8 13 21 34 55 89 \n",
      "None\n"
     ]
    }
   ],
   "source": [
    "x = fibonaccii_print(100)\n",
    "print(x)"
   ]
  },
  {
   "cell_type": "code",
   "execution_count": 93,
   "id": "28b7754e",
   "metadata": {},
   "outputs": [
    {
     "name": "stdout",
     "output_type": "stream",
     "text": [
      "[0, 1, 1, 2, 3, 5, 8, 13, 21, 34, 55, 89]\n",
      "<class 'list'>\n"
     ]
    }
   ],
   "source": [
    "x = fibonacci_return(100)\n",
    "print(x)\n",
    "print(type(x))"
   ]
  },
  {
   "cell_type": "markdown",
   "id": "fc33080a",
   "metadata": {},
   "source": [
    "## 여러 개 값 return"
   ]
  },
  {
   "cell_type": "code",
   "execution_count": 7,
   "id": "4f543459",
   "metadata": {},
   "outputs": [],
   "source": [
    "def swap(a,b):\n",
    "    '매개 변수의 순서를 바꿔서 리턴'\n",
    "    return b, a       # 자동으로 튜플로 팩킹하여 전달\n"
   ]
  },
  {
   "cell_type": "code",
   "execution_count": 98,
   "id": "4746ca5e",
   "metadata": {},
   "outputs": [
    {
     "name": "stdout",
     "output_type": "stream",
     "text": [
      "함수 실행 전 x=10, y=11\n",
      "함수 실행 후 x=11, y=10\n"
     ]
    }
   ],
   "source": [
    "x, y= 10, 11  # => x, y = (10, 11)\n",
    "print(f'함수 실행 전 x={x}, y={y}')\n",
    "x, y = swap(x, y)\n",
    "print(f'함수 실행 후 x={x}, y={y}')"
   ]
  },
  {
   "cell_type": "markdown",
   "id": "3d19726a",
   "metadata": {},
   "source": [
    "# 3절. 함수 매개변수 ★\n",
    "## 3.1 기본값을 갖는 매개변수"
   ]
  },
  {
   "cell_type": "code",
   "execution_count": 102,
   "id": "ea6b2fc8",
   "metadata": {},
   "outputs": [],
   "source": [
    "def make_url(ip,port=80):  # port의 기본값을 80으로 두겠다\n",
    "    return \"http://{}:{}\".format(ip, port)\n",
    "# 순서인수(기본값을 갖지 않는 매개변수) > 기본값을 갖는 매개변수"
   ]
  },
  {
   "cell_type": "code",
   "execution_count": 106,
   "id": "977e16a8",
   "metadata": {},
   "outputs": [
    {
     "name": "stdout",
     "output_type": "stream",
     "text": [
      "http://www.naver.com:80\n",
      "http://localhost:8090\n",
      "http://localhost:8090\n"
     ]
    }
   ],
   "source": [
    "print(make_url('www.naver.com'))\n",
    "print(make_url('localhost',8090))\n",
    "print(make_url(port=8090, ip='localhost'))  # 함수를 호출할때 키워드 인수(인수에 매개변수 이름과 값을 넣으면) 순서 관계 없이 처리됨"
   ]
  },
  {
   "cell_type": "markdown",
   "id": "d1c2433a",
   "metadata": {},
   "source": [
    "## 3.2 기본 변수를 갖는 매개변수\n",
    "- 기본 변수가 스칼라 변수일 때\n",
    "- 기본 변수가 리스트, 셋, 딕셔너리 등의 객체일 때"
   ]
  },
  {
   "cell_type": "code",
   "execution_count": 8,
   "id": "369407cb",
   "metadata": {},
   "outputs": [],
   "source": [
    "i = 5\n",
    "\n",
    "# 기본 값을 갖는 변수가 스칼라 변수일때 : arg의 기본값은 함수가 정의되는 시점의 값\n",
    "def func2(arg=i):\n",
    "    print('arg=', arg)"
   ]
  },
  {
   "cell_type": "code",
   "execution_count": 9,
   "id": "88b2db07",
   "metadata": {},
   "outputs": [
    {
     "name": "stdout",
     "output_type": "stream",
     "text": [
      "arg= 5\n"
     ]
    }
   ],
   "source": [
    "i = 50    # 이미 함수가 정의된 이후이므로, 함수 내 i의 값이 변하지 않는 것\n",
    "func2()"
   ]
  },
  {
   "cell_type": "code",
   "execution_count": 114,
   "id": "03395fb6",
   "metadata": {},
   "outputs": [],
   "source": [
    "list_ = []\n",
    "# 기본 값을 갖는 변수가 객체(데이터구조) 일 때 : 참조된 객체를 호출하는 시점의 값\n",
    "def func3(data, L=list_):\n",
    "    'data를 L에 append'\n",
    "    L.append(data)\n",
    "    return L"
   ]
  },
  {
   "cell_type": "code",
   "execution_count": 121,
   "id": "1bcc24b7",
   "metadata": {},
   "outputs": [
    {
     "data": {
      "text/plain": [
       "[10, 9, 3, 8, 10]"
      ]
     },
     "execution_count": 121,
     "metadata": {},
     "output_type": "execute_result"
    }
   ],
   "source": [
    "func3(10)   # list_가 수정"
   ]
  },
  {
   "cell_type": "code",
   "execution_count": 127,
   "id": "ee022750",
   "metadata": {},
   "outputs": [],
   "source": [
    "def func4(data, L=None):\n",
    "    if L==None:\n",
    "        L =[]\n",
    "    L.append(data)\n",
    "    return L"
   ]
  },
  {
   "cell_type": "code",
   "execution_count": 129,
   "id": "ae5cc8b4",
   "metadata": {},
   "outputs": [
    {
     "name": "stdout",
     "output_type": "stream",
     "text": [
      "[10]\n",
      "[10]\n"
     ]
    }
   ],
   "source": [
    "print(func4(10))\n",
    "print(func4(10, ))"
   ]
  },
  {
   "cell_type": "markdown",
   "id": "443a0fbf",
   "metadata": {},
   "source": [
    "## 3.3 튜플 매개변수를 이용한 가변인수 설정\n",
    "- *인수 로 작성하면 함수에 1개부터 n개의 인수를 입력할 수 있게 되는데 이를 튜플 매개변수라고 함"
   ]
  },
  {
   "cell_type": "code",
   "execution_count": null,
   "id": "c4413e6e",
   "metadata": {},
   "outputs": [],
   "source": [
    "# 파이썬은 오버로딩(함수의 중복)을 지원하지 않음\n",
    "def add(a,b):\n",
    "    return a+b\n",
    "def add(a,b,c,d):\n",
    "    return a+b+c+d"
   ]
  },
  {
   "cell_type": "code",
   "execution_count": 135,
   "id": "f4df0fa4",
   "metadata": {},
   "outputs": [],
   "source": [
    "# args : 매개변수들을 하나의 튜플 변수 args로 전달받음 <- 튜플 매개변수\n",
    "def add(*args):\n",
    "    '전달 받은 매개변수 들의 합을 return'\n",
    "    #print('args:', args)\n",
    "    result_tot = 0     #누적변수\n",
    "    for num in args:\n",
    "        result_tot += num \n",
    "    return result_tot\n",
    "        "
   ]
  },
  {
   "cell_type": "code",
   "execution_count": 136,
   "id": "b8171235",
   "metadata": {},
   "outputs": [
    {
     "data": {
      "text/plain": [
       "60"
      ]
     },
     "execution_count": 136,
     "metadata": {},
     "output_type": "execute_result"
    }
   ],
   "source": [
    "add(10,20,30)"
   ]
  },
  {
   "cell_type": "code",
   "execution_count": 19,
   "id": "606c6664",
   "metadata": {},
   "outputs": [],
   "source": [
    "subject = 'Python', 'Oracle', 'DL', 'ML'"
   ]
  },
  {
   "cell_type": "code",
   "execution_count": 23,
   "id": "ee4b48cd",
   "metadata": {},
   "outputs": [
    {
     "data": {
      "text/plain": [
       "'Python/Oracle/DL/ML'"
      ]
     },
     "execution_count": 23,
     "metadata": {},
     "output_type": "execute_result"
    }
   ],
   "source": [
    "def concat(*subject, sep):\n",
    "    return sep.join(subject)\n",
    "concat(*subject, sep='/')\n",
    "#       => python/Oracle/webStandard/javaScript"
   ]
  },
  {
   "cell_type": "code",
   "execution_count": 141,
   "id": "80a03c2e",
   "metadata": {},
   "outputs": [
    {
     "data": {
      "text/plain": [
       "'Python/Oracle/webStandard,DL/ML'"
      ]
     },
     "execution_count": 141,
     "metadata": {},
     "output_type": "execute_result"
    }
   ],
   "source": [
    "# 에러 해결책 1 : 매개변수 이름을 지정해서 호출\n",
    "concat(\"Python\", \"Oracle\", \"webStandard,\" 'DL', 'ML', sep='/')"
   ]
  },
  {
   "cell_type": "code",
   "execution_count": 144,
   "id": "7287300d",
   "metadata": {},
   "outputs": [
    {
     "data": {
      "text/plain": [
       "'Python ~ Oracle ~ webStandard,DL ~ ML'"
      ]
     },
     "execution_count": 144,
     "metadata": {},
     "output_type": "execute_result"
    }
   ],
   "source": [
    "# 해결책 2 : 함수 만들때부터 기본값을 갖는 키워드 인수로 사용\n",
    "\n",
    "def concat(*subject, sep=' ~ '):    # 키워드 인수 sep=\n",
    "    return sep.join(subject)\n",
    "concat(\"Python\", \"Oracle\", \"webStandard,\" 'DL', 'ML')"
   ]
  },
  {
   "cell_type": "code",
   "execution_count": 146,
   "id": "7b4933fc",
   "metadata": {},
   "outputs": [
    {
     "data": {
      "text/plain": [
       "'Python / Oracle / webStandard,DL / ML'"
      ]
     },
     "execution_count": 146,
     "metadata": {},
     "output_type": "execute_result"
    }
   ],
   "source": [
    "concat(\"Python\", \"Oracle\", \"webStandard,\" 'DL', 'ML', sep=\" / \")"
   ]
  },
  {
   "cell_type": "code",
   "execution_count": 150,
   "id": "768c1f10",
   "metadata": {},
   "outputs": [],
   "source": [
    "# 해결책 3 sep을 순서인수로 앞에 선언. 단, 기본값을 선언해봐야 무의미함\n",
    "def concat(sep=' ~ ', *subject):\n",
    "    return sep.join(subject)\n"
   ]
  },
  {
   "cell_type": "code",
   "execution_count": 155,
   "id": "f9207d56",
   "metadata": {},
   "outputs": [
    {
     "name": "stdout",
     "output_type": "stream",
     "text": [
      "Python / Oracle / webStandard / DL / ML\n",
      "OraclePythonwebStandardPythonDLPythonML\n"
     ]
    }
   ],
   "source": [
    "print(concat(' / ', \"Python\", \"Oracle\", \"webStandard\", 'DL', 'ML'))\n",
    "print(concat(\"Python\", \"Oracle\", \"webStandard\", 'DL', 'ML'))  \n",
    "# ' / ' 생략하면 맨 앞 인자가 sep이 됨. 즉, 기본값을 선언해봐야 무의미함"
   ]
  },
  {
   "cell_type": "markdown",
   "id": "599fc5db",
   "metadata": {},
   "source": [
    "## 3.4 딕셔너리 매개변수\n",
    "- 여러 개의 키워드 인수를 딕셔너리 형태로 받아서 가변 키워드 인수 처리"
   ]
  },
  {
   "cell_type": "code",
   "execution_count": 24,
   "id": "de6c3040",
   "metadata": {},
   "outputs": [],
   "source": [
    "def func5(**kwargs):\n",
    "#    print(kwargs)\n",
    "    print(type(kwargs))\n",
    "    print('이름 : ', kwargs.get('name', '대마왕'))\n",
    "    print('나이 : ', kwargs.get('age', 30))\n",
    "    print('주소 : ', kwargs.get('address', '서울'))"
   ]
  },
  {
   "cell_type": "code",
   "execution_count": 25,
   "id": "ae54d0ba",
   "metadata": {},
   "outputs": [
    {
     "name": "stdout",
     "output_type": "stream",
     "text": [
      "<class 'dict'>\n",
      "이름 :  홍길동\n",
      "나이 :  30\n",
      "주소 :  신림동\n"
     ]
    }
   ],
   "source": [
    "func5(name='홍길동', age=30, address='신림동')"
   ]
  },
  {
   "cell_type": "code",
   "execution_count": 165,
   "id": "5ff4eb31",
   "metadata": {},
   "outputs": [
    {
     "name": "stdout",
     "output_type": "stream",
     "text": [
      "<class 'dict'>\n",
      "이름 :  대마왕\n",
      "나이 :  18888\n",
      "주소 :  서울\n"
     ]
    }
   ],
   "source": [
    "func5(age=18888)"
   ]
  },
  {
   "cell_type": "markdown",
   "id": "aaf80e98",
   "metadata": {},
   "source": [
    "## 3.5 함수 정의시 매개변수 순서\n",
    "- 순서인수 > 튜플매개변수(*) > 키워드인수(매개변수이름 명시) > 딕셔너리매개변수(**)"
   ]
  },
  {
   "cell_type": "code",
   "execution_count": 27,
   "id": "a7b87b04",
   "metadata": {},
   "outputs": [],
   "source": [
    "def func6(a, b, *c, **d):\n",
    "    print('순서인수 a:', a)\n",
    "    print('순서인수 b:', b)\n",
    "    print('튜플인수 c:', c)\n",
    "    print('딕셔너리인수 d:', d)"
   ]
  },
  {
   "cell_type": "code",
   "execution_count": 28,
   "id": "c5783549",
   "metadata": {},
   "outputs": [
    {
     "name": "stdout",
     "output_type": "stream",
     "text": [
      "순서인수 a: 10\n",
      "순서인수 b: 20\n",
      "튜플인수 c: (1, 2, 3, 4, 5)\n",
      "딕셔너리인수 d: {'name': '홍길동', 'age': 30, 'address': '서울'}\n"
     ]
    }
   ],
   "source": [
    "func6(10,20, 1,2,3,4,5, name='홍길동', age=30, address='서울')"
   ]
  },
  {
   "cell_type": "code",
   "execution_count": 30,
   "id": "44c00055",
   "metadata": {},
   "outputs": [],
   "source": [
    "def func7(a,b,*c, d='기본값', **e):\n",
    "    print('순서인수 a:', a)\n",
    "    print('순서인수 b:', b)\n",
    "    print('튜플인수 c:', c)\n",
    "    print('키워드인수 d:', d)    #(키워드 인수 : 기본값을 갖는 인수, 호출시 매개변수 이름을 반드시 명시)\n",
    "    print('딕셔너리인수 e:', e)"
   ]
  },
  {
   "cell_type": "code",
   "execution_count": 32,
   "id": "fad3699b",
   "metadata": {},
   "outputs": [
    {
     "name": "stdout",
     "output_type": "stream",
     "text": [
      "순서인수 a: 10\n",
      "순서인수 b: 20\n",
      "튜플인수 c: (1, 2, 3, 4, 5)\n",
      "키워드인수 d: 카페\n",
      "딕셔너리인수 e: {'name': '홍길동', 'age': 30, 'address': '서울'}\n"
     ]
    }
   ],
   "source": [
    "func7(10,20, 1,2,3,4,5, d='카페', name='홍길동', age=30, address='서울')"
   ]
  },
  {
   "cell_type": "code",
   "execution_count": 171,
   "id": "1e9accb8",
   "metadata": {},
   "outputs": [
    {
     "name": "stdout",
     "output_type": "stream",
     "text": [
      "순서인수 a: 10\n",
      "순서인수 b: 20\n",
      "튜플인수 c: (1, 2, 3, 4, 5, '카페')\n",
      "키워드인수 d: 기본값\n",
      "딕셔너리인수 e: {'name': '홍길동', 'age': 30, 'address': '서울'}\n"
     ]
    }
   ],
   "source": [
    "func7(10,20, 1,2,3,4,5, '카페', name='홍길동', age=30, address='서울')"
   ]
  },
  {
   "cell_type": "markdown",
   "id": "d03e62d2",
   "metadata": {},
   "source": [
    "## 3.6 인수의 언패킹\n",
    "### 튜플 인수 언패킹\n",
    "- 언패킹 : 함수 호출시 매개변수 앞에 *붙임\n",
    "- 패킹 : 함수 정의시 매개변수 앞에 * 붙임"
   ]
  },
  {
   "cell_type": "code",
   "execution_count": 179,
   "id": "834b90fb",
   "metadata": {},
   "outputs": [],
   "source": [
    "def add(*args):\n",
    "    print(args)\n",
    "    tot = 0\n",
    "    for num in args:\n",
    "        tot += num\n",
    "    return tot"
   ]
  },
  {
   "cell_type": "code",
   "execution_count": 180,
   "id": "1d0af3ba",
   "metadata": {},
   "outputs": [
    {
     "name": "stdout",
     "output_type": "stream",
     "text": [
      "(1, 2, 3, 4, 5)\n"
     ]
    },
    {
     "data": {
      "text/plain": [
       "15"
      ]
     },
     "execution_count": 180,
     "metadata": {},
     "output_type": "execute_result"
    }
   ],
   "source": [
    "add(1,2,3,4,5)"
   ]
  },
  {
   "cell_type": "code",
   "execution_count": 182,
   "id": "683e985a",
   "metadata": {},
   "outputs": [
    {
     "name": "stdout",
     "output_type": "stream",
     "text": [
      "(1, 2, 3, 4, 5)\n"
     ]
    },
    {
     "data": {
      "text/plain": [
       "15"
      ]
     },
     "execution_count": 182,
     "metadata": {},
     "output_type": "execute_result"
    }
   ],
   "source": [
    "numbers = [1,2,3,4,5]\n",
    "add(*numbers)  # 언패킹  * 튜플과 리스트 둘다 언패킹 가능"
   ]
  },
  {
   "cell_type": "code",
   "execution_count": 183,
   "id": "42fd58be",
   "metadata": {},
   "outputs": [
    {
     "name": "stdout",
     "output_type": "stream",
     "text": [
      "(1, 2, 3, 4, 5)\n"
     ]
    },
    {
     "data": {
      "text/plain": [
       "15"
      ]
     },
     "execution_count": 183,
     "metadata": {},
     "output_type": "execute_result"
    }
   ],
   "source": [
    "numbers = (1,2,3,4,5)\n",
    "add(*numbers)"
   ]
  },
  {
   "cell_type": "markdown",
   "id": "caea75e3",
   "metadata": {},
   "source": [
    "### 딕셔너리 인수 언패킹\n",
    "- 언패킹 : 함수 호출시 매개변수 앞에 ** 붙임\n",
    "- 패킹 : 함수 정의시 매개변수 앞에 ** 붙임"
   ]
  },
  {
   "cell_type": "code",
   "execution_count": 190,
   "id": "16299f29",
   "metadata": {},
   "outputs": [],
   "source": [
    "def func5(**data):\n",
    "    print(type(data))\n",
    "    for key, item in data.items():\n",
    "        print(f'{key}:{item}')        "
   ]
  },
  {
   "cell_type": "code",
   "execution_count": 191,
   "id": "9f7df472",
   "metadata": {},
   "outputs": [
    {
     "name": "stdout",
     "output_type": "stream",
     "text": [
      "<class 'dict'>\n",
      "name:Killdong\n",
      "age:30\n",
      "address:Seoul\n"
     ]
    }
   ],
   "source": [
    "func5(name='Killdong', age=30, address='Seoul')"
   ]
  },
  {
   "cell_type": "code",
   "execution_count": 192,
   "id": "b88c6501",
   "metadata": {},
   "outputs": [
    {
     "name": "stdout",
     "output_type": "stream",
     "text": [
      "<class 'dict'>\n",
      "name:홍길동\n",
      "age:30\n",
      "address:서울시 강남구\n",
      "score:900\n"
     ]
    }
   ],
   "source": [
    "customInfo = {'name':'홍길동', 'age':30, 'address':'서울시 강남구', 'score':900}\n",
    "func5(**customInfo)"
   ]
  },
  {
   "cell_type": "markdown",
   "id": "145c1b3b",
   "metadata": {},
   "source": [
    "# 4절. 람다식(lambda)\n",
    "- return 한줄짜리 작은 익명 함수. \n",
    "- **lambda 매개변수 : 명령문**     # 리턴을 해야할때만 사용\n",
    "- 이름이 없으므로 호출을 하려면 \"람다식을 변수에 할당\"하거나 \"람다식(매개변수)\" 방식으로 사용\n",
    "## 4.1 람다식 연습"
   ]
  },
  {
   "cell_type": "code",
   "execution_count": 193,
   "id": "2941b974",
   "metadata": {},
   "outputs": [
    {
     "data": {
      "text/plain": [
       "7"
      ]
     },
     "execution_count": 193,
     "metadata": {},
     "output_type": "execute_result"
    }
   ],
   "source": [
    "def add(a,b):\n",
    "    return a+b\n",
    "add(3,4)"
   ]
  },
  {
   "cell_type": "code",
   "execution_count": 196,
   "id": "a92a6049",
   "metadata": {},
   "outputs": [
    {
     "data": {
      "text/plain": [
       "6"
      ]
     },
     "execution_count": 196,
     "metadata": {},
     "output_type": "execute_result"
    }
   ],
   "source": [
    "add2= lambda a, b : a+b\n",
    "add2(5,1)"
   ]
  },
  {
   "cell_type": "code",
   "execution_count": 198,
   "id": "6a24c349",
   "metadata": {},
   "outputs": [
    {
     "name": "stdout",
     "output_type": "stream",
     "text": [
      "<class 'function'> <class 'function'>\n"
     ]
    }
   ],
   "source": [
    "print(type(add), type(add2))"
   ]
  },
  {
   "cell_type": "code",
   "execution_count": 197,
   "id": "70a5ba1c",
   "metadata": {},
   "outputs": [
    {
     "data": {
      "text/plain": [
       "7"
      ]
     },
     "execution_count": 197,
     "metadata": {},
     "output_type": "execute_result"
    }
   ],
   "source": [
    "(lambda a, b : a+b)(3,4)"
   ]
  },
  {
   "cell_type": "code",
   "execution_count": 231,
   "id": "a3dbe041",
   "metadata": {},
   "outputs": [
    {
     "data": {
      "text/plain": [
       "'짝수'"
      ]
     },
     "execution_count": 231,
     "metadata": {},
     "output_type": "execute_result"
    }
   ],
   "source": [
    "# ex1. 매개변수로 들어온 값이 '짝수'인지 '홀수'인지 리턴\n",
    "# 일반 함수로 선언\n",
    "def ex1(num):\n",
    "    if num %2:\n",
    "        result = '홀수'\n",
    "    else:\n",
    "        result = '짝수' \n",
    "    return result\n",
    "ex1(6)"
   ]
  },
  {
   "cell_type": "code",
   "execution_count": 232,
   "id": "896d398c",
   "metadata": {},
   "outputs": [
    {
     "data": {
      "text/plain": [
       "'홀수'"
      ]
     },
     "execution_count": 232,
     "metadata": {},
     "output_type": "execute_result"
    }
   ],
   "source": [
    "# 람다식으로 선언\n",
    "ex1 = lambda num : '홀수' if num%2 else '짝수'\n",
    "ex1(3)"
   ]
  },
  {
   "cell_type": "code",
   "execution_count": 206,
   "id": "7b287055",
   "metadata": {},
   "outputs": [
    {
     "data": {
      "text/plain": [
       "5"
      ]
     },
     "execution_count": 206,
     "metadata": {},
     "output_type": "execute_result"
    }
   ],
   "source": [
    "# ex2. 2개의 매개변수의 차이를 리턴 (큰수에서 작은수 빼기)\n",
    "\n",
    "ex2 = lambda a,b : a-b if a>b else b-a\n",
    "ex2(5,10)"
   ]
  },
  {
   "cell_type": "code",
   "execution_count": 233,
   "id": "538b501f",
   "metadata": {},
   "outputs": [
    {
     "data": {
      "text/plain": [
       "0"
      ]
     },
     "execution_count": 233,
     "metadata": {},
     "output_type": "execute_result"
    }
   ],
   "source": [
    "# ex3. 매개변수로 잔액을 받아 양수면 잔액을 리턴, 음수면 'negative' 리턴\n",
    "\n",
    "ex3 = lambda money : money if money>=0 else 'negative' \n",
    "ex3(0)"
   ]
  },
  {
   "cell_type": "code",
   "execution_count": 236,
   "id": "67a90413",
   "metadata": {},
   "outputs": [
    {
     "data": {
      "text/plain": [
       "'B팀'"
      ]
     },
     "execution_count": 236,
     "metadata": {},
     "output_type": "execute_result"
    }
   ],
   "source": [
    "# ex4. 점수를 입력받아 80점 이상은 'A팀', 60점 이상은 'B팀' 60점 미만은 재시험, 그외는 유효하지 않음\n",
    "\n",
    "ex4 = lambda score : 'A팀' if 100>= score >=80 else \\\n",
    "                    'B팀' if 80> score >=60 else \\\n",
    "                    '재시험' if 60> score >=0  else \\\n",
    "                    '유효하지 않음'\n",
    "ex4(60)"
   ]
  },
  {
   "cell_type": "code",
   "execution_count": 225,
   "id": "3386ffa4",
   "metadata": {},
   "outputs": [
    {
     "data": {
      "text/plain": [
       "-1"
      ]
     },
     "execution_count": 225,
     "metadata": {},
     "output_type": "execute_result"
    }
   ],
   "source": [
    "# ex5. safe_index 를 람다식으로\n",
    "def safe_index(lst, data):\n",
    "     if data in lst: # lst 안에 data가 있는지 여부\n",
    "        return lst.index(data)\n",
    "     else:\n",
    "        return -1  \n",
    "\n",
    "ex5 = lambda lst, data : lst.index(data) if data in lst else -1\n",
    "ex5([1,2,3,4,5],0)"
   ]
  },
  {
   "cell_type": "markdown",
   "id": "d8d1a436",
   "metadata": {},
   "source": [
    "## 4.2 함수의 매개변수에 람다식 이용\n",
    "```\n",
    "def func(fun, data):\n",
    "    명령어\n",
    "```\n",
    "### (1) map"
   ]
  },
  {
   "cell_type": "code",
   "execution_count": 2,
   "id": "5d3fba29",
   "metadata": {},
   "outputs": [],
   "source": [
    "def map_template(func, lst=[]):\n",
    "    '''\n",
    "    lst의 모든 요소를 func함수를 적용시켜 return\n",
    "    [func(l) for l in lst]\n",
    "    '''\n",
    "#     result=[]    \n",
    "#     for l in lst:\n",
    "#         result.append(func(l))\n",
    "#    return result\n",
    "\n",
    "# 리스트 컴프리헨션\n",
    "\n",
    "    return [func(l) for l in lst]\n",
    "    \n",
    "# def map_template_l(lambda x:x*2, lst)   "
   ]
  },
  {
   "cell_type": "code",
   "execution_count": 3,
   "id": "5be91d08",
   "metadata": {},
   "outputs": [
    {
     "data": {
      "text/plain": [
       "[2, 4, 6, 8, 10, 12, 14, 16, 18, 20]"
      ]
     },
     "execution_count": 3,
     "metadata": {},
     "output_type": "execute_result"
    }
   ],
   "source": [
    "# 리스트 데이터를 가공 방법 1. map_template\n",
    "list_data = [1,2,3,4,5,6,7,8,9,10]\n",
    "map_template(lambda x : x*2, list_data)"
   ]
  },
  {
   "cell_type": "code",
   "execution_count": null,
   "id": "1abca7e7",
   "metadata": {},
   "outputs": [],
   "source": [
    "# 리스트 데이터를 가공 방법 2. 리스트 컴프리헨션\n",
    "[l**2 for l in list_data]"
   ]
  },
  {
   "cell_type": "code",
   "execution_count": 5,
   "id": "73cc171a",
   "metadata": {},
   "outputs": [
    {
     "data": {
      "text/plain": [
       "[2, 4, 6, 8, 10, 12, 14, 16, 18, 20]"
      ]
     },
     "execution_count": 5,
     "metadata": {},
     "output_type": "execute_result"
    }
   ],
   "source": [
    "# 리스트 데이터를 가공 방법 3. map() : 파이썬 내장함수\n",
    "list(map(lambda x: x*2, list_data))"
   ]
  },
  {
   "cell_type": "code",
   "execution_count": 6,
   "id": "45fe3f2e",
   "metadata": {},
   "outputs": [
    {
     "name": "stdout",
     "output_type": "stream",
     "text": [
      "2 4 6 8 10 12 14 16 18 20 "
     ]
    }
   ],
   "source": [
    "for item in map(lambda x: x*2, list_data):\n",
    "    print(item, end=' ')"
   ]
  },
  {
   "cell_type": "code",
   "execution_count": 12,
   "id": "e688e3ac",
   "metadata": {},
   "outputs": [
    {
     "data": {
      "text/plain": [
       "'5000'"
      ]
     },
     "execution_count": 12,
     "metadata": {},
     "output_type": "execute_result"
    }
   ],
   "source": [
    "p1 = '5,000'\n",
    "p2 = p1.replace(',','')\n",
    "p2"
   ]
  },
  {
   "cell_type": "code",
   "execution_count": 13,
   "id": "5f1f3acb",
   "metadata": {},
   "outputs": [
    {
     "data": {
      "text/plain": [
       "['5000', '800', '1000', '6000']"
      ]
     },
     "execution_count": 13,
     "metadata": {},
     "output_type": "execute_result"
    }
   ],
   "source": [
    "# 예제 1. 아래 리스트를  price = ['5000', '800', '1000', '6000'] 로 바꾸시오\n",
    "price = ['5,000', '800', '1000', '6,000']\n",
    "\n",
    "list(map(lambda p : p.replace(',',''), price))"
   ]
  },
  {
   "cell_type": "code",
   "execution_count": 32,
   "id": "ebd0650a",
   "metadata": {},
   "outputs": [],
   "source": [
    "# 예제 2. member1을 member2로 바꿔라\n",
    "'''\n",
    "member1 = [{'name':'홍길동', 'birth':'2000-01-01'},\n",
    "          {'name':'신길동', 'birth':'1998-12-31'}]를\n",
    "member2 = [{'name':'홍길동', 'year':2000, 'month':1, 'day':1},\n",
    "          {'name':'신길동', 'year':1998, 'month':12, 'day':31}]\n",
    "'''          \n",
    "member1 = [{'name':'홍길동', 'birth':'2000-01-01'},\n",
    "          {'name':'신길동', 'birth':'1998-12-31'}]\n",
    "\n",
    "\n",
    "# year : int(member1[0]['birth'].split('-')[0])\n",
    "# month : int(member1[0]['birth'].split('-')[1])\n",
    "# day : int(member1[0]['birth'].split('-')[2])"
   ]
  },
  {
   "cell_type": "code",
   "execution_count": 29,
   "id": "66a2445a",
   "metadata": {},
   "outputs": [
    {
     "data": {
      "text/plain": [
       "{'year': 2000, 'month': 1, 'day': 1}"
      ]
     },
     "execution_count": 29,
     "metadata": {},
     "output_type": "execute_result"
    }
   ],
   "source": [
    "# '2000-01-01' => {'year':2000, 'month':1, 'day':1}\n",
    "def split_date(date):\n",
    "    split_data = date.split('-')\n",
    "    return {'year':int(split_data[0]),\n",
    "            'month':int(split_data[1]),\n",
    "            'day':int(split_data[2])}\n",
    "\n",
    "split_date('2000-01-01')"
   ]
  },
  {
   "cell_type": "code",
   "execution_count": 36,
   "id": "1c209f3e",
   "metadata": {},
   "outputs": [
    {
     "data": {
      "text/plain": [
       "{'name': '홍길동', 'year': 2000, 'month': 1, 'day': 1}"
      ]
     },
     "execution_count": 36,
     "metadata": {},
     "output_type": "execute_result"
    }
   ],
   "source": [
    "def member_func(member):\n",
    "    \"{'name':'홍길동', 'year':1998, 'month':12, 'day':31} 식으로 리턴\"\n",
    "    return {\n",
    "       'name':member.get('name'),\n",
    "        'year' : int(member['birth'].split('-')[0]),\n",
    "        'month' : int(member['birth'].split('-')[1]),\n",
    "        'day' : int(member['birth'].split('-')[2]),\n",
    "        \n",
    "    }\n",
    "member_func(member1[0])"
   ]
  },
  {
   "cell_type": "code",
   "execution_count": 37,
   "id": "612fc1aa",
   "metadata": {},
   "outputs": [
    {
     "data": {
      "text/plain": [
       "[{'name': '홍길동', 'year': 2000, 'month': 1, 'day': 1},\n",
       " {'name': '신길동', 'year': 1998, 'month': 12, 'day': 31}]"
      ]
     },
     "execution_count": 37,
     "metadata": {},
     "output_type": "execute_result"
    }
   ],
   "source": [
    "member2 = list(map(lambda member : {\n",
    "                       'name':member.get('name'),\n",
    "                        'year' : int(member['birth'].split('-')[0]),\n",
    "                        'month' : int(member['birth'].split('-')[1]),\n",
    "                        'day' : int(member['birth'].split('-')[2]),\n",
    "                        },\n",
    "        member1\n",
    "        )\n",
    "    )\n",
    "member2"
   ]
  },
  {
   "cell_type": "code",
   "execution_count": null,
   "id": "895b16b5",
   "metadata": {},
   "outputs": [],
   "source": [
    "# 예제 3. member2을 member1로 바꿔라\n",
    "# JOIN사용 번잡해서 사용성이나 가독성이 좋지 않다\n",
    "def join_date(data):\n",
    "    year = str(data.get('year'))\n",
    "    month = data.get('month')\n",
    "    if month<10:\n",
    "        month = '0'+ str(month)\n",
    "    else:\n",
    "        month = str(month)\n",
    "    day = data.get('day')\n",
    "    if day <10:\n",
    "        day = '0'+ str(day)\n",
    "    else:\n",
    "        day = str(day)\n",
    "    return '-'.join([year, month, day])"
   ]
  },
  {
   "cell_type": "code",
   "execution_count": null,
   "id": "00165dd2",
   "metadata": {},
   "outputs": [],
   "source": [
    "def join_date(data):\n",
    "    print('{}-{:02}-{:02}'.format(data.get('year'),\n",
    "                                  data.get('month'),\n",
    "                                  data.get('day')))\n",
    "#더 간단하게 해보자"
   ]
  },
  {
   "cell_type": "code",
   "execution_count": 62,
   "id": "db31e598",
   "metadata": {},
   "outputs": [],
   "source": [
    "def join_date(data):\n",
    "    print('{year}-{day:02}-{day:02}'.format(\n",
    "                                    year = data.get('year'),\n",
    "                                    month = data.get('month'),\n",
    "                                    day = data.get('day')))\n",
    "#어려워보이지만 아래로 더 간단하게 해보자"
   ]
  },
  {
   "cell_type": "code",
   "execution_count": 64,
   "id": "fd91d2a1",
   "metadata": {},
   "outputs": [],
   "source": [
    "def join_date(data):\n",
    "    print('{year}-{month:02}-{day:02}'.format(**data))"
   ]
  },
  {
   "cell_type": "code",
   "execution_count": 65,
   "id": "08b056d5",
   "metadata": {},
   "outputs": [
    {
     "name": "stdout",
     "output_type": "stream",
     "text": [
      "1998-31-31\n"
     ]
    }
   ],
   "source": [
    "join_date({'year': 1998, 'month': 12, 'day': 31})"
   ]
  },
  {
   "cell_type": "code",
   "execution_count": 66,
   "id": "809fd325",
   "metadata": {},
   "outputs": [
    {
     "data": {
      "text/plain": [
       "[{'name': '홍길동', 'birth': '2000-01-01'},\n",
       " {'name': '신길동', 'birth': '1998-31-31'}]"
      ]
     },
     "execution_count": 66,
     "metadata": {},
     "output_type": "execute_result"
    }
   ],
   "source": [
    "list(map(lambda member : {\n",
    "                'name' : member.get('name'),\n",
    "                'birth' : '{year}-{day:02}-{day:02}'.format(**member)\n",
    "                        },\n",
    "        member2)\n",
    "    )"
   ]
  },
  {
   "cell_type": "code",
   "execution_count": null,
   "id": "1d0e580e",
   "metadata": {},
   "outputs": [],
   "source": []
  },
  {
   "cell_type": "code",
   "execution_count": 58,
   "id": "a02e9047",
   "metadata": {},
   "outputs": [
    {
     "data": {
      "text/plain": [
       "[{'name': '홍길동', 'birth': '2000-01-01'},\n",
       " {'name': '신길동', 'birth': '1998-12-31'}]"
      ]
     },
     "execution_count": 58,
     "metadata": {},
     "output_type": "execute_result"
    }
   ],
   "source": [
    "# 예제 3. member2을 member1로 바꿔라\n",
    "\n",
    "member_1 = list(map(lambda member : {\n",
    "                                    'name':member.get('name'),\n",
    "                                    'birth':'{}-{:02}-{:02}'.format(member['year'],\n",
    "                                                                   member['month'],\n",
    "                                                                   member['day'])\n",
    "                                    },\n",
    "                   member2)\n",
    "               )\n",
    "member_1"
   ]
  },
  {
   "cell_type": "markdown",
   "id": "283aca36",
   "metadata": {},
   "source": [
    "### (2) filter\n",
    "- map처리 : 벡터의 모든 데이터를 가공. \n",
    "- filter : 조건에 부합하는 데이터를 추출.\n",
    "- cf. 리스트 컴프리헨션"
   ]
  },
  {
   "cell_type": "code",
   "execution_count": 67,
   "id": "cf43a19c",
   "metadata": {},
   "outputs": [],
   "source": [
    "def filter_template(func, L=[]):\n",
    "    result = []\n",
    "    for l in L:\n",
    "        if func(l):\n",
    "            result.append(l)\n",
    "        \n",
    "    return result       "
   ]
  },
  {
   "cell_type": "code",
   "execution_count": 69,
   "id": "ed71a9a7",
   "metadata": {},
   "outputs": [
    {
     "data": {
      "text/plain": [
       "(True, False)"
      ]
     },
     "execution_count": 69,
     "metadata": {},
     "output_type": "execute_result"
    }
   ],
   "source": [
    "def even_check(value):\n",
    "    return value%2==0\n",
    "even_check(10), even_check(5)"
   ]
  },
  {
   "cell_type": "code",
   "execution_count": 71,
   "id": "68d7c422",
   "metadata": {},
   "outputs": [
    {
     "data": {
      "text/plain": [
       "[2, 4]"
      ]
     },
     "execution_count": 71,
     "metadata": {},
     "output_type": "execute_result"
    }
   ],
   "source": [
    "lst = [1,2,3,4,5]\n",
    "filter_template(lambda x : x%2==0, lst)"
   ]
  },
  {
   "cell_type": "code",
   "execution_count": 72,
   "id": "6633ff2e",
   "metadata": {},
   "outputs": [
    {
     "data": {
      "text/plain": [
       "[2, 4]"
      ]
     },
     "execution_count": 72,
     "metadata": {},
     "output_type": "execute_result"
    }
   ],
   "source": [
    "[data for data in lst if data%2==0]"
   ]
  },
  {
   "cell_type": "markdown",
   "id": "221563fa",
   "metadata": {},
   "source": [
    "### (3) sort"
   ]
  },
  {
   "cell_type": "code",
   "execution_count": 96,
   "id": "23b331d2",
   "metadata": {},
   "outputs": [
    {
     "data": {
      "text/plain": [
       "[(4, 'four'), (1, 'one'), (3, 'three'), (2, 'two')]"
      ]
     },
     "execution_count": 96,
     "metadata": {},
     "output_type": "execute_result"
    }
   ],
   "source": [
    "# sort()는 그냥 쓰면 0번째 item 기준으로 정렬하지만\n",
    "# key=lambda 식을 사용하여 n번째 item 기준으로 정렬가능하다\n",
    "pairs = [(2, 'two'), (1, 'one'), (4, 'four'), (3, 'three')]\n",
    "\n",
    "pairs.sort(key=lambda pair : pair[1])\n",
    "pairs"
   ]
  },
  {
   "cell_type": "code",
   "execution_count": 97,
   "id": "3676f9fc",
   "metadata": {},
   "outputs": [],
   "source": [
    "number_2d = [[9,9,9,9,9,9,9,9],\n",
    "            [1,111],\n",
    "            [10,1]]\n"
   ]
  },
  {
   "cell_type": "code",
   "execution_count": 98,
   "id": "5b166484",
   "metadata": {},
   "outputs": [
    {
     "data": {
      "text/plain": [
       "[[1, 111], [9, 9, 9, 9, 9, 9, 9, 9], [10, 1]]"
      ]
     },
     "execution_count": 98,
     "metadata": {},
     "output_type": "execute_result"
    }
   ],
   "source": [
    "# 리스트 각 행의 합이 큰 순으로 정렬\n",
    "number_2d.sort(key=lambda number : sum(number), reverse=True)\n",
    "number_2d           "
   ]
  },
  {
   "cell_type": "code",
   "execution_count": 108,
   "id": "031ce71a",
   "metadata": {},
   "outputs": [],
   "source": [
    "# 예제 1. \n",
    "students = [\n",
    "    {'name':'홍길동', 'score':90},\n",
    "    {'name':'김길동', 'score':80},\n",
    "    {'name':'신길동', 'score':99},\n",
    "    {'score':100}\n",
    "    \n",
    "]"
   ]
  },
  {
   "cell_type": "code",
   "execution_count": 113,
   "id": "5282eb3e",
   "metadata": {},
   "outputs": [
    {
     "name": "stdout",
     "output_type": "stream",
     "text": [
      "[{'name': '김길동', 'score': 80}, {'name': '신길동', 'score': 99}, {'name': '홍길동', 'score': 90}, {'score': 100}]\n"
     ]
    },
    {
     "data": {
      "text/plain": [
       "[{'name': '김길동', 'score': 80},\n",
       " {'name': '홍길동', 'score': 90},\n",
       " {'name': '신길동', 'score': 99},\n",
       " {'score': 100}]"
      ]
     },
     "execution_count": 113,
     "metadata": {},
     "output_type": "execute_result"
    }
   ],
   "source": [
    "# 이름순으로 정렬\n",
    "students.sort(key = lambda x : x.get('name', '힣'))\n",
    "print(students)\n",
    "students.sort(key = lambda x : x.get('score'))\n",
    "students"
   ]
  },
  {
   "cell_type": "code",
   "execution_count": 115,
   "id": "87c92192",
   "metadata": {},
   "outputs": [],
   "source": [
    "# 예제 2. 책 제목순 정렬(ㄱㄴㄷ), 저자순 정렬(ㄱㄴㄷ), 가격순 오름차순 정렬\n",
    "books = [\n",
    "    {'no':1, 'title':'강남 아파트 인사이트', 'writer': '오스롤로이드', 'price':'25,200'},\n",
    "    {'no':2, 'title':'결국 국민이 합니다', 'writer': '이재명', 'price':'19,800'},\n",
    "    {'no':3, 'title':'단 한 번의 삶', 'writer': '김영하', 'price':'15,120'},\n",
    "    {'no':4, 'title':'가격이 잘못', 'writer': '홍길동', 'price':'-'},\n",
    "    {'no':5, 'title':'가격이 숫자', 'writer': '임꺽정', 'price':900},\n",
    "    {'no':6, 'title':'가격이 없음', 'writer': '전우치'},\n",
    "]"
   ]
  },
  {
   "cell_type": "code",
   "execution_count": 118,
   "id": "48b1cec9",
   "metadata": {},
   "outputs": [
    {
     "data": {
      "text/plain": [
       "[{'no': 5, 'title': '가격이 숫자', 'writer': '임꺽정', 'price': 900},\n",
       " {'no': 6, 'title': '가격이 없음', 'writer': '전우치'},\n",
       " {'no': 4, 'title': '가격이 잘못', 'writer': '홍길동', 'price': '-'},\n",
       " {'no': 1, 'title': '강남 아파트 인사이트', 'writer': '오스롤로이드', 'price': '25,200'},\n",
       " {'no': 2, 'title': '결국 국민이 합니다', 'writer': '이재명', 'price': '19,800'},\n",
       " {'no': 3, 'title': '단 한 번의 삶', 'writer': '김영하', 'price': '15,120'}]"
      ]
     },
     "execution_count": 118,
     "metadata": {},
     "output_type": "execute_result"
    }
   ],
   "source": [
    "books.sort(key=lambda book : book.get('title'))\n",
    "books"
   ]
  },
  {
   "cell_type": "code",
   "execution_count": 156,
   "id": "4463e7ef",
   "metadata": {},
   "outputs": [
    {
     "data": {
      "text/plain": [
       "[{'no': 3, 'title': '단 한 번의 삶', 'writer': '김영하', 'price': '15,120'},\n",
       " {'no': 1, 'title': '강남 아파트 인사이트', 'writer': '오스롤로이드', 'price': '25,200'},\n",
       " {'no': 2, 'title': '결국 국민이 합니다', 'writer': '이재명', 'price': '19,800'},\n",
       " {'no': 5, 'title': '가격이 숫자', 'writer': '임꺽정', 'price': 900},\n",
       " {'no': 6, 'title': '가격이 없음', 'writer': '전우치'},\n",
       " {'no': 4, 'title': '가격이 잘못', 'writer': '홍길동', 'price': '-'}]"
      ]
     },
     "execution_count": 156,
     "metadata": {},
     "output_type": "execute_result"
    }
   ],
   "source": [
    "books.sort(key=lambda book : book.get('writer'))\n",
    "books"
   ]
  },
  {
   "cell_type": "code",
   "execution_count": 155,
   "id": "e1b1bc5f",
   "metadata": {},
   "outputs": [
    {
     "ename": "ValueError",
     "evalue": "invalid literal for int() with base 10: '15,120'",
     "output_type": "error",
     "traceback": [
      "\u001b[1;31m---------------------------------------------------------------------------\u001b[0m",
      "\u001b[1;31mValueError\u001b[0m                                Traceback (most recent call last)",
      "Cell \u001b[1;32mIn[155], line 1\u001b[0m\n\u001b[1;32m----> 1\u001b[0m \u001b[43mbooks\u001b[49m\u001b[38;5;241;43m.\u001b[39;49m\u001b[43msort\u001b[49m\u001b[43m(\u001b[49m\u001b[43mkey\u001b[49m\u001b[38;5;241;43m=\u001b[39;49m\u001b[38;5;28;43;01mlambda\u001b[39;49;00m\u001b[43m \u001b[49m\u001b[43mbook\u001b[49m\u001b[43m \u001b[49m\u001b[43m:\u001b[49m\u001b[43m \u001b[49m\u001b[38;5;28;43mint\u001b[39;49m\u001b[43m(\u001b[49m\u001b[43mbook\u001b[49m\u001b[38;5;241;43m.\u001b[39;49m\u001b[43mget\u001b[49m\u001b[43m(\u001b[49m\u001b[38;5;124;43m'\u001b[39;49m\u001b[38;5;124;43mprice\u001b[39;49m\u001b[38;5;124;43m'\u001b[39;49m\u001b[43m,\u001b[49m\u001b[43m \u001b[49m\u001b[38;5;241;43m0\u001b[39;49m\u001b[43m)\u001b[49m\u001b[43m)\u001b[49m\u001b[43m)\u001b[49m\n\u001b[0;32m      2\u001b[0m books\n",
      "Cell \u001b[1;32mIn[155], line 1\u001b[0m, in \u001b[0;36m<lambda>\u001b[1;34m(book)\u001b[0m\n\u001b[1;32m----> 1\u001b[0m books\u001b[38;5;241m.\u001b[39msort(key\u001b[38;5;241m=\u001b[39m\u001b[38;5;28;01mlambda\u001b[39;00m book : \u001b[38;5;28;43mint\u001b[39;49m\u001b[43m(\u001b[49m\u001b[43mbook\u001b[49m\u001b[38;5;241;43m.\u001b[39;49m\u001b[43mget\u001b[49m\u001b[43m(\u001b[49m\u001b[38;5;124;43m'\u001b[39;49m\u001b[38;5;124;43mprice\u001b[39;49m\u001b[38;5;124;43m'\u001b[39;49m\u001b[43m,\u001b[49m\u001b[43m \u001b[49m\u001b[38;5;241;43m0\u001b[39;49m\u001b[43m)\u001b[49m\u001b[43m)\u001b[49m)\n\u001b[0;32m      2\u001b[0m books\n",
      "\u001b[1;31mValueError\u001b[0m: invalid literal for int() with base 10: '15,120'"
     ]
    }
   ],
   "source": [
    "books.sort(key=lambda book : int(book.get('price', 0)))\n",
    "books"
   ]
  },
  {
   "cell_type": "code",
   "execution_count": 147,
   "id": "4598c622",
   "metadata": {},
   "outputs": [],
   "source": [
    "# '1,400'-> 1400  / 800 ->800 / '-' ->0\n",
    "def price_chk(p):\n",
    "#    print(type(p))\n",
    "    if isinstance(p, str) and p.replace(',','').isdigit():\n",
    "        return int(p.replace(',',''))\n",
    "    elif isinstance(p, int):\n",
    "        return p\n",
    "    else:\n",
    "        return 0    "
   ]
  },
  {
   "cell_type": "code",
   "execution_count": 164,
   "id": "72971a0b",
   "metadata": {},
   "outputs": [
    {
     "data": {
      "text/plain": [
       "(19800, 900, 0)"
      ]
     },
     "execution_count": 164,
     "metadata": {},
     "output_type": "execute_result"
    }
   ],
   "source": [
    "# {'no': 3, 'title': '단 한 번의 삶', 'writer': '김영하', 'price': '15,120'}\n",
    "def price_chk(book):\n",
    "    if isinstance(book.get('price'), str) and book.get('price').replace(',','').isdigit():\n",
    "        return int(book.get('price').replace(',',''))\n",
    "    elif isinstance(book.get('price'), int):\n",
    "        return book.get('price')\n",
    "    else:\n",
    "        return 0    \n",
    "\n",
    "price_chk(books[2]), price_chk(books[3]), price_chk(books[5])"
   ]
  },
  {
   "cell_type": "code",
   "execution_count": 165,
   "id": "1edf6e2f",
   "metadata": {},
   "outputs": [
    {
     "data": {
      "text/plain": [
       "[{'no': 6, 'title': '가격이 없음', 'writer': '전우치'},\n",
       " {'no': 4, 'title': '가격이 잘못', 'writer': '홍길동', 'price': '-'},\n",
       " {'no': 5, 'title': '가격이 숫자', 'writer': '임꺽정', 'price': 900},\n",
       " {'no': 3, 'title': '단 한 번의 삶', 'writer': '김영하', 'price': '15,120'},\n",
       " {'no': 2, 'title': '결국 국민이 합니다', 'writer': '이재명', 'price': '19,800'},\n",
       " {'no': 1, 'title': '강남 아파트 인사이트', 'writer': '오스롤로이드', 'price': '25,200'}]"
      ]
     },
     "execution_count": 165,
     "metadata": {},
     "output_type": "execute_result"
    }
   ],
   "source": [
    "books.sort(key=lambda book : \n",
    "           int(book.get('price', 0).replace(',','')) \\\n",
    "           if isinstance(book.get('price'), str) and book.get('price').replace(',','').isdigit() else \\\n",
    "           book.get('price') if isinstance(book.get('price'), int) else 0\n",
    "          )\n",
    "books"
   ]
  },
  {
   "cell_type": "code",
   "execution_count": 166,
   "id": "d13ca3fb",
   "metadata": {},
   "outputs": [],
   "source": [
    "copy_books = books.copy()"
   ]
  },
  {
   "cell_type": "code",
   "execution_count": 168,
   "id": "688b01de",
   "metadata": {},
   "outputs": [
    {
     "data": {
      "text/plain": [
       "[{'no': 6, 'title': '가격이 없음', 'writer': '전우치'},\n",
       " {'no': 4, 'title': '가격이 잘못', 'writer': '홍길동', 'price': '-'},\n",
       " {'no': 5, 'title': '가격이 숫자', 'writer': '임꺽정', 'price': 900},\n",
       " {'no': 3, 'title': '단 한 번의 삶', 'writer': '김영하', 'price': '15,120'},\n",
       " {'no': 2, 'title': '결국 국민이 합니다', 'writer': '이재명', 'price': '19,800'},\n",
       " {'no': 1, 'title': '강남 아파트 인사이트', 'writer': '오스롤로이드', 'price': '25,200'}]"
      ]
     },
     "execution_count": 168,
     "metadata": {},
     "output_type": "execute_result"
    }
   ],
   "source": [
    "copy_books.sort(key= lambda book : \n",
    "               int(book.get('price').replace(',',''))\n",
    "               if isinstance(book.get('price'), str) and \\\n",
    "                book.get('price').replace(',','').isdigit() else \\\n",
    "                book.get('price') if isinstance(book.get('price'), int) else \\\n",
    "                0 \n",
    "               )\n",
    "copy_books"
   ]
  },
  {
   "cell_type": "code",
   "execution_count": 169,
   "id": "f4d6c97c",
   "metadata": {},
   "outputs": [
    {
     "data": {
      "text/plain": [
       "0"
      ]
     },
     "execution_count": 169,
     "metadata": {},
     "output_type": "execute_result"
    }
   ],
   "source": [
    "# 람다식 오타 확인 () 괄호를 사용\n",
    "(lambda book : \n",
    "               int(book.get('price').replace(',',''))\n",
    "               if isinstance(book.get('price'), str) and \\\n",
    "                book.get('price').replace(',','').isdigit() else \\\n",
    "                book.get('price') if isinstance(book.get('price'), int) else \\\n",
    "                0)(books[0])"
   ]
  },
  {
   "cell_type": "markdown",
   "id": "31622c4a",
   "metadata": {},
   "source": [
    "## 4.3 함수의 return값으로 람다식 이용"
   ]
  },
  {
   "cell_type": "code",
   "execution_count": 180,
   "id": "8b9fee51",
   "metadata": {},
   "outputs": [],
   "source": [
    "# 함수를 리턴\n",
    "def make_box(shape):   \n",
    "    # shape : [L] => len가 L인 list를 생성하는 함수 return, \n",
    "    #         [r, c] => r행 c열인 2차원 list를 생성하는 함수 return\n",
    "    #         [d,r,c] => d면 r행 c열인 3차원 list를 생성하는 함수 return\n",
    "    def box(init_value):\n",
    "        if len(shape)==1 :\n",
    "            return [init_value]*shape[0]\n",
    "        elif len(shape)==2:\n",
    "            return [ [init_value]*shape[1] ] * shape[0]\n",
    "    return box"
   ]
  },
  {
   "cell_type": "code",
   "execution_count": 172,
   "id": "1b170e34",
   "metadata": {},
   "outputs": [],
   "source": [
    "line_func = make_box([2,3])"
   ]
  },
  {
   "cell_type": "code",
   "execution_count": 176,
   "id": "ccc7052f",
   "metadata": {},
   "outputs": [
    {
     "data": {
      "text/plain": [
       "[[3, 3, 3], [3, 3, 3]]"
      ]
     },
     "execution_count": 176,
     "metadata": {},
     "output_type": "execute_result"
    }
   ],
   "source": [
    "line_func(3)"
   ]
  },
  {
   "cell_type": "code",
   "execution_count": 177,
   "id": "6b8fad74",
   "metadata": {},
   "outputs": [],
   "source": [
    "line_func_1 = make_box([10])"
   ]
  },
  {
   "cell_type": "code",
   "execution_count": 179,
   "id": "c201ffc2",
   "metadata": {},
   "outputs": [
    {
     "data": {
      "text/plain": [
       "[3, 3, 3, 3, 3, 3, 3, 3, 3, 3]"
      ]
     },
     "execution_count": 179,
     "metadata": {},
     "output_type": "execute_result"
    }
   ],
   "source": [
    "line_func_1(3)"
   ]
  },
  {
   "cell_type": "code",
   "execution_count": 183,
   "id": "e8415e97",
   "metadata": {},
   "outputs": [],
   "source": [
    "def make_box_1(shape,init_value):\n",
    "    if len(shape)==1:\n",
    "        return lambda init_value : [init_value]*shape[0]\n",
    "    elif len(shape)==2:\n",
    "        return lambda init_value : [[init_value]*shape[1]] * shape[0]"
   ]
  },
  {
   "cell_type": "code",
   "execution_count": 187,
   "id": "2182cc66",
   "metadata": {},
   "outputs": [
    {
     "data": {
      "text/plain": [
       "<function __main__.make_box_1.<locals>.<lambda>(init_value)>"
      ]
     },
     "execution_count": 187,
     "metadata": {},
     "output_type": "execute_result"
    }
   ],
   "source": [
    "make_box_1([2,3],3)"
   ]
  },
  {
   "cell_type": "code",
   "execution_count": 189,
   "id": "67f4dfa7",
   "metadata": {
    "scrolled": true
   },
   "outputs": [
    {
     "ename": "TypeError",
     "evalue": "'function' object is not iterable",
     "output_type": "error",
     "traceback": [
      "\u001b[1;31m---------------------------------------------------------------------------\u001b[0m",
      "\u001b[1;31mTypeError\u001b[0m                                 Traceback (most recent call last)",
      "Cell \u001b[1;32mIn[189], line 1\u001b[0m\n\u001b[1;32m----> 1\u001b[0m \u001b[38;5;28;43mlist\u001b[39;49m\u001b[43m(\u001b[49m\u001b[43mmake_box_1\u001b[49m\u001b[43m)\u001b[49m\n",
      "\u001b[1;31mTypeError\u001b[0m: 'function' object is not iterable"
     ]
    }
   ],
   "source": []
  },
  {
   "cell_type": "markdown",
   "id": "72ecc7f3",
   "metadata": {},
   "source": [
    "# 5절. 파이썬 내장함수\n",
    "- import하지 않고 바로 사용가능한 함수\n",
    "- 키워드처럼 간주되므로, 식별자(변수명, 함수명, 클래스명)로 사용하는 것을 피한다"
   ]
  },
  {
   "cell_type": "code",
   "execution_count": 190,
   "id": "931fd67e",
   "metadata": {},
   "outputs": [
    {
     "data": {
      "text/plain": [
       "False"
      ]
     },
     "execution_count": 190,
     "metadata": {},
     "output_type": "execute_result"
    }
   ],
   "source": [
    "all([True, True, True, False])  # 전부 True인지 여부"
   ]
  },
  {
   "cell_type": "code",
   "execution_count": 191,
   "id": "1ec49363",
   "metadata": {},
   "outputs": [
    {
     "data": {
      "text/plain": [
       "4"
      ]
     },
     "execution_count": 191,
     "metadata": {},
     "output_type": "execute_result"
    }
   ],
   "source": [
    "round(3.5) # 반올림"
   ]
  },
  {
   "cell_type": "code",
   "execution_count": 195,
   "id": "bc79009c",
   "metadata": {},
   "outputs": [
    {
     "data": {
      "text/plain": [
       "(4.0, 4.0, 3.0)"
      ]
     },
     "execution_count": 195,
     "metadata": {},
     "output_type": "execute_result"
    }
   ],
   "source": [
    "import numpy as np   # numpy 모듈(파일)을 로드하는데 기니까 np로 별명을 붙일거야\n",
    "np.round(3.5), np.ceil(3.3), np.floor(3.9) # 반올림, 올림, 내림"
   ]
  },
  {
   "cell_type": "markdown",
   "id": "1b9624a8",
   "metadata": {},
   "source": [
    "# 5절. 연습문제"
   ]
  },
  {
   "cell_type": "markdown",
   "id": "9e3b90a5",
   "metadata": {},
   "source": [
    "## 실습형"
   ]
  },
  {
   "cell_type": "code",
   "execution_count": 196,
   "id": "56652439",
   "metadata": {},
   "outputs": [],
   "source": [
    "# 1번. 함수의인자로 리스트를 받은 후 리스트 내에 있는 모든 정수값에 대한 최대값과 최소값을 리턴하는 함수를 작성하세요\n",
    "\n",
    "def get_max_min(data_list):\n",
    "    return [max(data_list), min(data_list)]\n",
    "    "
   ]
  },
  {
   "cell_type": "code",
   "execution_count": 197,
   "id": "b7238426",
   "metadata": {},
   "outputs": [
    {
     "data": {
      "text/plain": [
       "[10, 1]"
      ]
     },
     "execution_count": 197,
     "metadata": {},
     "output_type": "execute_result"
    }
   ],
   "source": [
    "lst= [1,2,6,7,10]\n",
    "get_max_min(lst)"
   ]
  },
  {
   "cell_type": "code",
   "execution_count": 204,
   "id": "f7743295",
   "metadata": {},
   "outputs": [
    {
     "data": {
      "text/plain": [
       "(10, 1)"
      ]
     },
     "execution_count": 204,
     "metadata": {},
     "output_type": "execute_result"
    }
   ],
   "source": [
    "get_max_min = lambda data_list : (max(data_list), min(data_list))\n",
    "get_max_min(lst)"
   ]
  },
  {
   "cell_type": "code",
   "execution_count": 210,
   "id": "8a3e8c1a",
   "metadata": {},
   "outputs": [],
   "source": [
    "#2번. 체질량 지수(Body Mass Index, BMI)는 체중과 키를 이용해 비만도를 나타내는 지수로 아래의 수식에 의해 계산됩니다. \n",
    "#함수의 인자로 체중(kg)과 신장(m)를입력받은 후 BMI값에 따라 ‘마른 체형‘, ‘표준‘, ‘비만‘, ‘고도비만‘ 중 하나의 상태를 출력하는 함수를 구현해 보세요\n",
    "\n",
    "def getBMI(kg, m):\n",
    "    BMI=kg/(m**2)\n",
    "    if BMI<18.5:\n",
    "        return '마른체형'\n",
    "    elif 18.5<= BMI < 25:\n",
    "        return '표준'\n",
    "    elif 25<= BMI < 30:\n",
    "        return '비만'\n",
    "    else:\n",
    "        return '고도비만'"
   ]
  },
  {
   "cell_type": "code",
   "execution_count": 211,
   "id": "b6b8ead3",
   "metadata": {},
   "outputs": [
    {
     "data": {
      "text/plain": [
       "'비만'"
      ]
     },
     "execution_count": 211,
     "metadata": {},
     "output_type": "execute_result"
    }
   ],
   "source": [
    "getBMI(76, 1.74)"
   ]
  },
  {
   "cell_type": "code",
   "execution_count": 219,
   "id": "271a41fa",
   "metadata": {},
   "outputs": [],
   "source": [
    "# 3번. 직각삼각형의 밑변과 높이를 입력받은 후 삼각형의 면적과 둘레를 계산하는 함수를 작성 \n",
    "import math\n",
    "\n",
    "def get_triangle(width, height):\n",
    "    x = width*height/2\n",
    "    y = width+height+math.sqrt(width**2 + height**2)\n",
    "    print(f'삼각형의 면적은 {x:.2f}, 둘레는 {y:.2f}입니다.')"
   ]
  },
  {
   "cell_type": "code",
   "execution_count": 220,
   "id": "ce594788",
   "metadata": {},
   "outputs": [
    {
     "name": "stdout",
     "output_type": "stream",
     "text": [
      "삼각형의 면적은 50.00, 둘레는 34.14입니다.\n"
     ]
    }
   ],
   "source": [
    "get_triangle(10,10)"
   ]
  },
  {
   "cell_type": "code",
   "execution_count": 221,
   "id": "05eb7fa5",
   "metadata": {},
   "outputs": [],
   "source": [
    "# 4번. 함수의 인자로 시작과 끝 숫자가 주어질 때 시작부터 끝까지의 모든 정수값의 합을 리턴하는 함수를 작성하세요(시작값과 끝값 포함)\n",
    "def mysum(start, end):\n",
    "    tot = 0\n",
    "    for i in range(start, end+1):\n",
    "        tot += i\n",
    "    return tot\n",
    "    "
   ]
  },
  {
   "cell_type": "code",
   "execution_count": 222,
   "id": "bc96bdf7",
   "metadata": {},
   "outputs": [
    {
     "data": {
      "text/plain": [
       "55"
      ]
     },
     "execution_count": 222,
     "metadata": {},
     "output_type": "execute_result"
    }
   ],
   "source": [
    "mysum(1,10)"
   ]
  },
  {
   "cell_type": "code",
   "execution_count": 244,
   "id": "15401d8e",
   "metadata": {},
   "outputs": [],
   "source": [
    "# 5번. 함수의인자로 문자열을 포함하는 리스트가 입력될 때 각 문자열의 첫 세글자로만 구성된 리스트를 리턴하는 함수와 람다식을 작성하세요\n",
    "def get_abbrs(lst):\n",
    "    result = []\n",
    "    for t in lst:\n",
    "        result.append(t[:3])       \n",
    "    return result"
   ]
  },
  {
   "cell_type": "code",
   "execution_count": 249,
   "id": "6c34925a",
   "metadata": {},
   "outputs": [
    {
     "data": {
      "text/plain": [
       "['Seo', 'Dae', 'Kwa', 'Jej']"
      ]
     },
     "execution_count": 249,
     "metadata": {},
     "output_type": "execute_result"
    }
   ],
   "source": [
    "list(map(lambda t : t[:3], ['Seoul', 'Daegu', 'Kwangju', 'Jeju']))"
   ]
  },
  {
   "cell_type": "code",
   "execution_count": 245,
   "id": "5405bb28",
   "metadata": {},
   "outputs": [
    {
     "data": {
      "text/plain": [
       "['Seo', 'Dae', 'Kwa', 'Jej']"
      ]
     },
     "execution_count": 245,
     "metadata": {},
     "output_type": "execute_result"
    }
   ],
   "source": [
    "get_abbrs(['Seoul', 'Daegu', 'Kwangju', 'Jeju'])"
   ]
  },
  {
   "cell_type": "code",
   "execution_count": 251,
   "id": "0bbd0c67",
   "metadata": {},
   "outputs": [
    {
     "data": {
      "text/plain": [
       "<function __main__.<lambda>(x, y)>"
      ]
     },
     "execution_count": 251,
     "metadata": {},
     "output_type": "execute_result"
    }
   ],
   "source": [
    "# 6번. 다음 코드를 람다 함수 형태로 수정할 때 알맞은 코드를 작성하시오\n",
    "lambda x, y : x**y"
   ]
  },
  {
   "cell_type": "code",
   "execution_count": 256,
   "id": "990dc04f",
   "metadata": {},
   "outputs": [
    {
     "name": "stdout",
     "output_type": "stream",
     "text": [
      "람다식 사용 : [1, 4, 9, 16, 25]\n",
      "리스트 컴프리헨션 사용 : [1, 4, 9, 16, 25]\n"
     ]
    }
   ],
   "source": [
    "# 7번. ex = [1,2,3,4,5]를 [1,4,9,16,25]의 결과를 얻을 수 있도록 람다함수와 map()함수를 사용하여 구현과 리스트 컴프리헨션으로 구현하시오\n",
    "# 람다식\n",
    "ex = [1,2,3,4,5]\n",
    "print('람다식 사용 :', list(map(lambda n : n**2,ex)))\n",
    "\n",
    "print('리스트 컴프리헨션 사용 :', [n**2 for n in ex])"
   ]
  },
  {
   "cell_type": "code",
   "execution_count": 258,
   "id": "19453e35",
   "metadata": {},
   "outputs": [
    {
     "name": "stdout",
     "output_type": "stream",
     "text": [
      "1 2 3\n",
      "[1, 2, 3]\n"
     ]
    }
   ],
   "source": [
    "# 8번. 다음코드를 각각 실행하면 서로 다른 결과가 나온다. 이런 결과가 나오는 이유를 서술하시오\n",
    "# -> *를 a에 붙임으로써 언패킹 하기 때문\n",
    "a = [1,2,3]\n",
    "print(*a)\n",
    "print(a)"
   ]
  },
  {
   "cell_type": "code",
   "execution_count": null,
   "id": "9e1291a4",
   "metadata": {},
   "outputs": [],
   "source": [
    "# 9번. 예제 코드 실행 결과는?\n",
    "# --> '2024-9-6'"
   ]
  },
  {
   "cell_type": "code",
   "execution_count": 281,
   "id": "9f967503",
   "metadata": {},
   "outputs": [],
   "source": [
    "# 10번. n개의 벡터(리스트나 튜플, 셋등)의 크기들이 같은지 여부를 reutrn하는\n",
    "# vector_size_check(*vector _var) 를 한 줄의 코드(리스트 컴프리헨션 이용)로 작성하시오.\n",
    "\n",
    "def vector_size_check(*vector_var):\n",
    "    result = []\n",
    "    for vector in vector_var:\n",
    "        result.append(len(vector))\n",
    "#    print(result, min(result),max(result))\n",
    "    if min(result)==max(result):\n",
    "        return True\n",
    "    else:\n",
    "        return False\n",
    "\n"
   ]
  },
  {
   "cell_type": "code",
   "execution_count": 304,
   "id": "a02a94ef",
   "metadata": {},
   "outputs": [],
   "source": [
    "ex = [[1,2,3], {1,2,3}, (1,2,2), [5,6,7]]"
   ]
  },
  {
   "cell_type": "code",
   "execution_count": 305,
   "id": "35b18fcf",
   "metadata": {},
   "outputs": [
    {
     "data": {
      "text/plain": [
       "True"
      ]
     },
     "execution_count": 305,
     "metadata": {},
     "output_type": "execute_result"
    }
   ],
   "source": [
    "# 리스트 컴프리헨션 중첩 사용\n",
    "vector_size_check_2 = True if min([len(v) for v in ex])==max([len(v) for v in ex]) else False\n",
    "vector_size_check_2"
   ]
  },
  {
   "cell_type": "code",
   "execution_count": 302,
   "id": "feddf3a9",
   "metadata": {},
   "outputs": [],
   "source": [
    "# 리스트컴프리헤션 중첩 + 셋 사용\n",
    "vector_size_check_2 = True if len({len(v) for v in ex})==1 else False\n",
    "vector_size_check_2"
   ]
  },
  {
   "cell_type": "code",
   "execution_count": 3,
   "id": "ec3dbe0a",
   "metadata": {},
   "outputs": [
    {
     "data": {
      "text/plain": [
       "True"
      ]
     },
     "execution_count": 3,
     "metadata": {},
     "output_type": "execute_result"
    }
   ],
   "source": [
    "# all 함수 이용 : \n",
    "ex = [[1,2,3], {1,2,3}, (1,2,2), [5,6,7]]\n",
    "def vector_size_check_3(*vector_var):\n",
    "    return all(len(vector) for vector in vector_var)\n",
    "\n",
    "vector_size_check_3(ex)"
   ]
  },
  {
   "cell_type": "code",
   "execution_count": 314,
   "id": "7cd212d2",
   "metadata": {},
   "outputs": [],
   "source": [
    "# 11번. 다음과 같은 결과를 얻기 위해 하나의 스칼라값을 리스트나 튜플, 셋등 벡터에 곱하는 코드를 작성하시오.(단 입력되는 벡터의 크기는 일정하지 않음)\n",
    "def scalar_vector_product(n, vector):\n",
    "    result=[]\n",
    "    for i in vector:\n",
    "        result.append(i*n)\n",
    "    return result              \n",
    "        "
   ]
  },
  {
   "cell_type": "code",
   "execution_count": 315,
   "id": "643ac6ff",
   "metadata": {},
   "outputs": [
    {
     "data": {
      "text/plain": [
       "[5, 10, 15, 20]"
      ]
     },
     "execution_count": 315,
     "metadata": {},
     "output_type": "execute_result"
    }
   ],
   "source": [
    "scalar_vector_product(5, [1,2,3,4])"
   ]
  },
  {
   "cell_type": "code",
   "execution_count": 321,
   "id": "c741ccbe",
   "metadata": {},
   "outputs": [
    {
     "data": {
      "text/plain": [
       "[5, 10, 15, 20]"
      ]
     },
     "execution_count": 321,
     "metadata": {},
     "output_type": "execute_result"
    }
   ],
   "source": [
    "n = 5\n",
    "vector = [1,2,3,4]\n",
    "[i*n for i in vector]\n",
    "list(map(lambda v : n*v,vector))"
   ]
  },
  {
   "cell_type": "markdown",
   "id": "0ca6b913",
   "metadata": {},
   "source": [
    "### 서술형"
   ]
  },
  {
   "cell_type": "code",
   "execution_count": null,
   "id": "f6602f56",
   "metadata": {},
   "outputs": [],
   "source": [
    "# 문제1. 2번"
   ]
  },
  {
   "cell_type": "code",
   "execution_count": null,
   "id": "f1db7e19",
   "metadata": {},
   "outputs": [],
   "source": [
    "# 문제2.\n",
    "'''\n",
    "- 오류가 발생하는 라인: 3번\n",
    "- 3줄에 global a 선언\n",
    "- 실행결과 : 6 12 6 13\n",
    "'''"
   ]
  },
  {
   "cell_type": "code",
   "execution_count": 4,
   "id": "3d7b8b3b",
   "metadata": {},
   "outputs": [
    {
     "name": "stdout",
     "output_type": "stream",
     "text": [
      "6 12 6 13 "
     ]
    }
   ],
   "source": [
    "# 문제2. 코드\n",
    "a= 10\n",
    "def sub():\n",
    "    global a\n",
    "    a +=1\n",
    "    print(a, end=' ')\n",
    "\n",
    "def func():\n",
    "    for i in range(2):\n",
    "        a=5\n",
    "        a+=1\n",
    "        print(a, end=' ')\n",
    "        sub()\n",
    "\n",
    "a+=1\n",
    "func()"
   ]
  },
  {
   "cell_type": "code",
   "execution_count": 5,
   "id": "8ad0d34f",
   "metadata": {},
   "outputs": [],
   "source": [
    "# 문제 3. 100\n",
    "# 문제 4. 5\n",
    "# 문제 5. 9\n",
    "# 문제 6. 1번\n",
    "# 문제 7. 4번\n",
    "# 문제 8. lambda"
   ]
  },
  {
   "cell_type": "code",
   "execution_count": null,
   "id": "fe5b80d4",
   "metadata": {},
   "outputs": [],
   "source": []
  },
  {
   "cell_type": "code",
   "execution_count": null,
   "id": "e7208b59",
   "metadata": {},
   "outputs": [],
   "source": []
  },
  {
   "cell_type": "code",
   "execution_count": null,
   "id": "f617c770",
   "metadata": {},
   "outputs": [],
   "source": []
  }
 ],
 "metadata": {
  "kernelspec": {
   "display_name": "Python 3 (ipykernel)",
   "language": "python",
   "name": "python3"
  },
  "language_info": {
   "codemirror_mode": {
    "name": "ipython",
    "version": 3
   },
   "file_extension": ".py",
   "mimetype": "text/x-python",
   "name": "python",
   "nbconvert_exporter": "python",
   "pygments_lexer": "ipython3",
   "version": "3.10.9"
  },
  "toc": {
   "base_numbering": 1,
   "nav_menu": {},
   "number_sections": false,
   "sideBar": true,
   "skip_h1_title": false,
   "title_cell": "Table of Contents",
   "title_sidebar": "Contents",
   "toc_cell": false,
   "toc_position": {
    "height": "calc(100% - 180px)",
    "left": "10px",
    "top": "150px",
    "width": "218.2px"
   },
   "toc_section_display": true,
   "toc_window_display": true
  }
 },
 "nbformat": 4,
 "nbformat_minor": 5
}
