{
 "cells": [
  {
   "cell_type": "code",
   "execution_count": 1,
   "id": "a7d557b0",
   "metadata": {},
   "outputs": [
    {
     "data": {
      "text/html": [
       "\n",
       "<style>\n",
       "div.container{width:86% !important;}\n",
       "div.cell.code_cell.rendered{width:100%;}\n",
       "div.CodeMirror {font-family:Consolas; font-size:12pt;}\n",
       "div.output {font-size:12pt; font-weight:bold;}\n",
       "div.input {font-family:Consolas; font-size:12pt;}\n",
       "div.prompt {min-width:70px;}\n",
       "div#toc-wrapper{padding-top:120px;}\n",
       "div.text_cell_render ul li{font-size:12pt;padding:5px;}\n",
       "table.dataframe{font-size:12px;}\n",
       "</style>\n"
      ],
      "text/plain": [
       "<IPython.core.display.HTML object>"
      ]
     },
     "metadata": {},
     "output_type": "display_data"
    }
   ],
   "source": [
    "from IPython.display import display, HTML\n",
    "display(HTML(\"\"\"\n",
    "<style>\n",
    "div.container{width:86% !important;}\n",
    "div.cell.code_cell.rendered{width:100%;}\n",
    "div.CodeMirror {font-family:Consolas; font-size:12pt;}\n",
    "div.output {font-size:12pt; font-weight:bold;}\n",
    "div.input {font-family:Consolas; font-size:12pt;}\n",
    "div.prompt {min-width:70px;}\n",
    "div#toc-wrapper{padding-top:120px;}\n",
    "div.text_cell_render ul li{font-size:12pt;padding:5px;}\n",
    "table.dataframe{font-size:12px;}\n",
    "</style>\n",
    "\"\"\"))"
   ]
  },
  {
   "cell_type": "markdown",
   "id": "5818c69f",
   "metadata": {},
   "source": [
    "<b><font size=\"5\" color=\"red\">ch05. 함수 </font></b>\n",
    "- 사용할 코드를 묶어놓고 그것에 이름을 붙인것\n",
    "- 오버로딩(함수 이름이 같고, 매개변수의 타입이나 갯수로 다른함수를 허용하는 것) 불가\n",
    "- 함수 정의(문자, 숫자, _로 이름 정의, 변수명 규칙과 동일)\n",
    "```\n",
    "def 함수명([매개변수1, 매개변수2, 매개변수n]):   # [매개변수] 생략 가능\n",
    "    명령어1\n",
    "    명령어2\n",
    "    명령어n\n",
    "```\n",
    "\n",
    "# 1절. 함수의 정의 및 사용\n",
    "## 1.1 함수 정의"
   ]
  },
  {
   "cell_type": "code",
   "execution_count": 2,
   "id": "5975ac66",
   "metadata": {},
   "outputs": [],
   "source": [
    "# 함수 정의\n",
    "def my_msg(x, msg): # msg를 x번 출력하는 함수\n",
    "    for i in range(x):\n",
    "        print(msg)"
   ]
  },
  {
   "cell_type": "code",
   "execution_count": 3,
   "id": "3fd132cb",
   "metadata": {},
   "outputs": [
    {
     "name": "stdout",
     "output_type": "stream",
     "text": [
      "*\n",
      "*\n",
      "*\n"
     ]
    }
   ],
   "source": [
    "# 함수 사용 = 함수 호출\n",
    "my_msg(3, '*')"
   ]
  },
  {
   "cell_type": "code",
   "execution_count": 4,
   "id": "90537a5b",
   "metadata": {},
   "outputs": [
    {
     "data": {
      "text/plain": [
       "(function, function)"
      ]
     },
     "execution_count": 4,
     "metadata": {},
     "output_type": "execute_result"
    }
   ],
   "source": [
    "my_message = my_msg \n",
    "type(my_msg), type(my_message)"
   ]
  },
  {
   "cell_type": "code",
   "execution_count": 4,
   "id": "99d1c6bd",
   "metadata": {},
   "outputs": [
    {
     "name": "stdout",
     "output_type": "stream",
     "text": [
      "my_msg\n",
      "my_msg\n"
     ]
    }
   ],
   "source": [
    "print('my_msg')   # 파이썬 내장함수(import 하지 않고 사용할 수 있는 함수)\n",
    "print = 5         # 기존에 있는 함수명과 동일한 이름에 변수 할당이 가능하지만\n",
    "# print('my_msg') # 그 후엔 함수가 사용 불능 상태\n",
    "del print         # del 명령어로 print 변수를 삭제했더니\n",
    "print('my_msg')   # print 함수 사용 가능해짐, but 내장 함수니까 가능한거지 임의로 선언한 함수는 날아가서 사용 불가"
   ]
  },
  {
   "cell_type": "code",
   "execution_count": 13,
   "id": "2457bd1d",
   "metadata": {},
   "outputs": [
    {
     "name": "stdout",
     "output_type": "stream",
     "text": [
      "Hello\n",
      "Hello\n"
     ]
    }
   ],
   "source": [
    "my_message(2, 'Hello')"
   ]
  },
  {
   "cell_type": "code",
   "execution_count": 6,
   "id": "78c15fd4",
   "metadata": {},
   "outputs": [],
   "source": [
    "my_message = 5"
   ]
  },
  {
   "cell_type": "code",
   "execution_count": 8,
   "id": "0d4cfef0",
   "metadata": {},
   "outputs": [],
   "source": [
    "del my_message    # 임의로 선언한 함수는 날아가서 사용 불가"
   ]
  },
  {
   "cell_type": "code",
   "execution_count": 10,
   "id": "0d235ae4",
   "metadata": {},
   "outputs": [
    {
     "ename": "NameError",
     "evalue": "name 'my_message' is not defined",
     "output_type": "error",
     "traceback": [
      "\u001b[1;31m---------------------------------------------------------------------------\u001b[0m",
      "\u001b[1;31mNameError\u001b[0m                                 Traceback (most recent call last)",
      "Cell \u001b[1;32mIn[10], line 1\u001b[0m\n\u001b[1;32m----> 1\u001b[0m \u001b[43mmy_message\u001b[49m(\u001b[38;5;241m2\u001b[39m, \u001b[38;5;124m'\u001b[39m\u001b[38;5;124mHello\u001b[39m\u001b[38;5;124m'\u001b[39m)\n",
      "\u001b[1;31mNameError\u001b[0m: name 'my_message' is not defined"
     ]
    }
   ],
   "source": [
    "my_message(2, 'Hello') # 임의로 선언한 함수는 날아가서 사용 불가"
   ]
  },
  {
   "cell_type": "code",
   "execution_count": 8,
   "id": "b10093d7",
   "metadata": {},
   "outputs": [],
   "source": [
    "# 함수 정의 : 4월 16일(수)\n",
    "def my_hello():\n",
    "    print('Hello, Python')\n",
    "    print('Hello, World')\n",
    "def my_hello(cnt):\n",
    "    for i in range(cnt):\n",
    "        print('Hello, Python')\n",
    "        print('Hello, World')"
   ]
  },
  {
   "cell_type": "code",
   "execution_count": 10,
   "id": "a8a664e4",
   "metadata": {},
   "outputs": [
    {
     "name": "stdout",
     "output_type": "stream",
     "text": [
      "Hello, Python\n",
      "Hello, World\n",
      "Hello, Python\n",
      "Hello, World\n"
     ]
    }
   ],
   "source": [
    "# 함수사용 = 함수호출\n",
    "my_hello(2)"
   ]
  },
  {
   "cell_type": "code",
   "execution_count": 11,
   "id": "e269743d",
   "metadata": {},
   "outputs": [
    {
     "data": {
      "text/plain": [
       "<function __main__.my_hello(cnt)>"
      ]
     },
     "execution_count": 11,
     "metadata": {},
     "output_type": "execute_result"
    }
   ],
   "source": [
    "my_hello"
   ]
  },
  {
   "cell_type": "code",
   "execution_count": 12,
   "id": "732ebc01",
   "metadata": {},
   "outputs": [
    {
     "data": {
      "text/plain": [
       "'__main__'"
      ]
     },
     "execution_count": 12,
     "metadata": {},
     "output_type": "execute_result"
    }
   ],
   "source": [
    "__name__ = '__main__'"
   ]
  },
  {
   "cell_type": "code",
   "execution_count": 13,
   "id": "5031c492",
   "metadata": {},
   "outputs": [
    {
     "name": "stdout",
     "output_type": "stream",
     "text": [
      "Hello, Python\n",
      "Hello, World\n",
      "Hello, Python\n",
      "Hello, World\n"
     ]
    }
   ],
   "source": [
    "if __name__ == '__main__':\n",
    "    my_hello(2)"
   ]
  },
  {
   "cell_type": "code",
   "execution_count": 2,
   "id": "51c48458",
   "metadata": {},
   "outputs": [],
   "source": [
    "import ch05      # ch05 모듈을 load"
   ]
  },
  {
   "cell_type": "code",
   "execution_count": 3,
   "id": "5bae6f12",
   "metadata": {},
   "outputs": [
    {
     "name": "stdout",
     "output_type": "stream",
     "text": [
      "Hello, Python\n",
      "Hello, World\n",
      "Hello, Python\n",
      "Hello, World\n"
     ]
    }
   ],
   "source": [
    "ch05.my_hello(2)"
   ]
  },
  {
   "cell_type": "code",
   "execution_count": 5,
   "id": "b9c30572",
   "metadata": {},
   "outputs": [],
   "source": [
    "from ch05 import my_hello   # ch05 모듈 안의 my_hello load"
   ]
  },
  {
   "cell_type": "code",
   "execution_count": 6,
   "id": "3359f89b",
   "metadata": {},
   "outputs": [
    {
     "name": "stdout",
     "output_type": "stream",
     "text": [
      "Hello, Python\n",
      "Hello, World\n",
      "Hello, Python\n",
      "Hello, World\n"
     ]
    }
   ],
   "source": [
    "my_hello(2)"
   ]
  },
  {
   "cell_type": "markdown",
   "id": "4a0d842f",
   "metadata": {},
   "source": [
    "## 1.2 docstring\n",
    "- 함수의 설명서\n",
    "- 함수 맨 첫라인에 작성 \n",
    "- 한줄 작성시 ' 혹은 \"로 시작. 여러줄 작성시 ''' 혹은 \"\"\" 로 시작"
   ]
  },
  {
   "cell_type": "code",
   "execution_count": 8,
   "id": "d598fbc8",
   "metadata": {},
   "outputs": [],
   "source": [
    "def my_fuction():\n",
    "    '''\n",
    "    함수의 첫라인에 독스트링을 포함할 수 있습니다.\n",
    "    독스트링은 함수의 설명서를 달아주는 역할\n",
    "    주석보다 많은 기능(shift+tab으로 독스트링을 볼 수 있음)\n",
    "    '''\n",
    "    pass"
   ]
  },
  {
   "cell_type": "code",
   "execution_count": null,
   "id": "b82bd82a",
   "metadata": {},
   "outputs": [],
   "source": [
    "my_fuction()"
   ]
  },
  {
   "cell_type": "code",
   "execution_count": 11,
   "id": "5cf330ce",
   "metadata": {},
   "outputs": [
    {
     "name": "stdout",
     "output_type": "stream",
     "text": [
      "<function my_fuction at 0x000002848B7AB9A0> \n",
      " \n",
      "    함수의 첫라인에 독스트링을 포함할 수 있습니다.\n",
      "    독스트링은 함수의 설명서를 달아주는 역할\n",
      "    주석보다 많은 기능(shift+tab으로 독스트링을 볼 수 있음)\n",
      "    \n"
     ]
    }
   ],
   "source": [
    "print(my_fuction, \"\\n\", my_fuction.__doc__)"
   ]
  },
  {
   "cell_type": "code",
   "execution_count": 12,
   "id": "790ba0ff",
   "metadata": {},
   "outputs": [],
   "source": [
    "def finonacci(n):\n",
    "    f1, f2=0,1\n",
    "    \n",
    "    while f1 < n:\n",
    "        print(f1, end=\" \")\n",
    "        f1, f2 = f2, f1+f2\n",
    "    print() # 개행"
   ]
  },
  {
   "cell_type": "code",
   "execution_count": 13,
   "id": "151bafb4",
   "metadata": {},
   "outputs": [
    {
     "name": "stdout",
     "output_type": "stream",
     "text": [
      "0 1 1 2 3 5 8 "
     ]
    }
   ],
   "source": [
    "finonacci(10)"
   ]
  },
  {
   "cell_type": "code",
   "execution_count": 14,
   "id": "21500c19",
   "metadata": {},
   "outputs": [],
   "source": [
    "if True:\n",
    "    x = 10"
   ]
  },
  {
   "cell_type": "code",
   "execution_count": 17,
   "id": "a0f005ce",
   "metadata": {},
   "outputs": [
    {
     "ename": "NameError",
     "evalue": "name 'f1' is not defined",
     "output_type": "error",
     "traceback": [
      "\u001b[1;31m---------------------------------------------------------------------------\u001b[0m",
      "\u001b[1;31mNameError\u001b[0m                                 Traceback (most recent call last)",
      "Cell \u001b[1;32mIn[17], line 1\u001b[0m\n\u001b[1;32m----> 1\u001b[0m \u001b[43mf1\u001b[49m, f2\n",
      "\u001b[1;31mNameError\u001b[0m: name 'f1' is not defined"
     ]
    }
   ],
   "source": [
    "f1, f2     # 함수에서 사용한 변수는 다른 블록에선 사용이 불가하다."
   ]
  },
  {
   "cell_type": "markdown",
   "id": "c8441805",
   "metadata": {},
   "source": [
    "## 1.3 지역변수(local var)와 전역변수(global var)\n",
    "- "
   ]
  },
  {
   "cell_type": "code",
   "execution_count": 22,
   "id": "4f49611b",
   "metadata": {},
   "outputs": [
    {
     "name": "stdout",
     "output_type": "stream",
     "text": [
      "함수안 : 100\n",
      "함수밖 : 100\n"
     ]
    }
   ],
   "source": [
    "global_var = 100  # 전역변수\n",
    "def func1():\n",
    "    print('함수안 :', global_var)\n",
    "func1()\n",
    "print('함수밖 :', global_var)"
   ]
  },
  {
   "cell_type": "code",
   "execution_count": 25,
   "id": "04a8e6e6",
   "metadata": {},
   "outputs": [
    {
     "name": "stdout",
     "output_type": "stream",
     "text": [
      "함수안 : 200\n"
     ]
    },
    {
     "ename": "NameError",
     "evalue": "name 'local_var' is not defined",
     "output_type": "error",
     "traceback": [
      "\u001b[1;31m---------------------------------------------------------------------------\u001b[0m",
      "\u001b[1;31mNameError\u001b[0m                                 Traceback (most recent call last)",
      "Cell \u001b[1;32mIn[25], line 5\u001b[0m\n\u001b[0;32m      3\u001b[0m     \u001b[38;5;28mprint\u001b[39m(\u001b[38;5;124m'\u001b[39m\u001b[38;5;124m함수안 :\u001b[39m\u001b[38;5;124m'\u001b[39m, local_var)\n\u001b[0;32m      4\u001b[0m func2()\n\u001b[1;32m----> 5\u001b[0m \u001b[38;5;28mprint\u001b[39m(\u001b[38;5;124m'\u001b[39m\u001b[38;5;124m함수밖 :\u001b[39m\u001b[38;5;124m'\u001b[39m, \u001b[43mlocal_var\u001b[49m)\n",
      "\u001b[1;31mNameError\u001b[0m: name 'local_var' is not defined"
     ]
    }
   ],
   "source": [
    "def func2():\n",
    "    local_var = 200   #지역변수\n",
    "    print('함수안 :', local_var)\n",
    "func2()\n",
    "print('함수밖 :', local_var)  # 에러발생. 지역변수는 함수 밖에서는 사용안됨"
   ]
  },
  {
   "cell_type": "code",
   "execution_count": 28,
   "id": "d7789cfb",
   "metadata": {},
   "outputs": [
    {
     "name": "stdout",
     "output_type": "stream",
     "text": [
      "함수 안(지역변수 g_var) : 200\n",
      "함수 밖(전역변수 g_var) : 100\n"
     ]
    }
   ],
   "source": [
    "g_var = 100 # 전역변수\n",
    "def func3():          # 로컬 심볼 테이블을 열고\n",
    "    g_var = 200       # 로컬 심볼 테이블에서 g_var의 변수에 200을 새로 할당(선언)\n",
    "    print('함수 안(지역변수 g_var) :', g_var)\n",
    "func3()               # 다 실행하고 나면 로컬 심볼 테이블은 없어진다\n",
    "print('함수 밖(전역변수 g_var) :', g_var)   #따라서 이전에 할당(선언)한 g_var = 100이 유지가 되는 것"
   ]
  },
  {
   "cell_type": "code",
   "execution_count": 31,
   "id": "2a39931e",
   "metadata": {},
   "outputs": [
    {
     "ename": "UnboundLocalError",
     "evalue": "local variable 'g_var' referenced before assignment",
     "output_type": "error",
     "traceback": [
      "\u001b[1;31m---------------------------------------------------------------------------\u001b[0m",
      "\u001b[1;31mUnboundLocalError\u001b[0m                         Traceback (most recent call last)",
      "Cell \u001b[1;32mIn[31], line 6\u001b[0m\n\u001b[0;32m      4\u001b[0m     g_var \u001b[38;5;241m=\u001b[39m \u001b[38;5;241m200\u001b[39m  \u001b[38;5;66;03m#지역변수        \u001b[39;00m\n\u001b[0;32m      5\u001b[0m \u001b[38;5;66;03m# 작성 순서 관계없이 변수 선언부터 컴파일을 하고 그 다음 위에서 부터 해석이 됨\u001b[39;00m\n\u001b[1;32m----> 6\u001b[0m \u001b[43mfunc4\u001b[49m\u001b[43m(\u001b[49m\u001b[43m)\u001b[49m\n",
      "Cell \u001b[1;32mIn[31], line 3\u001b[0m, in \u001b[0;36mfunc4\u001b[1;34m()\u001b[0m\n\u001b[0;32m      2\u001b[0m \u001b[38;5;28;01mdef\u001b[39;00m \u001b[38;5;21mfunc4\u001b[39m():\n\u001b[1;32m----> 3\u001b[0m     \u001b[38;5;28mprint\u001b[39m(\u001b[38;5;124m'\u001b[39m\u001b[38;5;124m함수 안 g_var :\u001b[39m\u001b[38;5;124m'\u001b[39m, \u001b[43mg_var\u001b[49m)\n\u001b[0;32m      4\u001b[0m     g_var \u001b[38;5;241m=\u001b[39m \u001b[38;5;241m200\u001b[39m\n",
      "\u001b[1;31mUnboundLocalError\u001b[0m: local variable 'g_var' referenced before assignment"
     ]
    }
   ],
   "source": [
    "# 렉시컬 특성 \n",
    "g_var = 100 # 전역변수\n",
    "def func4():\n",
    "    print('함수 안 g_var :', g_var)\n",
    "    g_var = 200  #지역변수        \n",
    "# 작성 순서 관계없이 변수 선언부터 컴파일을 하고 그 다음 위에서 부터 해석이 됨\n",
    "func4()"
   ]
  },
  {
   "cell_type": "code",
   "execution_count": 34,
   "id": "bca1f842",
   "metadata": {},
   "outputs": [
    {
     "name": "stdout",
     "output_type": "stream",
     "text": [
      "함수 안 g_var : 100\n",
      "함수 밖 g_var : 100\n"
     ]
    }
   ],
   "source": [
    "# 렉시컬 특성 \n",
    "g_var = 100 # 전역변수\n",
    "def func4():\n",
    "    global g_var  # func4 함수내의 g_var는 전역변수를 쓴다\n",
    "    print('함수 안 g_var :', g_var)\n",
    "    g_var = 200  #전역변수        \n",
    "func4()\n",
    "\n",
    "print('함수 밖 g_var :', g_var)\n",
    "# 변수 조회 우선순위 : 로컬 심볼 테이블 > 전역 심볼 테이블> 내장 된 이름 테이블"
   ]
  },
  {
   "cell_type": "markdown",
   "id": "05c1f9e1",
   "metadata": {},
   "source": [
    "## 1.4 값에 의한 호출\n",
    "- 함수의 매개변수(인수)로 전달되는 변수가 스칼라 변수(문자, 숫자, 논리형)일 때"
   ]
  },
  {
   "cell_type": "code",
   "execution_count": 35,
   "id": "e092f9d3",
   "metadata": {},
   "outputs": [
    {
     "data": {
      "text/plain": [
       "2768221005616"
      ]
     },
     "execution_count": 35,
     "metadata": {},
     "output_type": "execute_result"
    }
   ],
   "source": [
    "foo = 'a'   # 전역변수\n",
    "id(foo)"
   ]
  },
  {
   "cell_type": "code",
   "execution_count": 54,
   "id": "4e367d62",
   "metadata": {},
   "outputs": [
    {
     "name": "stdout",
     "output_type": "stream",
     "text": [
      "Before : a id(f): 2768221005616\n",
      "After : aaa id(f): 2768332131312\n"
     ]
    }
   ],
   "source": [
    "def func1(f):   # 매개변수f는 지역변수\n",
    "    print('Before :', f, 'id(f):', id(f))\n",
    "    f = f*3\n",
    "    print('After :', f, 'id(f):', id(f))\n",
    "func1(foo)"
   ]
  },
  {
   "cell_type": "code",
   "execution_count": 38,
   "id": "15572162",
   "metadata": {},
   "outputs": [
    {
     "name": "stdout",
     "output_type": "stream",
     "text": [
      "a\n"
     ]
    }
   ],
   "source": [
    "print(foo)"
   ]
  },
  {
   "cell_type": "markdown",
   "id": "011695fb",
   "metadata": {},
   "source": [
    "## 1.5 참조에 의한 호출\n",
    "- 함수의 매개변수(인수)로 전달되는 변수가 리스트, 튜플, 셋, 딕셔너리, 객체일 경우"
   ]
  },
  {
   "cell_type": "code",
   "execution_count": 55,
   "id": "bbfd5ee3",
   "metadata": {},
   "outputs": [
    {
     "data": {
      "text/plain": [
       "2768332529792"
      ]
     },
     "execution_count": 55,
     "metadata": {},
     "output_type": "execute_result"
    }
   ],
   "source": [
    "soo = [1,2,3]\n",
    "id(soo)"
   ]
  },
  {
   "cell_type": "code",
   "execution_count": 56,
   "id": "c23af07c",
   "metadata": {},
   "outputs": [
    {
     "name": "stdout",
     "output_type": "stream",
     "text": [
      "Before: [1, 2, 3] id(f): 2768332529792\n",
      "After: [1, 2, 3, 4] id(f): 2768332529792\n"
     ]
    }
   ],
   "source": [
    "def func2(f):\n",
    "    print('Before:', f, 'id(f):', id(f))\n",
    "    f.append(4)            # 재할당을 한것이 아니라 append 한 것이므로 f의 주소는 동일하다\n",
    "    print('After:', f, 'id(f):', id(f))\n",
    "func2(soo)"
   ]
  },
  {
   "cell_type": "code",
   "execution_count": 57,
   "id": "92542bc8",
   "metadata": {},
   "outputs": [
    {
     "data": {
      "text/plain": [
       "2768332529792"
      ]
     },
     "execution_count": 57,
     "metadata": {},
     "output_type": "execute_result"
    }
   ],
   "source": [
    "id(soo)"
   ]
  },
  {
   "cell_type": "markdown",
   "id": "2947010d",
   "metadata": {},
   "source": [
    "# 2절. 함수의 실행결과를 반환하는 return"
   ]
  },
  {
   "cell_type": "code",
   "execution_count": 66,
   "id": "c73db3de",
   "metadata": {},
   "outputs": [],
   "source": [
    "# return 뒤에 값을 가지고 호출한 함수로 간다\n",
    "def add(a):\n",
    "    pass   \n",
    "    "
   ]
  },
  {
   "cell_type": "code",
   "execution_count": 68,
   "id": "50b885db",
   "metadata": {},
   "outputs": [
    {
     "name": "stdout",
     "output_type": "stream",
     "text": [
      "None\n"
     ]
    }
   ],
   "source": [
    "print(add(10))"
   ]
  },
  {
   "cell_type": "code",
   "execution_count": 92,
   "id": "b9999a63",
   "metadata": {},
   "outputs": [],
   "source": [
    "# 피보나치 배열을 리턴하는 함수 만들기\n",
    "def fibonaccii_print(n):\n",
    "    '''\n",
    "    매개변수로 들어온 n값 미만의 피보나치 수열을 출력\n",
    "    ex. n=10 이면 0 1 1 2 3 4 8 을 출력\n",
    "    '''\n",
    "    f1, f2=0,1    \n",
    "    while f1 < n:\n",
    "        print(f1, end=\" \")\n",
    "        f1, f2 = f2, f1+f2\n",
    "    print()\n",
    "    \n",
    "def fibonacci_return(n):\n",
    "    '''\n",
    "    매개변수로 들어온 n값 미만의 피보나치 수열을 리스트로 return\n",
    "    ex. n=10 이면 [0 1 1 2 3 4 8] 를 만들어서 return\n",
    "    '''\n",
    "    F = []\n",
    "    f1, f2=0,1\n",
    "    while f1 < n:\n",
    "        F.append(f1)\n",
    "        f1, f2 = f2, f1+f2\n",
    "    return F             # return은 하나 값만 리턴할 수 있다."
   ]
  },
  {
   "cell_type": "code",
   "execution_count": 90,
   "id": "9efcacb6",
   "metadata": {},
   "outputs": [
    {
     "name": "stdout",
     "output_type": "stream",
     "text": [
      "0 1 1 2 3 5 8 13 21 34 55 89 \n",
      "None\n"
     ]
    }
   ],
   "source": [
    "x = fibonaccii_print(100)\n",
    "print(x)"
   ]
  },
  {
   "cell_type": "code",
   "execution_count": 93,
   "id": "28b7754e",
   "metadata": {},
   "outputs": [
    {
     "name": "stdout",
     "output_type": "stream",
     "text": [
      "[0, 1, 1, 2, 3, 5, 8, 13, 21, 34, 55, 89]\n",
      "<class 'list'>\n"
     ]
    }
   ],
   "source": [
    "x = fibonacci_return(100)\n",
    "print(x)\n",
    "print(type(x))"
   ]
  },
  {
   "cell_type": "markdown",
   "id": "fc33080a",
   "metadata": {},
   "source": [
    "## 여러 개 값 return"
   ]
  },
  {
   "cell_type": "code",
   "execution_count": 95,
   "id": "4f543459",
   "metadata": {},
   "outputs": [],
   "source": [
    "def swap(a,b):\n",
    "    '매개 변수의 순서를 바꿔서 리턴'\n",
    "    return b, a       # 자동으로 튜플로 팩킹하여 전달"
   ]
  },
  {
   "cell_type": "code",
   "execution_count": 98,
   "id": "4746ca5e",
   "metadata": {},
   "outputs": [
    {
     "name": "stdout",
     "output_type": "stream",
     "text": [
      "함수 실행 전 x=10, y=11\n",
      "함수 실행 후 x=11, y=10\n"
     ]
    }
   ],
   "source": [
    "x, y= 10, 11  # => x, y = (10, 11)\n",
    "print(f'함수 실행 전 x={x}, y={y}')\n",
    "x, y = swap(x, y)\n",
    "print(f'함수 실행 후 x={x}, y={y}')"
   ]
  },
  {
   "cell_type": "markdown",
   "id": "3d19726a",
   "metadata": {},
   "source": [
    "# 3절. 함수 매개변수 ★\n",
    "## 3.1 기본값을 갖는 매개변수"
   ]
  },
  {
   "cell_type": "code",
   "execution_count": 102,
   "id": "ea6b2fc8",
   "metadata": {},
   "outputs": [],
   "source": [
    "def make_url(ip,port=80):  # port의 기본값을 80으로 두겠다\n",
    "    return \"http://{}:{}\".format(ip, port)\n",
    "# 순서인수(기본값을 갖지 않는 매개변수) > 기본값을 갖는 매개변수"
   ]
  },
  {
   "cell_type": "code",
   "execution_count": 106,
   "id": "977e16a8",
   "metadata": {},
   "outputs": [
    {
     "name": "stdout",
     "output_type": "stream",
     "text": [
      "http://www.naver.com:80\n",
      "http://localhost:8090\n",
      "http://localhost:8090\n"
     ]
    }
   ],
   "source": [
    "print(make_url('www.naver.com'))\n",
    "print(make_url('localhost',8090))\n",
    "print(make_url(port=8090, ip='localhost'))  # 함수를 호출할때 키워드 인수(인수에 매개변수 이름과 값을 넣으면) 순서 관계 없이 처리됨"
   ]
  },
  {
   "cell_type": "markdown",
   "id": "d1c2433a",
   "metadata": {},
   "source": [
    "## 3.2 기본 변수를 갖는 매개변수\n",
    "- 기본 변수가 스칼라 변수일 때\n",
    "- 기본 변수가 리스트, 셋, 딕셔너리 등의 객체일 때"
   ]
  },
  {
   "cell_type": "code",
   "execution_count": 112,
   "id": "369407cb",
   "metadata": {},
   "outputs": [],
   "source": [
    "i = 5\n",
    "\n",
    "# 기본 값을 갖는 변수가 스칼라 변수일때 : arg의 기본값은 함수가 정의되는 시점의 값\n",
    "def func2(arg=i):\n",
    "    print('arg=', arg)"
   ]
  },
  {
   "cell_type": "code",
   "execution_count": 113,
   "id": "88b2db07",
   "metadata": {},
   "outputs": [
    {
     "name": "stdout",
     "output_type": "stream",
     "text": [
      "arg= 5\n"
     ]
    }
   ],
   "source": [
    "i = 50    # 이미 함수가 정의된 이후이므로, 함수 내 i의 값이 변하지 않는 것\n",
    "func2()"
   ]
  },
  {
   "cell_type": "code",
   "execution_count": 114,
   "id": "03395fb6",
   "metadata": {},
   "outputs": [],
   "source": [
    "list_ = []\n",
    "# 기본 값을 갖는 변수가 객체(데이터구조) 일 때 : 참조된 객체를 호출하는 시점의 값\n",
    "def func3(data, L=list_):\n",
    "    'data를 L에 append'\n",
    "    L.append(data)\n",
    "    return L"
   ]
  },
  {
   "cell_type": "code",
   "execution_count": 121,
   "id": "1bcc24b7",
   "metadata": {},
   "outputs": [
    {
     "data": {
      "text/plain": [
       "[10, 9, 3, 8, 10]"
      ]
     },
     "execution_count": 121,
     "metadata": {},
     "output_type": "execute_result"
    }
   ],
   "source": [
    "func3(10)   # list_가 수정"
   ]
  },
  {
   "cell_type": "code",
   "execution_count": 127,
   "id": "ee022750",
   "metadata": {},
   "outputs": [],
   "source": [
    "def func4(data, L=None):\n",
    "    if L==None:\n",
    "        L =[]\n",
    "    L.append(data)\n",
    "    return L"
   ]
  },
  {
   "cell_type": "code",
   "execution_count": 129,
   "id": "ae5cc8b4",
   "metadata": {},
   "outputs": [
    {
     "name": "stdout",
     "output_type": "stream",
     "text": [
      "[10]\n",
      "[10]\n"
     ]
    }
   ],
   "source": [
    "print(func4(10))\n",
    "print(func4(10, ))"
   ]
  },
  {
   "cell_type": "markdown",
   "id": "443a0fbf",
   "metadata": {},
   "source": [
    "## 3.3 튜플 매개변수를 이용한 가변인수 설정\n",
    "- *인수 로 작성하면 함수에 1개부터 n개의 인수를 입력할 수 있게 되는데 이를 튜플 매개변수라고 함"
   ]
  },
  {
   "cell_type": "code",
   "execution_count": null,
   "id": "c4413e6e",
   "metadata": {},
   "outputs": [],
   "source": [
    "# 파이썬은 오버로딩(함수의 중복)을 지원하지 않음\n",
    "def add(a,b):\n",
    "    return a+b\n",
    "def add(a,b,c,d):\n",
    "    return a+b+c+d"
   ]
  },
  {
   "cell_type": "code",
   "execution_count": 135,
   "id": "f4df0fa4",
   "metadata": {},
   "outputs": [],
   "source": [
    "# args : 매개변수들을 하나의 튜플 변수 args로 전달받음 <- 튜플 매개변수\n",
    "def add(*args):\n",
    "    '전달 받은 매개변수 들의 합을 return'\n",
    "    #print('args:', args)\n",
    "    result_tot = 0     #누적변수\n",
    "    for num in args:\n",
    "        result_tot += num \n",
    "    return result_tot\n",
    "        "
   ]
  },
  {
   "cell_type": "code",
   "execution_count": 136,
   "id": "b8171235",
   "metadata": {},
   "outputs": [
    {
     "data": {
      "text/plain": [
       "60"
      ]
     },
     "execution_count": 136,
     "metadata": {},
     "output_type": "execute_result"
    }
   ],
   "source": [
    "add(10,20,30)"
   ]
  },
  {
   "cell_type": "code",
   "execution_count": null,
   "id": "606c6664",
   "metadata": {},
   "outputs": [],
   "source": [
    "subject = ('Python', 'Oracle', 'DL', 'ML')"
   ]
  },
  {
   "cell_type": "code",
   "execution_count": 145,
   "id": "ee4b48cd",
   "metadata": {},
   "outputs": [
    {
     "ename": "TypeError",
     "evalue": "concat() missing 1 required keyword-only argument: 'sep'",
     "output_type": "error",
     "traceback": [
      "\u001b[1;31m---------------------------------------------------------------------------\u001b[0m",
      "\u001b[1;31mTypeError\u001b[0m                                 Traceback (most recent call last)",
      "Cell \u001b[1;32mIn[145], line 3\u001b[0m\n\u001b[0;32m      1\u001b[0m \u001b[38;5;28;01mdef\u001b[39;00m \u001b[38;5;21mconcat\u001b[39m(\u001b[38;5;241m*\u001b[39msubject, sep):\n\u001b[0;32m      2\u001b[0m     \u001b[38;5;28;01mreturn\u001b[39;00m sep\u001b[38;5;241m.\u001b[39mjoin(subject)\n\u001b[1;32m----> 3\u001b[0m \u001b[43mconcat\u001b[49m\u001b[43m(\u001b[49m\u001b[38;5;124;43m\"\u001b[39;49m\u001b[38;5;124;43mPython\u001b[39;49m\u001b[38;5;124;43m\"\u001b[39;49m\u001b[43m,\u001b[49m\u001b[43m \u001b[49m\u001b[38;5;124;43m\"\u001b[39;49m\u001b[38;5;124;43mOracle\u001b[39;49m\u001b[38;5;124;43m\"\u001b[39;49m\u001b[43m,\u001b[49m\u001b[43m \u001b[49m\u001b[38;5;124;43m\"\u001b[39;49m\u001b[38;5;124;43mwebStandard\u001b[39;49m\u001b[38;5;124;43m\"\u001b[39;49m\u001b[43m,\u001b[49m\u001b[43m \u001b[49m\u001b[38;5;124;43m'\u001b[39;49m\u001b[38;5;124;43mDL\u001b[39;49m\u001b[38;5;124;43m'\u001b[39;49m\u001b[43m,\u001b[49m\u001b[43m \u001b[49m\u001b[38;5;124;43m'\u001b[39;49m\u001b[38;5;124;43mML\u001b[39;49m\u001b[38;5;124;43m'\u001b[39;49m\u001b[43m,\u001b[49m\u001b[43m \u001b[49m\u001b[38;5;124;43m'\u001b[39;49m\u001b[38;5;124;43m/\u001b[39;49m\u001b[38;5;124;43m'\u001b[39;49m\u001b[43m)\u001b[49m\n",
      "\u001b[1;31mTypeError\u001b[0m: concat() missing 1 required keyword-only argument: 'sep'"
     ]
    }
   ],
   "source": [
    "def concat(*subject, sep):\n",
    "    return sep.join(subject)\n",
    "concat(\"Python\", \"Oracle\", \"webStandard\", 'DL', 'ML', '/')\n",
    "#       => python/Oracle/webStandard/javaScript"
   ]
  },
  {
   "cell_type": "code",
   "execution_count": 141,
   "id": "80a03c2e",
   "metadata": {},
   "outputs": [
    {
     "data": {
      "text/plain": [
       "'Python/Oracle/webStandard,DL/ML'"
      ]
     },
     "execution_count": 141,
     "metadata": {},
     "output_type": "execute_result"
    }
   ],
   "source": [
    "# 에러 해결책 1 : 매개변수 이름을 지정해서 호출\n",
    "concat(\"Python\", \"Oracle\", \"webStandard,\" 'DL', 'ML', sep='/')"
   ]
  },
  {
   "cell_type": "code",
   "execution_count": 144,
   "id": "7287300d",
   "metadata": {},
   "outputs": [
    {
     "data": {
      "text/plain": [
       "'Python ~ Oracle ~ webStandard,DL ~ ML'"
      ]
     },
     "execution_count": 144,
     "metadata": {},
     "output_type": "execute_result"
    }
   ],
   "source": [
    "# 해결책 2 : 함수 만들때부터 기본값을 갖는 키워드 인수로 사용\n",
    "\n",
    "def concat(*subject, sep=' ~ '):    # 키워드 인수 sep=\n",
    "    return sep.join(subject)\n",
    "concat(\"Python\", \"Oracle\", \"webStandard,\" 'DL', 'ML')"
   ]
  },
  {
   "cell_type": "code",
   "execution_count": 146,
   "id": "7b4933fc",
   "metadata": {},
   "outputs": [
    {
     "data": {
      "text/plain": [
       "'Python / Oracle / webStandard,DL / ML'"
      ]
     },
     "execution_count": 146,
     "metadata": {},
     "output_type": "execute_result"
    }
   ],
   "source": [
    "concat(\"Python\", \"Oracle\", \"webStandard,\" 'DL', 'ML', sep=\" / \")"
   ]
  },
  {
   "cell_type": "code",
   "execution_count": 150,
   "id": "768c1f10",
   "metadata": {},
   "outputs": [],
   "source": [
    "# 해결책 3 sep을 순서인수로 앞에 선언. 단, 기본값을 선언해봐야 무의미함\n",
    "def concat(sep=' ~ ', *subject):\n",
    "    return sep.join(subject)\n"
   ]
  },
  {
   "cell_type": "code",
   "execution_count": 155,
   "id": "f9207d56",
   "metadata": {},
   "outputs": [
    {
     "name": "stdout",
     "output_type": "stream",
     "text": [
      "Python / Oracle / webStandard / DL / ML\n",
      "OraclePythonwebStandardPythonDLPythonML\n"
     ]
    }
   ],
   "source": [
    "print(concat(' / ', \"Python\", \"Oracle\", \"webStandard\", 'DL', 'ML'))\n",
    "print(concat(\"Python\", \"Oracle\", \"webStandard\", 'DL', 'ML'))  \n",
    "# ' / ' 생략하면 맨 앞 인자가 sep이 됨. 즉, 기본값을 선언해봐야 무의미함"
   ]
  },
  {
   "cell_type": "markdown",
   "id": "599fc5db",
   "metadata": {},
   "source": [
    "## 3.4 딕셔너리 매개변수\n",
    "- 여러 개의 키워드 인수를 딕셔너리 형태로 받아서 가변 키워드 인수 처리"
   ]
  },
  {
   "cell_type": "code",
   "execution_count": 161,
   "id": "de6c3040",
   "metadata": {},
   "outputs": [],
   "source": [
    "def func5(**kwargs):\n",
    "#    print(kwargs)\n",
    "    print(type(kwargs))\n",
    "    print('이름 : ', kwargs.get('name', '대마왕'))\n",
    "    print('나이 : ', kwargs.get('age', 30))\n",
    "    print('주소 : ', kwargs.get('address', '서울'))"
   ]
  },
  {
   "cell_type": "code",
   "execution_count": 162,
   "id": "ae54d0ba",
   "metadata": {},
   "outputs": [
    {
     "name": "stdout",
     "output_type": "stream",
     "text": [
      "<class 'dict'>\n",
      "이름 :  홍길동\n",
      "나이 :  30\n",
      "주소 :  신림동\n"
     ]
    }
   ],
   "source": [
    "func5(name='홍길동', age=30, address='신림동')"
   ]
  },
  {
   "cell_type": "code",
   "execution_count": 165,
   "id": "5ff4eb31",
   "metadata": {},
   "outputs": [
    {
     "name": "stdout",
     "output_type": "stream",
     "text": [
      "<class 'dict'>\n",
      "이름 :  대마왕\n",
      "나이 :  18888\n",
      "주소 :  서울\n"
     ]
    }
   ],
   "source": [
    "func5(age=18888)"
   ]
  },
  {
   "cell_type": "markdown",
   "id": "aaf80e98",
   "metadata": {},
   "source": [
    "## 3.5 함수 정의시 매개변수 순서\n",
    "- 순서인수 > 튜플매개변수(*) > 키워드인수(매개변수이름 명시) > 딕셔너리매개변수(**)"
   ]
  },
  {
   "cell_type": "code",
   "execution_count": 166,
   "id": "a7b87b04",
   "metadata": {},
   "outputs": [],
   "source": [
    "def func6(a, b, *c, **d):\n",
    "    print('순서인수 a:', a)\n",
    "    print('순서인수 b:', b)\n",
    "    print('튜플인수 c:', c)\n",
    "    print('딕셔너리인수 d:', d)"
   ]
  },
  {
   "cell_type": "code",
   "execution_count": 167,
   "id": "c5783549",
   "metadata": {},
   "outputs": [
    {
     "name": "stdout",
     "output_type": "stream",
     "text": [
      "순서인수 a: 10\n",
      "순서인수 b: 20\n",
      "튜플인수 c: (1, 2, 3, 4, 5)\n",
      "딕셔너리인수 d: {'name': '홍길동', 'age': 30, 'address': '서울'}\n"
     ]
    }
   ],
   "source": [
    "func6(10,20, 1,2,3,4,5, name='홍길동', age=30, address='서울')"
   ]
  },
  {
   "cell_type": "code",
   "execution_count": 168,
   "id": "44c00055",
   "metadata": {},
   "outputs": [],
   "source": [
    "def func7(a,b,*c, d='기본값', **e):\n",
    "    print('순서인수 a:', a)\n",
    "    print('순서인수 b:', b)\n",
    "    print('튜플인수 c:', c)\n",
    "    print('키워드인수 d:', d)    #(키워드 인수 : 기본값을 갖는 인수, 호출시 매개변수 이름을 반드시 명시)\n",
    "    print('딕셔너리인수 e:', e)"
   ]
  },
  {
   "cell_type": "code",
   "execution_count": 170,
   "id": "fad3699b",
   "metadata": {},
   "outputs": [
    {
     "name": "stdout",
     "output_type": "stream",
     "text": [
      "순서인수 a: 10\n",
      "순서인수 b: 20\n",
      "튜플인수 c: (1, 2, 3, 4, 5)\n",
      "키워드인수 d: 카페\n",
      "딕셔너리인수 e: {'name': '홍길동', 'age': 30, 'address': '서울'}\n"
     ]
    }
   ],
   "source": [
    "func7(10,20, 1,2,3,4,5, d='카페', name='홍길동', age=30, address='서울')"
   ]
  },
  {
   "cell_type": "code",
   "execution_count": 171,
   "id": "1e9accb8",
   "metadata": {},
   "outputs": [
    {
     "name": "stdout",
     "output_type": "stream",
     "text": [
      "순서인수 a: 10\n",
      "순서인수 b: 20\n",
      "튜플인수 c: (1, 2, 3, 4, 5, '카페')\n",
      "키워드인수 d: 기본값\n",
      "딕셔너리인수 e: {'name': '홍길동', 'age': 30, 'address': '서울'}\n"
     ]
    }
   ],
   "source": [
    "func7(10,20, 1,2,3,4,5, '카페', name='홍길동', age=30, address='서울')"
   ]
  },
  {
   "cell_type": "markdown",
   "id": "d03e62d2",
   "metadata": {},
   "source": [
    "## 3.6 인수의 언패킹\n",
    "### 튜플 인수 언패킹\n",
    "- 언패킹 : 함수 호출시 매개변수 앞에 *붙임\n",
    "- 패킹 : 함수 정의시 매개변수 앞에 * 붙임"
   ]
  },
  {
   "cell_type": "code",
   "execution_count": 179,
   "id": "834b90fb",
   "metadata": {},
   "outputs": [],
   "source": [
    "def add(*args):\n",
    "    print(args)\n",
    "    tot = 0\n",
    "    for num in args:\n",
    "        tot += num\n",
    "    return tot"
   ]
  },
  {
   "cell_type": "code",
   "execution_count": 180,
   "id": "1d0af3ba",
   "metadata": {},
   "outputs": [
    {
     "name": "stdout",
     "output_type": "stream",
     "text": [
      "(1, 2, 3, 4, 5)\n"
     ]
    },
    {
     "data": {
      "text/plain": [
       "15"
      ]
     },
     "execution_count": 180,
     "metadata": {},
     "output_type": "execute_result"
    }
   ],
   "source": [
    "add(1,2,3,4,5)"
   ]
  },
  {
   "cell_type": "code",
   "execution_count": 182,
   "id": "683e985a",
   "metadata": {},
   "outputs": [
    {
     "name": "stdout",
     "output_type": "stream",
     "text": [
      "(1, 2, 3, 4, 5)\n"
     ]
    },
    {
     "data": {
      "text/plain": [
       "15"
      ]
     },
     "execution_count": 182,
     "metadata": {},
     "output_type": "execute_result"
    }
   ],
   "source": [
    "numbers = [1,2,3,4,5]\n",
    "add(*numbers)  # 언패킹  * 튜플과 리스트 둘다 언패킹 가능"
   ]
  },
  {
   "cell_type": "code",
   "execution_count": 183,
   "id": "42fd58be",
   "metadata": {},
   "outputs": [
    {
     "name": "stdout",
     "output_type": "stream",
     "text": [
      "(1, 2, 3, 4, 5)\n"
     ]
    },
    {
     "data": {
      "text/plain": [
       "15"
      ]
     },
     "execution_count": 183,
     "metadata": {},
     "output_type": "execute_result"
    }
   ],
   "source": [
    "numbers = (1,2,3,4,5)\n",
    "add(*numbers)"
   ]
  },
  {
   "cell_type": "markdown",
   "id": "caea75e3",
   "metadata": {},
   "source": [
    "### 딕셔너리 인수 언패킹\n",
    "- 언패킹 : 함수 호출시 매개변수 앞에 ** 붙임\n",
    "- 패킹 : 함수 정의시 매개변수 앞에 ** 붙임"
   ]
  },
  {
   "cell_type": "code",
   "execution_count": 190,
   "id": "16299f29",
   "metadata": {},
   "outputs": [],
   "source": [
    "def func5(**data):\n",
    "    print(type(data))\n",
    "    for key, item in data.items():\n",
    "        print(f'{key}:{item}')        "
   ]
  },
  {
   "cell_type": "code",
   "execution_count": 191,
   "id": "9f7df472",
   "metadata": {},
   "outputs": [
    {
     "name": "stdout",
     "output_type": "stream",
     "text": [
      "<class 'dict'>\n",
      "name:Killdong\n",
      "age:30\n",
      "address:Seoul\n"
     ]
    }
   ],
   "source": [
    "func5(name='Killdong', age=30, address='Seoul')"
   ]
  },
  {
   "cell_type": "code",
   "execution_count": 192,
   "id": "b88c6501",
   "metadata": {},
   "outputs": [
    {
     "name": "stdout",
     "output_type": "stream",
     "text": [
      "<class 'dict'>\n",
      "name:홍길동\n",
      "age:30\n",
      "address:서울시 강남구\n",
      "score:900\n"
     ]
    }
   ],
   "source": [
    "customInfo = {'name':'홍길동', 'age':30, 'address':'서울시 강남구', 'score':900}\n",
    "func5(**customInfo)"
   ]
  },
  {
   "cell_type": "markdown",
   "id": "145c1b3b",
   "metadata": {},
   "source": [
    "# 4절. 람다식(lambda)\n",
    "- return 한줄짜리 작은 익명 함수. \n",
    "- **lambda 매개변수 : 명령문**     # 리턴을 해야할때만 사용\n",
    "- 이름이 없으므로 호출을 하려면 \"람다식을 변수에 할당\"하거나 \"람다식(매개변수)\" 방식으로 사용\n",
    "## 4.1 람다식 연습"
   ]
  },
  {
   "cell_type": "code",
   "execution_count": 193,
   "id": "2941b974",
   "metadata": {},
   "outputs": [
    {
     "data": {
      "text/plain": [
       "7"
      ]
     },
     "execution_count": 193,
     "metadata": {},
     "output_type": "execute_result"
    }
   ],
   "source": [
    "def add(a,b):\n",
    "    return a+b\n",
    "add(3,4)"
   ]
  },
  {
   "cell_type": "code",
   "execution_count": 196,
   "id": "a92a6049",
   "metadata": {},
   "outputs": [
    {
     "data": {
      "text/plain": [
       "6"
      ]
     },
     "execution_count": 196,
     "metadata": {},
     "output_type": "execute_result"
    }
   ],
   "source": [
    "add2= lambda a, b : a+b\n",
    "add2(5,1)"
   ]
  },
  {
   "cell_type": "code",
   "execution_count": 198,
   "id": "6a24c349",
   "metadata": {},
   "outputs": [
    {
     "name": "stdout",
     "output_type": "stream",
     "text": [
      "<class 'function'> <class 'function'>\n"
     ]
    }
   ],
   "source": [
    "print(type(add), type(add2))"
   ]
  },
  {
   "cell_type": "code",
   "execution_count": 197,
   "id": "70a5ba1c",
   "metadata": {},
   "outputs": [
    {
     "data": {
      "text/plain": [
       "7"
      ]
     },
     "execution_count": 197,
     "metadata": {},
     "output_type": "execute_result"
    }
   ],
   "source": [
    "(lambda a, b : a+b)(3,4)"
   ]
  },
  {
   "cell_type": "code",
   "execution_count": 231,
   "id": "a3dbe041",
   "metadata": {},
   "outputs": [
    {
     "data": {
      "text/plain": [
       "'짝수'"
      ]
     },
     "execution_count": 231,
     "metadata": {},
     "output_type": "execute_result"
    }
   ],
   "source": [
    "# ex1. 매개변수로 들어온 값이 '짝수'인지 '홀수'인지 리턴\n",
    "# 일반 함수로 선언\n",
    "def ex1(num):\n",
    "    if num %2:\n",
    "        result = '홀수'\n",
    "    else:\n",
    "        result = '짝수' \n",
    "    return result\n",
    "ex1(6)"
   ]
  },
  {
   "cell_type": "code",
   "execution_count": 232,
   "id": "896d398c",
   "metadata": {},
   "outputs": [
    {
     "data": {
      "text/plain": [
       "'홀수'"
      ]
     },
     "execution_count": 232,
     "metadata": {},
     "output_type": "execute_result"
    }
   ],
   "source": [
    "# 람다식으로 선언\n",
    "ex1 = lambda num : '홀수' if num%2 else '짝수'\n",
    "ex1(3)"
   ]
  },
  {
   "cell_type": "code",
   "execution_count": 206,
   "id": "7b287055",
   "metadata": {},
   "outputs": [
    {
     "data": {
      "text/plain": [
       "5"
      ]
     },
     "execution_count": 206,
     "metadata": {},
     "output_type": "execute_result"
    }
   ],
   "source": [
    "# ex2. 2개의 매개변수의 차이를 리턴 (큰수에서 작은수 빼기)\n",
    "\n",
    "ex2 = lambda a,b : a-b if a>b else b-a\n",
    "ex2(5,10)"
   ]
  },
  {
   "cell_type": "code",
   "execution_count": 233,
   "id": "538b501f",
   "metadata": {},
   "outputs": [
    {
     "data": {
      "text/plain": [
       "0"
      ]
     },
     "execution_count": 233,
     "metadata": {},
     "output_type": "execute_result"
    }
   ],
   "source": [
    "# ex3. 매개변수로 잔액을 받아 양수면 잔액을 리턴, 음수면 'negative' 리턴\n",
    "\n",
    "ex3 = lambda money : money if money>=0 else 'negative' \n",
    "ex3(0)"
   ]
  },
  {
   "cell_type": "code",
   "execution_count": 236,
   "id": "67a90413",
   "metadata": {},
   "outputs": [
    {
     "data": {
      "text/plain": [
       "'B팀'"
      ]
     },
     "execution_count": 236,
     "metadata": {},
     "output_type": "execute_result"
    }
   ],
   "source": [
    "# ex4. 점수를 입력받아 80점 이상은 'A팀', 60점 이상은 'B팀' 60점 미만은 재시험, 그외는 유효하지 않음\n",
    "\n",
    "ex4 = lambda score : 'A팀' if 100>= score >=80 else \\\n",
    "                    'B팀' if 80> score >=60 else \\\n",
    "                    '재시험' if 60> score >=0  else \\\n",
    "                    '유효하지 않음'\n",
    "ex4(60)"
   ]
  },
  {
   "cell_type": "code",
   "execution_count": 225,
   "id": "3386ffa4",
   "metadata": {},
   "outputs": [
    {
     "data": {
      "text/plain": [
       "-1"
      ]
     },
     "execution_count": 225,
     "metadata": {},
     "output_type": "execute_result"
    }
   ],
   "source": [
    "# ex5. safe_index 를 람다식으로\n",
    "def safe_index(lst, data):\n",
    "     if data in lst: # lst 안에 data가 있는지 여부\n",
    "        return lst.index(data)\n",
    "     else:\n",
    "        return -1  \n",
    "\n",
    "ex5 = lambda lst, data : lst.index(data) if data in lst else -1\n",
    "ex5([1,2,3,4,5],0)"
   ]
  },
  {
   "cell_type": "code",
   "execution_count": null,
   "id": "1d4add75",
   "metadata": {},
   "outputs": [],
   "source": []
  },
  {
   "cell_type": "code",
   "execution_count": null,
   "id": "ccc7052f",
   "metadata": {},
   "outputs": [],
   "source": []
  }
 ],
 "metadata": {
  "kernelspec": {
   "display_name": "Python 3 (ipykernel)",
   "language": "python",
   "name": "python3"
  },
  "language_info": {
   "codemirror_mode": {
    "name": "ipython",
    "version": 3
   },
   "file_extension": ".py",
   "mimetype": "text/x-python",
   "name": "python",
   "nbconvert_exporter": "python",
   "pygments_lexer": "ipython3",
   "version": "3.10.9"
  },
  "toc": {
   "base_numbering": 1,
   "nav_menu": {},
   "number_sections": false,
   "sideBar": true,
   "skip_h1_title": false,
   "title_cell": "Table of Contents",
   "title_sidebar": "Contents",
   "toc_cell": false,
   "toc_position": {
    "height": "calc(100% - 180px)",
    "left": "10px",
    "top": "150px",
    "width": "196px"
   },
   "toc_section_display": true,
   "toc_window_display": true
  }
 },
 "nbformat": 4,
 "nbformat_minor": 5
}
