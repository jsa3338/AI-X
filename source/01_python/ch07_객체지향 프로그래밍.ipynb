{
 "cells": [
  {
   "cell_type": "code",
   "execution_count": 1,
   "id": "28ae626f",
   "metadata": {},
   "outputs": [
    {
     "data": {
      "text/html": [
       "\n",
       "<style>\n",
       "div.container{width:86% !important;}\n",
       "div.cell.code_cell.rendered{width:100%;}\n",
       "div.CodeMirror {font-family:Consolas; font-size:12pt;}\n",
       "div.output {font-size:12pt; font-weight:bold;}\n",
       "div.input {font-family:Consolas; font-size:12pt;}\n",
       "div.prompt {min-width:70px;}\n",
       "div#toc-wrapper{padding-top:120px;}\n",
       "div.text_cell_render ul li{font-size:12pt;padding:5px;}\n",
       "table.dataframe{font-size:12px;}\n",
       "</style>\n"
      ],
      "text/plain": [
       "<IPython.core.display.HTML object>"
      ]
     },
     "metadata": {},
     "output_type": "display_data"
    }
   ],
   "source": [
    "from IPython.display import display, HTML\n",
    "display(HTML(\"\"\"\n",
    "<style>\n",
    "div.container{width:86% !important;}\n",
    "div.cell.code_cell.rendered{width:100%;}\n",
    "div.CodeMirror {font-family:Consolas; font-size:12pt;}\n",
    "div.output {font-size:12pt; font-weight:bold;}\n",
    "div.input {font-family:Consolas; font-size:12pt;}\n",
    "div.prompt {min-width:70px;}\n",
    "div#toc-wrapper{padding-top:120px;}\n",
    "div.text_cell_render ul li{font-size:12pt;padding:5px;}\n",
    "table.dataframe{font-size:12px;}\n",
    "</style>\n",
    "\"\"\"))"
   ]
  },
  {
   "cell_type": "markdown",
   "id": "5096b7c1",
   "metadata": {},
   "source": [
    "<b><font size=\"5\" color=\"red\">ch07. 객체지향 프로그래밍 </font></b>\n",
    "\n",
    "- 프로그래밍 언어는 객체지향 언어와 함수지향 언어가 있다\n",
    "- 아래는 개념 익히기"
   ]
  },
  {
   "cell_type": "code",
   "execution_count": 7,
   "id": "97afaf72",
   "metadata": {},
   "outputs": [
    {
     "name": "stdout",
     "output_type": "stream",
     "text": [
      "kil dong male MBC\n",
      "kkil suk None MBC\n"
     ]
    }
   ],
   "source": [
    "person1 = {'name':'kil dong', 'gender':'male','accademy':'MBC'}\n",
    "person2 = {'name':'kil suk', 'sender':'female', 'accademy':'MBC'}\n",
    "print(person1['name'], person1['gender'], person1['accademy'])\n",
    "person2['name'] = 'kkil suk'\n",
    "print(person2['name'], person2.get('gender'), person2['accademy'])"
   ]
  },
  {
   "cell_type": "code",
   "execution_count": 24,
   "id": "d3fe3425",
   "metadata": {},
   "outputs": [],
   "source": [
    "# person 타입의 클래스를 만들겠다.\n",
    "# 클래스 이름은 대문자로 시작. 카멜형으로 작성\n",
    "# 클래스 안의 함수는 인스턴스 함수라고 부르며, 매개변수는 일반적으로 self를 쓴다. self = '내 객체의'\n",
    "class Person:                   \n",
    "    # (Object)는 주로 생략된다. __str__() 함수 는 Object 안에 있는데, 클래스를 만들때 Person 클래스로 상속시킨다\n",
    "    accademy = 'MBC'                    # 클래스 변수 : 클래스 안에서 기본값을 갖는 변수. 여기서는 accademy \n",
    "    def __init__(self, name, gender):   # __init__ : 생성자함수, 객체가 생성될 때 자동으로 실행되는 함수\n",
    "        self.name = name                # 객체 안의 변수(인스턴스 변수)\n",
    "        self.gender = gender\n",
    "        \n",
    "    def print_info(self):\n",
    "        print('{}는 {}입니다. {}를 다닙니다'.format(self.name, \n",
    "                                               self.gender, \n",
    "                                               self.accademy))\n",
    "    def __str__(self):\n",
    "        return '{}는 {}입니다. {}를 다닙니다'.format(self.name, \n",
    "                                               self.gender, \n",
    "                                               self.accademy)"
   ]
  },
  {
   "cell_type": "code",
   "execution_count": 26,
   "id": "d34ae0b9",
   "metadata": {},
   "outputs": [
    {
     "name": "stdout",
     "output_type": "stream",
     "text": [
      "홍길동는 남자입니다. MBC를 다닙니다\n",
      "홍길술는 여자입니다. MBC를 다닙니다\n",
      "김탁구는 남자입니다. 제빵소를 다닙니다\n",
      "홍길술는 여자입니다. MBC를 다닙니다\n"
     ]
    }
   ],
   "source": [
    "p1 = Person('홍길동', '남자')\n",
    "p2 = Person('홍길술', '여자')\n",
    "p1.print_info()\n",
    "p2.print_info()\n",
    "p1.name = '김탁구'\n",
    "p1.accademy = '제빵소'\n",
    "p1.print_info()\n",
    "p2.print_info()\n"
   ]
  },
  {
   "cell_type": "code",
   "execution_count": 27,
   "id": "6694441b",
   "metadata": {},
   "outputs": [
    {
     "name": "stdout",
     "output_type": "stream",
     "text": [
      "김탁구는 남자입니다. 제빵소를 다닙니다\n",
      "김탁구는 남자입니다. 제빵소를 다닙니다\n"
     ]
    }
   ],
   "source": [
    "print(p1)\n",
    "print(p1.__str__())   # 클래스를 만들때"
   ]
  },
  {
   "cell_type": "markdown",
   "id": "15edff6a",
   "metadata": {},
   "source": [
    "# 1절. 객체와 클래스\n",
    "```\n",
    "class 클래스명(상속받을 클래스명):\n",
    "    변수나 함수들 선언\n",
    "```"
   ]
  },
  {
   "cell_type": "code",
   "execution_count": 29,
   "id": "d477db4e",
   "metadata": {},
   "outputs": [
    {
     "name": "stdout",
     "output_type": "stream",
     "text": [
      "<__main__.Person object at 0x000001C723137130>\n",
      "<class '__main__.Person'>\n"
     ]
    }
   ],
   "source": [
    "class Person:\n",
    "    '''\n",
    "    Person 클래스는 블라블라 설명하는 독스트링 삽입 가능\n",
    "    생성자 함수가 없을 경우, 디폴트 생성자 함수가 자동 생성\n",
    "    '''\n",
    "    def __init__(self): # 생성자 함수를 쓰지 않을 수 있다. \n",
    "        pass          # 이 경우 '아무것도 하지 않는 생성자 함수'(디폴트 생성자 함수)가 자동 생성\n",
    "\n",
    "p1=Person()\n",
    "print(p1)\n",
    "print(type(p1))"
   ]
  },
  {
   "cell_type": "code",
   "execution_count": 30,
   "id": "670ced5a",
   "metadata": {},
   "outputs": [
    {
     "data": {
      "text/plain": [
       "True"
      ]
     },
     "execution_count": 30,
     "metadata": {},
     "output_type": "execute_result"
    }
   ],
   "source": [
    "isinstance(p1, Person)"
   ]
  },
  {
   "cell_type": "code",
   "execution_count": 31,
   "id": "b1adb7b0",
   "metadata": {},
   "outputs": [
    {
     "data": {
      "text/plain": [
       "'\\n    Person 클래스는 블라블라 설명하는 독스트링 삽입 가능\\n    생성자 함수가 없을 경우, \\n    '"
      ]
     },
     "execution_count": 31,
     "metadata": {},
     "output_type": "execute_result"
    }
   ],
   "source": [
    "p1.__doc__"
   ]
  },
  {
   "attachments": {
    "image.png": {
     "image/png": "[encoded data removed]"
    }
   },
   "cell_type": "markdown",
   "id": "f00e394e",
   "metadata": {},
   "source": [
    "![image.png](attachment:image.png)"
   ]
  },
  {
   "cell_type": "markdown",
   "id": "208c9330",
   "metadata": {},
   "source": [
    "# 2절. 생성자와 소멸자\n",
    "```\n",
    "- 생성자는 __init__(self, 매개변수,...) - 객체가 생성될때 자동 실행. \n",
    "    객체 생성시 필요한 객체 안에 있는 변수(인스턴스 변수)를 초기화 및 설정을 포함\n",
    "- 소멸자는 __del__(self) - 객체가 소멸될 때 자동 실행\n",
    "    인스턴스 객체의 레퍼런스 카운트가 0이 될 때 실행\n",
    "```"
   ]
  },
  {
   "cell_type": "code",
   "execution_count": 32,
   "id": "93705ed1",
   "metadata": {},
   "outputs": [],
   "source": [
    "class Person:\n",
    "    accademy = \"MBC\"\n",
    "    def __init__(self, name, gender='남자'):\n",
    "        self.name = name        # 인스턴스 변수\n",
    "        self.gender = gender\n",
    "        print('Person 객체를 생성합니다', name)\n",
    "\n",
    "# 함수 오버로딩(중복)될 지원안됨, 마지막 생성자만 유효함        \n",
    "#     def __init__(self, name):\n",
    "#         self.name = name        \n",
    "#         self.gender = '남자'\n",
    "        \n",
    "    def __del__(self):\n",
    "        print('Person 객체를 소멸시킵니다', self.name)\n",
    "        \n",
    "    def print_info(self):\n",
    "        print('{}는 {}입니다'.format(self.name,\n",
    "                                    self.gender))\n",
    "    def __str__(self):   # 오버라이딩(함수 재정의) : 이미 Object에게 상속받은 __str__함수를 변경하는 중\n",
    "        return f'{self.name}는 {self.gender}입니다.'\n",
    "    \n",
    "    \n",
    "    "
   ]
  },
  {
   "cell_type": "code",
   "execution_count": 34,
   "id": "05435952",
   "metadata": {},
   "outputs": [
    {
     "name": "stdout",
     "output_type": "stream",
     "text": [
      "Person 객체를 생성합니다 신사임당\n",
      "Person 객체를 소멸시킵니다 신사임당\n",
      "Person 객체를 생성합니다 홍길동\n",
      "Person 객체를 소멸시킵니다 홍길동\n",
      "신사임당는 여자입니다. 홍길동는 남자입니다.\n"
     ]
    }
   ],
   "source": [
    "p1 = Person('신사임당', '여자')\n",
    "p2 = Person('홍길동')\n",
    "print(p1, p2)"
   ]
  },
  {
   "cell_type": "code",
   "execution_count": 35,
   "id": "1bde422b",
   "metadata": {},
   "outputs": [],
   "source": [
    "p3 = p2"
   ]
  },
  {
   "cell_type": "code",
   "execution_count": 36,
   "id": "b2f3e99f",
   "metadata": {},
   "outputs": [
    {
     "name": "stdout",
     "output_type": "stream",
     "text": [
      "Person 객체를 소멸시킵니다 신사임당\n"
     ]
    }
   ],
   "source": [
    "del p1"
   ]
  },
  {
   "cell_type": "code",
   "execution_count": 37,
   "id": "3eff0249",
   "metadata": {},
   "outputs": [],
   "source": [
    "del p2"
   ]
  },
  {
   "cell_type": "code",
   "execution_count": 38,
   "id": "2aaa9157",
   "metadata": {},
   "outputs": [
    {
     "name": "stdout",
     "output_type": "stream",
     "text": [
      "Person 객체를 소멸시킵니다 홍길동\n"
     ]
    }
   ],
   "source": [
    "del p3"
   ]
  },
  {
   "attachments": {
    "image.png": {
     "image/png": "[encoded data removed]"
    }
   },
   "cell_type": "markdown",
   "id": "0cf353e6",
   "metadata": {},
   "source": [
    "# 3절. 변수와 메소드(함수)\n",
    "- 인스턴스 변수 vs 클래스 변수\n",
    "- 인스턴스 메소드(self) vs 클래스 메소드(clz) vs static 메소드()\n",
    "\n",
    "![image.png](attachment:image.png)"
   ]
  },
  {
   "cell_type": "code",
   "execution_count": 40,
   "id": "4104b1aa",
   "metadata": {},
   "outputs": [
    {
     "name": "stdout",
     "output_type": "stream",
     "text": [
      "홍길동 남자\n"
     ]
    }
   ],
   "source": [
    "class Person:\n",
    "    name = '홍길동' # 클래스 변수\n",
    "    gender = '남자'\n",
    "print(Person.name, Person.gender)"
   ]
  },
  {
   "cell_type": "code",
   "execution_count": 41,
   "id": "835c1169",
   "metadata": {},
   "outputs": [],
   "source": [
    "p1 = Person()"
   ]
  },
  {
   "cell_type": "code",
   "execution_count": 43,
   "id": "555b332c",
   "metadata": {},
   "outputs": [],
   "source": [
    "p2 = Person()"
   ]
  },
  {
   "cell_type": "code",
   "execution_count": 44,
   "id": "08d95ba3",
   "metadata": {},
   "outputs": [
    {
     "name": "stdout",
     "output_type": "stream",
     "text": [
      "홍길동 남자\n",
      "홍길동 남자\n",
      "홍길동 남자\n"
     ]
    }
   ],
   "source": [
    "print(Person.name, Person.gender)   # 클래스의 데이터를 p1과 p2가 참조하며 양쪽에 클래스 데이터가 부여됨\n",
    "print(p1.name, p1.gender)\n",
    "print(p2.name, p2.gender)"
   ]
  },
  {
   "cell_type": "code",
   "execution_count": 46,
   "id": "ee6b05f6",
   "metadata": {},
   "outputs": [
    {
     "name": "stdout",
     "output_type": "stream",
     "text": [
      "홍길동 남자\n",
      "홍길동 남자\n",
      "이순신 남자\n"
     ]
    }
   ],
   "source": [
    "p2.name = '이순신'                   # p2 객체의 name 변수를 변경. 해당 객체에만 변경 적용됨 \n",
    "print(Person.name, Person.gender)   \n",
    "print(p1.name, p1.gender)\n",
    "print(p2.name, p2.gender)"
   ]
  },
  {
   "cell_type": "code",
   "execution_count": 47,
   "id": "25a883b7",
   "metadata": {},
   "outputs": [
    {
     "name": "stdout",
     "output_type": "stream",
     "text": [
      "리사 여자\n",
      "리사 여자\n",
      "이순신 여자\n"
     ]
    }
   ],
   "source": [
    "Person.name = '리사'                # Person 클래스의 클래스 변수인 name, gender를 변경\n",
    "Person.gender = '여자'              # Person 클래스를 통한 객체들의 속성들이 같이 변경됨\n",
    "print(Person.name, Person.gender)   \n",
    "print(p1.name, p1.gender)\n",
    "print(p2.name, p2.gender)          # 단, 사전에 객체에 적용한 변경은 유지됨"
   ]
  },
  {
   "cell_type": "markdown",
   "id": "93c3b18a",
   "metadata": {},
   "source": [
    "### 메소드 비교\n",
    "**※인스턴스 메소드(self) vs 클래스 메소드(clz) vs static 메소드()**\n",
    "- 인스턴스 메소드(self) : 첫번째 인자에 self를 꼭 명시. 객체를 통해서만 호출할 수 있는 메소드\n",
    "- 클래스 메소드(clz) : 메소드 위에 @classmethod를 선언한 메소드. 첫번째 인자에 cls(clz) 꼭 명시\n",
    "- static 메소드() : 메소드 위에 @staticmethod를 선언한 메소드. 인자를 넣지 않음"
   ]
  },
  {
   "cell_type": "code",
   "execution_count": 50,
   "id": "492de40e",
   "metadata": {},
   "outputs": [],
   "source": [
    "class Person:\n",
    "    name = '홍길동' # 클래스 변수\n",
    "    gender = '남자'\n",
    "\n",
    "    def print_info(self):   # 객체변수명.print_info()로 호출\n",
    "        print('인스턴스(일반)메소드 - {}는 {}입니다'.format(self.name, self.gender))\n",
    "    \n",
    "    def change_info(self, name, gender='남자'):  # 객체변수명.change_info('김', '여자')\n",
    "        self.name = name\n",
    "        self.gender = gender\n",
    "        print('인스턴스(일반)메소드 - {}/{}로 변경합니다.'.format(self.name, self.gender))\n",
    "        \n",
    "    @classmethod\n",
    "    def do_(clz):  # clz==Person  클래스 변수를 이용한 로직이 있을때 주로 사용. Person.do_() / 객체명.do_()\n",
    "        clz.name = '신사임당'\n",
    "        clz.gender = '여자'\n",
    "        print('클래스 메소드 - {}/{}로 변경합니다.'.format(clz.name, clz.gender))\n",
    "        \n",
    "    @staticmethod   # 클래스 변수를 이용하기보다는 로직이 우선일 경우. Person.that_() / 객체명.that_()\n",
    "    def that_():  \n",
    "        Person.name = '신길동'\n",
    "        Person.gender = '남자'\n",
    "        print('static 메소드 - {}/{}로 변경합니다.'.format(Person.name, Person.gender))\n"
   ]
  },
  {
   "cell_type": "code",
   "execution_count": 51,
   "id": "c78116c1",
   "metadata": {},
   "outputs": [
    {
     "name": "stdout",
     "output_type": "stream",
     "text": [
      "인스턴스(일반)메소드 - 홍길동는 남자입니다\n"
     ]
    }
   ],
   "source": [
    "p1 = Person()\n",
    "p1.print_info()"
   ]
  },
  {
   "cell_type": "code",
   "execution_count": 52,
   "id": "db2e7803",
   "metadata": {},
   "outputs": [
    {
     "name": "stdout",
     "output_type": "stream",
     "text": [
      "클래스 메소드 - 신사임당/여자로 변경합니다.\n"
     ]
    }
   ],
   "source": [
    "Person.do_()"
   ]
  },
  {
   "cell_type": "code",
   "execution_count": 55,
   "id": "b4eafdef",
   "metadata": {},
   "outputs": [
    {
     "name": "stdout",
     "output_type": "stream",
     "text": [
      "인스턴스(일반)메소드 - 신사임당는 여자입니다\n"
     ]
    }
   ],
   "source": [
    "p1.print_info()"
   ]
  },
  {
   "cell_type": "code",
   "execution_count": 56,
   "id": "eba92e6a",
   "metadata": {},
   "outputs": [
    {
     "name": "stdout",
     "output_type": "stream",
     "text": [
      "static 메소드 - 신길동/남자로 변경합니다.\n"
     ]
    }
   ],
   "source": [
    "Person.that_()"
   ]
  },
  {
   "cell_type": "code",
   "execution_count": 57,
   "id": "a8678706",
   "metadata": {},
   "outputs": [
    {
     "name": "stdout",
     "output_type": "stream",
     "text": [
      "인스턴스(일반)메소드 - 신길동는 남자입니다\n"
     ]
    }
   ],
   "source": [
    "p1.print_info()"
   ]
  },
  {
   "cell_type": "markdown",
   "id": "119ab497",
   "metadata": {},
   "source": [
    "## 요약\n",
    "**객체를 이용하면 객체에 정보를 저장하고, 그 정보를 이용해서 어떤 기능을 수행하게 한다**\n",
    "**객체 = 데이터(변수:객체마다 고유의 값) + 기능(메소드/함수)**\n",
    "\n",
    "**그 객체를 만들기 위한 틀을 클래스**\n",
    "```\n",
    "    class 클래스명:\n",
    "        '독스트링'\n",
    "        클래스변수명 = 값\n",
    "        def __init__(self, [객체멤버를 초기화할 변수=값], ...):\n",
    "            self.인스턴스(일반)변수 = 값\n",
    "            객체를 생성할 때 객체 멤버 변수의 초기 설정\n",
    "        \n",
    "       def method(self):\n",
    "           인스턴스 메소드(일반함수)의 매개변수는 self를 반드시 포함\n",
    "       @classmethod(cls):\n",
    "           코드\n",
    "       @staticmethod\n",
    "       def staticmethod():\n",
    "           코드\n",
    "    객체변수 = 클래스명()\n",
    "    객체변수.method()\n",
    "    클래스명.classmethod()\n",
    "    클래스명.staticmethod()    \n",
    "```\n"
   ]
  },
  {
   "cell_type": "code",
   "execution_count": 11,
   "id": "80128967",
   "metadata": {},
   "outputs": [
    {
     "name": "stdout",
     "output_type": "stream",
     "text": [
      "홍길동입니다.\n",
      "홍길동입니다.\n"
     ]
    },
    {
     "data": {
      "text/plain": [
       "(True, True)"
      ]
     },
     "execution_count": 11,
     "metadata": {},
     "output_type": "execute_result"
    }
   ],
   "source": [
    "class Person:\n",
    "    def __init__(self, name):\n",
    "        self.name = name\n",
    "    def __str__(self):\n",
    "        return f'{self.name}입니다.'\n",
    "    def print_info(self):\n",
    "        #print(f'{self.name}입니다.'')\n",
    "        print(self)    # 이렇게 하면 print(self.__str__)과 같다\n",
    "\n",
    "p = Person('홍길동')\n",
    "p.print_info()\n",
    "print(p)\n",
    "p.nickname = '홍별명'      # 파이썬은 기존 객체에 없던 nickname 과 같이 동적으로 인스턴스 멤버 추가가 가능하다. 별로 좋은 방법은 아니다.\n",
    "p1 = Person('홍길숙')\n",
    "isinstance(p, Person), isinstance(p1, Person)"
   ]
  },
  {
   "cell_type": "code",
   "execution_count": 12,
   "id": "75b081d4",
   "metadata": {},
   "outputs": [
    {
     "ename": "NameError",
     "evalue": "name 'Object' is not defined",
     "output_type": "error",
     "traceback": [
      "\u001b[1;31m---------------------------------------------------------------------------\u001b[0m",
      "\u001b[1;31mNameError\u001b[0m                                 Traceback (most recent call last)",
      "Cell \u001b[1;32mIn[12], line 1\u001b[0m\n\u001b[1;32m----> 1\u001b[0m \u001b[38;5;28misinstance\u001b[39m(p, \u001b[43mObject\u001b[49m)\n",
      "\u001b[1;31mNameError\u001b[0m: name 'Object' is not defined"
     ]
    }
   ],
   "source": [
    "isinstance(p, Object)"
   ]
  },
  {
   "cell_type": "code",
   "execution_count": null,
   "id": "6287997f",
   "metadata": {},
   "outputs": [],
   "source": []
  },
  {
   "cell_type": "markdown",
   "id": "c17d1e4b",
   "metadata": {},
   "source": [
    "# 4절. 상속과 재정의\n",
    "- 기존 클래스와 유사하지만 변형이 필요할 때, 부모 클래스의 모든 속성을 자식클래스로 상속받을 수 있다. \n",
    "- 전체를 상속받으나 다시 세팅이 가능하다. 이걸 오버라이딩이라고 한다. (like __str__)\n",
    "- 문법 : class 자식클래스명(부모클래스명):"
   ]
  },
  {
   "cell_type": "code",
   "execution_count": 10,
   "id": "c5b2e87a",
   "metadata": {},
   "outputs": [
    {
     "name": "stdout",
     "output_type": "stream",
     "text": [
      "두 수 초기화\n",
      "4\n",
      "4\n",
      "두 수 초기화\n",
      "4\n",
      "<class 'type'> <class 'type'>\n",
      "<class '__main__.Cal_inherit'> <class '__main__.Cal'>\n"
     ]
    },
    {
     "data": {
      "text/plain": [
       "(True, True)"
      ]
     },
     "execution_count": 10,
     "metadata": {},
     "output_type": "execute_result"
    }
   ],
   "source": [
    "class Cal:\n",
    "    def __init__(self, num1=1, num2=2):\n",
    "        print('두 수 초기화')\n",
    "        self.num1 = num1\n",
    "        self.num2 = num2\n",
    "    def add(self):\n",
    "        return self.num1+self.num2\n",
    "    def sub(self):\n",
    "        return self.num1-self.num2\n",
    "    def div(self):        \n",
    "        return self.num1/self.num2 if self.num2!=0 else '0으로 나눌수 없어요'\n",
    "    def __str__(self):\n",
    "        return 'num1={}, num2={}'.format(self.num1, self.num2)\n",
    "    \n",
    "class Cal_inherit(Cal):\n",
    "    def mul(self):\n",
    "        return self.num1*self.num2\n",
    "\n",
    "obj1 = Cal_inherit(2,2)\n",
    "print(obj1.add())\n",
    "print(obj1.mul())\n",
    "obj2 = Cal(2,2)\n",
    "print(obj2.add())\n",
    "print(type(Cal), type(Cal_inherit))\n",
    "print(type(obj1), type(obj2))\n",
    "isinstance(obj1, Cal_inherit), isinstance(obj1, Cal)   \n",
    "# 위와 같이 상속을 받은 자식클래스는 부모클래스의 타입이기도 하다\n",
    "# Cal_inherit is a Cal (상속은 is a 관계)"
   ]
  },
  {
   "cell_type": "code",
   "execution_count": 13,
   "id": "50fe21bd",
   "metadata": {},
   "outputs": [
    {
     "name": "stdout",
     "output_type": "stream",
     "text": [
      "이름과 성별 초기화\n",
      "홍길동님은 남자\n"
     ]
    }
   ],
   "source": [
    "class Person:\n",
    "    'Person은 이름과 성별을 멤버 변수로 갖고, 출력가능'\n",
    "    def __init__(self, name, gender):\n",
    "        print('이름과 성별 초기화')\n",
    "        self.name = name\n",
    "        self.gender = gender\n",
    "    def __str__(self):\n",
    "        return '{}님은 {}'.format(self.name, self.gender)\n",
    "    def print_info(self):\n",
    "        print(self)\n",
    "        \n",
    "p = Person('홍길동', '남자')\n",
    "p.print_info()           # 객체의 함수를 불러올때 self를 불러오지는 않는데\n",
    "Person.print_info(p)     # 클래스.함수(객체) 이렇게 쓸수도 있다. 물론 이렇게 쓰지는 않는다"
   ]
  },
  {
   "cell_type": "code",
   "execution_count": 14,
   "id": "7881914f",
   "metadata": {},
   "outputs": [],
   "source": [
    "# s = Student('홍길숙', '여자', 'AI')\n",
    "# 위의 걸 적용하려면 기존의 인스턴스 함수 __init__(), __str__() 을 수정해야 한다.\n",
    "# 상속 받아서 인스턴스 함수를 바꾸는 방법을 보자\n",
    "\n",
    "# override : 상속 받은 클래스의 함수를 자식클래스에서 재정의\n",
    "            # 부모클래스의 함수명과 매개변수 개수가 동일\n",
    "# cf) overload : 함숭의 중복정의(같은이름의 함수를 매개변수 갯수를 달리해서 재정의 - 불가)\n",
    "\n",
    "class Student(Person):\n",
    "    def __init__(self, name, gender, major):    #이건 override가 아니라 덮어 씌우는 것\n",
    "        super().__init__(name, gender)   # super() : '부모클래스의' 라는 뜻, 즉 부모클래스 __init__의 name, gender를 적용한다는 의미\n",
    "      # Person.__init__(self, name, gender)   <- 이렇게도 쓸수 있음\n",
    "        self.major = major                            \n",
    "    def __str__(self):   # override\n",
    "        return super().__str__() + \"이고, 전공은 {}\".format(self.major)"
   ]
  },
  {
   "cell_type": "code",
   "execution_count": 15,
   "id": "7b555130",
   "metadata": {},
   "outputs": [
    {
     "name": "stdout",
     "output_type": "stream",
     "text": [
      "이름과 성별 초기화\n"
     ]
    }
   ],
   "source": [
    "s = Student('홍길숙', '여자', 'AI')"
   ]
  },
  {
   "cell_type": "code",
   "execution_count": 17,
   "id": "8538fbc0",
   "metadata": {},
   "outputs": [
    {
     "name": "stdout",
     "output_type": "stream",
     "text": [
      "홍길숙님은 여자이고, 전공은 AI\n",
      "홍길숙님은 여자이고, 전공은 AI\n"
     ]
    }
   ],
   "source": [
    "print(s)\n",
    "s.print_info()"
   ]
  },
  {
   "cell_type": "code",
   "execution_count": 18,
   "id": "a60b1973",
   "metadata": {},
   "outputs": [
    {
     "data": {
      "text/plain": [
       "(True, True)"
      ]
     },
     "execution_count": 18,
     "metadata": {},
     "output_type": "execute_result"
    }
   ],
   "source": [
    "isinstance(s, Student), isinstance(s, Person)"
   ]
  },
  {
   "cell_type": "markdown",
   "id": "5271be8b",
   "metadata": {},
   "source": [
    "## 정적변수(static 변수)\n",
    "- 여러 객체들 사이에 데이터를 공유하고 싶을 때 사용\n",
    "- static 변수 앞에 under score 2개(__)를 붙이면 클래스명._클래스명__static변수명으로 참조\n",
    "- 클래스 변수는 외부에서 바로 접근 가능\n",
    "- static 변수는 외부에서 바로 접근하는 것을 방지\n",
    "- static 변수는 클래스 내부에서만 접근하도록 하려는 의도"
   ]
  },
  {
   "cell_type": "code",
   "execution_count": 1,
   "id": "c6667e9c",
   "metadata": {},
   "outputs": [],
   "source": [
    "class Person:\n",
    "#    major = 'AI'  # class 변수\n",
    "\n",
    "    def __init__(self, name, gender):\n",
    "        self.name = name\n",
    "        self.gender = gender\n",
    "    def print_info(self):    # 추상메소드 : \n",
    "        raise Exception('이 메소드는 호출하면 예외가 납니다') # 강제 예외 발생,이 클래스를 상속 받아서 override 하라는 일종의 포맷이다.\n",
    "    def __str__(self):\n",
    "        return f'{self.name}은 {self.gender}'\n",
    "\n",
    "class Student(Person):   # Person 클래스를 상속받는다\n",
    "    __count = 0          # static 변수 - 객체의 갯수나 시리얼 넘버를 입력할때 주로 사용함\n",
    "    # 클래스명._클래스명__count로 사용, 클래스명.__count는 외부에서 접근 불가\n",
    "    def __init__(self, name, gender, major):\n",
    "        super().__init__(name, gender)\n",
    "        self.major = major\n",
    "        Student._Student__count += 1 # 객체가 생성될때마다 __count 1증가\n",
    "    def __del__(self):\n",
    "        Student._Student__count -= 1 # 객체가 소멸될때마다 __count 1감소\n",
    "    def print_info(self):\n",
    "        print('{}는 {}이고, 전공은 {}({}번째)'.format(self.name,\n",
    "                                           self.gender,\n",
    "                                           self.major,\n",
    "                                           Student._Student__count))\n",
    "    def __str__(self):\n",
    "        return super().__str__() + '이고, 전공은 {}'.format(self.major)\n",
    "    @classmethod\n",
    "    def get_count(cls):\n",
    "        return cls.__count\n",
    "#       return Student._Student__count  이와 같이 사용 가능"
   ]
  },
  {
   "cell_type": "code",
   "execution_count": 2,
   "id": "a779679b",
   "metadata": {},
   "outputs": [
    {
     "name": "stdout",
     "output_type": "stream",
     "text": [
      "홍길동는 남자이고, 전공은 AI(1번째)\n"
     ]
    }
   ],
   "source": [
    "# p.print_info()\n",
    "s1 = Student('홍길동', '남자', 'AI')\n",
    "s1.print_info()"
   ]
  },
  {
   "cell_type": "code",
   "execution_count": 3,
   "id": "69f5181d",
   "metadata": {},
   "outputs": [
    {
     "name": "stdout",
     "output_type": "stream",
     "text": [
      "김길숙는 여자이고, 전공은 통계(2번째)\n"
     ]
    }
   ],
   "source": [
    "s2 = Student('김길숙', '여자', '통계')\n",
    "s2.print_info()"
   ]
  },
  {
   "cell_type": "code",
   "execution_count": 4,
   "id": "80025b2c",
   "metadata": {},
   "outputs": [
    {
     "data": {
      "text/plain": [
       "2"
      ]
     },
     "execution_count": 4,
     "metadata": {},
     "output_type": "execute_result"
    }
   ],
   "source": [
    "Student.get_count()"
   ]
  },
  {
   "cell_type": "code",
   "execution_count": 5,
   "id": "cb084697",
   "metadata": {},
   "outputs": [],
   "source": [
    "s3 = Student('신길동', '남자', '경영')"
   ]
  },
  {
   "cell_type": "code",
   "execution_count": 6,
   "id": "35ef2630",
   "metadata": {},
   "outputs": [
    {
     "data": {
      "text/plain": [
       "3"
      ]
     },
     "execution_count": 6,
     "metadata": {},
     "output_type": "execute_result"
    }
   ],
   "source": [
    "Student.get_count()"
   ]
  },
  {
   "cell_type": "code",
   "execution_count": 7,
   "id": "41a702fe",
   "metadata": {},
   "outputs": [],
   "source": [
    "del s2"
   ]
  },
  {
   "cell_type": "code",
   "execution_count": 8,
   "id": "9c551e10",
   "metadata": {},
   "outputs": [
    {
     "data": {
      "text/plain": [
       "2"
      ]
     },
     "execution_count": 8,
     "metadata": {},
     "output_type": "execute_result"
    }
   ],
   "source": [
    "Student.get_count()"
   ]
  },
  {
   "cell_type": "code",
   "execution_count": 10,
   "id": "03ea8b4f",
   "metadata": {},
   "outputs": [
    {
     "name": "stdout",
     "output_type": "stream",
     "text": [
      "신길동는 남자이고, 전공은 경영(2번째)\n"
     ]
    }
   ],
   "source": [
    "s3.print_info()"
   ]
  },
  {
   "cell_type": "markdown",
   "id": "005807df",
   "metadata": {},
   "source": [
    "# 5절. 연습문제"
   ]
  },
  {
   "cell_type": "markdown",
   "id": "0b696d83",
   "metadata": {},
   "source": [
    "## 실습형"
   ]
  },
  {
   "cell_type": "code",
   "execution_count": 10,
   "id": "7891df8a",
   "metadata": {},
   "outputs": [],
   "source": [
    "# 1. 도형 (Shape) 클래스와 삼각형 (Triangle) 클래스를 만들어야 합니다 \n",
    "\n",
    "class Shape:\n",
    "    \n",
    "    def __init__(self, x=0,y=0):\n",
    "        self.x = x\n",
    "        self.y = y\n",
    "    def move(self, x, y):\n",
    "        self.x = x\n",
    "        self.y = y\n",
    "    def __str__(self):\n",
    "        return self.x, self.y\n",
    "    def calc_area(self):\n",
    "        raise Exception('추상메소드')\n",
    "    @staticmethod\n",
    "    def state_():\n",
    "        return '아마도 본 도형은 삼각형입니다'\n",
    "\n",
    "class Triangle(Shape):\n",
    "#    area = \"계산 전\"\n",
    "    __count = 0\n",
    "    def __init__(self, x=0, y=0):\n",
    "        super().__init__(x, y)\n",
    "        self.width = self.x\n",
    "        self.height = self.y\n",
    "        Triangle._Triangle__count +=1\n",
    "        \n",
    "    def __del__(self):\n",
    "        Triangle._Triangle__count -=1\n",
    "\n",
    "\n",
    "    def calc_area(self):\n",
    "        self.area = self.width*self.height*0.5\n",
    "        return self.area if self.area>0 else 0\n",
    "    \n",
    "    def __str__(self):\n",
    "        return '해당 삼각형의 너비는 {}, 높이는 {}, 면적은 {}입니다.'.format(self.width,\n",
    "                                                           self.height,\n",
    "                                                           self.calc_area())"
   ]
  },
  {
   "cell_type": "code",
   "execution_count": 21,
   "id": "292924e0",
   "metadata": {},
   "outputs": [],
   "source": [
    "s1 = Shape()\n",
    "s1.move(2,3)"
   ]
  },
  {
   "cell_type": "code",
   "execution_count": 24,
   "id": "e2212c06",
   "metadata": {},
   "outputs": [
    {
     "data": {
      "text/plain": [
       "'아마도 본 도형은 삼각형입니다'"
      ]
     },
     "execution_count": 24,
     "metadata": {},
     "output_type": "execute_result"
    }
   ],
   "source": [
    "s1.state_()"
   ]
  },
  {
   "cell_type": "code",
   "execution_count": 4,
   "id": "8d55613d",
   "metadata": {},
   "outputs": [],
   "source": [
    "s3 = Triangle(2,3)"
   ]
  },
  {
   "cell_type": "code",
   "execution_count": 5,
   "id": "efcce0b3",
   "metadata": {},
   "outputs": [
    {
     "data": {
      "text/plain": [
       "'해당 삼각형의 너비는 2, 높이는 3, 면적은 3.0입니다.'"
      ]
     },
     "execution_count": 5,
     "metadata": {},
     "output_type": "execute_result"
    }
   ],
   "source": [
    "s3.__str__()"
   ]
  },
  {
   "cell_type": "code",
   "execution_count": 8,
   "id": "22cf8c87",
   "metadata": {},
   "outputs": [],
   "source": [
    "s4 = Triangle()"
   ]
  },
  {
   "cell_type": "code",
   "execution_count": 9,
   "id": "1ad51a96",
   "metadata": {},
   "outputs": [
    {
     "data": {
      "text/plain": [
       "'해당 삼각형의 너비는 0, 높이는 0, 면적은 0입니다.'"
      ]
     },
     "execution_count": 9,
     "metadata": {},
     "output_type": "execute_result"
    }
   ],
   "source": [
    "s4.__str__()"
   ]
  },
  {
   "cell_type": "markdown",
   "id": "1e1b8145",
   "metadata": {},
   "source": [
    "## 서술형"
   ]
  },
  {
   "cell_type": "code",
   "execution_count": null,
   "id": "4cc18cf3",
   "metadata": {},
   "outputs": [],
   "source": [
    "# 1. 1번\n",
    "# 2. 2번\n",
    "# 3. 1번  (x)  -> 4번\n",
    "# 4. 1번\n",
    "# 5. 2번\n",
    "# 6. 3번\n",
    "# 7. 2번  (x)  -> 3번 / 2번은 권장되진 않지만 틀리진 않음. 3번은 인스턴스 함수는 객체에만 있으므로 사용이 안됨\n",
    "# 8. 2번  (x)  -> 3번 / 틀린걸 골라야했다. 1번 Super.do_(self, a) 와 같이 클래스명.함수명(매개변수)도 권장되진 않지만 틀리지 않다\n",
    "# 9. 1번  (x)  -> 2번 / __str__() 메소드도 인스턴스 메소드이다. 그리고 self도 매개변수다.."
   ]
  },
  {
   "cell_type": "code",
   "execution_count": 16,
   "id": "d210aab7",
   "metadata": {},
   "outputs": [
    {
     "name": "stdout",
     "output_type": "stream",
     "text": [
      "홍길동는 남자입니다. MBC를 다닙니다\n"
     ]
    },
    {
     "data": {
      "text/plain": [
       "{'name': '홍길동', 'gender': '남자'}"
      ]
     },
     "execution_count": 16,
     "metadata": {},
     "output_type": "execute_result"
    }
   ],
   "source": [
    "class Person:                   \n",
    "    accademy = 'MBC'                    \n",
    "    def __init__(self, name, gender):   \n",
    "        self.name = name               \n",
    "        self.gender = gender\n",
    "        \n",
    "    def print_info(self):\n",
    "        print('{}는 {}입니다. {}를 다닙니다'.format(self.name, \n",
    "                                               self.gender, \n",
    "                                               self.accademy))\n",
    "    def __str__(self):\n",
    "        return '{}는 {}입니다. {}를 다닙니다'.format(self.name, \n",
    "                                               self.gender, \n",
    "                                               self.accademy)\n",
    "p = Person(\"홍길동\", \"남자\")\n",
    "p.print_info()\n",
    "p.__dict__   # 객체를 딕셔너리 타입으로 전환, 클래스의 멤버 중 변수들을 확인 가능"
   ]
  },
  {
   "cell_type": "code",
   "execution_count": null,
   "id": "df94020f",
   "metadata": {},
   "outputs": [],
   "source": []
  }
 ],
 "metadata": {
  "kernelspec": {
   "display_name": "Python 3 (ipykernel)",
   "language": "python",
   "name": "python3"
  },
  "language_info": {
   "codemirror_mode": {
    "name": "ipython",
    "version": 3
   },
   "file_extension": ".py",
   "mimetype": "text/x-python",
   "name": "python",
   "nbconvert_exporter": "python",
   "pygments_lexer": "ipython3",
   "version": "3.10.9"
  },
  "toc": {
   "base_numbering": 1,
   "nav_menu": {},
   "number_sections": false,
   "sideBar": true,
   "skip_h1_title": false,
   "title_cell": "Table of Contents",
   "title_sidebar": "Contents",
   "toc_cell": false,
   "toc_position": {
    "height": "calc(100% - 180px)",
    "left": "10px",
    "top": "150px",
    "width": "240px"
   },
   "toc_section_display": true,
   "toc_window_display": true
  }
 },
 "nbformat": 4,
 "nbformat_minor": 5
}
