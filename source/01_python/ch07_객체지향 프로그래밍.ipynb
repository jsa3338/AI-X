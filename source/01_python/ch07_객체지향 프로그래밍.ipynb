{
 "cells": [
  {
   "cell_type": "code",
   "execution_count": 1,
   "id": "28ae626f",
   "metadata": {},
   "outputs": [
    {
     "data": {
      "text/html": [
       "\n",
       "<style>\n",
       "div.container{width:86% !important;}\n",
       "div.cell.code_cell.rendered{width:100%;}\n",
       "div.CodeMirror {font-family:Consolas; font-size:12pt;}\n",
       "div.output {font-size:12pt; font-weight:bold;}\n",
       "div.input {font-family:Consolas; font-size:12pt;}\n",
       "div.prompt {min-width:70px;}\n",
       "div#toc-wrapper{padding-top:120px;}\n",
       "div.text_cell_render ul li{font-size:12pt;padding:5px;}\n",
       "table.dataframe{font-size:12px;}\n",
       "</style>\n"
      ],
      "text/plain": [
       "<IPython.core.display.HTML object>"
      ]
     },
     "metadata": {},
     "output_type": "display_data"
    }
   ],
   "source": [
    "from IPython.display import display, HTML\n",
    "display(HTML(\"\"\"\n",
    "<style>\n",
    "div.container{width:86% !important;}\n",
    "div.cell.code_cell.rendered{width:100%;}\n",
    "div.CodeMirror {font-family:Consolas; font-size:12pt;}\n",
    "div.output {font-size:12pt; font-weight:bold;}\n",
    "div.input {font-family:Consolas; font-size:12pt;}\n",
    "div.prompt {min-width:70px;}\n",
    "div#toc-wrapper{padding-top:120px;}\n",
    "div.text_cell_render ul li{font-size:12pt;padding:5px;}\n",
    "table.dataframe{font-size:12px;}\n",
    "</style>\n",
    "\"\"\"))"
   ]
  },
  {
   "cell_type": "markdown",
   "id": "5096b7c1",
   "metadata": {},
   "source": [
    "<b><font size=\"5\" color=\"red\">ch07. 객체지향 프로그래밍 </font></b>\n",
    "프로그래밍 언어는 객체지향 언어와 함수지향 언어가 있다\n",
    "\n",
    "- 개념 익히기"
   ]
  },
  {
   "cell_type": "code",
   "execution_count": 7,
   "id": "97afaf72",
   "metadata": {},
   "outputs": [
    {
     "name": "stdout",
     "output_type": "stream",
     "text": [
      "kil dong male MBC\n",
      "kkil suk None MBC\n"
     ]
    }
   ],
   "source": [
    "person1 = {'name':'kil dong', 'gender':'male','accademy':'MBC'}\n",
    "person2 = {'name':'kil suk', 'sender':'female', 'accademy':'MBC'}\n",
    "print(person1['name'], person1['gender'], person1['accademy'])\n",
    "person2['name'] = 'kkil suk'\n",
    "print(person2['name'], person2.get('gender'), person2['accademy'])"
   ]
  },
  {
   "cell_type": "code",
   "execution_count": 24,
   "id": "d3fe3425",
   "metadata": {},
   "outputs": [],
   "source": [
    "# person 타입의 클래스를 만들겠다.\n",
    "# 클래스 이름은 대문자로 시작. 카멜형으로 작성\n",
    "# 클래스 안의 함수는 인스턴스 함수라고 부르며, 매개변수는 일반적으로 self를 쓴다. self = '내 객체의'\n",
    "class Person:                   \n",
    "    # (Object)는 주로 생략된다. __str__() 함수 는 Object 안에 있는데, 클래스를 만들때 Person 클래스로 상속시킨다\n",
    "    accademy = 'MBC'                    # 클래스 변수 : 클래스 안에서 기본값을 갖는 변수. 여기서는 accademy \n",
    "    def __init__(self, name, gender):   # __init__ : 생성자함수, 객체가 생성될 때 자동으로 실행되는 함수\n",
    "        self.name = name                # 객체 안의 변수(인스턴스 변수)\n",
    "        self.gender = gender\n",
    "        \n",
    "    def print_info(self):\n",
    "        print('{}는 {}입니다. {}를 다닙니다'.format(self.name, \n",
    "                                               self.gender, \n",
    "                                               self.accademy))\n",
    "    def __str__(self):\n",
    "        return '{}는 {}입니다. {}를 다닙니다'.format(self.name, \n",
    "                                               self.gender, \n",
    "                                               self.accademy)"
   ]
  },
  {
   "cell_type": "code",
   "execution_count": 26,
   "id": "d34ae0b9",
   "metadata": {},
   "outputs": [
    {
     "name": "stdout",
     "output_type": "stream",
     "text": [
      "홍길동는 남자입니다. MBC를 다닙니다\n",
      "홍길술는 여자입니다. MBC를 다닙니다\n",
      "김탁구는 남자입니다. 제빵소를 다닙니다\n",
      "홍길술는 여자입니다. MBC를 다닙니다\n"
     ]
    }
   ],
   "source": [
    "p1 = Person('홍길동', '남자')\n",
    "p2 = Person('홍길술', '여자')\n",
    "p1.print_info()\n",
    "p2.print_info()\n",
    "p1.name = '김탁구'\n",
    "p1.accademy = '제빵소'\n",
    "p1.print_info()\n",
    "p2.print_info()\n"
   ]
  },
  {
   "cell_type": "code",
   "execution_count": 27,
   "id": "6694441b",
   "metadata": {},
   "outputs": [
    {
     "name": "stdout",
     "output_type": "stream",
     "text": [
      "김탁구는 남자입니다. 제빵소를 다닙니다\n",
      "김탁구는 남자입니다. 제빵소를 다닙니다\n"
     ]
    }
   ],
   "source": [
    "print(p1)\n",
    "print(p1.__str__())   # 클래스를 만들때"
   ]
  },
  {
   "cell_type": "markdown",
   "id": "15edff6a",
   "metadata": {},
   "source": [
    "# 1절. 객체와 클래스\n",
    "```\n",
    "class 클래스명(상속받을 클래스명):\n",
    "    변수나 함수들 선언\n",
    "```"
   ]
  },
  {
   "cell_type": "code",
   "execution_count": 29,
   "id": "d477db4e",
   "metadata": {},
   "outputs": [
    {
     "name": "stdout",
     "output_type": "stream",
     "text": [
      "<__main__.Person object at 0x000001C723137130>\n",
      "<class '__main__.Person'>\n"
     ]
    }
   ],
   "source": [
    "class Person:\n",
    "    '''\n",
    "    Person 클래스는 블라블라 설명하는 독스트링 삽입 가능\n",
    "    생성자 함수가 없을 경우, 디폴트 생성자 함수가 자동 생성\n",
    "    '''\n",
    "    def __init__(self): # 생성자 함수를 쓰지 않을 수 있다. \n",
    "        pass          # 이 경우 '아무것도 하지 않는 생성자 함수'(디폴트 생성자 함수)가 자동 생성\n",
    "\n",
    "p1=Person()\n",
    "print(p1)\n",
    "print(type(p1))"
   ]
  },
  {
   "cell_type": "code",
   "execution_count": 30,
   "id": "670ced5a",
   "metadata": {},
   "outputs": [
    {
     "data": {
      "text/plain": [
       "True"
      ]
     },
     "execution_count": 30,
     "metadata": {},
     "output_type": "execute_result"
    }
   ],
   "source": [
    "isinstance(p1, Person)"
   ]
  },
  {
   "cell_type": "code",
   "execution_count": 31,
   "id": "b1adb7b0",
   "metadata": {},
   "outputs": [
    {
     "data": {
      "text/plain": [
       "'\\n    Person 클래스는 블라블라 설명하는 독스트링 삽입 가능\\n    생성자 함수가 없을 경우, \\n    '"
      ]
     },
     "execution_count": 31,
     "metadata": {},
     "output_type": "execute_result"
    }
   ],
   "source": [
    "p1.__doc__"
   ]
  },
  {
   "cell_type": "markdown",
   "id": "208c9330",
   "metadata": {},
   "source": [
    "# 2절. 생성자와 소멸자\n",
    "```\n",
    "- 생성자는 __init__(self, 매개변수,...) - 객체가 생성될때 자동 실행. \n",
    "    객체 생성시 필요한 객체 안에 있는 변수(인스턴스 변수)를 초기화 및 설정을 포함\n",
    "- 소멸자는 __del__(self) - 객체가 소멸될 때 자동 실행\n",
    "    인스턴스 객체의 레퍼런스 카운트가 0이 될 때 실행\n",
    "```"
   ]
  },
  {
   "cell_type": "code",
   "execution_count": 32,
   "id": "93705ed1",
   "metadata": {},
   "outputs": [],
   "source": [
    "class Person:\n",
    "    accademy = \"MBC\"\n",
    "    def __init__(self, name, gender='남자'):\n",
    "        self.name = name        # 인스턴스 변수\n",
    "        self.gender = gender\n",
    "        print('Person 객체를 생성합니다', name)\n",
    "\n",
    "# 함수 오버로딩(중복)될 지원안됨, 마지막 생성자만 유효함        \n",
    "#     def __init__(self, name):\n",
    "#         self.name = name        \n",
    "#         self.gender = '남자'\n",
    "        \n",
    "    def __del__(self):\n",
    "        print('Person 객체를 소멸시킵니다', self.name)\n",
    "        \n",
    "    def print_info(self):\n",
    "        print('{}는 {}입니다'.format(self.name,\n",
    "                                    self.gender))\n",
    "    def __str__(self):   # 오버라이딩(함수 재정의) : 이미 Object에게 상속받은 __str__함수를 변경하는 중\n",
    "        return f'{self.name}는 {self.gender}입니다.'\n",
    "    \n",
    "    \n",
    "    "
   ]
  },
  {
   "cell_type": "code",
   "execution_count": 34,
   "id": "05435952",
   "metadata": {},
   "outputs": [
    {
     "name": "stdout",
     "output_type": "stream",
     "text": [
      "Person 객체를 생성합니다 신사임당\n",
      "Person 객체를 소멸시킵니다 신사임당\n",
      "Person 객체를 생성합니다 홍길동\n",
      "Person 객체를 소멸시킵니다 홍길동\n",
      "신사임당는 여자입니다. 홍길동는 남자입니다.\n"
     ]
    }
   ],
   "source": [
    "p1 = Person('신사임당', '여자')\n",
    "p2 = Person('홍길동')\n",
    "print(p1, p2)"
   ]
  },
  {
   "cell_type": "code",
   "execution_count": 35,
   "id": "1bde422b",
   "metadata": {},
   "outputs": [],
   "source": [
    "p3 = p2"
   ]
  },
  {
   "cell_type": "code",
   "execution_count": 36,
   "id": "b2f3e99f",
   "metadata": {},
   "outputs": [
    {
     "name": "stdout",
     "output_type": "stream",
     "text": [
      "Person 객체를 소멸시킵니다 신사임당\n"
     ]
    }
   ],
   "source": [
    "del p1"
   ]
  },
  {
   "cell_type": "code",
   "execution_count": 37,
   "id": "3eff0249",
   "metadata": {},
   "outputs": [],
   "source": [
    "del p2"
   ]
  },
  {
   "cell_type": "code",
   "execution_count": 38,
   "id": "2aaa9157",
   "metadata": {},
   "outputs": [
    {
     "name": "stdout",
     "output_type": "stream",
     "text": [
      "Person 객체를 소멸시킵니다 홍길동\n"
     ]
    }
   ],
   "source": [
    "del p3"
   ]
  },
  {
   "attachments": {
    "image.png": {
     "image/png": "[encoded data removed]"
    }
   },
   "cell_type": "markdown",
   "id": "0cf353e6",
   "metadata": {},
   "source": [
    "# 3절. 변수와 메소드(함수)\n",
    "- 인스턴스 변수 vs 클래스 변수\n",
    "- 인스턴스 메소드(self) vs 클래스 메소드(clz) vs static 메소드()\n",
    "\n",
    "![image.png](attachment:image.png)"
   ]
  },
  {
   "cell_type": "code",
   "execution_count": 40,
   "id": "4104b1aa",
   "metadata": {},
   "outputs": [
    {
     "name": "stdout",
     "output_type": "stream",
     "text": [
      "홍길동 남자\n"
     ]
    }
   ],
   "source": [
    "class Person:\n",
    "    name = '홍길동' # 클래스 변수\n",
    "    gender = '남자'\n",
    "print(Person.name, Person.gender)"
   ]
  },
  {
   "cell_type": "code",
   "execution_count": 41,
   "id": "835c1169",
   "metadata": {},
   "outputs": [],
   "source": [
    "p1 = Person()"
   ]
  },
  {
   "cell_type": "code",
   "execution_count": 43,
   "id": "555b332c",
   "metadata": {},
   "outputs": [],
   "source": [
    "p2 = Person()"
   ]
  },
  {
   "cell_type": "code",
   "execution_count": 44,
   "id": "08d95ba3",
   "metadata": {},
   "outputs": [
    {
     "name": "stdout",
     "output_type": "stream",
     "text": [
      "홍길동 남자\n",
      "홍길동 남자\n",
      "홍길동 남자\n"
     ]
    }
   ],
   "source": [
    "print(Person.name, Person.gender)   # 클래스의 데이터를 p1과 p2가 참조하며 양쪽에 클래스 데이터가 부여됨\n",
    "print(p1.name, p1.gender)\n",
    "print(p2.name, p2.gender)"
   ]
  },
  {
   "cell_type": "code",
   "execution_count": 46,
   "id": "ee6b05f6",
   "metadata": {},
   "outputs": [
    {
     "name": "stdout",
     "output_type": "stream",
     "text": [
      "홍길동 남자\n",
      "홍길동 남자\n",
      "이순신 남자\n"
     ]
    }
   ],
   "source": [
    "p2.name = '이순신'                   # p2 객체의 name 변수를 변경. 해당 객체에만 변경 적용됨 \n",
    "print(Person.name, Person.gender)   \n",
    "print(p1.name, p1.gender)\n",
    "print(p2.name, p2.gender)"
   ]
  },
  {
   "cell_type": "code",
   "execution_count": 47,
   "id": "25a883b7",
   "metadata": {},
   "outputs": [
    {
     "name": "stdout",
     "output_type": "stream",
     "text": [
      "리사 여자\n",
      "리사 여자\n",
      "이순신 여자\n"
     ]
    }
   ],
   "source": [
    "Person.name = '리사'                # Person 클래스의 클래스 변수인 name, gender를 변경\n",
    "Person.gender = '여자'              # Person 클래스를 통한 객체들의 속성들이 같이 변경됨\n",
    "print(Person.name, Person.gender)   \n",
    "print(p1.name, p1.gender)\n",
    "print(p2.name, p2.gender)          # 단, 사전에 객체에 적용한 변경은 유지됨"
   ]
  },
  {
   "cell_type": "markdown",
   "id": "93c3b18a",
   "metadata": {},
   "source": [
    "### 메소드 비교\n",
    "**※인스턴스 메소드(self) vs 클래스 메소드(clz) vs static 메소드()**\n",
    "- 인스턴스 메소드(self) : 첫번째 인자에 self를 꼭 명시. 객체를 통해서만 호출할 수 있는 메소드\n",
    "- 클래스 메소드(clz) : 메소드 위에 @classmethod를 선언한 메소드. 첫번째 인자에 cls(clz) 꼭 명시\n",
    "- static 메소드() : 메소드 위에 @staticmethod를 선언한 메소드. 인자를 넣지 않음"
   ]
  },
  {
   "cell_type": "code",
   "execution_count": 50,
   "id": "492de40e",
   "metadata": {},
   "outputs": [],
   "source": [
    "class Person:\n",
    "    name = '홍길동' # 클래스 변수\n",
    "    gender = '남자'\n",
    "\n",
    "    def print_info(self):   # 객체변수명.print_info()로 호출\n",
    "        print('인스턴스(일반)메소드 - {}는 {}입니다'.format(self.name, self.gender))\n",
    "    \n",
    "    def change_info(self, name, gender='남자'):  # 객체변수명.change_info('김', '여자')\n",
    "        self.name = name\n",
    "        self.gender = gender\n",
    "        print('인스턴스(일반)메소드 - {}/{}로 변경합니다.'.format(self.name, self.gender))\n",
    "        \n",
    "    @classmethod\n",
    "    def do_(clz):  # clz==Person  클래스 변수를 이용한 로직이 있을때 주로 사용. Person.do_() / 객체명.do_()\n",
    "        clz.name = '신사임당'\n",
    "        clz.gender = '여자'\n",
    "        print('클래스 메소드 - {}/{}로 변경합니다.'.format(clz.name, clz.gender))\n",
    "        \n",
    "    @staticmethod   # 클래스 변수를 이용하기보다는 로직이 우선일 경우. Person.that_() / 객체명.that_()\n",
    "    def that_():  \n",
    "        Person.name = '신길동'\n",
    "        Person.gender = '남자'\n",
    "        print('static 메소드 - {}/{}로 변경합니다.'.format(Person.name, Person.gender))\n"
   ]
  },
  {
   "cell_type": "code",
   "execution_count": 51,
   "id": "c78116c1",
   "metadata": {},
   "outputs": [
    {
     "name": "stdout",
     "output_type": "stream",
     "text": [
      "인스턴스(일반)메소드 - 홍길동는 남자입니다\n"
     ]
    }
   ],
   "source": [
    "p1 = Person()\n",
    "p1.print_info()"
   ]
  },
  {
   "cell_type": "code",
   "execution_count": 52,
   "id": "db2e7803",
   "metadata": {},
   "outputs": [
    {
     "name": "stdout",
     "output_type": "stream",
     "text": [
      "클래스 메소드 - 신사임당/여자로 변경합니다.\n"
     ]
    }
   ],
   "source": [
    "Person.do_()"
   ]
  },
  {
   "cell_type": "code",
   "execution_count": 55,
   "id": "b4eafdef",
   "metadata": {},
   "outputs": [
    {
     "name": "stdout",
     "output_type": "stream",
     "text": [
      "인스턴스(일반)메소드 - 신사임당는 여자입니다\n"
     ]
    }
   ],
   "source": [
    "p1.print_info()"
   ]
  },
  {
   "cell_type": "code",
   "execution_count": 56,
   "id": "eba92e6a",
   "metadata": {},
   "outputs": [
    {
     "name": "stdout",
     "output_type": "stream",
     "text": [
      "static 메소드 - 신길동/남자로 변경합니다.\n"
     ]
    }
   ],
   "source": [
    "Person.that_()"
   ]
  },
  {
   "cell_type": "code",
   "execution_count": 57,
   "id": "a8678706",
   "metadata": {},
   "outputs": [
    {
     "name": "stdout",
     "output_type": "stream",
     "text": [
      "인스턴스(일반)메소드 - 신길동는 남자입니다\n"
     ]
    }
   ],
   "source": [
    "p1.print_info()"
   ]
  },
  {
   "cell_type": "markdown",
   "id": "c17d1e4b",
   "metadata": {},
   "source": [
    "# 4절. 사"
   ]
  },
  {
   "cell_type": "code",
   "execution_count": null,
   "id": "c5b2e87a",
   "metadata": {},
   "outputs": [],
   "source": []
  },
  {
   "cell_type": "code",
   "execution_count": null,
   "id": "50fe21bd",
   "metadata": {},
   "outputs": [],
   "source": []
  },
  {
   "cell_type": "code",
   "execution_count": null,
   "id": "7881914f",
   "metadata": {},
   "outputs": [],
   "source": []
  },
  {
   "cell_type": "code",
   "execution_count": null,
   "id": "7b555130",
   "metadata": {},
   "outputs": [],
   "source": []
  }
 ],
 "metadata": {
  "kernelspec": {
   "display_name": "Python 3 (ipykernel)",
   "language": "python",
   "name": "python3"
  },
  "language_info": {
   "codemirror_mode": {
    "name": "ipython",
    "version": 3
   },
   "file_extension": ".py",
   "mimetype": "text/x-python",
   "name": "python",
   "nbconvert_exporter": "python",
   "pygments_lexer": "ipython3",
   "version": "3.10.9"
  },
  "toc": {
   "base_numbering": 1,
   "nav_menu": {},
   "number_sections": false,
   "sideBar": true,
   "skip_h1_title": false,
   "title_cell": "Table of Contents",
   "title_sidebar": "Contents",
   "toc_cell": false,
   "toc_position": {
    "height": "calc(100% - 180px)",
    "left": "10px",
    "top": "150px",
    "width": "240px"
   },
   "toc_section_display": true,
   "toc_window_display": true
  }
 },
 "nbformat": 4,
 "nbformat_minor": 5
}
