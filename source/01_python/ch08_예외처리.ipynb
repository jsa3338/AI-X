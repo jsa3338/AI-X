{
 "cells": [
  {
   "cell_type": "code",
   "execution_count": 1,
   "id": "8780ffca",
   "metadata": {},
   "outputs": [
    {
     "data": {
      "text/html": [
       "\n",
       "<style>\n",
       "div.container{width:86% !important;}\n",
       "div.cell.code_cell.rendered{width:100%;}\n",
       "div.CodeMirror {font-family:Consolas; font-size:12pt;}\n",
       "div.output {font-size:12pt; font-weight:bold;}\n",
       "div.input {font-family:Consolas; font-size:12pt;}\n",
       "div.prompt {min-width:70px;}\n",
       "div#toc-wrapper{padding-top:120px;}\n",
       "div.text_cell_render ul li{font-size:12pt;padding:5px;}\n",
       "table.dataframe{font-size:12px;}\n",
       "</style>\n"
      ],
      "text/plain": [
       "<IPython.core.display.HTML object>"
      ]
     },
     "metadata": {},
     "output_type": "display_data"
    }
   ],
   "source": [
    "from IPython.display import display, HTML\n",
    "display(HTML(\"\"\"\n",
    "<style>\n",
    "div.container{width:86% !important;}\n",
    "div.cell.code_cell.rendered{width:100%;}\n",
    "div.CodeMirror {font-family:Consolas; font-size:12pt;}\n",
    "div.output {font-size:12pt; font-weight:bold;}\n",
    "div.input {font-family:Consolas; font-size:12pt;}\n",
    "div.prompt {min-width:70px;}\n",
    "div#toc-wrapper{padding-top:120px;}\n",
    "div.text_cell_render ul li{font-size:12pt;padding:5px;}\n",
    "table.dataframe{font-size:12px;}\n",
    "</style>\n",
    "\"\"\"))"
   ]
  },
  {
   "cell_type": "markdown",
   "id": "a973c0fa",
   "metadata": {},
   "source": [
    "<b><font size=\"5\" color=\"red\">ch08_예외처리</font></b>\n",
    "\n",
    "# 1절. 예외처리\n",
    "- 예외가 날 가능성이 있는 부분에 대비하여, 그에 대한 처리를 프로그래밍 하는것(안전성 높임)\n",
    "\n",
    "**<문법에러>** - 문법적으로 나타나는 에러\n",
    "\n",
    "**<실행에러>**\n",
    " - 논리에러 : 프로그래머가 잘못 작성해서 이상한 결과나 나오는 경우\n",
    " - 시스템에러 : 프로그래머의 의지와 관계 없이 나타나는 에러(ex. 서버에러)\n",
    " - 예외 사항 : 예외 처리\n",
    "   - 정상정으로 프로그램이 동작하는 과정에서 나타나는 에러\n",
    "   - 프로그램 실행 중에 발생하는 예기치 않은 사건\n",
    "    ```\n",
    "    ex. 파일을 다룰 때 : 파일 부재, 쓰기 금지로 인한 오류\n",
    "    ex. 데이터베이스 프로그래밍 시 제약조건 등으로 CRUD(CREATE, READ, UPDATE, DELETE) 오류\n",
    "    ex. 네트워크 프로그램밍 시 일시적인 네트워크 장애시 연결 실패 오류\n",
    "    ex. 리스트나 튜플의 인덱스를 벗어난 오류\n",
    "    ```"
   ]
  },
  {
   "cell_type": "code",
   "execution_count": 3,
   "id": "ce7154c1",
   "metadata": {},
   "outputs": [],
   "source": [
    "# 영어는 아스키코드, 외국어는 각자의 언어코드로 저장되는데, 한글의 경우 아래와 같이 저장된다. 단 언어코드에서 지원되지 않는 경우 오류 발생\n",
    "# 한글 완성형 - euc-kr (2~3천자만 지원)\n",
    "# 확장된 한글완성형 cp949 (약 1만자 정도)\n",
    "# 한글 조합형 - utf-8"
   ]
  },
  {
   "cell_type": "code",
   "execution_count": 6,
   "id": "6382801f",
   "metadata": {},
   "outputs": [
    {
     "name": "stdout",
     "output_type": "stream",
     "text": [
      "파일명은(ch08.txt)?ch0.txt\n"
     ]
    },
    {
     "ename": "FileNotFoundError",
     "evalue": "[Errno 2] No such file or directory: 'data/ch0.txt'",
     "output_type": "error",
     "traceback": [
      "\u001b[1;31m---------------------------------------------------------------------------\u001b[0m",
      "\u001b[1;31mFileNotFoundError\u001b[0m                         Traceback (most recent call last)",
      "Cell \u001b[1;32mIn[6], line 2\u001b[0m\n\u001b[0;32m      1\u001b[0m filename \u001b[38;5;241m=\u001b[39m \u001b[38;5;28minput\u001b[39m(\u001b[38;5;124m'\u001b[39m\u001b[38;5;124m파일명은(ch08.txt)?\u001b[39m\u001b[38;5;124m'\u001b[39m)\n\u001b[1;32m----> 2\u001b[0m f \u001b[38;5;241m=\u001b[39m \u001b[38;5;28;43mopen\u001b[39;49m\u001b[43m(\u001b[49m\u001b[38;5;124;43m'\u001b[39;49m\u001b[38;5;124;43mdata/\u001b[39;49m\u001b[38;5;124;43m'\u001b[39;49m\u001b[38;5;241;43m+\u001b[39;49m\u001b[43mfilename\u001b[49m\u001b[43m,\u001b[49m\u001b[43m \u001b[49m\u001b[38;5;124;43m'\u001b[39;49m\u001b[38;5;124;43mr\u001b[39;49m\u001b[38;5;124;43m'\u001b[39;49m\u001b[43m)\u001b[49m  \u001b[38;5;66;03m# 'r' 읽기전용으로 파일을 열기, 읽기 전용 스트림 객체를 만드는 것\u001b[39;00m\n\u001b[0;32m      3\u001b[0m f\u001b[38;5;241m.\u001b[39mread()\n",
      "File \u001b[1;32m~\\anaconda3\\lib\\site-packages\\IPython\\core\\interactiveshell.py:282\u001b[0m, in \u001b[0;36m_modified_open\u001b[1;34m(file, *args, **kwargs)\u001b[0m\n\u001b[0;32m    275\u001b[0m \u001b[38;5;28;01mif\u001b[39;00m file \u001b[38;5;129;01min\u001b[39;00m {\u001b[38;5;241m0\u001b[39m, \u001b[38;5;241m1\u001b[39m, \u001b[38;5;241m2\u001b[39m}:\n\u001b[0;32m    276\u001b[0m     \u001b[38;5;28;01mraise\u001b[39;00m \u001b[38;5;167;01mValueError\u001b[39;00m(\n\u001b[0;32m    277\u001b[0m         \u001b[38;5;124mf\u001b[39m\u001b[38;5;124m\"\u001b[39m\u001b[38;5;124mIPython won\u001b[39m\u001b[38;5;124m'\u001b[39m\u001b[38;5;124mt let you open fd=\u001b[39m\u001b[38;5;132;01m{\u001b[39;00mfile\u001b[38;5;132;01m}\u001b[39;00m\u001b[38;5;124m by default \u001b[39m\u001b[38;5;124m\"\u001b[39m\n\u001b[0;32m    278\u001b[0m         \u001b[38;5;124m\"\u001b[39m\u001b[38;5;124mas it is likely to crash IPython. If you know what you are doing, \u001b[39m\u001b[38;5;124m\"\u001b[39m\n\u001b[0;32m    279\u001b[0m         \u001b[38;5;124m\"\u001b[39m\u001b[38;5;124myou can use builtins\u001b[39m\u001b[38;5;124m'\u001b[39m\u001b[38;5;124m open.\u001b[39m\u001b[38;5;124m\"\u001b[39m\n\u001b[0;32m    280\u001b[0m     )\n\u001b[1;32m--> 282\u001b[0m \u001b[38;5;28;01mreturn\u001b[39;00m io_open(file, \u001b[38;5;241m*\u001b[39margs, \u001b[38;5;241m*\u001b[39m\u001b[38;5;241m*\u001b[39mkwargs)\n",
      "\u001b[1;31mFileNotFoundError\u001b[0m: [Errno 2] No such file or directory: 'data/ch0.txt'"
     ]
    }
   ],
   "source": [
    "filename = input('파일명은(ch08.txt)?')\n",
    "f = open('data/'+filename, 'r')  # 'r' 읽기전용으로 파일을 열기, 읽기 전용 스트림 객체를 만드는 것\n",
    "f.read()                         # 파일이름이 없으면, 예외 발생. 예외객체가 자동으로 발생\n",
    "\n",
    "# 예외객체가 자동으로 뜨면서 해당 케이스에 동일한 에러메세지가 나온다.\n",
    "# 이런 에러가 뜨면, 대체 작업을 처리하도록 프로그래밍하는 것이 예외처리 작업이다.\n",
    "# FileNotFoundError: [Errno 2] No such file or directory: 'data/ch0.txt"
   ]
  },
  {
   "cell_type": "markdown",
   "id": "cafe876e",
   "metadata": {},
   "source": [
    "# 2절. try~except 로 예외처리\n",
    "## 2.1 try~except\n",
    "```\n",
    "try:\n",
    "    예외가 발생할 가능성이 있는 명령어들\n",
    "except:\n",
    "    예외가 발생했을 경우 실행할 명령어들\n",
    "```"
   ]
  },
  {
   "cell_type": "code",
   "execution_count": 12,
   "id": "2c8c078e",
   "metadata": {},
   "outputs": [
    {
     "name": "stdout",
     "output_type": "stream",
     "text": [
      "정수값을 입력하세요 : \n"
     ]
    },
    {
     "ename": "ValueError",
     "evalue": "invalid literal for int() with base 10: ''",
     "output_type": "error",
     "traceback": [
      "\u001b[1;31m---------------------------------------------------------------------------\u001b[0m",
      "\u001b[1;31mValueError\u001b[0m                                Traceback (most recent call last)",
      "Cell \u001b[1;32mIn[12], line 5\u001b[0m\n\u001b[0;32m      1\u001b[0m \u001b[38;5;66;03m# 100을 입력받은 정수값으로 나눠 출력\u001b[39;00m\n\u001b[0;32m      2\u001b[0m \u001b[38;5;66;03m# ZeroDivisionError: division by zero\u001b[39;00m\n\u001b[0;32m      3\u001b[0m \u001b[38;5;66;03m# ValueError: invalid literal for int() with base 10: 'a'\u001b[39;00m\n\u001b[1;32m----> 5\u001b[0m i \u001b[38;5;241m=\u001b[39m \u001b[38;5;28;43mint\u001b[39;49m\u001b[43m(\u001b[49m\u001b[38;5;28;43minput\u001b[39;49m\u001b[43m(\u001b[49m\u001b[38;5;124;43m'\u001b[39;49m\u001b[38;5;124;43m정수값을 입력하세요 : \u001b[39;49m\u001b[38;5;124;43m'\u001b[39;49m\u001b[43m)\u001b[49m\u001b[43m)\u001b[49m\n\u001b[0;32m      7\u001b[0m \u001b[38;5;28mprint\u001b[39m(\u001b[38;5;124mf\u001b[39m\u001b[38;5;124m'\u001b[39m\u001b[38;5;124m100을 입력한 정수\u001b[39m\u001b[38;5;132;01m{\u001b[39;00mi\u001b[38;5;132;01m}\u001b[39;00m\u001b[38;5;124m로 나누면 \u001b[39m\u001b[38;5;132;01m{\u001b[39;00m\u001b[38;5;241m100\u001b[39m\u001b[38;5;241m/\u001b[39mi\u001b[38;5;132;01m:\u001b[39;00m\u001b[38;5;124m.3f\u001b[39m\u001b[38;5;132;01m}\u001b[39;00m\u001b[38;5;124m'\u001b[39m)\n",
      "\u001b[1;31mValueError\u001b[0m: invalid literal for int() with base 10: ''"
     ]
    }
   ],
   "source": [
    "# 100을 입력받은 정수값으로 나눠 출력\n",
    "# ZeroDivisionError: division by zero\n",
    "# ValueError: invalid literal for int() with base 10: 'a'\n",
    "# ValueError: invalid literal for int() with base 10: ''\n",
    "\n",
    "i = int(input('정수값을 입력하세요 : '))\n",
    "    \n",
    "print(f'100을 입력한 정수{i}로 나누면 {100/i:.3f}')\n"
   ]
  },
  {
   "cell_type": "code",
   "execution_count": 25,
   "id": "7f9aa815",
   "metadata": {},
   "outputs": [
    {
     "name": "stdout",
     "output_type": "stream",
     "text": [
      "정수값을 입력하세요 : 9\n",
      "i값 입력 받음 9\n",
      "100을 입력한 정수9로 나누면 11.111\n",
      "예외가 발생 안 됨\n"
     ]
    }
   ],
   "source": [
    "try:\n",
    "    i = int(input('정수값을 입력하세요 : '))\n",
    "    print('i값 입력 받음', i)\n",
    "    print(f'100을 입력한 정수{i}로 나누면 {100/i:.3f}')\n",
    "    print('예외가 발생 안 됨')\n",
    "except:\n",
    "    print('유효한 정수가 아닙니다')"
   ]
  },
  {
   "cell_type": "code",
   "execution_count": 2,
   "id": "aaa281ec",
   "metadata": {},
   "outputs": [
    {
     "name": "stdout",
     "output_type": "stream",
     "text": [
      "정수값을 입력하세요 : 10\n",
      "100을 입력한 정수 10로 나누면 10\n"
     ]
    }
   ],
   "source": [
    "# 100을 나눌 유효한 정수를 입력받고, 유효한 정수를 입력하면 100을 나눈 결과를 출력, 나눈 결과가 .0으로 끝나면 정수, .0로 끝나지 않으면 소수점 2자리\n",
    "\n",
    "while True:\n",
    "    try:\n",
    "        i = int(input('정수값을 입력하세요 : '))\n",
    "        j = 100/i\n",
    "        if j%1:\n",
    "            print(f'100을 입력한 정수 {i}로 나누면 {round(j,2)}')\n",
    "            break\n",
    "        else:\n",
    "            print(f'100을 입력한 정수 {i}로 나누면 {int(round(j,0))}')\n",
    "            break\n",
    "    except:\n",
    "        print('유효한 정수가 아닙니다')"
   ]
  },
  {
   "cell_type": "code",
   "execution_count": 8,
   "id": "b7df38de",
   "metadata": {},
   "outputs": [
    {
     "name": "stdout",
     "output_type": "stream",
     "text": [
      "정수값을 입력하세요 : 9\n",
      "100을 입력한 정수 9로 나누면 11.11\n"
     ]
    }
   ],
   "source": [
    "# 리스트 컴프리헨션 추가\n",
    "while True:\n",
    "    try:\n",
    "        i = int(input('정수값을 입력하세요 : '))\n",
    "        j = 100/i\n",
    "        result = f'{j:.0f}' if round(j)==j else f'{j:.2f}'\n",
    "        break\n",
    "    except:\n",
    "        print('유효한 정수가 아닙니다')\n",
    "print(f'100을 입력한 정수 {i}로 나누면 {result}')"
   ]
  },
  {
   "cell_type": "markdown",
   "id": "2733107d",
   "metadata": {},
   "source": [
    "## 2.2 예외를 지정한 처리\n",
    "```\n",
    "try:\n",
    "    예외가 발생할 수도 있는 문장들\n",
    "except 예외타입1:\n",
    "    해당 예외가 발생할 경우 실행할 문자\n",
    "except 예외타입2:\n",
    "    해당 예외가 발생할 경우 실행할 문자\n",
    "except 예외타입3:\n",
    "    해당 예외가 발생할 경우 실행할 문자\n",
    "...\n",
    "\n",
    "```"
   ]
  },
  {
   "cell_type": "code",
   "execution_count": null,
   "id": "657c3074",
   "metadata": {},
   "outputs": [],
   "source": [
    "# ZeroDivisionError: division by zero\n",
    "# ValueError: invalid literal for int() with base 10: 'a'\n",
    "# ValueError: invalid literal for int() with base 10: ''"
   ]
  },
  {
   "cell_type": "code",
   "execution_count": 13,
   "id": "c430296c",
   "metadata": {},
   "outputs": [
    {
     "name": "stdout",
     "output_type": "stream",
     "text": [
      "정수값을 입력하세요 : 10\n",
      "100을 입력한 정수 10로 나누면 10\n"
     ]
    }
   ],
   "source": [
    "# 에러 유형에 따라 여러 개의 except 타입을 설정할 수 있다. \n",
    "# 해당 타입은 클래스로 설정이 가능하며, 상당히 많은 에러유형 클래스가 있지만, 모두 Exception에게 상속받는 하위 클래스이다.\n",
    "\n",
    "while True:\n",
    "    try:\n",
    "        i = int(input('정수값을 입력하세요 : '))\n",
    "        j = 100/i\n",
    "        result = f'{j:.0f}' if round(j)==j else f'{j:.2f}'\n",
    "        break\n",
    "\n",
    "    except ZeroDivisionError:\n",
    "        print('0으로 나눌 수 없어요')\n",
    "    except ValueError:\n",
    "        print('유효한 정수를 입력하세요')    \n",
    "    except Exception:                      # 마지막 except 타입으로 배치해야한다. Exception은 상위 클래스 이므로.\n",
    "        print('그외 다른 예외. 잘좀 해봐.')\n",
    "        # except 절이 많은 경우 하위 클래스(자식클래스)가 위에 나와야함\n",
    "    \n",
    "print(f'100을 입력한 정수 {i}로 나누면 {result}')"
   ]
  },
  {
   "cell_type": "code",
   "execution_count": null,
   "id": "91e92c38",
   "metadata": {},
   "outputs": [],
   "source": [
    "# except 절을 합칠 수 있다\n",
    "while True:\n",
    "    try:\n",
    "        i = int(input('정수값을 입력하세요 : '))\n",
    "        j = 100/i\n",
    "        result = f'{j:.0f}' if round(j)==j else f'{j:.2f}'\n",
    "        break\n",
    "\n",
    "    except ZeroDivisionError:\n",
    "        print('0으로 나눌 수 없어요')\n",
    "    except ValueError:\n",
    "        print('유효한 정수를 입력하세요')    \n",
    "    except Exception:                      # 마지막 except 타입으로 배치해야한다. Exception은 상위 클래스 이므로.\n",
    "        print('그외 다른 예외. 잘좀 해봐.')\n",
    "        # except 절이 많은 경우 하위 클래스(자식클래스)가 위에 나와야함\n",
    "    \n",
    "print(f'100을 입력한 정수 {i}로 나누면 {result}')"
   ]
  },
  {
   "cell_type": "markdown",
   "id": "42635978",
   "metadata": {},
   "source": [
    "## 2.3 예외메세지(예외인수)"
   ]
  },
  {
   "cell_type": "code",
   "execution_count": 14,
   "id": "cc091424",
   "metadata": {},
   "outputs": [
    {
     "name": "stdout",
     "output_type": "stream",
     "text": [
      "정수값을 입력하세요 : 0\n",
      "division by zero\n",
      "<class 'ZeroDivisionError'>\n",
      "예외메세지 :  ('division by zero',)\n",
      "예외메세지 :  division by zero\n",
      "정수값을 입력하세요 : a\n",
      "invalid literal for int() with base 10: 'a'\n",
      "<class 'ValueError'>\n",
      "예외메세지 :  (\"invalid literal for int() with base 10: 'a'\",)\n",
      "예외메세지 :  invalid literal for int() with base 10: 'a'\n",
      "정수값을 입력하세요 : 1\n",
      "100을 입력한 정수 1로 나누면 100\n"
     ]
    }
   ],
   "source": [
    "while True:\n",
    "    try:\n",
    "        i = int(input('정수값을 입력하세요 : '))\n",
    "        j = 100/i\n",
    "        result = f'{j:.0f}' if round(j)==j else f'{j:.2f}'\n",
    "        print(f'100을 입력한 정수 {i}로 나누면 {result}')\n",
    "        break\n",
    "\n",
    "    except (ZeroDivisionError, ValueError)  as e:  # e는 예외객체, 예외인수라고 부른다\n",
    "        print(e)   # e.__str__() : 예외메세지를 리턴\n",
    "        print(type(e))\n",
    "        print('예외메세지 : ', e.args)\n",
    "        print('예외메세지 : ', e.args[0])\n",
    " \n",
    "    except Exception:                      \n",
    "        print('그외 다른 예외. 잘좀 해봐.')\n",
    "        \n"
   ]
  },
  {
   "cell_type": "markdown",
   "id": "85bf0b06",
   "metadata": {},
   "source": [
    "### Try 문법 정리\n",
    "```\n",
    "try:\n",
    "    예외 발생 가능 구문\n",
    "except [예외타입 as e]:\n",
    "    예외 발생시 실행 구문\n",
    "else:\n",
    "    try문을 정상적으로 실행되면 한번 실행할 구문 (안써도 됨, try 절에 넣으면 되니까)\n",
    "finally:\n",
    "    예외가 발생 안하면 try-else-finally절 수행\n",
    "    예외가 발생하면 try 수행중 except-finally절 수행\n",
    "\n",
    "```"
   ]
  },
  {
   "cell_type": "code",
   "execution_count": 20,
   "id": "f02289b1",
   "metadata": {},
   "outputs": [
    {
     "name": "stdout",
     "output_type": "stream",
     "text": [
      "[Errno 2] No such file or directory: 'data/ch0.txt'\n",
      "해당 파일이 없습니다\n"
     ]
    }
   ],
   "source": [
    "try:\n",
    "    f = open('data/ch0.txt', 'r')   # 파일에 한글이 있다면 cp949로 읽음\n",
    "except FileNotFoundError as e:\n",
    "    print(e)\n",
    "    print('해당 파일이 없습니다')\n",
    "else:\n",
    "    data = f.read()\n",
    "    print(data)\n",
    "finally:\n",
    "    f.close()"
   ]
  },
  {
   "cell_type": "code",
   "execution_count": 22,
   "id": "27b4875f",
   "metadata": {},
   "outputs": [
    {
     "name": "stdout",
     "output_type": "stream",
     "text": [
      "Hello\n",
      "World\n"
     ]
    }
   ],
   "source": [
    "try:\n",
    "    f = open('data/ch08.txt', 'r')   # 파일에 한글이 있다면 cp949로 읽음\n",
    "    data = f.read()\n",
    "    print(data)\n",
    "except FileNotFoundError as e:\n",
    "    print(e)\n",
    "finally:\n",
    "    f.close()"
   ]
  },
  {
   "cell_type": "markdown",
   "id": "c8d341f1",
   "metadata": {},
   "source": [
    "# 3절. raise\n",
    "- 강제 예외 발생"
   ]
  },
  {
   "cell_type": "code",
   "execution_count": 23,
   "id": "0bcfe492",
   "metadata": {},
   "outputs": [
    {
     "ename": "NameError",
     "evalue": "예외 발생함",
     "output_type": "error",
     "traceback": [
      "\u001b[1;31m---------------------------------------------------------------------------\u001b[0m",
      "\u001b[1;31mNameError\u001b[0m                                 Traceback (most recent call last)",
      "Cell \u001b[1;32mIn[23], line 1\u001b[0m\n\u001b[1;32m----> 1\u001b[0m \u001b[38;5;28;01mraise\u001b[39;00m \u001b[38;5;167;01mNameError\u001b[39;00m(\u001b[38;5;124m'\u001b[39m\u001b[38;5;124m예외 발생함\u001b[39m\u001b[38;5;124m'\u001b[39m)\n",
      "\u001b[1;31mNameError\u001b[0m: 예외 발생함"
     ]
    }
   ],
   "source": [
    "raise NameError('예외 발생함')"
   ]
  },
  {
   "cell_type": "code",
   "execution_count": 24,
   "id": "65772064",
   "metadata": {},
   "outputs": [],
   "source": [
    "# 사용자 정의 예외 : Exception 클래스 또는 그 하위클래스를 상속받아 구현 / 중첩루프를 빠져나올때 사용\n",
    "class LengthZeroError(Exception):\n",
    "    '길이가 0일때 발생할 예외'\n",
    "    pass\n",
    "#    def __init(self, message):          <-이런건 Exception 클래스에 이미 있어서 추가 선언이 필요없다\n",
    "#        self.message = message\n",
    "    "
   ]
  },
  {
   "cell_type": "code",
   "execution_count": 25,
   "id": "5395182e",
   "metadata": {},
   "outputs": [],
   "source": [
    "def insert(*data):  # 튜플 매개변수\n",
    "    if len(data) == 0:\n",
    "        raise LengthZeroError('매개변수가 0인 예외입니다')\n",
    "    for item in data:\n",
    "        print(item, end=' ')\n",
    "    print('등을 입력하셨습니다.')"
   ]
  },
  {
   "cell_type": "code",
   "execution_count": 38,
   "id": "ce42917b",
   "metadata": {},
   "outputs": [
    {
     "name": "stdout",
     "output_type": "stream",
     "text": [
      "매개변수가 0인 예외입니다\n",
      "무조건 실행하는 부분 DONE\n"
     ]
    }
   ],
   "source": [
    "data = []\n",
    "try:\n",
    "    insert(*data)\n",
    "except LengthZeroError as e:\n",
    "    print(e)\n",
    "finally:\n",
    "    print('무조건 실행하는 부분 DONE')"
   ]
  },
  {
   "cell_type": "markdown",
   "id": "e90a0859",
   "metadata": {},
   "source": [
    "# 4절. 추상클래스\n",
    "- 추상클래스 : 객체를 생성할 수 없는 클래스. 상속받을 클래스의 포맷 제공\n",
    "- 추상메소드 : 호출할 수 없는 메소드"
   ]
  },
  {
   "cell_type": "code",
   "execution_count": 41,
   "id": "a4ff24d9",
   "metadata": {},
   "outputs": [],
   "source": [
    "# Shape 클래스 : 객체를 만드는게 목적이 아니고, 자식클래스(서브클래스)를 잘 만드는게 목적\n",
    "# Shape 클래스를 상속받은 클래스들의 표준 제시\n",
    "\n",
    "class Shape:\n",
    "    def __init__(self):\n",
    "        raise NotImplementedError('추상클래스 역할')\n",
    "    def calc_area(self):\n",
    "        raise NotImplementedError('추상메소드 역할') "
   ]
  },
  {
   "cell_type": "code",
   "execution_count": 40,
   "id": "24923256",
   "metadata": {},
   "outputs": [
    {
     "ename": "NotImplementedError",
     "evalue": "추상클래스 역할",
     "output_type": "error",
     "traceback": [
      "\u001b[1;31m---------------------------------------------------------------------------\u001b[0m",
      "\u001b[1;31mNotImplementedError\u001b[0m                       Traceback (most recent call last)",
      "Cell \u001b[1;32mIn[40], line 1\u001b[0m\n\u001b[1;32m----> 1\u001b[0m s\u001b[38;5;241m=\u001b[39m\u001b[43mShape\u001b[49m\u001b[43m(\u001b[49m\u001b[43m)\u001b[49m\n",
      "Cell \u001b[1;32mIn[39], line 6\u001b[0m, in \u001b[0;36mShape.__init__\u001b[1;34m(self)\u001b[0m\n\u001b[0;32m      5\u001b[0m \u001b[38;5;28;01mdef\u001b[39;00m \u001b[38;5;21m__init__\u001b[39m(\u001b[38;5;28mself\u001b[39m):\n\u001b[1;32m----> 6\u001b[0m     \u001b[38;5;28;01mraise\u001b[39;00m \u001b[38;5;167;01mNotImplementedError\u001b[39;00m(\u001b[38;5;124m'\u001b[39m\u001b[38;5;124m추상클래스 역할\u001b[39m\u001b[38;5;124m'\u001b[39m)\n",
      "\u001b[1;31mNotImplementedError\u001b[0m: 추상클래스 역할"
     ]
    }
   ],
   "source": [
    "s=Shape()"
   ]
  },
  {
   "cell_type": "code",
   "execution_count": 45,
   "id": "8aa39d1f",
   "metadata": {},
   "outputs": [
    {
     "name": "stdout",
     "output_type": "stream",
     "text": [
      "28.259999999999998\n"
     ]
    }
   ],
   "source": [
    "class Circle(Shape):\n",
    "    def __init__(self, r=3):\n",
    "        self.r = r\n",
    "    def calc_area(self):\n",
    "        return 3.14*self.r*self.r\n",
    "c = Circle()\n",
    "print(c.calc_area())"
   ]
  },
  {
   "cell_type": "markdown",
   "id": "ef68ad30",
   "metadata": {},
   "source": [
    "# 5절. 파일 정리 작업(with 절 이용)"
   ]
  },
  {
   "cell_type": "code",
   "execution_count": null,
   "id": "f7d28087",
   "metadata": {},
   "outputs": [],
   "source": [
    "try:\n",
    "    f = open('data/ch08.txt', 'r')\n",
    "    print(f.read())\n",
    "except Exception as e:\n",
    "    print(e)\n",
    "finally:\n",
    "    f.close"
   ]
  },
  {
   "cell_type": "code",
   "execution_count": 46,
   "id": "9b1816ee",
   "metadata": {},
   "outputs": [
    {
     "name": "stdout",
     "output_type": "stream",
     "text": [
      "Hello\n",
      "World\n"
     ]
    },
    {
     "data": {
      "text/plain": [
       "<function TextIOWrapper.close()>"
      ]
     },
     "execution_count": 46,
     "metadata": {},
     "output_type": "execute_result"
    }
   ],
   "source": [
    "f = open('data/ch08.txt', 'r')\n",
    "print(f.read())\n",
    "f.close"
   ]
  },
  {
   "cell_type": "code",
   "execution_count": 47,
   "id": "3fcbcb74",
   "metadata": {},
   "outputs": [
    {
     "name": "stdout",
     "output_type": "stream",
     "text": [
      "Hello\n",
      "World\n"
     ]
    }
   ],
   "source": [
    "with open('data/ch08.txt', 'r') as f:\n",
    "    print(f.read())\n",
    "# with 절 이후에는 자동 close를 싱행"
   ]
  },
  {
   "cell_type": "markdown",
   "id": "2e360483",
   "metadata": {},
   "source": [
    "# 6절. 연습문제\n",
    "## 실습형"
   ]
  },
  {
   "cell_type": "code",
   "execution_count": 5,
   "id": "58a83d13",
   "metadata": {},
   "outputs": [
    {
     "name": "stdout",
     "output_type": "stream",
     "text": [
      "첫번째 숫자를 입력하세요 : 0\n",
      "두번째 숫자를 입력하세요 : 0\n",
      "입력한 수는 0.0와 0.0입니다.\n",
      "유효한 숫자가 아닙니다. 다시 시도하세요\n",
      "첫번째 숫자를 입력하세요 : ㅁ\n",
      "유효한 숫자가 아닙니다. 다시 시도하세요\n",
      "첫번째 숫자를 입력하세요 : 10\n",
      "두번째 숫자를 입력하세요 : 2\n",
      "입력한 수는 10.0와 2.0입니다.\n",
      "10.0을 2.0로 나누면 5.0입니다\n"
     ]
    }
   ],
   "source": [
    "# 1번\n",
    "while True:\n",
    "    try:\n",
    "        a = float(input(\"첫번째 숫자를 입력하세요 : \"))\n",
    "        b = float(input(\"두번째 숫자를 입력하세요 : \"))\n",
    "        print(f'입력한 수는 {a}와 {b}입니다.')\n",
    "        print(f'{a}을 {b}로 나누면 {a/b}입니다')\n",
    "        break\n",
    "    except: \n",
    "        print(\"유효한 숫자가 아닙니다. 다시 시도하세요\")\n"
   ]
  },
  {
   "cell_type": "code",
   "execution_count": 6,
   "id": "e64aff5b",
   "metadata": {},
   "outputs": [
    {
     "name": "stdout",
     "output_type": "stream",
     "text": [
      "첫번째 숫자를 입력하세요 : abc\n",
      "유효한 숫자가 아닙니다. 다시 시도하세요\n",
      "첫번째 숫자를 입력하세요 : 10\n",
      "두번째 숫자를 입력하세요 : 0\n",
      "입력한 수는 10.0와 0.0입니다.\n",
      "0으로 나눌 수 없습니다. 다시 시도하세요\n",
      "첫번째 숫자를 입력하세요 : 5\n",
      "두번째 숫자를 입력하세요 : 3\n",
      "입력한 수는 5.0와 3.0입니다.\n",
      "5.0을 3.0로 나누면 1.6666666666666667입니다\n"
     ]
    }
   ],
   "source": [
    "# 2번 예외 타입 설정\n",
    "\n",
    "while True:\n",
    "    try:\n",
    "        a = float(input(\"첫번째 숫자를 입력하세요 : \"))\n",
    "        b = float(input(\"두번째 숫자를 입력하세요 : \"))\n",
    "        print(f'입력한 수는 {a}와 {b}입니다.')\n",
    "        print(f'{a}을 {b}로 나누면 {a/b}입니다')\n",
    "        break\n",
    "    except ValueError: \n",
    "        print(\"유효한 숫자가 아닙니다. 다시 시도하세요\")\n",
    "    except ZeroDivisionError: \n",
    "        print(\"0으로 나눌 수 없습니다. 다시 시도하세요\")\n",
    "    except Exception: \n",
    "        print(\"유효한 숫자가 아닙니다. 다시 시도하세요\")\n",
    "\n",
    "# ZeroDivisionError: division by zero\n",
    "# ValueError"
   ]
  },
  {
   "cell_type": "markdown",
   "id": "53a2d48f",
   "metadata": {},
   "source": [
    "## 문제풀이형"
   ]
  },
  {
   "cell_type": "code",
   "execution_count": null,
   "id": "716a95cd",
   "metadata": {},
   "outputs": [],
   "source": [
    "# 1. 3번\n",
    "# 2. 2번 catch절 ?\n",
    "# 3. 4번\n",
    "# 4. 3번"
   ]
  },
  {
   "cell_type": "code",
   "execution_count": null,
   "id": "b2bc6d2c",
   "metadata": {},
   "outputs": [],
   "source": []
  },
  {
   "cell_type": "code",
   "execution_count": null,
   "id": "2bf82714",
   "metadata": {},
   "outputs": [],
   "source": []
  }
 ],
 "metadata": {
  "kernelspec": {
   "display_name": "Python 3 (ipykernel)",
   "language": "python",
   "name": "python3"
  },
  "language_info": {
   "codemirror_mode": {
    "name": "ipython",
    "version": 3
   },
   "file_extension": ".py",
   "mimetype": "text/x-python",
   "name": "python",
   "nbconvert_exporter": "python",
   "pygments_lexer": "ipython3",
   "version": "3.10.9"
  },
  "toc": {
   "base_numbering": 1,
   "nav_menu": {},
   "number_sections": false,
   "sideBar": true,
   "skip_h1_title": false,
   "title_cell": "Table of Contents",
   "title_sidebar": "Contents",
   "toc_cell": false,
   "toc_position": {
    "height": "calc(100% - 180px)",
    "left": "10px",
    "top": "150px",
    "width": "194px"
   },
   "toc_section_display": true,
   "toc_window_display": true
  }
 },
 "nbformat": 4,
 "nbformat_minor": 5
}
