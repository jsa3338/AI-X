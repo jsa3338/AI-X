{
 "cells": [
  {
   "cell_type": "code",
   "execution_count": 1,
   "id": "c768f2a7",
   "metadata": {},
   "outputs": [
    {
     "data": {
      "text/html": [
       "\n",
       "<style>\n",
       "div.container{width:86% !important;}\n",
       "div.cell.code_cell.rendered{width:100%;}\n",
       "div.CodeMirror {font-family:Consolas; font-size:12pt;}\n",
       "div.output {font-size:12pt; font-weight:bold;}\n",
       "div.input {font-family:Consolas; font-size:12pt;}\n",
       "div.prompt {min-width:70px;}\n",
       "div#toc-wrapper{padding-top:120px;}\n",
       "div.text_cell_render ul li{font-size:12pt;padding:5px;}\n",
       "table.dataframe{font-size:12px;}\n",
       "</style>\n"
      ],
      "text/plain": [
       "<IPython.core.display.HTML object>"
      ]
     },
     "metadata": {},
     "output_type": "display_data"
    }
   ],
   "source": [
    "from IPython.display import display, HTML\n",
    "display(HTML(\"\"\"\n",
    "<style>\n",
    "div.container{width:86% !important;}\n",
    "div.cell.code_cell.rendered{width:100%;}\n",
    "div.CodeMirror {font-family:Consolas; font-size:12pt;}\n",
    "div.output {font-size:12pt; font-weight:bold;}\n",
    "div.input {font-family:Consolas; font-size:12pt;}\n",
    "div.prompt {min-width:70px;}\n",
    "div#toc-wrapper{padding-top:120px;}\n",
    "div.text_cell_render ul li{font-size:12pt;padding:5px;}\n",
    "table.dataframe{font-size:12px;}\n",
    "</style>\n",
    "\"\"\"))"
   ]
  },
  {
   "cell_type": "markdown",
   "id": "f06e6373",
   "metadata": {},
   "source": [
    "<b><font size=\"5\" color=\"red\">ch09_파일 입출력(i/o) 프로그래밍</font></b>"
   ]
  },
  {
   "cell_type": "markdown",
   "id": "892f196b",
   "metadata": {},
   "source": [
    "1. *.txt\\\n",
    " 김회원, 33, 아무동9\\\n",
    " 이회원, 22, 무시기동8\n",
    "\n",
    "2. pickle파일(*.data) : 객체리스트 저장, 머신러닝모델 저장용, 메모장으로 열 수 없음\n",
    "\n",
    "3. *.csv\\\n",
    "   name,age,address\\\n",
    "   \"김회원\",33,\"아무동\"\\\n",
    "   \"이회원\",22,\"무시기동8\"\\\n",
    "   단, 항목 사이에 스페이스 없어야함, \"\"은 스트링, 없을땐 숫자로 인식\n",
    "   \n",
    "4. *.json\\\n",
    "   실시간의 데이터를 구하고 싶을 때, 특정 API를 사용하게 되는데 그때 json파일로 많이 받는다.\\\n",
    "   [{'name':'김회원', 'age':33, 'address':'아무동9'}, \\\n",
    "    {'name':'이회원', 'age':22, 'address':'무시기동8'}]\n",
    "    \n",
    "5. *.h5 이나 *.hdf5  (=> 딥러닝 모델 저장)\\\n",
    "   HDVview로 읽을 수 있음"
   ]
  },
  {
   "cell_type": "markdown",
   "id": "b1d8fd8a",
   "metadata": {},
   "source": [
    "# 1절. txt 파일에 데이터 저장하고 불러오기"
   ]
  },
  {
   "cell_type": "code",
   "execution_count": null,
   "id": "d7453bda",
   "metadata": {},
   "outputs": [],
   "source": [
    "# 지난시간 예외처리 방법\n",
    "try:\n",
    "    f = open('data/ch09.txt', 'w')\n",
    "    # 데이터 출력\n",
    "except FileNotFoundError as e:\n",
    "    print(e)\n",
    "finally:\n",
    "    f.close()\n"
   ]
  },
  {
   "cell_type": "code",
   "execution_count": 2,
   "id": "a149cf4f",
   "metadata": {},
   "outputs": [
    {
     "name": "stdout",
     "output_type": "stream",
     "text": [
      "쓰기가능한지 여부 : True\n"
     ]
    }
   ],
   "source": [
    "#수업을 위해 간단히 \n",
    "f = open('data/ch09.txt', 'w')\n",
    "print('쓰기가능한지 여부 :', f.writable())"
   ]
  },
  {
   "cell_type": "code",
   "execution_count": 3,
   "id": "8c5063e1",
   "metadata": {},
   "outputs": [],
   "source": [
    "f.write('Hello\\nWorld')\n",
    "f.close()  # close() 쓰지않으면 저장되지 않음"
   ]
  },
  {
   "cell_type": "code",
   "execution_count": 5,
   "id": "58b902e3",
   "metadata": {},
   "outputs": [
    {
     "name": "stdout",
     "output_type": "stream",
     "text": [
      "쓰기가능한지 여부 : True\n"
     ]
    }
   ],
   "source": [
    "#close 조차 사용하지 않게 with 절 사용\n",
    "with open('data/ch09.txt', 'w') as f:\n",
    "    print('쓰기가능한지 여부 :', f.writable())\n",
    "    f.write('Hello\\nPython')"
   ]
  },
  {
   "cell_type": "code",
   "execution_count": 11,
   "id": "1677dc26",
   "metadata": {},
   "outputs": [
    {
     "name": "stdout",
     "output_type": "stream",
     "text": [
      "쓰기가능한지 여부 : True\n"
     ]
    }
   ],
   "source": [
    "# mode \n",
    "    # 'r' or 'rt' : text읽기 모드\n",
    "    # 'rb' : 바이너리 읽기 모드\n",
    "    # 'w' or 'wt' : text쓰기 모드 (파일이 있으면 덮어쓰기, 없으면 생성 후 쓰기)\n",
    "    # 'wb' : 바이너리 쓰기 모드\n",
    "    # 'a' or 'at': text 추가(append) 모드 (파일이 있으면 추가, 없으면 생성 후 쓰기)\n",
    "    # 읽기모드에서는 '파일'이 없으면 예외/쓰기모드에서는 '폴더'가 없으면 예외\n",
    "# 한글을 쓸때는 encoding\n",
    "    # euc-kr (한글완성형) 믜x\n",
    "    # cp949 (확장된 한글완성형) : open() 함수 기본 encoding방식 (win)\n",
    "    # utf-8 (한글조합형) : open() 함수 기본 encoding방식 (mac, linux), 주피터노트북 기본\n",
    "with open('data/ch09.txt', 'w') as f:\n",
    "    print('쓰기가능한지 여부 :', f.writable())\n",
    "    f.write('Hello\\nPython')"
   ]
  },
  {
   "cell_type": "code",
   "execution_count": 15,
   "id": "4eaa991f",
   "metadata": {},
   "outputs": [],
   "source": [
    "with open('data/ch09.txt', 'w', encoding='utf-8') as f:\n",
    "    # 1방법\n",
    "    f.write('홍길동, 33, 아무동9\\n')\n",
    "    f.write('김길동, 35, 무개동9\\n')\n",
    "\n",
    "    # 2방법\n",
    "    textlist = ['홍길동, 33, 아무동9\\n', '김길동, 35, 무개동9\\n']\n",
    "    for line in textlist:\n",
    "        f.write(line)\n",
    "\n",
    "    # 3방법\n",
    "    f.writelines(textlist)"
   ]
  },
  {
   "cell_type": "code",
   "execution_count": 19,
   "id": "034eabef",
   "metadata": {},
   "outputs": [
    {
     "name": "stdout",
     "output_type": "stream",
     "text": [
      "홍길동, 33, 아무동9\n",
      "김길동, 35, 무개동9\n",
      "홍길동, 33, 아무동9\n",
      "김길동, 35, 무개동9\n",
      "홍길동, 33, 아무동9\n",
      "김길동, 35, 무개동9\n"
     ]
    }
   ],
   "source": [
    "# 한줄씩 읽기 \n",
    "with open('data/ch09.txt', 'r', encoding='cp949') as f:\n",
    "    line = f.readline()\n",
    "    while line!='':\n",
    "        print(line, end='')\n",
    "        line = f.readline()"
   ]
  },
  {
   "cell_type": "code",
   "execution_count": 20,
   "id": "5603ed35",
   "metadata": {},
   "outputs": [
    {
     "name": "stdout",
     "output_type": "stream",
     "text": [
      "['홍길동, 33, 아무동9\\n', '김길동, 35, 무개동9\\n', '홍길동, 33, 아무동9\\n', '김길동, 35, 무개동9\\n', '홍길동, 33, 아무동9\\n', '김길동, 35, 무개동9\\n']\n"
     ]
    }
   ],
   "source": [
    "# 모든 줄을 읽기\n",
    "with open('data/ch09.txt', 'r') as f:\n",
    "    lines = f.readlines()\n",
    "    print(lines)"
   ]
  },
  {
   "cell_type": "code",
   "execution_count": 23,
   "id": "7c95334e",
   "metadata": {},
   "outputs": [
    {
     "name": "stdout",
     "output_type": "stream",
     "text": [
      "홍길동, 33, 아무동9\n",
      "김길동, 35, 무개동9\n",
      "홍길동, 33, 아무동9\n",
      "김길동, 35, 무개동9\n",
      "홍길동, 33, 아무동9\n",
      "김길동, 35, 무개동9\n",
      "\n"
     ]
    }
   ],
   "source": [
    "# 모두 읽기\n",
    "with open('data/ch09.txt', 'r') as f:\n",
    "    lines = f.read()\n",
    "    print(lines)"
   ]
  },
  {
   "cell_type": "markdown",
   "id": "80b15f3f",
   "metadata": {},
   "source": [
    "# 2절. 피클 파일 저장/불러오기\n",
    "- 객체 혹은 객체리스트로 저장. 즉 클래스를 사용\n",
    "\n",
    "## 2.1 형식이 있는 txt데이터 불러오기"
   ]
  },
  {
   "cell_type": "code",
   "execution_count": 29,
   "id": "73c1b821",
   "metadata": {},
   "outputs": [
    {
     "ename": "UnicodeDecodeError",
     "evalue": "'cp949' codec can't decode byte 0xed in position 0: illegal multibyte sequence",
     "output_type": "error",
     "traceback": [
      "\u001b[1;31m---------------------------------------------------------------------------\u001b[0m",
      "\u001b[1;31mUnicodeDecodeError\u001b[0m                        Traceback (most recent call last)",
      "Cell \u001b[1;32mIn[29], line 2\u001b[0m\n\u001b[0;32m      1\u001b[0m \u001b[38;5;28;01mwith\u001b[39;00m \u001b[38;5;28mopen\u001b[39m(\u001b[38;5;124m'\u001b[39m\u001b[38;5;124mdata/ch09_member.txt\u001b[39m\u001b[38;5;124m'\u001b[39m, \u001b[38;5;124m'\u001b[39m\u001b[38;5;124mr\u001b[39m\u001b[38;5;124m'\u001b[39m) \u001b[38;5;28;01mas\u001b[39;00m f:\n\u001b[1;32m----> 2\u001b[0m     line \u001b[38;5;241m=\u001b[39m \u001b[43mf\u001b[49m\u001b[38;5;241;43m.\u001b[39;49m\u001b[43mreadline\u001b[49m\u001b[43m(\u001b[49m\u001b[43m)\u001b[49m\n\u001b[0;32m      3\u001b[0m     \u001b[38;5;28mprint\u001b[39m(line)\n",
      "\u001b[1;31mUnicodeDecodeError\u001b[0m: 'cp949' codec can't decode byte 0xed in position 0: illegal multibyte sequence"
     ]
    }
   ],
   "source": [
    "with open('data/ch09_member.txt', 'r') as f:\n",
    "    line = f.readline()\n",
    "    print(line)"
   ]
  },
  {
   "cell_type": "code",
   "execution_count": 47,
   "id": "179b98ca",
   "metadata": {},
   "outputs": [],
   "source": [
    "class Member:\n",
    "    def __init__(self, name, age, email, address):\n",
    "        self.name = name\n",
    "        self.age = age\n",
    "        self.email = email\n",
    "        self.address = address\n",
    "    def __str__(self):\n",
    "        return '{}, {}, {}, {}'.format(self.name,\n",
    "                                       '성년' if self.age >18 else '미성년',\n",
    "                                       self.email,\n",
    "                                       self.address)\n",
    "    def as_dict(self):\n",
    "        return {\n",
    "            'name':self.name,\n",
    "            'age':self.age,\n",
    "            'email':self.email,\n",
    "            'address':self.address\n",
    "                }    \n",
    "    ## 객체간 같은 내용이면 True 값을 내기위해 아래 내용으로 인스턴스 함수 추가\n",
    "    def __eq__(self, other):\n",
    "        return self.name == other.name and\\\n",
    "            self.age == other.age and \\\n",
    "            self.email==other.email and\\\n",
    "            self.address==other.address"
   ]
  },
  {
   "cell_type": "code",
   "execution_count": 35,
   "id": "0c16737f",
   "metadata": {},
   "outputs": [
    {
     "name": "stdout",
     "output_type": "stream",
     "text": [
      "True\n",
      "True\n"
     ]
    }
   ],
   "source": [
    "user1 = Member('홍',20,'a@a.com','신림동')\n",
    "user2 = Member('홍',20,'a@a.com','신림동')\n",
    "print(user1==user2)    #  객체간 == 은 __eq__ 를 내부적으로 살펴본다.\n",
    "print(user1.__eq__(user2))   # 같은 내용이면 True로 하고 싶다"
   ]
  },
  {
   "cell_type": "code",
   "execution_count": 48,
   "id": "46d87446",
   "metadata": {},
   "outputs": [],
   "source": [
    "# 파일을 읽어서 한줄씩 읽고\n",
    "# 형식이 있는 txt 파일 내용을 member list(피클 저장), 딕셔너리 list(데이터프레임) 저장\n",
    "user_list = []  # 객체 리스트로 구현\n",
    "user_dict = []  # 딕셔너리 리스트로 구현\n",
    "\n",
    "with open('data/ch09_member.txt', 'r', encoding='utf-8') as txt_file:\n",
    "    lines = txt_file.readlines()\n",
    "# print(lines)\n",
    "\n",
    "for line in lines:\n",
    "    data = line.split(',')\n",
    "    #print(data)\n",
    "    name = data[0]\n",
    "    age = int(data[1].strip()) # strip() : 좌우 공백(spac, \\t, \\n) 제거 \n",
    "    email = data[2].strip()\n",
    "    address = data[3].strip()\n",
    "    user = Member(name, age, email, address)\n",
    "    user_list.append(user)\n",
    "    user_dict.append(user.as_dict())\n",
    "    # user_dict.append(user.__dict__)\n",
    "              "
   ]
  },
  {
   "cell_type": "code",
   "execution_count": 49,
   "id": "60a2b061",
   "metadata": {},
   "outputs": [
    {
     "name": "stdout",
     "output_type": "stream",
     "text": [
      "홍길동, 성년, kildong@hong.com, 서울시 관악구\n",
      "홍길숙, 성년, kilsuk1@hong.com, 서울시 영등포구\n",
      "신길동, 성년, shinkil@hong.com, 서울시 동작구\n"
     ]
    }
   ],
   "source": [
    "for user in user_list:\n",
    "    print(user)"
   ]
  },
  {
   "cell_type": "code",
   "execution_count": 56,
   "id": "e1c06554",
   "metadata": {},
   "outputs": [
    {
     "name": "stdout",
     "output_type": "stream",
     "text": [
      "[{'name': '홍길동', 'age': 20, 'email': 'kildong@hong.com', 'address': '서울시 관악구'}, {'name': '홍길숙', 'age': 25, 'email': 'kilsuk1@hong.com', 'address': '서울시 영등포구'}, {'name': '신길동', 'age': 30, 'email': 'shinkil@hong.com', 'address': '서울시 동작구'}]\n"
     ]
    }
   ],
   "source": [
    "print(user_dict)"
   ]
  },
  {
   "cell_type": "markdown",
   "id": "45b3abeb",
   "metadata": {},
   "source": [
    "## 2.2 피클링\n",
    "- 객체 리스트(user_list) -> 피클 파일로 쓰기\n",
    "- 피클 파일을 읽기 -> 객체 리스트(load_user_list)\n",
    "- 저장 : pickle.dump(객체명, 스트림명)\n",
    "- 로드 : 로드할객체명 = pickle.load(스트림명)"
   ]
  },
  {
   "cell_type": "code",
   "execution_count": 51,
   "id": "89de93cd",
   "metadata": {},
   "outputs": [],
   "source": [
    "# 피클링을 이용한 객체를 저장하기, 바이너리 모드로 써야한다\n",
    "import pickle\n",
    "with open('data/ch09_member.data', 'wb') as f:\n",
    "    pickle.dump(user_list, f)"
   ]
  },
  {
   "cell_type": "code",
   "execution_count": 61,
   "id": "7376256c",
   "metadata": {},
   "outputs": [
    {
     "name": "stdout",
     "output_type": "stream",
     "text": [
      "홍길동, 성년, kildong@hong.com, 서울시 관악구\n",
      "홍길숙, 성년, kilsuk1@hong.com, 서울시 영등포구\n",
      "신길동, 성년, shinkil@hong.com, 서울시 동작구\n"
     ]
    }
   ],
   "source": [
    "# 피클링을 이용한 파일에서 객체 데이터로 읽기\n",
    "with open('data/ch09_member.data', 'rb') as f:\n",
    "    load_user_list = pickle.load(f)\n",
    "\n",
    "for data in load_user_list:\n",
    "    print(data)"
   ]
  },
  {
   "cell_type": "code",
   "execution_count": 60,
   "id": "7112ed71",
   "metadata": {},
   "outputs": [
    {
     "data": {
      "text/plain": [
       "True"
      ]
     },
     "execution_count": 60,
     "metadata": {},
     "output_type": "execute_result"
    }
   ],
   "source": [
    "load_user_list==user_list"
   ]
  },
  {
   "cell_type": "code",
   "execution_count": 66,
   "id": "927532d5",
   "metadata": {},
   "outputs": [
    {
     "name": "stdout",
     "output_type": "stream",
     "text": [
      "0 홍길동, 성년, kildong@hong.com, 서울시 관악구\n",
      "0 홍길동, 성년, kildong@hong.com, 서울시 관악구\n",
      "True\n",
      "1 홍길숙, 성년, kilsuk1@hong.com, 서울시 영등포구\n",
      "1 홍길숙, 성년, kilsuk1@hong.com, 서울시 영등포구\n",
      "True\n",
      "2 신길동, 성년, shinkil@hong.com, 서울시 동작구\n",
      "2 신길동, 성년, shinkil@hong.com, 서울시 동작구\n",
      "True\n"
     ]
    }
   ],
   "source": [
    "# 입력한 객체리스트와 로드한 객체리스트의 각 항목 값이 같은지 출력하고 확인하는 구문\n",
    "for idx, (user, load_user) in enumerate(zip(user_list, load_user_list)):\n",
    "    print(idx, user)\n",
    "    print(idx, load_user)\n",
    "    print(user==load_user)"
   ]
  },
  {
   "cell_type": "code",
   "execution_count": 70,
   "id": "c14c00fc",
   "metadata": {},
   "outputs": [
    {
     "name": "stdout",
     "output_type": "stream",
     "text": [
      "True\n"
     ]
    },
    {
     "data": {
      "text/plain": [
       "True"
      ]
     },
     "execution_count": 70,
     "metadata": {},
     "output_type": "execute_result"
    }
   ],
   "source": [
    "# 방대한 양을 일일이 확인할 수는 없다. \n",
    "\n",
    "result = []\n",
    "for user, load_user in zip(user_list, load_user_list):\n",
    "    result.append(user==load_user)\n",
    "print(len(set(result))==1)\n",
    "all(result)     # all() : 모두의 값이 같은지 체크하는 함수"
   ]
  },
  {
   "cell_type": "markdown",
   "id": "c821938e",
   "metadata": {},
   "source": [
    "# 3절. csv파일 읽기/쓰기\n",
    "- 헤더가 없는 경우 : 헤더를 만들어줘야한다\n",
    "- csv파일 <-> 리스트 데이터    3.1 읽기 / 3.2 쓰기\n",
    "- csv파일 <-> 딕셔너리 리스트   3.3 읽기 / 3.4 쓰기"
   ]
  },
  {
   "cell_type": "markdown",
   "id": "dc0f056f",
   "metadata": {},
   "source": [
    "## 3.1 reader - csv파일 리스트로 읽기 "
   ]
  },
  {
   "cell_type": "code",
   "execution_count": 77,
   "id": "2dabe43f",
   "metadata": {},
   "outputs": [
    {
     "name": "stdout",
     "output_type": "stream",
     "text": [
      "[['홍길동', '20', 'kildong@hong.com', '서울시 관악구'], ['김길동', '40', 'kimdong@hong.com', '서울시 영등포구'], ['신길동', '30', 'sindong@hong.com', '서울시 동작구']]\n"
     ]
    }
   ],
   "source": [
    "import csv\n",
    "with open('data/ch09_member1.csv', 'r', encoding='utf-8') as f:\n",
    "    reader = csv.reader(f)  \n",
    "    # csv.변수명(스트림명) : 한줄씩 읽어들여 리스트로 만드는 것을 반복하는 함수\n",
    "    result = list(reader)   # with절이 끝나면 날아가므로 결과를 저장할 필요가 있어서 result에 저장\n",
    "print(result)"
   ]
  },
  {
   "cell_type": "code",
   "execution_count": 78,
   "id": "b51e1719",
   "metadata": {},
   "outputs": [
    {
     "name": "stdout",
     "output_type": "stream",
     "text": [
      "[['홍길동', 20.0, 'kildong@hong.com', '서울시 관악구'], ['김길동', 40.0, 'kimdong@hong.com', '서울시 영등포구'], ['신길동', 30.0, 'sindong@hong.com', '서울시 동작구']]\n"
     ]
    }
   ],
   "source": [
    "# \"\"(따옴표)가 없는 데이터는 numeric으로 csv.QUOTE_NONNUMERIC <단 실수로 나옴\n",
    "import csv\n",
    "with open('data/ch09_member1.csv', 'r', encoding='utf-8') as f:\n",
    "    reader = csv.reader(f,\n",
    "                       quoting=csv.QUOTE_NONNUMERIC)  \n",
    "    result = list(reader)\n",
    "print(result)"
   ]
  },
  {
   "cell_type": "code",
   "execution_count": 81,
   "id": "ba2a3a31",
   "metadata": {},
   "outputs": [
    {
     "name": "stdout",
     "output_type": "stream",
     "text": [
      "[{'name': '홍길동', 'age': 20, 'email': 'kildong@hong.com', 'address': '서울시 관악구'}, {'name': '김길동', 'age': 40, 'email': 'kimdong@hong.com', 'address': '서울시 영등포구'}, {'name': '신길동', 'age': 30, 'email': 'sindong@hong.com', 'address': '서울시 동작구'}]\n"
     ]
    }
   ],
   "source": [
    "# 이 리스트, 딕셔너리로 바꿔봅시다\n",
    "import csv\n",
    "with open('data/ch09_member1.csv', 'r', encoding='utf-8') as f:\n",
    "    reader = csv.reader(f,\n",
    "                       quoting=csv.QUOTE_NONNUMERIC)  \n",
    "    result = list(reader)\n",
    "dict_list = []\n",
    "for data in result:\n",
    "    dict_list.append({\n",
    "        'name':data[0],\n",
    "        'age':int(data[1]),\n",
    "        'email':data[2],\n",
    "        'address':data[3]\n",
    "    })\n",
    "# 길다. 하기 싫다. 간편하게 처리하는건 3.3에서 배울 예정.\n",
    "# 질문. 해당 데이터에 헤더가 있었다면, __dict__ 쓸수 있었던건가?\n",
    "\n",
    "print(dict_list)"
   ]
  },
  {
   "cell_type": "markdown",
   "id": "23af0e09",
   "metadata": {},
   "source": [
    "## 3.2 writer"
   ]
  },
  {
   "cell_type": "code",
   "execution_count": 82,
   "id": "503fc431",
   "metadata": {},
   "outputs": [],
   "source": [
    "user_list = [['홍길동', 20, 'kildong@hong.com', '서울시 관악구'],\n",
    "            ['김길동', 40, 'kildong@kim.com', '서울시 강서']]"
   ]
  },
  {
   "cell_type": "code",
   "execution_count": 89,
   "id": "f1f03c38",
   "metadata": {},
   "outputs": [],
   "source": [
    "with open('data/ch09_member1_write.csv', 'a', newline='', encoding='utf-8') as f:\n",
    "    writer = csv.writer(f)\n",
    "    writer.writerows(user_list)"
   ]
  },
  {
   "cell_type": "code",
   "execution_count": 87,
   "id": "854834b7",
   "metadata": {},
   "outputs": [],
   "source": [
    "with open('data/ch09_member1_write.csv', 'w', newline='', encoding='utf-8') as f:\n",
    "    writer = csv.writer(f, quoting=csv.QUOTE_NONNUMERIC)  # \"\"있는 건 있는걸로 \"\"없는 건 없는걸로 write\n",
    "    writer.writerows(user_list)"
   ]
  },
  {
   "cell_type": "markdown",
   "id": "99501a40",
   "metadata": {},
   "source": [
    "## 3.3 DictReader\n",
    "- csv파일을 딕셔너리로 읽음"
   ]
  },
  {
   "cell_type": "code",
   "execution_count": 92,
   "id": "c3c83109",
   "metadata": {},
   "outputs": [
    {
     "name": "stdout",
     "output_type": "stream",
     "text": [
      "{'name': '홍길동', 'age': '20', 'email': 'h@h.com', 'address': '서울시 관악구', 'job': None}\n",
      "{'name': '신길동', 'age': '40', 'email': 's@h.com', 'address': '서울시 영등포구', 'job': '팀장'}\n",
      "{'name': '김길동', 'age': '30', 'email': 'k@h.com', 'address': '서울시 동작구', 'job': None}\n"
     ]
    }
   ],
   "source": [
    "# 리스트는 csv.reader()를 썼지만 딕셔너리는 csv.DictReader() 클래스를 이용한다\n",
    "with open('data/ch09_member3.csv', 'r', encoding='utf8') as f:\n",
    "    dict_reader = csv.DictReader(f)\n",
    "    for row in dict_reader:\n",
    "        print(row)\n",
    "\n",
    "# job 결측치가 있음. 부재시 출력하지 않겠다면?\n",
    "with open('data/ch09_member3.csv', 'r', encoding='utf8') as f:\n",
    "    dict_reader = csv.DictReader(f)\n",
    "    dict_list = list(dict_reader)\n",
    "for row in dict_reader:\n",
    "    if row['job'] ==None:\n",
    "        print()\n"
   ]
  },
  {
   "cell_type": "code",
   "execution_count": 124,
   "id": "61007bf1",
   "metadata": {},
   "outputs": [
    {
     "name": "stdout",
     "output_type": "stream",
     "text": [
      "[{'Name': '홍길동', 'Age': '20', 'Email': 'kildong@hong.com', 'Address': '서울시 관악구', 'Job': ''}, {'Name': '김길동', 'Age': '40', 'Email': 'kimdong@hong.com', 'Address': '서울시 영등포구', 'Job': '팀장'}, {'Name': '신길동', 'Age': '30', 'Email': 'sindong@hong.com', 'Address': '서울시 동작구', 'Job': ''}]\n"
     ]
    }
   ],
   "source": [
    "# header가 없는 csv파일(ch09_member1-cp.csv)을 딕셔너리로 읽기\n",
    "with open('data/ch09_member1-cp.csv', encoding='cp949') as f:\n",
    "    dict_reader = csv.DictReader(f, \n",
    "                                 fieldnames= ['Name', 'Age','Email','Address','Job']) # Job을 넣지 않으면 헤더 없이 \n",
    "    print(list(dict_reader), end='\\n')  \n",
    "    # 전체출력. 여기에서 dict_reader는 파일에서 불러오는 참조타겟이다. 전체 출력시 처음부터 다 돌고 나면 빈곳을 가르키게된다\n",
    "    for row in dict_reader:    # 위에서 참조가 끝났으므로 데이터를 가져오지 못한다.\n",
    "        print(row)"
   ]
  },
  {
   "cell_type": "code",
   "execution_count": 127,
   "id": "6ce497e4",
   "metadata": {},
   "outputs": [
    {
     "name": "stdout",
     "output_type": "stream",
     "text": [
      "[{'Name': '홍길동', 'Age': '20', 'Email': 'kildong@hong.com', 'Address': '서울시 관악구', 'Job': ''}, {'Name': '김길동', 'Age': '40', 'Email': 'kimdong@hong.com', 'Address': '서울시 영등포구', 'Job': '팀장'}, {'Name': '신길동', 'Age': '30', 'Email': 'sindong@hong.com', 'Address': '서울시 동작구', 'Job': ''}]\n",
      "\n",
      "{'Name': '홍길동', 'Age': '20', 'Email': 'kildong@hong.com', 'Address': '서울시 관악구', 'Job': ''}\n",
      "{'Name': '김길동', 'Age': '40', 'Email': 'kimdong@hong.com', 'Address': '서울시 영등포구', 'Job': '팀장'}\n",
      "{'Name': '신길동', 'Age': '30', 'Email': 'sindong@hong.com', 'Address': '서울시 동작구', 'Job': ''}\n"
     ]
    }
   ],
   "source": [
    "# 위에도 설명했지만 csv.DictReader로 생성한 리스트를 dict_reader에 할당했지만, 이는 엄연히 임시적인 참조값이라, 날아간다\n",
    "# 따라서 새로운 변수를 생성해 결과값을 할당해주면 날아가지 않는다.\n",
    "with open('data/ch09_member1-cp.csv', encoding='cp949') as f:\n",
    "    dict_reader = csv.DictReader(f, \n",
    "                                 fieldnames= ['Name', 'Age','Email','Address','Job']) # Job을 넣지 않으면 헤더 없이 \n",
    "    result = list(dict_reader)  \n",
    "    print(result)\n",
    "    print()\n",
    "    for row in result:    \n",
    "        print(row)"
   ]
  },
  {
   "cell_type": "code",
   "execution_count": 113,
   "id": "080938f5",
   "metadata": {},
   "outputs": [
    {
     "name": "stdout",
     "output_type": "stream",
     "text": [
      "{'Name': '홍길동', 'Age': '20', 'Email': 'kildong@hong.com', 'Address': '서울시 관악구', 'Job': ['']}\n",
      "{'Name': '김길동', 'Age': '40', 'Email': 'kimdong@hong.com', 'Address': '서울시 영등포구', 'Job': ['팀장']}\n",
      "{'Name': '신길동', 'Age': '30', 'Email': 'sindong@hong.com', 'Address': '서울시 동작구', 'Job': ['']}\n"
     ]
    }
   ],
   "source": [
    "# header가 없는 csv파일(ch09_member1-cp.csv)을 딕셔너리로 읽기\n",
    "with open('data/ch09_member1-cp.csv', encoding='cp949') as f:\n",
    "    dict_reader = csv.DictReader(f, \n",
    "                                 fieldnames= ['Name', 'Age','Email','Address'], # Job을 넣지 않으면 헤더와 칼럼자리는 있으니 빈것으로 나옴\n",
    "                                 restkey='Job')  # restkey='Job'  로 넣으면\n",
    "    result = list(dict_reader)\n",
    "\n",
    "for row in result:    \n",
    "    print(row)"
   ]
  },
  {
   "cell_type": "code",
   "execution_count": 112,
   "id": "fa7293a6",
   "metadata": {},
   "outputs": [
    {
     "name": "stdout",
     "output_type": "stream",
     "text": [
      "{'Name': '홍길동', 'Age': '20', 'Email': 'kildong@hong.com', 'Address': '서울시 관악구', 'Job': ['']}\n",
      "{'Name': '김길동', 'Age': '40', 'Email': 'kimdong@hong.com', 'Address': '서울시 영등포구', 'Job': ['팀장']}\n",
      "{'Name': '신길동', 'Age': '30', 'Email': 'sindong@hong.com', 'Address': '서울시 동작구', 'Job': ['']}\n"
     ]
    }
   ],
   "source": [
    "\n",
    "for row in result:    \n",
    "    print(row)"
   ]
  },
  {
   "cell_type": "markdown",
   "id": "8f5329ac",
   "metadata": {},
   "source": [
    "## 3.4 DictWriter\n",
    "- 딕셔너리리스트 ->csv파일"
   ]
  },
  {
   "cell_type": "code",
   "execution_count": 141,
   "id": "a3b81b70",
   "metadata": {},
   "outputs": [
    {
     "data": {
      "text/plain": [
       "[{'name': '홍길동', 'age': '20', 'email': 'h@h.com', 'address': '서울시 관악구'},\n",
       " {'name': '신길동', 'age': '40', 'email': 's@h.com', 'address': '서울시 영등포구'},\n",
       " {'name': '김길동', 'age': '30', 'email': 'k@h.com', 'address': '서울시 동작구'}]"
      ]
     },
     "execution_count": 141,
     "metadata": {},
     "output_type": "execute_result"
    }
   ],
   "source": [
    "user1 = {'name': '홍길동', 'age': '20', 'email': 'h@h.com', 'address': '서울시 관악구'}\n",
    "user2 = {'name': '신길동', 'age': '40', 'email': 's@h.com', 'address': '서울시 영등포구'}\n",
    "user3 = {'name': '김길동', 'age': '30', 'email': 'k@h.com', 'address': '서울시 동작구'}\n",
    "user_list = [user1, user2, user3]\n",
    "field_names = list(user1.keys())\n",
    "field_names\n",
    "user_list"
   ]
  },
  {
   "cell_type": "code",
   "execution_count": 137,
   "id": "c871f95f",
   "metadata": {},
   "outputs": [],
   "source": [
    "with open('data/ch09_member4.csv', 'w', newline=\"\", encoding='utf-8') as f: # newline= 은 기본이 행바꿈\n",
    "    dict_writer = csv.DictWriter(f,\n",
    "                                fieldnames=field_names)\n",
    "    dict_writer.writeheader()  # header 쓰기  / 위 fieldnames=field_names 에서 설정된 값을 넣는다.\n",
    "    dict_writer.writerows(user_list)"
   ]
  },
  {
   "cell_type": "markdown",
   "id": "cec4827f",
   "metadata": {},
   "source": [
    "## csv <-> 데이터프레임"
   ]
  },
  {
   "cell_type": "code",
   "execution_count": 139,
   "id": "c11566ae",
   "metadata": {},
   "outputs": [
    {
     "data": {
      "text/html": [
       "<div>\n",
       "<style scoped>\n",
       "    .dataframe tbody tr th:only-of-type {\n",
       "        vertical-align: middle;\n",
       "    }\n",
       "\n",
       "    .dataframe tbody tr th {\n",
       "        vertical-align: top;\n",
       "    }\n",
       "\n",
       "    .dataframe thead th {\n",
       "        text-align: right;\n",
       "    }\n",
       "</style>\n",
       "<table border=\"1\" class=\"dataframe\">\n",
       "  <thead>\n",
       "    <tr style=\"text-align: right;\">\n",
       "      <th></th>\n",
       "      <th>name</th>\n",
       "      <th>age</th>\n",
       "      <th>email</th>\n",
       "      <th>address</th>\n",
       "      <th>job</th>\n",
       "    </tr>\n",
       "  </thead>\n",
       "  <tbody>\n",
       "    <tr>\n",
       "      <th>0</th>\n",
       "      <td>홍길동</td>\n",
       "      <td>20</td>\n",
       "      <td>h@h.com</td>\n",
       "      <td>서울시 관악구</td>\n",
       "      <td>NaN</td>\n",
       "    </tr>\n",
       "    <tr>\n",
       "      <th>1</th>\n",
       "      <td>신길동</td>\n",
       "      <td>40</td>\n",
       "      <td>s@h.com</td>\n",
       "      <td>서울시 영등포구</td>\n",
       "      <td>팀장</td>\n",
       "    </tr>\n",
       "    <tr>\n",
       "      <th>2</th>\n",
       "      <td>김길동</td>\n",
       "      <td>30</td>\n",
       "      <td>k@h.com</td>\n",
       "      <td>서울시 동작구</td>\n",
       "      <td>NaN</td>\n",
       "    </tr>\n",
       "  </tbody>\n",
       "</table>\n",
       "</div>"
      ],
      "text/plain": [
       "  name  age    email   address  job\n",
       "0  홍길동   20  h@h.com   서울시 관악구  NaN\n",
       "1  신길동   40  s@h.com  서울시 영등포구   팀장\n",
       "2  김길동   30  k@h.com   서울시 동작구  NaN"
      ]
     },
     "execution_count": 139,
     "metadata": {},
     "output_type": "execute_result"
    }
   ],
   "source": [
    "import pandas as pd\n",
    "member = pd.read_csv('data/ch09_member3.csv')  # 기본이 encoding='utf-8'\n",
    "member"
   ]
  },
  {
   "cell_type": "code",
   "execution_count": 140,
   "id": "a6b591b0",
   "metadata": {},
   "outputs": [
    {
     "data": {
      "text/plain": [
       "pandas.core.frame.DataFrame"
      ]
     },
     "execution_count": 140,
     "metadata": {},
     "output_type": "execute_result"
    }
   ],
   "source": [
    "type(member)"
   ]
  },
  {
   "cell_type": "markdown",
   "id": "bf700e99",
   "metadata": {},
   "source": [
    "# 4절. JSON 데이터 저장하고 불러오고(dump, load)\n",
    "- 딕셔너리 리스트 <-> JSON파일 (기본)\n",
    "- 객체리스트 <-> JSON파일\n",
    "## 4.1 dump(파일 출력)"
   ]
  },
  {
   "cell_type": "code",
   "execution_count": 145,
   "id": "9e8d690f",
   "metadata": {},
   "outputs": [],
   "source": [
    "data = [{'name': '홍길동', 'age': 20, 'email': 'h@h.com', 'address': '서울시 관악구'},\n",
    "         {'name': '신길동', 'age': 40, 'email': 's@h.com', 'address': '서울시 영등포구'},\n",
    "         {'name': '김길동', 'age': 30, 'email': 'k@h.com', 'address': '서울시 동작구'}]"
   ]
  },
  {
   "cell_type": "code",
   "execution_count": 150,
   "id": "08d54b70",
   "metadata": {},
   "outputs": [],
   "source": [
    "# ensure_ascii 매개변수\n",
    "    # True  : 비 ASCII 문자는 유니코드 형태로 저장\n",
    "    # False  : 비 ASCII 문자 원래 형태로 저장\n",
    "import json\n",
    "with open('data/ch09_member.json', 'w', encoding='utf-8') as jsonfile:\n",
    "    json.dump(data,  # 딕셔너리 리스트가 기본\n",
    "             jsonfile,  # 스트림 이름\n",
    "             ensure_ascii=False,   # 비 아스키 코드 형태 유지\n",
    "             indent='\\t'  # 들여쓰기를 '  ' 만큼 할거야, 각 항목에 대한 줄바꿈이 포함되어 있다.\n",
    "             )\n",
    "    "
   ]
  },
  {
   "cell_type": "code",
   "execution_count": 1,
   "id": "99523ca3",
   "metadata": {},
   "outputs": [],
   "source": [
    "class Member:\n",
    "    def __init__(self, name, age, email, address):\n",
    "        self.name = name\n",
    "        self.age = age\n",
    "        self.email = email\n",
    "        self.address = address\n",
    "    def __str__(self):\n",
    "        return '{}, {}, {}, {}'.format(self.name,\n",
    "                                       self.age,\n",
    "                                       self.email,\n",
    "                                       self.address)\n",
    "    def as_dict(self):\n",
    "        return {\n",
    "            'name':self.name,\n",
    "            'age':self.age,\n",
    "            'email':self.email,\n",
    "            'address':self.address\n",
    "                }    \n",
    "    \n",
    "    def __eq__(self, other):\n",
    "        if isinstance(other, Member):\n",
    "            return self.__str__() == other.__str__()\n",
    "#            return self.__dict__() == other.__dict__()\n",
    "        else:\n",
    "            return False"
   ]
  },
  {
   "cell_type": "code",
   "execution_count": 2,
   "id": "19e42310",
   "metadata": {},
   "outputs": [
    {
     "name": "stdout",
     "output_type": "stream",
     "text": [
      "False\n",
      "True\n"
     ]
    }
   ],
   "source": [
    "user1 = Member('홍길동', 22, 'a@a.com', '신림동')\n",
    "user2 = Member('홍길동', 22, 'a@a.com', '신림동')\n",
    "print(user1.__eq__('홍길동'))\n",
    "print(user1==user2)"
   ]
  },
  {
   "cell_type": "code",
   "execution_count": 12,
   "id": "3a08bc88",
   "metadata": {},
   "outputs": [
    {
     "name": "stdout",
     "output_type": "stream",
     "text": [
      "홍길동, 22, a@a.com, 신림동\n"
     ]
    }
   ],
   "source": [
    "user_list = []\n",
    "user_list.append(user1)\n",
    "for row in user_list:\n",
    "    print(row)"
   ]
  },
  {
   "cell_type": "code",
   "execution_count": 14,
   "id": "44aef714",
   "metadata": {},
   "outputs": [
    {
     "ename": "TypeError",
     "evalue": "'Member' object is not iterable",
     "output_type": "error",
     "traceback": [
      "\u001b[1;31m---------------------------------------------------------------------------\u001b[0m",
      "\u001b[1;31mTypeError\u001b[0m                                 Traceback (most recent call last)",
      "Cell \u001b[1;32mIn[14], line 1\u001b[0m\n\u001b[1;32m----> 1\u001b[0m \u001b[38;5;28;01mfor\u001b[39;00m row \u001b[38;5;129;01min\u001b[39;00m user1:\n\u001b[0;32m      2\u001b[0m     \u001b[38;5;28mprint\u001b[39m(row)\n",
      "\u001b[1;31mTypeError\u001b[0m: 'Member' object is not iterable"
     ]
    }
   ],
   "source": [
    "for row in user1:\n",
    "    print(row)"
   ]
  },
  {
   "cell_type": "code",
   "execution_count": 15,
   "id": "8acbef54",
   "metadata": {},
   "outputs": [],
   "source": [
    "member_list = [Member('홍길동', 22, 'a@a.com', '신림동'),\n",
    "               Member('김길동', 22, 'a@a.com', '신림동'),\n",
    "               Member('신길동', 22, 'a@a.com', '신림동')]\n"
   ]
  },
  {
   "cell_type": "code",
   "execution_count": 17,
   "id": "9d3477dc",
   "metadata": {},
   "outputs": [],
   "source": [
    "import json\n",
    "with open('data/ch09_member1.json', 'w', encoding='utf-8') as jsonfile:\n",
    "    json.dump(member_list,\n",
    "             jsonfile,\n",
    "             ensure_ascii=False,\n",
    "             indent='\\t',\n",
    "             default=Member.as_dict #객체를 딕셔너리로 변경하는 함수가 필요\n",
    "             )"
   ]
  },
  {
   "cell_type": "markdown",
   "id": "1bea9ba7",
   "metadata": {},
   "source": [
    "## 4.2 load(파일입력)\n",
    "- json파일 -> 딕셔너리 리스트 (기본)\n",
    "- json파일 -> 객체리스트"
   ]
  },
  {
   "cell_type": "code",
   "execution_count": 18,
   "id": "9234fa49",
   "metadata": {},
   "outputs": [],
   "source": [
    "def as_member(dic):\n",
    "    '매개변수로 딕셔너리를 받아 Member 객체를 return'\n",
    "    return Member(dic.get('name'), dic.get('age'), dic.get('email'), dic.get('address'))"
   ]
  },
  {
   "cell_type": "code",
   "execution_count": 21,
   "id": "c3aba970",
   "metadata": {},
   "outputs": [
    {
     "name": "stdout",
     "output_type": "stream",
     "text": [
      "홍길동, 20, h@h.com, 서울시 관악구\n"
     ]
    }
   ],
   "source": [
    "member = as_member({'name': '홍길동', 'age': 20, 'email': 'h@h.com', 'address': '서울시 관악구'})\n",
    "print(member)"
   ]
  },
  {
   "cell_type": "code",
   "execution_count": 20,
   "id": "d3222684",
   "metadata": {},
   "outputs": [
    {
     "name": "stdout",
     "output_type": "stream",
     "text": [
      "<function as_member at 0x0000027765CF0280>\n"
     ]
    }
   ],
   "source": [
    "print(as_member)"
   ]
  },
  {
   "cell_type": "code",
   "execution_count": 22,
   "id": "781aa993",
   "metadata": {},
   "outputs": [
    {
     "data": {
      "text/plain": [
       "[{'name': '홍길동', 'age': 22, 'email': 'a@a.com', 'address': '신림동'},\n",
       " {'name': '김길동', 'age': 22, 'email': 'a@a.com', 'address': '신림동'},\n",
       " {'name': '신길동', 'age': 22, 'email': 'a@a.com', 'address': '신림동'}]"
      ]
     },
     "execution_count": 22,
     "metadata": {},
     "output_type": "execute_result"
    }
   ],
   "source": [
    "# 딕녀서너리로 로드\n",
    "with open('data/ch09_member1.json', 'r', encoding='utf-8') as js:\n",
    "    load_data = json.load(js)\n",
    "load_data"
   ]
  },
  {
   "cell_type": "code",
   "execution_count": 30,
   "id": "87b355f1",
   "metadata": {},
   "outputs": [
    {
     "name": "stdout",
     "output_type": "stream",
     "text": [
      "홍길동, 22, a@a.com, 신림동\n",
      "김길동, 22, a@a.com, 신림동\n",
      "신길동, 22, a@a.com, 신림동\n"
     ]
    }
   ],
   "source": [
    "# json 파일을 딕셔너리로 불러서 객체로 변환하여 로드\n",
    "with open('data/ch09_member1.json', 'r', encoding='utf-8') as js:\n",
    "    load_data = json.load(js,\n",
    "                         object_hook=as_member) # object_hook= 딕셔너리를 받아 Member객체로 리턴\n",
    "    for data in load_data:\n",
    "        print(data)"
   ]
  },
  {
   "cell_type": "markdown",
   "id": "7d98e200",
   "metadata": {},
   "source": [
    "### Json -> 데이터프레임"
   ]
  },
  {
   "cell_type": "code",
   "execution_count": 27,
   "id": "ee5d7eaf",
   "metadata": {},
   "outputs": [
    {
     "data": {
      "text/html": [
       "<div>\n",
       "<style scoped>\n",
       "    .dataframe tbody tr th:only-of-type {\n",
       "        vertical-align: middle;\n",
       "    }\n",
       "\n",
       "    .dataframe tbody tr th {\n",
       "        vertical-align: top;\n",
       "    }\n",
       "\n",
       "    .dataframe thead th {\n",
       "        text-align: right;\n",
       "    }\n",
       "</style>\n",
       "<table border=\"1\" class=\"dataframe\">\n",
       "  <thead>\n",
       "    <tr style=\"text-align: right;\">\n",
       "      <th></th>\n",
       "      <th>name</th>\n",
       "      <th>age</th>\n",
       "      <th>email</th>\n",
       "      <th>address</th>\n",
       "    </tr>\n",
       "  </thead>\n",
       "  <tbody>\n",
       "    <tr>\n",
       "      <th>0</th>\n",
       "      <td>홍길동</td>\n",
       "      <td>22</td>\n",
       "      <td>a@a.com</td>\n",
       "      <td>신림동</td>\n",
       "    </tr>\n",
       "    <tr>\n",
       "      <th>1</th>\n",
       "      <td>김길동</td>\n",
       "      <td>22</td>\n",
       "      <td>a@a.com</td>\n",
       "      <td>신림동</td>\n",
       "    </tr>\n",
       "    <tr>\n",
       "      <th>2</th>\n",
       "      <td>신길동</td>\n",
       "      <td>22</td>\n",
       "      <td>a@a.com</td>\n",
       "      <td>신림동</td>\n",
       "    </tr>\n",
       "  </tbody>\n",
       "</table>\n",
       "</div>"
      ],
      "text/plain": [
       "  name  age    email address\n",
       "0  홍길동   22  a@a.com     신림동\n",
       "1  김길동   22  a@a.com     신림동\n",
       "2  신길동   22  a@a.com     신림동"
      ]
     },
     "execution_count": 27,
     "metadata": {},
     "output_type": "execute_result"
    }
   ],
   "source": [
    "import pandas as pd\n",
    "pd.read_json('data/ch09_member1.json')\n",
    "# pd.함수() : encoding='utf-8' 이 기본값"
   ]
  },
  {
   "cell_type": "code",
   "execution_count": 31,
   "id": "809d90b6",
   "metadata": {},
   "outputs": [
    {
     "data": {
      "text/html": [
       "<div>\n",
       "<style scoped>\n",
       "    .dataframe tbody tr th:only-of-type {\n",
       "        vertical-align: middle;\n",
       "    }\n",
       "\n",
       "    .dataframe tbody tr th {\n",
       "        vertical-align: top;\n",
       "    }\n",
       "\n",
       "    .dataframe thead th {\n",
       "        text-align: right;\n",
       "    }\n",
       "</style>\n",
       "<table border=\"1\" class=\"dataframe\">\n",
       "  <thead>\n",
       "    <tr style=\"text-align: right;\">\n",
       "      <th></th>\n",
       "      <th>image</th>\n",
       "    </tr>\n",
       "  </thead>\n",
       "  <tbody>\n",
       "    <tr>\n",
       "      <th>data</th>\n",
       "      <td>/9j/4AAQSkZJRgABAQEB9AH0AAD/4RemRXhpZgAATU0AKg...</td>\n",
       "    </tr>\n",
       "    <tr>\n",
       "      <th>mime</th>\n",
       "      <td>image/jpeg</td>\n",
       "    </tr>\n",
       "  </tbody>\n",
       "</table>\n",
       "</div>"
      ],
      "text/plain": [
       "                                                  image\n",
       "data  /9j/4AAQSkZJRgABAQEB9AH0AAD/4RemRXhpZgAATU0AKg...\n",
       "mime                                         image/jpeg"
      ]
     },
     "execution_count": 31,
     "metadata": {},
     "output_type": "execute_result"
    }
   ],
   "source": [
    "pd.read_json('data/한국토지주택공사_남양주왕숙2 토지이용계획도_20210924.json')"
   ]
  },
  {
   "cell_type": "markdown",
   "id": "98693c13",
   "metadata": {},
   "source": [
    "# 5절. 연습문제\n",
    "\n",
    "## 실습형"
   ]
  },
  {
   "cell_type": "code",
   "execution_count": 32,
   "id": "df01e019",
   "metadata": {},
   "outputs": [
    {
     "ename": "SyntaxError",
     "evalue": "incomplete input (3210525131.py, line 2)",
     "output_type": "error",
     "traceback": [
      "\u001b[1;36m  Cell \u001b[1;32mIn[32], line 2\u001b[1;36m\u001b[0m\n\u001b[1;33m    \u001b[0m\n\u001b[1;37m    ^\u001b[0m\n\u001b[1;31mSyntaxError\u001b[0m\u001b[1;31m:\u001b[0m incomplete input\n"
     ]
    }
   ],
   "source": [
    "with open('data/ch09_customs.txt', 'r', encoding='utf-8') as f:\n",
    "    "
   ]
  },
  {
   "cell_type": "code",
   "execution_count": null,
   "id": "67218da1",
   "metadata": {},
   "outputs": [],
   "source": []
  },
  {
   "cell_type": "code",
   "execution_count": null,
   "id": "6fad6991",
   "metadata": {},
   "outputs": [],
   "source": []
  },
  {
   "cell_type": "code",
   "execution_count": null,
   "id": "842c309c",
   "metadata": {},
   "outputs": [],
   "source": []
  },
  {
   "cell_type": "code",
   "execution_count": null,
   "id": "938a5818",
   "metadata": {},
   "outputs": [],
   "source": []
  },
  {
   "cell_type": "code",
   "execution_count": null,
   "id": "6d90f2ff",
   "metadata": {},
   "outputs": [],
   "source": []
  },
  {
   "cell_type": "code",
   "execution_count": null,
   "id": "3dca6495",
   "metadata": {},
   "outputs": [],
   "source": []
  },
  {
   "cell_type": "code",
   "execution_count": null,
   "id": "368006e1",
   "metadata": {},
   "outputs": [],
   "source": []
  }
 ],
 "metadata": {
  "kernelspec": {
   "display_name": "Python 3 (ipykernel)",
   "language": "python",
   "name": "python3"
  },
  "language_info": {
   "codemirror_mode": {
    "name": "ipython",
    "version": 3
   },
   "file_extension": ".py",
   "mimetype": "text/x-python",
   "name": "python",
   "nbconvert_exporter": "python",
   "pygments_lexer": "ipython3",
   "version": "3.10.9"
  },
  "toc": {
   "base_numbering": 1,
   "nav_menu": {},
   "number_sections": false,
   "sideBar": true,
   "skip_h1_title": false,
   "title_cell": "Table of Contents",
   "title_sidebar": "Contents",
   "toc_cell": false,
   "toc_position": {
    "height": "calc(100% - 180px)",
    "left": "10px",
    "top": "150px",
    "width": "201px"
   },
   "toc_section_display": true,
   "toc_window_display": true
  }
 },
 "nbformat": 4,
 "nbformat_minor": 5
}
