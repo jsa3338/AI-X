{
 "cells": [
  {
   "cell_type": "code",
   "execution_count": 23,
   "id": "c768f2a7",
   "metadata": {},
   "outputs": [
    {
     "data": {
      "text/html": [
       "\n",
       "<style>\n",
       "div.container{width:86% !important;}\n",
       "div.cell.code_cell.rendered{width:100%;}\n",
       "div.CodeMirror {font-family:Consolas; font-size:12pt;}\n",
       "div.output {font-size:12pt; font-weight:bold;}\n",
       "div.input {font-family:Consolas; font-size:12pt;}\n",
       "div.prompt {min-width:70px;}\n",
       "div#toc-wrapper{padding-top:120px;}\n",
       "div.text_cell_render ul li{font-size:12pt;padding:5px;}\n",
       "table.dataframe{font-size:12px;}\n",
       "</style>\n"
      ],
      "text/plain": [
       "<IPython.core.display.HTML object>"
      ]
     },
     "metadata": {},
     "output_type": "display_data"
    }
   ],
   "source": [
    "from IPython.display import display, HTML\n",
    "display(HTML(\"\"\"\n",
    "<style>\n",
    "div.container{width:86% !important;}\n",
    "div.cell.code_cell.rendered{width:100%;}\n",
    "div.CodeMirror {font-family:Consolas; font-size:12pt;}\n",
    "div.output {font-size:12pt; font-weight:bold;}\n",
    "div.input {font-family:Consolas; font-size:12pt;}\n",
    "div.prompt {min-width:70px;}\n",
    "div#toc-wrapper{padding-top:120px;}\n",
    "div.text_cell_render ul li{font-size:12pt;padding:5px;}\n",
    "table.dataframe{font-size:12px;}\n",
    "</style>\n",
    "\"\"\"))"
   ]
  },
  {
   "cell_type": "markdown",
   "id": "f06e6373",
   "metadata": {},
   "source": [
    "<b><font size=\"5\" color=\"red\">ch09_파일 입출력(i/o) 프로그래밍</font></b>"
   ]
  },
  {
   "cell_type": "markdown",
   "id": "892f196b",
   "metadata": {},
   "source": [
    "1. *.txt\\\n",
    " 김회원, 33, 아무동9\\\n",
    " 이회원, 22, 무시기동8\n",
    "\n",
    "2. pickle파일(*.data) : 객체리스트 저장, 머신러닝모델 저장용, 메모장으로 열 수 없음\n",
    "\n",
    "3. *.csv\\\n",
    "   name,age,address\\\n",
    "   \"김회원\",33,\"아무동\"\\\n",
    "   \"이회원\",22,\"무시기동8\"\\\n",
    "   단, 항목 사이에 스페이스 없어야함, \"\"은 스트링, 없을땐 숫자로 인식\n",
    "   \n",
    "4. *.json\\\n",
    "   실시간의 데이터를 구하고 싶을 때, 특정 API를 사용하게 되는데 그때 json파일로 많이 받는다.\\\n",
    "   [{'name':'김회원', 'age':33, 'address':'아무동9'}, \\\n",
    "    {'name':'이회원', 'age':22, 'address':'무시기동8'}]\n",
    "    \n",
    "5. *.h5 이나 *.hdf5  (=> 딥러닝 모델 저장)\\\n",
    "   HDVview로 읽을 수 있음"
   ]
  },
  {
   "cell_type": "markdown",
   "id": "b1d8fd8a",
   "metadata": {},
   "source": [
    "# 1절. txt 파일에 데이터 저장하고 불러오기"
   ]
  },
  {
   "cell_type": "code",
   "execution_count": null,
   "id": "d7453bda",
   "metadata": {},
   "outputs": [],
   "source": [
    "# 지난시간 예외처리 방법\n",
    "try:\n",
    "    f = open('data/ch09.txt', 'w')\n",
    "    # 데이터 출력\n",
    "except FileNotFoundError as e:\n",
    "    print(e)\n",
    "finally:\n",
    "    f.close()\n"
   ]
  },
  {
   "cell_type": "code",
   "execution_count": null,
   "id": "a149cf4f",
   "metadata": {},
   "outputs": [],
   "source": [
    "#수업을 위해 간단히 \n",
    "f = open('data/ch09.txt', 'w')\n",
    "print('쓰기가능한지 여부 :', f.writable())"
   ]
  },
  {
   "cell_type": "code",
   "execution_count": null,
   "id": "8c5063e1",
   "metadata": {},
   "outputs": [],
   "source": [
    "f.write('Hello\\nWorld')\n",
    "f.close()  # close() 쓰지않으면 저장되지 않음"
   ]
  },
  {
   "cell_type": "code",
   "execution_count": null,
   "id": "58b902e3",
   "metadata": {},
   "outputs": [],
   "source": [
    "#close 조차 사용하지 않게 with 절 사용\n",
    "with open('data/ch09.txt', 'w') as f:\n",
    "    print('쓰기가능한지 여부 :', f.writable())\n",
    "    f.write('Hello\\nPython')"
   ]
  },
  {
   "cell_type": "code",
   "execution_count": null,
   "id": "1677dc26",
   "metadata": {},
   "outputs": [],
   "source": [
    "# mode \n",
    "    # 'r' or 'rt' : text읽기 모드\n",
    "    # 'rb' : 바이너리 읽기 모드\n",
    "    # 'w' or 'wt' : text쓰기 모드 (파일이 있으면 덮어쓰기, 없으면 생성 후 쓰기)\n",
    "    # 'wb' : 바이너리 쓰기 모드\n",
    "    # 'a' or 'at': text 추가(append) 모드 (파일이 있으면 추가, 없으면 생성 후 쓰기)\n",
    "    # 읽기모드에서는 '파일'이 없으면 예외/쓰기모드에서는 '폴더'가 없으면 예외\n",
    "# 한글을 쓸때는 encoding\n",
    "    # euc-kr (한글완성형) 믜x\n",
    "    # cp949 (확장된 한글완성형) : open() 함수 기본 encoding방식 (win)\n",
    "    # utf-8 (한글조합형) : open() 함수 기본 encoding방식 (mac, linux), 주피터노트북 기본\n",
    "with open('data/ch09.txt', 'w') as f:\n",
    "    print('쓰기가능한지 여부 :', f.writable())\n",
    "    f.write('Hello\\nPython')"
   ]
  },
  {
   "cell_type": "code",
   "execution_count": null,
   "id": "4eaa991f",
   "metadata": {},
   "outputs": [],
   "source": [
    "with open('data/ch09.txt', 'w', encoding='utf-8') as f:\n",
    "    # 1방법\n",
    "    f.write('홍길동, 33, 아무동9\\n')\n",
    "    f.write('김길동, 35, 무개동9\\n')\n",
    "\n",
    "    # 2방법\n",
    "    textlist = ['홍길동, 33, 아무동9\\n', '김길동, 35, 무개동9\\n']\n",
    "    for line in textlist:\n",
    "        f.write(line)\n",
    "\n",
    "    # 3방법\n",
    "    f.writelines(textlist)"
   ]
  },
  {
   "cell_type": "code",
   "execution_count": null,
   "id": "034eabef",
   "metadata": {},
   "outputs": [],
   "source": [
    "# 한줄씩 읽기 \n",
    "with open('data/ch09.txt', 'r', encoding='cp949') as f:\n",
    "    line = f.readline()\n",
    "    while line!='':\n",
    "        print(line, end='')\n",
    "        line = f.readline()"
   ]
  },
  {
   "cell_type": "code",
   "execution_count": null,
   "id": "5603ed35",
   "metadata": {},
   "outputs": [],
   "source": [
    "# 모든 줄을 읽기\n",
    "with open('data/ch09.txt', 'r') as f:\n",
    "    lines = f.readlines()\n",
    "    print(lines)"
   ]
  },
  {
   "cell_type": "code",
   "execution_count": null,
   "id": "7c95334e",
   "metadata": {},
   "outputs": [],
   "source": [
    "# 모두 읽기\n",
    "with open('data/ch09.txt', 'r') as f:\n",
    "    lines = f.read()\n",
    "    print(lines)"
   ]
  },
  {
   "cell_type": "markdown",
   "id": "80b15f3f",
   "metadata": {},
   "source": [
    "# 2절. 피클 파일 저장/불러오기\n",
    "- 객체 혹은 객체리스트로 저장. 즉 클래스를 사용\n",
    "\n",
    "## 2.1 형식이 있는 txt데이터 불러오기"
   ]
  },
  {
   "cell_type": "code",
   "execution_count": null,
   "id": "73c1b821",
   "metadata": {},
   "outputs": [],
   "source": [
    "with open('data/ch09_member.txt', 'r') as f:\n",
    "    line = f.readline()\n",
    "    print(line)"
   ]
  },
  {
   "cell_type": "code",
   "execution_count": null,
   "id": "179b98ca",
   "metadata": {},
   "outputs": [],
   "source": [
    "class Member:\n",
    "    def __init__(self, name, age, email, address):\n",
    "        self.name = name\n",
    "        self.age = age\n",
    "        self.email = email\n",
    "        self.address = address\n",
    "    def __str__(self):\n",
    "        return '{}, {}, {}, {}'.format(self.name,\n",
    "                                       '성년' if self.age >18 else '미성년',\n",
    "                                       self.email,\n",
    "                                       self.address)\n",
    "    def as_dict(self):\n",
    "        return {\n",
    "            'name':self.name,\n",
    "            'age':self.age,\n",
    "            'email':self.email,\n",
    "            'address':self.address\n",
    "                }    \n",
    "    ## 객체간 같은 내용이면 True 값을 내기위해 아래 내용으로 인스턴스 함수 추가\n",
    "    def __eq__(self, other):\n",
    "        return self.name == other.name and\\\n",
    "            self.age == other.age and \\\n",
    "            self.email==other.email and\\\n",
    "            self.address==other.address"
   ]
  },
  {
   "cell_type": "code",
   "execution_count": null,
   "id": "0c16737f",
   "metadata": {},
   "outputs": [],
   "source": [
    "user1 = Member('홍',20,'a@a.com','신림동')\n",
    "user2 = Member('홍',20,'a@a.com','신림동')\n",
    "print(user1==user2)    #  객체간 == 은 __eq__ 를 내부적으로 살펴본다.\n",
    "print(user1.__eq__(user2))   # 같은 내용이면 True로 하고 싶다"
   ]
  },
  {
   "cell_type": "code",
   "execution_count": null,
   "id": "46d87446",
   "metadata": {},
   "outputs": [],
   "source": [
    "# 파일을 읽어서 한줄씩 읽고\n",
    "# 형식이 있는 txt 파일 내용을 member list(피클 저장), 딕셔너리 list(데이터프레임) 저장\n",
    "user_list = []  # 객체 리스트로 구현\n",
    "user_dict = []  # 딕셔너리 리스트로 구현\n",
    "\n",
    "with open('data/ch09_member.txt', 'r', encoding='utf-8') as txt_file:\n",
    "    lines = txt_file.readlines()\n",
    "# print(lines)\n",
    "\n",
    "for line in lines:\n",
    "    data = line.split(',')\n",
    "    #print(data)\n",
    "    name = data[0]\n",
    "    age = int(data[1].strip()) # strip() : 좌우 공백(spac, \\t, \\n) 제거 \n",
    "    email = data[2].strip()\n",
    "    address = data[3].strip()\n",
    "    user = Member(name, age, email, address)\n",
    "    user_list.append(user)\n",
    "    user_dict.append(user.as_dict())\n",
    "    # user_dict.append(user.__dict__)\n",
    "              "
   ]
  },
  {
   "cell_type": "code",
   "execution_count": null,
   "id": "47a73e93",
   "metadata": {},
   "outputs": [],
   "source": [
    "print(user_list)"
   ]
  },
  {
   "cell_type": "code",
   "execution_count": null,
   "id": "60a2b061",
   "metadata": {},
   "outputs": [],
   "source": [
    "for user in user_list:\n",
    "    print(user)"
   ]
  },
  {
   "cell_type": "code",
   "execution_count": null,
   "id": "e1c06554",
   "metadata": {},
   "outputs": [],
   "source": [
    "for user in user_dict:\n",
    "    print(user)"
   ]
  },
  {
   "cell_type": "markdown",
   "id": "45b3abeb",
   "metadata": {},
   "source": [
    "## 2.2 피클링\n",
    "- 객체 리스트(user_list) -> 피클 파일로 쓰기\n",
    "- 피클 파일을 읽기 -> 객체 리스트(load_user_list)\n",
    "- 저장 : pickle.dump(객체명, 스트림명)\n",
    "- 로드 : 로드할객체명 = pickle.load(스트림명)"
   ]
  },
  {
   "cell_type": "code",
   "execution_count": null,
   "id": "89de93cd",
   "metadata": {},
   "outputs": [],
   "source": [
    "# 피클링을 이용한 객체를 저장하기, 바이너리 모드로 써야한다\n",
    "import pickle\n",
    "with open('data/ch09_member.data', 'wb') as f:\n",
    "    pickle.dump(user_list, f)"
   ]
  },
  {
   "cell_type": "code",
   "execution_count": null,
   "id": "7376256c",
   "metadata": {},
   "outputs": [],
   "source": [
    "# 피클링을 이용한 파일에서 객체 데이터로 읽기\n",
    "with open('data/ch09_member.data', 'rb') as f:\n",
    "    load_user_list = pickle.load(f)\n",
    "\n",
    "for data in load_user_list:\n",
    "    print(data)"
   ]
  },
  {
   "cell_type": "code",
   "execution_count": null,
   "id": "7112ed71",
   "metadata": {},
   "outputs": [],
   "source": [
    "load_user_list==user_list"
   ]
  },
  {
   "cell_type": "code",
   "execution_count": null,
   "id": "927532d5",
   "metadata": {},
   "outputs": [],
   "source": [
    "# 입력한 객체리스트와 로드한 객체리스트의 각 항목 값이 같은지 출력하고 확인하는 구문\n",
    "for idx, (user, load_user) in enumerate(zip(user_list, load_user_list)):\n",
    "    print(idx, user)\n",
    "    print(idx, load_user)\n",
    "    print(user==load_user)"
   ]
  },
  {
   "cell_type": "code",
   "execution_count": null,
   "id": "c14c00fc",
   "metadata": {},
   "outputs": [],
   "source": [
    "# 방대한 양을 일일이 확인할 수는 없다. \n",
    "\n",
    "result = []\n",
    "for user, load_user in zip(user_list, load_user_list):\n",
    "    result.append(user==load_user)\n",
    "print(len(set(result))==1)\n",
    "all(result)     # all() : 모두의 값이 같은지 체크하는 함수"
   ]
  },
  {
   "cell_type": "markdown",
   "id": "c821938e",
   "metadata": {},
   "source": [
    "# 3절. csv파일 읽기/쓰기\n",
    "- 헤더가 없는 경우 : 헤더를 만들어줘야한다\n",
    "- csv파일 <-> 리스트 데이터    3.1 읽기 / 3.2 쓰기\n",
    "- csv파일 <-> 딕셔너리 리스트   3.3 읽기 / 3.4 쓰기"
   ]
  },
  {
   "cell_type": "markdown",
   "id": "dc0f056f",
   "metadata": {},
   "source": [
    "## 3.1 reader - csv파일 리스트로 읽기 "
   ]
  },
  {
   "cell_type": "code",
   "execution_count": null,
   "id": "2dabe43f",
   "metadata": {},
   "outputs": [],
   "source": [
    "import csv\n",
    "with open('data/ch09_member1.csv', 'r', encoding='utf-8') as f:\n",
    "    reader = csv.reader(f)  \n",
    "    # csv.변수명(스트림명) : 한줄씩 읽어들여 리스트로 만드는 것을 반복하는 함수\n",
    "    result = list(reader)   # with절이 끝나면 날아가므로 결과를 저장할 필요가 있어서 result에 저장\n",
    "print(result)"
   ]
  },
  {
   "cell_type": "code",
   "execution_count": null,
   "id": "b51e1719",
   "metadata": {},
   "outputs": [],
   "source": [
    "# \"\"(따옴표)가 없는 데이터는 numeric으로 csv.QUOTE_NONNUMERIC <단 실수로 나옴\n",
    "import csv\n",
    "with open('data/ch09_member1.csv', 'r', encoding='utf-8') as f:\n",
    "    reader = csv.reader(f,\n",
    "                       quoting=csv.QUOTE_NONNUMERIC)  \n",
    "    result = list(reader)\n",
    "print(result)"
   ]
  },
  {
   "cell_type": "code",
   "execution_count": null,
   "id": "ba2a3a31",
   "metadata": {},
   "outputs": [],
   "source": [
    "# 이 리스트, 딕셔너리로 바꿔봅시다\n",
    "import csv\n",
    "with open('data/ch09_member1.csv', 'r', encoding='utf-8') as f:\n",
    "    reader = csv.reader(f,\n",
    "                       quoting=csv.QUOTE_NONNUMERIC)  \n",
    "    result = list(reader)\n",
    "dict_list = []\n",
    "for data in result:\n",
    "    dict_list.append({\n",
    "        'name':data[0],\n",
    "        'age':int(data[1]),\n",
    "        'email':data[2],\n",
    "        'address':data[3]\n",
    "    })\n",
    "# 길다. 하기 싫다. 간편하게 처리하는건 3.3에서 배울 예정.\n",
    "# 질문. 해당 데이터에 헤더가 있었다면, __dict__ 쓸수 있었던건가?\n",
    "\n",
    "print(dict_list)"
   ]
  },
  {
   "cell_type": "markdown",
   "id": "23af0e09",
   "metadata": {},
   "source": [
    "## 3.2 writer"
   ]
  },
  {
   "cell_type": "code",
   "execution_count": null,
   "id": "503fc431",
   "metadata": {},
   "outputs": [],
   "source": [
    "user_list = [['홍길동', 20, 'kildong@hong.com', '서울시 관악구'],\n",
    "            ['김길동', 40, 'kildong@kim.com', '서울시 강서']]"
   ]
  },
  {
   "cell_type": "code",
   "execution_count": null,
   "id": "f1f03c38",
   "metadata": {},
   "outputs": [],
   "source": [
    "with open('data/ch09_member1_write.csv', 'a', newline='', encoding='utf-8') as f:\n",
    "    writer = csv.writer(f)\n",
    "    writer.writerows(user_list)"
   ]
  },
  {
   "cell_type": "code",
   "execution_count": null,
   "id": "854834b7",
   "metadata": {},
   "outputs": [],
   "source": [
    "with open('data/ch09_member1_write.csv', 'w', newline='', encoding='utf-8') as f:\n",
    "    writer = csv.writer(f, quoting=csv.QUOTE_NONNUMERIC)  # \"\"있는 건 있는걸로 \"\"없는 건 없는걸로 write\n",
    "    writer.writerows(user_list)"
   ]
  },
  {
   "cell_type": "markdown",
   "id": "99501a40",
   "metadata": {},
   "source": [
    "## 3.3 DictReader\n",
    "- csv파일을 딕셔너리로 읽음"
   ]
  },
  {
   "cell_type": "code",
   "execution_count": null,
   "id": "c3c83109",
   "metadata": {},
   "outputs": [],
   "source": [
    "# 리스트는 csv.reader()를 썼지만 딕셔너리는 csv.DictReader() 클래스를 이용한다\n",
    "with open('data/ch09_member3.csv', 'r', encoding='utf8') as f:\n",
    "    dict_reader = csv.DictReader(f)\n",
    "    for row in dict_reader:\n",
    "        print(row)\n",
    "\n",
    "# job 결측치가 있음. 부재시 출력하지 않겠다면?\n",
    "with open('data/ch09_member3.csv', 'r', encoding='utf8') as f:\n",
    "    dict_reader = csv.DictReader(f)\n",
    "    dict_list = list(dict_reader)\n",
    "for row in dict_reader:\n",
    "    if row['job'] ==None:\n",
    "        print()\n"
   ]
  },
  {
   "cell_type": "code",
   "execution_count": null,
   "id": "61007bf1",
   "metadata": {},
   "outputs": [],
   "source": [
    "# header가 없는 csv파일(ch09_member1-cp.csv)을 딕셔너리로 읽기\n",
    "with open('data/ch09_member1-cp.csv', encoding='cp949') as f:\n",
    "    dict_reader = csv.DictReader(f, \n",
    "                                 fieldnames= ['Name', 'Age','Email','Address','Job']) # Job을 넣지 않으면 헤더 없이 \n",
    "    print(list(dict_reader), end='\\n')  \n",
    "    # 전체출력. 여기에서 dict_reader는 파일에서 불러오는 참조타겟이다. 전체 출력시 처음부터 다 돌고 나면 빈곳을 가르키게된다\n",
    "    for row in dict_reader:    # 위에서 참조가 끝났으므로 데이터를 가져오지 못한다.\n",
    "        print(row)"
   ]
  },
  {
   "cell_type": "code",
   "execution_count": null,
   "id": "6ce497e4",
   "metadata": {},
   "outputs": [],
   "source": [
    "# 위에도 설명했지만 csv.DictReader로 생성한 리스트를 dict_reader에 할당했지만, 이는 엄연히 임시적인 참조값이라, 날아간다\n",
    "# 따라서 새로운 변수를 생성해 결과값을 할당해주면 날아가지 않는다.\n",
    "with open('data/ch09_member1-cp.csv', encoding='cp949') as f:\n",
    "    dict_reader = csv.DictReader(f, \n",
    "                                 fieldnames= ['Name', 'Age','Email','Address','Job']) # Job을 넣지 않으면 헤더 없이 \n",
    "    result = list(dict_reader)  \n",
    "    print(result)\n",
    "    print()\n",
    "    for row in result:    \n",
    "        print(row)"
   ]
  },
  {
   "cell_type": "code",
   "execution_count": null,
   "id": "080938f5",
   "metadata": {},
   "outputs": [],
   "source": [
    "# header가 없는 csv파일(ch09_member1-cp.csv)을 딕셔너리로 읽기\n",
    "with open('data/ch09_member1-cp.csv', encoding='cp949') as f:\n",
    "    dict_reader = csv.DictReader(f, \n",
    "                                 fieldnames= ['Name', 'Age','Email','Address'], # Job을 넣지 않으면 헤더와 칼럼자리는 있으니 빈것으로 나옴\n",
    "                                 restkey='Job')  # restkey='Job'  로 넣으면\n",
    "    result = list(dict_reader)\n",
    "\n",
    "for row in result:    \n",
    "    print(row)"
   ]
  },
  {
   "cell_type": "code",
   "execution_count": null,
   "id": "fa7293a6",
   "metadata": {},
   "outputs": [],
   "source": [
    "\n",
    "for row in result:    \n",
    "    print(row)"
   ]
  },
  {
   "cell_type": "markdown",
   "id": "8f5329ac",
   "metadata": {},
   "source": [
    "## 3.4 DictWriter\n",
    "- 딕셔너리리스트 ->csv파일"
   ]
  },
  {
   "cell_type": "code",
   "execution_count": null,
   "id": "a3b81b70",
   "metadata": {},
   "outputs": [],
   "source": [
    "user1 = {'name': '홍길동', 'age': '20', 'email': 'h@h.com', 'address': '서울시 관악구'}\n",
    "user2 = {'name': '신길동', 'age': '40', 'email': 's@h.com', 'address': '서울시 영등포구'}\n",
    "user3 = {'name': '김길동', 'age': '30', 'email': 'k@h.com', 'address': '서울시 동작구'}\n",
    "user_list = [user1, user2, user3]\n",
    "field_names = list(user1.keys())\n",
    "field_names\n",
    "user_list"
   ]
  },
  {
   "cell_type": "code",
   "execution_count": null,
   "id": "c871f95f",
   "metadata": {},
   "outputs": [],
   "source": [
    "with open('data/ch09_member4.csv', 'w', newline=\"\", encoding='utf-8') as f: # newline= 은 기본이 행바꿈\n",
    "    dict_writer = csv.DictWriter(f,\n",
    "                                fieldnames=field_names)\n",
    "    dict_writer.writeheader()  # header 쓰기  / 위 fieldnames=field_names 에서 설정된 값을 넣는다.\n",
    "    dict_writer.writerows(user_list)"
   ]
  },
  {
   "cell_type": "markdown",
   "id": "cec4827f",
   "metadata": {},
   "source": [
    "## csv <-> 데이터프레임"
   ]
  },
  {
   "cell_type": "code",
   "execution_count": null,
   "id": "c11566ae",
   "metadata": {},
   "outputs": [],
   "source": [
    "import pandas as pd\n",
    "member = pd.read_csv('data/ch09_member3.csv')  # 기본이 encoding='utf-8'\n",
    "member"
   ]
  },
  {
   "cell_type": "code",
   "execution_count": null,
   "id": "a6b591b0",
   "metadata": {},
   "outputs": [],
   "source": [
    "type(member)"
   ]
  },
  {
   "cell_type": "markdown",
   "id": "bf700e99",
   "metadata": {},
   "source": [
    "# 4절. JSON 데이터 저장하고 불러오고(dump, load)\n",
    "- 딕셔너리 리스트 <-> JSON파일 (기본)\n",
    "- 객체리스트 <-> JSON파일\n",
    "## 4.1 dump(파일 출력)"
   ]
  },
  {
   "cell_type": "code",
   "execution_count": null,
   "id": "9e8d690f",
   "metadata": {},
   "outputs": [],
   "source": [
    "data = [{'name': '홍길동', 'age': 20, 'email': 'h@h.com', 'address': '서울시 관악구'},\n",
    "         {'name': '신길동', 'age': 40, 'email': 's@h.com', 'address': '서울시 영등포구'},\n",
    "         {'name': '김길동', 'age': 30, 'email': 'k@h.com', 'address': '서울시 동작구'}]"
   ]
  },
  {
   "cell_type": "code",
   "execution_count": null,
   "id": "08d54b70",
   "metadata": {},
   "outputs": [],
   "source": [
    "# ensure_ascii 매개변수\n",
    "    # True  : 비 ASCII 문자는 유니코드 형태로 저장\n",
    "    # False  : 비 ASCII 문자 원래 형태로 저장\n",
    "import json\n",
    "with open('data/ch09_member.json', 'w', encoding='utf-8') as jsonfile:\n",
    "    json.dump(data,  # 딕셔너리 리스트가 기본\n",
    "             jsonfile,  # 스트림 이름\n",
    "             ensure_ascii=False,   # 비 아스키 코드 형태 유지\n",
    "             indent='\\t'  # 들여쓰기를 '  ' 만큼 할거야, 각 항목에 대한 줄바꿈이 포함되어 있다.\n",
    "             )\n",
    "    "
   ]
  },
  {
   "cell_type": "code",
   "execution_count": null,
   "id": "99523ca3",
   "metadata": {},
   "outputs": [],
   "source": [
    "class Member:\n",
    "    def __init__(self, name, age, email, address):\n",
    "        self.name = name\n",
    "        self.age = age\n",
    "        self.email = email\n",
    "        self.address = address\n",
    "    def __str__(self):\n",
    "        return '{}, {}, {}, {}'.format(self.name,\n",
    "                                       self.age,\n",
    "                                       self.email,\n",
    "                                       self.address)\n",
    "    def as_dict(self):\n",
    "        return {\n",
    "            'name':self.name,\n",
    "            'age':self.age,\n",
    "            'email':self.email,\n",
    "            'address':self.address\n",
    "                }    \n",
    "    \n",
    "    def __eq__(self, other):\n",
    "        if isinstance(other, Member):\n",
    "            return self.__str__() == other.__str__()\n",
    "#            return self.__dict__() == other.__dict__()\n",
    "        else:\n",
    "            return False"
   ]
  },
  {
   "cell_type": "code",
   "execution_count": null,
   "id": "19e42310",
   "metadata": {},
   "outputs": [],
   "source": [
    "user1 = Member('홍길동', 22, 'a@a.com', '신림동')\n",
    "user2 = Member('홍길동', 22, 'a@a.com', '신림동')\n",
    "print(user1.__eq__('홍길동'))\n",
    "print(user1==user2)"
   ]
  },
  {
   "cell_type": "code",
   "execution_count": null,
   "id": "3a08bc88",
   "metadata": {},
   "outputs": [],
   "source": [
    "user_list = []\n",
    "user_list.append(user1)\n",
    "for row in user_list:\n",
    "    print(row)"
   ]
  },
  {
   "cell_type": "code",
   "execution_count": null,
   "id": "44aef714",
   "metadata": {},
   "outputs": [],
   "source": [
    "for row in user1:\n",
    "    print(row)"
   ]
  },
  {
   "cell_type": "code",
   "execution_count": null,
   "id": "8acbef54",
   "metadata": {},
   "outputs": [],
   "source": [
    "member_list = [Member('홍길동', 22, 'a@a.com', '신림동'),\n",
    "               Member('김길동', 22, 'a@a.com', '신림동'),\n",
    "               Member('신길동', 22, 'a@a.com', '신림동')]\n"
   ]
  },
  {
   "cell_type": "code",
   "execution_count": null,
   "id": "9d3477dc",
   "metadata": {},
   "outputs": [],
   "source": [
    "import json\n",
    "with open('data/ch09_member1.json', 'w', encoding='utf-8') as jsonfile:\n",
    "    json.dump(member_list,\n",
    "             jsonfile,\n",
    "             ensure_ascii=False,\n",
    "             indent='\\t',\n",
    "             default=Member.as_dict #객체를 딕셔너리로 변경하는 함수가 필요\n",
    "             )"
   ]
  },
  {
   "cell_type": "markdown",
   "id": "1bea9ba7",
   "metadata": {},
   "source": [
    "## 4.2 load(파일입력)\n",
    "- json파일 -> 딕셔너리 리스트 (기본)\n",
    "- json파일 -> 객체리스트"
   ]
  },
  {
   "cell_type": "code",
   "execution_count": null,
   "id": "9234fa49",
   "metadata": {},
   "outputs": [],
   "source": [
    "def as_member(dic):\n",
    "    '매개변수로 딕셔너리를 받아 Member 객체를 return'\n",
    "    return Member(dic.get('name'), dic.get('age'), dic.get('email'), dic.get('address'))"
   ]
  },
  {
   "cell_type": "code",
   "execution_count": null,
   "id": "c3aba970",
   "metadata": {},
   "outputs": [],
   "source": [
    "member = as_member({'name': '홍길동', 'age': 20, 'email': 'h@h.com', 'address': '서울시 관악구'})\n",
    "print(member)"
   ]
  },
  {
   "cell_type": "code",
   "execution_count": null,
   "id": "d3222684",
   "metadata": {},
   "outputs": [],
   "source": [
    "print(as_member)"
   ]
  },
  {
   "cell_type": "code",
   "execution_count": null,
   "id": "781aa993",
   "metadata": {},
   "outputs": [],
   "source": [
    "# 딕녀서너리로 로드\n",
    "with open('data/ch09_member1.json', 'r', encoding='utf-8') as js:\n",
    "    load_data = json.load(js)\n",
    "load_data"
   ]
  },
  {
   "cell_type": "code",
   "execution_count": null,
   "id": "87b355f1",
   "metadata": {},
   "outputs": [],
   "source": [
    "# json 파일을 딕셔너리로 불러서 객체로 변환하여 로드\n",
    "with open('data/ch09_member1.json', 'r', encoding='utf-8') as js:\n",
    "    load_data = json.load(js,\n",
    "                         object_hook=as_member) # object_hook= 딕셔너리를 받아 Member객체로 리턴\n",
    "    for data in load_data:\n",
    "        print(data)"
   ]
  },
  {
   "cell_type": "markdown",
   "id": "7d98e200",
   "metadata": {},
   "source": [
    "### Json -> 데이터프레임"
   ]
  },
  {
   "cell_type": "code",
   "execution_count": null,
   "id": "ee5d7eaf",
   "metadata": {},
   "outputs": [],
   "source": [
    "import pandas as pd\n",
    "pd.read_json('data/ch09_member1.json')\n",
    "# pd.함수() : encoding='utf-8' 이 기본값"
   ]
  },
  {
   "cell_type": "code",
   "execution_count": null,
   "id": "809d90b6",
   "metadata": {},
   "outputs": [],
   "source": [
    "pd.read_json('data/한국토지주택공사_남양주왕숙2 토지이용계획도_20210924.json')"
   ]
  },
  {
   "cell_type": "markdown",
   "id": "5a10be79",
   "metadata": {},
   "source": [
    "# 5절. HDF5 파일 읽기/쓰기\n",
    "- h5py 사용\n",
    "## 5.1 hdf5 파일 쓰기\n",
    "- 딕셔너리 리스트를 hdf5파일에 쓰기\n",
    "- 데이터프레임을 hdf5파일에 쓰기"
   ]
  },
  {
   "cell_type": "code",
   "execution_count": 2,
   "id": "994ef368",
   "metadata": {},
   "outputs": [
    {
     "data": {
      "text/html": [
       "<div>\n",
       "<style scoped>\n",
       "    .dataframe tbody tr th:only-of-type {\n",
       "        vertical-align: middle;\n",
       "    }\n",
       "\n",
       "    .dataframe tbody tr th {\n",
       "        vertical-align: top;\n",
       "    }\n",
       "\n",
       "    .dataframe thead th {\n",
       "        text-align: right;\n",
       "    }\n",
       "</style>\n",
       "<table border=\"1\" class=\"dataframe\">\n",
       "  <thead>\n",
       "    <tr style=\"text-align: right;\">\n",
       "      <th></th>\n",
       "      <th>sepal_length</th>\n",
       "      <th>sepal_width</th>\n",
       "      <th>petal_length</th>\n",
       "      <th>petal_width</th>\n",
       "      <th>species</th>\n",
       "    </tr>\n",
       "  </thead>\n",
       "  <tbody>\n",
       "    <tr>\n",
       "      <th>0</th>\n",
       "      <td>5.1</td>\n",
       "      <td>3.5</td>\n",
       "      <td>1.4</td>\n",
       "      <td>0.2</td>\n",
       "      <td>setosa</td>\n",
       "    </tr>\n",
       "    <tr>\n",
       "      <th>50</th>\n",
       "      <td>7.0</td>\n",
       "      <td>3.2</td>\n",
       "      <td>4.7</td>\n",
       "      <td>1.4</td>\n",
       "      <td>versicolor</td>\n",
       "    </tr>\n",
       "    <tr>\n",
       "      <th>100</th>\n",
       "      <td>6.3</td>\n",
       "      <td>3.3</td>\n",
       "      <td>6.0</td>\n",
       "      <td>2.5</td>\n",
       "      <td>virginica</td>\n",
       "    </tr>\n",
       "  </tbody>\n",
       "</table>\n",
       "</div>"
      ],
      "text/plain": [
       "     sepal_length  sepal_width  petal_length  petal_width     species\n",
       "0             5.1          3.5           1.4          0.2      setosa\n",
       "50            7.0          3.2           4.7          1.4  versicolor\n",
       "100           6.3          3.3           6.0          2.5   virginica"
      ]
     },
     "metadata": {},
     "output_type": "display_data"
    }
   ],
   "source": [
    "# seaborn 패키지 : 시각화 패키지. 학습을 위한 데이터셋 다수\n",
    "import seaborn as sns    # sns로 거의 공식화되어있다\n",
    "iris_df = sns.load_dataset(\"iris\") # 정말 많이 쓰는 함수\n",
    "display(iris_df[::50])    # 데이터프레임은 display 해야함"
   ]
  },
  {
   "cell_type": "code",
   "execution_count": 4,
   "id": "567d54ed",
   "metadata": {},
   "outputs": [],
   "source": [
    "# hdf5 파일로 저장하기 : 데이터셋.to_hdf(저장할경로, key='데이터셋')\n",
    "iris_df.to_hdf('data/ch09_iris.hdf5', key='iris')"
   ]
  },
  {
   "cell_type": "markdown",
   "id": "5fd3fb47",
   "metadata": {},
   "source": [
    "## 5.2 hdf5 파일 읽기\n",
    "- hdf5파일을 딕셔너리 리스트로 읽기\n",
    "- hdf5파일을 데이터프레임으로 읽기"
   ]
  },
  {
   "cell_type": "code",
   "execution_count": 5,
   "id": "c39c8122",
   "metadata": {},
   "outputs": [
    {
     "data": {
      "text/html": [
       "<div>\n",
       "<style scoped>\n",
       "    .dataframe tbody tr th:only-of-type {\n",
       "        vertical-align: middle;\n",
       "    }\n",
       "\n",
       "    .dataframe tbody tr th {\n",
       "        vertical-align: top;\n",
       "    }\n",
       "\n",
       "    .dataframe thead th {\n",
       "        text-align: right;\n",
       "    }\n",
       "</style>\n",
       "<table border=\"1\" class=\"dataframe\">\n",
       "  <thead>\n",
       "    <tr style=\"text-align: right;\">\n",
       "      <th></th>\n",
       "      <th>sepal_length</th>\n",
       "      <th>sepal_width</th>\n",
       "      <th>petal_length</th>\n",
       "      <th>petal_width</th>\n",
       "      <th>species</th>\n",
       "    </tr>\n",
       "  </thead>\n",
       "  <tbody>\n",
       "    <tr>\n",
       "      <th>0</th>\n",
       "      <td>5.1</td>\n",
       "      <td>3.5</td>\n",
       "      <td>1.4</td>\n",
       "      <td>0.2</td>\n",
       "      <td>setosa</td>\n",
       "    </tr>\n",
       "    <tr>\n",
       "      <th>1</th>\n",
       "      <td>4.9</td>\n",
       "      <td>3.0</td>\n",
       "      <td>1.4</td>\n",
       "      <td>0.2</td>\n",
       "      <td>setosa</td>\n",
       "    </tr>\n",
       "    <tr>\n",
       "      <th>2</th>\n",
       "      <td>4.7</td>\n",
       "      <td>3.2</td>\n",
       "      <td>1.3</td>\n",
       "      <td>0.2</td>\n",
       "      <td>setosa</td>\n",
       "    </tr>\n",
       "    <tr>\n",
       "      <th>3</th>\n",
       "      <td>4.6</td>\n",
       "      <td>3.1</td>\n",
       "      <td>1.5</td>\n",
       "      <td>0.2</td>\n",
       "      <td>setosa</td>\n",
       "    </tr>\n",
       "    <tr>\n",
       "      <th>4</th>\n",
       "      <td>5.0</td>\n",
       "      <td>3.6</td>\n",
       "      <td>1.4</td>\n",
       "      <td>0.2</td>\n",
       "      <td>setosa</td>\n",
       "    </tr>\n",
       "    <tr>\n",
       "      <th>...</th>\n",
       "      <td>...</td>\n",
       "      <td>...</td>\n",
       "      <td>...</td>\n",
       "      <td>...</td>\n",
       "      <td>...</td>\n",
       "    </tr>\n",
       "    <tr>\n",
       "      <th>145</th>\n",
       "      <td>6.7</td>\n",
       "      <td>3.0</td>\n",
       "      <td>5.2</td>\n",
       "      <td>2.3</td>\n",
       "      <td>virginica</td>\n",
       "    </tr>\n",
       "    <tr>\n",
       "      <th>146</th>\n",
       "      <td>6.3</td>\n",
       "      <td>2.5</td>\n",
       "      <td>5.0</td>\n",
       "      <td>1.9</td>\n",
       "      <td>virginica</td>\n",
       "    </tr>\n",
       "    <tr>\n",
       "      <th>147</th>\n",
       "      <td>6.5</td>\n",
       "      <td>3.0</td>\n",
       "      <td>5.2</td>\n",
       "      <td>2.0</td>\n",
       "      <td>virginica</td>\n",
       "    </tr>\n",
       "    <tr>\n",
       "      <th>148</th>\n",
       "      <td>6.2</td>\n",
       "      <td>3.4</td>\n",
       "      <td>5.4</td>\n",
       "      <td>2.3</td>\n",
       "      <td>virginica</td>\n",
       "    </tr>\n",
       "    <tr>\n",
       "      <th>149</th>\n",
       "      <td>5.9</td>\n",
       "      <td>3.0</td>\n",
       "      <td>5.1</td>\n",
       "      <td>1.8</td>\n",
       "      <td>virginica</td>\n",
       "    </tr>\n",
       "  </tbody>\n",
       "</table>\n",
       "<p>150 rows × 5 columns</p>\n",
       "</div>"
      ],
      "text/plain": [
       "     sepal_length  sepal_width  petal_length  petal_width    species\n",
       "0             5.1          3.5           1.4          0.2     setosa\n",
       "1             4.9          3.0           1.4          0.2     setosa\n",
       "2             4.7          3.2           1.3          0.2     setosa\n",
       "3             4.6          3.1           1.5          0.2     setosa\n",
       "4             5.0          3.6           1.4          0.2     setosa\n",
       "..            ...          ...           ...          ...        ...\n",
       "145           6.7          3.0           5.2          2.3  virginica\n",
       "146           6.3          2.5           5.0          1.9  virginica\n",
       "147           6.5          3.0           5.2          2.0  virginica\n",
       "148           6.2          3.4           5.4          2.3  virginica\n",
       "149           5.9          3.0           5.1          1.8  virginica\n",
       "\n",
       "[150 rows x 5 columns]"
      ]
     },
     "execution_count": 5,
     "metadata": {},
     "output_type": "execute_result"
    }
   ],
   "source": [
    "# 데이터프레임으로 읽기\n",
    "import pandas as pd\n",
    "load_iris_df = pd.read_hdf('data/ch09_iris.hdf5',key='iris')\n",
    "load_iris_df"
   ]
  },
  {
   "cell_type": "code",
   "execution_count": null,
   "id": "5ee3e0a0",
   "metadata": {},
   "outputs": [],
   "source": [
    "# 작성한 파일의 내용과 로드한 내용이 일치하는지 확인\n",
    "iris_df == load_iris_df # 두 데이터 프레임 변수의 '각' 행열 값의 일치하는지를 반환\n",
    "all(iris_df == load_iris_df)  # 두 데이터 프레임 변수의 '모든' 행열 값이 같은지를 반환"
   ]
  },
  {
   "cell_type": "code",
   "execution_count": null,
   "id": "406134ec",
   "metadata": {},
   "outputs": [],
   "source": [
    "#데이터프레임 변수를 딕셔너리 리스트로 변환 - ㅇㅇ.to_dict()\n",
    "iris_dic= iris_df.to_dict() \n",
    "type(iris_dic)"
   ]
  },
  {
   "cell_type": "code",
   "execution_count": null,
   "id": "182cad28",
   "metadata": {},
   "outputs": [],
   "source": [
    "iris_dic.keys()  # 딕셔너리의 열 이름, 혹은 컬럼 네임"
   ]
  },
  {
   "cell_type": "code",
   "execution_count": null,
   "id": "8a5d435c",
   "metadata": {},
   "outputs": [],
   "source": [
    "# \n",
    "\n",
    "for group, value in iris_dic.items():\n",
    "    print('그룹명 :', group)\n",
    "    for key, data, in value.items():\n",
    "        print('{}:{}'.format(str(key), data), end='\\t')\n",
    "    print()"
   ]
  },
  {
   "cell_type": "code",
   "execution_count": null,
   "id": "3f711ee7",
   "metadata": {},
   "outputs": [],
   "source": [
    "# 딕셔너리 리스트를 hdf파일로 쓰기\n",
    "import h5py\n",
    "with h5py.File('data/ch09_iris_dic.hdf5', 'w') as f:\n",
    "    for group, value in iris_dic.items():\n",
    "        grp = f.create_group(group)\n",
    "        for key, data, in value.items():\n",
    "            grp.create_dataset(str(key), data=data)"
   ]
  },
  {
   "cell_type": "code",
   "execution_count": null,
   "id": "1da077d8",
   "metadata": {},
   "outputs": [],
   "source": [
    "with h5py.File('data/ch09_iris_dic.hdf5', 'r') as f:\n",
    "    for group, value in f.items():\n",
    "        print('그룹 :', group)\n",
    "        for key, data in value.items():\n",
    "            print(f'{key}:{data[()]}', end='\\t')\n",
    "            # data[()] : h5 DataSet타입을 가져올때 "
   ]
  },
  {
   "cell_type": "code",
   "execution_count": null,
   "id": "d927dcc8",
   "metadata": {},
   "outputs": [],
   "source": [
    "p={}\n",
    "p['name'] = '홍'\n",
    "p.update({'name':'홍'})\n",
    "print(p)"
   ]
  },
  {
   "cell_type": "code",
   "execution_count": null,
   "id": "1f403334",
   "metadata": {},
   "outputs": [],
   "source": [
    "load_iris_dic = {}\n",
    "load_iris_dic['s_l'] = {0:5.4, 1:4}\n",
    "load_iris_dic['s_w'] = {0:5.4, 1:4}\n",
    "load_iris_dic"
   ]
  },
  {
   "cell_type": "code",
   "execution_count": null,
   "id": "2684ae5c",
   "metadata": {},
   "outputs": [],
   "source": [
    "with h5py.File('data/ch09_iris_dic.hdf5', 'r') as f:\n",
    "    for group, value in f.items():\n",
    "        temp={}\n",
    "        for key, data in value.items():\n",
    "            temp[int(key)] = data[()]\n",
    "        load_iris_dic[group] = temp   \n",
    "            "
   ]
  },
  {
   "cell_type": "code",
   "execution_count": null,
   "id": "97c114da",
   "metadata": {},
   "outputs": [],
   "source": [
    "load_iris_dic"
   ]
  },
  {
   "cell_type": "code",
   "execution_count": null,
   "id": "23eed0cb",
   "metadata": {},
   "outputs": [],
   "source": []
  },
  {
   "cell_type": "code",
   "execution_count": null,
   "id": "b45afa96",
   "metadata": {},
   "outputs": [],
   "source": []
  },
  {
   "cell_type": "code",
   "execution_count": null,
   "id": "281bd1b0",
   "metadata": {},
   "outputs": [],
   "source": []
  },
  {
   "cell_type": "code",
   "execution_count": null,
   "id": "26a1764a",
   "metadata": {},
   "outputs": [],
   "source": []
  },
  {
   "cell_type": "code",
   "execution_count": null,
   "id": "6e267722",
   "metadata": {},
   "outputs": [],
   "source": []
  },
  {
   "cell_type": "markdown",
   "id": "98693c13",
   "metadata": {},
   "source": [
    "# 6절. 연습문제\n",
    "\n",
    "## 실습형"
   ]
  },
  {
   "cell_type": "markdown",
   "id": "ff901a32",
   "metadata": {},
   "source": [
    "### 클래스 만들기"
   ]
  },
  {
   "cell_type": "code",
   "execution_count": 1,
   "id": "67218da1",
   "metadata": {},
   "outputs": [],
   "source": [
    "class Customer:\n",
    "    ' 고객데이터와 as_dic(), to_list_style(txt백업시), __str__()'\n",
    "    def __init__(self, name, phone, email, age, grade, etc):\n",
    "        self.name = name\n",
    "        self.phone = phone\n",
    "        self.email = email\n",
    "        self.age = age\n",
    "        self.grade = grade\n",
    "        self.etc = etc\n",
    "        \n",
    "    def as_dict(self): #객체를 딕셔너리데이터로 반환 (csv 파일 저장시)\n",
    "        return {\n",
    "            'name':self.name,\n",
    "            'phone':self.phone,\n",
    "            'email':self.email,\n",
    "            'age':self.age,\n",
    "            'grade':self.grade,\n",
    "            'etc':self.etc\n",
    "        }\n",
    "    \n",
    "    def to_list_style(self): #객체를 list return([ 홍길동 010 8999 9999, e@e.com, 20, 3, 까칠해]_\n",
    "        temp = [\n",
    "            self.name,\n",
    "            self.phone,\n",
    "            self.email,\n",
    "            str(self.age),\n",
    "            str(self.grade),\n",
    "            self.etc\n",
    "        ]\n",
    "        return ','.join(temp)\n",
    "            \n",
    "    def __str__(self): # ***홍길동 010 8999 9999 e@e.com 20 까칠해\n",
    "                return \"{:>5}\\t{:^4}\\t{:13}\\t{:16}\\t{:3}\\t{:5}\".format('*'*self.grade,\n",
    "                                                                        self.name,\n",
    "                                                                        self.phone,\n",
    "                                                                        self.email,\n",
    "                                                                        self.age,\n",
    "                                                                        self.etc\n",
    "                                                                         )"
   ]
  },
  {
   "cell_type": "code",
   "execution_count": 2,
   "id": "6fad6991",
   "metadata": {},
   "outputs": [],
   "source": [
    "# txt 파일내용 한 줄을 row 매개변수로 받아 Customer 객체로 return\n",
    "def to_customer(row):\n",
    "    '''\n",
    "    row = \"홍길동 , 010 8999 9999, e@e.com, 20, 3, 까칠해\"(txt파일 내용)을 매개변수로 받아 Customer 객체로 return\n",
    "    '''\n",
    "    data = row.split(',')\n",
    "    name = data[0].strip()\n",
    "    phone = data[1].strip()\n",
    "    email = data[2].strip()\n",
    "    age = int(data[3].strip())\n",
    "    grade = int(data[4].strip())\n",
    "    etc = data[5].strip()\n",
    "    return Customer(name, phone, email, age, grade, etc)"
   ]
  },
  {
   "cell_type": "markdown",
   "id": "2cd7037b",
   "metadata": {},
   "source": [
    "### 0. 로드"
   ]
  },
  {
   "cell_type": "code",
   "execution_count": 3,
   "id": "938a5818",
   "metadata": {},
   "outputs": [],
   "source": [
    "# 0.실행하면 data/ch09_customers.txt 파일의 내용을 load(customer_list)\n",
    "# data/ch09_customers.txt 이 존재하지 않으면\n",
    "#빈 data/ch09_customers.txt 파일을 생성하고\n",
    "#데이터는 customer_list=[]\n",
    "\n",
    "def load_customers():\n",
    "    customer_list=[]\n",
    "    try:\n",
    "        with open('data/ch09_customs.txt', 'r', encoding='utf-8') as f:\n",
    "            lines = f.readlines()\n",
    "            for line in lines:\n",
    "                customer = to_customer(line)\n",
    "                customer_list.append(customer)\n",
    "        print('데이터가 로드 되었습니다.')\n",
    "    except:\n",
    "        with open('data/ch09_customs.txt', 'w', encoding='utf-8') as f:\n",
    "            f.writelines(customer_list)\n",
    "            print('고객 리스트 파일이 없어, 새로운 파일을 생성합니다')\n",
    "    return customer_list "
   ]
  },
  {
   "cell_type": "code",
   "execution_count": 4,
   "id": "6d90f2ff",
   "metadata": {},
   "outputs": [
    {
     "name": "stdout",
     "output_type": "stream",
     "text": [
      "데이터가 로드 되었습니다.\n",
      " ****\t홍길동 \t010-9999-9999\thong@mega_it.com\t 20\t까칠해  \n",
      "  ***\t고길동 \t010-2929-5959\tgo@naver.com    \t 44\t둘리이슈 \n",
      "    *\t 둘리 \t010-2222-2222\t2222@2222.com   \t100000\t블랙리스트\n"
     ]
    }
   ],
   "source": [
    "# 0. 로딩 테스트\n",
    "customer_list = load_customers()\n",
    "for row in customer_list:\n",
    "    print(row)"
   ]
  },
  {
   "cell_type": "code",
   "execution_count": 5,
   "id": "60703128",
   "metadata": {},
   "outputs": [
    {
     "name": "stdout",
     "output_type": "stream",
     "text": [
      " ****\t홍길동 \t010-9999-9999\thong@mega_it.com\t 20\t까칠해  \n",
      "  ***\t고길동 \t010-2929-5959\tgo@naver.com    \t 44\t둘리이슈 \n",
      "    *\t 둘리 \t010-2222-2222\t2222@2222.com   \t100000\t블랙리스트\n"
     ]
    }
   ],
   "source": [
    "for customer in customer_list:\n",
    "    print(customer)"
   ]
  },
  {
   "cell_type": "markdown",
   "id": "2ef80961",
   "metadata": {},
   "source": [
    "### 1. 입력"
   ]
  },
  {
   "cell_type": "code",
   "execution_count": 6,
   "id": "368006e1",
   "metadata": {},
   "outputs": [],
   "source": [
    "# 1.입력\n",
    "def fn1_insert_customer_info():\n",
    "    '''\n",
    "    사용자로 부터 이름, 번호, 메일, 나이, 등급, etc를 입력받아 Customer형 객체 반환\n",
    "    '''\n",
    "    name = input('이름 : ')\n",
    "    phone = input('전화번호 : ')\n",
    "    email = input('이메일 : ')\n",
    "    while True:\n",
    "        try:\n",
    "            age = int(input('나이 : '))\n",
    "            break\n",
    "#            return age     함수가 끝나버린다\n",
    "        except:\n",
    "            print('나이를 잘못 입력하셨습니다. 정수를 입력하세요')\n",
    "    while True:\n",
    "        try:\n",
    "            grade = int(input('고객등급(1~5) : '))\n",
    "            if 1<=grade<=5:\n",
    "                break\n",
    "#                return grade   함수가 끝나버린다\n",
    "        except:\n",
    "            print('고객등급을 잘못 입력하셨습니다. 1~5 사이의 수를 입력하세요')\n",
    "    etc = input('기타정보 : ')\n",
    "    new_data=Customer(name, phone, email, age, grade, etc)\n",
    "    return new_data"
   ]
  },
  {
   "cell_type": "code",
   "execution_count": 116,
   "id": "21bf37ed",
   "metadata": {},
   "outputs": [
    {
     "name": "stdout",
     "output_type": "stream",
     "text": [
      "이름 : 박진성\n",
      "전화번호 : 010-2222-1112\n",
      "이메일 : sdf@vasd.com\n",
      "나이 : 37\n",
      "고객등급(1~5) : 5\n",
      "기타정보 : 신규\n"
     ]
    }
   ],
   "source": [
    "# 1. 입력 테스트\n",
    "c1 = fn1_insert_customer_info()"
   ]
  },
  {
   "cell_type": "code",
   "execution_count": 7,
   "id": "8dbc80a0",
   "metadata": {},
   "outputs": [
    {
     "ename": "NameError",
     "evalue": "name 'c1' is not defined",
     "output_type": "error",
     "traceback": [
      "\u001b[1;31m---------------------------------------------------------------------------\u001b[0m",
      "\u001b[1;31mNameError\u001b[0m                                 Traceback (most recent call last)",
      "Cell \u001b[1;32mIn[7], line 2\u001b[0m\n\u001b[0;32m      1\u001b[0m \u001b[38;5;66;03m# 1. 입력 테스트 - 결과값\u001b[39;00m\n\u001b[1;32m----> 2\u001b[0m customer_list\u001b[38;5;241m.\u001b[39mappend(\u001b[43mc1\u001b[49m)\n",
      "\u001b[1;31mNameError\u001b[0m: name 'c1' is not defined"
     ]
    }
   ],
   "source": [
    "# 1. 입력 테스트 - 결과값\n",
    "customer_list.append(c1)\n"
   ]
  },
  {
   "cell_type": "markdown",
   "id": "e4808edb",
   "metadata": {},
   "source": [
    "### 2. 전체 출력"
   ]
  },
  {
   "cell_type": "code",
   "execution_count": 8,
   "id": "9262d75a",
   "metadata": {},
   "outputs": [],
   "source": [
    "# 2.전체 출력\n",
    "def fn2_print_customers(customer_list):\n",
    "#     with open('data/ch09_customs.txt', 'r', encoding='utf-8') as f:\n",
    "#         lines = f.readlines()\n",
    "        print('='*80)\n",
    "        print('\\t\\t고객  정보')\n",
    "        print('-'*80)\n",
    "#        print('Grade\\t','이름\\t', '전화\\t\\t', '메일\\t\\t\\t', '나이\\t', '기타')\n",
    "        print(\"{:>5}\\t{:^4}\\t{:13}\\t{:16}\\t{:3}\\t{:5}\".format('Grade', '이름', '전화', '메일', '나이','기타'))\n",
    "        print('='*80)\n",
    "        for customer in customer_list:\n",
    "            print(customer)\n",
    "        print('='*80)\n"
   ]
  },
  {
   "cell_type": "code",
   "execution_count": 9,
   "id": "39b537ee",
   "metadata": {},
   "outputs": [
    {
     "name": "stdout",
     "output_type": "stream",
     "text": [
      "================================================================================\n",
      "\t\t고객  정보\n",
      "--------------------------------------------------------------------------------\n",
      "Grade\t 이름 \t전화           \t메일              \t나이 \t기타   \n",
      "================================================================================\n",
      " ****\t홍길동 \t010-9999-9999\thong@mega_it.com\t 20\t까칠해  \n",
      "  ***\t고길동 \t010-2929-5959\tgo@naver.com    \t 44\t둘리이슈 \n",
      "    *\t 둘리 \t010-2222-2222\t2222@2222.com   \t100000\t블랙리스트\n",
      "================================================================================\n"
     ]
    }
   ],
   "source": [
    "# 2. 전체조회 테스트\n",
    "fn2_print_customers(customer_list)"
   ]
  },
  {
   "cell_type": "markdown",
   "id": "68a4e1ac",
   "metadata": {},
   "source": [
    "### 3. 삭제"
   ]
  },
  {
   "cell_type": "code",
   "execution_count": 186,
   "id": "d1edacd8",
   "metadata": {},
   "outputs": [],
   "source": [
    "# 3.삭제 동명이인이 있다고 할지 동명이인이 없다고 할지 미리 정해놓고 구현\n",
    "# 동명이인 없는 버전\n",
    "def fn3_delete_customer(customer_list):\n",
    "    delete_name = input('삭제할 고객 이름은? ')\n",
    "    for customer in customer_list:        \n",
    "        if customer.name == delete_name:\n",
    "            customer_list.remove(customer)\n",
    "            print(f'{delete_name} 고객님 데이터를 삭제했습니다.')\n",
    "            break\n",
    "    else:\n",
    "        print(f'{delete_name} 고객님을 찾지 못했습니다.')\n",
    "        \n",
    "#    return modified_customer_list\n",
    "#     with open('data/ch09_customs.txt', 'w', encoding='utf-8') as f:\n",
    "#         f.writelines(modified_customer_list)\n",
    "        \n",
    "    "
   ]
  },
  {
   "cell_type": "code",
   "execution_count": 187,
   "id": "6680b2ca",
   "metadata": {},
   "outputs": [
    {
     "name": "stdout",
     "output_type": "stream",
     "text": [
      "삭제할 고객 이름은? 박진성\n",
      "박진성 고객님 데이터를 삭제했습니다.\n"
     ]
    }
   ],
   "source": [
    "# 3. 테스트\n",
    "fn3_delete_customer(customer_list)"
   ]
  },
  {
   "cell_type": "code",
   "execution_count": 194,
   "id": "3f1b0ed6",
   "metadata": {},
   "outputs": [],
   "source": [
    "# 동명이인이 있으며, 몇번째를 삭제할 것인지\n",
    "\n",
    "def fn3_delete_customer_same(customer_list):\n",
    "    delete_name = input('삭제할 고객 이름은? ')\n",
    "    delelte_idx = []\n",
    "    for idx, customer in enumerate(customer_list):        \n",
    "        if customer.name == delete_name:\n",
    "            delelte_idx.append(idx)\n",
    "    if delelte_idx:\n",
    "        for idx in delelte_idx[::-1]:  #마지막꺼부터 지워야 인덱스에 변화가 없다\n",
    "            del customer_list[idx]\n",
    "#            customer_list.pop(delelte_idx[::-1])\n",
    "    print(f'{delete_name}님 {len(delelte_idx)}명 삭제했습니다.')\n"
   ]
  },
  {
   "cell_type": "code",
   "execution_count": 192,
   "id": "11453cba",
   "metadata": {},
   "outputs": [
    {
     "name": "stdout",
     "output_type": "stream",
     "text": [
      "데이터가 로드 되었습니다.\n",
      "삭제할 고객 이름은? 박진성\n",
      "박진성님 0명 삭제했습니다.\n"
     ]
    }
   ],
   "source": [
    "# 3번 기능테스트 - 동명이인 있는 버전\n",
    "customer_list = load_customers()\n",
    "fn3_delete_customer_same(customer_list)"
   ]
  },
  {
   "cell_type": "code",
   "execution_count": 184,
   "id": "2044cf8d",
   "metadata": {},
   "outputs": [
    {
     "name": "stdout",
     "output_type": "stream",
     "text": [
      "\n",
      " ****\t홍길동 \t010-9999-9999\thong@mega_it.com\t 20\t까칠해  \n",
      "  ***\t고길동 \t010-2929-5959\tgo@naver.com    \t 44\t둘리이슈 \n",
      "    *\t 둘리 \t010-2222-2222\t2222@2222.com   \t100000\t블랙리스트\n"
     ]
    }
   ],
   "source": [
    "#customer_list = load_customers()\n",
    "# print(modified_customer_list[0])\n",
    "print()\n",
    "#fn3_delete_customer(modified_customer_list[0])\n",
    "for row in customer_list:\n",
    "    print(row)\n"
   ]
  },
  {
   "cell_type": "markdown",
   "id": "6c333bc5",
   "metadata": {},
   "source": [
    "### 4. 이름찾기"
   ]
  },
  {
   "cell_type": "code",
   "execution_count": 10,
   "id": "3a8efad3",
   "metadata": {},
   "outputs": [],
   "source": [
    "# 4.이름찾기 동명이인이 있다고 할지 없다고 할지 정한대로 구현\n",
    "def fn4_search_customer(customer_list):\n",
    "    search_name = input('찾을 고객 이름은? ')\n",
    "    for customer in customer_list:\n",
    "        if search_name == customer.name:\n",
    "            print('='*80)\n",
    "            print('\\t\\t고객  정보')\n",
    "            print('-'*80)\n",
    "            print(\"{:>5}\\t{:^4}\\t{:13}\\t{:16}\\t{:3}\\t{:5}\".format('Grade', '이름', '전화', '메일', '나이','기타'))\n",
    "            print('='*80)\n",
    "            print(customer)\n",
    "            print('='*80)\n",
    "            break\n",
    "    else:\n",
    "        print(f'{search_name} 고객님을 찾지 못했습니다.')\n",
    "        "
   ]
  },
  {
   "cell_type": "code",
   "execution_count": 31,
   "id": "0eafcd34",
   "metadata": {},
   "outputs": [],
   "source": [
    "# 4.이름찾기 동명이인 없는 버전. 기존 함수 구현\n",
    "def fn4_search_customer(customer_list):\n",
    "    search_name = input('찾을 고객 이름은? ')\n",
    "    search_list = []\n",
    "    for customer in customer_list:\n",
    "        if search_name == customer.name:\n",
    "            search_list.append(customer)\n",
    "    if search_list:\n",
    "        fn2_print_customers(search_list)\n",
    "    else:\n",
    "        print(f'{search_name} 고객님을 찾지 못했습니다.')\n",
    "        "
   ]
  },
  {
   "cell_type": "code",
   "execution_count": 32,
   "id": "4e691ea9",
   "metadata": {},
   "outputs": [
    {
     "name": "stdout",
     "output_type": "stream",
     "text": [
      "찾을 고객 이름은? 둘리\n",
      "================================================================================\n",
      "\t\t고객  정보\n",
      "--------------------------------------------------------------------------------\n",
      "Grade\t 이름 \t전화           \t메일              \t나이 \t기타   \n",
      "================================================================================\n",
      "    *\t 둘리 \t010-2222-2222\t2222@2222.com   \t100000\t블랙리스트\n",
      "================================================================================\n"
     ]
    }
   ],
   "source": [
    "fn4_search_customer(customer_list)"
   ]
  },
  {
   "cell_type": "code",
   "execution_count": 14,
   "id": "26eb6722",
   "metadata": {},
   "outputs": [
    {
     "name": "stdout",
     "output_type": "stream",
     "text": [
      " ****\t홍길동 \t010-9999-9999\thong@mega_it.com\t 20\t까칠해  \n",
      "  ***\t고길동 \t010-2929-5959\tgo@naver.com    \t 44\t둘리이슈 \n",
      "    *\t 둘리 \t010-2222-2222\t2222@2222.com   \t100000\t블랙리스트\n"
     ]
    }
   ],
   "source": [
    "for row in customer_list:\n",
    "    print(row)"
   ]
  },
  {
   "cell_type": "code",
   "execution_count": 26,
   "id": "8d4c1a18",
   "metadata": {},
   "outputs": [],
   "source": [
    "# 4.이름찾기 동명이인이 있는 것으로 구현\n",
    "def fn4_search_customer_2(customer_list):\n",
    "    search_name = input('찾을 고객 이름은? ')\n",
    "    search_idx = []\n",
    "    for idx, customer in enumerate(customer_list):\n",
    "        if search_name == customer.name:\n",
    "            search_idx.append(idx)\n",
    "    \n",
    "    if search_idx:\n",
    "        print('='*80)\n",
    "        print('\\t\\t고객  정보')\n",
    "        print('-'*80)\n",
    "        print(\"{:>5}\\t{:^4}\\t{:13}\\t{:16}\\t{:3}\\t{:5}\".format('Grade', '이름', '전화', '메일', '나이','기타'))\n",
    "        print('='*80)\n",
    "        for idx in search_idx:\n",
    "            print(customer_list[idx])\n",
    "        print('='*80)\n",
    "\n",
    "    \n",
    "\n"
   ]
  },
  {
   "cell_type": "code",
   "execution_count": 28,
   "id": "9777cd9a",
   "metadata": {},
   "outputs": [
    {
     "name": "stdout",
     "output_type": "stream",
     "text": [
      "데이터가 로드 되었습니다.\n",
      "찾을 고객 이름은? 홍길동\n",
      "================================================================================\n",
      "\t\t고객  정보\n",
      "--------------------------------------------------------------------------------\n",
      "Grade\t 이름 \t전화           \t메일              \t나이 \t기타   \n",
      "================================================================================\n",
      " ****\t홍길동 \t010-9999-9999\thong@mega_it.com\t 20\t까칠해  \n",
      " ****\t홍길동 \t010-3333-9999\tgo@naver.com_it.com\t 20\t들까칠해 \n",
      "================================================================================\n"
     ]
    }
   ],
   "source": [
    "customer_list = load_customers()\n",
    "fn4_search_customer_2(customer_list)"
   ]
  },
  {
   "cell_type": "code",
   "execution_count": 207,
   "id": "6db90202",
   "metadata": {},
   "outputs": [
    {
     "name": "stdout",
     "output_type": "stream",
     "text": [
      "찾을 고객 이름은? 홍길동\n",
      "================================================================================\n",
      "\t\t고객  정보\n",
      "--------------------------------------------------------------------------------\n",
      "Grade\t 이름 \t전화           \t메일              \t나이 \t기타   \n",
      "================================================================================\n"
     ]
    },
    {
     "ename": "TypeError",
     "evalue": "'Customer' object is not subscriptable",
     "output_type": "error",
     "traceback": [
      "\u001b[1;31m---------------------------------------------------------------------------\u001b[0m",
      "\u001b[1;31mTypeError\u001b[0m                                 Traceback (most recent call last)",
      "Cell \u001b[1;32mIn[207], line 2\u001b[0m\n\u001b[0;32m      1\u001b[0m \u001b[38;5;66;03m#customer_list = load_customers()\u001b[39;00m\n\u001b[1;32m----> 2\u001b[0m \u001b[43mfn4_search_customer\u001b[49m\u001b[43m(\u001b[49m\u001b[43mcustomer_list\u001b[49m\u001b[43m)\u001b[49m\n\u001b[0;32m      3\u001b[0m \u001b[38;5;28mlist\u001b[39m(search_idx)\n",
      "Cell \u001b[1;32mIn[201], line 15\u001b[0m, in \u001b[0;36mfn4_search_customer\u001b[1;34m(customer_list)\u001b[0m\n\u001b[0;32m     13\u001b[0m \u001b[38;5;28mprint\u001b[39m(\u001b[38;5;124m'\u001b[39m\u001b[38;5;124m=\u001b[39m\u001b[38;5;124m'\u001b[39m\u001b[38;5;241m*\u001b[39m\u001b[38;5;241m80\u001b[39m)\n\u001b[0;32m     14\u001b[0m \u001b[38;5;28;01mfor\u001b[39;00m idx \u001b[38;5;129;01min\u001b[39;00m search_idx:\n\u001b[1;32m---> 15\u001b[0m     \u001b[38;5;28mprint\u001b[39m(\u001b[43mcustomer\u001b[49m\u001b[43m[\u001b[49m\u001b[43midx\u001b[49m\u001b[43m]\u001b[49m)\n\u001b[0;32m     16\u001b[0m \u001b[38;5;28mprint\u001b[39m(\u001b[38;5;124m'\u001b[39m\u001b[38;5;124m=\u001b[39m\u001b[38;5;124m'\u001b[39m\u001b[38;5;241m*\u001b[39m\u001b[38;5;241m80\u001b[39m)\n",
      "\u001b[1;31mTypeError\u001b[0m: 'Customer' object is not subscriptable"
     ]
    }
   ],
   "source": [
    "#customer_list = load_customers()\n",
    "fn4_search_customer(customer_list)\n",
    "list(search_idx)"
   ]
  },
  {
   "cell_type": "code",
   "execution_count": 204,
   "id": "8980f17f",
   "metadata": {},
   "outputs": [
    {
     "name": "stdout",
     "output_type": "stream",
     "text": [
      " ****\t홍길동 \t010-9999-9999\thong@mega_it.com\t 20\t까칠해  \n",
      "  ***\t고길동 \t010-2929-5959\tgo@naver.com    \t 44\t둘리이슈 \n",
      "    *\t 둘리 \t010-2222-2222\t2222@2222.com   \t100000\t블랙리스트\n"
     ]
    }
   ],
   "source": [
    "for row in customer_list:\n",
    "    print(row)"
   ]
  },
  {
   "cell_type": "code",
   "execution_count": null,
   "id": "7189a77c",
   "metadata": {},
   "outputs": [],
   "source": []
  },
  {
   "cell_type": "code",
   "execution_count": null,
   "id": "21e3aff8",
   "metadata": {},
   "outputs": [],
   "source": []
  }
 ],
 "metadata": {
  "kernelspec": {
   "display_name": "Python 3 (ipykernel)",
   "language": "python",
   "name": "python3"
  },
  "language_info": {
   "codemirror_mode": {
    "name": "ipython",
    "version": 3
   },
   "file_extension": ".py",
   "mimetype": "text/x-python",
   "name": "python",
   "nbconvert_exporter": "python",
   "pygments_lexer": "ipython3",
   "version": "3.10.9"
  },
  "toc": {
   "base_numbering": 1,
   "nav_menu": {},
   "number_sections": false,
   "sideBar": true,
   "skip_h1_title": false,
   "title_cell": "Table of Contents",
   "title_sidebar": "Contents",
   "toc_cell": false,
   "toc_position": {
    "height": "calc(100% - 180px)",
    "left": "10px",
    "top": "150px",
    "width": "215.391px"
   },
   "toc_section_display": true,
   "toc_window_display": true
  }
 },
 "nbformat": 4,
 "nbformat_minor": 5
}
