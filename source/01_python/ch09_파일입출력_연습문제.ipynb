{
 "cells": [
  {
   "cell_type": "code",
   "execution_count": 1,
   "id": "0e16349e",
   "metadata": {},
   "outputs": [
    {
     "data": {
      "text/html": [
       "\n",
       "<style>\n",
       "div.container{width:86% !important;}\n",
       "div.cell.code_cell.rendered{width:100%;}\n",
       "div.CodeMirror {font-family:Consolas; font-size:12pt;}\n",
       "div.output {font-size:12pt; font-weight:bold;}\n",
       "div.input {font-family:Consolas; font-size:12pt;}\n",
       "div.prompt {min-width:70px;}\n",
       "div#toc-wrapper{padding-top:120px;}\n",
       "div.text_cell_render ul li{font-size:12pt;padding:5px;}\n",
       "table.dataframe{font-size:12px;}\n",
       "</style>\n"
      ],
      "text/plain": [
       "<IPython.core.display.HTML object>"
      ]
     },
     "metadata": {},
     "output_type": "display_data"
    }
   ],
   "source": [
    "from IPython.display import display, HTML\n",
    "display(HTML(\"\"\"\n",
    "<style>\n",
    "div.container{width:86% !important;}\n",
    "div.cell.code_cell.rendered{width:100%;}\n",
    "div.CodeMirror {font-family:Consolas; font-size:12pt;}\n",
    "div.output {font-size:12pt; font-weight:bold;}\n",
    "div.input {font-family:Consolas; font-size:12pt;}\n",
    "div.prompt {min-width:70px;}\n",
    "div#toc-wrapper{padding-top:120px;}\n",
    "div.text_cell_render ul li{font-size:12pt;padding:5px;}\n",
    "table.dataframe{font-size:12px;}\n",
    "</style>\n",
    "\"\"\"))"
   ]
  },
  {
   "cell_type": "code",
   "execution_count": 125,
   "id": "e2b44465",
   "metadata": {},
   "outputs": [],
   "source": [
    "class Customer:\n",
    "    ' 고객데이터와 as_dic(), to_list_style(txt백업시), __str__()'\n",
    "    def __init__(self, name, phone, email, age, grade, etc):\n",
    "        self.name = name\n",
    "        self.phone = phone\n",
    "        self.email = email\n",
    "        self.age = age\n",
    "        self.grade = grade\n",
    "        self.etc = etc\n",
    "        \n",
    "    def as_dict(self): #객체를 딕셔너리데이터로 반환 (csv 파일 저장시)\n",
    "        return {\n",
    "            'name':self.name,\n",
    "            'phone':self.phone,\n",
    "            'email':self.email,\n",
    "            'age':self.age,\n",
    "            'grade':self.grade,\n",
    "            'etc':self.etc\n",
    "        }\n",
    "    \n",
    "    def to_list_style(self): #객체를 list return([ 홍길동 010 8999 9999, e@e.com, 20, 3, 까칠해]_\n",
    "        temp = [\n",
    "            self.name,\n",
    "            self.phone,\n",
    "            self.email,\n",
    "            str(self.age),\n",
    "            str(self.grade),\n",
    "            self.etc\n",
    "        ]\n",
    "        return ','.join(temp)\n",
    "            \n",
    "    def __str__(self): # ***홍길동 010 8999 9999 e@e.com 20 까칠해\n",
    "                return \"{:>5}\\t{:^4}\\t{:13}\\t{:16}\\t{:3}\\t{:5}\".format('*'*self.grade,\n",
    "                                                                        self.name,\n",
    "                                                                        self.phone,\n",
    "                                                                        self.email,\n",
    "                                                                        self.age,\n",
    "                                                                        self.etc\n",
    "                                                                         )"
   ]
  },
  {
   "cell_type": "code",
   "execution_count": 155,
   "id": "202ea92d",
   "metadata": {},
   "outputs": [],
   "source": [
    "def to_customer(row):\n",
    "    '''\n",
    "    row = \"홍길동 , 010 8999 9999, e@e.com, 20, 3, 까칠해\"(txt파일 내용)을 매개변수로 받아 Customer 객체로 return\n",
    "    '''\n",
    "    data = row.split(',')\n",
    "    name = data[0].strip()\n",
    "    phone = data[1].strip()\n",
    "    email = data[2].strip()\n",
    "    age = int(data[3].strip())\n",
    "    grade = int(data[4].strip())\n",
    "    etc = data[5].strip()\n",
    "    customer = Customer(name, phone, email, age, grade, etc)\n",
    "    return customer\n",
    " \n",
    "# 0.실행하면 data/ch09_customers.txt 파일의 내용을 load(customer_list)\n",
    "# data/ch09_customers.txt 이 존재하지 않으면\n",
    "#빈 data/ch09_customers.txt 파일을 생성하고\n",
    "#데이터는 customer_list=[]\n",
    "\n",
    "def load_customers():\n",
    "    customer_list=[]\n",
    "    try:\n",
    "        with open('data/ch09_customs.txt', 'r', encoding='utf-8') as f:\n",
    "            lines = f.readlines()\n",
    "            for line in lines:\n",
    "                customer = to_customer(line)\n",
    "                customer_list.append(customer)\n",
    "            return customer_list\n",
    "        print('데이터가 로드 되었습니다.')\n",
    "        print('쓰기가능한지 여부 :', f.writable())\n",
    "\n",
    "    except:\n",
    "        with open('data/ch09_customs.txt', 'w', encoding='utf-8') as f:\n",
    "            f.writelines(customer_list)\n",
    "            print('고객 리스트 파일이 없어, 새로운 파일을 생성합니다')\n",
    "    return customer_list "
   ]
  },
  {
   "cell_type": "code",
   "execution_count": 156,
   "id": "c6508be3",
   "metadata": {},
   "outputs": [
    {
     "name": "stdout",
     "output_type": "stream",
     "text": [
      "  ***\t홍길동 \t010-9999-9999\thong@mega_it.com\t 20\t까칠해  \n",
      " ****\t고길동 \t010-2929-5959\tgo@naver.com    \t 44\t둘리이슈 \n",
      "   **\t 둘리 \t010-2222-2222\t2222@2222.com   \t100000\t블랙리스트\n"
     ]
    }
   ],
   "source": [
    "data = load_customers()\n",
    "for row in data:\n",
    "    print(row)"
   ]
  },
  {
   "cell_type": "code",
   "execution_count": 119,
   "id": "7e2ec76e",
   "metadata": {},
   "outputs": [],
   "source": [
    "\n",
    "# 1.입력\n",
    "def fn1_insert_customer_info():\n",
    "    '''\n",
    "    사용자로 부터 이름, 번호, 메일, 나이, 등급, etc를 입력받아 Customer형 객체 반환\n",
    "    '''\n",
    "    name = input('이름 : ')\n",
    "    phone = input('전화번호 : ')\n",
    "    email = input('이메일 : ')\n",
    "    while True:\n",
    "        try:\n",
    "            age = int(input('나이 : '))\n",
    "            break\n",
    "#            return age\n",
    "        except:\n",
    "            print('나이를 잘못 입력하셨습니다. 정수를 입력하세요')\n",
    "    while True:\n",
    "        try:\n",
    "            grade = int(input('고객등급(1~5) : '))\n",
    "            if 1<=grade<=5:\n",
    "                break\n",
    "#                return grade   함수가 끝나버린다\n",
    "        except:\n",
    "            print('고객등급을 잘못 입력하셨습니다. 1~5 사이의 수를 입력하세요')\n",
    "    etc = input('기타정보 : ')\n",
    "    data=Customer(name, phone, email, age, grade, etc)\n",
    "    customer_list.append(data)\n",
    "    return customer_list\n"
   ]
  },
  {
   "cell_type": "code",
   "execution_count": 122,
   "id": "4ed2eeb3",
   "metadata": {},
   "outputs": [
    {
     "name": "stdout",
     "output_type": "stream",
     "text": [
      "이름 : 박진성\n",
      "전화번호 : 010-2222-2222\n",
      "이메일 : asdf@naver.com\n",
      "나이 : 38\n",
      "고객등급(1~5) : 5\n",
      "기타정보 : 신규\n"
     ]
    }
   ],
   "source": [
    "c1 = fn1_insert_customer_info()"
   ]
  },
  {
   "cell_type": "code",
   "execution_count": 126,
   "id": "cdd6c8d9",
   "metadata": {},
   "outputs": [
    {
     "name": "stdout",
     "output_type": "stream",
     "text": [
      "  *** 홍길동 010-9999-9999 hong@mega_it.com 20 까칠해\n",
      " **** 고길동 010-2929-5959 go@naver.com 44 둘리이슈\n",
      "   ** 둘리 010-2222-2222 2222@2222.com 100000 블랙리스트\n",
      "*****\t박진성 \t010-2222-2222\tasdf@naver.com  \t 38\t신규회원 \n",
      "*****\t박진성 \t010-2222-2222\tasdf@naver.com  \t 38\t신규   \n"
     ]
    }
   ],
   "source": [
    "for row in c1:\n",
    "    print(row)\n"
   ]
  },
  {
   "cell_type": "code",
   "execution_count": 153,
   "id": "cce65414",
   "metadata": {},
   "outputs": [],
   "source": [
    "# 2.전체 출력\n",
    "def fn2_print_customers(customer_list):\n",
    "#     with open('data/ch09_customs.txt', 'r', encoding='utf-8') as f:\n",
    "#         lines = f.readlines()\n",
    "        print('='*80)\n",
    "        print('\\t\\t고객  정보')\n",
    "        print('-'*80)\n",
    "#        print('Grade\\t','이름\\t', '전화\\t\\t', '메일\\t\\t\\t', '나이\\t', '기타')\n",
    "        print(\"{:>5}\\t{:^4}\\t{:13}\\t{:16}\\t{:3}\\t{:5}\".format('Grade', '이름', '전화', '메일', '나이','기타'))\n",
    "        print('='*80)\n",
    "        for customer in customer_list:\n",
    "            print(customer)\n",
    "        print('='*80)\n"
   ]
  },
  {
   "cell_type": "code",
   "execution_count": 154,
   "id": "66de8b65",
   "metadata": {},
   "outputs": [
    {
     "name": "stdout",
     "output_type": "stream",
     "text": [
      "================================================================================\n",
      "\t\t고객  정보\n",
      "--------------------------------------------------------------------------------\n",
      "Grade\t 이름 \t전화           \t메일              \t나이 \t기타   \n",
      "================================================================================\n",
      "  ***\t홍길동 \t010-9999-9999\thong@mega_it.com\t 20\t까칠해  \n",
      " ****\t고길동 \t010-2929-5959\tgo@naver.com    \t 44\t둘리이슈 \n",
      "   **\t 둘리 \t010-2222-2222\t2222@2222.com   \t100000\t블랙리스트\n",
      "================================================================================\n"
     ]
    }
   ],
   "source": [
    "fn2_print_customers(data)\n"
   ]
  },
  {
   "cell_type": "code",
   "execution_count": null,
   "id": "87dc4334",
   "metadata": {},
   "outputs": [],
   "source": []
  },
  {
   "cell_type": "code",
   "execution_count": 112,
   "id": "f1735c1e",
   "metadata": {},
   "outputs": [],
   "source": [
    "def to_list_style(self): #객체를 list return([ 홍길동 010 8999 9999, e@e.com, 20, 3, 까칠해]_\n",
    "        temp = [\n",
    "            self.name,\n",
    "            self.phone,\n",
    "            self.email,\n",
    "            self.age,\n",
    "            self.grade,\n",
    "            self.etc\n",
    "        ]\n",
    "        return ','.join(temp)"
   ]
  },
  {
   "cell_type": "code",
   "execution_count": null,
   "id": "590fd6b1",
   "metadata": {},
   "outputs": [],
   "source": []
  },
  {
   "cell_type": "code",
   "execution_count": 97,
   "id": "f6f4797b",
   "metadata": {},
   "outputs": [
    {
     "name": "stdout",
     "output_type": "stream",
     "text": [
      "이름 : ddd\n",
      "전화번호 : 123\n",
      "이메일 : 123\n",
      "나이 : d\n"
     ]
    },
    {
     "ename": "ValueError",
     "evalue": "invalid literal for int() with base 10: 'd'",
     "output_type": "error",
     "traceback": [
      "\u001b[1;31m---------------------------------------------------------------------------\u001b[0m",
      "\u001b[1;31mValueError\u001b[0m                                Traceback (most recent call last)",
      "Cell \u001b[1;32mIn[97], line 1\u001b[0m\n\u001b[1;32m----> 1\u001b[0m \u001b[43mfn1_insert_customer_info\u001b[49m\u001b[43m(\u001b[49m\u001b[43m)\u001b[49m\n",
      "Cell \u001b[1;32mIn[96], line 8\u001b[0m, in \u001b[0;36mfn1_insert_customer_info\u001b[1;34m()\u001b[0m\n\u001b[0;32m      5\u001b[0m email \u001b[38;5;241m=\u001b[39m \u001b[38;5;28minput\u001b[39m(\u001b[38;5;124m'\u001b[39m\u001b[38;5;124m이메일 : \u001b[39m\u001b[38;5;124m'\u001b[39m)\n\u001b[0;32m      7\u001b[0m \u001b[38;5;28;01mwhile\u001b[39;00m \u001b[38;5;28;01mTrue\u001b[39;00m:\n\u001b[1;32m----> 8\u001b[0m     age \u001b[38;5;241m=\u001b[39m \u001b[38;5;28;43mint\u001b[39;49m\u001b[43m(\u001b[49m\u001b[38;5;28;43minput\u001b[39;49m\u001b[43m(\u001b[49m\u001b[38;5;124;43m'\u001b[39;49m\u001b[38;5;124;43m나이 : \u001b[39;49m\u001b[38;5;124;43m'\u001b[39;49m\u001b[43m)\u001b[49m\u001b[43m)\u001b[49m\n\u001b[0;32m      9\u001b[0m     \u001b[38;5;28;01mif\u001b[39;00m \u001b[38;5;28misinstance\u001b[39m(age, \u001b[38;5;28mint\u001b[39m):\n\u001b[0;32m     10\u001b[0m         \u001b[38;5;28;01mbreak\u001b[39;00m\n",
      "\u001b[1;31mValueError\u001b[0m: invalid literal for int() with base 10: 'd'"
     ]
    }
   ],
   "source": [
    "fn1_insert_customer_info()"
   ]
  },
  {
   "cell_type": "code",
   "execution_count": 49,
   "id": "7e6db582",
   "metadata": {},
   "outputs": [
    {
     "ename": "SyntaxError",
     "evalue": "'return' outside function (3701163901.py, line 14)",
     "output_type": "error",
     "traceback": [
      "\u001b[1;36m  Cell \u001b[1;32mIn[49], line 14\u001b[1;36m\u001b[0m\n\u001b[1;33m    return customer_list\u001b[0m\n\u001b[1;37m    ^\u001b[0m\n\u001b[1;31mSyntaxError\u001b[0m\u001b[1;31m:\u001b[0m 'return' outside function\n"
     ]
    }
   ],
   "source": [
    "try:\n",
    "    with open('data/ch09_customs.txt', 'r', encoding='utf-8') as f:\n",
    "        lines = f.readlines()\n",
    "        for line in lines:\n",
    "            data = line.split(',')\n",
    "            name = data[0].strip()\n",
    "            phone = data[1].strip()\n",
    "            email = data[2].strip()\n",
    "            age = data[3].strip()\n",
    "            grade = data[4].strip()\n",
    "            etc = data[5].strip()\n",
    "            customer=Customer(name, phone, email, age, grade, etc)\n",
    "            customer_list.append(customer.to_list_style())\n",
    "        return customer_list\n",
    "        print('데이터가 로드 되었습니다.')\n",
    "        print(customer_list)\n",
    "\n",
    "except FileNotFoundError:\n",
    "    with open('data/ch09_customs.txt', 'w', encoding='utf-8') as f:\n",
    "        f.writelines(customer_list)\n",
    "        print('고객 리스트 파일이 없어, 새로운 파일을 생성합니다')\n",
    "        print('쓰기가능한지 여부 :', f.writable())\n",
    "except Exception as e:\n",
    "    print(e)"
   ]
  },
  {
   "cell_type": "code",
   "execution_count": 47,
   "id": "eb0e824c",
   "metadata": {},
   "outputs": [
    {
     "data": {
      "text/plain": [
       "[['홍길동', '010-9999-9999', 'hong@mega_it.com', '20', '3', '까칠해'],\n",
       " ['고길동', '010-2929-5959', 'go@naver.com', '44', '4', '둘리이슈'],\n",
       " ['둘리', '010-2222-2222', '2222@2222.com', '100000', '2', '블랙리스트'],\n",
       " ['홍길동', '010-9999-9999', 'hong@mega_it.com', '20', '3', '까칠해'],\n",
       " ['고길동', '010-2929-5959', 'go@naver.com', '44', '4', '둘리이슈'],\n",
       " ['둘리', '010-2222-2222', '2222@2222.com', '100000', '2', '블랙리스트'],\n",
       " ['홍길동', '010-9999-9999', 'hong@mega_it.com', '20', '3', '까칠해'],\n",
       " ['고길동', '010-2929-5959', 'go@naver.com', '44', '4', '둘리이슈'],\n",
       " ['둘리', '010-2222-2222', '2222@2222.com', '100000', '2', '블랙리스트'],\n",
       " ['둘리', '010-2222-2222', '2222@2222.com', '100000', '2', '블랙리스트']]"
      ]
     },
     "execution_count": 47,
     "metadata": {},
     "output_type": "execute_result"
    }
   ],
   "source": [
    "with open('data/ch09_customs.txt', 'r', encoding='utf-8') as f:\n",
    "    lines = f.readlines()\n",
    "    for line in lines:\n",
    "        data = line.split(',')\n",
    "        name = data[0].strip()\n",
    "        phone = data[1].strip()\n",
    "        email = data[2].strip()\n",
    "        age = data[3].strip()\n",
    "        grade = data[4].strip()\n",
    "        etc = data[5].strip()\n",
    "        customer=Customer(name, phone, email, age, grade, etc)\n",
    "        customer_list.append(customer.to_list_style())\n",
    "list(customer_list)"
   ]
  },
  {
   "cell_type": "code",
   "execution_count": 35,
   "id": "8585c5a2",
   "metadata": {},
   "outputs": [
    {
     "ename": "TypeError",
     "evalue": "'Customer' object is not iterable",
     "output_type": "error",
     "traceback": [
      "\u001b[1;31m---------------------------------------------------------------------------\u001b[0m",
      "\u001b[1;31mTypeError\u001b[0m                                 Traceback (most recent call last)",
      "Cell \u001b[1;32mIn[35], line 1\u001b[0m\n\u001b[1;32m----> 1\u001b[0m \u001b[38;5;28;43mlist\u001b[39;49m\u001b[43m(\u001b[49m\u001b[43mcustomer\u001b[49m\u001b[43m)\u001b[49m\n",
      "\u001b[1;31mTypeError\u001b[0m: 'Customer' object is not iterable"
     ]
    }
   ],
   "source": [
    "list(customer)"
   ]
  },
  {
   "cell_type": "code",
   "execution_count": 56,
   "id": "33df96e5",
   "metadata": {},
   "outputs": [],
   "source": [
    "def to_customer(row): # txt파일 내용 한줄 (홍길동 , 010 8999 9999, e@e.com, 20, 3, 까칠해) 을 Customer 객체로 반환\n",
    "    '''\n",
    "    row = \"홍길동 , 010 8999 9999, e@e.com, 20, 3, 까칠해\"(txt파일 내용)을 매개변수로 받아 Customer 객체로 return\n",
    "    '''\n",
    "    with open('data/ch09_customs.txt', 'r', encoding='utf-8') as f:\n",
    "        line = f.readline()\n",
    "        \n",
    "        data = lines[row].split(',')\n",
    "        name = data[0].strip()\n",
    "        phone = data[1].strip()\n",
    "        email = data[2].strip()\n",
    "        age = int(data[3].strip())\n",
    "        grade = int(data[4].strip())\n",
    "        etc = data[5].strip()\n",
    "        customer=Customer(name, phone, email, age, grade, etc)\n",
    "    return customer"
   ]
  },
  {
   "cell_type": "code",
   "execution_count": 82,
   "id": "d981f465",
   "metadata": {},
   "outputs": [],
   "source": [
    "def to_customer(row):\n",
    "    data = row.split(',')\n",
    "    name = data[0].strip()\n",
    "    phone = data[1].strip()\n",
    "    email = data[2].strip()\n",
    "    age = int(data[3].strip())\n",
    "    grade = int(data[4].strip())\n",
    "    etc = data[5].strip()\n",
    "    customer = Customer(name, phone, email, age, grade, etc)\n",
    "    return customer"
   ]
  },
  {
   "cell_type": "code",
   "execution_count": 81,
   "id": "c5ce0299",
   "metadata": {},
   "outputs": [
    {
     "name": "stdout",
     "output_type": "stream",
     "text": [
      "*** 홍길동 010-9999-9999 hong@mega_it.com 20 까칠해\n",
      "{'name': '홍길동', 'phone': '010-9999-9999', 'email': 'hong@mega_it.com', 'age': 20, 'grade': 3, 'etc': '까칠해'}\n",
      "['홍길동', '010-9999-9999', 'hong@mega_it.com', 20, 3, '까칠해']\n"
     ]
    }
   ],
   "source": [
    "c1 = to_customer('홍길동,010-9999-9999,hong@mega_it.com,20,3,까칠해')\n",
    "print(c1)\n",
    "print(c1.as_dict())\n",
    "print(c1.to_list_style())"
   ]
  },
  {
   "cell_type": "code",
   "execution_count": null,
   "id": "814f5071",
   "metadata": {},
   "outputs": [],
   "source": []
  },
  {
   "cell_type": "code",
   "execution_count": null,
   "id": "829db51e",
   "metadata": {},
   "outputs": [],
   "source": []
  },
  {
   "cell_type": "code",
   "execution_count": null,
   "id": "db949c5c",
   "metadata": {},
   "outputs": [],
   "source": [
    "    \n",
    "    \n",
    "# 3.삭제 동명이인이 있다고 할지 동명이인이 없다고 할지 미리 정해놓고 구현\n",
    "def fn3_delete_customer(customer_list):\n",
    "    \n",
    "    \n",
    "# 4.이름찾기 동명이인이 있다고 할지 없다고 할지 정한대로 구현\n",
    "def fn4_search_customer(customer_list):\n",
    "    \n",
    "    \n",
    "    \n",
    "# 5.내보내기 (\n",
    "def fn5_save_customer_csv(customer_list):\n",
    "    \n",
    "    \n",
    "# 9.종료 종료하기 전 customer_list 를 txt 파일에 저장하고 종료\n",
    "def fn9_save_customer_txt(customer_list):\n",
    "    \n",
    "def main():\n",
    "    global customer_list\n",
    "    customer_list = load_customers() # ch09_customers.txt 의 내용을 load\n",
    "    while True:\n",
    "        print(\"1:입력\",\"2:전체출력 \",\"3:삭제\",\"4:이름찾기 \",\"5:내보내기(CSV)\", \"9.종료 \", sep='|', end='')\n",
    "        print()\n",
    "        fn = int(input('메뉴선택 :')'\n",
    "        if fn == 1:\n",
    "            customer = fn1_insert_customer_info() #입력받은 내용으로 customer 객체를 반환\n",
    "            customer_list.append(customer)\n",
    "        elif fn == 2:\n",
    "        fn2_print_customers(customer_list)\n",
    "        elif fn == 3:\n",
    "        fn3_delete_customer(customer_list)\n",
    "        elif fn == 4:\n",
    "        fn4_search_customer(customer_list)\n",
    "        elif fn == 5:\n",
    "        fn5_save_customer_csv(customer_list)\n",
    "        elif fn == 9:\n",
    "        fn9_save_customer_txt(customer_list)\n",
    "        break\n",
    "if __name__ == '__main__':\n",
    "    main()"
   ]
  },
  {
   "cell_type": "code",
   "execution_count": null,
   "id": "d57a735e",
   "metadata": {},
   "outputs": [],
   "source": []
  },
  {
   "cell_type": "code",
   "execution_count": null,
   "id": "c4fa2ab4",
   "metadata": {},
   "outputs": [],
   "source": []
  },
  {
   "cell_type": "code",
   "execution_count": null,
   "id": "b13b511e",
   "metadata": {},
   "outputs": [],
   "source": [
    "try:\n",
    "    f = open('data/ch09.txt', 'w')\n",
    "except FileNotFoundError as e:\n",
    "    print(e)\n",
    "finally:\n",
    "    f.close()\n",
    "    "
   ]
  },
  {
   "cell_type": "code",
   "execution_count": 2,
   "id": "9c3f5ac3",
   "metadata": {},
   "outputs": [],
   "source": [
    "with open('data/ch09.txt', 'w', encoding='utf-8') as f:\n",
    "    f.write('홍길동, 33, 아무동9\\n')\n",
    "    f.write('고길동, 40, 쌍문동1\\n')\n",
    "    text_list = ['홍길동, 33, 아무동9\\n', '고길동, 40, 쌍문동1\\n']\n",
    "    for line in text_list:\n",
    "        f.write(line)\n",
    "    f.writelines(text_list)"
   ]
  },
  {
   "cell_type": "code",
   "execution_count": 4,
   "id": "22a3b6bd",
   "metadata": {},
   "outputs": [
    {
     "name": "stdout",
     "output_type": "stream",
     "text": [
      "홍길동, 33, 아무동9\n",
      "고길동, 40, 쌍문동1\n",
      "홍길동, 33, 아무동9\n",
      "고길동, 40, 쌍문동1\n",
      "홍길동, 33, 아무동9\n",
      "고길동, 40, 쌍문동1\n"
     ]
    }
   ],
   "source": [
    "with open('data/ch09.txt', 'r', encoding='utf-8') as f:\n",
    "    line = f.readline()\n",
    "    while line !='':\n",
    "        print(line, end='')\n",
    "        line = f.readline()"
   ]
  },
  {
   "cell_type": "code",
   "execution_count": 5,
   "id": "0efd8a45",
   "metadata": {},
   "outputs": [
    {
     "name": "stdout",
     "output_type": "stream",
     "text": [
      "['홍길동, 33, 아무동9\\n', '고길동, 40, 쌍문동1\\n', '홍길동, 33, 아무동9\\n', '고길동, 40, 쌍문동1\\n', '홍길동, 33, 아무동9\\n', '고길동, 40, 쌍문동1\\n']\n"
     ]
    }
   ],
   "source": [
    "with open('data/ch09.txt', 'r', encoding='utf-8') as f:\n",
    "    lines = f.readlines()\n",
    "    print(lines)"
   ]
  },
  {
   "cell_type": "code",
   "execution_count": 6,
   "id": "27196461",
   "metadata": {},
   "outputs": [
    {
     "name": "stdout",
     "output_type": "stream",
     "text": [
      "홍길동, 33, 아무동9\n",
      "고길동, 40, 쌍문동1\n",
      "홍길동, 33, 아무동9\n",
      "고길동, 40, 쌍문동1\n",
      "홍길동, 33, 아무동9\n",
      "고길동, 40, 쌍문동1\n",
      "\n"
     ]
    }
   ],
   "source": [
    "with open('data/ch09.txt', 'r', encoding='utf-8') as f:\n",
    "    lines = f.read()\n",
    "    print(lines)"
   ]
  },
  {
   "cell_type": "code",
   "execution_count": null,
   "id": "6dad0675",
   "metadata": {},
   "outputs": [],
   "source": [
    "홍길동, 20, kildong@hong.com, 서울시 관악구\n",
    "홍길숙, 25, kilsuk1@hong.com, 서울시 영등포구\n",
    "신길동, 30, shinkil@hong.com, 서울시 동작구"
   ]
  },
  {
   "cell_type": "code",
   "execution_count": 8,
   "id": "4c0f4426",
   "metadata": {},
   "outputs": [],
   "source": [
    "class Member:\n",
    "    def __init__(self, name, age, email, address):\n",
    "        self.name = name\n",
    "        self.age = age\n",
    "        self.email = email\n",
    "        self.address = address\n",
    "    def __str__(self):\n",
    "        return '{}, {}, {}, {}'.format(self.name,\n",
    "                                          self.age,\n",
    "                                          self.email,\n",
    "                                          self.address)\n",
    "    def as_dict(self):\n",
    "        return {\n",
    "            'name':self.name,\n",
    "            'age':self.age,\n",
    "            'email':self.email,\n",
    "            'address':self.address\n",
    "        }\n",
    "    def __eq__(self):\n",
    "        return self.name == other.name and\\\n",
    "                self.age == other.age and\\\n",
    "                self.email == other.email and\\\n",
    "                self.address == other.address\n",
    "    "
   ]
  },
  {
   "cell_type": "code",
   "execution_count": 11,
   "id": "e40ab88d",
   "metadata": {},
   "outputs": [],
   "source": [
    "# 파일을 읽어서 한줄씩 읽고\n",
    "# 형식이 있는 txt 파일 내용을 member list(피클 저장), 딕셔너리 list(데이터프레임) 저장\n",
    "user_list = []\n",
    "user_dict = []\n",
    "\n",
    "with open('data/ch09_member.txt', 'r', encoding='utf-8') as f:\n",
    "    lines = f.readlines()\n",
    "    \n",
    "for line in lines:\n",
    "    data = line.split(',')\n",
    "    name = data[0]\n",
    "    age = data[1].strip()\n",
    "    email = data[2].strip()\n",
    "    address = data[3].strip()\n",
    "    user = Member(name, age, email, address)\n",
    "    user_list.append(user)\n",
    "    user_dict.append(user.as_dict())"
   ]
  },
  {
   "cell_type": "code",
   "execution_count": 12,
   "id": "e7beb45d",
   "metadata": {},
   "outputs": [
    {
     "name": "stdout",
     "output_type": "stream",
     "text": [
      "{'name': '홍길동', 'age': '20', 'email': 'kildong@hong.com', 'address': '서울시 관악구'}\n",
      "{'name': '홍길숙', 'age': '25', 'email': 'kilsuk1@hong.com', 'address': '서울시 영등포구'}\n",
      "{'name': '신길동', 'age': '30', 'email': 'shinkil@hong.com', 'address': '서울시 동작구'}\n"
     ]
    }
   ],
   "source": [
    "for data in user_dict:\n",
    "    print(data)"
   ]
  },
  {
   "cell_type": "code",
   "execution_count": 13,
   "id": "986dfd73",
   "metadata": {},
   "outputs": [
    {
     "name": "stdout",
     "output_type": "stream",
     "text": [
      "홍길동, 20, kildong@hong.com, 서울시 관악구\n",
      "홍길숙, 25, kilsuk1@hong.com, 서울시 영등포구\n",
      "신길동, 30, shinkil@hong.com, 서울시 동작구\n"
     ]
    }
   ],
   "source": [
    "for data in user_list:\n",
    "    print(data)"
   ]
  },
  {
   "cell_type": "code",
   "execution_count": null,
   "id": "3434850e",
   "metadata": {},
   "outputs": [],
   "source": []
  },
  {
   "cell_type": "code",
   "execution_count": null,
   "id": "23a9ee1c",
   "metadata": {},
   "outputs": [],
   "source": []
  },
  {
   "cell_type": "code",
   "execution_count": null,
   "id": "1f378101",
   "metadata": {},
   "outputs": [],
   "source": []
  },
  {
   "cell_type": "code",
   "execution_count": null,
   "id": "ecf762a7",
   "metadata": {},
   "outputs": [],
   "source": []
  }
 ],
 "metadata": {
  "kernelspec": {
   "display_name": "Python 3 (ipykernel)",
   "language": "python",
   "name": "python3"
  },
  "language_info": {
   "codemirror_mode": {
    "name": "ipython",
    "version": 3
   },
   "file_extension": ".py",
   "mimetype": "text/x-python",
   "name": "python",
   "nbconvert_exporter": "python",
   "pygments_lexer": "ipython3",
   "version": "3.10.9"
  },
  "toc": {
   "base_numbering": 1,
   "nav_menu": {},
   "number_sections": false,
   "sideBar": true,
   "skip_h1_title": false,
   "title_cell": "Table of Contents",
   "title_sidebar": "Contents",
   "toc_cell": false,
   "toc_position": {},
   "toc_section_display": true,
   "toc_window_display": false
  }
 },
 "nbformat": 4,
 "nbformat_minor": 5
}
