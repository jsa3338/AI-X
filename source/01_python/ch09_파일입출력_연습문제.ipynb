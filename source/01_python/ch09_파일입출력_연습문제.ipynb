{
 "cells": [
  {
   "cell_type": "code",
   "execution_count": 1,
   "id": "0e16349e",
   "metadata": {},
   "outputs": [
    {
     "data": {
      "text/html": [
       "\n",
       "<style>\n",
       "div.container{width:86% !important;}\n",
       "div.cell.code_cell.rendered{width:100%;}\n",
       "div.CodeMirror {font-family:Consolas; font-size:12pt;}\n",
       "div.output {font-size:12pt; font-weight:bold;}\n",
       "div.input {font-family:Consolas; font-size:12pt;}\n",
       "div.prompt {min-width:70px;}\n",
       "div#toc-wrapper{padding-top:120px;}\n",
       "div.text_cell_render ul li{font-size:12pt;padding:5px;}\n",
       "table.dataframe{font-size:12px;}\n",
       "</style>\n"
      ],
      "text/plain": [
       "<IPython.core.display.HTML object>"
      ]
     },
     "metadata": {},
     "output_type": "display_data"
    }
   ],
   "source": [
    "from IPython.display import display, HTML\n",
    "display(HTML(\"\"\"\n",
    "<style>\n",
    "div.container{width:86% !important;}\n",
    "div.cell.code_cell.rendered{width:100%;}\n",
    "div.CodeMirror {font-family:Consolas; font-size:12pt;}\n",
    "div.output {font-size:12pt; font-weight:bold;}\n",
    "div.input {font-family:Consolas; font-size:12pt;}\n",
    "div.prompt {min-width:70px;}\n",
    "div#toc-wrapper{padding-top:120px;}\n",
    "div.text_cell_render ul li{font-size:12pt;padding:5px;}\n",
    "table.dataframe{font-size:12px;}\n",
    "</style>\n",
    "\"\"\"))"
   ]
  },
  {
   "cell_type": "code",
   "execution_count": 17,
   "id": "e2b44465",
   "metadata": {},
   "outputs": [],
   "source": [
    "class Custmer:\n",
    "    def __init__(self, name, phone, email, age, grade, etc):\n",
    "        self.name = name\n",
    "        self.phone = phone\n",
    "        self.email = email\n",
    "        self.age = age\n",
    "        self.grade = grade\n",
    "        self.etc = etc\n",
    "        \n",
    "    def as_dict(self): #객체를 딕셔너리데이터로 반환 (csv 파일 저장시)\n",
    "        return {\n",
    "            'name':self.name,\n",
    "            'phone':self.phone,\n",
    "            'email':self.email,\n",
    "            'age':self.age,\n",
    "            'grade':self.grade,\n",
    "            'etc':self.etc\n",
    "        }\n",
    "    \n",
    "    def to_list_style(self): #객체를 list return([ 홍길동 010 8999 9999, e@e.com, 20, 3, 까칠해]_\n",
    "        return [\n",
    "            self.name,\n",
    "            self.phone,\n",
    "            self.email,\n",
    "            self.age,\n",
    "            self.grade,\n",
    "            self.etc\n",
    "        ]\n",
    "            \n",
    "    def __str__(self): # ***홍길동 010 8999 9999 e@e.com 20 까칠해\n",
    "                return \"{:>} {} {} {} {} {}\".format('*'*self.grade,\n",
    "                                                self.name,\n",
    "                                                self.phone,\n",
    "                                                self.email,\n",
    "                                                self.age,\n",
    "                                                self.etc\n",
    "                                                 )"
   ]
  },
  {
   "cell_type": "code",
   "execution_count": 19,
   "id": "202ea92d",
   "metadata": {},
   "outputs": [
    {
     "ename": "SyntaxError",
     "evalue": "invalid syntax (2042350137.py, line 36)",
     "output_type": "error",
     "traceback": [
      "\u001b[1;36m  Cell \u001b[1;32mIn[19], line 36\u001b[1;36m\u001b[0m\n\u001b[1;33m    open('data/ch09_customs.txt', 'w', encoding='utf-8') as f:\u001b[0m\n\u001b[1;37m                                                         ^\u001b[0m\n\u001b[1;31mSyntaxError\u001b[0m\u001b[1;31m:\u001b[0m invalid syntax\n"
     ]
    }
   ],
   "source": [
    "def to_customer(row): # txt파일 내용 한줄 (홍길동 , 010 8999 9999, e@e.com, 20, 3, 까칠해) 을 Customer 객체로 반환\n",
    "    with open('data/ch09_customs.txt', 'r', encoding='utf-8') as f:\n",
    "        lines = f.readlines()\n",
    "        data = lines[row].split(',')\n",
    "        name = data[0].strip()\n",
    "        phone = data[1].strip()\n",
    "        email = data[2].strip()\n",
    "        age = data[3].strip()\n",
    "        grade = data[4].strip()\n",
    "        etc = data[5].strip()\n",
    "        customer=Member(name, phone, email, age, grade, etc)\n",
    " \n",
    "# 0.실행하면 data/ch09_customers.txt 파일의 내용을 load(customer_list)\n",
    "# data/ch09_customers.txt 이 존재하지 않으면\n",
    "#빈 data/ch09_customers.txt 파일을 생성하고\n",
    "#데이터는 customer_list=[]\n",
    "\n",
    "def load_customers():\n",
    "    customer_list=[]\n",
    "    try:\n",
    "        with open('data/ch09_customs.txt', 'r', encoding='utf-8') as f:\n",
    "            lines = f.readlines()\n",
    "            for line in lines:\n",
    "                data = line.split(',')\n",
    "                name = data[0].strip()\n",
    "                phone = data[1].strip()\n",
    "                email = data[2].strip()\n",
    "                age = data[3].strip()\n",
    "                grade = data[4].strip()\n",
    "                etc = data[5].strip()\n",
    "                customer=Member(name, phone, email, age, grade, etc)\n",
    "                customer_list.append(customers.as_dict())\n",
    "                print('데이터가 로드 되었습니다.')\n",
    "\n",
    "    except FileNotFoundError:\n",
    "        open('data/ch09_customs.txt', 'w', encoding='utf-8') as f:\n",
    "            f.writelines(customer_list)\n",
    "            print('고객 리스트 파일이 없어, 새로운 파일을 생성합니다')"
   ]
  },
  {
   "cell_type": "code",
   "execution_count": 7,
   "id": "7e2ec76e",
   "metadata": {},
   "outputs": [
    {
     "ename": "IndentationError",
     "evalue": "expected an indented block after function definition on line 6 (1157684286.py, line 7)",
     "output_type": "error",
     "traceback": [
      "\u001b[1;36m  Cell \u001b[1;32mIn[7], line 7\u001b[1;36m\u001b[0m\n\u001b[1;33m    def to_list_style(self): #객체를 list return([ 홍길동 010 8999 9999, e@e.com, 20, 3, 까칠해]_\u001b[0m\n\u001b[1;37m    ^\u001b[0m\n\u001b[1;31mIndentationError\u001b[0m\u001b[1;31m:\u001b[0m expected an indented block after function definition on line 6\n"
     ]
    }
   ],
   "source": [
    "        \n",
    "\n",
    "\n",
    "    \n",
    "# 1.입력\n",
    "def fn1_insert_customer_info():\n",
    "    \n",
    "    \n",
    "# 2.전체 출력\n",
    "def fn2_print_customers(customer_list):\n",
    "    \n",
    "    \n",
    "    \n",
    "# 3.삭제 동명이인이 있다고 할지 동명이인이 없다고 할지 미리 정해놓고 구현\n",
    "def fn3_delete_customer(customer_list):\n",
    "    \n",
    "    \n",
    "# 4.이름찾기 동명이인이 있다고 할지 없다고 할지 정한대로 구현\n",
    "def fn4_search_customer(customer_list):\n",
    "    \n",
    "    \n",
    "    \n",
    "# 5.내보내기 (\n",
    "def fn5_save_customer_csv(customer_list):\n",
    "    \n",
    "    \n",
    "# 9.종료 종료하기 전 customer_list 를 txt 파일에 저장하고 종료\n",
    "def fn9_save_customer_txt(customer_list):\n",
    "    \n",
    "def main():\n",
    "    global customer_list\n",
    "    customer_list = load_customers() # ch09_customers.txt 의 내용을 load\n",
    "    while True:\n",
    "        print(\"1:입력\",\"2:전체출력 \",\"3:삭제\",\"4:이름찾기 \",\"5:내보내기(CSV)\", \"9.종료 \", sep='|', end='')\n",
    "        print()\n",
    "        fn = int(input('메뉴선택 :')'\n",
    "        if fn == 1:\n",
    "            customer = fn1_insert_customer_info() #입력받은 내용으로 customer 객체를 반환\n",
    "            customer_list.append(customer)\n",
    "        elif fn == 2:\n",
    "        fn2_print_customers(customer_list)\n",
    "        elif fn == 3:\n",
    "        fn3_delete_customer(customer_list)\n",
    "        elif fn == 4:\n",
    "        fn4_search_customer(customer_list)\n",
    "        elif fn == 5:\n",
    "        fn5_save_customer_csv(customer_list)\n",
    "        elif fn == 9:\n",
    "        fn9_save_customer_txt(customer_list)\n",
    "        break\n",
    "if __name__ == '__main__':\n",
    "    main()"
   ]
  },
  {
   "cell_type": "code",
   "execution_count": null,
   "id": "db949c5c",
   "metadata": {},
   "outputs": [],
   "source": [
    "def __init__(self, name, phone, email, age, grade, etc):"
   ]
  },
  {
   "cell_type": "code",
   "execution_count": null,
   "id": "d57a735e",
   "metadata": {},
   "outputs": [],
   "source": []
  },
  {
   "cell_type": "code",
   "execution_count": null,
   "id": "c4fa2ab4",
   "metadata": {},
   "outputs": [],
   "source": []
  },
  {
   "cell_type": "code",
   "execution_count": null,
   "id": "b13b511e",
   "metadata": {},
   "outputs": [],
   "source": [
    "try:\n",
    "    f = open('data/ch09.txt', 'w')\n",
    "except FileNotFoundError as e:\n",
    "    print(e)\n",
    "finally:\n",
    "    f.close()\n",
    "    "
   ]
  },
  {
   "cell_type": "code",
   "execution_count": 2,
   "id": "9c3f5ac3",
   "metadata": {},
   "outputs": [],
   "source": [
    "with open('data/ch09.txt', 'w', encoding='utf-8') as f:\n",
    "    f.write('홍길동, 33, 아무동9\\n')\n",
    "    f.write('고길동, 40, 쌍문동1\\n')\n",
    "    text_list = ['홍길동, 33, 아무동9\\n', '고길동, 40, 쌍문동1\\n']\n",
    "    for line in text_list:\n",
    "        f.write(line)\n",
    "    f.writelines(text_list)"
   ]
  },
  {
   "cell_type": "code",
   "execution_count": 4,
   "id": "22a3b6bd",
   "metadata": {},
   "outputs": [
    {
     "name": "stdout",
     "output_type": "stream",
     "text": [
      "홍길동, 33, 아무동9\n",
      "고길동, 40, 쌍문동1\n",
      "홍길동, 33, 아무동9\n",
      "고길동, 40, 쌍문동1\n",
      "홍길동, 33, 아무동9\n",
      "고길동, 40, 쌍문동1\n"
     ]
    }
   ],
   "source": [
    "with open('data/ch09.txt', 'r', encoding='utf-8') as f:\n",
    "    line = f.readline()\n",
    "    while line !='':\n",
    "        print(line, end='')\n",
    "        line = f.readline()"
   ]
  },
  {
   "cell_type": "code",
   "execution_count": 5,
   "id": "0efd8a45",
   "metadata": {},
   "outputs": [
    {
     "name": "stdout",
     "output_type": "stream",
     "text": [
      "['홍길동, 33, 아무동9\\n', '고길동, 40, 쌍문동1\\n', '홍길동, 33, 아무동9\\n', '고길동, 40, 쌍문동1\\n', '홍길동, 33, 아무동9\\n', '고길동, 40, 쌍문동1\\n']\n"
     ]
    }
   ],
   "source": [
    "with open('data/ch09.txt', 'r', encoding='utf-8') as f:\n",
    "    lines = f.readlines()\n",
    "    print(lines)"
   ]
  },
  {
   "cell_type": "code",
   "execution_count": 6,
   "id": "27196461",
   "metadata": {},
   "outputs": [
    {
     "name": "stdout",
     "output_type": "stream",
     "text": [
      "홍길동, 33, 아무동9\n",
      "고길동, 40, 쌍문동1\n",
      "홍길동, 33, 아무동9\n",
      "고길동, 40, 쌍문동1\n",
      "홍길동, 33, 아무동9\n",
      "고길동, 40, 쌍문동1\n",
      "\n"
     ]
    }
   ],
   "source": [
    "with open('data/ch09.txt', 'r', encoding='utf-8') as f:\n",
    "    lines = f.read()\n",
    "    print(lines)"
   ]
  },
  {
   "cell_type": "code",
   "execution_count": null,
   "id": "6dad0675",
   "metadata": {},
   "outputs": [],
   "source": [
    "홍길동, 20, kildong@hong.com, 서울시 관악구\n",
    "홍길숙, 25, kilsuk1@hong.com, 서울시 영등포구\n",
    "신길동, 30, shinkil@hong.com, 서울시 동작구"
   ]
  },
  {
   "cell_type": "code",
   "execution_count": 8,
   "id": "4c0f4426",
   "metadata": {},
   "outputs": [],
   "source": [
    "class Member:\n",
    "    def __init__(self, name, age, email, address):\n",
    "        self.name = name\n",
    "        self.age = age\n",
    "        self.email = email\n",
    "        self.address = address\n",
    "    def __str__(self):\n",
    "        return '{}, {}, {}, {}'.format(self.name,\n",
    "                                          self.age,\n",
    "                                          self.email,\n",
    "                                          self.address)\n",
    "    def as_dict(self):\n",
    "        return {\n",
    "            'name':self.name,\n",
    "            'age':self.age,\n",
    "            'email':self.email,\n",
    "            'address':self.address\n",
    "        }\n",
    "    def __eq__(self):\n",
    "        return self.name == other.name and\\\n",
    "                self.age == other.age and\\\n",
    "                self.email == other.email and\\\n",
    "                self.address == other.address\n",
    "    "
   ]
  },
  {
   "cell_type": "code",
   "execution_count": 11,
   "id": "e40ab88d",
   "metadata": {},
   "outputs": [],
   "source": [
    "# 파일을 읽어서 한줄씩 읽고\n",
    "# 형식이 있는 txt 파일 내용을 member list(피클 저장), 딕셔너리 list(데이터프레임) 저장\n",
    "user_list = []\n",
    "user_dict = []\n",
    "\n",
    "with open('data/ch09_member.txt', 'r', encoding='utf-8') as f:\n",
    "    lines = f.readlines()\n",
    "    \n",
    "for line in lines:\n",
    "    data = line.split(',')\n",
    "    name = data[0]\n",
    "    age = data[1].strip()\n",
    "    email = data[2].strip()\n",
    "    address = data[3].strip()\n",
    "    user = Member(name, age, email, address)\n",
    "    user_list.append(user)\n",
    "    user_dict.append(user.as_dict())"
   ]
  },
  {
   "cell_type": "code",
   "execution_count": 12,
   "id": "e7beb45d",
   "metadata": {},
   "outputs": [
    {
     "name": "stdout",
     "output_type": "stream",
     "text": [
      "{'name': '홍길동', 'age': '20', 'email': 'kildong@hong.com', 'address': '서울시 관악구'}\n",
      "{'name': '홍길숙', 'age': '25', 'email': 'kilsuk1@hong.com', 'address': '서울시 영등포구'}\n",
      "{'name': '신길동', 'age': '30', 'email': 'shinkil@hong.com', 'address': '서울시 동작구'}\n"
     ]
    }
   ],
   "source": [
    "for data in user_dict:\n",
    "    print(data)"
   ]
  },
  {
   "cell_type": "code",
   "execution_count": 13,
   "id": "986dfd73",
   "metadata": {},
   "outputs": [
    {
     "name": "stdout",
     "output_type": "stream",
     "text": [
      "홍길동, 20, kildong@hong.com, 서울시 관악구\n",
      "홍길숙, 25, kilsuk1@hong.com, 서울시 영등포구\n",
      "신길동, 30, shinkil@hong.com, 서울시 동작구\n"
     ]
    }
   ],
   "source": [
    "for data in user_list:\n",
    "    print(data)"
   ]
  },
  {
   "cell_type": "code",
   "execution_count": null,
   "id": "3434850e",
   "metadata": {},
   "outputs": [],
   "source": []
  },
  {
   "cell_type": "code",
   "execution_count": null,
   "id": "23a9ee1c",
   "metadata": {},
   "outputs": [],
   "source": []
  },
  {
   "cell_type": "code",
   "execution_count": null,
   "id": "1f378101",
   "metadata": {},
   "outputs": [],
   "source": []
  },
  {
   "cell_type": "code",
   "execution_count": null,
   "id": "ecf762a7",
   "metadata": {},
   "outputs": [],
   "source": []
  }
 ],
 "metadata": {
  "kernelspec": {
   "display_name": "Python 3 (ipykernel)",
   "language": "python",
   "name": "python3"
  },
  "language_info": {
   "codemirror_mode": {
    "name": "ipython",
    "version": 3
   },
   "file_extension": ".py",
   "mimetype": "text/x-python",
   "name": "python",
   "nbconvert_exporter": "python",
   "pygments_lexer": "ipython3",
   "version": "3.10.9"
  },
  "toc": {
   "base_numbering": 1,
   "nav_menu": {},
   "number_sections": false,
   "sideBar": true,
   "skip_h1_title": false,
   "title_cell": "Table of Contents",
   "title_sidebar": "Contents",
   "toc_cell": false,
   "toc_position": {},
   "toc_section_display": true,
   "toc_window_display": false
  }
 },
 "nbformat": 4,
 "nbformat_minor": 5
}
