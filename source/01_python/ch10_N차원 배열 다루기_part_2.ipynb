{
 "cells": [
  {
   "cell_type": "code",
   "execution_count": 1,
   "id": "fd66f930",
   "metadata": {},
   "outputs": [
    {
     "data": {
      "text/html": [
       "\n",
       "<style>\n",
       "div.container{width:86% !important;}\n",
       "div.cell.code_cell.rendered{width:100%;}\n",
       "div.CodeMirror {font-family:Consolas; font-size:12pt;}\n",
       "div.output {font-size:12pt; font-weight:bold;}\n",
       "div.input {font-family:Consolas; font-size:12pt;}\n",
       "div.prompt {min-width:70px;}\n",
       "div#toc-wrapper{padding-top:120px;}\n",
       "div.text_cell_render ul li{font-size:12pt;padding:5px;}\n",
       "table.dataframe{font-size:12px;}\n",
       "</style>\n"
      ],
      "text/plain": [
       "<IPython.core.display.HTML object>"
      ]
     },
     "metadata": {},
     "output_type": "display_data"
    }
   ],
   "source": [
    "from IPython.display import display, HTML\n",
    "display(HTML(\"\"\"\n",
    "<style>\n",
    "div.container{width:86% !important;}\n",
    "div.cell.code_cell.rendered{width:100%;}\n",
    "div.CodeMirror {font-family:Consolas; font-size:12pt;}\n",
    "div.output {font-size:12pt; font-weight:bold;}\n",
    "div.input {font-family:Consolas; font-size:12pt;}\n",
    "div.prompt {min-width:70px;}\n",
    "div#toc-wrapper{padding-top:120px;}\n",
    "div.text_cell_render ul li{font-size:12pt;padding:5px;}\n",
    "table.dataframe{font-size:12px;}\n",
    "</style>\n",
    "\"\"\"))"
   ]
  },
  {
   "cell_type": "markdown",
   "id": "0c6e8066",
   "metadata": {},
   "source": [
    "<b><font size=\"5\" color=\"red\">ch10_N차원 배열 다루기_part.2</font></b>\n",
    "\n",
    "# 4절. 복사와 뷰\n",
    "## 4.1 할당"
   ]
  },
  {
   "cell_type": "code",
   "execution_count": 2,
   "id": "d9ffc7a4",
   "metadata": {},
   "outputs": [],
   "source": [
    "import numpy as np"
   ]
  },
  {
   "cell_type": "code",
   "execution_count": 3,
   "id": "47d172bc",
   "metadata": {},
   "outputs": [
    {
     "data": {
      "text/plain": [
       "array([0, 1, 2, 3, 4, 5])"
      ]
     },
     "execution_count": 3,
     "metadata": {},
     "output_type": "execute_result"
    }
   ],
   "source": [
    "a = np.arange(6)\n",
    "a"
   ]
  },
  {
   "cell_type": "code",
   "execution_count": 10,
   "id": "20c24dd0",
   "metadata": {},
   "outputs": [
    {
     "data": {
      "text/plain": [
       "array([0, 1, 2, 3, 4, 5])"
      ]
     },
     "execution_count": 10,
     "metadata": {},
     "output_type": "execute_result"
    }
   ],
   "source": [
    "b = a \n",
    "b"
   ]
  },
  {
   "cell_type": "code",
   "execution_count": 5,
   "id": "d38e5263",
   "metadata": {},
   "outputs": [
    {
     "data": {
      "text/plain": [
       "True"
      ]
     },
     "execution_count": 5,
     "metadata": {},
     "output_type": "execute_result"
    }
   ],
   "source": [
    "# a와 b가 같은 객체냐?\n",
    "a is b"
   ]
  },
  {
   "cell_type": "code",
   "execution_count": 11,
   "id": "caa85032",
   "metadata": {},
   "outputs": [
    {
     "data": {
      "text/plain": [
       "array([[0, 1, 2],\n",
       "       [3, 4, 5]])"
      ]
     },
     "execution_count": 11,
     "metadata": {},
     "output_type": "execute_result"
    }
   ],
   "source": [
    "b.reshape((2,3))"
   ]
  },
  {
   "cell_type": "markdown",
   "id": "597896de",
   "metadata": {},
   "source": [
    "## 4.2 view\n",
    "- 슬라이싱할 경우 자동 view 생성"
   ]
  },
  {
   "cell_type": "code",
   "execution_count": 13,
   "id": "fa710301",
   "metadata": {},
   "outputs": [
    {
     "data": {
      "text/plain": [
       "array([[ 0,  1,  2,  3,  4,  5],\n",
       "       [ 6,  7,  8,  9, 10, 11]])"
      ]
     },
     "execution_count": 13,
     "metadata": {},
     "output_type": "execute_result"
    }
   ],
   "source": [
    "c = np.arange(12).reshape(2,-1)\n",
    "c"
   ]
  },
  {
   "cell_type": "code",
   "execution_count": 19,
   "id": "789a0e93",
   "metadata": {},
   "outputs": [
    {
     "name": "stdout",
     "output_type": "stream",
     "text": [
      "[[ 0  1  2  3  4  5]\n",
      " [ 6  7  8  9 10 11]]\n",
      "[[ 0  1  2  3  4  5]\n",
      " [ 6  7  8  9 10 11]]\n",
      "False\n",
      "True\n",
      "2217431719280 2217419354448\n"
     ]
    }
   ],
   "source": [
    "d = c.view()  # c의 뷰를 생성\n",
    "print(c)\n",
    "print(d)\n",
    "print(d is c) # c객체와 d객체가 같냐?\n",
    "print(np.all(c==d)) # 각 요소의 값은 같으냐?\n",
    "print(id(c), id(d)) # 역시 주소는 다름"
   ]
  },
  {
   "cell_type": "code",
   "execution_count": 28,
   "id": "eccec0de",
   "metadata": {},
   "outputs": [
    {
     "data": {
      "text/plain": [
       "(array([[-99,   1, -99,   3],\n",
       "        [  4,   5,   6,   7],\n",
       "        [  8,   9,  10,  11]]),\n",
       " array([[-99,   1, -99,   3,   4,   5],\n",
       "        [  6,   7,   8,   9,  10,  11]]))"
      ]
     },
     "execution_count": 28,
     "metadata": {},
     "output_type": "execute_result"
    }
   ],
   "source": [
    "d.shape = (3,4)  # d 구조를 바꾸자 d의 구조만 바뀌었다\n",
    "d ,c"
   ]
  },
  {
   "cell_type": "code",
   "execution_count": 29,
   "id": "d9fcb8ae",
   "metadata": {},
   "outputs": [
    {
     "data": {
      "text/plain": [
       "(array([[-99,   1, -99,   3],\n",
       "        [  4,   5,   6,   7],\n",
       "        [  8,   9,  10,  11]]),\n",
       " array([[-99,   1, -99,   3,   4,   5],\n",
       "        [  6,   7,   8,   9,  10,  11]]))"
      ]
     },
     "execution_count": 29,
     "metadata": {},
     "output_type": "execute_result"
    }
   ],
   "source": [
    "d[0,::2] = -99  # d의 값을 바꾸자, c의 값은 바뀌었다\n",
    "d, c"
   ]
  },
  {
   "cell_type": "code",
   "execution_count": 30,
   "id": "dfdfd6cc",
   "metadata": {},
   "outputs": [
    {
     "data": {
      "text/plain": [
       "array([[ 0,  1,  2,  3,  4,  5],\n",
       "       [ 6,  7,  8,  9, 10, 11]])"
      ]
     },
     "execution_count": 30,
     "metadata": {},
     "output_type": "execute_result"
    }
   ],
   "source": [
    "# 슬라이싱이 될 때 자동뷰가 반환됨\n",
    "c = np.arange(12).reshape(2,-1)\n",
    "c"
   ]
  },
  {
   "cell_type": "code",
   "execution_count": 31,
   "id": "1bf1788e",
   "metadata": {},
   "outputs": [
    {
     "data": {
      "text/plain": [
       "array([[ 0,  1,  2,  3,  4],\n",
       "       [ 6,  7,  8,  9, 10]])"
      ]
     },
     "execution_count": 31,
     "metadata": {},
     "output_type": "execute_result"
    }
   ],
   "source": [
    "d = c[:, :-1]\n",
    "d"
   ]
  },
  {
   "cell_type": "markdown",
   "id": "7457b4b9",
   "metadata": {},
   "source": [
    "## 4.3 깊은 복사"
   ]
  },
  {
   "cell_type": "code",
   "execution_count": 32,
   "id": "2710b886",
   "metadata": {},
   "outputs": [
    {
     "data": {
      "text/plain": [
       "array([[ 0,  1,  2,  3,  4,  5],\n",
       "       [ 6,  7,  8,  9, 10, 11]])"
      ]
     },
     "execution_count": 32,
     "metadata": {},
     "output_type": "execute_result"
    }
   ],
   "source": [
    "c = np.arange(12).reshape(2,-1)\n",
    "c"
   ]
  },
  {
   "cell_type": "code",
   "execution_count": 38,
   "id": "8bfda63a",
   "metadata": {},
   "outputs": [
    {
     "data": {
      "text/plain": [
       "(array([[ 0,  1,  2, 99,  4],\n",
       "        [ 6,  7,  8, 99, 10]]),\n",
       " array([[ 0,  1,  2,  3,  4,  5],\n",
       "        [ 6,  7,  8,  9, 10, 11]]))"
      ]
     },
     "execution_count": 38,
     "metadata": {},
     "output_type": "execute_result"
    }
   ],
   "source": [
    "d = c[:,:-1].copy()  # 슬라이싱 값을 할당할때는 깊은 복사를 해야한다\n",
    "d[...,-2] = 99\n",
    "d,c"
   ]
  },
  {
   "cell_type": "markdown",
   "id": "2e339ec4",
   "metadata": {},
   "source": [
    "# 5절. 고급인덱싱\n",
    "## 5.1 인덱스 배열로 인덱싱"
   ]
  },
  {
   "cell_type": "code",
   "execution_count": 56,
   "id": "b07b0b7a",
   "metadata": {},
   "outputs": [
    {
     "data": {
      "text/plain": [
       "array([  0,   1,   4,   9,  16,  25,  36,  49,  64,  81, 100, 121])"
      ]
     },
     "execution_count": 56,
     "metadata": {},
     "output_type": "execute_result"
    }
   ],
   "source": [
    "a = np.arange(12)**2\n",
    "a"
   ]
  },
  {
   "cell_type": "code",
   "execution_count": 45,
   "id": "2fdf0133",
   "metadata": {},
   "outputs": [
    {
     "data": {
      "text/plain": [
       "array([ 0,  0,  1, 25])"
      ]
     },
     "execution_count": 45,
     "metadata": {},
     "output_type": "execute_result"
    }
   ],
   "source": [
    "a[ [0, 0, 1, 5] ]"
   ]
  },
  {
   "cell_type": "code",
   "execution_count": 47,
   "id": "e3ddf861",
   "metadata": {},
   "outputs": [
    {
     "data": {
      "text/plain": [
       "array([ 0,  0,  1, 25])"
      ]
     },
     "execution_count": 47,
     "metadata": {},
     "output_type": "execute_result"
    }
   ],
   "source": [
    "# 인덱싱 하기 위한 값을 배열로 만들\n",
    "i = np.array([0,0,1,5])\n",
    "a[i]"
   ]
  },
  {
   "cell_type": "code",
   "execution_count": 58,
   "id": "e8a2b97b",
   "metadata": {},
   "outputs": [
    {
     "data": {
      "text/plain": [
       "array([ 0,  4,  9, 16])"
      ]
     },
     "execution_count": 58,
     "metadata": {},
     "output_type": "execute_result"
    }
   ],
   "source": [
    "# 인덱싱 하기 위한 값을 배열로 만듦\n",
    "j = np.array([0,2,3,4])\n",
    "a[j]"
   ]
  },
  {
   "cell_type": "code",
   "execution_count": null,
   "id": "70ded3ab",
   "metadata": {},
   "outputs": [],
   "source": []
  },
  {
   "cell_type": "code",
   "execution_count": 51,
   "id": "b277c1d8",
   "metadata": {},
   "outputs": [
    {
     "data": {
      "text/plain": [
       "128"
      ]
     },
     "execution_count": 51,
     "metadata": {},
     "output_type": "execute_result"
    }
   ],
   "source": [
    "# 그림파일을 가져올때 각 픽셀마다 색값을 가지고 있으므로, 일일히 쳐내기 어렵다\n",
    "image_data = [[[255,255,255],\n",
    "              [255,255,255],\n",
    "              [255,255,255],\n",
    "              [0,0,0]]"
   ]
  },
  {
   "cell_type": "code",
   "execution_count": 52,
   "id": "eb02ebee",
   "metadata": {},
   "outputs": [],
   "source": [
    "                    #R G B\n",
    "palette = np.array([[0,0,0], # black\n",
    "                   [255,0,0],  # red\n",
    "                   [0,255,0],  # green\n",
    "                   [0,0,255],  # blue          \n",
    "                   [255,255,255],]) # white"
   ]
  },
  {
   "cell_type": "code",
   "execution_count": 54,
   "id": "29fce364",
   "metadata": {},
   "outputs": [],
   "source": [
    "image_index = np.array([[4,4,4,0,0,0,0,4,4,4],\n",
    "                        [4,0,0,4,4,4,4,0,0,4],\n",
    "                        [0,0,4,4,4,4,4,4,0,0],\n",
    "                        [0,4,4,1,4,4,3,4,4,0],\n",
    "                        [0,4,4,1,4,4,3,4,4,0],\n",
    "                        [0,4,4,4,4,4,4,4,4,0],\n",
    "                        [0,4,4,2,4,4,2,4,4,0],\n",
    "                        [4,0,4,4,2,2,4,4,0,4],\n",
    "                        [4,4,0,4,4,4,4,0,4,4],\n",
    "                        [4,4,4,0,0,0,0,4,4,4]])\n",
    "image_data = palette[image_index]"
   ]
  },
  {
   "cell_type": "code",
   "execution_count": 55,
   "id": "12f589a3",
   "metadata": {},
   "outputs": [
    {
     "data": {
      "image/png": "[encoded data removed]",
      "text/plain": [
       "<Figure size 640x480 with 1 Axes>"
      ]
     },
     "metadata": {},
     "output_type": "display_data"
    }
   ],
   "source": [
    "from matplotlib import pyplot as plt\n",
    "%matplotlib inline\n",
    "plt.imshow(image_data, interpolation='nearest')\n",
    "plt.show()"
   ]
  },
  {
   "cell_type": "markdown",
   "id": "c41adf5b",
   "metadata": {},
   "source": [
    "## 5.2 논리배열을 이용한 인덱싱"
   ]
  },
  {
   "cell_type": "code",
   "execution_count": 63,
   "id": "320b06ce",
   "metadata": {},
   "outputs": [
    {
     "data": {
      "text/plain": [
       "array([ True, False,  True, False,  True, False,  True, False,  True,\n",
       "       False,  True, False,  True, False,  True, False,  True, False,\n",
       "        True, False])"
      ]
     },
     "execution_count": 63,
     "metadata": {},
     "output_type": "execute_result"
    }
   ],
   "source": [
    "a= np.arange(20)\n",
    "a%2 ==0"
   ]
  },
  {
   "cell_type": "code",
   "execution_count": 65,
   "id": "b330dd86",
   "metadata": {},
   "outputs": [
    {
     "data": {
      "text/plain": [
       "array([ 0,  2,  4,  6,  8, 10, 12, 14, 16, 18])"
      ]
     },
     "execution_count": 65,
     "metadata": {},
     "output_type": "execute_result"
    }
   ],
   "source": [
    "a[[ True, False,  True, False,  True, False,  True, False,  True,\n",
    "       False,  True, False,  True, False,  True, False,  True, False,\n",
    "        True, False]]"
   ]
  },
  {
   "cell_type": "code",
   "execution_count": 67,
   "id": "9fe82b02",
   "metadata": {},
   "outputs": [
    {
     "data": {
      "text/plain": [
       "array([ 0,  2,  4,  6,  8, 10, 12, 14, 16, 18])"
      ]
     },
     "execution_count": 67,
     "metadata": {},
     "output_type": "execute_result"
    }
   ],
   "source": [
    "a[a%2==0] # 논리 배열을 이용한 인덱싱 시 True 요소만 추출, 논리 배열은 1차원이므로, 1차원만 출력 가능"
   ]
  },
  {
   "cell_type": "code",
   "execution_count": 66,
   "id": "48dcbcbb",
   "metadata": {},
   "outputs": [
    {
     "data": {
      "text/plain": [
       "array([13, 14, 15, 16, 17, 18, 19])"
      ]
     },
     "execution_count": 66,
     "metadata": {},
     "output_type": "execute_result"
    }
   ],
   "source": [
    "# a 에서 12보다 큰 값만 추출\n",
    "a[a>12]"
   ]
  },
  {
   "cell_type": "markdown",
   "id": "58e7e5c8",
   "metadata": {},
   "source": [
    "# 6절. 선형대수\n",
    "- 2차원 넘파이배열을 행렬\n",
    "    - 행렬 곱 : @, dot(), 단위행렬(정방행렬)\n",
    "    - 역행렬 : np.linalg.inv(행렬) -> 역행렬@행렬 = 단위행렬\n",
    "    - 전치행렬 : 행렬.T / 행렬.transpose() "
   ]
  },
  {
   "cell_type": "code",
   "execution_count": 69,
   "id": "943d8b29",
   "metadata": {},
   "outputs": [
    {
     "data": {
      "text/plain": [
       "array([[1, 2],\n",
       "       [3, 4]])"
      ]
     },
     "execution_count": 69,
     "metadata": {},
     "output_type": "execute_result"
    }
   ],
   "source": [
    "a = np.array([[1,2],\n",
    "            [3,4]])\n",
    "a "
   ]
  },
  {
   "cell_type": "code",
   "execution_count": 70,
   "id": "d5374ca7",
   "metadata": {},
   "outputs": [
    {
     "data": {
      "text/plain": [
       "array([[-2. ,  1. ],\n",
       "       [ 1.5, -0.5]])"
      ]
     },
     "execution_count": 70,
     "metadata": {},
     "output_type": "execute_result"
    }
   ],
   "source": [
    "# a의 역행렬 <- 왜만들까? 단위행렬을 만들어 가중치를 구하기 위함이다\n",
    "np.linalg.inv(a)"
   ]
  },
  {
   "cell_type": "code",
   "execution_count": 71,
   "id": "6f1af9bd",
   "metadata": {},
   "outputs": [
    {
     "data": {
      "text/plain": [
       "array([[1.0000000e+00, 4.4408921e-16],\n",
       "       [0.0000000e+00, 1.0000000e+00]])"
      ]
     },
     "execution_count": 71,
     "metadata": {},
     "output_type": "execute_result"
    }
   ],
   "source": [
    "np.linalg.inv(a) @ a"
   ]
  },
  {
   "cell_type": "markdown",
   "id": "0436f5b2",
   "metadata": {},
   "source": [
    "## 6.1 선형 연립방정식 풀기(독립변수1,데이터2)"
   ]
  },
  {
   "cell_type": "code",
   "execution_count": 76,
   "id": "a476a0f1",
   "metadata": {},
   "outputs": [
    {
     "data": {
      "text/plain": [
       "array([[[2., 1.],\n",
       "        [4., 1.]]])"
      ]
     },
     "execution_count": 76,
     "metadata": {},
     "output_type": "execute_result"
    }
   ],
   "source": [
    "x = np.array([2,4])\n",
    "Y = np.array([40,60])\n",
    "X = np.dstack( (x, np.ones(len(x))) )\n",
    "X"
   ]
  },
  {
   "cell_type": "code",
   "execution_count": 77,
   "id": "cd2afa3a",
   "metadata": {},
   "outputs": [
    {
     "data": {
      "text/plain": [
       "array([[10., 20.]])"
      ]
     },
     "execution_count": 77,
     "metadata": {},
     "output_type": "execute_result"
    }
   ],
   "source": [
    "# X @ wb = Y\n",
    "# X의 역행렬 @ X @ wb = X의 역행렬 @ Y   / X의 역행렬 @ X = 단위행렬\n",
    "# wb = X의 역행렬 @ Y\n",
    "wb = np.linalg.inv(X) @ Y\n",
    "wb"
   ]
  },
  {
   "cell_type": "code",
   "execution_count": 79,
   "id": "7105c261",
   "metadata": {},
   "outputs": [
    {
     "data": {
      "text/plain": [
       "[<matplotlib.lines.Line2D at 0x20449e57af0>]"
      ]
     },
     "execution_count": 79,
     "metadata": {},
     "output_type": "execute_result"
    },
    {
     "data": {
      "image/png": "[encoded data removed]",
      "text/plain": [
       "<Figure size 640x480 with 1 Axes>"
      ]
     },
     "metadata": {},
     "output_type": "display_data"
    }
   ],
   "source": [
    "plt.scatter(x,y)  # 점 그래프로 점을 찍어줌\n",
    "plt.plot(x, 10*x+20, 'r') # x와 y의 값을 받아 그 점을 잇는 선을 그려줌"
   ]
  },
  {
   "cell_type": "code",
   "execution_count": null,
   "id": "814bfe45",
   "metadata": {},
   "outputs": [],
   "source": []
  }
 ],
 "metadata": {
  "kernelspec": {
   "display_name": "Python 3 (ipykernel)",
   "language": "python",
   "name": "python3"
  },
  "language_info": {
   "codemirror_mode": {
    "name": "ipython",
    "version": 3
   },
   "file_extension": ".py",
   "mimetype": "text/x-python",
   "name": "python",
   "nbconvert_exporter": "python",
   "pygments_lexer": "ipython3",
   "version": "3.10.9"
  },
  "toc": {
   "base_numbering": 1,
   "nav_menu": {},
   "number_sections": false,
   "sideBar": true,
   "skip_h1_title": false,
   "title_cell": "Table of Contents",
   "title_sidebar": "Contents",
   "toc_cell": false,
   "toc_position": {},
   "toc_section_display": true,
   "toc_window_display": false
  }
 },
 "nbformat": 4,
 "nbformat_minor": 5
}
