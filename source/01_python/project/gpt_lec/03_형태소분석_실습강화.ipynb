{
  "cells": [
    {
      "cell_type": "markdown",
      "metadata": {},
      "source": [
        "# 03. 텍스트 전처리와 형태소 분석\n",
        "이 노트북에서는 KoNLPy를 사용하여 한국어 텍스트를 전처리하고,\n",
        "형태소 단위로 분석하는 실습을 수행합니다."
      ]
    },
    {
      "cell_type": "code",
      "execution_count": null,
      "metadata": {},
      "outputs": [],
      "source": [
        "# 설치 (최초 1회만 실행 필요)\n",
        "# !pip install konlpy"
      ]
    },
    {
      "cell_type": "code",
      "execution_count": null,
      "metadata": {},
      "outputs": [],
      "source": [
        "from konlpy.tag import Okt\n",
        "okt = Okt()"
      ]
    },
    {
      "cell_type": "markdown",
      "metadata": {},
      "source": [
        "## 기본 예제: 텍스트 분석"
      ]
    },
    {
      "cell_type": "code",
      "execution_count": null,
      "metadata": {},
      "outputs": [],
      "source": [
        "text = '자연어 처리는 재밌지만 어렵다'\n",
        "print(\"형태소:\", okt.morphs(text))\n",
        "print(\"명사 추출:\", okt.nouns(text))\n",
        "print(\"품사 태깅:\", okt.pos(text))"
      ]
    },
    {
      "cell_type": "markdown",
      "metadata": {},
      "source": [
        "## 상품명 실습"
      ]
    },
    {
      "cell_type": "code",
      "execution_count": null,
      "metadata": {},
      "outputs": [],
      "source": [
        "product_names = [\n",
        "    '나이키 에어맥스 270 화이트 남성 운동화',\n",
        "    '아디다스 오즈위고 트리플블랙 여성용 런닝화',\n",
        "    '뉴발란스 574 그레이 남자 캐주얼 신발'\n",
        "]\n",
        "\n",
        "for name in product_names:\n",
        "    print(f\"상품명: {name}\")\n",
        "    print(\"명사:\", okt.nouns(name))\n",
        "    print(\"---\")"
      ]
    },
    {
      "cell_type": "markdown",
      "metadata": {},
      "source": [
        "## 사용자 정의 전처리 함수 예제"
      ]
    },
    {
      "cell_type": "code",
      "execution_count": null,
      "metadata": {},
      "outputs": [],
      "source": [
        "def preprocess(text):\n",
        "    nouns = okt.nouns(text)\n",
        "    return [n for n in nouns if len(n) > 1]  # 한 글자 명사 제거\n",
        "\n",
        "cleaned = preprocess('아디다스 오즈위고 트리플블랙 여성용 런닝화')\n",
        "print(\"전처리 결과:\", cleaned)"
      ]
    },
    {
      "cell_type": "markdown",
      "metadata": {},
      "source": [
        "## 연습문제 1\n",
        "**다음 상품명을 형태소 분석하고, 명사만 추출한 리스트를 만드세요.**\n\n",
        "- '삼성 갤럭시 버즈2 프로 블루투스 이어폰'\n",
        "- 'LG 톤프리 무선이어폰 블랙 색상'\n"
      ]
    },
    {
      "cell_type": "code",
      "execution_count": null,
      "metadata": {},
      "outputs": [],
      "source": [
        "# 여기에 코드를 작성하세요\n",
        "sample1 = '삼성 갤럭시 버즈2 프로 블루투스 이어폰'\n",
        "sample2 = 'LG 톤프리 무선이어폰 블랙 색상'\n",
        "# 예: print(okt.nouns(sample1))"
      ]
    },
    {
      "cell_type": "markdown",
      "metadata": {},
      "source": [
        "## 연습문제 2\n",
        "**다음 상품명 리스트에서 명사만 추출하고, 전체 고유 명사 목록을 만들어보세요.**\n"
      ]
    },
    {
      "cell_type": "code",
      "execution_count": null,
      "metadata": {},
      "outputs": [],
      "source": [
        "products = [\n",
        "    '아이폰 15 프로맥스 실버 256GB',\n",
        "    '갤럭시 S24 울트라 512GB 블랙',\n",
        "    '샤오미 미밴드 8 블랙'\n",
        "]\n",
        "\n",
        "unique_nouns = set()\n",
        "for p in products:\n",
        "    unique_nouns.update(okt.nouns(p))\n",
        "\n",
        "print(\"전체 고유 명사:\", sorted(unique_nouns))"
      ]
    }
  ],
  "metadata": {
    "kernelspec": {
      "display_name": "Python 3",
      "language": "python",
      "name": "python3"
    },
    "language_info": {
      "name": "python",
      "version": "3.9"
    }
  },
  "nbformat": 4,
  "nbformat_minor": 2
}