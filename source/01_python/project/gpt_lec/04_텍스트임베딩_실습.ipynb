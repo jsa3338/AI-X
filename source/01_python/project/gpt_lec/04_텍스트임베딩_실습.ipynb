{
  "cells": [
    {
      "cell_type": "markdown",
      "metadata": {},
      "source": [
        "# 04. 텍스트 임베딩 실습\n",
        "TF-IDF와 BERT를 사용해 문장을 벡터화하고, 유사도를 계산해보는 실습입니다."
      ]
    },
    {
      "cell_type": "code",
      "execution_count": null,
      "metadata": {},
      "outputs": [],
      "source": [
        "# TF-IDF용 sklearn 설치 (최초 1회)\n",
        "# !pip install scikit-learn"
      ]
    },
    {
      "cell_type": "markdown",
      "metadata": {},
      "source": [
        "## 1. TF-IDF 벡터화 예제"
      ]
    },
    {
      "cell_type": "code",
      "execution_count": null,
      "metadata": {},
      "outputs": [],
      "source": [
        "from sklearn.feature_extraction.text import TfidfVectorizer\n",
        "\n",
        "corpus = [\n",
        "    '나이키 에어맥스 270 화이트 남성 운동화',\n",
        "    '아디다스 오즈위고 블랙 여성용 러닝화',\n",
        "    '뉴발란스 574 그레이 남자 캐주얼 신발'\n",
        "]\n",
        "\n",
        "vectorizer = TfidfVectorizer()\n",
        "X = vectorizer.fit_transform(corpus)\n",
        "\n",
        "print(\"단어 목록:\", vectorizer.get_feature_names_out())\n",
        "print(\"TF-IDF 행렬:\")\n",
        "print(X.toarray())"
      ]
    },
    {
      "cell_type": "markdown",
      "metadata": {},
      "source": [
        "## 2. 문장 간 유사도 계산 (TF-IDF + 코사인 유사도)"
      ]
    },
    {
      "cell_type": "code",
      "execution_count": null,
      "metadata": {},
      "outputs": [],
      "source": [
        "from sklearn.metrics.pairwise import cosine_similarity\n",
        "\n",
        "cos_sim = cosine_similarity(X)\n",
        "print(\"코사인 유사도 행렬:\")\n",
        "print(cos_sim)"
      ]
    },
    {
      "cell_type": "markdown",
      "metadata": {},
      "source": [
        "## 3. BERT 임베딩 사용 예제"
      ]
    },
    {
      "cell_type": "code",
      "execution_count": null,
      "metadata": {},
      "outputs": [],
      "source": [
        "# sentence-transformers 설치 필요\n",
        "# !pip install sentence-transformers"
      ]
    },
    {
      "cell_type": "code",
      "execution_count": null,
      "metadata": {},
      "outputs": [],
      "source": [
        "from sentence_transformers import SentenceTransformer, util\n",
        "\n",
        "model = SentenceTransformer('paraphrase-MiniLM-L6-v2')\n",
        "sentences = [\n",
        "    '나이키 운동화 화이트',\n",
        "    '아디다스 신발 블랙 여성용',\n",
        "    '뉴발란스 574 그레이'\n",
        "]\n",
        "\n",
        "embeddings = model.encode(sentences)\n",
        "bert_sim = util.cos_sim(embeddings, embeddings)\n",
        "print(\"BERT 코사인 유사도:\")\n",
        "print(bert_sim)"
      ]
    },
    {
      "cell_type": "markdown",
      "metadata": {},
      "source": [
        "## 연습문제\n",
        "1. TF-IDF로 상품명을 벡터화하고, 가장 유사한 두 상품을 찾아보세요.\n",
        "2. BERT 임베딩으로 검색어 '여성용 운동화'와 가장 유사한 상품명을 찾아보세요."
      ]
    }
  ],
  "metadata": {
    "kernelspec": {
      "display_name": "Python 3",
      "language": "python",
      "name": "python3"
    },
    "language_info": {
      "name": "python",
      "version": "3.9"
    }
  },
  "nbformat": 4,
  "nbformat_minor": 2
}