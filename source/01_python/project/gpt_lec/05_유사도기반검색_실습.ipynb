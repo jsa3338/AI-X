{
  "cells": [
    {
      "cell_type": "markdown",
      "metadata": {},
      "source": [
        "# 05. 유사도 기반 검색 실습\n",
        "사용자 쿼리와 상품명을 벡터화하고, 유사도 계산을 통해 가장 관련 높은 상품을 추출합니다."
      ]
    },
    {
      "cell_type": "code",
      "execution_count": null,
      "metadata": {},
      "outputs": [],
      "source": [
        "# 필요한 라이브러리 설치 (최초 1회)\n",
        "# !pip install scikit-learn sentence-transformers"
      ]
    },
    {
      "cell_type": "markdown",
      "metadata": {},
      "source": [
        "## 1. TF-IDF 기반 검색 실습"
      ]
    },
    {
      "cell_type": "code",
      "execution_count": null,
      "metadata": {},
      "outputs": [],
      "source": [
        "from sklearn.feature_extraction.text import TfidfVectorizer\n",
        "from sklearn.metrics.pairwise import cosine_similarity\n",
        "\n",
        "products = [\n",
        "    '나이키 에어맥스 270 화이트 남성 운동화',\n",
        "    '아디다스 오즈위고 블랙 여성용 조깅화',\n",
        "    '뉴발란스 574 그레이 남자 캐주얼 신발',\n",
        "    '리복 클래식 흰색 트레이닝화 여성용'\n",
        "]\n",
        "\n",
        "query = ['흰색 여자 러닝화']\n",
        "\n",
        "vectorizer = TfidfVectorizer()\n",
        "tfidf_matrix = vectorizer.fit_transform(products + query)\n",
        "\n",
        "cos_sim = cosine_similarity(tfidf_matrix[-1], tfidf_matrix[:-1])\n",
        "for idx, score in enumerate(cos_sim[0]):\n",
        "    print(f\"유사도 {score:.2f} → {products[idx]}\")"
      ]
    },
    {
      "cell_type": "markdown",
      "metadata": {},
      "source": [
        "## 2. BERT 임베딩 기반 유사도 검색"
      ]
    },
    {
      "cell_type": "code",
      "execution_count": null,
      "metadata": {},
      "outputs": [],
      "source": [
        "from sentence_transformers import SentenceTransformer, util\n",
        "\n",
        "model = SentenceTransformer('paraphrase-MiniLM-L6-v2')\n",
        "query_text = '흰색 여자 러닝화'\n",
        "\n",
        "product_embeddings = model.encode(products)\n",
        "query_embedding = model.encode(query_text)\n",
        "\n",
        "similarities = util.cos_sim(query_embedding, product_embeddings)[0]\n",
        "for i, score in enumerate(similarities):\n",
        "    print(f\"유사도 {score:.2f} → {products[i]}\")"
      ]
    },
    {
      "cell_type": "markdown",
      "metadata": {},
      "source": [
        "## 연습문제\n",
        "1. 쿼리를 '남성용 블랙 캐주얼 운동화'로 바꾸고 유사도가 가장 높은 상품을 출력해보세요.\n",
        "2. 상품명을 2개 이상 추가해서 실험해보세요."
      ]
    }
  ],
  "metadata": {
    "kernelspec": {
      "display_name": "Python 3",
      "language": "python",
      "name": "python3"
    },
    "language_info": {
      "name": "python",
      "version": "3.9"
    }
  },
  "nbformat": 4,
  "nbformat_minor": 2
}